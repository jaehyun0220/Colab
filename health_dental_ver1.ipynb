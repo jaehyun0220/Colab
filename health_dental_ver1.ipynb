{
  "nbformat": 4,
  "nbformat_minor": 0,
  "metadata": {
    "kernelspec": {
      "name": "python3",
      "display_name": "Python 3"
    },
    "language_info": {
      "codemirror_mode": {
        "name": "ipython",
        "version": 3
      },
      "file_extension": ".py",
      "mimetype": "text/x-python",
      "name": "python",
      "nbconvert_exporter": "python",
      "pygments_lexer": "ipython3",
      "version": "3.6.8"
    },
    "colab": {
      "name": "health_dental_ver1.ipynb",
      "provenance": [],
      "collapsed_sections": [],
      "include_colab_link": true
    },
    "accelerator": "GPU"
  },
  "cells": [
    {
      "cell_type": "markdown",
      "metadata": {
        "id": "view-in-github",
        "colab_type": "text"
      },
      "source": [
        "<a href=\"https://colab.research.google.com/github/jaehyun0220/Colab/blob/master/health_dental_ver1.ipynb\" target=\"_parent\"><img src=\"https://colab.research.google.com/assets/colab-badge.svg\" alt=\"Open In Colab\"/></a>"
      ]
    },
    {
      "cell_type": "code",
      "metadata": {
        "id": "sSbAKlmw4kEe",
        "colab_type": "code",
        "colab": {}
      },
      "source": [
        "import pandas as pd\n",
        "import numpy as np\n",
        "import os, sys\n",
        "\n",
        "import re\n",
        "\n",
        "import tensorflow as tf"
      ],
      "execution_count": 0,
      "outputs": []
    },
    {
      "cell_type": "code",
      "metadata": {
        "id": "7Wo27tSu4kEh",
        "colab_type": "code",
        "colab": {
          "base_uri": "https://localhost:8080/",
          "height": 359
        },
        "outputId": "456f73a2-534e-487c-9588-219724e12014"
      },
      "source": [
        "#Visualization\n",
        "import matplotlib as mpl  # 기본 설정 만지는 용도\n",
        "import matplotlib.pyplot as plt  # 그래프 그리는 용도\n",
        "import matplotlib.font_manager as fm  # 폰트 관련 용도\n",
        "import seaborn as sns\n",
        "\n",
        "#Configure Visualization Defaults\n",
        "#%matplotlib inline = show plots in Jupyter Notebook browser\n",
        "%matplotlib inline\n",
        "mpl.style.use('ggplot')\n",
        "sns.set_style('white')\n",
        "\n",
        "#ignore warnings\n",
        "import warnings\n",
        "warnings.filterwarnings('ignore')\n",
        "\n",
        "# 한글 글꼴 설치\n",
        "!apt-get update -qq\n",
        "!apt-get install fonts-nanum* -qq\n",
        "\n",
        "path = '/usr/share/fonts/truetype/nanum/NanumGothicEco.ttf'  # 설치된 나눔글꼴중 원하는 녀석의 전체 경로를 가져오자\n",
        "font_name = fm.FontProperties(fname=path, size=10).get_name()\n",
        "print(font_name)\n",
        "plt.rc('font', family=font_name)\n",
        "\n",
        "# 우선 fm._rebuild() 를 해주고\n",
        "fm._rebuild()"
      ],
      "execution_count": 207,
      "outputs": [
        {
          "output_type": "stream",
          "text": [
            "Selecting previously unselected package fonts-nanum.\n",
            "(Reading database ... 131183 files and directories currently installed.)\n",
            "Preparing to unpack .../fonts-nanum_20170925-1_all.deb ...\n",
            "Unpacking fonts-nanum (20170925-1) ...\n",
            "Selecting previously unselected package fonts-nanum-eco.\n",
            "Preparing to unpack .../fonts-nanum-eco_1.000-6_all.deb ...\n",
            "Unpacking fonts-nanum-eco (1.000-6) ...\n",
            "Selecting previously unselected package fonts-nanum-extra.\n",
            "Preparing to unpack .../fonts-nanum-extra_20170925-1_all.deb ...\n",
            "Unpacking fonts-nanum-extra (20170925-1) ...\n",
            "Selecting previously unselected package fonts-nanum-coding.\n",
            "Preparing to unpack .../fonts-nanum-coding_2.5-1_all.deb ...\n",
            "Unpacking fonts-nanum-coding (2.5-1) ...\n",
            "Setting up fonts-nanum-extra (20170925-1) ...\n",
            "Setting up fonts-nanum (20170925-1) ...\n",
            "Setting up fonts-nanum-coding (2.5-1) ...\n",
            "Setting up fonts-nanum-eco (1.000-6) ...\n",
            "Processing triggers for fontconfig (2.12.6-0ubuntu2) ...\n",
            "NanumGothic Eco\n"
          ],
          "name": "stdout"
        }
      ]
    },
    {
      "cell_type": "code",
      "metadata": {
        "id": "oERZHfZ04v3N",
        "colab_type": "code",
        "colab": {
          "base_uri": "https://localhost:8080/",
          "height": 127
        },
        "outputId": "1a66b273-1fac-4994-893b-9d05553e0900"
      },
      "source": [
        "# Auth 인증 및 Google Drive 활용 Data load\n",
        "from google.colab import auth\n",
        "auth.authenticate_user()\n",
        "\n",
        "from google.colab import drive\n",
        "drive.mount('/gdrive', force_remount=True)\n",
        "\n",
        "# Google Drive 내 Custom Class 경로 지정\n",
        "import sys\n",
        "sys.path.insert(0, '/gdrive/My Drive/CustomClasses')"
      ],
      "execution_count": 4,
      "outputs": [
        {
          "output_type": "stream",
          "text": [
            "Go to this URL in a browser: https://accounts.google.com/o/oauth2/auth?client_id=947318989803-6bn6qk8qdgf4n4g3pfee6491hc0brc4i.apps.googleusercontent.com&redirect_uri=urn%3Aietf%3Awg%3Aoauth%3A2.0%3Aoob&scope=email%20https%3A%2F%2Fwww.googleapis.com%2Fauth%2Fdocs.test%20https%3A%2F%2Fwww.googleapis.com%2Fauth%2Fdrive%20https%3A%2F%2Fwww.googleapis.com%2Fauth%2Fdrive.photos.readonly%20https%3A%2F%2Fwww.googleapis.com%2Fauth%2Fpeopleapi.readonly&response_type=code\n",
            "\n",
            "Enter your authorization code:\n",
            "··········\n",
            "Mounted at /gdrive\n"
          ],
          "name": "stdout"
        }
      ]
    },
    {
      "cell_type": "code",
      "metadata": {
        "id": "zWj4YSDl4vvE",
        "colab_type": "code",
        "colab": {
          "base_uri": "https://localhost:8080/",
          "height": 35
        },
        "outputId": "dc4a07b9-f277-4820-b603-ee2101663ded"
      },
      "source": [
        "# !ls /gdrive/My\\ Drive/data/sds\n",
        "!ls ../gdrive/My\\ Drive/data/sds"
      ],
      "execution_count": 5,
      "outputs": [
        {
          "output_type": "stream",
          "text": [
            "NHIS_OPEN_GJ_2015.CSV  NHIS_OPEN_GJ_2016.csv  NHIS_OPEN_GJ_2017.CSV\n"
          ],
          "name": "stdout"
        }
      ]
    },
    {
      "cell_type": "markdown",
      "metadata": {
        "id": "kbVgUIo5nNxq",
        "colab_type": "text"
      },
      "source": [
        "## 파일 Read 및 기초 탐색"
      ]
    },
    {
      "cell_type": "code",
      "metadata": {
        "id": "iF7GDYjb4kEi",
        "colab_type": "code",
        "outputId": "e217477c-ddb0-4351-f723-d13cfc5fb14f",
        "colab": {
          "base_uri": "https://localhost:8080/",
          "height": 527
        }
      },
      "source": [
        "df_raw_2016 = pd.read_csv('../gdrive/My Drive/data/sds/NHIS_OPEN_GJ_2016.csv', encoding = 'euc-kr')\n",
        "df_raw_2017 = pd.read_csv('../gdrive/My Drive/data/sds/NHIS_OPEN_GJ_2017.CSV', encoding = 'euc-kr')\n",
        "display(df_raw_2016.head())\n",
        "display(df_raw_2017.head())"
      ],
      "execution_count": 35,
      "outputs": [
        {
          "output_type": "display_data",
          "data": {
            "text/html": [
              "<div>\n",
              "<style scoped>\n",
              "    .dataframe tbody tr th:only-of-type {\n",
              "        vertical-align: middle;\n",
              "    }\n",
              "\n",
              "    .dataframe tbody tr th {\n",
              "        vertical-align: top;\n",
              "    }\n",
              "\n",
              "    .dataframe thead th {\n",
              "        text-align: right;\n",
              "    }\n",
              "</style>\n",
              "<table border=\"1\" class=\"dataframe\">\n",
              "  <thead>\n",
              "    <tr style=\"text-align: right;\">\n",
              "      <th></th>\n",
              "      <th>기준년도</th>\n",
              "      <th>가입자일련번호</th>\n",
              "      <th>성별코드</th>\n",
              "      <th>연령대코드(5세단위)</th>\n",
              "      <th>시도코드</th>\n",
              "      <th>신장(5Cm단위)</th>\n",
              "      <th>체중(5Kg단위)</th>\n",
              "      <th>허리둘레</th>\n",
              "      <th>시력(좌)</th>\n",
              "      <th>시력(우)</th>\n",
              "      <th>청력(좌)</th>\n",
              "      <th>청력(우)</th>\n",
              "      <th>수축기혈압</th>\n",
              "      <th>이완기혈압</th>\n",
              "      <th>식전혈당(공복혈당)</th>\n",
              "      <th>총콜레스테롤</th>\n",
              "      <th>트리글리세라이드</th>\n",
              "      <th>HDL콜레스테롤</th>\n",
              "      <th>LDL콜레스테롤</th>\n",
              "      <th>혈색소</th>\n",
              "      <th>요단백</th>\n",
              "      <th>혈청크레아티닌</th>\n",
              "      <th>(혈청지오티)AST</th>\n",
              "      <th>(혈청지오티)ALT</th>\n",
              "      <th>감마지티피</th>\n",
              "      <th>흡연상태</th>\n",
              "      <th>음주여부</th>\n",
              "      <th>구강검진 수검여부</th>\n",
              "      <th>치아우식증유무</th>\n",
              "      <th>결손치유무</th>\n",
              "      <th>치아마모증유무</th>\n",
              "      <th>제3대구치(사랑니)이상</th>\n",
              "      <th>치석</th>\n",
              "      <th>데이터공개일자</th>\n",
              "    </tr>\n",
              "  </thead>\n",
              "  <tbody>\n",
              "    <tr>\n",
              "      <th>0</th>\n",
              "      <td>2016</td>\n",
              "      <td>1</td>\n",
              "      <td>1</td>\n",
              "      <td>10</td>\n",
              "      <td>27</td>\n",
              "      <td>175.0</td>\n",
              "      <td>75.0</td>\n",
              "      <td>86.0</td>\n",
              "      <td>1.0</td>\n",
              "      <td>1.2</td>\n",
              "      <td>1.0</td>\n",
              "      <td>1.0</td>\n",
              "      <td>140.0</td>\n",
              "      <td>90.0</td>\n",
              "      <td>91.0</td>\n",
              "      <td>263.0</td>\n",
              "      <td>196.0</td>\n",
              "      <td>46.0</td>\n",
              "      <td>177.0</td>\n",
              "      <td>16.0</td>\n",
              "      <td>1.0</td>\n",
              "      <td>0.9</td>\n",
              "      <td>27.0</td>\n",
              "      <td>30.0</td>\n",
              "      <td>45.0</td>\n",
              "      <td>3.0</td>\n",
              "      <td>NaN</td>\n",
              "      <td>0</td>\n",
              "      <td>NaN</td>\n",
              "      <td>NaN</td>\n",
              "      <td>NaN</td>\n",
              "      <td>NaN</td>\n",
              "      <td>NaN</td>\n",
              "      <td>20171219</td>\n",
              "    </tr>\n",
              "    <tr>\n",
              "      <th>1</th>\n",
              "      <td>2016</td>\n",
              "      <td>2</td>\n",
              "      <td>2</td>\n",
              "      <td>11</td>\n",
              "      <td>41</td>\n",
              "      <td>160.0</td>\n",
              "      <td>65.0</td>\n",
              "      <td>85.0</td>\n",
              "      <td>1.5</td>\n",
              "      <td>1.2</td>\n",
              "      <td>1.0</td>\n",
              "      <td>1.0</td>\n",
              "      <td>138.0</td>\n",
              "      <td>80.0</td>\n",
              "      <td>105.0</td>\n",
              "      <td>185.0</td>\n",
              "      <td>262.0</td>\n",
              "      <td>35.0</td>\n",
              "      <td>122.0</td>\n",
              "      <td>13.1</td>\n",
              "      <td>1.0</td>\n",
              "      <td>0.9</td>\n",
              "      <td>18.0</td>\n",
              "      <td>17.0</td>\n",
              "      <td>19.0</td>\n",
              "      <td>1.0</td>\n",
              "      <td>NaN</td>\n",
              "      <td>0</td>\n",
              "      <td>NaN</td>\n",
              "      <td>NaN</td>\n",
              "      <td>NaN</td>\n",
              "      <td>NaN</td>\n",
              "      <td>NaN</td>\n",
              "      <td>20171219</td>\n",
              "    </tr>\n",
              "    <tr>\n",
              "      <th>2</th>\n",
              "      <td>2016</td>\n",
              "      <td>3</td>\n",
              "      <td>2</td>\n",
              "      <td>11</td>\n",
              "      <td>43</td>\n",
              "      <td>150.0</td>\n",
              "      <td>55.0</td>\n",
              "      <td>80.0</td>\n",
              "      <td>1.5</td>\n",
              "      <td>1.5</td>\n",
              "      <td>1.0</td>\n",
              "      <td>1.0</td>\n",
              "      <td>138.0</td>\n",
              "      <td>88.0</td>\n",
              "      <td>93.0</td>\n",
              "      <td>246.0</td>\n",
              "      <td>186.0</td>\n",
              "      <td>59.0</td>\n",
              "      <td>150.0</td>\n",
              "      <td>13.6</td>\n",
              "      <td>1.0</td>\n",
              "      <td>0.7</td>\n",
              "      <td>23.0</td>\n",
              "      <td>19.0</td>\n",
              "      <td>64.0</td>\n",
              "      <td>1.0</td>\n",
              "      <td>NaN</td>\n",
              "      <td>0</td>\n",
              "      <td>NaN</td>\n",
              "      <td>NaN</td>\n",
              "      <td>NaN</td>\n",
              "      <td>NaN</td>\n",
              "      <td>NaN</td>\n",
              "      <td>20171219</td>\n",
              "    </tr>\n",
              "    <tr>\n",
              "      <th>3</th>\n",
              "      <td>2016</td>\n",
              "      <td>4</td>\n",
              "      <td>1</td>\n",
              "      <td>12</td>\n",
              "      <td>48</td>\n",
              "      <td>175.0</td>\n",
              "      <td>70.0</td>\n",
              "      <td>85.0</td>\n",
              "      <td>1.2</td>\n",
              "      <td>1.2</td>\n",
              "      <td>1.0</td>\n",
              "      <td>1.0</td>\n",
              "      <td>124.0</td>\n",
              "      <td>76.0</td>\n",
              "      <td>93.0</td>\n",
              "      <td>179.0</td>\n",
              "      <td>79.0</td>\n",
              "      <td>40.0</td>\n",
              "      <td>123.0</td>\n",
              "      <td>16.8</td>\n",
              "      <td>1.0</td>\n",
              "      <td>1.0</td>\n",
              "      <td>20.0</td>\n",
              "      <td>39.0</td>\n",
              "      <td>69.0</td>\n",
              "      <td>2.0</td>\n",
              "      <td>NaN</td>\n",
              "      <td>1</td>\n",
              "      <td>NaN</td>\n",
              "      <td>NaN</td>\n",
              "      <td>NaN</td>\n",
              "      <td>NaN</td>\n",
              "      <td>1.0</td>\n",
              "      <td>20171219</td>\n",
              "    </tr>\n",
              "    <tr>\n",
              "      <th>4</th>\n",
              "      <td>2016</td>\n",
              "      <td>5</td>\n",
              "      <td>2</td>\n",
              "      <td>6</td>\n",
              "      <td>11</td>\n",
              "      <td>160.0</td>\n",
              "      <td>50.0</td>\n",
              "      <td>67.0</td>\n",
              "      <td>0.4</td>\n",
              "      <td>0.5</td>\n",
              "      <td>1.0</td>\n",
              "      <td>1.0</td>\n",
              "      <td>121.0</td>\n",
              "      <td>68.0</td>\n",
              "      <td>96.0</td>\n",
              "      <td>223.0</td>\n",
              "      <td>104.0</td>\n",
              "      <td>72.0</td>\n",
              "      <td>130.0</td>\n",
              "      <td>12.8</td>\n",
              "      <td>1.0</td>\n",
              "      <td>0.7</td>\n",
              "      <td>13.0</td>\n",
              "      <td>7.0</td>\n",
              "      <td>20.0</td>\n",
              "      <td>1.0</td>\n",
              "      <td>NaN</td>\n",
              "      <td>0</td>\n",
              "      <td>NaN</td>\n",
              "      <td>NaN</td>\n",
              "      <td>NaN</td>\n",
              "      <td>NaN</td>\n",
              "      <td>NaN</td>\n",
              "      <td>20171219</td>\n",
              "    </tr>\n",
              "  </tbody>\n",
              "</table>\n",
              "</div>"
            ],
            "text/plain": [
              "   기준년도  가입자일련번호  성별코드  연령대코드(5세단위)  ...  치아마모증유무  제3대구치(사랑니)이상   치석   데이터공개일자\n",
              "0  2016        1     1           10  ...      NaN           NaN  NaN  20171219\n",
              "1  2016        2     2           11  ...      NaN           NaN  NaN  20171219\n",
              "2  2016        3     2           11  ...      NaN           NaN  NaN  20171219\n",
              "3  2016        4     1           12  ...      NaN           NaN  1.0  20171219\n",
              "4  2016        5     2            6  ...      NaN           NaN  NaN  20171219\n",
              "\n",
              "[5 rows x 34 columns]"
            ]
          },
          "metadata": {
            "tags": []
          }
        },
        {
          "output_type": "display_data",
          "data": {
            "text/html": [
              "<div>\n",
              "<style scoped>\n",
              "    .dataframe tbody tr th:only-of-type {\n",
              "        vertical-align: middle;\n",
              "    }\n",
              "\n",
              "    .dataframe tbody tr th {\n",
              "        vertical-align: top;\n",
              "    }\n",
              "\n",
              "    .dataframe thead th {\n",
              "        text-align: right;\n",
              "    }\n",
              "</style>\n",
              "<table border=\"1\" class=\"dataframe\">\n",
              "  <thead>\n",
              "    <tr style=\"text-align: right;\">\n",
              "      <th></th>\n",
              "      <th>기준년도</th>\n",
              "      <th>가입자일련번호</th>\n",
              "      <th>성별코드</th>\n",
              "      <th>연령대코드(5세단위)</th>\n",
              "      <th>시도코드</th>\n",
              "      <th>신장(5Cm단위)</th>\n",
              "      <th>체중(5Kg 단위)</th>\n",
              "      <th>허리둘레</th>\n",
              "      <th>시력(좌)</th>\n",
              "      <th>시력(우)</th>\n",
              "      <th>청력(좌)</th>\n",
              "      <th>청력(우)</th>\n",
              "      <th>수축기혈압</th>\n",
              "      <th>이완기혈압</th>\n",
              "      <th>식전혈당(공복혈당)</th>\n",
              "      <th>총콜레스테롤</th>\n",
              "      <th>트리글리세라이드</th>\n",
              "      <th>HDL콜레스테롤</th>\n",
              "      <th>LDL콜레스테롤</th>\n",
              "      <th>혈색소</th>\n",
              "      <th>요단백</th>\n",
              "      <th>혈청크레아티닌</th>\n",
              "      <th>(혈청지오티)AST</th>\n",
              "      <th>(혈청지오티)ALT</th>\n",
              "      <th>감마지티피</th>\n",
              "      <th>흡연상태</th>\n",
              "      <th>음주여부</th>\n",
              "      <th>구강검진 수검여부</th>\n",
              "      <th>치아우식증유무</th>\n",
              "      <th>결손치유무</th>\n",
              "      <th>치아마모증유무</th>\n",
              "      <th>제3대구치(사랑니)이상</th>\n",
              "      <th>치석</th>\n",
              "      <th>데이터공개일자</th>\n",
              "    </tr>\n",
              "  </thead>\n",
              "  <tbody>\n",
              "    <tr>\n",
              "      <th>0</th>\n",
              "      <td>2017</td>\n",
              "      <td>1</td>\n",
              "      <td>1</td>\n",
              "      <td>13</td>\n",
              "      <td>46</td>\n",
              "      <td>170.0</td>\n",
              "      <td>65.0</td>\n",
              "      <td>91.0</td>\n",
              "      <td>1.0</td>\n",
              "      <td>1.2</td>\n",
              "      <td>1.0</td>\n",
              "      <td>1.0</td>\n",
              "      <td>158.0</td>\n",
              "      <td>88.0</td>\n",
              "      <td>95.0</td>\n",
              "      <td>178.0</td>\n",
              "      <td>161.0</td>\n",
              "      <td>43.0</td>\n",
              "      <td>102.0</td>\n",
              "      <td>15.9</td>\n",
              "      <td>1.0</td>\n",
              "      <td>1.0</td>\n",
              "      <td>19.0</td>\n",
              "      <td>41.0</td>\n",
              "      <td>25.0</td>\n",
              "      <td>3.0</td>\n",
              "      <td>0.0</td>\n",
              "      <td>1</td>\n",
              "      <td>NaN</td>\n",
              "      <td>NaN</td>\n",
              "      <td>NaN</td>\n",
              "      <td>NaN</td>\n",
              "      <td>1.0</td>\n",
              "      <td>20181126</td>\n",
              "    </tr>\n",
              "    <tr>\n",
              "      <th>1</th>\n",
              "      <td>2017</td>\n",
              "      <td>2</td>\n",
              "      <td>2</td>\n",
              "      <td>8</td>\n",
              "      <td>41</td>\n",
              "      <td>150.0</td>\n",
              "      <td>45.0</td>\n",
              "      <td>73.4</td>\n",
              "      <td>1.2</td>\n",
              "      <td>1.0</td>\n",
              "      <td>1.0</td>\n",
              "      <td>1.0</td>\n",
              "      <td>110.0</td>\n",
              "      <td>79.0</td>\n",
              "      <td>98.0</td>\n",
              "      <td>255.0</td>\n",
              "      <td>82.0</td>\n",
              "      <td>62.0</td>\n",
              "      <td>176.0</td>\n",
              "      <td>10.7</td>\n",
              "      <td>1.0</td>\n",
              "      <td>0.9</td>\n",
              "      <td>16.0</td>\n",
              "      <td>13.0</td>\n",
              "      <td>10.0</td>\n",
              "      <td>1.0</td>\n",
              "      <td>0.0</td>\n",
              "      <td>1</td>\n",
              "      <td>NaN</td>\n",
              "      <td>NaN</td>\n",
              "      <td>NaN</td>\n",
              "      <td>NaN</td>\n",
              "      <td>1.0</td>\n",
              "      <td>20181126</td>\n",
              "    </tr>\n",
              "    <tr>\n",
              "      <th>2</th>\n",
              "      <td>2017</td>\n",
              "      <td>3</td>\n",
              "      <td>1</td>\n",
              "      <td>8</td>\n",
              "      <td>45</td>\n",
              "      <td>175.0</td>\n",
              "      <td>75.0</td>\n",
              "      <td>94.0</td>\n",
              "      <td>1.0</td>\n",
              "      <td>0.8</td>\n",
              "      <td>1.0</td>\n",
              "      <td>1.0</td>\n",
              "      <td>130.0</td>\n",
              "      <td>89.0</td>\n",
              "      <td>88.0</td>\n",
              "      <td>211.0</td>\n",
              "      <td>271.0</td>\n",
              "      <td>64.0</td>\n",
              "      <td>92.0</td>\n",
              "      <td>16.1</td>\n",
              "      <td>1.0</td>\n",
              "      <td>1.1</td>\n",
              "      <td>45.0</td>\n",
              "      <td>62.0</td>\n",
              "      <td>136.0</td>\n",
              "      <td>1.0</td>\n",
              "      <td>0.0</td>\n",
              "      <td>1</td>\n",
              "      <td>NaN</td>\n",
              "      <td>NaN</td>\n",
              "      <td>NaN</td>\n",
              "      <td>NaN</td>\n",
              "      <td>0.0</td>\n",
              "      <td>20181126</td>\n",
              "    </tr>\n",
              "    <tr>\n",
              "      <th>3</th>\n",
              "      <td>2017</td>\n",
              "      <td>4</td>\n",
              "      <td>2</td>\n",
              "      <td>12</td>\n",
              "      <td>11</td>\n",
              "      <td>155.0</td>\n",
              "      <td>55.0</td>\n",
              "      <td>67.5</td>\n",
              "      <td>0.9</td>\n",
              "      <td>1.0</td>\n",
              "      <td>1.0</td>\n",
              "      <td>1.0</td>\n",
              "      <td>138.0</td>\n",
              "      <td>90.0</td>\n",
              "      <td>76.0</td>\n",
              "      <td>160.0</td>\n",
              "      <td>97.0</td>\n",
              "      <td>52.0</td>\n",
              "      <td>88.0</td>\n",
              "      <td>13.4</td>\n",
              "      <td>1.0</td>\n",
              "      <td>0.6</td>\n",
              "      <td>21.0</td>\n",
              "      <td>24.0</td>\n",
              "      <td>30.0</td>\n",
              "      <td>1.0</td>\n",
              "      <td>1.0</td>\n",
              "      <td>0</td>\n",
              "      <td>NaN</td>\n",
              "      <td>NaN</td>\n",
              "      <td>NaN</td>\n",
              "      <td>NaN</td>\n",
              "      <td>NaN</td>\n",
              "      <td>20181126</td>\n",
              "    </tr>\n",
              "    <tr>\n",
              "      <th>4</th>\n",
              "      <td>2017</td>\n",
              "      <td>5</td>\n",
              "      <td>1</td>\n",
              "      <td>8</td>\n",
              "      <td>41</td>\n",
              "      <td>175.0</td>\n",
              "      <td>75.0</td>\n",
              "      <td>93.0</td>\n",
              "      <td>1.5</td>\n",
              "      <td>1.5</td>\n",
              "      <td>1.0</td>\n",
              "      <td>1.0</td>\n",
              "      <td>128.0</td>\n",
              "      <td>80.0</td>\n",
              "      <td>97.0</td>\n",
              "      <td>253.0</td>\n",
              "      <td>182.0</td>\n",
              "      <td>47.0</td>\n",
              "      <td>169.0</td>\n",
              "      <td>16.1</td>\n",
              "      <td>1.0</td>\n",
              "      <td>1.1</td>\n",
              "      <td>37.0</td>\n",
              "      <td>62.0</td>\n",
              "      <td>68.0</td>\n",
              "      <td>3.0</td>\n",
              "      <td>0.0</td>\n",
              "      <td>0</td>\n",
              "      <td>NaN</td>\n",
              "      <td>NaN</td>\n",
              "      <td>NaN</td>\n",
              "      <td>NaN</td>\n",
              "      <td>NaN</td>\n",
              "      <td>20181126</td>\n",
              "    </tr>\n",
              "  </tbody>\n",
              "</table>\n",
              "</div>"
            ],
            "text/plain": [
              "   기준년도  가입자일련번호  성별코드  연령대코드(5세단위)  ...  치아마모증유무  제3대구치(사랑니)이상   치석   데이터공개일자\n",
              "0  2017        1     1           13  ...      NaN           NaN  1.0  20181126\n",
              "1  2017        2     2            8  ...      NaN           NaN  1.0  20181126\n",
              "2  2017        3     1            8  ...      NaN           NaN  0.0  20181126\n",
              "3  2017        4     2           12  ...      NaN           NaN  NaN  20181126\n",
              "4  2017        5     1            8  ...      NaN           NaN  NaN  20181126\n",
              "\n",
              "[5 rows x 34 columns]"
            ]
          },
          "metadata": {
            "tags": []
          }
        }
      ]
    },
    {
      "cell_type": "markdown",
      "metadata": {
        "id": "U_MDmptRnZ6L",
        "colab_type": "text"
      },
      "source": [
        "### 컬럼명 정제 및 기초 탐색"
      ]
    },
    {
      "cell_type": "code",
      "metadata": {
        "id": "jepZ4MED4kEl",
        "colab_type": "code",
        "outputId": "a151e2ec-45b7-4058-9941-f1e585bcafe7",
        "colab": {
          "base_uri": "https://localhost:8080/",
          "height": 369
        }
      },
      "source": [
        "# df_raw_2016.rename(columns=lambda x: x.replace(' ', ''), inplace=True)\n",
        "# df_raw_2017.rename(columns=lambda x: x.replace(' ', ''), inplace=True)\n",
        "\n",
        "df_raw_2016.rename(columns=lambda x: re.sub('[-=+,#/\\?:^$.@*\\\"※~&%ㆍ!』\\\\‘|\\(\\)\\[\\]\\<\\>`\\'…》]', '', x), inplace=True)\n",
        "df_raw_2017.rename(columns=lambda x: re.sub('[-=+,#/\\?:^$.@*\\\"※~&%ㆍ!』\\\\‘|\\(\\)\\[\\]\\<\\>`\\'…》]', '', x), inplace=True)\n",
        "\n",
        "display(df_raw_2016.sample(3))\n",
        "display(df_raw_2017.sample(3))"
      ],
      "execution_count": 115,
      "outputs": [
        {
          "output_type": "display_data",
          "data": {
            "text/html": [
              "<div>\n",
              "<style scoped>\n",
              "    .dataframe tbody tr th:only-of-type {\n",
              "        vertical-align: middle;\n",
              "    }\n",
              "\n",
              "    .dataframe tbody tr th {\n",
              "        vertical-align: top;\n",
              "    }\n",
              "\n",
              "    .dataframe thead th {\n",
              "        text-align: right;\n",
              "    }\n",
              "</style>\n",
              "<table border=\"1\" class=\"dataframe\">\n",
              "  <thead>\n",
              "    <tr style=\"text-align: right;\">\n",
              "      <th></th>\n",
              "      <th>기준년도</th>\n",
              "      <th>가입자일련번호</th>\n",
              "      <th>성별코드</th>\n",
              "      <th>연령대코드5세단위</th>\n",
              "      <th>시도코드</th>\n",
              "      <th>신장5Cm단위</th>\n",
              "      <th>체중5Kg단위</th>\n",
              "      <th>허리둘레</th>\n",
              "      <th>시력좌</th>\n",
              "      <th>시력우</th>\n",
              "      <th>청력좌</th>\n",
              "      <th>청력우</th>\n",
              "      <th>수축기혈압</th>\n",
              "      <th>이완기혈압</th>\n",
              "      <th>식전혈당공복혈당</th>\n",
              "      <th>총콜레스테롤</th>\n",
              "      <th>트리글리세라이드</th>\n",
              "      <th>HDL콜레스테롤</th>\n",
              "      <th>LDL콜레스테롤</th>\n",
              "      <th>혈색소</th>\n",
              "      <th>요단백</th>\n",
              "      <th>혈청크레아티닌</th>\n",
              "      <th>혈청지오티AST</th>\n",
              "      <th>혈청지오티ALT</th>\n",
              "      <th>감마지티피</th>\n",
              "      <th>흡연상태</th>\n",
              "      <th>음주여부</th>\n",
              "      <th>구강검진수검여부</th>\n",
              "      <th>치아우식증유무</th>\n",
              "      <th>결손치유무</th>\n",
              "      <th>치아마모증유무</th>\n",
              "      <th>제3대구치사랑니이상</th>\n",
              "      <th>치석</th>\n",
              "      <th>데이터공개일자</th>\n",
              "    </tr>\n",
              "  </thead>\n",
              "  <tbody>\n",
              "    <tr>\n",
              "      <th>905023</th>\n",
              "      <td>2016</td>\n",
              "      <td>905024</td>\n",
              "      <td>2</td>\n",
              "      <td>11</td>\n",
              "      <td>44</td>\n",
              "      <td>160.0</td>\n",
              "      <td>65.0</td>\n",
              "      <td>81.0</td>\n",
              "      <td>1.2</td>\n",
              "      <td>1.2</td>\n",
              "      <td>1.0</td>\n",
              "      <td>1.0</td>\n",
              "      <td>120.0</td>\n",
              "      <td>70.0</td>\n",
              "      <td>87.0</td>\n",
              "      <td>213.0</td>\n",
              "      <td>52.0</td>\n",
              "      <td>66.0</td>\n",
              "      <td>137.0</td>\n",
              "      <td>13.4</td>\n",
              "      <td>1.0</td>\n",
              "      <td>0.9</td>\n",
              "      <td>24.0</td>\n",
              "      <td>27.0</td>\n",
              "      <td>15.0</td>\n",
              "      <td>1.0</td>\n",
              "      <td>NaN</td>\n",
              "      <td>1</td>\n",
              "      <td>NaN</td>\n",
              "      <td>NaN</td>\n",
              "      <td>NaN</td>\n",
              "      <td>NaN</td>\n",
              "      <td>1.0</td>\n",
              "      <td>20171219</td>\n",
              "    </tr>\n",
              "    <tr>\n",
              "      <th>590762</th>\n",
              "      <td>2016</td>\n",
              "      <td>590763</td>\n",
              "      <td>2</td>\n",
              "      <td>11</td>\n",
              "      <td>41</td>\n",
              "      <td>160.0</td>\n",
              "      <td>50.0</td>\n",
              "      <td>64.0</td>\n",
              "      <td>0.1</td>\n",
              "      <td>1.2</td>\n",
              "      <td>1.0</td>\n",
              "      <td>1.0</td>\n",
              "      <td>106.0</td>\n",
              "      <td>68.0</td>\n",
              "      <td>91.0</td>\n",
              "      <td>187.0</td>\n",
              "      <td>86.0</td>\n",
              "      <td>60.0</td>\n",
              "      <td>110.0</td>\n",
              "      <td>12.9</td>\n",
              "      <td>1.0</td>\n",
              "      <td>0.8</td>\n",
              "      <td>21.0</td>\n",
              "      <td>13.0</td>\n",
              "      <td>12.0</td>\n",
              "      <td>1.0</td>\n",
              "      <td>NaN</td>\n",
              "      <td>0</td>\n",
              "      <td>NaN</td>\n",
              "      <td>NaN</td>\n",
              "      <td>NaN</td>\n",
              "      <td>NaN</td>\n",
              "      <td>NaN</td>\n",
              "      <td>20171219</td>\n",
              "    </tr>\n",
              "    <tr>\n",
              "      <th>37026</th>\n",
              "      <td>2016</td>\n",
              "      <td>37027</td>\n",
              "      <td>1</td>\n",
              "      <td>8</td>\n",
              "      <td>41</td>\n",
              "      <td>170.0</td>\n",
              "      <td>80.0</td>\n",
              "      <td>87.0</td>\n",
              "      <td>1.2</td>\n",
              "      <td>1.0</td>\n",
              "      <td>1.0</td>\n",
              "      <td>1.0</td>\n",
              "      <td>120.0</td>\n",
              "      <td>85.0</td>\n",
              "      <td>100.0</td>\n",
              "      <td>280.0</td>\n",
              "      <td>109.0</td>\n",
              "      <td>52.0</td>\n",
              "      <td>206.0</td>\n",
              "      <td>15.6</td>\n",
              "      <td>1.0</td>\n",
              "      <td>1.1</td>\n",
              "      <td>24.0</td>\n",
              "      <td>13.0</td>\n",
              "      <td>35.0</td>\n",
              "      <td>3.0</td>\n",
              "      <td>NaN</td>\n",
              "      <td>1</td>\n",
              "      <td>NaN</td>\n",
              "      <td>NaN</td>\n",
              "      <td>NaN</td>\n",
              "      <td>NaN</td>\n",
              "      <td>2.0</td>\n",
              "      <td>20171219</td>\n",
              "    </tr>\n",
              "  </tbody>\n",
              "</table>\n",
              "</div>"
            ],
            "text/plain": [
              "        기준년도  가입자일련번호  성별코드  연령대코드5세단위  ...  치아마모증유무  제3대구치사랑니이상   치석   데이터공개일자\n",
              "905023  2016   905024     2         11  ...      NaN         NaN  1.0  20171219\n",
              "590762  2016   590763     2         11  ...      NaN         NaN  NaN  20171219\n",
              "37026   2016    37027     1          8  ...      NaN         NaN  2.0  20171219\n",
              "\n",
              "[3 rows x 34 columns]"
            ]
          },
          "metadata": {
            "tags": []
          }
        },
        {
          "output_type": "display_data",
          "data": {
            "text/html": [
              "<div>\n",
              "<style scoped>\n",
              "    .dataframe tbody tr th:only-of-type {\n",
              "        vertical-align: middle;\n",
              "    }\n",
              "\n",
              "    .dataframe tbody tr th {\n",
              "        vertical-align: top;\n",
              "    }\n",
              "\n",
              "    .dataframe thead th {\n",
              "        text-align: right;\n",
              "    }\n",
              "</style>\n",
              "<table border=\"1\" class=\"dataframe\">\n",
              "  <thead>\n",
              "    <tr style=\"text-align: right;\">\n",
              "      <th></th>\n",
              "      <th>기준년도</th>\n",
              "      <th>가입자일련번호</th>\n",
              "      <th>성별코드</th>\n",
              "      <th>연령대코드5세단위</th>\n",
              "      <th>시도코드</th>\n",
              "      <th>신장5Cm단위</th>\n",
              "      <th>체중5Kg단위</th>\n",
              "      <th>허리둘레</th>\n",
              "      <th>시력좌</th>\n",
              "      <th>시력우</th>\n",
              "      <th>청력좌</th>\n",
              "      <th>청력우</th>\n",
              "      <th>수축기혈압</th>\n",
              "      <th>이완기혈압</th>\n",
              "      <th>식전혈당공복혈당</th>\n",
              "      <th>총콜레스테롤</th>\n",
              "      <th>트리글리세라이드</th>\n",
              "      <th>HDL콜레스테롤</th>\n",
              "      <th>LDL콜레스테롤</th>\n",
              "      <th>혈색소</th>\n",
              "      <th>요단백</th>\n",
              "      <th>혈청크레아티닌</th>\n",
              "      <th>혈청지오티AST</th>\n",
              "      <th>혈청지오티ALT</th>\n",
              "      <th>감마지티피</th>\n",
              "      <th>흡연상태</th>\n",
              "      <th>음주여부</th>\n",
              "      <th>구강검진수검여부</th>\n",
              "      <th>치아우식증유무</th>\n",
              "      <th>결손치유무</th>\n",
              "      <th>치아마모증유무</th>\n",
              "      <th>제3대구치사랑니이상</th>\n",
              "      <th>치석</th>\n",
              "      <th>데이터공개일자</th>\n",
              "    </tr>\n",
              "  </thead>\n",
              "  <tbody>\n",
              "    <tr>\n",
              "      <th>563795</th>\n",
              "      <td>2017</td>\n",
              "      <td>563796</td>\n",
              "      <td>1</td>\n",
              "      <td>13</td>\n",
              "      <td>45</td>\n",
              "      <td>165.0</td>\n",
              "      <td>85.0</td>\n",
              "      <td>104.0</td>\n",
              "      <td>1.5</td>\n",
              "      <td>1.0</td>\n",
              "      <td>1.0</td>\n",
              "      <td>1.0</td>\n",
              "      <td>139.0</td>\n",
              "      <td>88.0</td>\n",
              "      <td>91.0</td>\n",
              "      <td>243.0</td>\n",
              "      <td>239.0</td>\n",
              "      <td>45.0</td>\n",
              "      <td>150.0</td>\n",
              "      <td>17.6</td>\n",
              "      <td>1.0</td>\n",
              "      <td>1.1</td>\n",
              "      <td>18.0</td>\n",
              "      <td>30.0</td>\n",
              "      <td>33.0</td>\n",
              "      <td>2.0</td>\n",
              "      <td>0.0</td>\n",
              "      <td>0</td>\n",
              "      <td>NaN</td>\n",
              "      <td>NaN</td>\n",
              "      <td>NaN</td>\n",
              "      <td>NaN</td>\n",
              "      <td>NaN</td>\n",
              "      <td>20181126</td>\n",
              "    </tr>\n",
              "    <tr>\n",
              "      <th>491579</th>\n",
              "      <td>2017</td>\n",
              "      <td>491580</td>\n",
              "      <td>1</td>\n",
              "      <td>9</td>\n",
              "      <td>29</td>\n",
              "      <td>175.0</td>\n",
              "      <td>75.0</td>\n",
              "      <td>88.2</td>\n",
              "      <td>1.5</td>\n",
              "      <td>1.2</td>\n",
              "      <td>1.0</td>\n",
              "      <td>1.0</td>\n",
              "      <td>130.0</td>\n",
              "      <td>80.0</td>\n",
              "      <td>129.0</td>\n",
              "      <td>184.0</td>\n",
              "      <td>277.0</td>\n",
              "      <td>47.0</td>\n",
              "      <td>81.0</td>\n",
              "      <td>14.7</td>\n",
              "      <td>1.0</td>\n",
              "      <td>0.8</td>\n",
              "      <td>25.0</td>\n",
              "      <td>32.0</td>\n",
              "      <td>48.0</td>\n",
              "      <td>3.0</td>\n",
              "      <td>1.0</td>\n",
              "      <td>0</td>\n",
              "      <td>NaN</td>\n",
              "      <td>NaN</td>\n",
              "      <td>NaN</td>\n",
              "      <td>NaN</td>\n",
              "      <td>NaN</td>\n",
              "      <td>20181126</td>\n",
              "    </tr>\n",
              "    <tr>\n",
              "      <th>631727</th>\n",
              "      <td>2017</td>\n",
              "      <td>631728</td>\n",
              "      <td>1</td>\n",
              "      <td>15</td>\n",
              "      <td>41</td>\n",
              "      <td>160.0</td>\n",
              "      <td>55.0</td>\n",
              "      <td>81.5</td>\n",
              "      <td>1.2</td>\n",
              "      <td>1.0</td>\n",
              "      <td>2.0</td>\n",
              "      <td>1.0</td>\n",
              "      <td>116.0</td>\n",
              "      <td>85.0</td>\n",
              "      <td>107.0</td>\n",
              "      <td>181.0</td>\n",
              "      <td>56.0</td>\n",
              "      <td>76.0</td>\n",
              "      <td>94.0</td>\n",
              "      <td>15.0</td>\n",
              "      <td>1.0</td>\n",
              "      <td>1.1</td>\n",
              "      <td>26.0</td>\n",
              "      <td>19.0</td>\n",
              "      <td>23.0</td>\n",
              "      <td>2.0</td>\n",
              "      <td>0.0</td>\n",
              "      <td>1</td>\n",
              "      <td>NaN</td>\n",
              "      <td>NaN</td>\n",
              "      <td>NaN</td>\n",
              "      <td>NaN</td>\n",
              "      <td>0.0</td>\n",
              "      <td>20181126</td>\n",
              "    </tr>\n",
              "  </tbody>\n",
              "</table>\n",
              "</div>"
            ],
            "text/plain": [
              "        기준년도  가입자일련번호  성별코드  연령대코드5세단위  ...  치아마모증유무  제3대구치사랑니이상   치석   데이터공개일자\n",
              "563795  2017   563796     1         13  ...      NaN         NaN  NaN  20181126\n",
              "491579  2017   491580     1          9  ...      NaN         NaN  NaN  20181126\n",
              "631727  2017   631728     1         15  ...      NaN         NaN  0.0  20181126\n",
              "\n",
              "[3 rows x 34 columns]"
            ]
          },
          "metadata": {
            "tags": []
          }
        }
      ]
    },
    {
      "cell_type": "code",
      "metadata": {
        "id": "jYo3nucznTEJ",
        "colab_type": "code",
        "colab": {
          "base_uri": "https://localhost:8080/",
          "height": 233
        },
        "outputId": "62e67913-514e-489d-99b0-59195399113a"
      },
      "source": [
        "print(df_raw_2016.columns)\n",
        "print(df_raw_2017.columns)"
      ],
      "execution_count": 116,
      "outputs": [
        {
          "output_type": "stream",
          "text": [
            "Index(['기준년도', '가입자일련번호', '성별코드', '연령대코드5세단위', '시도코드', '신장5Cm단위', '체중5Kg단위',\n",
            "       '허리둘레', '시력좌', '시력우', '청력좌', '청력우', '수축기혈압', '이완기혈압', '식전혈당공복혈당',\n",
            "       '총콜레스테롤', '트리글리세라이드', 'HDL콜레스테롤', 'LDL콜레스테롤', '혈색소', '요단백', '혈청크레아티닌',\n",
            "       '혈청지오티AST', '혈청지오티ALT', '감마지티피', '흡연상태', '음주여부', '구강검진수검여부', '치아우식증유무',\n",
            "       '결손치유무', '치아마모증유무', '제3대구치사랑니이상', '치석', '데이터공개일자'],\n",
            "      dtype='object')\n",
            "Index(['기준년도', '가입자일련번호', '성별코드', '연령대코드5세단위', '시도코드', '신장5Cm단위', '체중5Kg단위',\n",
            "       '허리둘레', '시력좌', '시력우', '청력좌', '청력우', '수축기혈압', '이완기혈압', '식전혈당공복혈당',\n",
            "       '총콜레스테롤', '트리글리세라이드', 'HDL콜레스테롤', 'LDL콜레스테롤', '혈색소', '요단백', '혈청크레아티닌',\n",
            "       '혈청지오티AST', '혈청지오티ALT', '감마지티피', '흡연상태', '음주여부', '구강검진수검여부', '치아우식증유무',\n",
            "       '결손치유무', '치아마모증유무', '제3대구치사랑니이상', '치석', '데이터공개일자'],\n",
            "      dtype='object')\n"
          ],
          "name": "stdout"
        }
      ]
    },
    {
      "cell_type": "markdown",
      "metadata": {
        "id": "X3corsChnlFQ",
        "colab_type": "text"
      },
      "source": [
        "## 구강검진검수자 데이터 기준 dataset 생성 - 불필요한 컬럼 제거"
      ]
    },
    {
      "cell_type": "code",
      "metadata": {
        "id": "p53XCNPg4kEn",
        "colab_type": "code",
        "colab": {}
      },
      "source": [
        "df_raw = pd.concat([df_raw_2016, df_raw_2017])\n",
        "df_raw = df_raw[df_raw['구강검진수검여부']==1]\n",
        "\n",
        "del_cols = ['기준년도', '가입자일련번호', '치아우식증유무', '결손치유무' ,'치아마모증유무','제3대구치사랑니이상','데이터공개일자', '음주여부', '구강검진수검여부']\n",
        "df_raw.drop(columns=del_cols, axis=1, inplace=True)"
      ],
      "execution_count": 0,
      "outputs": []
    },
    {
      "cell_type": "code",
      "metadata": {
        "id": "_YQaz9yH4kEo",
        "colab_type": "code",
        "outputId": "7e406e38-7de6-4dec-fee0-0549fe79aba1",
        "colab": {
          "base_uri": "https://localhost:8080/",
          "height": 761
        }
      },
      "source": [
        "display(df_raw.head())\n",
        "df_raw.info()"
      ],
      "execution_count": 118,
      "outputs": [
        {
          "output_type": "display_data",
          "data": {
            "text/html": [
              "<div>\n",
              "<style scoped>\n",
              "    .dataframe tbody tr th:only-of-type {\n",
              "        vertical-align: middle;\n",
              "    }\n",
              "\n",
              "    .dataframe tbody tr th {\n",
              "        vertical-align: top;\n",
              "    }\n",
              "\n",
              "    .dataframe thead th {\n",
              "        text-align: right;\n",
              "    }\n",
              "</style>\n",
              "<table border=\"1\" class=\"dataframe\">\n",
              "  <thead>\n",
              "    <tr style=\"text-align: right;\">\n",
              "      <th></th>\n",
              "      <th>성별코드</th>\n",
              "      <th>연령대코드5세단위</th>\n",
              "      <th>시도코드</th>\n",
              "      <th>신장5Cm단위</th>\n",
              "      <th>체중5Kg단위</th>\n",
              "      <th>허리둘레</th>\n",
              "      <th>시력좌</th>\n",
              "      <th>시력우</th>\n",
              "      <th>청력좌</th>\n",
              "      <th>청력우</th>\n",
              "      <th>수축기혈압</th>\n",
              "      <th>이완기혈압</th>\n",
              "      <th>식전혈당공복혈당</th>\n",
              "      <th>총콜레스테롤</th>\n",
              "      <th>트리글리세라이드</th>\n",
              "      <th>HDL콜레스테롤</th>\n",
              "      <th>LDL콜레스테롤</th>\n",
              "      <th>혈색소</th>\n",
              "      <th>요단백</th>\n",
              "      <th>혈청크레아티닌</th>\n",
              "      <th>혈청지오티AST</th>\n",
              "      <th>혈청지오티ALT</th>\n",
              "      <th>감마지티피</th>\n",
              "      <th>흡연상태</th>\n",
              "      <th>치석</th>\n",
              "    </tr>\n",
              "  </thead>\n",
              "  <tbody>\n",
              "    <tr>\n",
              "      <th>3</th>\n",
              "      <td>1</td>\n",
              "      <td>12</td>\n",
              "      <td>48</td>\n",
              "      <td>175.0</td>\n",
              "      <td>70.0</td>\n",
              "      <td>85.0</td>\n",
              "      <td>1.2</td>\n",
              "      <td>1.2</td>\n",
              "      <td>1.0</td>\n",
              "      <td>1.0</td>\n",
              "      <td>124.0</td>\n",
              "      <td>76.0</td>\n",
              "      <td>93.0</td>\n",
              "      <td>179.0</td>\n",
              "      <td>79.0</td>\n",
              "      <td>40.0</td>\n",
              "      <td>123.0</td>\n",
              "      <td>16.8</td>\n",
              "      <td>1.0</td>\n",
              "      <td>1.0</td>\n",
              "      <td>20.0</td>\n",
              "      <td>39.0</td>\n",
              "      <td>69.0</td>\n",
              "      <td>2.0</td>\n",
              "      <td>1.0</td>\n",
              "    </tr>\n",
              "    <tr>\n",
              "      <th>5</th>\n",
              "      <td>1</td>\n",
              "      <td>9</td>\n",
              "      <td>46</td>\n",
              "      <td>170.0</td>\n",
              "      <td>55.0</td>\n",
              "      <td>64.0</td>\n",
              "      <td>1.1</td>\n",
              "      <td>1.2</td>\n",
              "      <td>1.0</td>\n",
              "      <td>1.0</td>\n",
              "      <td>124.0</td>\n",
              "      <td>79.0</td>\n",
              "      <td>90.0</td>\n",
              "      <td>319.0</td>\n",
              "      <td>45.0</td>\n",
              "      <td>53.0</td>\n",
              "      <td>257.0</td>\n",
              "      <td>15.8</td>\n",
              "      <td>1.0</td>\n",
              "      <td>1.0</td>\n",
              "      <td>20.0</td>\n",
              "      <td>14.0</td>\n",
              "      <td>12.0</td>\n",
              "      <td>1.0</td>\n",
              "      <td>2.0</td>\n",
              "    </tr>\n",
              "    <tr>\n",
              "      <th>6</th>\n",
              "      <td>1</td>\n",
              "      <td>10</td>\n",
              "      <td>31</td>\n",
              "      <td>175.0</td>\n",
              "      <td>70.0</td>\n",
              "      <td>90.0</td>\n",
              "      <td>1.5</td>\n",
              "      <td>1.5</td>\n",
              "      <td>1.0</td>\n",
              "      <td>1.0</td>\n",
              "      <td>114.0</td>\n",
              "      <td>76.0</td>\n",
              "      <td>85.0</td>\n",
              "      <td>207.0</td>\n",
              "      <td>93.0</td>\n",
              "      <td>50.0</td>\n",
              "      <td>138.0</td>\n",
              "      <td>13.9</td>\n",
              "      <td>1.0</td>\n",
              "      <td>0.8</td>\n",
              "      <td>25.0</td>\n",
              "      <td>30.0</td>\n",
              "      <td>24.0</td>\n",
              "      <td>3.0</td>\n",
              "      <td>0.0</td>\n",
              "    </tr>\n",
              "    <tr>\n",
              "      <th>10</th>\n",
              "      <td>1</td>\n",
              "      <td>7</td>\n",
              "      <td>46</td>\n",
              "      <td>170.0</td>\n",
              "      <td>80.0</td>\n",
              "      <td>86.0</td>\n",
              "      <td>1.5</td>\n",
              "      <td>1.0</td>\n",
              "      <td>1.0</td>\n",
              "      <td>1.0</td>\n",
              "      <td>136.0</td>\n",
              "      <td>80.0</td>\n",
              "      <td>95.0</td>\n",
              "      <td>207.0</td>\n",
              "      <td>297.0</td>\n",
              "      <td>53.0</td>\n",
              "      <td>95.0</td>\n",
              "      <td>16.7</td>\n",
              "      <td>1.0</td>\n",
              "      <td>1.0</td>\n",
              "      <td>27.0</td>\n",
              "      <td>39.0</td>\n",
              "      <td>81.0</td>\n",
              "      <td>3.0</td>\n",
              "      <td>0.0</td>\n",
              "    </tr>\n",
              "    <tr>\n",
              "      <th>12</th>\n",
              "      <td>1</td>\n",
              "      <td>7</td>\n",
              "      <td>41</td>\n",
              "      <td>170.0</td>\n",
              "      <td>80.0</td>\n",
              "      <td>92.0</td>\n",
              "      <td>0.6</td>\n",
              "      <td>0.4</td>\n",
              "      <td>1.0</td>\n",
              "      <td>1.0</td>\n",
              "      <td>128.0</td>\n",
              "      <td>80.0</td>\n",
              "      <td>125.0</td>\n",
              "      <td>230.0</td>\n",
              "      <td>214.0</td>\n",
              "      <td>42.0</td>\n",
              "      <td>145.0</td>\n",
              "      <td>15.3</td>\n",
              "      <td>1.0</td>\n",
              "      <td>1.0</td>\n",
              "      <td>22.0</td>\n",
              "      <td>22.0</td>\n",
              "      <td>101.0</td>\n",
              "      <td>1.0</td>\n",
              "      <td>1.0</td>\n",
              "    </tr>\n",
              "  </tbody>\n",
              "</table>\n",
              "</div>"
            ],
            "text/plain": [
              "    성별코드  연령대코드5세단위  시도코드  신장5Cm단위  ...  혈청지오티ALT  감마지티피  흡연상태   치석\n",
              "3      1         12    48    175.0  ...      39.0   69.0   2.0  1.0\n",
              "5      1          9    46    170.0  ...      14.0   12.0   1.0  2.0\n",
              "6      1         10    31    175.0  ...      30.0   24.0   3.0  0.0\n",
              "10     1          7    46    170.0  ...      39.0   81.0   3.0  0.0\n",
              "12     1          7    41    170.0  ...      22.0  101.0   1.0  1.0\n",
              "\n",
              "[5 rows x 25 columns]"
            ]
          },
          "metadata": {
            "tags": []
          }
        },
        {
          "output_type": "stream",
          "text": [
            "<class 'pandas.core.frame.DataFrame'>\n",
            "Int64Index: 800512 entries, 3 to 999997\n",
            "Data columns (total 25 columns):\n",
            "성별코드         800512 non-null int64\n",
            "연령대코드5세단위    800512 non-null int64\n",
            "시도코드         800512 non-null int64\n",
            "신장5Cm단위      800271 non-null float64\n",
            "체중5Kg단위      800266 non-null float64\n",
            "허리둘레         800298 non-null float64\n",
            "시력좌          800357 non-null float64\n",
            "시력우          800361 non-null float64\n",
            "청력좌          800375 non-null float64\n",
            "청력우          800377 non-null float64\n",
            "수축기혈압        800491 non-null float64\n",
            "이완기혈압        800492 non-null float64\n",
            "식전혈당공복혈당     800472 non-null float64\n",
            "총콜레스테롤       800475 non-null float64\n",
            "트리글리세라이드     800475 non-null float64\n",
            "HDL콜레스테롤     800471 non-null float64\n",
            "LDL콜레스테롤     798496 non-null float64\n",
            "혈색소          800466 non-null float64\n",
            "요단백          797405 non-null float64\n",
            "혈청크레아티닌      800474 non-null float64\n",
            "혈청지오티AST     800476 non-null float64\n",
            "혈청지오티ALT     800476 non-null float64\n",
            "감마지티피        800475 non-null float64\n",
            "흡연상태         800375 non-null float64\n",
            "치석           800511 non-null float64\n",
            "dtypes: float64(22), int64(3)\n",
            "memory usage: 158.8 MB\n"
          ],
          "name": "stdout"
        }
      ]
    },
    {
      "cell_type": "markdown",
      "metadata": {
        "id": "aOk5IWaKn87U",
        "colab_type": "text"
      },
      "source": [
        "### 중복 컬럼 제거 및 reindexing 후 불필요한 데이터 행 제거"
      ]
    },
    {
      "cell_type": "code",
      "metadata": {
        "id": "NA2CR95G4kEq",
        "colab_type": "code",
        "colab": {}
      },
      "source": [
        "df_raw.drop_duplicates()\n",
        "df_raw.reset_index()\n",
        "\n",
        "df_data = df_raw[~(df_raw['치석'].isnull()) & (df_raw['치석'] != 2)]"
      ],
      "execution_count": 0,
      "outputs": []
    },
    {
      "cell_type": "markdown",
      "metadata": {
        "id": "0JISl_zApNFi",
        "colab_type": "text"
      },
      "source": [
        "## EDA\n",
        "1. 데이터 임포트 후 메모리에 upload \n",
        "2. 데이터의 모양 확인\n",
        "3. 데이터의 타입 확인\n",
        "4. 데이터의 Null 값을 체크\n",
        "5. 종속변수의 분포 체크\n",
        "6. 독립변수 - 명목형 변수의 분포 체크\n",
        "7. 독립변수 - 수치형 변수의 분포 체크\n",
        "8. 수치형, 명목형 변수간의 관계 파악"
      ]
    },
    {
      "cell_type": "code",
      "metadata": {
        "id": "38mpcw62dGqU",
        "colab_type": "code",
        "colab": {
          "base_uri": "https://localhost:8080/",
          "height": 779
        },
        "outputId": "00038c94-528a-402a-c98f-e3b51f6ac229"
      },
      "source": [
        "# 데이터 모양 확인 및 데이터 타입 확인\n",
        "display(df_data.sample(5))\n",
        "display(df_data.info())"
      ],
      "execution_count": 120,
      "outputs": [
        {
          "output_type": "display_data",
          "data": {
            "text/html": [
              "<div>\n",
              "<style scoped>\n",
              "    .dataframe tbody tr th:only-of-type {\n",
              "        vertical-align: middle;\n",
              "    }\n",
              "\n",
              "    .dataframe tbody tr th {\n",
              "        vertical-align: top;\n",
              "    }\n",
              "\n",
              "    .dataframe thead th {\n",
              "        text-align: right;\n",
              "    }\n",
              "</style>\n",
              "<table border=\"1\" class=\"dataframe\">\n",
              "  <thead>\n",
              "    <tr style=\"text-align: right;\">\n",
              "      <th></th>\n",
              "      <th>성별코드</th>\n",
              "      <th>연령대코드5세단위</th>\n",
              "      <th>시도코드</th>\n",
              "      <th>신장5Cm단위</th>\n",
              "      <th>체중5Kg단위</th>\n",
              "      <th>허리둘레</th>\n",
              "      <th>시력좌</th>\n",
              "      <th>시력우</th>\n",
              "      <th>청력좌</th>\n",
              "      <th>청력우</th>\n",
              "      <th>수축기혈압</th>\n",
              "      <th>이완기혈압</th>\n",
              "      <th>식전혈당공복혈당</th>\n",
              "      <th>총콜레스테롤</th>\n",
              "      <th>트리글리세라이드</th>\n",
              "      <th>HDL콜레스테롤</th>\n",
              "      <th>LDL콜레스테롤</th>\n",
              "      <th>혈색소</th>\n",
              "      <th>요단백</th>\n",
              "      <th>혈청크레아티닌</th>\n",
              "      <th>혈청지오티AST</th>\n",
              "      <th>혈청지오티ALT</th>\n",
              "      <th>감마지티피</th>\n",
              "      <th>흡연상태</th>\n",
              "      <th>치석</th>\n",
              "    </tr>\n",
              "  </thead>\n",
              "  <tbody>\n",
              "    <tr>\n",
              "      <th>105227</th>\n",
              "      <td>1</td>\n",
              "      <td>7</td>\n",
              "      <td>30</td>\n",
              "      <td>180.0</td>\n",
              "      <td>65.0</td>\n",
              "      <td>82.0</td>\n",
              "      <td>0.7</td>\n",
              "      <td>1.0</td>\n",
              "      <td>1.0</td>\n",
              "      <td>1.0</td>\n",
              "      <td>107.0</td>\n",
              "      <td>62.0</td>\n",
              "      <td>83.0</td>\n",
              "      <td>183.0</td>\n",
              "      <td>47.0</td>\n",
              "      <td>58.0</td>\n",
              "      <td>115.0</td>\n",
              "      <td>15.4</td>\n",
              "      <td>2.0</td>\n",
              "      <td>0.9</td>\n",
              "      <td>14.0</td>\n",
              "      <td>12.0</td>\n",
              "      <td>14.0</td>\n",
              "      <td>1.0</td>\n",
              "      <td>0.0</td>\n",
              "    </tr>\n",
              "    <tr>\n",
              "      <th>347309</th>\n",
              "      <td>1</td>\n",
              "      <td>9</td>\n",
              "      <td>30</td>\n",
              "      <td>180.0</td>\n",
              "      <td>85.0</td>\n",
              "      <td>91.5</td>\n",
              "      <td>0.9</td>\n",
              "      <td>1.0</td>\n",
              "      <td>1.0</td>\n",
              "      <td>1.0</td>\n",
              "      <td>135.0</td>\n",
              "      <td>90.0</td>\n",
              "      <td>98.0</td>\n",
              "      <td>225.0</td>\n",
              "      <td>814.0</td>\n",
              "      <td>38.0</td>\n",
              "      <td>64.0</td>\n",
              "      <td>15.1</td>\n",
              "      <td>1.0</td>\n",
              "      <td>0.9</td>\n",
              "      <td>25.0</td>\n",
              "      <td>27.0</td>\n",
              "      <td>34.0</td>\n",
              "      <td>3.0</td>\n",
              "      <td>1.0</td>\n",
              "    </tr>\n",
              "    <tr>\n",
              "      <th>765440</th>\n",
              "      <td>1</td>\n",
              "      <td>11</td>\n",
              "      <td>41</td>\n",
              "      <td>170.0</td>\n",
              "      <td>65.0</td>\n",
              "      <td>80.0</td>\n",
              "      <td>1.2</td>\n",
              "      <td>1.0</td>\n",
              "      <td>1.0</td>\n",
              "      <td>1.0</td>\n",
              "      <td>134.0</td>\n",
              "      <td>83.0</td>\n",
              "      <td>89.0</td>\n",
              "      <td>180.0</td>\n",
              "      <td>122.0</td>\n",
              "      <td>58.0</td>\n",
              "      <td>98.0</td>\n",
              "      <td>14.9</td>\n",
              "      <td>1.0</td>\n",
              "      <td>0.8</td>\n",
              "      <td>24.0</td>\n",
              "      <td>25.0</td>\n",
              "      <td>28.0</td>\n",
              "      <td>2.0</td>\n",
              "      <td>1.0</td>\n",
              "    </tr>\n",
              "    <tr>\n",
              "      <th>85598</th>\n",
              "      <td>1</td>\n",
              "      <td>13</td>\n",
              "      <td>41</td>\n",
              "      <td>150.0</td>\n",
              "      <td>60.0</td>\n",
              "      <td>93.0</td>\n",
              "      <td>1.0</td>\n",
              "      <td>0.8</td>\n",
              "      <td>1.0</td>\n",
              "      <td>2.0</td>\n",
              "      <td>125.0</td>\n",
              "      <td>60.0</td>\n",
              "      <td>92.0</td>\n",
              "      <td>180.0</td>\n",
              "      <td>67.0</td>\n",
              "      <td>39.0</td>\n",
              "      <td>127.0</td>\n",
              "      <td>14.5</td>\n",
              "      <td>1.0</td>\n",
              "      <td>1.2</td>\n",
              "      <td>28.0</td>\n",
              "      <td>31.0</td>\n",
              "      <td>46.0</td>\n",
              "      <td>1.0</td>\n",
              "      <td>1.0</td>\n",
              "    </tr>\n",
              "    <tr>\n",
              "      <th>730302</th>\n",
              "      <td>1</td>\n",
              "      <td>8</td>\n",
              "      <td>28</td>\n",
              "      <td>175.0</td>\n",
              "      <td>65.0</td>\n",
              "      <td>82.0</td>\n",
              "      <td>1.5</td>\n",
              "      <td>1.5</td>\n",
              "      <td>1.0</td>\n",
              "      <td>1.0</td>\n",
              "      <td>124.0</td>\n",
              "      <td>63.0</td>\n",
              "      <td>95.0</td>\n",
              "      <td>184.0</td>\n",
              "      <td>139.0</td>\n",
              "      <td>72.0</td>\n",
              "      <td>84.0</td>\n",
              "      <td>15.4</td>\n",
              "      <td>1.0</td>\n",
              "      <td>0.9</td>\n",
              "      <td>25.0</td>\n",
              "      <td>14.0</td>\n",
              "      <td>66.0</td>\n",
              "      <td>2.0</td>\n",
              "      <td>0.0</td>\n",
              "    </tr>\n",
              "  </tbody>\n",
              "</table>\n",
              "</div>"
            ],
            "text/plain": [
              "        성별코드  연령대코드5세단위  시도코드  신장5Cm단위  ...  혈청지오티ALT  감마지티피  흡연상태   치석\n",
              "105227     1          7    30    180.0  ...      12.0   14.0   1.0  0.0\n",
              "347309     1          9    30    180.0  ...      27.0   34.0   3.0  1.0\n",
              "765440     1         11    41    170.0  ...      25.0   28.0   2.0  1.0\n",
              "85598      1         13    41    150.0  ...      31.0   46.0   1.0  1.0\n",
              "730302     1          8    28    175.0  ...      14.0   66.0   2.0  0.0\n",
              "\n",
              "[5 rows x 25 columns]"
            ]
          },
          "metadata": {
            "tags": []
          }
        },
        {
          "output_type": "stream",
          "text": [
            "<class 'pandas.core.frame.DataFrame'>\n",
            "Int64Index: 757019 entries, 3 to 999997\n",
            "Data columns (total 25 columns):\n",
            "성별코드         757019 non-null int64\n",
            "연령대코드5세단위    757019 non-null int64\n",
            "시도코드         757019 non-null int64\n",
            "신장5Cm단위      756786 non-null float64\n",
            "체중5Kg단위      756781 non-null float64\n",
            "허리둘레         756811 non-null float64\n",
            "시력좌          756876 non-null float64\n",
            "시력우          756879 non-null float64\n",
            "청력좌          756895 non-null float64\n",
            "청력우          756896 non-null float64\n",
            "수축기혈압        757000 non-null float64\n",
            "이완기혈압        757001 non-null float64\n",
            "식전혈당공복혈당     756983 non-null float64\n",
            "총콜레스테롤       756986 non-null float64\n",
            "트리글리세라이드     756986 non-null float64\n",
            "HDL콜레스테롤     756982 non-null float64\n",
            "LDL콜레스테롤     755112 non-null float64\n",
            "혈색소          756977 non-null float64\n",
            "요단백          754074 non-null float64\n",
            "혈청크레아티닌      756986 non-null float64\n",
            "혈청지오티AST     756987 non-null float64\n",
            "혈청지오티ALT     756987 non-null float64\n",
            "감마지티피        756986 non-null float64\n",
            "흡연상태         756886 non-null float64\n",
            "치석           757019 non-null float64\n",
            "dtypes: float64(22), int64(3)\n",
            "memory usage: 150.2 MB\n"
          ],
          "name": "stdout"
        },
        {
          "output_type": "display_data",
          "data": {
            "text/plain": [
              "None"
            ]
          },
          "metadata": {
            "tags": []
          }
        }
      ]
    },
    {
      "cell_type": "code",
      "metadata": {
        "id": "JAudw27Cuy-8",
        "colab_type": "code",
        "colab": {
          "base_uri": "https://localhost:8080/",
          "height": 575
        },
        "outputId": "85e28e0b-9c37-49d2-aef2-efc2d13abe13"
      },
      "source": [
        "# 범주형, 연속형 변수 type 지정\n",
        "# 명목형 변수는 obj로 연속형 변수는 int 또는 float로 변경\n",
        "category_features = ['성별코드', '연령대코드5세단위', '신장5Cm단위', '체중5Kg단위','시도코드', '흡연상태', '치석']\n",
        "\n",
        "for col in df_data.columns:\n",
        "  if col in category_features:\n",
        "    df_data[col] = df_data[col].astype(object)\n",
        "\n",
        "print(df_data.info())"
      ],
      "execution_count": 282,
      "outputs": [
        {
          "output_type": "stream",
          "text": [
            "<class 'pandas.core.frame.DataFrame'>\n",
            "Int64Index: 757019 entries, 3 to 999997\n",
            "Data columns (total 25 columns):\n",
            "성별코드         757019 non-null object\n",
            "연령대코드5세단위    757019 non-null object\n",
            "시도코드         757019 non-null object\n",
            "신장5Cm단위      756786 non-null object\n",
            "체중5Kg단위      756781 non-null object\n",
            "허리둘레         756811 non-null float64\n",
            "시력좌          756876 non-null float64\n",
            "시력우          756879 non-null float64\n",
            "청력좌          756895 non-null float64\n",
            "청력우          756896 non-null float64\n",
            "수축기혈압        757000 non-null float64\n",
            "이완기혈압        757001 non-null float64\n",
            "식전혈당공복혈당     756983 non-null float64\n",
            "총콜레스테롤       756986 non-null float64\n",
            "트리글리세라이드     756986 non-null float64\n",
            "HDL콜레스테롤     756982 non-null float64\n",
            "LDL콜레스테롤     755112 non-null float64\n",
            "혈색소          756977 non-null float64\n",
            "요단백          754074 non-null float64\n",
            "혈청크레아티닌      756986 non-null float64\n",
            "혈청지오티AST     756987 non-null float64\n",
            "혈청지오티ALT     756987 non-null float64\n",
            "감마지티피        756986 non-null float64\n",
            "흡연상태         756886 non-null object\n",
            "치석           757019 non-null object\n",
            "dtypes: float64(18), object(7)\n",
            "memory usage: 170.2+ MB\n",
            "None\n"
          ],
          "name": "stdout"
        }
      ]
    },
    {
      "cell_type": "code",
      "metadata": {
        "id": "dXDFfiN54kEu",
        "colab_type": "code",
        "outputId": "8ab4e971-53a9-4fb2-b019-cf7b9bb70ab5",
        "colab": {
          "base_uri": "https://localhost:8080/",
          "height": 143
        }
      },
      "source": [
        "print(\"Count : \\n\", df_data['치석'].value_counts(), \"Portion : \\n\", df_data['치석'].value_counts()/len(df_data['치석']))"
      ],
      "execution_count": 283,
      "outputs": [
        {
          "output_type": "stream",
          "text": [
            "Count : \n",
            " 1.0    397051\n",
            "0.0    359968\n",
            "Name: 치석, dtype: int64 Portion : \n",
            " 1.0    0.524493\n",
            "0.0    0.475507\n",
            "Name: 치석, dtype: float64\n"
          ],
          "name": "stdout"
        }
      ]
    },
    {
      "cell_type": "code",
      "metadata": {
        "id": "Y7Rv5x9wpVwE",
        "colab_type": "code",
        "colab": {
          "base_uri": "https://localhost:8080/",
          "height": 521
        },
        "outputId": "d0380ea5-d45e-4730-bdb2-c590bfcf77bf"
      },
      "source": [
        "print('# Null Value Check in Data')\n",
        "print(\"-\"*25)\n",
        "print(df_data.isnull().sum())"
      ],
      "execution_count": 284,
      "outputs": [
        {
          "output_type": "stream",
          "text": [
            "# Null Value Check in Data\n",
            "-------------------------\n",
            "성별코드            0\n",
            "연령대코드5세단위       0\n",
            "시도코드            0\n",
            "신장5Cm단위       233\n",
            "체중5Kg단위       238\n",
            "허리둘레          208\n",
            "시력좌           143\n",
            "시력우           140\n",
            "청력좌           124\n",
            "청력우           123\n",
            "수축기혈압          19\n",
            "이완기혈압          18\n",
            "식전혈당공복혈당       36\n",
            "총콜레스테롤         33\n",
            "트리글리세라이드       33\n",
            "HDL콜레스테롤       37\n",
            "LDL콜레스테롤     1907\n",
            "혈색소            42\n",
            "요단백          2945\n",
            "혈청크레아티닌        33\n",
            "혈청지오티AST       32\n",
            "혈청지오티ALT       32\n",
            "감마지티피          33\n",
            "흡연상태          133\n",
            "치석              0\n",
            "dtype: int64\n"
          ],
          "name": "stdout"
        }
      ]
    },
    {
      "cell_type": "code",
      "metadata": {
        "id": "kshpVxc_pVml",
        "colab_type": "code",
        "colab": {
          "base_uri": "https://localhost:8080/",
          "height": 274
        },
        "outputId": "1cb61c12-35c8-4d0d-d41d-dc181909ca94"
      },
      "source": [
        "df_data['치석'].value_counts().plot(kind='bar') \n",
        "plt.show()"
      ],
      "execution_count": 285,
      "outputs": [
        {
          "output_type": "display_data",
          "data": {
            "image/png": "[encoded data removed]",
            "text/plain": [
              "<Figure size 432x288 with 1 Axes>"
            ]
          },
          "metadata": {
            "tags": []
          }
        }
      ]
    },
    {
      "cell_type": "code",
      "metadata": {
        "id": "doTF4GYdpVgX",
        "colab_type": "code",
        "colab": {
          "base_uri": "https://localhost:8080/",
          "height": 53
        },
        "outputId": "5dc526f2-f69f-4e96-c5a7-6fd71bba873b"
      },
      "source": [
        "# 앞에서 명목형 변수의 형을 object로 모두 변경했기 때문에 컬럼 중에서 object 타입을 가진 컬럼만 뽑아서 명목형 변수의 리스트를 만든다\n",
        "# 이 때, 데이터의 기본키(인덱스), 종속변수 등을 제외하고 분석하는 것이 좋음\n",
        "\n",
        "# 단변수 탐색\n",
        "category_features = [col for col in df_data.columns if df_data[col].dtypes == \"object\"]\n",
        "print(category_features)\n",
        "\n",
        "\n",
        "category_features = list(set(category_features) - set(['치석']))\n",
        "print(category_features)"
      ],
      "execution_count": 286,
      "outputs": [
        {
          "output_type": "stream",
          "text": [
            "['성별코드', '연령대코드5세단위', '시도코드', '신장5Cm단위', '체중5Kg단위', '흡연상태', '치석']\n",
            "['신장5Cm단위', '성별코드', '체중5Kg단위', '연령대코드5세단위', '시도코드', '흡연상태']\n"
          ],
          "name": "stdout"
        }
      ]
    },
    {
      "cell_type": "markdown",
      "metadata": {
        "id": "fhURMEEzLV55",
        "colab_type": "text"
      },
      "source": [
        "### 명목형 변수 EDA"
      ]
    },
    {
      "cell_type": "code",
      "metadata": {
        "id": "Sx_dvLpXQIcf",
        "colab_type": "code",
        "colab": {
          "base_uri": "https://localhost:8080/",
          "height": 35
        },
        "outputId": "397c4b1d-460f-4a01-b36f-efd4d08ad934"
      },
      "source": [
        "print(len(category_features))"
      ],
      "execution_count": 287,
      "outputs": [
        {
          "output_type": "stream",
          "text": [
            "6\n"
          ],
          "name": "stdout"
        }
      ]
    },
    {
      "cell_type": "code",
      "metadata": {
        "id": "fEHjG0XGx-KN",
        "colab_type": "code",
        "colab": {
          "base_uri": "https://localhost:8080/",
          "height": 627
        },
        "outputId": "5afc0148-ee4c-4186-85db-057687a43d4a"
      },
      "source": [
        "# 그래프를 통해 명목형 변수의 분포를 체크\n",
        "\n",
        "# for col in category_features:\n",
        "#     df_data[col].value_counts().plot(kind='bar')    \n",
        "#     plt.title(col)\n",
        "#     plt.show()\n",
        "    \n",
        "fig, saxis = plt.subplots(2, 3, figsize=(15,10))\n",
        "plt.figure()\n",
        "\n",
        "# 변수별로 for문을 돌면서 countplot을 그립니다\n",
        "for idx, col in enumerate(category_features):\n",
        "  row_loc = idx // 3\n",
        "  col_loc = idx % 3\n",
        "#   print(idx, row_loc, col_loc)\n",
        "  sns.countplot(x=df_data[col], data= df_data, ax = saxis[row_loc,col_loc])\n",
        "#   df_data[col].value_counts().plot(kind='bar', ax = saxis[row_loc,col_loc])\n",
        "  \n",
        "plt.show()"
      ],
      "execution_count": 303,
      "outputs": [
        {
          "output_type": "display_data",
          "data": {
            "image/png": "[encoded data removed]",
            "text/plain": [
              "<Figure size 1080x720 with 6 Axes>"
            ]
          },
          "metadata": {
            "tags": []
          }
        },
        {
          "output_type": "display_data",
          "data": {
            "text/plain": [
              "<Figure size 432x288 with 0 Axes>"
            ]
          },
          "metadata": {
            "tags": []
          }
        }
      ]
    },
    {
      "cell_type": "code",
      "metadata": {
        "id": "qyWsXjER4zJ7",
        "colab_type": "code",
        "colab": {
          "base_uri": "https://localhost:8080/",
          "height": 647
        },
        "outputId": "a1073870-ccb4-4f26-8c62-57f093bafa9f"
      },
      "source": [
        "# # 단변수 Correlation Check\n",
        "\n",
        "# def portion_func(x):\n",
        "#     sum_val = np.sum(x)\n",
        "#     cnt_val = len(x)\n",
        "#     portion_val = sum_val/cnt_val\n",
        "#     return portion_val\n",
        "\n",
        "  \n",
        "# for col in category_features:\n",
        "#     if df_data[col].dtype == 'object':\n",
        "#         print('치석 Correlation by:', col)\n",
        "#         print(df_data[[col, '치석']].groupby(col).agg(['sum', 'count']))"
      ],
      "execution_count": 235,
      "outputs": [
        {
          "output_type": "stream",
          "text": [
            "치석 Correlation by: 성별코드\n",
            "            치석        \n",
            "           sum   count\n",
            "성별코드                  \n",
            "1     237901.0  432620\n",
            "2     159150.0  324399\n",
            "치석 Correlation by: 시도코드\n",
            "            치석        \n",
            "           sum   count\n",
            "시도코드                  \n",
            "11     78682.0  144158\n",
            "26     24560.0   50478\n",
            "27     14056.0   27025\n",
            "28     30857.0   54690\n",
            "29     11745.0   20257\n",
            "30     13036.0   29201\n",
            "31     10087.0   29720\n",
            "36      2001.0    4261\n",
            "41    104040.0  182520\n",
            "42      9940.0   19368\n",
            "43     15430.0   32010\n",
            "44     16666.0   31780\n",
            "45     15120.0   30880\n",
            "46     11582.0   20817\n",
            "47     13472.0   30759\n",
            "48     20932.0   40623\n",
            "49      2513.0    4425\n",
            "50      2332.0    4047\n",
            "치석 Correlation by: 흡연상태\n",
            "            치석        \n",
            "           sum   count\n",
            "흡연상태                  \n",
            "1.0   218156.0  440688\n",
            "2.0    73955.0  146094\n",
            "3.0   104869.0  170104\n"
          ],
          "name": "stdout"
        }
      ]
    },
    {
      "cell_type": "code",
      "metadata": {
        "id": "UnUhtPz61uHT",
        "colab_type": "code",
        "colab": {
          "base_uri": "https://localhost:8080/",
          "height": 627
        },
        "outputId": "909276f6-95dd-45fb-8174-375bd6479126"
      },
      "source": [
        "# 이변수 탐색\n",
        "# Simple Plotting\n",
        "# categorical values\n",
        "\n",
        "# fig, saxis = plt.subplots(1, 4, figsize=(20,4))\n",
        "\n",
        "# plt.figure()\n",
        "\n",
        "# sns.barplot(x='성별코드', y='치석', data=df_data, ax = saxis[0])\n",
        "# sns.barplot(x='시도코드',y='치석', data=df_data, ax = saxis[1])\n",
        "# sns.barplot(x='흡연상태',y='치석', data=df_data, ax = saxis[2])\n",
        "# sns.barplot(x='흡연상태',y='치석', hue='성별코드', data=df_data, ax = saxis[3])\n",
        "\n",
        "# plt.show()\n",
        "\n",
        "\n",
        "\n",
        "fig, saxis = plt.subplots(2, 3, figsize=(15,10))\n",
        "plt.figure()\n",
        "\n",
        "# 변수별로 for문을 돌면서 barplot을 그립니다\n",
        "for idx, col in enumerate(category_features):\n",
        "  row_loc = idx // 3\n",
        "  col_loc = idx % 3\n",
        "#   print(idx, row_loc, col_loc)\n",
        "  sns.barplot(x=col, y='치석', data= df_data, ax = saxis[row_loc,col_loc])\n",
        "#   df_data[col].value_counts().plot(kind='bar', ax = saxis[row_loc,col_loc])\n",
        "  \n",
        "plt.show()"
      ],
      "execution_count": 304,
      "outputs": [
        {
          "output_type": "display_data",
          "data": {
            "image/png": "[encoded data removed]",
            "text/plain": [
              "<Figure size 1080x720 with 6 Axes>"
            ]
          },
          "metadata": {
            "tags": []
          }
        },
        {
          "output_type": "display_data",
          "data": {
            "text/plain": [
              "<Figure size 432x288 with 0 Axes>"
            ]
          },
          "metadata": {
            "tags": []
          }
        }
      ]
    },
    {
      "cell_type": "markdown",
      "metadata": {
        "id": "aODjgQIqLO0Y",
        "colab_type": "text"
      },
      "source": [
        "### 수치형 변수 EDA\n",
        "\n"
      ]
    },
    {
      "cell_type": "code",
      "metadata": {
        "id": "2G3UtmCsLOKY",
        "colab_type": "code",
        "colab": {
          "base_uri": "https://localhost:8080/",
          "height": 1000
        },
        "outputId": "51277e83-9b83-425d-e535-9f97913eaa0a"
      },
      "source": [
        "# 단변수 탐색 - 단변수 탐색은 seaborn 패키지의 distplot 함수를 이용하면 매우 편함\n",
        "# 수치형 변수만 골라냄\n",
        "\n",
        "numeric_feature = [col for col in df_data.columns if df_data[col].dtypes != \"object\"]\n",
        "numeric_feature = np.sort(numeric_feature)\n",
        "# print(len(numeric_feature)) # 총 18개\n",
        "\n",
        "\n",
        "fig, saxis = plt.subplots(6, 3, figsize=(20,28))\n",
        "plt.figure()\n",
        "\n",
        "# 변수별로 for문을 돌면서 distplot을 그립니다\n",
        "\n",
        "\n",
        "for idx, col in enumerate(numeric_feature):\n",
        "    row_loc = idx // 3\n",
        "    col_loc = idx % 3\n",
        "#     print(idx, row_loc, col_loc)\n",
        "    sns.distplot(df_data.loc[df_data[col].notnull(), col], ax = saxis[row_loc,col_loc])\n",
        "\n",
        "plt.show()"
      ],
      "execution_count": 306,
      "outputs": [
        {
          "output_type": "display_data",
          "data": {
            "image/png": "[encoded data removed]",
            "text/plain": [
              "<Figure size 1440x2016 with 18 Axes>"
            ]
          },
          "metadata": {
            "tags": []
          }
        },
        {
          "output_type": "display_data",
          "data": {
            "text/plain": [
              "<Figure size 432x288 with 0 Axes>"
            ]
          },
          "metadata": {
            "tags": []
          }
        }
      ]
    },
    {
      "cell_type": "code",
      "metadata": {
        "id": "8zIbvoZwLOC8",
        "colab_type": "code",
        "colab": {}
      },
      "source": [
        "log_cols = ['HDL콜레스테롤', 'LDL콜레스테롤', '감마지티피', ]"
      ],
      "execution_count": 0,
      "outputs": []
    },
    {
      "cell_type": "code",
      "metadata": {
        "id": "2EP2WNz-LN2m",
        "colab_type": "code",
        "colab": {}
      },
      "source": [
        ""
      ],
      "execution_count": 0,
      "outputs": []
    },
    {
      "cell_type": "code",
      "metadata": {
        "id": "5NvRe_YbLNvA",
        "colab_type": "code",
        "colab": {}
      },
      "source": [
        ""
      ],
      "execution_count": 0,
      "outputs": []
    },
    {
      "cell_type": "code",
      "metadata": {
        "id": "j8_Egrsh9w3k",
        "colab_type": "code",
        "colab": {
          "base_uri": "https://localhost:8080/",
          "height": 55
        },
        "outputId": "ed358a2e-e3a6-46b9-852e-0ab2325d1edc"
      },
      "source": [
        "numeric_features = [col for col in df_data.columns if df_data[col].dtypes != \"object\"]\n",
        "print(numeric_features)"
      ],
      "execution_count": 236,
      "outputs": [
        {
          "output_type": "stream",
          "text": [
            "['연령대코드5세단위', '신장5Cm단위', '체중5Kg단위', '허리둘레', '시력좌', '시력우', '청력좌', '청력우', '수축기혈압', '이완기혈압', '식전혈당공복혈당', '총콜레스테롤', '트리글리세라이드', 'HDL콜레스테롤', 'LDL콜레스테롤', '혈색소', '요단백', '혈청크레아티닌', '혈청지오티AST', '혈청지오티ALT', '감마지티피']\n"
          ],
          "name": "stdout"
        }
      ]
    },
    {
      "cell_type": "code",
      "metadata": {
        "id": "qhzW18Kd4kEw",
        "colab_type": "code",
        "outputId": "d225ad31-6906-4e7a-e361-8c9bfd403ed6",
        "colab": {
          "base_uri": "https://localhost:8080/",
          "height": 221
        }
      },
      "source": [
        "df_temp = df_data.dropna(how='any')\n",
        "df_temp.head()"
      ],
      "execution_count": 122,
      "outputs": [
        {
          "output_type": "execute_result",
          "data": {
            "text/html": [
              "<div>\n",
              "<style scoped>\n",
              "    .dataframe tbody tr th:only-of-type {\n",
              "        vertical-align: middle;\n",
              "    }\n",
              "\n",
              "    .dataframe tbody tr th {\n",
              "        vertical-align: top;\n",
              "    }\n",
              "\n",
              "    .dataframe thead th {\n",
              "        text-align: right;\n",
              "    }\n",
              "</style>\n",
              "<table border=\"1\" class=\"dataframe\">\n",
              "  <thead>\n",
              "    <tr style=\"text-align: right;\">\n",
              "      <th></th>\n",
              "      <th>성별코드</th>\n",
              "      <th>연령대코드5세단위</th>\n",
              "      <th>시도코드</th>\n",
              "      <th>신장5Cm단위</th>\n",
              "      <th>체중5Kg단위</th>\n",
              "      <th>허리둘레</th>\n",
              "      <th>시력좌</th>\n",
              "      <th>시력우</th>\n",
              "      <th>청력좌</th>\n",
              "      <th>청력우</th>\n",
              "      <th>수축기혈압</th>\n",
              "      <th>이완기혈압</th>\n",
              "      <th>식전혈당공복혈당</th>\n",
              "      <th>총콜레스테롤</th>\n",
              "      <th>트리글리세라이드</th>\n",
              "      <th>HDL콜레스테롤</th>\n",
              "      <th>LDL콜레스테롤</th>\n",
              "      <th>혈색소</th>\n",
              "      <th>요단백</th>\n",
              "      <th>혈청크레아티닌</th>\n",
              "      <th>혈청지오티AST</th>\n",
              "      <th>혈청지오티ALT</th>\n",
              "      <th>감마지티피</th>\n",
              "      <th>흡연상태</th>\n",
              "      <th>치석</th>\n",
              "    </tr>\n",
              "  </thead>\n",
              "  <tbody>\n",
              "    <tr>\n",
              "      <th>3</th>\n",
              "      <td>1</td>\n",
              "      <td>12</td>\n",
              "      <td>48</td>\n",
              "      <td>175.0</td>\n",
              "      <td>70.0</td>\n",
              "      <td>85.0</td>\n",
              "      <td>1.2</td>\n",
              "      <td>1.2</td>\n",
              "      <td>1.0</td>\n",
              "      <td>1.0</td>\n",
              "      <td>124.0</td>\n",
              "      <td>76.0</td>\n",
              "      <td>93.0</td>\n",
              "      <td>179.0</td>\n",
              "      <td>79.0</td>\n",
              "      <td>40.0</td>\n",
              "      <td>123.0</td>\n",
              "      <td>16.8</td>\n",
              "      <td>1.0</td>\n",
              "      <td>1.0</td>\n",
              "      <td>20.0</td>\n",
              "      <td>39.0</td>\n",
              "      <td>69.0</td>\n",
              "      <td>2.0</td>\n",
              "      <td>1.0</td>\n",
              "    </tr>\n",
              "    <tr>\n",
              "      <th>6</th>\n",
              "      <td>1</td>\n",
              "      <td>10</td>\n",
              "      <td>31</td>\n",
              "      <td>175.0</td>\n",
              "      <td>70.0</td>\n",
              "      <td>90.0</td>\n",
              "      <td>1.5</td>\n",
              "      <td>1.5</td>\n",
              "      <td>1.0</td>\n",
              "      <td>1.0</td>\n",
              "      <td>114.0</td>\n",
              "      <td>76.0</td>\n",
              "      <td>85.0</td>\n",
              "      <td>207.0</td>\n",
              "      <td>93.0</td>\n",
              "      <td>50.0</td>\n",
              "      <td>138.0</td>\n",
              "      <td>13.9</td>\n",
              "      <td>1.0</td>\n",
              "      <td>0.8</td>\n",
              "      <td>25.0</td>\n",
              "      <td>30.0</td>\n",
              "      <td>24.0</td>\n",
              "      <td>3.0</td>\n",
              "      <td>0.0</td>\n",
              "    </tr>\n",
              "    <tr>\n",
              "      <th>10</th>\n",
              "      <td>1</td>\n",
              "      <td>7</td>\n",
              "      <td>46</td>\n",
              "      <td>170.0</td>\n",
              "      <td>80.0</td>\n",
              "      <td>86.0</td>\n",
              "      <td>1.5</td>\n",
              "      <td>1.0</td>\n",
              "      <td>1.0</td>\n",
              "      <td>1.0</td>\n",
              "      <td>136.0</td>\n",
              "      <td>80.0</td>\n",
              "      <td>95.0</td>\n",
              "      <td>207.0</td>\n",
              "      <td>297.0</td>\n",
              "      <td>53.0</td>\n",
              "      <td>95.0</td>\n",
              "      <td>16.7</td>\n",
              "      <td>1.0</td>\n",
              "      <td>1.0</td>\n",
              "      <td>27.0</td>\n",
              "      <td>39.0</td>\n",
              "      <td>81.0</td>\n",
              "      <td>3.0</td>\n",
              "      <td>0.0</td>\n",
              "    </tr>\n",
              "    <tr>\n",
              "      <th>12</th>\n",
              "      <td>1</td>\n",
              "      <td>7</td>\n",
              "      <td>41</td>\n",
              "      <td>170.0</td>\n",
              "      <td>80.0</td>\n",
              "      <td>92.0</td>\n",
              "      <td>0.6</td>\n",
              "      <td>0.4</td>\n",
              "      <td>1.0</td>\n",
              "      <td>1.0</td>\n",
              "      <td>128.0</td>\n",
              "      <td>80.0</td>\n",
              "      <td>125.0</td>\n",
              "      <td>230.0</td>\n",
              "      <td>214.0</td>\n",
              "      <td>42.0</td>\n",
              "      <td>145.0</td>\n",
              "      <td>15.3</td>\n",
              "      <td>1.0</td>\n",
              "      <td>1.0</td>\n",
              "      <td>22.0</td>\n",
              "      <td>22.0</td>\n",
              "      <td>101.0</td>\n",
              "      <td>1.0</td>\n",
              "      <td>1.0</td>\n",
              "    </tr>\n",
              "    <tr>\n",
              "      <th>21</th>\n",
              "      <td>1</td>\n",
              "      <td>9</td>\n",
              "      <td>26</td>\n",
              "      <td>165.0</td>\n",
              "      <td>65.0</td>\n",
              "      <td>80.0</td>\n",
              "      <td>1.5</td>\n",
              "      <td>2.0</td>\n",
              "      <td>1.0</td>\n",
              "      <td>1.0</td>\n",
              "      <td>112.0</td>\n",
              "      <td>61.0</td>\n",
              "      <td>92.0</td>\n",
              "      <td>231.0</td>\n",
              "      <td>122.0</td>\n",
              "      <td>46.0</td>\n",
              "      <td>161.0</td>\n",
              "      <td>14.4</td>\n",
              "      <td>1.0</td>\n",
              "      <td>1.0</td>\n",
              "      <td>30.0</td>\n",
              "      <td>40.0</td>\n",
              "      <td>62.0</td>\n",
              "      <td>1.0</td>\n",
              "      <td>0.0</td>\n",
              "    </tr>\n",
              "  </tbody>\n",
              "</table>\n",
              "</div>"
            ],
            "text/plain": [
              "    성별코드  연령대코드5세단위  시도코드  신장5Cm단위  ...  혈청지오티ALT  감마지티피  흡연상태   치석\n",
              "3      1         12    48    175.0  ...      39.0   69.0   2.0  1.0\n",
              "6      1         10    31    175.0  ...      30.0   24.0   3.0  0.0\n",
              "10     1          7    46    170.0  ...      39.0   81.0   3.0  0.0\n",
              "12     1          7    41    170.0  ...      22.0  101.0   1.0  1.0\n",
              "21     1          9    26    165.0  ...      40.0   62.0   1.0  0.0\n",
              "\n",
              "[5 rows x 25 columns]"
            ]
          },
          "metadata": {
            "tags": []
          },
          "execution_count": 122
        }
      ]
    },
    {
      "cell_type": "code",
      "metadata": {
        "id": "d7_y0d584kEy",
        "colab_type": "code",
        "outputId": "dbaa3fc6-570d-4876-d268-a65fd69d6365",
        "colab": {
          "base_uri": "https://localhost:8080/",
          "height": 557
        }
      },
      "source": [
        "print(df_temp.isnull().any())\n",
        "print(len(df_temp))\n",
        "print(df_temp['치석'].value_counts()/len(df_temp['치석']))"
      ],
      "execution_count": 123,
      "outputs": [
        {
          "output_type": "stream",
          "text": [
            "성별코드         False\n",
            "연령대코드5세단위    False\n",
            "시도코드         False\n",
            "신장5Cm단위      False\n",
            "체중5Kg단위      False\n",
            "허리둘레         False\n",
            "시력좌          False\n",
            "시력우          False\n",
            "청력좌          False\n",
            "청력우          False\n",
            "수축기혈압        False\n",
            "이완기혈압        False\n",
            "식전혈당공복혈당     False\n",
            "총콜레스테롤       False\n",
            "트리글리세라이드     False\n",
            "HDL콜레스테롤     False\n",
            "LDL콜레스테롤     False\n",
            "혈색소          False\n",
            "요단백          False\n",
            "혈청크레아티닌      False\n",
            "혈청지오티AST     False\n",
            "혈청지오티ALT     False\n",
            "감마지티피        False\n",
            "흡연상태         False\n",
            "치석           False\n",
            "dtype: bool\n",
            "751452\n",
            "1.0    0.524297\n",
            "0.0    0.475703\n",
            "Name: 치석, dtype: float64\n"
          ],
          "name": "stdout"
        }
      ]
    },
    {
      "cell_type": "code",
      "metadata": {
        "id": "XDc5FTdbvs_V",
        "colab_type": "code",
        "colab": {}
      },
      "source": [
        "df_temp[\"BMI\"] = df_temp[\"체중5Kg단위\"]/(df_temp[\"신장5Cm단위\"]*df_temp[\"신장5Cm단위\"])"
      ],
      "execution_count": 0,
      "outputs": []
    },
    {
      "cell_type": "code",
      "metadata": {
        "id": "rxBZzygA4kEz",
        "colab_type": "code",
        "outputId": "acdb929d-7be2-4d7d-beec-15aca057276a",
        "colab": {
          "base_uri": "https://localhost:8080/",
          "height": 485
        }
      },
      "source": [
        "from pprint import pprint as pp\n",
        "\n",
        "corr_dict = {}\n",
        "\n",
        "for i in df_temp.columns:\n",
        "    corr_dict[i] = df_temp['치석'].corr(df_temp[i])\n",
        "\n",
        "pp(corr_dict)"
      ],
      "execution_count": 136,
      "outputs": [
        {
          "output_type": "stream",
          "text": [
            "{'BMI': 0.041012110265075896,\n",
            " 'HDL콜레스테롤': -0.02878840051158275,\n",
            " 'LDL콜레스테롤': 0.011920191149364587,\n",
            " '감마지티피': 0.044172239434055474,\n",
            " '성별코드': -0.059232862946221154,\n",
            " '수축기혈압': 0.017956915426165263,\n",
            " '시도코드': -0.00841975651991013,\n",
            " '시력우': 0.01693108539436457,\n",
            " '시력좌': 0.015388572114958074,\n",
            " '식전혈당공복혈당': 0.011972879842549768,\n",
            " '신장5Cm단위': 0.057168933162157765,\n",
            " '연령대코드5세단위': -0.0652366789923327,\n",
            " '요단백': 0.00044947630165608025,\n",
            " '이완기혈압': 0.0317065880000752,\n",
            " '청력우': -0.029044265151528307,\n",
            " '청력좌': -0.028485407245751847,\n",
            " '체중5Kg단위': 0.0632083652908656,\n",
            " '총콜레스테롤': 0.019559980238147194,\n",
            " '치석': 0.9999999999999999,\n",
            " '트리글리세라이드': 0.04188721114210314,\n",
            " '허리둘레': 0.03441597333809939,\n",
            " '혈색소': 0.06426649620204736,\n",
            " '혈청지오티ALT': 0.03424628061597991,\n",
            " '혈청지오티AST': 0.010131058126266617,\n",
            " '혈청크레아티닌': 0.023876524748390315,\n",
            " '흡연상태': 0.09225056806305759}\n"
          ],
          "name": "stdout"
        }
      ]
    },
    {
      "cell_type": "code",
      "metadata": {
        "scrolled": true,
        "id": "AuPhJVRK4kE1",
        "colab_type": "code",
        "outputId": "eeaa6785-f5cc-4253-ba2d-bdf5af57e22a",
        "colab": {
          "base_uri": "https://localhost:8080/",
          "height": 313
        }
      },
      "source": [
        "# 데이터 간의 상관관계 체크\n",
        "# 수치형변수들과 Survived 변수의 상관관계 Matrix 시각화\n",
        "g = sns.heatmap(df_temp.corr(),annot=True, fmt = \".2f\", cmap = \"coolwarm\")"
      ],
      "execution_count": 137,
      "outputs": [
        {
          "output_type": "display_data",
          "data": {
            "image/png": "[encoded data removed]",
            "text/plain": [
              "<Figure size 432x288 with 2 Axes>"
            ]
          },
          "metadata": {
            "tags": []
          }
        }
      ]
    },
    {
      "cell_type": "code",
      "metadata": {
        "id": "C_CSSwvi4kE4",
        "colab_type": "code",
        "outputId": "c28f875c-0fb4-41cb-bae6-8cca4645fc1b",
        "colab": {
          "base_uri": "https://localhost:8080/",
          "height": 360
        }
      },
      "source": [
        "df_onehot = pd.get_dummies(df_temp, columns=['성별코드', '시도코드', '흡연상태'])\n",
        "df_onehot.head()"
      ],
      "execution_count": 138,
      "outputs": [
        {
          "output_type": "execute_result",
          "data": {
            "text/html": [
              "<div>\n",
              "<style scoped>\n",
              "    .dataframe tbody tr th:only-of-type {\n",
              "        vertical-align: middle;\n",
              "    }\n",
              "\n",
              "    .dataframe tbody tr th {\n",
              "        vertical-align: top;\n",
              "    }\n",
              "\n",
              "    .dataframe thead th {\n",
              "        text-align: right;\n",
              "    }\n",
              "</style>\n",
              "<table border=\"1\" class=\"dataframe\">\n",
              "  <thead>\n",
              "    <tr style=\"text-align: right;\">\n",
              "      <th></th>\n",
              "      <th>연령대코드5세단위</th>\n",
              "      <th>신장5Cm단위</th>\n",
              "      <th>체중5Kg단위</th>\n",
              "      <th>허리둘레</th>\n",
              "      <th>시력좌</th>\n",
              "      <th>시력우</th>\n",
              "      <th>청력좌</th>\n",
              "      <th>청력우</th>\n",
              "      <th>수축기혈압</th>\n",
              "      <th>이완기혈압</th>\n",
              "      <th>식전혈당공복혈당</th>\n",
              "      <th>총콜레스테롤</th>\n",
              "      <th>트리글리세라이드</th>\n",
              "      <th>HDL콜레스테롤</th>\n",
              "      <th>LDL콜레스테롤</th>\n",
              "      <th>혈색소</th>\n",
              "      <th>요단백</th>\n",
              "      <th>혈청크레아티닌</th>\n",
              "      <th>혈청지오티AST</th>\n",
              "      <th>혈청지오티ALT</th>\n",
              "      <th>감마지티피</th>\n",
              "      <th>치석</th>\n",
              "      <th>BMI</th>\n",
              "      <th>성별코드_1</th>\n",
              "      <th>성별코드_2</th>\n",
              "      <th>시도코드_11</th>\n",
              "      <th>시도코드_26</th>\n",
              "      <th>시도코드_27</th>\n",
              "      <th>시도코드_28</th>\n",
              "      <th>시도코드_29</th>\n",
              "      <th>시도코드_30</th>\n",
              "      <th>시도코드_31</th>\n",
              "      <th>시도코드_36</th>\n",
              "      <th>시도코드_41</th>\n",
              "      <th>시도코드_42</th>\n",
              "      <th>시도코드_43</th>\n",
              "      <th>시도코드_44</th>\n",
              "      <th>시도코드_45</th>\n",
              "      <th>시도코드_46</th>\n",
              "      <th>시도코드_47</th>\n",
              "      <th>시도코드_48</th>\n",
              "      <th>시도코드_49</th>\n",
              "      <th>시도코드_50</th>\n",
              "      <th>흡연상태_1.0</th>\n",
              "      <th>흡연상태_2.0</th>\n",
              "      <th>흡연상태_3.0</th>\n",
              "    </tr>\n",
              "  </thead>\n",
              "  <tbody>\n",
              "    <tr>\n",
              "      <th>3</th>\n",
              "      <td>12</td>\n",
              "      <td>175.0</td>\n",
              "      <td>70.0</td>\n",
              "      <td>85.0</td>\n",
              "      <td>1.2</td>\n",
              "      <td>1.2</td>\n",
              "      <td>1.0</td>\n",
              "      <td>1.0</td>\n",
              "      <td>124.0</td>\n",
              "      <td>76.0</td>\n",
              "      <td>93.0</td>\n",
              "      <td>179.0</td>\n",
              "      <td>79.0</td>\n",
              "      <td>40.0</td>\n",
              "      <td>123.0</td>\n",
              "      <td>16.8</td>\n",
              "      <td>1.0</td>\n",
              "      <td>1.0</td>\n",
              "      <td>20.0</td>\n",
              "      <td>39.0</td>\n",
              "      <td>69.0</td>\n",
              "      <td>1.0</td>\n",
              "      <td>0.002286</td>\n",
              "      <td>1</td>\n",
              "      <td>0</td>\n",
              "      <td>0</td>\n",
              "      <td>0</td>\n",
              "      <td>0</td>\n",
              "      <td>0</td>\n",
              "      <td>0</td>\n",
              "      <td>0</td>\n",
              "      <td>0</td>\n",
              "      <td>0</td>\n",
              "      <td>0</td>\n",
              "      <td>0</td>\n",
              "      <td>0</td>\n",
              "      <td>0</td>\n",
              "      <td>0</td>\n",
              "      <td>0</td>\n",
              "      <td>0</td>\n",
              "      <td>1</td>\n",
              "      <td>0</td>\n",
              "      <td>0</td>\n",
              "      <td>0</td>\n",
              "      <td>1</td>\n",
              "      <td>0</td>\n",
              "    </tr>\n",
              "    <tr>\n",
              "      <th>6</th>\n",
              "      <td>10</td>\n",
              "      <td>175.0</td>\n",
              "      <td>70.0</td>\n",
              "      <td>90.0</td>\n",
              "      <td>1.5</td>\n",
              "      <td>1.5</td>\n",
              "      <td>1.0</td>\n",
              "      <td>1.0</td>\n",
              "      <td>114.0</td>\n",
              "      <td>76.0</td>\n",
              "      <td>85.0</td>\n",
              "      <td>207.0</td>\n",
              "      <td>93.0</td>\n",
              "      <td>50.0</td>\n",
              "      <td>138.0</td>\n",
              "      <td>13.9</td>\n",
              "      <td>1.0</td>\n",
              "      <td>0.8</td>\n",
              "      <td>25.0</td>\n",
              "      <td>30.0</td>\n",
              "      <td>24.0</td>\n",
              "      <td>0.0</td>\n",
              "      <td>0.002286</td>\n",
              "      <td>1</td>\n",
              "      <td>0</td>\n",
              "      <td>0</td>\n",
              "      <td>0</td>\n",
              "      <td>0</td>\n",
              "      <td>0</td>\n",
              "      <td>0</td>\n",
              "      <td>0</td>\n",
              "      <td>1</td>\n",
              "      <td>0</td>\n",
              "      <td>0</td>\n",
              "      <td>0</td>\n",
              "      <td>0</td>\n",
              "      <td>0</td>\n",
              "      <td>0</td>\n",
              "      <td>0</td>\n",
              "      <td>0</td>\n",
              "      <td>0</td>\n",
              "      <td>0</td>\n",
              "      <td>0</td>\n",
              "      <td>0</td>\n",
              "      <td>0</td>\n",
              "      <td>1</td>\n",
              "    </tr>\n",
              "    <tr>\n",
              "      <th>10</th>\n",
              "      <td>7</td>\n",
              "      <td>170.0</td>\n",
              "      <td>80.0</td>\n",
              "      <td>86.0</td>\n",
              "      <td>1.5</td>\n",
              "      <td>1.0</td>\n",
              "      <td>1.0</td>\n",
              "      <td>1.0</td>\n",
              "      <td>136.0</td>\n",
              "      <td>80.0</td>\n",
              "      <td>95.0</td>\n",
              "      <td>207.0</td>\n",
              "      <td>297.0</td>\n",
              "      <td>53.0</td>\n",
              "      <td>95.0</td>\n",
              "      <td>16.7</td>\n",
              "      <td>1.0</td>\n",
              "      <td>1.0</td>\n",
              "      <td>27.0</td>\n",
              "      <td>39.0</td>\n",
              "      <td>81.0</td>\n",
              "      <td>0.0</td>\n",
              "      <td>0.002768</td>\n",
              "      <td>1</td>\n",
              "      <td>0</td>\n",
              "      <td>0</td>\n",
              "      <td>0</td>\n",
              "      <td>0</td>\n",
              "      <td>0</td>\n",
              "      <td>0</td>\n",
              "      <td>0</td>\n",
              "      <td>0</td>\n",
              "      <td>0</td>\n",
              "      <td>0</td>\n",
              "      <td>0</td>\n",
              "      <td>0</td>\n",
              "      <td>0</td>\n",
              "      <td>0</td>\n",
              "      <td>1</td>\n",
              "      <td>0</td>\n",
              "      <td>0</td>\n",
              "      <td>0</td>\n",
              "      <td>0</td>\n",
              "      <td>0</td>\n",
              "      <td>0</td>\n",
              "      <td>1</td>\n",
              "    </tr>\n",
              "    <tr>\n",
              "      <th>12</th>\n",
              "      <td>7</td>\n",
              "      <td>170.0</td>\n",
              "      <td>80.0</td>\n",
              "      <td>92.0</td>\n",
              "      <td>0.6</td>\n",
              "      <td>0.4</td>\n",
              "      <td>1.0</td>\n",
              "      <td>1.0</td>\n",
              "      <td>128.0</td>\n",
              "      <td>80.0</td>\n",
              "      <td>125.0</td>\n",
              "      <td>230.0</td>\n",
              "      <td>214.0</td>\n",
              "      <td>42.0</td>\n",
              "      <td>145.0</td>\n",
              "      <td>15.3</td>\n",
              "      <td>1.0</td>\n",
              "      <td>1.0</td>\n",
              "      <td>22.0</td>\n",
              "      <td>22.0</td>\n",
              "      <td>101.0</td>\n",
              "      <td>1.0</td>\n",
              "      <td>0.002768</td>\n",
              "      <td>1</td>\n",
              "      <td>0</td>\n",
              "      <td>0</td>\n",
              "      <td>0</td>\n",
              "      <td>0</td>\n",
              "      <td>0</td>\n",
              "      <td>0</td>\n",
              "      <td>0</td>\n",
              "      <td>0</td>\n",
              "      <td>0</td>\n",
              "      <td>1</td>\n",
              "      <td>0</td>\n",
              "      <td>0</td>\n",
              "      <td>0</td>\n",
              "      <td>0</td>\n",
              "      <td>0</td>\n",
              "      <td>0</td>\n",
              "      <td>0</td>\n",
              "      <td>0</td>\n",
              "      <td>0</td>\n",
              "      <td>1</td>\n",
              "      <td>0</td>\n",
              "      <td>0</td>\n",
              "    </tr>\n",
              "    <tr>\n",
              "      <th>21</th>\n",
              "      <td>9</td>\n",
              "      <td>165.0</td>\n",
              "      <td>65.0</td>\n",
              "      <td>80.0</td>\n",
              "      <td>1.5</td>\n",
              "      <td>2.0</td>\n",
              "      <td>1.0</td>\n",
              "      <td>1.0</td>\n",
              "      <td>112.0</td>\n",
              "      <td>61.0</td>\n",
              "      <td>92.0</td>\n",
              "      <td>231.0</td>\n",
              "      <td>122.0</td>\n",
              "      <td>46.0</td>\n",
              "      <td>161.0</td>\n",
              "      <td>14.4</td>\n",
              "      <td>1.0</td>\n",
              "      <td>1.0</td>\n",
              "      <td>30.0</td>\n",
              "      <td>40.0</td>\n",
              "      <td>62.0</td>\n",
              "      <td>0.0</td>\n",
              "      <td>0.002388</td>\n",
              "      <td>1</td>\n",
              "      <td>0</td>\n",
              "      <td>0</td>\n",
              "      <td>1</td>\n",
              "      <td>0</td>\n",
              "      <td>0</td>\n",
              "      <td>0</td>\n",
              "      <td>0</td>\n",
              "      <td>0</td>\n",
              "      <td>0</td>\n",
              "      <td>0</td>\n",
              "      <td>0</td>\n",
              "      <td>0</td>\n",
              "      <td>0</td>\n",
              "      <td>0</td>\n",
              "      <td>0</td>\n",
              "      <td>0</td>\n",
              "      <td>0</td>\n",
              "      <td>0</td>\n",
              "      <td>0</td>\n",
              "      <td>1</td>\n",
              "      <td>0</td>\n",
              "      <td>0</td>\n",
              "    </tr>\n",
              "  </tbody>\n",
              "</table>\n",
              "</div>"
            ],
            "text/plain": [
              "    연령대코드5세단위  신장5Cm단위  체중5Kg단위  허리둘레  ...  시도코드_50  흡연상태_1.0  흡연상태_2.0  흡연상태_3.0\n",
              "3          12    175.0     70.0  85.0  ...        0         0         1         0\n",
              "6          10    175.0     70.0  90.0  ...        0         0         0         1\n",
              "10          7    170.0     80.0  86.0  ...        0         0         0         1\n",
              "12          7    170.0     80.0  92.0  ...        0         1         0         0\n",
              "21          9    165.0     65.0  80.0  ...        0         1         0         0\n",
              "\n",
              "[5 rows x 46 columns]"
            ]
          },
          "metadata": {
            "tags": []
          },
          "execution_count": 138
        }
      ]
    },
    {
      "cell_type": "code",
      "metadata": {
        "id": "LhLUKAxe4kE6",
        "colab_type": "code",
        "outputId": "dd1bd825-b330-4a9d-b988-a81ab79f1171",
        "colab": {
          "base_uri": "https://localhost:8080/",
          "height": 845
        }
      },
      "source": [
        "from pprint import pprint as pp\n",
        "\n",
        "corr_oh_dict = {}\n",
        "\n",
        "for i in df_onehot.columns:\n",
        "    corr_oh_dict[i] = df_onehot['치석'].corr(df_onehot[i])\n",
        "\n",
        "pp(corr_oh_dict)"
      ],
      "execution_count": 139,
      "outputs": [
        {
          "output_type": "stream",
          "text": [
            "{'BMI': 0.041012110265075896,\n",
            " 'HDL콜레스테롤': -0.02878840051158275,\n",
            " 'LDL콜레스테롤': 0.011920191149364587,\n",
            " '감마지티피': 0.044172239434055474,\n",
            " '성별코드_1': 0.059232862946221154,\n",
            " '성별코드_2': -0.05923286294622111,\n",
            " '수축기혈압': 0.017956915426165263,\n",
            " '시도코드_11': 0.020406172597462763,\n",
            " '시도코드_26': -0.02043388279497473,\n",
            " '시도코드_27': -0.001651786440281508,\n",
            " '시도코드_28': 0.022391589484737778,\n",
            " '시도코드_29': 0.018426926624609305,\n",
            " '시도코드_30': -0.031113610287068137,\n",
            " '시도코드_31': -0.0749085291177587,\n",
            " '시도코드_36': -0.008165865310191752,\n",
            " '시도코드_41': 0.051395548156774565,\n",
            " '시도코드_42': -0.0036260229514189926,\n",
            " '시도코드_43': -0.01788173879128958,\n",
            " '시도코드_44': -2.4717301866864215e-05,\n",
            " '시도코드_45': -0.014255045075150395,\n",
            " '시도코드_46': 0.010705270749428994,\n",
            " '시도코드_47': -0.03557536288592317,\n",
            " '시도코드_48': -0.004336221298492766,\n",
            " '시도코드_49': 0.006756494274881947,\n",
            " '시도코드_50': 0.00749322008806643,\n",
            " '시력우': 0.01693108539436457,\n",
            " '시력좌': 0.015388572114958074,\n",
            " '식전혈당공복혈당': 0.011972879842549768,\n",
            " '신장5Cm단위': 0.057168933162157765,\n",
            " '연령대코드5세단위': -0.0652366789923327,\n",
            " '요단백': 0.00044947630165608025,\n",
            " '이완기혈압': 0.0317065880000752,\n",
            " '청력우': -0.029044265151528307,\n",
            " '청력좌': -0.028485407245751847,\n",
            " '체중5Kg단위': 0.0632083652908656,\n",
            " '총콜레스테롤': 0.019559980238147194,\n",
            " '치석': 0.9999999999999999,\n",
            " '트리글리세라이드': 0.04188721114210314,\n",
            " '허리둘레': 0.03441597333809939,\n",
            " '혈색소': 0.06426649620204736,\n",
            " '혈청지오티ALT': 0.03424628061597991,\n",
            " '혈청지오티AST': 0.010131058126266617,\n",
            " '혈청크레아티닌': 0.023876524748390315,\n",
            " '흡연상태_1.0': -0.06994953111399788,\n",
            " '흡연상태_2.0': -0.017795381349524027,\n",
            " '흡연상태_3.0': 0.09947501024753086}\n"
          ],
          "name": "stdout"
        }
      ]
    },
    {
      "cell_type": "code",
      "metadata": {
        "id": "Su5Fq9xy4kE9",
        "colab_type": "code",
        "colab": {}
      },
      "source": [
        "df_x = df_onehot[df_onehot.columns.difference(['치석'])]\n",
        "df_y = df_onehot['치석']"
      ],
      "execution_count": 0,
      "outputs": []
    },
    {
      "cell_type": "code",
      "metadata": {
        "id": "p6msPPJG4kE_",
        "colab_type": "code",
        "outputId": "b8373084-74d3-43ac-a14f-3196a1e25e4b",
        "colab": {
          "base_uri": "https://localhost:8080/",
          "height": 1000
        }
      },
      "source": [
        "np_x = df_x.values\n",
        "np_y = df_y.values\n",
        "\n",
        "print(np_x[:5])\n",
        "print(np_y[:5])"
      ],
      "execution_count": 141,
      "outputs": [
        {
          "output_type": "stream",
          "text": [
            "[[2.28571429e-03 4.00000000e+01 1.23000000e+02 6.90000000e+01\n",
            "  1.00000000e+00 0.00000000e+00 1.24000000e+02 0.00000000e+00\n",
            "  0.00000000e+00 0.00000000e+00 0.00000000e+00 0.00000000e+00\n",
            "  0.00000000e+00 0.00000000e+00 0.00000000e+00 0.00000000e+00\n",
            "  0.00000000e+00 0.00000000e+00 0.00000000e+00 0.00000000e+00\n",
            "  0.00000000e+00 0.00000000e+00 1.00000000e+00 0.00000000e+00\n",
            "  0.00000000e+00 1.20000000e+00 1.20000000e+00 9.30000000e+01\n",
            "  1.75000000e+02 1.20000000e+01 1.00000000e+00 7.60000000e+01\n",
            "  1.00000000e+00 1.00000000e+00 7.00000000e+01 1.79000000e+02\n",
            "  7.90000000e+01 8.50000000e+01 1.68000000e+01 3.90000000e+01\n",
            "  2.00000000e+01 1.00000000e+00 0.00000000e+00 1.00000000e+00\n",
            "  0.00000000e+00]\n",
            " [2.28571429e-03 5.00000000e+01 1.38000000e+02 2.40000000e+01\n",
            "  1.00000000e+00 0.00000000e+00 1.14000000e+02 0.00000000e+00\n",
            "  0.00000000e+00 0.00000000e+00 0.00000000e+00 0.00000000e+00\n",
            "  0.00000000e+00 1.00000000e+00 0.00000000e+00 0.00000000e+00\n",
            "  0.00000000e+00 0.00000000e+00 0.00000000e+00 0.00000000e+00\n",
            "  0.00000000e+00 0.00000000e+00 0.00000000e+00 0.00000000e+00\n",
            "  0.00000000e+00 1.50000000e+00 1.50000000e+00 8.50000000e+01\n",
            "  1.75000000e+02 1.00000000e+01 1.00000000e+00 7.60000000e+01\n",
            "  1.00000000e+00 1.00000000e+00 7.00000000e+01 2.07000000e+02\n",
            "  9.30000000e+01 9.00000000e+01 1.39000000e+01 3.00000000e+01\n",
            "  2.50000000e+01 8.00000000e-01 0.00000000e+00 0.00000000e+00\n",
            "  1.00000000e+00]\n",
            " [2.76816609e-03 5.30000000e+01 9.50000000e+01 8.10000000e+01\n",
            "  1.00000000e+00 0.00000000e+00 1.36000000e+02 0.00000000e+00\n",
            "  0.00000000e+00 0.00000000e+00 0.00000000e+00 0.00000000e+00\n",
            "  0.00000000e+00 0.00000000e+00 0.00000000e+00 0.00000000e+00\n",
            "  0.00000000e+00 0.00000000e+00 0.00000000e+00 0.00000000e+00\n",
            "  1.00000000e+00 0.00000000e+00 0.00000000e+00 0.00000000e+00\n",
            "  0.00000000e+00 1.00000000e+00 1.50000000e+00 9.50000000e+01\n",
            "  1.70000000e+02 7.00000000e+00 1.00000000e+00 8.00000000e+01\n",
            "  1.00000000e+00 1.00000000e+00 8.00000000e+01 2.07000000e+02\n",
            "  2.97000000e+02 8.60000000e+01 1.67000000e+01 3.90000000e+01\n",
            "  2.70000000e+01 1.00000000e+00 0.00000000e+00 0.00000000e+00\n",
            "  1.00000000e+00]\n",
            " [2.76816609e-03 4.20000000e+01 1.45000000e+02 1.01000000e+02\n",
            "  1.00000000e+00 0.00000000e+00 1.28000000e+02 0.00000000e+00\n",
            "  0.00000000e+00 0.00000000e+00 0.00000000e+00 0.00000000e+00\n",
            "  0.00000000e+00 0.00000000e+00 0.00000000e+00 1.00000000e+00\n",
            "  0.00000000e+00 0.00000000e+00 0.00000000e+00 0.00000000e+00\n",
            "  0.00000000e+00 0.00000000e+00 0.00000000e+00 0.00000000e+00\n",
            "  0.00000000e+00 4.00000000e-01 6.00000000e-01 1.25000000e+02\n",
            "  1.70000000e+02 7.00000000e+00 1.00000000e+00 8.00000000e+01\n",
            "  1.00000000e+00 1.00000000e+00 8.00000000e+01 2.30000000e+02\n",
            "  2.14000000e+02 9.20000000e+01 1.53000000e+01 2.20000000e+01\n",
            "  2.20000000e+01 1.00000000e+00 1.00000000e+00 0.00000000e+00\n",
            "  0.00000000e+00]\n",
            " [2.38751148e-03 4.60000000e+01 1.61000000e+02 6.20000000e+01\n",
            "  1.00000000e+00 0.00000000e+00 1.12000000e+02 0.00000000e+00\n",
            "  1.00000000e+00 0.00000000e+00 0.00000000e+00 0.00000000e+00\n",
            "  0.00000000e+00 0.00000000e+00 0.00000000e+00 0.00000000e+00\n",
            "  0.00000000e+00 0.00000000e+00 0.00000000e+00 0.00000000e+00\n",
            "  0.00000000e+00 0.00000000e+00 0.00000000e+00 0.00000000e+00\n",
            "  0.00000000e+00 2.00000000e+00 1.50000000e+00 9.20000000e+01\n",
            "  1.65000000e+02 9.00000000e+00 1.00000000e+00 6.10000000e+01\n",
            "  1.00000000e+00 1.00000000e+00 6.50000000e+01 2.31000000e+02\n",
            "  1.22000000e+02 8.00000000e+01 1.44000000e+01 4.00000000e+01\n",
            "  3.00000000e+01 1.00000000e+00 1.00000000e+00 0.00000000e+00\n",
            "  0.00000000e+00]]\n",
            "[1. 0. 0. 1. 0.]\n"
          ],
          "name": "stdout"
        }
      ]
    },
    {
      "cell_type": "code",
      "metadata": {
        "id": "n5XgxjU74kFA",
        "colab_type": "code",
        "colab": {}
      },
      "source": [
        "from sklearn.model_selection import train_test_split\n",
        "x_train, x_test, y_train, y_test = train_test_split(np_x, np_y, test_size = 0.3, random_state = 42)"
      ],
      "execution_count": 0,
      "outputs": []
    },
    {
      "cell_type": "code",
      "metadata": {
        "id": "cTiql8rA4kFC",
        "colab_type": "code",
        "colab": {}
      },
      "source": [
        "from sklearn.preprocessing import MinMaxScaler\n",
        "from sklearn.pipeline import Pipeline\n",
        "from sklearn.compose import ColumnTransformer\n",
        "\n",
        "num_pipeline = Pipeline([\n",
        "        ('mixmax_scaler', MinMaxScaler()),\n",
        "    ])"
      ],
      "execution_count": 0,
      "outputs": []
    },
    {
      "cell_type": "code",
      "metadata": {
        "id": "9LFY2z3O4kFE",
        "colab_type": "code",
        "colab": {}
      },
      "source": [
        "x_train = num_pipeline.fit_transform(x_train)\n",
        "x_test = num_pipeline.fit_transform(x_test)"
      ],
      "execution_count": 0,
      "outputs": []
    },
    {
      "cell_type": "code",
      "metadata": {
        "id": "L1y54izU4kFH",
        "colab_type": "code",
        "outputId": "7f8b95ba-83bd-449f-9282-34f678c59bce",
        "colab": {
          "base_uri": "https://localhost:8080/",
          "height": 341
        }
      },
      "source": [
        "display(x_train[:2])"
      ],
      "execution_count": 145,
      "outputs": [
        {
          "output_type": "display_data",
          "data": {
            "text/plain": [
              "array([[0.1174797 , 0.04109589, 0.04779934, 0.02805611, 1.        ,\n",
              "        0.        , 0.28795812, 0.        , 0.        , 0.        ,\n",
              "        0.        , 1.        , 0.        , 0.        , 0.        ,\n",
              "        0.        , 0.        , 0.        , 0.        , 0.        ,\n",
              "        0.        , 0.        , 0.        , 0.        , 0.        ,\n",
              "        0.1122449 , 0.09183673, 0.11538462, 0.73913043, 0.30769231,\n",
              "        0.        , 0.26811594, 0.        , 0.        , 0.26666667,\n",
              "        0.06907594, 0.01072433, 0.06820461, 0.62980769, 0.00307397,\n",
              "        0.00335902, 0.01098901, 0.        , 0.        , 1.        ],\n",
              "       [0.13974142, 0.08401826, 0.05205868, 0.03907816, 1.        ,\n",
              "        0.        , 0.36649215, 0.        , 0.        , 0.        ,\n",
              "        0.        , 0.        , 0.        , 0.        , 0.        ,\n",
              "        1.        , 0.        , 0.        , 0.        , 0.        ,\n",
              "        0.        , 0.        , 0.        , 0.        , 0.        ,\n",
              "        0.09183673, 0.1122449 , 0.15551839, 0.60869565, 0.53846154,\n",
              "        0.        , 0.33333333, 0.        , 0.        , 0.23333333,\n",
              "        0.09332113, 0.00720816, 0.07121364, 0.63461538, 0.0024976 ,\n",
              "        0.00414938, 0.01098901, 1.        , 0.        , 0.        ]])"
            ]
          },
          "metadata": {
            "tags": []
          }
        }
      ]
    },
    {
      "cell_type": "code",
      "metadata": {
        "id": "zKjGKTPv4kFJ",
        "colab_type": "code",
        "outputId": "25dec538-ba5f-49c0-9103-70e175deb26c",
        "colab": {
          "base_uri": "https://localhost:8080/",
          "height": 89
        }
      },
      "source": [
        "# display(x_train.head())\n",
        "# display(x_test.head())\n",
        "# display(y_train.head())\n",
        "# display(y_test.head())\n",
        "display(x_train.shape)\n",
        "display(y_train.shape)\n",
        "display(x_test.shape)\n",
        "display(y_test.shape)"
      ],
      "execution_count": 146,
      "outputs": [
        {
          "output_type": "display_data",
          "data": {
            "text/plain": [
              "(526016, 45)"
            ]
          },
          "metadata": {
            "tags": []
          }
        },
        {
          "output_type": "display_data",
          "data": {
            "text/plain": [
              "(526016,)"
            ]
          },
          "metadata": {
            "tags": []
          }
        },
        {
          "output_type": "display_data",
          "data": {
            "text/plain": [
              "(225436, 45)"
            ]
          },
          "metadata": {
            "tags": []
          }
        },
        {
          "output_type": "display_data",
          "data": {
            "text/plain": [
              "(225436,)"
            ]
          },
          "metadata": {
            "tags": []
          }
        }
      ]
    },
    {
      "cell_type": "code",
      "metadata": {
        "id": "IceMwYml4kFL",
        "colab_type": "code",
        "outputId": "0659cd69-de42-4ba4-9c29-299b0295f57a",
        "colab": {
          "base_uri": "https://localhost:8080/",
          "height": 35
        }
      },
      "source": [
        "print(len(x_train), len(x_test), len(y_train), len(y_test))"
      ],
      "execution_count": 147,
      "outputs": [
        {
          "output_type": "stream",
          "text": [
            "526016 225436 526016 225436\n"
          ],
          "name": "stdout"
        }
      ]
    },
    {
      "cell_type": "code",
      "metadata": {
        "id": "eQJpDQVc4kFM",
        "colab_type": "code",
        "colab": {}
      },
      "source": [
        "from sklearn import tree, linear_model, naive_bayes, ensemble\n",
        "\n",
        "# evaluation package\n",
        "from sklearn.model_selection import cross_validate\n",
        "from sklearn.metrics import classification_report, confusion_matrix, accuracy_score, roc_auc_score, roc_curve, auc"
      ],
      "execution_count": 0,
      "outputs": []
    },
    {
      "cell_type": "code",
      "metadata": {
        "id": "DVZ9P9Xm4kFO",
        "colab_type": "code",
        "outputId": "320e7c4d-c45b-4a06-9198-8adf757b66ca",
        "colab": {
          "base_uri": "https://localhost:8080/",
          "height": 107
        }
      },
      "source": [
        "model_lr = linear_model.LogisticRegression()\n",
        "model_lr.fit(x_train, y_train)"
      ],
      "execution_count": 149,
      "outputs": [
        {
          "output_type": "execute_result",
          "data": {
            "text/plain": [
              "LogisticRegression(C=1.0, class_weight=None, dual=False, fit_intercept=True,\n",
              "                   intercept_scaling=1, l1_ratio=None, max_iter=100,\n",
              "                   multi_class='warn', n_jobs=None, penalty='l2',\n",
              "                   random_state=None, solver='warn', tol=0.0001, verbose=0,\n",
              "                   warm_start=False)"
            ]
          },
          "metadata": {
            "tags": []
          },
          "execution_count": 149
        }
      ]
    },
    {
      "cell_type": "code",
      "metadata": {
        "id": "FLsPRWIk4kFQ",
        "colab_type": "code",
        "outputId": "ee9072f5-d042-46f2-f827-73deaadf6784",
        "colab": {
          "base_uri": "https://localhost:8080/",
          "height": 287
        }
      },
      "source": [
        "y_pred_lr = model_lr.predict(x_test)\n",
        "print(\"Accuracy: {:.5f}\".format(accuracy_score(y_test, y_pred_lr)))\n",
        "print(\"Confusion Matrix: \\n\", confusion_matrix(y_test, y_pred_lr))\n",
        "print(\"Classification Report Matrix: \\n\", classification_report(y_test, y_pred_lr))\n",
        "\n",
        "roc_auc_lr = roc_auc_score(y_test, y_pred_lr)\n",
        "print(roc_auc_lr)"
      ],
      "execution_count": 150,
      "outputs": [
        {
          "output_type": "stream",
          "text": [
            "Accuracy: 0.54902\n",
            "Confusion Matrix: \n",
            " [[ 13541  93486]\n",
            " [  8181 110228]]\n",
            "Classification Report Matrix: \n",
            "               precision    recall  f1-score   support\n",
            "\n",
            "         0.0       0.62      0.13      0.21    107027\n",
            "         1.0       0.54      0.93      0.68    118409\n",
            "\n",
            "    accuracy                           0.55    225436\n",
            "   macro avg       0.58      0.53      0.45    225436\n",
            "weighted avg       0.58      0.55      0.46    225436\n",
            "\n",
            "0.5287142222310564\n"
          ],
          "name": "stdout"
        }
      ]
    },
    {
      "cell_type": "code",
      "metadata": {
        "id": "TzDwGIMx4kFR",
        "colab_type": "code",
        "outputId": "d772b36e-9a46-4d5e-c9ed-30c023d8b7b4",
        "colab": {
          "base_uri": "https://localhost:8080/",
          "height": 299
        }
      },
      "source": [
        "fpr, tpr, threshold = roc_curve(y_test, y_pred_lr)\n",
        "roc_auc = auc(fpr, tpr)\n",
        "\n",
        "plt.title('Receiver Operating Characteristic')\n",
        "plt.plot(fpr, tpr, 'b', label = 'AUC = %0.2f' % roc_auc)\n",
        "plt.legend(loc = 'lower right')\n",
        "plt.plot([0, 1], [0, 1],'r--')\n",
        "plt.xlim([0, 1])\n",
        "plt.ylim([0, 1])\n",
        "plt.ylabel('True Positive Rate')\n",
        "plt.xlabel('False Positive Rate')\n",
        "plt.show()"
      ],
      "execution_count": 151,
      "outputs": [
        {
          "output_type": "display_data",
          "data": {
            "image/png": "[encoded data removed]",
            "text/plain": [
              "<Figure size 432x288 with 1 Axes>"
            ]
          },
          "metadata": {
            "tags": []
          }
        }
      ]
    },
    {
      "cell_type": "code",
      "metadata": {
        "id": "1e6jTF8a4kFT",
        "colab_type": "code",
        "outputId": "ae244278-5ee0-48df-ea39-1d4a72951d29",
        "colab": {
          "base_uri": "https://localhost:8080/",
          "height": 143
        }
      },
      "source": [
        "model_rf = ensemble.RandomForestClassifier()\n",
        "model_rf.fit(x_train, y_train)"
      ],
      "execution_count": 152,
      "outputs": [
        {
          "output_type": "execute_result",
          "data": {
            "text/plain": [
              "RandomForestClassifier(bootstrap=True, class_weight=None, criterion='gini',\n",
              "                       max_depth=None, max_features='auto', max_leaf_nodes=None,\n",
              "                       min_impurity_decrease=0.0, min_impurity_split=None,\n",
              "                       min_samples_leaf=1, min_samples_split=2,\n",
              "                       min_weight_fraction_leaf=0.0, n_estimators=10,\n",
              "                       n_jobs=None, oob_score=False, random_state=None,\n",
              "                       verbose=0, warm_start=False)"
            ]
          },
          "metadata": {
            "tags": []
          },
          "execution_count": 152
        }
      ]
    },
    {
      "cell_type": "code",
      "metadata": {
        "id": "enzaIEcP4kFU",
        "colab_type": "code",
        "outputId": "93a604b4-a60f-4125-ddf1-0e93e04c3df9",
        "colab": {
          "base_uri": "https://localhost:8080/",
          "height": 269
        }
      },
      "source": [
        "y_pred_rf = model_rf.predict(x_test)\n",
        "print(\"Accuracy: {:.5f}\".format(accuracy_score(y_test, y_pred_rf)))\n",
        "print(\"Confusion Matrix: \\n\", confusion_matrix(y_test, y_pred_rf))\n",
        "print(\"Classification Report Matrix: \\n\", classification_report(y_test, y_pred_rf))"
      ],
      "execution_count": 153,
      "outputs": [
        {
          "output_type": "stream",
          "text": [
            "Accuracy: 0.50941\n",
            "Confusion Matrix: \n",
            " [[64934 42093]\n",
            " [68503 49906]]\n",
            "Classification Report Matrix: \n",
            "               precision    recall  f1-score   support\n",
            "\n",
            "         0.0       0.49      0.61      0.54    107027\n",
            "         1.0       0.54      0.42      0.47    118409\n",
            "\n",
            "    accuracy                           0.51    225436\n",
            "   macro avg       0.51      0.51      0.51    225436\n",
            "weighted avg       0.52      0.51      0.51    225436\n",
            "\n"
          ],
          "name": "stdout"
        }
      ]
    },
    {
      "cell_type": "code",
      "metadata": {
        "id": "AzOZ4oXO4kFW",
        "colab_type": "code",
        "outputId": "6d2ee1ca-ce7a-4f21-f973-3c763de46b6f",
        "colab": {
          "base_uri": "https://localhost:8080/",
          "height": 299
        }
      },
      "source": [
        "fpr, tpr, threshold = roc_curve(y_test, y_pred_rf)\n",
        "roc_auc = auc(fpr, tpr)\n",
        "\n",
        "plt.title('Receiver Operating Characteristic')\n",
        "plt.plot(fpr, tpr, 'b', label = 'AUC = %0.2f' % roc_auc)\n",
        "plt.legend(loc = 'lower right')\n",
        "plt.plot([0, 1], [0, 1],'r--')\n",
        "plt.xlim([0, 1])\n",
        "plt.ylim([0, 1])\n",
        "plt.ylabel('True Positive Rate')\n",
        "plt.xlabel('False Positive Rate')\n",
        "plt.show()"
      ],
      "execution_count": 154,
      "outputs": [
        {
          "output_type": "display_data",
          "data": {
            "image/png": "[encoded data removed]",
            "text/plain": [
              "<Figure size 432x288 with 1 Axes>"
            ]
          },
          "metadata": {
            "tags": []
          }
        }
      ]
    },
    {
      "cell_type": "code",
      "metadata": {
        "id": "MgpyJ8KUz1LL",
        "colab_type": "code",
        "colab": {
          "base_uri": "https://localhost:8080/",
          "height": 73
        },
        "outputId": "5d5f919d-8774-4494-ed6e-a4f09adb598a"
      },
      "source": [
        "important_features_dict = {}\n",
        "for x,i in enumerate(model_rf.feature_importances_):\n",
        "    important_features_dict[x]=i\n",
        "\n",
        "\n",
        "important_features_list = sorted(important_features_dict,\n",
        "                                 key=important_features_dict.get,\n",
        "                                 reverse=True)\n",
        "\n",
        "print(sorted(model_rf.feature_importances_, reverse=True))\n",
        "print('Most important features: %s'%important_features_list)"
      ],
      "execution_count": 162,
      "outputs": [
        {
          "output_type": "stream",
          "text": [
            "[0.06615012522298387, 0.06246352862870288, 0.06237680141525914, 0.05873026708240636, 0.05869569185488808, 0.05772145710083302, 0.05653050468585445, 0.056090560776964185, 0.05505775318358207, 0.05430663565268516, 0.05211254456085057, 0.051141332173188184, 0.04229274481125285, 0.03689399890873295, 0.03585202298509874, 0.03568425795886343, 0.03368527470539082, 0.02566909799651418, 0.02545139074821807, 0.005843167895670348, 0.00567657465977724, 0.005591922587444223, 0.003886421775600231, 0.003552508977143947, 0.0035462227722247554, 0.0034735652364197623, 0.0033513092952647166, 0.0033263646180759195, 0.00284418356648916, 0.0027918218105400143, 0.0027564173743308334, 0.0026768103257251985, 0.002461928635107463, 0.00242092120715059, 0.0022053166694565745, 0.002171951323494109, 0.002139067226970666, 0.0021390026119793223, 0.0020704189368888817, 0.0020235229771185938, 0.0019784196021072824, 0.0018506871043345694, 0.0008122041051366027, 0.0007903992013546053, 0.0007128790519253654]\n",
            "Most important features: [36, 2, 35, 1, 27, 38, 3, 6, 37, 39, 31, 40, 0, 29, 26, 25, 41, 34, 28, 44, 13, 30, 42, 7, 15, 43, 22, 8, 10, 18, 19, 9, 17, 4, 16, 20, 33, 21, 5, 32, 12, 11, 14, 23, 24]\n"
          ],
          "name": "stdout"
        }
      ]
    },
    {
      "cell_type": "code",
      "metadata": {
        "id": "jFSZvp5z4kFX",
        "colab_type": "code",
        "outputId": "dcf16193-1e5f-4c01-8977-81432239063b",
        "colab": {
          "base_uri": "https://localhost:8080/",
          "height": 125
        }
      },
      "source": [
        "model_dt = tree.DecisionTreeClassifier()\n",
        "model_dt.fit(x_train, y_train)"
      ],
      "execution_count": 155,
      "outputs": [
        {
          "output_type": "execute_result",
          "data": {
            "text/plain": [
              "DecisionTreeClassifier(class_weight=None, criterion='gini', max_depth=None,\n",
              "                       max_features=None, max_leaf_nodes=None,\n",
              "                       min_impurity_decrease=0.0, min_impurity_split=None,\n",
              "                       min_samples_leaf=1, min_samples_split=2,\n",
              "                       min_weight_fraction_leaf=0.0, presort=False,\n",
              "                       random_state=None, splitter='best')"
            ]
          },
          "metadata": {
            "tags": []
          },
          "execution_count": 155
        }
      ]
    },
    {
      "cell_type": "code",
      "metadata": {
        "id": "WQHUDGMr4kFZ",
        "colab_type": "code",
        "outputId": "4cda308e-f5cf-4d0f-80a3-962b05636396",
        "colab": {
          "base_uri": "https://localhost:8080/",
          "height": 269
        }
      },
      "source": [
        "y_pred_dt = model_dt.predict(x_test)\n",
        "print(\"Accuracy: {:.5f}\".format(accuracy_score(y_test, y_pred_dt)))\n",
        "print(\"Confusion Matrix: \\n\", confusion_matrix(y_test, y_pred_dt))\n",
        "print(\"Classification Report Matrix: \\n\", classification_report(y_test, y_pred_dt))"
      ],
      "execution_count": 156,
      "outputs": [
        {
          "output_type": "stream",
          "text": [
            "Accuracy: 0.50056\n",
            "Confusion Matrix: \n",
            " [[53041 53986]\n",
            " [58606 59803]]\n",
            "Classification Report Matrix: \n",
            "               precision    recall  f1-score   support\n",
            "\n",
            "         0.0       0.48      0.50      0.49    107027\n",
            "         1.0       0.53      0.51      0.52    118409\n",
            "\n",
            "    accuracy                           0.50    225436\n",
            "   macro avg       0.50      0.50      0.50    225436\n",
            "weighted avg       0.50      0.50      0.50    225436\n",
            "\n"
          ],
          "name": "stdout"
        }
      ]
    },
    {
      "cell_type": "code",
      "metadata": {
        "id": "Z7Nr5_0l4kFa",
        "colab_type": "code",
        "outputId": "e6b7f8bc-6ecc-4314-cc79-8f16680f2a8c",
        "colab": {
          "base_uri": "https://localhost:8080/",
          "height": 35
        }
      },
      "source": [
        "import keras\n",
        "# Deep Learning Model 로드\n",
        "from keras.models import Sequential\n",
        "from keras.layers import Dense, Dropout, Activation \n",
        "from keras.wrappers.scikit_learn import KerasClassifier"
      ],
      "execution_count": 98,
      "outputs": [
        {
          "output_type": "stream",
          "text": [
            "Using TensorFlow backend.\n"
          ],
          "name": "stderr"
        }
      ]
    },
    {
      "cell_type": "code",
      "metadata": {
        "id": "YC-iw7Mt4kFb",
        "colab_type": "code",
        "colab": {}
      },
      "source": [
        "# Deep Learning 평가를 위한 평가 함수 정의\n",
        "from keras import backend as K\n",
        "\n",
        "def recall(y_target, y_pred):\n",
        "    # clip(t, clip_value_min, clip_value_max) : clip_value_min~clip_value_max 이외 가장자리를 깎아 낸다\n",
        "    # round : 반올림한다\n",
        "    y_target_yn = K.round(K.clip(y_target, 0, 1)) # 실제값을 0(Negative) 또는 1(Positive)로 설정한다\n",
        "    y_pred_yn = K.round(K.clip(y_pred, 0, 1)) # 예측값을 0(Negative) 또는 1(Positive)로 설정한다\n",
        "\n",
        "    # True Positive는 실제 값과 예측 값이 모두 1(Positive)인 경우이다\n",
        "    count_true_positive = K.sum(y_target_yn * y_pred_yn) \n",
        "\n",
        "    # (True Positive + False Negative) = 실제 값이 1(Positive) 전체\n",
        "    count_true_positive_false_negative = K.sum(y_target_yn)\n",
        "\n",
        "    # Recall =  (True Positive) / (True Positive + False Negative)\n",
        "    # K.epsilon()는 'divide by zero error' 예방차원에서 작은 수를 더한다\n",
        "    recall = count_true_positive / (count_true_positive_false_negative + K.epsilon())\n",
        "\n",
        "    # return a single tensor value\n",
        "    return recall\n",
        "\n",
        "\n",
        "def precision(y_target, y_pred):\n",
        "    # clip(t, clip_value_min, clip_value_max) : clip_value_min~clip_value_max 이외 가장자리를 깎아 낸다\n",
        "    # round : 반올림한다\n",
        "    y_pred_yn = K.round(K.clip(y_pred, 0, 1)) # 예측값을 0(Negative) 또는 1(Positive)로 설정한다\n",
        "    y_target_yn = K.round(K.clip(y_target, 0, 1)) # 실제값을 0(Negative) 또는 1(Positive)로 설정한다\n",
        "\n",
        "    # True Positive는 실제 값과 예측 값이 모두 1(Positive)인 경우이다\n",
        "    count_true_positive = K.sum(y_target_yn * y_pred_yn) \n",
        "\n",
        "    # (True Positive + False Positive) = 예측 값이 1(Positive) 전체\n",
        "    count_true_positive_false_positive = K.sum(y_pred_yn)\n",
        "\n",
        "    # Precision = (True Positive) / (True Positive + False Positive)\n",
        "    # K.epsilon()는 'divide by zero error' 예방차원에서 작은 수를 더한다\n",
        "    precision = count_true_positive / (count_true_positive_false_positive + K.epsilon())\n",
        "\n",
        "    # return a single tensor value\n",
        "    return precision\n",
        "\n",
        "\n",
        "def f1score(y_target, y_pred):\n",
        "    _recall = recall(y_target, y_pred)\n",
        "    _precision = precision(y_target, y_pred)\n",
        "    # K.epsilon()는 'divide by zero error' 예방차원에서 작은 수를 더한다\n",
        "    _f1score = ( 2 * _recall * _precision) / (_recall + _precision+ K.epsilon())\n",
        "    \n",
        "    # return a single tensor value\n",
        "    return _f1score"
      ],
      "execution_count": 0,
      "outputs": []
    },
    {
      "cell_type": "code",
      "metadata": {
        "id": "yRY6GZa0qXyS",
        "colab_type": "code",
        "colab": {
          "base_uri": "https://localhost:8080/",
          "height": 35
        },
        "outputId": "ac01edba-c957-422e-f423-db05d2e9f7a5"
      },
      "source": [
        "x_train.shape"
      ],
      "execution_count": 102,
      "outputs": [
        {
          "output_type": "execute_result",
          "data": {
            "text/plain": [
              "(526016, 44)"
            ]
          },
          "metadata": {
            "tags": []
          },
          "execution_count": 102
        }
      ]
    },
    {
      "cell_type": "code",
      "metadata": {
        "id": "sRj5tuEf4kFd",
        "colab_type": "code",
        "outputId": "67d2d691-04f2-4798-c3f5-4f4e7d0e99d3",
        "colab": {
          "base_uri": "https://localhost:8080/",
          "height": 377
        }
      },
      "source": [
        "lrelu = lambda x: tf.keras.activations.relu(x, alpha=0.1)\n",
        "activation = lrelu\n",
        "batch_size = 64\n",
        "epochs = 10\n",
        "\n",
        "ffn_model = Sequential()\n",
        "  \n",
        "# 첫 번째 Layer (Input layer)\n",
        "ffn_model.add(Dense(input_dim=45, init='glorot_uniform', activation=activation, output_dim=128))\n",
        "ffn_model.add(Dropout(0.3)) # 30% 정도를 Drop \n",
        "\n",
        "# 두 번째 Layer (Hidden layer 1)\n",
        "ffn_model.add(Dense(output_dim=128, init='glorot_uniform', activation=activation))\n",
        "# ffn_model.add(Dropout(0.3)) # 30% 정도를 Drop \n",
        "\n",
        "# 세 번째 Layer (Hidden layer 2)\n",
        "ffn_model.add(Dense(output_dim=256, init='glorot_uniform', activation=activation))\n",
        "# ffn_model.add(Dropout(0.3)) # 30% 정도를 Drop \n",
        "\n",
        "# 네 번째 Layer (Hidden layer 3)\n",
        "ffn_model.add(Dense(output_dim=512, init='glorot_uniform', activation=activation))\n",
        "# ffn_model.add(Dropout(0.3)) # 30% 정도를 Drop \n",
        "\n",
        "# 다섯 번째 Layer (Output layer)\n",
        "ffn_model.add(Dense(output_dim=1))\n",
        "ffn_model.add(Activation(\"sigmoid\"))\n",
        "\n",
        "# Cost function 및 Optimizer 설정 # binary class 분류이므로 binary_crossentropy 사용 # Adam optimizer 사용\n",
        "# ffn_model.compile(loss='binary_crossentropy', optimizer='adam', metrics=['accuracy', precision, recall, f1score])\n",
        "ffn_model.compile(loss='binary_crossentropy', optimizer='rmsprop', metrics=['accuracy', precision, recall, f1score])\n",
        "                      \n",
        "# model training\n",
        "hist = ffn_model.fit(x_train, y_train, epochs=epochs, batch_size=batch_size, verbose=1)"
      ],
      "execution_count": 177,
      "outputs": [
        {
          "output_type": "stream",
          "text": [
            "Epoch 1/10\n",
            "526016/526016 [==============================] - 49s 93us/step - loss: 0.6796 - acc: 0.5654 - precision: 0.5711 - recall: 0.6947 - f1score: 0.6212\n",
            "Epoch 2/10\n",
            "526016/526016 [==============================] - 49s 93us/step - loss: 0.6777 - acc: 0.5698 - precision: 0.5749 - recall: 0.6932 - f1score: 0.6237\n",
            "Epoch 3/10\n",
            "526016/526016 [==============================] - 48s 92us/step - loss: 0.6774 - acc: 0.5713 - precision: 0.5767 - recall: 0.6909 - f1score: 0.6232\n",
            "Epoch 4/10\n",
            "526016/526016 [==============================] - 48s 91us/step - loss: 0.6771 - acc: 0.5709 - precision: 0.5762 - recall: 0.6921 - f1score: 0.6233\n",
            "Epoch 5/10\n",
            "526016/526016 [==============================] - 48s 92us/step - loss: 0.6771 - acc: 0.5705 - precision: 0.5762 - recall: 0.6901 - f1score: 0.6222\n",
            "Epoch 6/10\n",
            "526016/526016 [==============================] - 48s 91us/step - loss: 0.6770 - acc: 0.5713 - precision: 0.5785 - recall: 0.6811 - f1score: 0.6199\n",
            "Epoch 7/10\n",
            "526016/526016 [==============================] - 48s 91us/step - loss: 0.6769 - acc: 0.5715 - precision: 0.5782 - recall: 0.6824 - f1score: 0.6204\n",
            "Epoch 8/10\n",
            "526016/526016 [==============================] - 49s 93us/step - loss: 0.6769 - acc: 0.5711 - precision: 0.5769 - recall: 0.6891 - f1score: 0.6224\n",
            "Epoch 9/10\n",
            "526016/526016 [==============================] - 48s 91us/step - loss: 0.6770 - acc: 0.5712 - precision: 0.5772 - recall: 0.6878 - f1score: 0.6222\n",
            "Epoch 10/10\n",
            "526016/526016 [==============================] - 48s 92us/step - loss: 0.6770 - acc: 0.5711 - precision: 0.5779 - recall: 0.6822 - f1score: 0.6199\n"
          ],
          "name": "stdout"
        }
      ]
    },
    {
      "cell_type": "code",
      "metadata": {
        "id": "t1rhtif84kFf",
        "colab_type": "code",
        "colab": {}
      },
      "source": [
        "y_pred_dl = ffn_model.predict(x_test)\n",
        "y_pred_dl = (y_pred_dl>0.5)"
      ],
      "execution_count": 0,
      "outputs": []
    },
    {
      "cell_type": "code",
      "metadata": {
        "scrolled": true,
        "id": "M1JcJKhr4kFh",
        "colab_type": "code",
        "outputId": "63beff18-eca3-4ad5-f4bf-e30ecd943d9c",
        "colab": {
          "base_uri": "https://localhost:8080/",
          "height": 287
        }
      },
      "source": [
        "print(\"Accuracy: {:.5f}\".format(accuracy_score(y_test, y_pred_dl)))\n",
        "print(\"Confusion Matrix: \\n\", confusion_matrix(y_test, y_pred_dl))\n",
        "print(\"Classification Report Matrix: \\n\", classification_report(y_test, y_pred_dl))\n",
        "\n",
        "roc_auc_dl = roc_auc_score(y_test, y_pred_dl)\n",
        "print(roc_auc_dl)"
      ],
      "execution_count": 179,
      "outputs": [
        {
          "output_type": "stream",
          "text": [
            "Accuracy: 0.56977\n",
            "Confusion Matrix: \n",
            " [[31381 75646]\n",
            " [21343 97066]]\n",
            "Classification Report Matrix: \n",
            "               precision    recall  f1-score   support\n",
            "\n",
            "         0.0       0.60      0.29      0.39    107027\n",
            "         1.0       0.56      0.82      0.67    118409\n",
            "\n",
            "    accuracy                           0.57    225436\n",
            "   macro avg       0.58      0.56      0.53    225436\n",
            "weighted avg       0.58      0.57      0.54    225436\n",
            "\n",
            "0.5564791320710708\n"
          ],
          "name": "stdout"
        }
      ]
    },
    {
      "cell_type": "code",
      "metadata": {
        "id": "0nLNzhZC4kFj",
        "colab_type": "code",
        "outputId": "af63ed83-d622-4d37-9ed7-c8bd8e0a56c0",
        "colab": {
          "base_uri": "https://localhost:8080/",
          "height": 299
        }
      },
      "source": [
        "fpr, tpr, threshold = roc_curve(y_test, y_pred_dl)\n",
        "roc_auc = auc(fpr, tpr)\n",
        "\n",
        "plt.title('Receiver Operating Characteristic')\n",
        "plt.plot(fpr, tpr, 'b', label = 'AUC = %0.2f' % roc_auc)\n",
        "plt.legend(loc = 'lower right')\n",
        "plt.plot([0, 1], [0, 1],'r--')\n",
        "plt.xlim([0, 1])\n",
        "plt.ylim([0, 1])\n",
        "plt.ylabel('True Positive Rate')\n",
        "plt.xlabel('False Positive Rate')\n",
        "plt.show()"
      ],
      "execution_count": 180,
      "outputs": [
        {
          "output_type": "display_data",
          "data": {
            "image/png": "[encoded data removed]",
            "text/plain": [
              "<Figure size 432x288 with 1 Axes>"
            ]
          },
          "metadata": {
            "tags": []
          }
        }
      ]
    },
    {
      "cell_type": "code",
      "metadata": {
        "id": "pyKHVfww4kFl",
        "colab_type": "code",
        "colab": {}
      },
      "source": [
        ""
      ],
      "execution_count": 0,
      "outputs": []
    }
  ]
}