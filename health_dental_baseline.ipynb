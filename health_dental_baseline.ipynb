{
  "nbformat": 4,
  "nbformat_minor": 0,
  "metadata": {
    "kernelspec": {
      "name": "python3",
      "display_name": "Python 3"
    },
    "language_info": {
      "codemirror_mode": {
        "name": "ipython",
        "version": 3
      },
      "file_extension": ".py",
      "mimetype": "text/x-python",
      "name": "python",
      "nbconvert_exporter": "python",
      "pygments_lexer": "ipython3",
      "version": "3.6.8"
    },
    "colab": {
      "name": "health_dental_baseline.ipynb",
      "provenance": [],
      "collapsed_sections": [],
      "include_colab_link": true
    },
    "accelerator": "GPU"
  },
  "cells": [
    {
      "cell_type": "markdown",
      "metadata": {
        "id": "view-in-github",
        "colab_type": "text"
      },
      "source": [
        "<a href=\"https://colab.research.google.com/github/jaehyun0220/Colab/blob/master/health_dental_baseline.ipynb\" target=\"_parent\"><img src=\"https://colab.research.google.com/assets/colab-badge.svg\" alt=\"Open In Colab\"/></a>"
      ]
    },
    {
      "cell_type": "markdown",
      "metadata": {
        "id": "aTl6Kc03-QOM",
        "colab_type": "text"
      },
      "source": [
        "# 3조. 건강검진 데이터를 활용한 치석 발생 예측"
      ]
    },
    {
      "cell_type": "markdown",
      "metadata": {
        "id": "rzRKjmfr-aLz",
        "colab_type": "text"
      },
      "source": [
        "## - Version 3. 변수 파생 (Next Step. 추가 외부 변수 결합)'"
      ]
    },
    {
      "cell_type": "markdown",
      "metadata": {
        "id": "n-PqtwTI-L37",
        "colab_type": "text"
      },
      "source": [
        "## 1. 작업 환경 세팅"
      ]
    },
    {
      "cell_type": "markdown",
      "metadata": {
        "id": "pMGiKfg4-IcZ",
        "colab_type": "text"
      },
      "source": [
        "### 1-1. 구글 드라이브 인증"
      ]
    },
    {
      "cell_type": "code",
      "metadata": {
        "id": "oERZHfZ04v3N",
        "colab_type": "code",
        "outputId": "e257c195-55d9-4cdf-ce9c-5c59b0a1c405",
        "colab": {
          "base_uri": "https://localhost:8080/",
          "height": 127
        }
      },
      "source": [
        "# Auth 인증 및 Google Drive 활용 Data load\n",
        "# from google.colab import auth\n",
        "# auth.authenticate_user()\n",
        "from google.colab import drive\n",
        "drive.mount('/gdrive', force_remount=True)\n",
        "\n",
        "# 학교 g suite 구글 드라이브에 연결해 놓았으니, 성대 킹고 로그인해서 구글 드라이브 켜놓고 아래 결과창에 나오는 url 클릭해서 성대 gmail로 로그인하면 됨\n",
        "\n",
        "# Google Drive 내 Custom Class 경로 지정\n",
        "import sys\n",
        "sys.path.insert(0, '/gdrive/My Drive/CustomClasses')"
      ],
      "execution_count": 1,
      "outputs": [
        {
          "output_type": "stream",
          "text": [
            "Go to this URL in a browser: https://accounts.google.com/o/oauth2/auth?client_id=947318989803-6bn6qk8qdgf4n4g3pfee6491hc0brc4i.apps.googleusercontent.com&redirect_uri=urn%3Aietf%3Awg%3Aoauth%3A2.0%3Aoob&scope=email%20https%3A%2F%2Fwww.googleapis.com%2Fauth%2Fdocs.test%20https%3A%2F%2Fwww.googleapis.com%2Fauth%2Fdrive%20https%3A%2F%2Fwww.googleapis.com%2Fauth%2Fdrive.photos.readonly%20https%3A%2F%2Fwww.googleapis.com%2Fauth%2Fpeopleapi.readonly&response_type=code\n",
            "\n",
            "Enter your authorization code:\n",
            "··········\n",
            "Mounted at /gdrive\n"
          ],
          "name": "stdout"
        }
      ]
    },
    {
      "cell_type": "code",
      "metadata": {
        "id": "cif7nSCH57W0",
        "colab_type": "code",
        "outputId": "0eee3f5c-4577-4183-b401-eede8573a3c2",
        "colab": {
          "base_uri": "https://localhost:8080/",
          "height": 269
        }
      },
      "source": [
        "!ls /gdrive/My\\ Drive/sds/data"
      ],
      "execution_count": 2,
      "outputs": [
        {
          "output_type": "stream",
          "text": [
            " NHIS_OPEN_GJ_2012.csv\n",
            " NHIS_OPEN_GJ_2013.csv\n",
            " NHIS_OPEN_GJ_2014.csv\n",
            " NHIS_OPEN_GJ_2015.csv\n",
            " NHIS_OPEN_GJ_2016.csv\n",
            " NHIS_OPEN_GJ_2017.csv\n",
            "'NHIS_OPEN_GJ 건강검진 데이터 연도별 데이터 레이아웃.xlsx'\n",
            " NHIS_OPEN_T20_2012.csv\n",
            " NHIS_OPEN_T20_2013.csv\n",
            " NHIS_OPEN_T20_2014.csv\n",
            " NHIS_OPEN_T20_2015.csv\n",
            " NHIS_OPEN_T20_2016.csv\n",
            " NHIS_OPEN_T20_2017.csv\n",
            "'NHIS_OPEN_T20 진료내역정보_활용방안.txt'\n"
          ],
          "name": "stdout"
        }
      ]
    },
    {
      "cell_type": "markdown",
      "metadata": {
        "id": "j-ZxjlWD-tIJ",
        "colab_type": "text"
      },
      "source": [
        "### 1-2. 라이브러리 로딩"
      ]
    },
    {
      "cell_type": "code",
      "metadata": {
        "id": "sSbAKlmw4kEe",
        "colab_type": "code",
        "outputId": "d378acc8-1657-4d50-93e4-fbe8f3336efd",
        "colab": {
          "base_uri": "https://localhost:8080/",
          "height": 35
        }
      },
      "source": [
        "# 기본 라이브러리 로드\n",
        "import pandas as pd\n",
        "\n",
        "# pd.set_option('display.float_format', '{:.6f}'.format) # 항상 float 형식으로\n",
        "# pd.set_option('display.float_format', '{:.2e}'.format) # 항상 사이언티픽\n",
        "# pd.set_option('display.float_format', '{:.2g}'.format)  # 적당히 알아서\n",
        "# pd.set_option('display.float_format', None) # option 삭제\n",
        "\n",
        "import numpy as np\n",
        "import os, sys\n",
        "\n",
        "from tqdm import tqdm_notebook\n",
        "\n",
        "import re\n",
        "import tensorflow as tf\n",
        "\n",
        "#데이터 전처리 관련 라이브러리 로드\n",
        "from sklearn import preprocessing\n",
        "from sklearn.preprocessing import MinMaxScaler\n",
        "from sklearn.preprocessing import FunctionTransformer\n",
        "from sklearn.compose import ColumnTransformer\n",
        "from sklearn.pipeline import Pipeline\n",
        "\n",
        "from sklearn.preprocessing import LabelEncoder\n",
        "from sklearn.preprocessing import OneHotEncoder\n",
        "from sklearn.model_selection import ShuffleSplit\n",
        "\n",
        "#모델 알고리즘 로드\n",
        "from sklearn import svm, tree, linear_model, neighbors, naive_bayes, ensemble, discriminant_analysis, gaussian_process\n",
        "from xgboost.sklearn import XGBClassifier\n",
        "import lightgbm as lgb\n",
        "from sklearn.ensemble import RandomForestClassifier, AdaBoostClassifier, GradientBoostingClassifier, ExtraTreesClassifier, VotingClassifier\n",
        "\n",
        "\n",
        "# Deep Learning Model 로드\n",
        "from keras.models import Sequential\n",
        "from keras.layers import Dense, Dropout, Activation \n",
        "from keras.wrappers.scikit_learn import KerasClassifier\n",
        "\n",
        "#HyperParameter Tuning을 위한 라이브러리 로드\n",
        "from sklearn.model_selection import GridSearchCV\n",
        "from sklearn.model_selection import RandomizedSearchCV\n",
        "\n",
        "#모델 평가를 위한 라이브러리 로드\n",
        "from sklearn import metrics\n",
        "from sklearn.model_selection import cross_validate\n",
        "from sklearn import model_selection\n",
        "\n",
        "#수학 & 통계 관련 라이브러리 로드\n",
        "import scipy.stats as st\n",
        "from collections import Counter\n",
        "\n",
        "#ignore warnings\n",
        "import warnings\n",
        "warnings.filterwarnings('ignore')\n",
        "\n",
        "#Visualization\n",
        "import matplotlib as mpl  # 기본 설정 만지는 용도\n",
        "import matplotlib.pyplot as plt  # 그래프 그리는 용도\n",
        "import matplotlib.font_manager as fm  # 폰트 관련 용도\n",
        "import seaborn as sns\n",
        "\n",
        "#Configure Visualization Defaults\n",
        "#%matplotlib inline = show plots in Jupyter Notebook browser\n",
        "%matplotlib inline\n",
        "mpl.style.use('ggplot')\n",
        "sns.set_style('white')"
      ],
      "execution_count": 3,
      "outputs": [
        {
          "output_type": "stream",
          "text": [
            "Using TensorFlow backend.\n"
          ],
          "name": "stderr"
        }
      ]
    },
    {
      "cell_type": "code",
      "metadata": {
        "id": "7Wo27tSu4kEh",
        "colab_type": "code",
        "outputId": "5ae9363d-186f-472b-b483-2dc85fa91d30",
        "colab": {
          "base_uri": "https://localhost:8080/",
          "height": 377
        }
      },
      "source": [
        "# 한글 글꼴 최초 설치 Version\n",
        "!apt-get update -qq\n",
        "!apt-get install fonts-nanum* -qq\n",
        "!cp /usr/share/fonts/truetype/nanum/NanumGothicEco.ttf /gdrive/My\\ Drive/CustomClasses/NanumGothicEco.ttf\n",
        "path = '/usr/share/fonts/truetype/nanum/NanumGothicEco.ttf'  # 설치된 나눔글꼴중 원하는 녀석의 전체 경로를 가져오자\n",
        "\n",
        "# 한글 글꼴 Load\n",
        "# path = '/gdrive/My Drive/CustomClasses/NanumGothicEco.ttf'  # 설치된 나눔글꼴중 원하는 녀석의 전체 경로를 가져오자\n",
        "font_name = fm.FontProperties(fname=path, size=10).get_name()\n",
        "print(font_name)\n",
        "plt.rc('font', family=font_name)\n",
        "\n",
        "# 우선 fm._rebuild() 를 해주고 \n",
        "fm._rebuild()"
      ],
      "execution_count": 4,
      "outputs": [
        {
          "output_type": "stream",
          "text": [
            "Selecting previously unselected package fonts-nanum.\n",
            "(Reading database ... \r(Reading database ... 5%\r(Reading database ... 10%\r(Reading database ... 15%\r(Reading database ... 20%\r(Reading database ... 25%\r(Reading database ... 30%\r(Reading database ... 35%\r(Reading database ... 40%\r(Reading database ... 45%\r(Reading database ... 50%\r(Reading database ... 55%\r(Reading database ... 60%\r(Reading database ... 65%\r(Reading database ... 70%\r(Reading database ... 75%\r(Reading database ... 80%\r(Reading database ... 85%\r(Reading database ... 90%\r(Reading database ... 95%\r(Reading database ... 100%\r(Reading database ... 131183 files and directories currently installed.)\n",
            "Preparing to unpack .../fonts-nanum_20170925-1_all.deb ...\n",
            "Unpacking fonts-nanum (20170925-1) ...\n",
            "Selecting previously unselected package fonts-nanum-eco.\n",
            "Preparing to unpack .../fonts-nanum-eco_1.000-6_all.deb ...\n",
            "Unpacking fonts-nanum-eco (1.000-6) ...\n",
            "Selecting previously unselected package fonts-nanum-extra.\n",
            "Preparing to unpack .../fonts-nanum-extra_20170925-1_all.deb ...\n",
            "Unpacking fonts-nanum-extra (20170925-1) ...\n",
            "Selecting previously unselected package fonts-nanum-coding.\n",
            "Preparing to unpack .../fonts-nanum-coding_2.5-1_all.deb ...\n",
            "Unpacking fonts-nanum-coding (2.5-1) ...\n",
            "Setting up fonts-nanum-extra (20170925-1) ...\n",
            "Setting up fonts-nanum (20170925-1) ...\n",
            "Setting up fonts-nanum-coding (2.5-1) ...\n",
            "Setting up fonts-nanum-eco (1.000-6) ...\n",
            "Processing triggers for fontconfig (2.12.6-0ubuntu2) ...\n",
            "cp: cannot create regular file '/gdrive/My Drive/CustomClasses/NanumGothicEco.ttf': No such file or directory\n",
            "NanumGothic Eco\n"
          ],
          "name": "stdout"
        }
      ]
    },
    {
      "cell_type": "markdown",
      "metadata": {
        "id": "kbVgUIo5nNxq",
        "colab_type": "text"
      },
      "source": [
        "## 2. 파일 Read 및 기초 탐색"
      ]
    },
    {
      "cell_type": "code",
      "metadata": {
        "id": "iF7GDYjb4kEi",
        "colab_type": "code",
        "outputId": "5c773e79-eae4-4872-a427-aa3bc2215e07",
        "colab": {
          "base_uri": "https://localhost:8080/",
          "height": 273
        }
      },
      "source": [
        "# DataFrame Load\n",
        "df_raw_2014 = pd.read_csv('../gdrive/My Drive/sds/data/NHIS_OPEN_GJ_2014.csv', encoding = 'euc-kr')\n",
        "df_raw_2015 = pd.read_csv('../gdrive/My Drive/sds/data/NHIS_OPEN_GJ_2015.csv', encoding = 'euc-kr')\n",
        "\n",
        "# 컬럼명 내 불필요한 공백 및 특수문자 제거\n",
        "df_raw_2014.rename(columns=lambda x: re.sub('[-=+,#/\\?:^$.@*\\\"※~&%ㆍ!』\\\\‘|\\(\\)\\[\\]\\<\\>`\\'…》 ]', '', x), inplace=True)\n",
        "df_raw_2015.rename(columns=lambda x: re.sub('[-=+,#/\\?:^$.@*\\\"※~&%ㆍ!』\\\\‘|\\(\\)\\[\\]\\<\\>`\\'…》 ]', '', x), inplace=True)\n",
        "\n",
        "# 데이터 구조 확인\n",
        "display(df_raw_2014.head(2))\n",
        "display(df_raw_2015.head(2))"
      ],
      "execution_count": 5,
      "outputs": [
        {
          "output_type": "display_data",
          "data": {
            "text/html": [
              "<div>\n",
              "<style scoped>\n",
              "    .dataframe tbody tr th:only-of-type {\n",
              "        vertical-align: middle;\n",
              "    }\n",
              "\n",
              "    .dataframe tbody tr th {\n",
              "        vertical-align: top;\n",
              "    }\n",
              "\n",
              "    .dataframe thead th {\n",
              "        text-align: right;\n",
              "    }\n",
              "</style>\n",
              "<table border=\"1\" class=\"dataframe\">\n",
              "  <thead>\n",
              "    <tr style=\"text-align: right;\">\n",
              "      <th></th>\n",
              "      <th>기준년도</th>\n",
              "      <th>가입자일련번호</th>\n",
              "      <th>성별코드</th>\n",
              "      <th>연령대코드5세단위</th>\n",
              "      <th>시도코드</th>\n",
              "      <th>신장5Cm단위</th>\n",
              "      <th>체중5Kg단위</th>\n",
              "      <th>허리둘레</th>\n",
              "      <th>시력좌</th>\n",
              "      <th>시력우</th>\n",
              "      <th>청력좌</th>\n",
              "      <th>청력우</th>\n",
              "      <th>수축기혈압</th>\n",
              "      <th>이완기혈압</th>\n",
              "      <th>식전혈당공복혈당</th>\n",
              "      <th>총콜레스테롤</th>\n",
              "      <th>트리글리세라이드</th>\n",
              "      <th>HDL콜레스테롤</th>\n",
              "      <th>LDL콜레스테롤</th>\n",
              "      <th>혈색소</th>\n",
              "      <th>요단백</th>\n",
              "      <th>혈청크레아티닌</th>\n",
              "      <th>혈청지오티AST</th>\n",
              "      <th>혈청지오티ALT</th>\n",
              "      <th>감마지티피</th>\n",
              "      <th>흡연상태</th>\n",
              "      <th>음주여부</th>\n",
              "      <th>구강검진수검여부</th>\n",
              "      <th>치아우식증유무</th>\n",
              "      <th>치석유무</th>\n",
              "      <th>데이터기준일자</th>\n",
              "    </tr>\n",
              "  </thead>\n",
              "  <tbody>\n",
              "    <tr>\n",
              "      <th>0</th>\n",
              "      <td>2014</td>\n",
              "      <td>1</td>\n",
              "      <td>1</td>\n",
              "      <td>6</td>\n",
              "      <td>42</td>\n",
              "      <td>180</td>\n",
              "      <td>75</td>\n",
              "      <td>79</td>\n",
              "      <td>1.5</td>\n",
              "      <td>1.2</td>\n",
              "      <td>1.0</td>\n",
              "      <td>1.0</td>\n",
              "      <td>110</td>\n",
              "      <td>70</td>\n",
              "      <td>84</td>\n",
              "      <td>203</td>\n",
              "      <td>315</td>\n",
              "      <td>44</td>\n",
              "      <td>96.0</td>\n",
              "      <td>15.9</td>\n",
              "      <td>1.0</td>\n",
              "      <td>1.2</td>\n",
              "      <td>31</td>\n",
              "      <td>18</td>\n",
              "      <td>23</td>\n",
              "      <td>3.0</td>\n",
              "      <td>0.0</td>\n",
              "      <td>1</td>\n",
              "      <td>0.0</td>\n",
              "      <td>0.0</td>\n",
              "      <td>20161220</td>\n",
              "    </tr>\n",
              "    <tr>\n",
              "      <th>1</th>\n",
              "      <td>2014</td>\n",
              "      <td>2</td>\n",
              "      <td>2</td>\n",
              "      <td>18</td>\n",
              "      <td>41</td>\n",
              "      <td>150</td>\n",
              "      <td>65</td>\n",
              "      <td>79</td>\n",
              "      <td>0.1</td>\n",
              "      <td>0.1</td>\n",
              "      <td>1.0</td>\n",
              "      <td>1.0</td>\n",
              "      <td>135</td>\n",
              "      <td>80</td>\n",
              "      <td>165</td>\n",
              "      <td>168</td>\n",
              "      <td>60</td>\n",
              "      <td>50</td>\n",
              "      <td>106.0</td>\n",
              "      <td>10.6</td>\n",
              "      <td>1.0</td>\n",
              "      <td>0.8</td>\n",
              "      <td>11</td>\n",
              "      <td>4</td>\n",
              "      <td>15</td>\n",
              "      <td>1.0</td>\n",
              "      <td>1.0</td>\n",
              "      <td>0</td>\n",
              "      <td>NaN</td>\n",
              "      <td>NaN</td>\n",
              "      <td>20161220</td>\n",
              "    </tr>\n",
              "  </tbody>\n",
              "</table>\n",
              "</div>"
            ],
            "text/plain": [
              "   기준년도  가입자일련번호  성별코드  연령대코드5세단위  ...  구강검진수검여부  치아우식증유무  치석유무   데이터기준일자\n",
              "0  2014        1     1          6  ...         1      0.0   0.0  20161220\n",
              "1  2014        2     2         18  ...         0      NaN   NaN  20161220\n",
              "\n",
              "[2 rows x 31 columns]"
            ]
          },
          "metadata": {
            "tags": []
          }
        },
        {
          "output_type": "display_data",
          "data": {
            "text/html": [
              "<div>\n",
              "<style scoped>\n",
              "    .dataframe tbody tr th:only-of-type {\n",
              "        vertical-align: middle;\n",
              "    }\n",
              "\n",
              "    .dataframe tbody tr th {\n",
              "        vertical-align: top;\n",
              "    }\n",
              "\n",
              "    .dataframe thead th {\n",
              "        text-align: right;\n",
              "    }\n",
              "</style>\n",
              "<table border=\"1\" class=\"dataframe\">\n",
              "  <thead>\n",
              "    <tr style=\"text-align: right;\">\n",
              "      <th></th>\n",
              "      <th>기준년도</th>\n",
              "      <th>가입자일련번호</th>\n",
              "      <th>성별코드</th>\n",
              "      <th>연령대코드5세단위</th>\n",
              "      <th>시도코드</th>\n",
              "      <th>신장5Cm단위</th>\n",
              "      <th>체중5Kg단위</th>\n",
              "      <th>허리둘레</th>\n",
              "      <th>시력좌</th>\n",
              "      <th>시력우</th>\n",
              "      <th>청력좌</th>\n",
              "      <th>청력우</th>\n",
              "      <th>수축기혈압</th>\n",
              "      <th>이완기혈압</th>\n",
              "      <th>식전혈당공복혈당</th>\n",
              "      <th>총콜레스테롤</th>\n",
              "      <th>트리글리세라이드</th>\n",
              "      <th>HDL콜레스테롤</th>\n",
              "      <th>LDL콜레스테롤</th>\n",
              "      <th>혈색소</th>\n",
              "      <th>요단백</th>\n",
              "      <th>혈청크레아티닌</th>\n",
              "      <th>혈청지오티AST</th>\n",
              "      <th>혈청지오티ALT</th>\n",
              "      <th>감마지티피</th>\n",
              "      <th>흡연상태</th>\n",
              "      <th>음주여부</th>\n",
              "      <th>구강검진수검여부</th>\n",
              "      <th>치아우식증유무</th>\n",
              "      <th>치석유무</th>\n",
              "      <th>데이터기준일자</th>\n",
              "    </tr>\n",
              "  </thead>\n",
              "  <tbody>\n",
              "    <tr>\n",
              "      <th>0</th>\n",
              "      <td>2015</td>\n",
              "      <td>1</td>\n",
              "      <td>2</td>\n",
              "      <td>15</td>\n",
              "      <td>45</td>\n",
              "      <td>155</td>\n",
              "      <td>60</td>\n",
              "      <td>88</td>\n",
              "      <td>0.6</td>\n",
              "      <td>0.7</td>\n",
              "      <td>1.0</td>\n",
              "      <td>2.0</td>\n",
              "      <td>112</td>\n",
              "      <td>74</td>\n",
              "      <td>180</td>\n",
              "      <td>169</td>\n",
              "      <td>175</td>\n",
              "      <td>43</td>\n",
              "      <td>91.0</td>\n",
              "      <td>9.8</td>\n",
              "      <td>1.0</td>\n",
              "      <td>1.1</td>\n",
              "      <td>17</td>\n",
              "      <td>28</td>\n",
              "      <td>23</td>\n",
              "      <td>1.0</td>\n",
              "      <td>1.0</td>\n",
              "      <td>0</td>\n",
              "      <td>NaN</td>\n",
              "      <td>NaN</td>\n",
              "      <td>20161220</td>\n",
              "    </tr>\n",
              "    <tr>\n",
              "      <th>1</th>\n",
              "      <td>2015</td>\n",
              "      <td>2</td>\n",
              "      <td>2</td>\n",
              "      <td>15</td>\n",
              "      <td>11</td>\n",
              "      <td>155</td>\n",
              "      <td>65</td>\n",
              "      <td>98</td>\n",
              "      <td>1.2</td>\n",
              "      <td>0.6</td>\n",
              "      <td>1.0</td>\n",
              "      <td>1.0</td>\n",
              "      <td>130</td>\n",
              "      <td>80</td>\n",
              "      <td>179</td>\n",
              "      <td>162</td>\n",
              "      <td>150</td>\n",
              "      <td>53</td>\n",
              "      <td>79.0</td>\n",
              "      <td>13.5</td>\n",
              "      <td>1.0</td>\n",
              "      <td>1.0</td>\n",
              "      <td>25</td>\n",
              "      <td>30</td>\n",
              "      <td>41</td>\n",
              "      <td>1.0</td>\n",
              "      <td>1.0</td>\n",
              "      <td>1</td>\n",
              "      <td>NaN</td>\n",
              "      <td>0.0</td>\n",
              "      <td>20161220</td>\n",
              "    </tr>\n",
              "  </tbody>\n",
              "</table>\n",
              "</div>"
            ],
            "text/plain": [
              "   기준년도  가입자일련번호  성별코드  연령대코드5세단위  ...  구강검진수검여부  치아우식증유무  치석유무   데이터기준일자\n",
              "0  2015        1     2         15  ...         0      NaN   NaN  20161220\n",
              "1  2015        2     2         15  ...         1      NaN   0.0  20161220\n",
              "\n",
              "[2 rows x 31 columns]"
            ]
          },
          "metadata": {
            "tags": []
          }
        }
      ]
    },
    {
      "cell_type": "markdown",
      "metadata": {
        "id": "U_MDmptRnZ6L",
        "colab_type": "text"
      },
      "source": [
        "### 2-1. 컬럼명 정제 및 기초 탐색"
      ]
    },
    {
      "cell_type": "code",
      "metadata": {
        "id": "p53XCNPg4kEn",
        "colab_type": "code",
        "colab": {}
      },
      "source": [
        "# 데이터 결합 및 구강검진검수여부 기준 데이터 생성\n",
        "df_raw = pd.concat([df_raw_2014, df_raw_2015])\n",
        "df_raw = df_raw[df_raw['구강검진수검여부']==1]\n",
        "\n",
        "del_cols = ['기준년도', '가입자일련번호', '치아우식증유무', '데이터기준일자', '구강검진수검여부']\n",
        "df_raw.drop(columns=del_cols, axis=1, inplace=True)\n",
        "df_raw.rename(columns={'치석유무': '치석'}, inplace=True)\n",
        "\n",
        "df_data = df_raw[~(df_raw['치석'].isnull()) & (df_raw['치석'] != 2)]"
      ],
      "execution_count": 0,
      "outputs": []
    },
    {
      "cell_type": "markdown",
      "metadata": {
        "id": "0JISl_zApNFi",
        "colab_type": "text"
      },
      "source": [
        "## 3. Simple EDA\n",
        "1. 데이터 임포트 후 메모리에 upload \n",
        "2. 데이터의 모양 확인\n",
        "3. 데이터의 타입 확인\n",
        "4. 데이터의 Null 값을 체크\n",
        "5. 종속변수의 분포 체크\n",
        "6. 독립변수 - 명목형 변수의 분포 체크\n",
        "7. 독립변수 - 수치형 변수의 분포 체크\n",
        "8. 수치형, 명목형 변수간의 관계 파악"
      ]
    },
    {
      "cell_type": "markdown",
      "metadata": {
        "id": "sCTfk47DPQ6Z",
        "colab_type": "text"
      },
      "source": [
        "#### 3-2-1. 데이터 NULL 값의 비중이 크지 않으므로 일단 null 값을 모두 삭졔\n",
        " . 가장 많은 Null값을 갖고 있는 요단백의 경우 추후 분석 시, 모델에 끼치는 영향이 크다고 할 시, Imputation 고려"
      ]
    },
    {
      "cell_type": "code",
      "metadata": {
        "id": "FCXjhcPCLKLJ",
        "colab_type": "code",
        "colab": {}
      },
      "source": [
        "# (일단 임시로) null 포함 데이터 모두 삭제 \n",
        "df_data.dropna(how='any', inplace=True)\n",
        "\n",
        "df_data = df_data.sample(n=100000, random_state=42, replace = False ).copy()\n",
        "\n",
        "# 범주형, 연속형 변수 type 지정\n",
        "# 명목형 변수는 obj로 연속형 변수는 int 또는 float로 변경\n",
        "category_features = ['성별코드', '연령대코드5세단위', '신장5Cm단위', '체중5Kg단위','시도코드', '청력좌', '청력우', '흡연상태','음주여부', '요단백']\n",
        "\n",
        "for col in df_data.columns:\n",
        "  if col in category_features:\n",
        "    df_data[col] = df_data[col].astype(object)"
      ],
      "execution_count": 0,
      "outputs": []
    },
    {
      "cell_type": "code",
      "metadata": {
        "id": "UBngXixW3_2a",
        "colab_type": "code",
        "colab": {}
      },
      "source": [
        "# 단변수 탐색\n",
        "\n",
        "category_features = [col for col in df_data.columns if df_data[col].dtypes == \"object\"]\n",
        "cat_cols = list(set(category_features) - set(['치석']))\n",
        "\n",
        "numeric_features = [col for col in df_data.columns if df_data[col].dtypes != \"object\"]\n",
        "numeric_features = np.sort(numeric_features)\n",
        "\n",
        "num_cols = list(set(numeric_features) - set(['치석']))"
      ],
      "execution_count": 0,
      "outputs": []
    },
    {
      "cell_type": "code",
      "metadata": {
        "id": "8zIbvoZwLOC8",
        "colab_type": "code",
        "colab": {}
      },
      "source": [
        "# 수치형 변수들에 log를 취한 값 산출\n",
        "\n",
        "# Feature Engineering의 일환으로 Log 값 취한 뒤 Normalization을 하여 변수명 + LN (lognorm)으로 열 추가 후 그래프 다시 그림\n",
        "num_ln_cols = list(map(lambda x: str(x)+\"_LN\", num_cols))\n",
        "\n",
        "num_pipeline = Pipeline([\n",
        "        ('log_scaler', FunctionTransformer(np.log1p, validate=True)), # pipeline 내 log transformation을 위해 Function Transfomer 사용\n",
        "        ('normalizer', MinMaxScaler()),\n",
        "    ])\n",
        "\n",
        "piped_np = num_pipeline.fit_transform(df_data[num_cols])\n",
        "piped_df = pd.DataFrame(piped_np, columns=num_ln_cols)"
      ],
      "execution_count": 0,
      "outputs": []
    },
    {
      "cell_type": "code",
      "metadata": {
        "id": "2EP2WNz-LN2m",
        "colab_type": "code",
        "colab": {}
      },
      "source": [
        "df_data.drop_duplicates()\n",
        "df_data.reset_index(inplace=True, drop=True)\n",
        "\n",
        "df_fe = pd.concat([df_data, piped_df], axis=1)"
      ],
      "execution_count": 0,
      "outputs": []
    },
    {
      "cell_type": "markdown",
      "metadata": {
        "id": "McueKEuuZ4lO",
        "colab_type": "text"
      },
      "source": [
        "## 4. Feature Engineering"
      ]
    },
    {
      "cell_type": "markdown",
      "metadata": {
        "id": "Fz-tC4mbRQvl",
        "colab_type": "text"
      },
      "source": [
        "### 4-1. Feature Engineering 변수 추가"
      ]
    },
    {
      "cell_type": "markdown",
      "metadata": {
        "id": "xPqtmTlBdDaR",
        "colab_type": "text"
      },
      "source": [
        "#### 4-1-1. 데이터셋 내 내부 변수의 범주화를 통한 신규 변수 추출"
      ]
    },
    {
      "cell_type": "code",
      "metadata": {
        "id": "XDc5FTdbvs_V",
        "colab_type": "code",
        "colab": {}
      },
      "source": [
        "# 기존 수치형 변수들을 LN 변수들로 치환\n",
        "# df_fe.drop(columns=numeric_feature, axis=1, inplace=True)\n",
        "\n",
        "# BMI 변수 추가\n",
        "df_fe[\"A_BMI\"] = (df_fe[\"체중5Kg단위\"]/(df_fe[\"신장5Cm단위\"]*df_fe[\"신장5Cm단위\"])).astype(float)\n",
        "\n",
        "# 공복 혈당 \n",
        "# 100 이하는 정상/ 100 ~ 125는 '공복혈당장애 - 당뇨 전단계'/ 125 이상은 당뇨\n",
        "# 당뇨병의 중간인 100~125 mg/dL가 나오거나 \n",
        "\n",
        "df_fe[\"A_diabetes\"] = np.where(df_fe['식전혈당공복혈당'].between(0, 100, inclusive=True), '정상', \n",
        "                               np.where(df_fe['식전혈당공복혈당'].between(100, 124.9, inclusive=True), '당뇨전단계', \n",
        "                                        '당뇨')\n",
        "                              )\n",
        "\n",
        "# HDL 콜레스테롤\n",
        "# HDL 콜레스테롤 수치가 남자에서 40 mg/dL (1.0 mmol/L) 이하 또는 여자에서 50 mg/dL (1.3 mmol/L) 이하일 경우에는 다른 위험인자와 독립적으로 심장 질환의 위험도가 증가\n",
        "# HDL 콜레스테롤 수치가 남자에서 40-50 mg/dL (1.0-1.3 mmol/L) 그리고 여자에서 50-59 mg/dL (1.3-1.5 mmol/L)인 경우에는 심장 질환의 평균위험도와 연관\n",
        "# 보통 HDL 콜레스테롤 수치가 60 mg/dL (1.55 mmol/L) 또는 그 이상일 경우에는 심장 질환 평균 위험도보다 낮음\n",
        "# National Cholesterol Education Panel Adult Treatment Guidelines에 따르면 HDL 콜레스테롤 수치가 60 mg/dL 이상일 경우 심장 질환에서 보호되고 음성 위험 인자로서 치료되어야 함\n",
        "df_fe[\"A_HDL\"] = np.where(\n",
        "                    (df_fe['성별코드'].astype('int') == 2) & (df_fe['HDL콜레스테롤']<= 50), '고위험', \n",
        "                       np.where(\n",
        "                         (df_fe['성별코드'].astype('int') == 2) & (df_fe['HDL콜레스테롤'].between(50, 59.9, inclusive=True)), '위험', \n",
        "                           np.where(\n",
        "                               (df_fe['성별코드'].astype('int') == 1) & (df_fe['HDL콜레스테롤']<= 40), '고위험', \n",
        "                                      np.where(\n",
        "                                          (df_fe['성별코드'].astype('int') == 1) & (df_fe['HDL콜레스테롤'].between(40, 49.9, inclusive=True)), '위험', '정상')\n",
        "                          )))\n",
        "# LDL 콜레스테롤(혈중 모든 콜레스테롤 중 LDL 콜레스테롤이 심장질환에 대한 위험도를 확인하는데 가장 중요한 지표)\n",
        "# 대부분의 치료 결정이 LDL 수치를 토대로 이루어지기 때문에 이 검사를 통해 식이요법 또는 운동처방의 효과를 감시하거나 지질감소 약물을 처방하는 것이 유용한지에 대한 평가\n",
        "# 100 mg/dL (2.59mmol/L) 미만 – 최적\n",
        "# 100-129 mg/dL (2.59-3.34 mmol/L) – 최적에 인접\n",
        "# 130-159 mg/dL (3.37-4.12 mmol/L) – 상한 경계성\n",
        "# 160-189 mg/dL (4.15-4.90 mmol/L) – 높음\n",
        "# 190 mg/dL (4.90 mmol) 이상 – 매우 높음\n",
        "df_fe[\"A_LDL\"] = np.where(df_fe['LDL콜레스테롤']<100, '최적', \n",
        "                    np.where(df_fe['LDL콜레스테롤'].between(100, 122.9, inclusive=True), '최적인접', \n",
        "                             np.where(df_fe['LDL콜레스테롤'].between(130, 159.9, inclusive=True), '상한경계', \n",
        "                                      np.where(df_fe['LDL콜레스테롤'].between(160, 189.9, inclusive=True), '높음', '매우높음')\n",
        "                              )))\n",
        "\n",
        "# 트리글리세라이드\n",
        "# 지방의 한 형태로서 몸의 주요 에너지원, 트리글리세라이드가 증가하는 것은, 이유가 분명하지 않으나 심혈관 질환으로 진행될 위험의 증가와 관련\n",
        "# 일부 인자들 즉, 운동 부족, 과체중, 흡연, 과음 및 당뇨와 신질환 등의 질병 상태가 고트리글리세라이드혈증 및 심혈관 질환 위험도 증가에 기여할 수 있음\n",
        "# 성인에서는 트리글리세라이드 결과가 아래와 같이 나뉘어진다.\n",
        "# 150 mg/dL (1.7 mmol/L) 미만: 바람직\n",
        "# 150-199 mg/dL (1.7-2.2 mmol/L): 경계성증가\n",
        "# 200-499 mg/dL (2.3-5.6 mmol/L): 증가: \n",
        "# 500 mg/dL (5.6 mmol/L) 이상: 매우 증가\n",
        "# 이 수치는 공복시 트리글리세라이드 수치에 기준합니다.\n",
        "df_fe[\"A_TRI\"] = np.where(df_fe['트리글리세라이드']<150, '바람직', \n",
        "                    np.where(df_fe['트리글리세라이드'].between(150, 199.9, inclusive=True), '경계성증가', \n",
        "                             np.where(df_fe['트리글리세라이드'].between(200, 499.9, inclusive=True), '증가', '매우증가')\n",
        "                              ))\n",
        "\n",
        "# 혈색소\n",
        "# 성인의 데시리터(100밀리리터) 당 12그램에서 18그램 정도: 정상치\n",
        "# 18그램 이상: 폐질환 등 기타 이상\n",
        "# 12그램 미만: 빈혈\n",
        "df_fe[\"A_HEMO\"] = np.where(df_fe['혈색소'].between(12, 17.9, inclusive=True), '정상', \n",
        "                    np.where(df_fe['혈색소']>=18, '이상', '빈혈'))\n",
        "\n",
        "# 요단백: 소변으로 빠져나가는 잉여의 단백질을 검출하기 위해, 신장 기증을 평가하고 모니터하는 것을 돕기 위해,  그리고 신장 손상을 검출하기 위해 검사\n",
        "# 요단백은 보통 소변에서 검출 되지 않음- 검출 되면 \n",
        "df_fe[\"A_PIU\"] = np.where(df_fe['요단백']==1, '정상', '이상')\n",
        "\n",
        "# 혈중 크레아티닌 농도의 \n",
        "# 정상범위는 0.50~1.4 mg/dL 입니다\n",
        "# 근육량에 비례하는 검사결과이므로 여성보다는 남성에게서 약간 높은 수치가 나타나고, 식사나 운동이 결과에 영향이 거의 미치지 않습니다. 지속적으로 많은 양의 육식을 섭취한 경우에는 크레아티닌 농도가 높게 측정됩니다.\n",
        "df_fe[\"A_CRE\"] = np.where(df_fe['혈청크레아티닌'].between(0.5, 1.4, inclusive=True), '정상', '이상')\n",
        "\n",
        "# 혈청지오티AST:\n",
        "#  간기능을 평가하는 기초검사항목으로서 알코올성 간장애나 만성 간질환에서 주로 증가한다.\n",
        " \n",
        "\n",
        "# 혈청지오티ALT:\n",
        "# 간기능을 평가하는 기초검사항목으로서 급성 간염 시 주로 증가한다.\n",
        "# 증가: 간질환, 심근경색, 지방간, 비만\n",
        "\n",
        "\n",
        "# 감마지티피\n",
        "# 간장세포나 담낭세포가 파괴되면 감마지티피가 혈액속으로 누출되어 수치가 높아짐\n",
        "# 남자는 50IU 이하, 여자는 32IU이하가 정상\n",
        "# 100이하면 음주 조절을 통해 조정 가능하나 100 이상이면 지방간이 진행되고 있을 가능성이 높음\n",
        "# 200 이상이면 담석이나 담도암등으로 담도가 막혀있을 가능성이 높음\n",
        "# 500 이상이면 황달\n",
        "df_fe[\"A_GTP\"] = np.where((df_fe['감마지티피'] >= 500), '황달', \n",
        "                       np.where(df_fe['감마지티피']>=200, '담도이상', \n",
        "                           np.where(df_fe['감마지티피']>= 100, '이상가능', \n",
        "                             np.where((df_fe['성별코드'].astype('int') == 1) & (df_fe['감마지티피']<=50), '정상',\n",
        "                              np.where((df_fe['성별코드'].astype('int') == 2) & (df_fe['감마지티피']<=32), '정상', '체크')\n",
        "                          ))))"
      ],
      "execution_count": 0,
      "outputs": []
    },
    {
      "cell_type": "code",
      "metadata": {
        "id": "bSI-NTSUQfMo",
        "colab_type": "code",
        "outputId": "a90b8bfa-345f-4272-d204-fc7377f88f50",
        "colab": {
          "base_uri": "https://localhost:8080/",
          "height": 89
        }
      },
      "source": [
        "# Feature Engineering 이후 불필요컬럼 Dropt\n",
        "df_final = df_fe[['시도코드','흡연상태','연령대코드5세단위','혈청크레아티닌','혈색소','감마지티피','체중5Kg단위','성별코드','신장5Cm단위','시력우','시력좌','허리둘레','트리글리세라이드','혈청지오티ALT','음주여부','A_GTP','A_BMI','A_TRI','이완기혈압','HDL콜레스테롤','수축기혈압','치석']].copy()\n",
        "df_final.columns"
      ],
      "execution_count": 12,
      "outputs": [
        {
          "output_type": "execute_result",
          "data": {
            "text/plain": [
              "Index(['시도코드', '흡연상태', '연령대코드5세단위', '혈청크레아티닌', '혈색소', '감마지티피', '체중5Kg단위',\n",
              "       '성별코드', '신장5Cm단위', '시력우', '시력좌', '허리둘레', '트리글리세라이드', '혈청지오티ALT', '음주여부',\n",
              "       'A_GTP', 'A_BMI', 'A_TRI', '이완기혈압', 'HDL콜레스테롤', '수축기혈압', '치석'],\n",
              "      dtype='object')"
            ]
          },
          "metadata": {
            "tags": []
          },
          "execution_count": 12
        }
      ]
    },
    {
      "cell_type": "code",
      "metadata": {
        "id": "FvVpdD0yvYHY",
        "colab_type": "code",
        "colab": {}
      },
      "source": [
        "# 상관계수 검증을 위한 연속형 변수 탐색\n",
        "num_features_after_fe = [col for col in df_final.columns if df_final[col].dtypes != \"object\"]\n",
        "num_features_after_fe = np.sort(num_features_after_fe)\n",
        "\n",
        "num_input = list(set(num_features_after_fe) - set(['치석']))"
      ],
      "execution_count": 0,
      "outputs": []
    },
    {
      "cell_type": "markdown",
      "metadata": {
        "id": "yZb3q97XEsEY",
        "colab_type": "text"
      },
      "source": [
        "### 모델 입력 전 최종 모델 입력에 맞게 입력 데이터 변형"
      ]
    },
    {
      "cell_type": "code",
      "metadata": {
        "id": "_tg5YQO8CN8x",
        "colab_type": "code",
        "colab": {}
      },
      "source": [
        "data_x = df_final[df_final.columns.difference(['치석'])]\n",
        "data_y = df_final['치석'].astype('float64')"
      ],
      "execution_count": 0,
      "outputs": []
    },
    {
      "cell_type": "code",
      "metadata": {
        "id": "t_Dk9bmeErpr",
        "colab_type": "code",
        "outputId": "54a1162f-e2f9-487a-8dcf-57644568ab91",
        "colab": {
          "base_uri": "https://localhost:8080/",
          "height": 53
        }
      },
      "source": [
        "num_attribs = [col for col in data_x.columns if data_x[col].dtype in ['int64','float64']]\n",
        "cat_attribs = [col for col in data_x.columns if data_x[col].dtype not in ['int64','float64']]\n",
        "\n",
        "num_attribs = list(set(num_attribs) - set(['치석']))\n",
        "\n",
        "print(\"num_attribs: \", num_attribs)\n",
        "print(\"cat_attribs: \", cat_attribs)"
      ],
      "execution_count": 15,
      "outputs": [
        {
          "output_type": "stream",
          "text": [
            "num_attribs:  ['이완기혈압', '시력우', '혈색소', 'A_BMI', '트리글리세라이드', '감마지티피', '허리둘레', '혈청지오티ALT', '시력좌', '혈청크레아티닌', 'HDL콜레스테롤', '수축기혈압']\n",
            "cat_attribs:  ['A_GTP', 'A_TRI', '성별코드', '시도코드', '신장5Cm단위', '연령대코드5세단위', '음주여부', '체중5Kg단위', '흡연상태']\n"
          ],
          "name": "stdout"
        }
      ]
    },
    {
      "cell_type": "code",
      "metadata": {
        "id": "k1LArIWT-pCi",
        "colab_type": "code",
        "colab": {}
      },
      "source": [
        "# Feature Engineering의 일환으로 Log 값 취한 뒤 Normalization을 하여 변수명 + LN (lognorm)으로 열 추가 후 그래프 다시 그림\n",
        "num_pipeline = Pipeline([\n",
        "        ('min_max_scaler', MinMaxScaler()),\n",
        "    ])\n",
        "\n",
        "full_pipeline = ColumnTransformer([\n",
        "        (\"num_pipeline\", num_pipeline, num_attribs),\n",
        "        (\"cat_encoder\", OneHotEncoder(sparse=False), cat_attribs),\n",
        "    ])\n",
        "\n",
        "data_x_piped = full_pipeline.fit_transform(data_x)\n",
        "\n",
        "data_y_piped = data_y.values"
      ],
      "execution_count": 0,
      "outputs": []
    },
    {
      "cell_type": "code",
      "metadata": {
        "id": "n5XgxjU74kFA",
        "colab_type": "code",
        "colab": {}
      },
      "source": [
        "from sklearn.model_selection import train_test_split\n",
        "train_x, test_x, train_y, test_y = train_test_split(data_x_piped, data_y_piped, test_size = 0.3, random_state = 0)"
      ],
      "execution_count": 0,
      "outputs": []
    },
    {
      "cell_type": "code",
      "metadata": {
        "colab_type": "code",
        "id": "-7dKsglPpP1U",
        "colab": {}
      },
      "source": [
        "#Machine Learning Algorithm (MLA) 선택 및 초기화\n",
        "\n",
        "# 1차 Test 후 좋은 성능을 보인 모델 \n",
        "# ['LogisticRegressionCV', 'RidgeClassifierCV', 'AdaBoostClassifier', 'GradientBoostingClassifier', 'LinearDiscriminantAnalysis', 'XGBClassifier']\n",
        "MLA = [ \n",
        "    #GLM\n",
        "    linear_model.LogisticRegressionCV(),\n",
        "    linear_model.RidgeClassifierCV(),\n",
        "\n",
        "    #Ensemble Methods\n",
        "    ensemble.AdaBoostClassifier(),\n",
        "    ensemble.GradientBoostingClassifier(),\n",
        "       \n",
        "    #Discriminant Analysis\n",
        "    discriminant_analysis.LinearDiscriminantAnalysis(),\n",
        "     \n",
        "    #xgboost: http://xgboost.readthedocs.io/en/latest/model.html\n",
        "    XGBClassifier()\n",
        "    ]"
      ],
      "execution_count": 0,
      "outputs": []
    },
    {
      "cell_type": "code",
      "metadata": {
        "colab_type": "code",
        "outputId": "1ed7e077-5e4b-4d7b-8c61-03fc2c693783",
        "id": "HxxEt1A3pPR_",
        "colab": {
          "base_uri": "https://localhost:8080/",
          "height": 35
        }
      },
      "source": [
        "# 모델평가를 위한 변수 세팅\n",
        "score_pram = ['accuracy', 'precision','recall','f1']\n",
        "\n",
        "#Create Table to Compare Canonical Models\n",
        "MLA_Result_columns = ['ModelName','Dataset','Accuracy','Precision','Recall','F1']\n",
        "MLA_compare = pd.DataFrame(columns = MLA_Result_columns)\n",
        "\n",
        "#create table to compare MLA predictions\n",
        "MLA_predict = pd.DataFrame(train_y)\n",
        "print(MLA_predict.shape)"
      ],
      "execution_count": 19,
      "outputs": [
        {
          "output_type": "stream",
          "text": [
            "(70000, 1)\n"
          ],
          "name": "stdout"
        }
      ]
    },
    {
      "cell_type": "code",
      "metadata": {
        "id": "_Oi-eTAsUMVW",
        "colab_type": "code",
        "outputId": "b7531d39-f561-4af1-f917-bd468408b30e",
        "colab": {
          "base_uri": "https://localhost:8080/",
          "height": 125
        }
      },
      "source": [
        "# MLA_predict\n",
        "['LogisticRegressionCV', 'RidgeClassifierCV', 'AdaBoostClassifier', 'GradientBoostingClassifier', 'LinearDiscriminantAnalysis', 'XGBClassifier']"
      ],
      "execution_count": 20,
      "outputs": [
        {
          "output_type": "execute_result",
          "data": {
            "text/plain": [
              "['LogisticRegressionCV',\n",
              " 'RidgeClassifierCV',\n",
              " 'AdaBoostClassifier',\n",
              " 'GradientBoostingClassifier',\n",
              " 'LinearDiscriminantAnalysis',\n",
              " 'XGBClassifier']"
            ]
          },
          "metadata": {
            "tags": []
          },
          "execution_count": 20
        }
      ]
    },
    {
      "cell_type": "code",
      "metadata": {
        "id": "eQJpDQVc4kFM",
        "colab_type": "code",
        "colab": {}
      },
      "source": [
        "from sklearn import tree, linear_model, naive_bayes, ensemble\n",
        "\n",
        "# evaluation package\n",
        "from sklearn.model_selection import cross_validate\n",
        "from sklearn.metrics import classification_report, confusion_matrix, accuracy_score, roc_auc_score, roc_curve, auc"
      ],
      "execution_count": 0,
      "outputs": []
    },
    {
      "cell_type": "code",
      "metadata": {
        "id": "nrGy91Em0bit",
        "colab_type": "code",
        "colab": {}
      },
      "source": [
        "cv_split = ShuffleSplit(n_splits=10, test_size=.3, train_size =.6, random_state=42) # run model 10x with 60/30 split intentionally leaving out 10%\n",
        "verboseNo = 1"
      ],
      "execution_count": 0,
      "outputs": []
    },
    {
      "cell_type": "code",
      "metadata": {
        "id": "BpHmycsuVcPR",
        "colab_type": "code",
        "colab": {}
      },
      "source": [
        "def auc_graph(roc_auc, fpr, tpr):\n",
        "  plt.title('Receiver Operating Characteristic')\n",
        "  plt.plot(fpr, tpr, 'b', label = 'AUC = %0.2f' % roc_auc)\n",
        "  plt.legend(loc = 'lower right')\n",
        "  plt.plot([0, 1], [0, 1],'r--')\n",
        "  plt.xlim([0, 1])\n",
        "  plt.ylim([0, 1])\n",
        "  plt.ylabel('True Positive Rate')\n",
        "  plt.xlabel('False Positive Rate')\n",
        "  plt.show()"
      ],
      "execution_count": 0,
      "outputs": []
    },
    {
      "cell_type": "code",
      "metadata": {
        "id": "DVZ9P9Xm4kFO",
        "colab_type": "code",
        "outputId": "8c057bbe-990b-4acf-8804-4930718014ae",
        "colab": {
          "base_uri": "https://localhost:8080/",
          "height": 179
        }
      },
      "source": [
        "# LogisticRegressionCV\n",
        "model_lr = linear_model.LogisticRegression()\n",
        "\n",
        "param_grid = {'C': np.logspace(-3,3,7), 'penalty': ['l1', 'l2']}\n",
        "\n",
        "grid_lr = GridSearchCV(model_lr,param_grid = param_grid, cv=cv_split, scoring=\"f1\", n_jobs= -1, verbose = verboseNo)\n",
        "grid_lr.fit(train_x, train_y)\n",
        "grid_lr_best = grid_lr.best_estimator_\n",
        "print(grid_lr_best)"
      ],
      "execution_count": 24,
      "outputs": [
        {
          "output_type": "stream",
          "text": [
            "Fitting 10 folds for each of 14 candidates, totalling 140 fits\n"
          ],
          "name": "stdout"
        },
        {
          "output_type": "stream",
          "text": [
            "[Parallel(n_jobs=-1)]: Using backend LokyBackend with 2 concurrent workers.\n",
            "[Parallel(n_jobs=-1)]: Done  46 tasks      | elapsed:   12.7s\n",
            "[Parallel(n_jobs=-1)]: Done 140 out of 140 | elapsed: 12.7min finished\n"
          ],
          "name": "stderr"
        },
        {
          "output_type": "stream",
          "text": [
            "LogisticRegression(C=0.001, class_weight=None, dual=False, fit_intercept=True,\n",
            "                   intercept_scaling=1, l1_ratio=None, max_iter=100,\n",
            "                   multi_class='warn', n_jobs=None, penalty='l2',\n",
            "                   random_state=None, solver='warn', tol=0.0001, verbose=0,\n",
            "                   warm_start=False)\n"
          ],
          "name": "stdout"
        }
      ]
    },
    {
      "cell_type": "code",
      "metadata": {
        "id": "CPxiUlkOU4AW",
        "colab_type": "code",
        "outputId": "be17a6b9-71bc-4ca6-adbb-5d78a7bb621e",
        "colab": {
          "base_uri": "https://localhost:8080/",
          "height": 565
        }
      },
      "source": [
        "pred_y_lr = grid_lr_best.predict(test_x)\n",
        "print(\"Accuracy: {:.5f}\".format(accuracy_score(test_y, pred_y_lr)))\n",
        "print(\"Confusion Matrix: \\n\", confusion_matrix(test_y, pred_y_lr))\n",
        "print(\"Classification Report Matrix: \\n\", classification_report(test_y, pred_y_lr))\n",
        "\n",
        "roc_auc_lr = roc_auc_score(test_y, pred_y_lr)\n",
        "print(roc_auc_lr)\n",
        "\n",
        "fpr, tpr, threshold = roc_curve(test_y, pred_y_lr)\n",
        "roc_auc = auc(fpr, tpr)\n",
        "\n",
        "auc_graph(roc_auc, fpr, tpr)"
      ],
      "execution_count": 25,
      "outputs": [
        {
          "output_type": "stream",
          "text": [
            "Accuracy: 0.57407\n",
            "Confusion Matrix: \n",
            " [[ 5634  8351]\n",
            " [ 4427 11588]]\n",
            "Classification Report Matrix: \n",
            "               precision    recall  f1-score   support\n",
            "\n",
            "         0.0       0.56      0.40      0.47     13985\n",
            "         1.0       0.58      0.72      0.64     16015\n",
            "\n",
            "    accuracy                           0.57     30000\n",
            "   macro avg       0.57      0.56      0.56     30000\n",
            "weighted avg       0.57      0.57      0.56     30000\n",
            "\n",
            "0.5632159294708404\n"
          ],
          "name": "stdout"
        },
        {
          "output_type": "display_data",
          "data": {
            "image/png": "[encoded data removed]",
            "text/plain": [
              "<Figure size 432x288 with 1 Axes>"
            ]
          },
          "metadata": {
            "tags": []
          }
        }
      ]
    },
    {
      "cell_type": "code",
      "metadata": {
        "id": "RYnr5L0L2RoG",
        "colab_type": "code",
        "outputId": "057d3ce9-dbb0-4ced-bd4a-10689a69b7fb",
        "colab": {
          "base_uri": "https://localhost:8080/",
          "height": 125
        }
      },
      "source": [
        "# RidgeClassifierCV\n",
        "model_rc = linear_model.RidgeClassifier()\n",
        "\n",
        "param_grid = {'alpha':[1e-3, 1e-2, 1e-1, 1]}\n",
        "\n",
        "grid_rc = GridSearchCV(model_rc,param_grid = param_grid, cv=cv_split, scoring=\"f1\", n_jobs= -1, verbose = verboseNo)\n",
        "grid_rc.fit(train_x, train_y)\n",
        "grid_rc_best = grid_rc.best_estimator_\n",
        "print(grid_rc_best)"
      ],
      "execution_count": 26,
      "outputs": [
        {
          "output_type": "stream",
          "text": [
            "Fitting 10 folds for each of 4 candidates, totalling 40 fits\n"
          ],
          "name": "stdout"
        },
        {
          "output_type": "stream",
          "text": [
            "[Parallel(n_jobs=-1)]: Using backend LokyBackend with 2 concurrent workers.\n"
          ],
          "name": "stderr"
        },
        {
          "output_type": "stream",
          "text": [
            "RidgeClassifier(alpha=0.1, class_weight=None, copy_X=True, fit_intercept=True,\n",
            "                max_iter=None, normalize=False, random_state=None,\n",
            "                solver='auto', tol=0.001)\n"
          ],
          "name": "stdout"
        },
        {
          "output_type": "stream",
          "text": [
            "[Parallel(n_jobs=-1)]: Done  40 out of  40 | elapsed:    5.4s finished\n"
          ],
          "name": "stderr"
        }
      ]
    },
    {
      "cell_type": "code",
      "metadata": {
        "id": "0J-t_ofKVvO1",
        "colab_type": "code",
        "outputId": "6e1a88e4-d72e-4143-b5a8-963158a0862f",
        "colab": {
          "base_uri": "https://localhost:8080/",
          "height": 565
        }
      },
      "source": [
        "pred_y_rc = grid_rc_best.predict(test_x)\n",
        "print(\"Accuracy: {:.5f}\".format(accuracy_score(test_y, pred_y_rc)))\n",
        "print(\"Confusion Matrix: \\n\", confusion_matrix(test_y, pred_y_rc))\n",
        "print(\"Classification Report Matrix: \\n\", classification_report(test_y, pred_y_rc))\n",
        "\n",
        "roc_auc_rc = roc_auc_score(test_y, pred_y_rc)\n",
        "print(roc_auc_rc)\n",
        "\n",
        "fpr, tpr, threshold = roc_curve(test_y, pred_y_rc)\n",
        "roc_auc = auc(fpr, tpr)\n",
        "\n",
        "auc_graph(roc_auc, fpr, tpr)"
      ],
      "execution_count": 27,
      "outputs": [
        {
          "output_type": "stream",
          "text": [
            "Accuracy: 0.57927\n",
            "Confusion Matrix: \n",
            " [[ 5983  8002]\n",
            " [ 4620 11395]]\n",
            "Classification Report Matrix: \n",
            "               precision    recall  f1-score   support\n",
            "\n",
            "         0.0       0.56      0.43      0.49     13985\n",
            "         1.0       0.59      0.71      0.64     16015\n",
            "\n",
            "    accuracy                           0.58     30000\n",
            "   macro avg       0.58      0.57      0.57     30000\n",
            "weighted avg       0.58      0.58      0.57     30000\n",
            "\n",
            "0.5696679831017377\n"
          ],
          "name": "stdout"
        },
        {
          "output_type": "display_data",
          "data": {
            "image/png": "[encoded data removed]",
            "text/plain": [
              "<Figure size 432x288 with 1 Axes>"
            ]
          },
          "metadata": {
            "tags": []
          }
        }
      ]
    },
    {
      "cell_type": "code",
      "metadata": {
        "id": "RgXaGEB7LDqm",
        "colab_type": "code",
        "outputId": "6e1e8918-5d3a-42b5-c458-2b0e2dcb6725",
        "colab": {
          "base_uri": "https://localhost:8080/",
          "height": 107
        }
      },
      "source": [
        "# AdaBoostClassifier\n",
        "model_ab = ensemble.AdaBoostClassifier()\n",
        "\n",
        "param_grid = {'n_estimators': [16, 32]}\n",
        "\n",
        "grid_ab = GridSearchCV(model_ab,param_grid = param_grid, cv=cv_split, scoring=\"f1\", n_jobs= -1, verbose = verboseNo)\n",
        "grid_ab.fit(train_x, train_y)\n",
        "grid_ab_best = grid_ab.best_estimator_\n",
        "print(grid_ab_best)"
      ],
      "execution_count": 28,
      "outputs": [
        {
          "output_type": "stream",
          "text": [
            "Fitting 10 folds for each of 2 candidates, totalling 20 fits\n"
          ],
          "name": "stdout"
        },
        {
          "output_type": "stream",
          "text": [
            "[Parallel(n_jobs=-1)]: Using backend LokyBackend with 2 concurrent workers.\n",
            "[Parallel(n_jobs=-1)]: Done  20 out of  20 | elapsed:   33.1s finished\n"
          ],
          "name": "stderr"
        },
        {
          "output_type": "stream",
          "text": [
            "AdaBoostClassifier(algorithm='SAMME.R', base_estimator=None, learning_rate=1.0,\n",
            "                   n_estimators=32, random_state=None)\n"
          ],
          "name": "stdout"
        }
      ]
    },
    {
      "cell_type": "code",
      "metadata": {
        "id": "HSnmjadPV7FT",
        "colab_type": "code",
        "outputId": "d1106259-a863-4b86-c167-781bda444dbf",
        "colab": {
          "base_uri": "https://localhost:8080/",
          "height": 565
        }
      },
      "source": [
        "pred_y_ab = grid_ab_best.predict(test_x)\n",
        "print(\"Accuracy: {:.5f}\".format(accuracy_score(test_y, pred_y_ab)))\n",
        "print(\"Confusion Matrix: \\n\", confusion_matrix(test_y, pred_y_ab))\n",
        "print(\"Classification Report Matrix: \\n\", classification_report(test_y, pred_y_ab))\n",
        "\n",
        "roc_auc_ab = roc_auc_score(test_y, pred_y_ab)\n",
        "print(roc_auc_ab)\n",
        "\n",
        "fpr, tpr, threshold = roc_curve(test_y, pred_y_ab)\n",
        "roc_auc = auc(fpr, tpr)\n",
        "\n",
        "auc_graph(roc_auc, fpr, tpr)"
      ],
      "execution_count": 29,
      "outputs": [
        {
          "output_type": "stream",
          "text": [
            "Accuracy: 0.57817\n",
            "Confusion Matrix: \n",
            " [[ 5957  8028]\n",
            " [ 4627 11388]]\n",
            "Classification Report Matrix: \n",
            "               precision    recall  f1-score   support\n",
            "\n",
            "         0.0       0.56      0.43      0.48     13985\n",
            "         1.0       0.59      0.71      0.64     16015\n",
            "\n",
            "    accuracy                           0.58     30000\n",
            "   macro avg       0.57      0.57      0.56     30000\n",
            "weighted avg       0.58      0.58      0.57     30000\n",
            "\n",
            "0.5685198705941461\n"
          ],
          "name": "stdout"
        },
        {
          "output_type": "display_data",
          "data": {
            "image/png": "[encoded data removed]",
            "text/plain": [
              "<Figure size 432x288 with 1 Axes>"
            ]
          },
          "metadata": {
            "tags": []
          }
        }
      ]
    },
    {
      "cell_type": "code",
      "metadata": {
        "id": "JdUDNhWpLDn5",
        "colab_type": "code",
        "outputId": "062dd5ed-ea7c-4a0f-f7a6-727a4e185f93",
        "colab": {
          "base_uri": "https://localhost:8080/",
          "height": 251
        }
      },
      "source": [
        "# GradientBoostingClassifier\n",
        "model_gb = ensemble.GradientBoostingClassifier()\n",
        "\n",
        "param_grid = {'n_estimators': [16, 32], 'learning_rate': [0.8, 1.0]}\n",
        "\n",
        "grid_gb = GridSearchCV(model_gb,param_grid = param_grid, cv=cv_split, scoring=\"f1\", n_jobs= -1, verbose = verboseNo)\n",
        "grid_gb.fit(train_x, train_y)\n",
        "grid_gb_best = grid_gb.best_estimator_\n",
        "print(grid_gb_best)"
      ],
      "execution_count": 30,
      "outputs": [
        {
          "output_type": "stream",
          "text": [
            "Fitting 10 folds for each of 4 candidates, totalling 40 fits\n"
          ],
          "name": "stdout"
        },
        {
          "output_type": "stream",
          "text": [
            "[Parallel(n_jobs=-1)]: Using backend LokyBackend with 2 concurrent workers.\n",
            "[Parallel(n_jobs=-1)]: Done  40 out of  40 | elapsed:  2.0min finished\n"
          ],
          "name": "stderr"
        },
        {
          "output_type": "stream",
          "text": [
            "GradientBoostingClassifier(criterion='friedman_mse', init=None,\n",
            "                           learning_rate=0.8, loss='deviance', max_depth=3,\n",
            "                           max_features=None, max_leaf_nodes=None,\n",
            "                           min_impurity_decrease=0.0, min_impurity_split=None,\n",
            "                           min_samples_leaf=1, min_samples_split=2,\n",
            "                           min_weight_fraction_leaf=0.0, n_estimators=16,\n",
            "                           n_iter_no_change=None, presort='auto',\n",
            "                           random_state=None, subsample=1.0, tol=0.0001,\n",
            "                           validation_fraction=0.1, verbose=0,\n",
            "                           warm_start=False)\n"
          ],
          "name": "stdout"
        }
      ]
    },
    {
      "cell_type": "code",
      "metadata": {
        "id": "LTzvXKZGWG1P",
        "colab_type": "code",
        "outputId": "a9b7808e-8fa5-4d85-c587-40460176b144",
        "colab": {
          "base_uri": "https://localhost:8080/",
          "height": 565
        }
      },
      "source": [
        "pred_y_gb = grid_gb_best.predict(test_x)\n",
        "print(\"Accuracy: {:.5f}\".format(accuracy_score(test_y, pred_y_gb)))\n",
        "print(\"Confusion Matrix: \\n\", confusion_matrix(test_y, pred_y_gb))\n",
        "print(\"Classification Report Matrix: \\n\", classification_report(test_y, pred_y_gb))\n",
        "\n",
        "roc_auc_gb = roc_auc_score(test_y, pred_y_gb)\n",
        "print(roc_auc_gb)\n",
        "\n",
        "fpr, tpr, threshold = roc_curve(test_y, pred_y_gb)\n",
        "roc_auc = auc(fpr, tpr)\n",
        "\n",
        "auc_graph(roc_auc, fpr, tpr)"
      ],
      "execution_count": 31,
      "outputs": [
        {
          "output_type": "stream",
          "text": [
            "Accuracy: 0.57597\n",
            "Confusion Matrix: \n",
            " [[ 5855  8130]\n",
            " [ 4591 11424]]\n",
            "Classification Report Matrix: \n",
            "               precision    recall  f1-score   support\n",
            "\n",
            "         0.0       0.56      0.42      0.48     13985\n",
            "         1.0       0.58      0.71      0.64     16015\n",
            "\n",
            "    accuracy                           0.58     30000\n",
            "   macro avg       0.57      0.57      0.56     30000\n",
            "weighted avg       0.57      0.58      0.57     30000\n",
            "\n",
            "0.5659970525040711\n"
          ],
          "name": "stdout"
        },
        {
          "output_type": "display_data",
          "data": {
            "image/png": "[encoded data removed]",
            "text/plain": [
              "<Figure size 432x288 with 1 Axes>"
            ]
          },
          "metadata": {
            "tags": []
          }
        }
      ]
    },
    {
      "cell_type": "code",
      "metadata": {
        "id": "x6YeRb8QLDlH",
        "colab_type": "code",
        "outputId": "82043a6c-3e6c-4f48-c79c-d4ed6413c86c",
        "colab": {
          "base_uri": "https://localhost:8080/",
          "height": 107
        }
      },
      "source": [
        "# LinearDiscriminantAnalysis\n",
        "## LDA(선형판별분석(Linear Discriminant Analysis):데이터를 특정 한 축에 사영(projection)한 후에 두 범주를 잘 구분할 수 있는 직선을 찾는 걸 목표\n",
        "model_ld = discriminant_analysis.LinearDiscriminantAnalysis()\n",
        "\n",
        "param_grid = {'solver': ['svd', 'lsqr']}\n",
        "\n",
        "grid_ld = GridSearchCV(model_ld,param_grid = param_grid, cv=cv_split, scoring=\"f1\", n_jobs= -1, verbose = verboseNo)\n",
        "grid_ld.fit(train_x, train_y)\n",
        "grid_ld_best = grid_ld.best_estimator_\n",
        "print(grid_ld_best)"
      ],
      "execution_count": 32,
      "outputs": [
        {
          "output_type": "stream",
          "text": [
            "Fitting 10 folds for each of 2 candidates, totalling 20 fits\n"
          ],
          "name": "stdout"
        },
        {
          "output_type": "stream",
          "text": [
            "[Parallel(n_jobs=-1)]: Using backend LokyBackend with 2 concurrent workers.\n",
            "[Parallel(n_jobs=-1)]: Done  20 out of  20 | elapsed:   16.4s finished\n"
          ],
          "name": "stderr"
        },
        {
          "output_type": "stream",
          "text": [
            "LinearDiscriminantAnalysis(n_components=None, priors=None, shrinkage=None,\n",
            "                           solver='lsqr', store_covariance=False, tol=0.0001)\n"
          ],
          "name": "stdout"
        }
      ]
    },
    {
      "cell_type": "code",
      "metadata": {
        "id": "TK_HM3j8XO6p",
        "colab_type": "code",
        "outputId": "b6064a1a-5221-4b20-c14e-dc67beb54970",
        "colab": {
          "base_uri": "https://localhost:8080/",
          "height": 565
        }
      },
      "source": [
        "pred_y_ld = grid_ld_best.predict(test_x)\n",
        "print(\"Accuracy: {:.5f}\".format(accuracy_score(test_y, pred_y_ld)))\n",
        "print(\"Confusion Matrix: \\n\", confusion_matrix(test_y, pred_y_ld))\n",
        "print(\"Classification Report Matrix: \\n\", classification_report(test_y, pred_y_ld))\n",
        "\n",
        "roc_auc_ld = roc_auc_score(test_y, pred_y_ld)\n",
        "print(roc_auc_ld)\n",
        "\n",
        "fpr, tpr, threshold = roc_curve(test_y, pred_y_ld)\n",
        "roc_auc = auc(fpr, tpr)\n",
        "\n",
        "auc_graph(roc_auc, fpr, tpr)"
      ],
      "execution_count": 33,
      "outputs": [
        {
          "output_type": "stream",
          "text": [
            "Accuracy: 0.57923\n",
            "Confusion Matrix: \n",
            " [[ 5987  7998]\n",
            " [ 4625 11390]]\n",
            "Classification Report Matrix: \n",
            "               precision    recall  f1-score   support\n",
            "\n",
            "         0.0       0.56      0.43      0.49     13985\n",
            "         1.0       0.59      0.71      0.64     16015\n",
            "\n",
            "    accuracy                           0.58     30000\n",
            "   macro avg       0.58      0.57      0.57     30000\n",
            "weighted avg       0.58      0.58      0.57     30000\n",
            "\n",
            "0.569654889817164\n"
          ],
          "name": "stdout"
        },
        {
          "output_type": "display_data",
          "data": {
            "image/png": "[encoded data removed]",
            "text/plain": [
              "<Figure size 432x288 with 1 Axes>"
            ]
          },
          "metadata": {
            "tags": []
          }
        }
      ]
    },
    {
      "cell_type": "code",
      "metadata": {
        "id": "DFNoZqxNLDi8",
        "colab_type": "code",
        "outputId": "acc719d1-a3eb-4f76-822d-12cc934188b2",
        "colab": {
          "base_uri": "https://localhost:8080/",
          "height": 197
        }
      },
      "source": [
        "# XGBClassifier\n",
        "model_xg = XGBClassifier()\n",
        "\n",
        "param_grid = {'nthread':[4], #when use hyperthread, xgboost may become slower\n",
        "              'objective':['binary:logistic'],\n",
        "              'learning_rate': [0.05], #so called `eta` value\n",
        "              'max_depth': [6],\n",
        "              'min_child_weight': [11],\n",
        "              'silent': [1],\n",
        "              'subsample': [0.8],\n",
        "              'colsample_bytree': [0.7],\n",
        "              'n_estimators': [5], #number of trees, change it to 1000 for better results\n",
        "              'missing':[-999],\n",
        "              'seed': [1337]}\n",
        "\n",
        "grid_xg = GridSearchCV(model_xg,param_grid = param_grid, cv=cv_split, scoring=\"f1\", n_jobs= -1, verbose = verboseNo)\n",
        "grid_xg.fit(train_x, train_y)\n",
        "grid_xg_best = grid_xg.best_estimator_\n",
        "print(grid_xg_best)"
      ],
      "execution_count": 34,
      "outputs": [
        {
          "output_type": "stream",
          "text": [
            "Fitting 10 folds for each of 1 candidates, totalling 10 fits\n"
          ],
          "name": "stdout"
        },
        {
          "output_type": "stream",
          "text": [
            "[Parallel(n_jobs=-1)]: Using backend LokyBackend with 2 concurrent workers.\n",
            "[Parallel(n_jobs=-1)]: Done  10 out of  10 | elapsed:   10.9s finished\n"
          ],
          "name": "stderr"
        },
        {
          "output_type": "stream",
          "text": [
            "XGBClassifier(base_score=0.5, booster='gbtree', colsample_bylevel=1,\n",
            "              colsample_bynode=1, colsample_bytree=0.7, gamma=0,\n",
            "              learning_rate=0.05, max_delta_step=0, max_depth=6,\n",
            "              min_child_weight=11, missing=-999, n_estimators=5, n_jobs=1,\n",
            "              nthread=4, objective='binary:logistic', random_state=0,\n",
            "              reg_alpha=0, reg_lambda=1, scale_pos_weight=1, seed=1337,\n",
            "              silent=1, subsample=0.8, verbosity=1)\n"
          ],
          "name": "stdout"
        }
      ]
    },
    {
      "cell_type": "code",
      "metadata": {
        "id": "KaYaWb6rLDgR",
        "colab_type": "code",
        "outputId": "22ab212c-6f1f-406f-d36c-e7f3a896797f",
        "colab": {
          "base_uri": "https://localhost:8080/",
          "height": 565
        }
      },
      "source": [
        "pred_y_xg = grid_xg_best.predict(test_x)\n",
        "print(\"Accuracy: {:.5f}\".format(accuracy_score(test_y, pred_y_xg)))\n",
        "print(\"Confusion Matrix: \\n\", confusion_matrix(test_y, pred_y_xg))\n",
        "print(\"Classification Report Matrix: \\n\", classification_report(test_y, pred_y_xg))\n",
        "\n",
        "roc_auc_xg = roc_auc_score(test_y, pred_y_xg)\n",
        "print(roc_auc_xg)\n",
        "\n",
        "fpr, tpr, threshold = roc_curve(test_y, pred_y_xg)\n",
        "roc_auc = auc(fpr, tpr)\n",
        "\n",
        "auc_graph(roc_auc, fpr, tpr)"
      ],
      "execution_count": 35,
      "outputs": [
        {
          "output_type": "stream",
          "text": [
            "Accuracy: 0.56727\n",
            "Confusion Matrix: \n",
            " [[ 4711  9274]\n",
            " [ 3708 12307]]\n",
            "Classification Report Matrix: \n",
            "               precision    recall  f1-score   support\n",
            "\n",
            "         0.0       0.56      0.34      0.42     13985\n",
            "         1.0       0.57      0.77      0.65     16015\n",
            "\n",
            "    accuracy                           0.57     30000\n",
            "   macro avg       0.56      0.55      0.54     30000\n",
            "weighted avg       0.57      0.57      0.55     30000\n",
            "\n",
            "0.5526639922730645\n"
          ],
          "name": "stdout"
        },
        {
          "output_type": "display_data",
          "data": {
            "image/png": "[encoded data removed]",
            "text/plain": [
              "<Figure size 432x288 with 1 Axes>"
            ]
          },
          "metadata": {
            "tags": []
          }
        }
      ]
    },
    {
      "cell_type": "code",
      "metadata": {
        "id": "pmNWezMRhJZT",
        "colab_type": "code",
        "colab": {}
      },
      "source": [
        "# # XGBoost Test\n",
        "# xgb_clf = XGBClassifier(nthreads=-1)\n",
        "\n",
        "# one_to_left = st.beta(100, 1)  \n",
        "# from_zero_positive = st.expon(0, 50)\n",
        "\n",
        "# params = {  \n",
        "#     \"n_estimators\": st.randint(3, 100),\n",
        "#     \"max_depth\": st.randint(3, 40),\n",
        "#     \"learning_rate\": st.uniform(0.05, 0.9),\n",
        "#     \"colsample_bytree\": one_to_left,\n",
        "#     \"subsample\": one_to_left,\n",
        "#     \"gamma\": st.uniform(0, 10),\n",
        "#     'reg_alpha': from_zero_positive,\n",
        "#     \"min_child_weight\": from_zero_positive,\n",
        "# }\n",
        "\n",
        "# rand_search = RandomizedSearchCV(xgb_clf, params, n_jobs=1, cv=100)  \n",
        "# rand_search.fit(x_train, y_train) \n",
        "# xgb_best = rand_search.best_estimator_\n",
        "# print(rand_search.best_estimator_)"
      ],
      "execution_count": 0,
      "outputs": []
    },
    {
      "cell_type": "markdown",
      "metadata": {
        "id": "z3dzERZNhTSO",
        "colab_type": "text"
      },
      "source": [
        "## 결과 앙상블로 모델 결과 최적화"
      ]
    },
    {
      "cell_type": "code",
      "metadata": {
        "id": "KpV_sYdchLgl",
        "colab_type": "code",
        "colab": {}
      },
      "source": [
        "votingC = VotingClassifier(estimators=[('model_lr',grid_lr_best),('model_ab', grid_ab_best),\n",
        "                                       ('model_gb', grid_gb_best),('model_ld', grid_ld_best), ('model_xg',grid_xg_best)], \n",
        "                           voting='soft', n_jobs=-1)\n",
        "\n",
        "votingC = votingC.fit(train_x, train_y)"
      ],
      "execution_count": 0,
      "outputs": []
    },
    {
      "cell_type": "code",
      "metadata": {
        "id": "cACSFDvVvwUh",
        "colab_type": "code",
        "outputId": "bad5c82c-a2e6-4621-bc2d-2ee00f30dd9d",
        "colab": {
          "base_uri": "https://localhost:8080/",
          "height": 565
        }
      },
      "source": [
        "# soft voting을 통한 성능 향상\n",
        "pred_y_vc = votingC.predict(test_x)\n",
        "print(\"Accuracy: {:.5f}\".format(accuracy_score(test_y, pred_y_vc)))\n",
        "print(\"Confusion Matrix: \\n\", confusion_matrix(test_y, pred_y_vc))\n",
        "print(\"Classification Report Matrix: \\n\", classification_report(test_y, pred_y_vc))\n",
        "\n",
        "roc_auc_vc = roc_auc_score(test_y, pred_y_vc)\n",
        "print(roc_auc_vc)\n",
        "\n",
        "fpr, tpr, threshold = roc_curve(test_y, pred_y_vc)\n",
        "roc_auc = auc(fpr, tpr)\n",
        "\n",
        "auc_graph(roc_auc, fpr, tpr)"
      ],
      "execution_count": 38,
      "outputs": [
        {
          "output_type": "stream",
          "text": [
            "Accuracy: 0.57963\n",
            "Confusion Matrix: \n",
            " [[ 5823  8162]\n",
            " [ 4449 11566]]\n",
            "Classification Report Matrix: \n",
            "               precision    recall  f1-score   support\n",
            "\n",
            "         0.0       0.57      0.42      0.48     13985\n",
            "         1.0       0.59      0.72      0.65     16015\n",
            "\n",
            "    accuracy                           0.58     30000\n",
            "   macro avg       0.58      0.57      0.56     30000\n",
            "weighted avg       0.58      0.58      0.57     30000\n",
            "\n",
            "0.569286313298301\n"
          ],
          "name": "stdout"
        },
        {
          "output_type": "display_data",
          "data": {
            "image/png": "[encoded data removed]",
            "text/plain": [
              "<Figure size 432x288 with 1 Axes>"
            ]
          },
          "metadata": {
            "tags": []
          }
        }
      ]
    },
    {
      "cell_type": "code",
      "metadata": {
        "id": "BXZDPhwHpozd",
        "colab_type": "code",
        "colab": {}
      },
      "source": [
        "import keras\n",
        "# Deep Learning Model 로드\n",
        "from keras.models import Sequential\n",
        "from keras.layers import Dense, Dropout, Activation \n",
        "from keras.wrappers.scikit_learn import KerasClassifier"
      ],
      "execution_count": 0,
      "outputs": []
    },
    {
      "cell_type": "code",
      "metadata": {
        "id": "zTJ3mIWfppm0",
        "colab_type": "code",
        "colab": {}
      },
      "source": [
        "# Deep Learning 평가를 위한 평가 함수 정의\n",
        "from keras import backend as K\n",
        "\n",
        "def recall(y_target, y_pred):\n",
        "    # clip(t, clip_value_min, clip_value_max) : clip_value_min~clip_value_max 이외 가장자리를 깎아 낸다\n",
        "    # round : 반올림한다\n",
        "    y_target_yn = K.round(K.clip(y_target, 0, 1)) # 실제값을 0(Negative) 또는 1(Positive)로 설정한다\n",
        "    y_pred_yn = K.round(K.clip(y_pred, 0, 1)) # 예측값을 0(Negative) 또는 1(Positive)로 설정한다\n",
        "\n",
        "    # True Positive는 실제 값과 예측 값이 모두 1(Positive)인 경우이다\n",
        "    count_true_positive = K.sum(y_target_yn * y_pred_yn) \n",
        "\n",
        "    # (True Positive + False Negative) = 실제 값이 1(Positive) 전체\n",
        "    count_true_positive_false_negative = K.sum(y_target_yn)\n",
        "\n",
        "    # Recall =  (True Positive) / (True Positive + False Negative)\n",
        "    # K.epsilon()는 'divide by zero error' 예방차원에서 작은 수를 더한다\n",
        "    recall = count_true_positive / (count_true_positive_false_negative + K.epsilon())\n",
        "\n",
        "    # return a single tensor value\n",
        "    return recall\n",
        "\n",
        "\n",
        "def precision(y_target, y_pred):\n",
        "    # clip(t, clip_value_min, clip_value_max) : clip_value_min~clip_value_max 이외 가장자리를 깎아 낸다\n",
        "    # round : 반올림한다\n",
        "    y_pred_yn = K.round(K.clip(y_pred, 0, 1)) # 예측값을 0(Negative) 또는 1(Positive)로 설정한다\n",
        "    y_target_yn = K.round(K.clip(y_target, 0, 1)) # 실제값을 0(Negative) 또는 1(Positive)로 설정한다\n",
        "\n",
        "    # True Positive는 실제 값과 예측 값이 모두 1(Positive)인 경우이다\n",
        "    count_true_positive = K.sum(y_target_yn * y_pred_yn) \n",
        "\n",
        "    # (True Positive + False Positive) = 예측 값이 1(Positive) 전체\n",
        "    count_true_positive_false_positive = K.sum(y_pred_yn)\n",
        "\n",
        "    # Precision = (True Positive) / (True Positive + False Positive)\n",
        "    # K.epsilon()는 'divide by zero error' 예방차원에서 작은 수를 더한다\n",
        "    precision = count_true_positive / (count_true_positive_false_positive + K.epsilon())\n",
        "\n",
        "    # return a single tensor value\n",
        "    return precision\n",
        "\n",
        "\n",
        "def f1score(y_target, y_pred):\n",
        "    _recall = recall(y_target, y_pred)\n",
        "    _precision = precision(y_target, y_pred)\n",
        "    # K.epsilon()는 'divide by zero error' 예방차원에서 작은 수를 더한다\n",
        "    _f1score = ( 2 * _recall * _precision) / (_recall + _precision+ K.epsilon())\n",
        "    \n",
        "    # return a single tensor value\n",
        "    return _f1score"
      ],
      "execution_count": 0,
      "outputs": []
    },
    {
      "cell_type": "code",
      "metadata": {
        "id": "mcsnrbgSpk20",
        "colab_type": "code",
        "colab": {}
      },
      "source": [
        "\n",
        "def mlp_model():\n",
        "#   input_dim = train_x.shape[1]\n",
        "#   batch_size = 64\n",
        "#   epochs = 50\n",
        "\n",
        "  model = Sequential()\n",
        "\n",
        "  # 첫 번째 Layer (Input layer)\n",
        "  model.add(Dense(input_dim=input_dim, init='glorot_uniform', activation=activation, output_dim=128))\n",
        "  model.add(Dropout(0.3)) # 30% 정도를 Drop \n",
        "\n",
        "  # 두 번째 Layer (Hidden layer 1)\n",
        "  model.add(Dense(output_dim=128, init='glorot_uniform', activation=activation))\n",
        "  model.add(Dropout(0.3)) # 30% 정도를 Drop \n",
        "\n",
        "  # 세 번째 Layer (Hidden layer 2)\n",
        "  model.add(Dense(output_dim=128, init='glorot_uniform', activation=activation))\n",
        "  model.add(Dropout(0.3)) # 30% 정도를 Drop \n",
        "\n",
        "  # 네 번째 Layer (Hidden layer 3)\n",
        "  model.add(Dense(output_dim=128, init='glorot_uniform', activation=activation))\n",
        "  model.add(Dropout(0.3)) # 30% 정도를 Drop \n",
        "\n",
        "  # 다섯 번째 Layer (Hidden layer 4)\n",
        "  model.add(Dense(output_dim=128, init='glorot_uniform', activation=activation))\n",
        "  model.add(Dropout(0.3)) # 30% 정도를 Drop \n",
        "\n",
        "  # 여섯 번째 Layer (Output layer)\n",
        "  model.add(Dense(output_dim=1))\n",
        "  model.add(Activation(\"sigmoid\"))\n",
        "\n",
        "  # Cost function 및 Optimizer 설정 # binary class 분류이므로 binary_crossentropy 사용 # Adam optimizer 사용\n",
        "  # ffn_model.compile(loss='binary_crossentropy', optimizer='adam', metrics=['accuracy', precision, recall, f1score])\n",
        "  model.compile(loss='binary_crossentropy', optimizer='rmsprop', metrics=['accuracy', precision, recall, f1score])\n",
        "  \n",
        "  return model\n",
        "\n",
        "# model training\n",
        "# hist = ffn_model.fit(train_x, train_y, epochs=epochs, batch_size=batch_size, verbose=1)\n",
        "\n",
        "lrelu = lambda x: tf.keras.activations.relu(x, alpha=0.1)\n",
        "activation = lrelu\n",
        "\n",
        "model_dl = KerasClassifier(build_fn = mlp_model, epochs = 50, input_dim = train_x.shape[1], verbose = 1)"
      ],
      "execution_count": 0,
      "outputs": []
    },
    {
      "cell_type": "code",
      "metadata": {
        "id": "hJaZbAdzpzxc",
        "colab_type": "code",
        "colab": {
          "base_uri": "https://localhost:8080/",
          "height": 125
        },
        "outputId": "8bf49fe5-18fb-4d63-946a-faf158c82a7a"
      },
      "source": [
        "model_dl_run = model_dl.fit(train_x, train_y)\n",
        "pred_y_dl = model_dl_run.predict(test_x)\n",
        "pred_y_dl = (pred_y_dl>0.5)\n",
        "print(\"Accuracy: {:.5f}\".format(accuracy_score(test_y, pred_y_dl)))\n",
        "print(\"Confusion Matrix: \\n\", confusion_matrix(test_y, pred_y_dl))\n",
        "print(\"Classification Report Matrix: \\n\", classification_report(test_y, pred_y_dl))\n",
        "\n",
        "roc_auc_dl = roc_auc_score(test_y, pred_y_dl)\n",
        "print(roc_auc_dl)\n",
        "\n",
        "fpr, tpr, threshold = roc_curve(test_y, pred_y_dl)\n",
        "roc_auc = auc(fpr, tpr)\n",
        "\n",
        "auc_graph(roc_auc, fpr, tpr)"
      ],
      "execution_count": 0,
      "outputs": [
        {
          "output_type": "stream",
          "text": [
            "Epoch 1/50\n",
            "70000/70000 [==============================] - 15s 211us/step - loss: 0.6838 - acc: 0.5560 - precision: 0.5653 - recall: 0.7276 - f1score: 0.6251\n",
            "Epoch 2/50\n",
            "70000/70000 [==============================] - 14s 202us/step - loss: 0.6804 - acc: 0.5679 - precision: 0.5716 - recall: 0.7613 - f1score: 0.6448\n",
            "Epoch 3/50\n",
            "60896/70000 [=========================>....] - ETA: 1s - loss: 0.6794 - acc: 0.5699 - precision: 0.5754 - recall: 0.7413 - f1score: 0.6396"
          ],
          "name": "stdout"
        }
      ]
    },
    {
      "cell_type": "code",
      "metadata": {
        "id": "ei1RSRzZvuMO",
        "colab_type": "code",
        "colab": {}
      },
      "source": [
        "votingC = VotingClassifier(estimators=[('model_lr',grid_lr_best),('model_ab', grid_ab_best),('model_gb', grid_gb_best)\n",
        "                                       ,('model_ld', grid_ld_best), ('model_xg',grid_xg_best), ('model_dl',model_dl)], \n",
        "                           voting='soft', n_jobs=-1)\n",
        "\n",
        "votingC = votingC.fit(train_x, train_y)"
      ],
      "execution_count": 0,
      "outputs": []
    },
    {
      "cell_type": "code",
      "metadata": {
        "id": "qyQ-B28E9DAM",
        "colab_type": "code",
        "colab": {}
      },
      "source": [
        "# soft voting을 통한 성능 향상\n",
        "pred_y_vc = votingC.predict(test_x)\n",
        "print(\"Accuracy: {:.5f}\".format(accuracy_score(test_y, pred_y_vc)))\n",
        "print(\"Confusion Matrix: \\n\", confusion_matrix(test_y, pred_y_vc))\n",
        "print(\"Classification Report Matrix: \\n\", classification_report(test_y, pred_y_vc))\n",
        "\n",
        "roc_auc_vc = roc_auc_score(test_y, pred_y_vc)\n",
        "print(roc_auc_vc)\n",
        "\n",
        "fpr, tpr, threshold = roc_curve(test_y, pred_y_vc)\n",
        "roc_auc = auc(fpr, tpr)\n",
        "\n",
        "auc_graph(roc_auc, fpr, tpr)"
      ],
      "execution_count": 0,
      "outputs": []
    },
    {
      "cell_type": "markdown",
      "metadata": {
        "id": "oiC5sxudvwC-",
        "colab_type": "text"
      },
      "source": [
        ""
      ]
    }
  ]
}