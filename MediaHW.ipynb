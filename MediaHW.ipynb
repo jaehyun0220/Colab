{
  "nbformat": 4,
  "nbformat_minor": 0,
  "metadata": {
    "colab": {
      "name": "MediaHW.ipynb",
      "provenance": [],
      "collapsed_sections": [],
      "include_colab_link": true
    },
    "kernelspec": {
      "name": "python3",
      "display_name": "Python 3"
    }
  },
  "cells": [
    {
      "cell_type": "markdown",
      "metadata": {
        "id": "view-in-github",
        "colab_type": "text"
      },
      "source": [
        "<a href=\"https://colab.research.google.com/github/jaehyun0220/Colab/blob/master/MediaHW.ipynb\" target=\"_parent\"><img src=\"https://colab.research.google.com/assets/colab-badge.svg\" alt=\"Open In Colab\"/></a>"
      ]
    },
    {
      "cell_type": "markdown",
      "metadata": {
        "id": "PeYMVg943970",
        "colab_type": "text"
      },
      "source": [
        "### 1주차 HW - 나와 닮고 싶은 사람 비교 (코딩)"
      ]
    },
    {
      "cell_type": "code",
      "metadata": {
        "id": "0nChOwj3oVac",
        "colab_type": "code",
        "colab": {}
      },
      "source": [
        "import pandas as pd\n",
        "import numpy as np\n",
        "import os, sys"
      ],
      "execution_count": 0,
      "outputs": []
    },
    {
      "cell_type": "code",
      "metadata": {
        "id": "Eykv1xBCoZkh",
        "colab_type": "code",
        "colab": {}
      },
      "source": [
        "data = {'나': ['박재현', '1981.02.20', '남', '한국', '경기', '석사', '성균관대', '귀차니즘', '전산, 데이터사이언스', '천주교', 'Make Better World', '없음', '소수', '좁음', '중', '1억 초반'], \n",
        "        '닮고싶은사람': ['혜민스님', '1973.12.12', '대전', '남', '미국', '박사', '하버드대', '철학, 심리학','따뜻', '불교', 'Mind Healing', '다수', '다수', '넓음', '상', '수억']}\n",
        "intro_df = pd.DataFrame(data=data, \n",
        "                        index=['이름', '생년월일', '국적', '출생지', '성별', '최종학력', '학교', '전공','성격유형', '종교', '삶의 지향점', '본인 출간 책', '봉사이력', '대인관계', '영어구사능력', '연수입'])"
      ],
      "execution_count": 0,
      "outputs": []
    },
    {
      "cell_type": "code",
      "metadata": {
        "id": "kwX1l9-5rWff",
        "colab_type": "code",
        "outputId": "de8a4682-bbb4-40ad-cec0-c8ca2fcbbe07",
        "colab": {
          "base_uri": "https://localhost:8080/",
          "height": 545
        }
      },
      "source": [
        "intro_df"
      ],
      "execution_count": 0,
      "outputs": [
        {
          "output_type": "execute_result",
          "data": {
            "text/html": [
              "<div>\n",
              "<style scoped>\n",
              "    .dataframe tbody tr th:only-of-type {\n",
              "        vertical-align: middle;\n",
              "    }\n",
              "\n",
              "    .dataframe tbody tr th {\n",
              "        vertical-align: top;\n",
              "    }\n",
              "\n",
              "    .dataframe thead th {\n",
              "        text-align: right;\n",
              "    }\n",
              "</style>\n",
              "<table border=\"1\" class=\"dataframe\">\n",
              "  <thead>\n",
              "    <tr style=\"text-align: right;\">\n",
              "      <th></th>\n",
              "      <th>나</th>\n",
              "      <th>닮고싶은사람</th>\n",
              "    </tr>\n",
              "  </thead>\n",
              "  <tbody>\n",
              "    <tr>\n",
              "      <th>이름</th>\n",
              "      <td>박재현</td>\n",
              "      <td>혜민스님</td>\n",
              "    </tr>\n",
              "    <tr>\n",
              "      <th>생년월일</th>\n",
              "      <td>1981.02.20</td>\n",
              "      <td>1973.12.12</td>\n",
              "    </tr>\n",
              "    <tr>\n",
              "      <th>국적</th>\n",
              "      <td>남</td>\n",
              "      <td>대전</td>\n",
              "    </tr>\n",
              "    <tr>\n",
              "      <th>출생지</th>\n",
              "      <td>한국</td>\n",
              "      <td>남</td>\n",
              "    </tr>\n",
              "    <tr>\n",
              "      <th>성별</th>\n",
              "      <td>경기</td>\n",
              "      <td>미국</td>\n",
              "    </tr>\n",
              "    <tr>\n",
              "      <th>최종학력</th>\n",
              "      <td>석사</td>\n",
              "      <td>박사</td>\n",
              "    </tr>\n",
              "    <tr>\n",
              "      <th>학교</th>\n",
              "      <td>성균관대</td>\n",
              "      <td>하버드대</td>\n",
              "    </tr>\n",
              "    <tr>\n",
              "      <th>전공</th>\n",
              "      <td>귀차니즘</td>\n",
              "      <td>철학, 심리학</td>\n",
              "    </tr>\n",
              "    <tr>\n",
              "      <th>성격유형</th>\n",
              "      <td>전산, 데이터사이언스</td>\n",
              "      <td>따뜻</td>\n",
              "    </tr>\n",
              "    <tr>\n",
              "      <th>종교</th>\n",
              "      <td>천주교</td>\n",
              "      <td>불교</td>\n",
              "    </tr>\n",
              "    <tr>\n",
              "      <th>삶의 지향점</th>\n",
              "      <td>Make Better World</td>\n",
              "      <td>Mind Healing</td>\n",
              "    </tr>\n",
              "    <tr>\n",
              "      <th>본인 출간 책</th>\n",
              "      <td>없음</td>\n",
              "      <td>다수</td>\n",
              "    </tr>\n",
              "    <tr>\n",
              "      <th>봉사이력</th>\n",
              "      <td>소수</td>\n",
              "      <td>다수</td>\n",
              "    </tr>\n",
              "    <tr>\n",
              "      <th>대인관계</th>\n",
              "      <td>좁음</td>\n",
              "      <td>넓음</td>\n",
              "    </tr>\n",
              "    <tr>\n",
              "      <th>영어구사능력</th>\n",
              "      <td>중</td>\n",
              "      <td>상</td>\n",
              "    </tr>\n",
              "    <tr>\n",
              "      <th>연수입</th>\n",
              "      <td>1억 초반</td>\n",
              "      <td>수억</td>\n",
              "    </tr>\n",
              "  </tbody>\n",
              "</table>\n",
              "</div>"
            ],
            "text/plain": [
              "                         나        닮고싶은사람\n",
              "이름                     박재현          혜민스님\n",
              "생년월일            1981.02.20    1973.12.12\n",
              "국적                       남            대전\n",
              "출생지                     한국             남\n",
              "성별                      경기            미국\n",
              "최종학력                    석사            박사\n",
              "학교                    성균관대          하버드대\n",
              "전공                    귀차니즘       철학, 심리학\n",
              "성격유형           전산, 데이터사이언스            따뜻\n",
              "종교                     천주교            불교\n",
              "삶의 지향점   Make Better World  Mind Healing\n",
              "본인 출간 책                 없음            다수\n",
              "봉사이력                    소수            다수\n",
              "대인관계                    좁음            넓음\n",
              "영어구사능력                   중             상\n",
              "연수입                  1억 초반            수억"
            ]
          },
          "metadata": {
            "tags": []
          },
          "execution_count": 35
        }
      ]
    },
    {
      "cell_type": "markdown",
      "metadata": {
        "id": "64SLDOad4GHE",
        "colab_type": "text"
      },
      "source": [
        "### 2주차 HW - Kahoot 문제 중 틀린 부분 정리"
      ]
    },
    {
      "cell_type": "code",
      "metadata": {
        "id": "bdRmv8sBrYzd",
        "colab_type": "code",
        "outputId": "04c7a2cc-6150-4557-8cdb-a9d430249d42",
        "colab": {
          "base_uri": "https://localhost:8080/",
          "height": 53
        }
      },
      "source": [
        "# 이건 Kahoot 문제가 틀렸음- 정답은 반, 터 이나 퀴즈에서는 반-발표로 나옴\n",
        "# 뒤의 문장을 b[8:10]으로 해도 반-날부 가 됨\n",
        "a = \"안녕하세요 데이터 사이언스 학과 여러분 반갑습니다\"\n",
        "print(a[-5])\n",
        "b = \"오늘 수업 첫 날부터 발표하게 되어 떨리네요\"\n",
        "print(a[8:10])"
      ],
      "execution_count": 0,
      "outputs": [
        {
          "output_type": "stream",
          "text": [
            "반\n",
            "터 \n"
          ],
          "name": "stdout"
        }
      ]
    },
    {
      "cell_type": "code",
      "metadata": {
        "id": "TH5_Zugj4681",
        "colab_type": "code",
        "outputId": "ac78879a-5db0-49a2-b2c8-93c0ad0b02c4",
        "colab": {
          "base_uri": "https://localhost:8080/",
          "height": 35
        }
      },
      "source": [
        "str = \"hello world\"\n",
        "print(str.capitalize())"
      ],
      "execution_count": 0,
      "outputs": [
        {
          "output_type": "stream",
          "text": [
            "Hello world\n"
          ],
          "name": "stdout"
        }
      ]
    },
    {
      "cell_type": "code",
      "metadata": {
        "id": "7qKXRPnx5gR1",
        "colab_type": "code",
        "outputId": "aaa96d54-4d36-4d1f-fd13-8d2774ca581c",
        "colab": {
          "base_uri": "https://localhost:8080/",
          "height": 35
        }
      },
      "source": [
        "str = \"we are the world\"\n",
        "str.replace(\"we\", \" \").replace(\"are\", \" \").lstrip()"
      ],
      "execution_count": 0,
      "outputs": [
        {
          "output_type": "execute_result",
          "data": {
            "text/plain": [
              "'the world'"
            ]
          },
          "metadata": {
            "tags": []
          },
          "execution_count": 42
        }
      ]
    },
    {
      "cell_type": "code",
      "metadata": {
        "id": "u9XeoEzw5xYW",
        "colab_type": "code",
        "outputId": "5b827040-b366-4f49-d0ae-e7d0ee9d33aa",
        "colab": {
          "base_uri": "https://localhost:8080/",
          "height": 35
        }
      },
      "source": [
        "L1 = [1,2,3,4]\n",
        "L2 = [4,5,6,7]\n",
        "print(L1+L2)"
      ],
      "execution_count": 0,
      "outputs": [
        {
          "output_type": "stream",
          "text": [
            "[1, 2, 3, 4, 4, 5, 6, 7]\n"
          ],
          "name": "stdout"
        }
      ]
    },
    {
      "cell_type": "code",
      "metadata": {
        "id": "-R9SNq7R5-J0",
        "colab_type": "code",
        "outputId": "1c8725e1-9a5c-4feb-f930-24b1d179dac7",
        "colab": {
          "base_uri": "https://localhost:8080/",
          "height": 35
        }
      },
      "source": [
        "# Kahoot이 틀림 - del list[1]을 하면 [1, 3, 4, 5, 6, 7, 8, 9] 이 됨\n",
        "# 정답없음 del list[2]가 되어야 함\n",
        "\n",
        "list = [1,2,3,4,5,6,7,8,9]\n",
        "del list[1]\n",
        "print(list)"
      ],
      "execution_count": 0,
      "outputs": [
        {
          "output_type": "stream",
          "text": [
            "[1, 3, 4, 5, 6, 7, 8, 9]\n"
          ],
          "name": "stdout"
        }
      ]
    },
    {
      "cell_type": "code",
      "metadata": {
        "id": "0uZb1Fyz6Ib3",
        "colab_type": "code",
        "outputId": "e5bc70f2-aa50-47df-be90-23026c38581c",
        "colab": {
          "base_uri": "https://localhost:8080/",
          "height": 280
        }
      },
      "source": [
        "lot1 = [('a','b'),('c','d'),('e','f')]\n",
        "print(dict(lot1))\n",
        "lot2 = (['a','b'],['c','d'],['e','f'])\n",
        "print(dict(lot2))\n",
        "lot3 = ['ab','cd','ef']\n",
        "print(dict(lot3))\n",
        "lot4 = {{'a','b'},{'c','d'},{'e','f'}}\n",
        "print(dict(lot4))"
      ],
      "execution_count": 0,
      "outputs": [
        {
          "output_type": "stream",
          "text": [
            "{'a': 'b', 'c': 'd', 'e': 'f'}\n",
            "{'a': 'b', 'c': 'd', 'e': 'f'}\n",
            "{'a': 'b', 'c': 'd', 'e': 'f'}\n"
          ],
          "name": "stdout"
        },
        {
          "output_type": "error",
          "ename": "TypeError",
          "evalue": "ignored",
          "traceback": [
            "\u001b[0;31m---------------------------------------------------------------------------\u001b[0m",
            "\u001b[0;31mTypeError\u001b[0m                                 Traceback (most recent call last)",
            "\u001b[0;32m<ipython-input-52-b8f267c61587>\u001b[0m in \u001b[0;36m<module>\u001b[0;34m()\u001b[0m\n\u001b[1;32m      5\u001b[0m \u001b[0mlot3\u001b[0m \u001b[0;34m=\u001b[0m \u001b[0;34m[\u001b[0m\u001b[0;34m'ab'\u001b[0m\u001b[0;34m,\u001b[0m\u001b[0;34m'cd'\u001b[0m\u001b[0;34m,\u001b[0m\u001b[0;34m'ef'\u001b[0m\u001b[0;34m]\u001b[0m\u001b[0;34m\u001b[0m\u001b[0;34m\u001b[0m\u001b[0m\n\u001b[1;32m      6\u001b[0m \u001b[0mprint\u001b[0m\u001b[0;34m(\u001b[0m\u001b[0mdict\u001b[0m\u001b[0;34m(\u001b[0m\u001b[0mlot3\u001b[0m\u001b[0;34m)\u001b[0m\u001b[0;34m)\u001b[0m\u001b[0;34m\u001b[0m\u001b[0;34m\u001b[0m\u001b[0m\n\u001b[0;32m----> 7\u001b[0;31m \u001b[0mlot4\u001b[0m \u001b[0;34m=\u001b[0m \u001b[0;34m{\u001b[0m\u001b[0;34m{\u001b[0m\u001b[0;34m'a'\u001b[0m\u001b[0;34m,\u001b[0m\u001b[0;34m'b'\u001b[0m\u001b[0;34m}\u001b[0m\u001b[0;34m,\u001b[0m\u001b[0;34m{\u001b[0m\u001b[0;34m'c'\u001b[0m\u001b[0;34m,\u001b[0m\u001b[0;34m'd'\u001b[0m\u001b[0;34m}\u001b[0m\u001b[0;34m,\u001b[0m\u001b[0;34m{\u001b[0m\u001b[0;34m'e'\u001b[0m\u001b[0;34m,\u001b[0m\u001b[0;34m'f'\u001b[0m\u001b[0;34m}\u001b[0m\u001b[0;34m}\u001b[0m\u001b[0;34m\u001b[0m\u001b[0;34m\u001b[0m\u001b[0m\n\u001b[0m\u001b[1;32m      8\u001b[0m \u001b[0mprint\u001b[0m\u001b[0;34m(\u001b[0m\u001b[0mdict\u001b[0m\u001b[0;34m(\u001b[0m\u001b[0mlot4\u001b[0m\u001b[0;34m)\u001b[0m\u001b[0;34m)\u001b[0m\u001b[0;34m\u001b[0m\u001b[0;34m\u001b[0m\u001b[0m\n",
            "\u001b[0;31mTypeError\u001b[0m: unhashable type: 'set'"
          ]
        }
      ]
    },
    {
      "cell_type": "markdown",
      "metadata": {
        "id": "lrr08GI08cmL",
        "colab_type": "text"
      },
      "source": [
        "### 4주차 HW - 기술통계 설명 (정의, 예제, 파이썬 코드)"
      ]
    },
    {
      "cell_type": "code",
      "metadata": {
        "id": "D0fCZFCx9E1Z",
        "colab_type": "code",
        "outputId": "0a0ff84c-2d61-402d-e59c-c6131b8e7f5c",
        "colab": {
          "base_uri": "https://localhost:8080/",
          "height": 35
        }
      },
      "source": [
        "# 기술통계 예제를 위한 numpy 배열 생성\n",
        "np.random.seed(seed=0)\n",
        "x = np.random.randint(1, 10, size=20)\n",
        "x = x.astype(float)\n",
        "print(x)"
      ],
      "execution_count": 46,
      "outputs": [
        {
          "output_type": "stream",
          "text": [
            "[6. 1. 4. 4. 8. 4. 6. 3. 5. 8. 7. 9. 9. 2. 7. 8. 8. 9. 2. 6.]\n"
          ],
          "name": "stdout"
        }
      ]
    },
    {
      "cell_type": "code",
      "metadata": {
        "id": "EYGcTiGR7lO-",
        "colab_type": "code",
        "outputId": "b613f997-90b5-4fb2-8e99-6291841efa6b",
        "colab": {
          "base_uri": "https://localhost:8080/",
          "height": 71
        }
      },
      "source": [
        "import statistics as stat\n",
        "from scipy.stats.mstats import gmean\n",
        "import scipy as sp\n",
        "import math\n",
        "\n",
        "###############   평균    ####################\n",
        "\n",
        "# 산술(arithmetic mean) \n",
        "#  - 일상에서 평균이라고 부르는 것으로 표본평균이라고도 함.\n",
        "#  - 주어진 수의 합을 수의 개수로 나눈 값이다.\n",
        "\n",
        "arithmetic_m = stat.mean(x)\n",
        "print(arithmetic_m)\n",
        "  \n",
        "# 기하(geometric mean) \n",
        "#  - 합이 아닌 곱이 쓰이는 경우에 평균으로 이용.\n",
        "#  - n개의 양수 값을 모두 곱한 것의 n제곱근이다.\n",
        "\n",
        "geometric_m = gmean(x)\n",
        "print(geometric_m)\n",
        "\n",
        "# 조화(harmonic mean) \n",
        "#  - 역수의 산술 평균의 역수로 정의.\n",
        "#  - 속력처럼 상대적인 비를 갖는 단위의 평균을 계산하는 데 유용.\n",
        "#  - 평균적인 변화율을 구할 때에 주로 사용.\n",
        "\n",
        "harmonic_m = stat.harmonic_mean(x)\n",
        "print(harmonic_m)"
      ],
      "execution_count": 68,
      "outputs": [
        {
          "output_type": "stream",
          "text": [
            "5.8\n",
            "5.060616493334303\n",
            "4.079650315687227\n"
          ],
          "name": "stdout"
        }
      ]
    },
    {
      "cell_type": "code",
      "metadata": {
        "id": "NIKLcJgS8v2z",
        "colab_type": "code",
        "outputId": "a2c629af-bbc4-4c36-f8dc-95ad66675d3e",
        "colab": {
          "base_uri": "https://localhost:8080/",
          "height": 35
        }
      },
      "source": [
        "# 최빈 값\n",
        "from collections import Counter\n",
        "cnt = Counter(x)\n",
        "cnt.most_common(1) # 8이 4번 출현함"
      ],
      "execution_count": 31,
      "outputs": [
        {
          "output_type": "execute_result",
          "data": {
            "text/plain": [
              "[(8.0, 4)]"
            ]
          },
          "metadata": {
            "tags": []
          },
          "execution_count": 31
        }
      ]
    },
    {
      "cell_type": "code",
      "metadata": {
        "id": "I1mgoRNj8v0e",
        "colab_type": "code",
        "outputId": "1df4f3aa-154c-4d02-baa5-b1aa7019d7b2",
        "colab": {
          "base_uri": "https://localhost:8080/",
          "height": 35
        }
      },
      "source": [
        "# 중앙값\n",
        "np.median(x)"
      ],
      "execution_count": 32,
      "outputs": [
        {
          "output_type": "execute_result",
          "data": {
            "text/plain": [
              "6.0"
            ]
          },
          "metadata": {
            "tags": []
          },
          "execution_count": 32
        }
      ]
    },
    {
      "cell_type": "code",
      "metadata": {
        "id": "zA-fuZik8vvM",
        "colab_type": "code",
        "colab": {
          "base_uri": "https://localhost:8080/",
          "height": 89
        },
        "outputId": "05a99c00-117a-4440-edc7-90392786b0cd"
      },
      "source": [
        "# 편차(Deviation) : 관측값과 평균의 차이(관측값에서 평균 또는 중앙값을 뺀것)\n",
        "\n",
        "print(arithmetic_m)\n",
        "print(x-arithmetic_m)\n",
        "print(round(sum(x-arithmetic_m),2))"
      ],
      "execution_count": 53,
      "outputs": [
        {
          "output_type": "stream",
          "text": [
            "5.8\n",
            "[ 0.2 -4.8 -1.8 -1.8  2.2 -1.8  0.2 -2.8 -0.8  2.2  1.2  3.2  3.2 -3.8\n",
            "  1.2  2.2  2.2  3.2 -3.8  0.2]\n",
            "0.0\n"
          ],
          "name": "stdout"
        }
      ]
    },
    {
      "cell_type": "code",
      "metadata": {
        "id": "2awqOEbt8vzb",
        "colab_type": "code",
        "outputId": "dea8142a-5ce8-4463-b282-388a6fbfd794",
        "colab": {
          "base_uri": "https://localhost:8080/",
          "height": 35
        }
      },
      "source": [
        "# 분산(Variance): \n",
        "#  - 데이터의 퍼짐 정도(관측값에서 평균을 뺀 값을 제곱하고, 그것을 모두 더한 후 전체 개수로 나눔)\n",
        "#  - 평균에서 거리가 얼마나 떨어졌는지\n",
        "#  - 차이값을 제곱의 평균 (관측값에서 평균을 뺀 값인 편차를 모두 더하면 0이 되기 때문에 제곱하여 더함)\n",
        "np.var(x)"
      ],
      "execution_count": 10,
      "outputs": [
        {
          "output_type": "execute_result",
          "data": {
            "text/plain": [
              "6.16"
            ]
          },
          "metadata": {
            "tags": []
          },
          "execution_count": 10
        }
      ]
    },
    {
      "cell_type": "code",
      "metadata": {
        "id": "hh2_9lC38vxu",
        "colab_type": "code",
        "outputId": "6630c5c5-77b4-4a4a-f1ce-88b60b93f3b7",
        "colab": {
          "base_uri": "https://localhost:8080/",
          "height": 35
        }
      },
      "source": [
        "# 표준편차: \n",
        "#  - 평균에 대한 오차(분산을 제곱근 한 것으로, 제곱 해서 뻥튀기 된 분산 값을 제곱근하여 다시 원래 크기로 복원)\n",
        "np.std(x)"
      ],
      "execution_count": 11,
      "outputs": [
        {
          "output_type": "execute_result",
          "data": {
            "text/plain": [
              "2.4819347291981715"
            ]
          },
          "metadata": {
            "tags": []
          },
          "execution_count": 11
        }
      ]
    },
    {
      "cell_type": "code",
      "metadata": {
        "id": "nJOARM-e8vsT",
        "colab_type": "code",
        "colab": {
          "base_uri": "https://localhost:8080/",
          "height": 35
        },
        "outputId": "120b6662-05a1-4675-f5b1-5efd7db122fd"
      },
      "source": [
        "# 범위(range): 가장 큰 측정값에서 가장 작은 측정값을 뺀 값\n",
        "np.max(x) - np.min(x)"
      ],
      "execution_count": 13,
      "outputs": [
        {
          "output_type": "execute_result",
          "data": {
            "text/plain": [
              "8"
            ]
          },
          "metadata": {
            "tags": []
          },
          "execution_count": 13
        }
      ]
    },
    {
      "cell_type": "code",
      "metadata": {
        "id": "tXPYrNvL8vky",
        "colab_type": "code",
        "colab": {
          "base_uri": "https://localhost:8080/",
          "height": 53
        },
        "outputId": "2e2acde6-7332-4ba4-c7fe-da51637eda96"
      },
      "source": [
        "# 4분위(Quartile): 데이터를 4등분 한것\n",
        "print(np.quantile(x,0.25), np.quantile(x,0.5), np.quantile(x,0.75))\n",
        "print(np.percentile(x,25), np.percentile(x,50), np.percentile(x,75))"
      ],
      "execution_count": 58,
      "outputs": [
        {
          "output_type": "stream",
          "text": [
            "4.0 6.0 8.0\n",
            "4.0 6.0 8.0\n"
          ],
          "name": "stdout"
        }
      ]
    },
    {
      "cell_type": "code",
      "metadata": {
        "id": "8deUytw-81f-",
        "colab_type": "code",
        "colab": {
          "base_uri": "https://localhost:8080/",
          "height": 35
        },
        "outputId": "ef6e2377-29c0-460e-c9b5-14f0685affd9"
      },
      "source": [
        "# 왜도(Skewness): 분포의 비댕칭도를 나타내는 통계랑으로 정규분포, T분포와 같이 대칭인 분포는 왜도가 0임\n",
        "#  - 카이제곱분포와 같이 오른쪽으로 긴 꼬리를 가진 경우 왜도는 양수이며, 왼쪽으로 긴 꼬리를 가지면 왜도는 음수임\n",
        "#  - 한 쪽 꼬리 부분에 보다 많은 확률값이 분포할 수록, 다시 말해 비대칭도가 커질 수록 왜도의 절대값은 증가한다.\n",
        "sp.stats.skew(x)"
      ],
      "execution_count": 62,
      "outputs": [
        {
          "output_type": "execute_result",
          "data": {
            "text/plain": [
              "-0.37910307625739464"
            ]
          },
          "metadata": {
            "tags": []
          },
          "execution_count": 62
        }
      ]
    },
    {
      "cell_type": "code",
      "metadata": {
        "id": "OqtPQT0H81Xz",
        "colab_type": "code",
        "colab": {
          "base_uri": "https://localhost:8080/",
          "height": 35
        },
        "outputId": "ba014be0-c20c-4a6d-ecc7-78eaede429a1"
      },
      "source": [
        "# 첨도(Kurtosis): 분포의 꼬리부분의 길이와 중앙부분의 뾰족함에 대한 정보를 제공\n",
        "#  - 정규분포의 경우 첨도는 0이며\n",
        "#  - 첨도가 0보다 크면 정규분포보다 꼬리가 길고, 분포가 중앙부분에 덜 집중되어 중앙 부분이 뾰족한 모양을 가지게 됨\n",
        "#  - T분포는 정규분포보다 더 긴꼬리를 가지므로 첨도가 0보다 크다.\n",
        "sp.stats.kurtosis(x)"
      ],
      "execution_count": 71,
      "outputs": [
        {
          "output_type": "execute_result",
          "data": {
            "text/plain": [
              "-1.0845420812953277"
            ]
          },
          "metadata": {
            "tags": []
          },
          "execution_count": 71
        }
      ]
    },
    {
      "cell_type": "markdown",
      "metadata": {
        "id": "2Qn4XjnD8umI",
        "colab_type": "text"
      },
      "source": [
        ""
      ]
    }
  ]
}