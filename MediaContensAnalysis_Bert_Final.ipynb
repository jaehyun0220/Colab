{
  "nbformat": 4,
  "nbformat_minor": 0,
  "metadata": {
    "colab": {
      "name": "MediaContensAnalysis_Bert_Final.ipynb",
      "provenance": [],
      "collapsed_sections": [],
      "include_colab_link": true
    },
    "kernelspec": {
      "name": "python3",
      "display_name": "Python 3"
    },
    "accelerator": "GPU",
    "widgets": {
      "application/vnd.jupyter.widget-state+json": {
        "838f3d334df342038e56992899e7c3a8": {
          "model_module": "@jupyter-widgets/controls",
          "model_name": "HBoxModel",
          "state": {
            "_view_name": "HBoxView",
            "_dom_classes": [],
            "_model_name": "HBoxModel",
            "_view_module": "@jupyter-widgets/controls",
            "_model_module_version": "1.5.0",
            "_view_count": null,
            "_view_module_version": "1.5.0",
            "box_style": "",
            "layout": "IPY_MODEL_f89a54f607c44befac6d02f97aba6862",
            "_model_module": "@jupyter-widgets/controls",
            "children": [
              "IPY_MODEL_883d1bea61b744f7a0294e7c91248f50",
              "IPY_MODEL_d94af4b0a5924ed7b5d219dabf98efb2"
            ]
          }
        },
        "f89a54f607c44befac6d02f97aba6862": {
          "model_module": "@jupyter-widgets/base",
          "model_name": "LayoutModel",
          "state": {
            "_view_name": "LayoutView",
            "grid_template_rows": null,
            "right": null,
            "justify_content": null,
            "_view_module": "@jupyter-widgets/base",
            "overflow": null,
            "_model_module_version": "1.2.0",
            "_view_count": null,
            "flex_flow": null,
            "width": null,
            "min_width": null,
            "border": null,
            "align_items": null,
            "bottom": null,
            "_model_module": "@jupyter-widgets/base",
            "top": null,
            "grid_column": null,
            "overflow_y": null,
            "overflow_x": null,
            "grid_auto_flow": null,
            "grid_area": null,
            "grid_template_columns": null,
            "flex": null,
            "_model_name": "LayoutModel",
            "justify_items": null,
            "grid_row": null,
            "max_height": null,
            "align_content": null,
            "visibility": null,
            "align_self": null,
            "height": null,
            "min_height": null,
            "padding": null,
            "grid_auto_rows": null,
            "grid_gap": null,
            "max_width": null,
            "order": null,
            "_view_module_version": "1.2.0",
            "grid_template_areas": null,
            "object_position": null,
            "object_fit": null,
            "grid_auto_columns": null,
            "margin": null,
            "display": null,
            "left": null
          }
        },
        "883d1bea61b744f7a0294e7c91248f50": {
          "model_module": "@jupyter-widgets/controls",
          "model_name": "IntProgressModel",
          "state": {
            "_view_name": "ProgressView",
            "style": "IPY_MODEL_61a1bd89eeff433c9ce890ddd982d8c5",
            "_dom_classes": [],
            "description": "",
            "_model_name": "IntProgressModel",
            "bar_style": "success",
            "max": 28,
            "_view_module": "@jupyter-widgets/controls",
            "_model_module_version": "1.5.0",
            "value": 28,
            "_view_count": null,
            "_view_module_version": "1.5.0",
            "orientation": "horizontal",
            "min": 0,
            "description_tooltip": null,
            "_model_module": "@jupyter-widgets/controls",
            "layout": "IPY_MODEL_aae0e435af494e7ea7fb813980304a4e"
          }
        },
        "d94af4b0a5924ed7b5d219dabf98efb2": {
          "model_module": "@jupyter-widgets/controls",
          "model_name": "HTMLModel",
          "state": {
            "_view_name": "HTMLView",
            "style": "IPY_MODEL_c33714f2edce4102b745be4a76db1135",
            "_dom_classes": [],
            "description": "",
            "_model_name": "HTMLModel",
            "placeholder": "​",
            "_view_module": "@jupyter-widgets/controls",
            "_model_module_version": "1.5.0",
            "value": "100% 28/28 [00:09&lt;00:00,  3.45it/s]",
            "_view_count": null,
            "_view_module_version": "1.5.0",
            "description_tooltip": null,
            "_model_module": "@jupyter-widgets/controls",
            "layout": "IPY_MODEL_645035dc67e84b57af1c57744a5d8527"
          }
        },
        "61a1bd89eeff433c9ce890ddd982d8c5": {
          "model_module": "@jupyter-widgets/controls",
          "model_name": "ProgressStyleModel",
          "state": {
            "_view_name": "StyleView",
            "_model_name": "ProgressStyleModel",
            "description_width": "",
            "_view_module": "@jupyter-widgets/base",
            "_model_module_version": "1.5.0",
            "_view_count": null,
            "_view_module_version": "1.2.0",
            "bar_color": null,
            "_model_module": "@jupyter-widgets/controls"
          }
        },
        "aae0e435af494e7ea7fb813980304a4e": {
          "model_module": "@jupyter-widgets/base",
          "model_name": "LayoutModel",
          "state": {
            "_view_name": "LayoutView",
            "grid_template_rows": null,
            "right": null,
            "justify_content": null,
            "_view_module": "@jupyter-widgets/base",
            "overflow": null,
            "_model_module_version": "1.2.0",
            "_view_count": null,
            "flex_flow": null,
            "width": null,
            "min_width": null,
            "border": null,
            "align_items": null,
            "bottom": null,
            "_model_module": "@jupyter-widgets/base",
            "top": null,
            "grid_column": null,
            "overflow_y": null,
            "overflow_x": null,
            "grid_auto_flow": null,
            "grid_area": null,
            "grid_template_columns": null,
            "flex": null,
            "_model_name": "LayoutModel",
            "justify_items": null,
            "grid_row": null,
            "max_height": null,
            "align_content": null,
            "visibility": null,
            "align_self": null,
            "height": null,
            "min_height": null,
            "padding": null,
            "grid_auto_rows": null,
            "grid_gap": null,
            "max_width": null,
            "order": null,
            "_view_module_version": "1.2.0",
            "grid_template_areas": null,
            "object_position": null,
            "object_fit": null,
            "grid_auto_columns": null,
            "margin": null,
            "display": null,
            "left": null
          }
        },
        "c33714f2edce4102b745be4a76db1135": {
          "model_module": "@jupyter-widgets/controls",
          "model_name": "DescriptionStyleModel",
          "state": {
            "_view_name": "StyleView",
            "_model_name": "DescriptionStyleModel",
            "description_width": "",
            "_view_module": "@jupyter-widgets/base",
            "_model_module_version": "1.5.0",
            "_view_count": null,
            "_view_module_version": "1.2.0",
            "_model_module": "@jupyter-widgets/controls"
          }
        },
        "645035dc67e84b57af1c57744a5d8527": {
          "model_module": "@jupyter-widgets/base",
          "model_name": "LayoutModel",
          "state": {
            "_view_name": "LayoutView",
            "grid_template_rows": null,
            "right": null,
            "justify_content": null,
            "_view_module": "@jupyter-widgets/base",
            "overflow": null,
            "_model_module_version": "1.2.0",
            "_view_count": null,
            "flex_flow": null,
            "width": null,
            "min_width": null,
            "border": null,
            "align_items": null,
            "bottom": null,
            "_model_module": "@jupyter-widgets/base",
            "top": null,
            "grid_column": null,
            "overflow_y": null,
            "overflow_x": null,
            "grid_auto_flow": null,
            "grid_area": null,
            "grid_template_columns": null,
            "flex": null,
            "_model_name": "LayoutModel",
            "justify_items": null,
            "grid_row": null,
            "max_height": null,
            "align_content": null,
            "visibility": null,
            "align_self": null,
            "height": null,
            "min_height": null,
            "padding": null,
            "grid_auto_rows": null,
            "grid_gap": null,
            "max_width": null,
            "order": null,
            "_view_module_version": "1.2.0",
            "grid_template_areas": null,
            "object_position": null,
            "object_fit": null,
            "grid_auto_columns": null,
            "margin": null,
            "display": null,
            "left": null
          }
        },
        "1b564b5a710c46ebb6d0ebae325587ef": {
          "model_module": "@jupyter-widgets/controls",
          "model_name": "HBoxModel",
          "state": {
            "_view_name": "HBoxView",
            "_dom_classes": [],
            "_model_name": "HBoxModel",
            "_view_module": "@jupyter-widgets/controls",
            "_model_module_version": "1.5.0",
            "_view_count": null,
            "_view_module_version": "1.5.0",
            "box_style": "",
            "layout": "IPY_MODEL_aa418dab10c24abf81d3609537576a79",
            "_model_module": "@jupyter-widgets/controls",
            "children": [
              "IPY_MODEL_1df6380b030d4acb80f8e616148cc58b",
              "IPY_MODEL_2f9a54d63bf245fb94ca60ca9ce79943"
            ]
          }
        },
        "aa418dab10c24abf81d3609537576a79": {
          "model_module": "@jupyter-widgets/base",
          "model_name": "LayoutModel",
          "state": {
            "_view_name": "LayoutView",
            "grid_template_rows": null,
            "right": null,
            "justify_content": null,
            "_view_module": "@jupyter-widgets/base",
            "overflow": null,
            "_model_module_version": "1.2.0",
            "_view_count": null,
            "flex_flow": null,
            "width": null,
            "min_width": null,
            "border": null,
            "align_items": null,
            "bottom": null,
            "_model_module": "@jupyter-widgets/base",
            "top": null,
            "grid_column": null,
            "overflow_y": null,
            "overflow_x": null,
            "grid_auto_flow": null,
            "grid_area": null,
            "grid_template_columns": null,
            "flex": null,
            "_model_name": "LayoutModel",
            "justify_items": null,
            "grid_row": null,
            "max_height": null,
            "align_content": null,
            "visibility": null,
            "align_self": null,
            "height": null,
            "min_height": null,
            "padding": null,
            "grid_auto_rows": null,
            "grid_gap": null,
            "max_width": null,
            "order": null,
            "_view_module_version": "1.2.0",
            "grid_template_areas": null,
            "object_position": null,
            "object_fit": null,
            "grid_auto_columns": null,
            "margin": null,
            "display": null,
            "left": null
          }
        },
        "1df6380b030d4acb80f8e616148cc58b": {
          "model_module": "@jupyter-widgets/controls",
          "model_name": "IntProgressModel",
          "state": {
            "_view_name": "ProgressView",
            "style": "IPY_MODEL_29455ca8c7ab4d83b33783708b7622d6",
            "_dom_classes": [],
            "description": "",
            "_model_name": "IntProgressModel",
            "bar_style": "success",
            "max": 1,
            "_view_module": "@jupyter-widgets/controls",
            "_model_module_version": "1.5.0",
            "value": 1,
            "_view_count": null,
            "_view_module_version": "1.5.0",
            "orientation": "horizontal",
            "min": 0,
            "description_tooltip": null,
            "_model_module": "@jupyter-widgets/controls",
            "layout": "IPY_MODEL_f6f302e9ceae4cddbba19df1b54fbe69"
          }
        },
        "2f9a54d63bf245fb94ca60ca9ce79943": {
          "model_module": "@jupyter-widgets/controls",
          "model_name": "HTMLModel",
          "state": {
            "_view_name": "HTMLView",
            "style": "IPY_MODEL_2b47648a344d4a3890e144b7910eacbd",
            "_dom_classes": [],
            "description": "",
            "_model_name": "HTMLModel",
            "placeholder": "​",
            "_view_module": "@jupyter-widgets/controls",
            "_model_module_version": "1.5.0",
            "value": "28it [00:25,  1.20it/s]",
            "_view_count": null,
            "_view_module_version": "1.5.0",
            "description_tooltip": null,
            "_model_module": "@jupyter-widgets/controls",
            "layout": "IPY_MODEL_91a07e77533746278859719d593bb826"
          }
        },
        "29455ca8c7ab4d83b33783708b7622d6": {
          "model_module": "@jupyter-widgets/controls",
          "model_name": "ProgressStyleModel",
          "state": {
            "_view_name": "StyleView",
            "_model_name": "ProgressStyleModel",
            "description_width": "",
            "_view_module": "@jupyter-widgets/base",
            "_model_module_version": "1.5.0",
            "_view_count": null,
            "_view_module_version": "1.2.0",
            "bar_color": null,
            "_model_module": "@jupyter-widgets/controls"
          }
        },
        "f6f302e9ceae4cddbba19df1b54fbe69": {
          "model_module": "@jupyter-widgets/base",
          "model_name": "LayoutModel",
          "state": {
            "_view_name": "LayoutView",
            "grid_template_rows": null,
            "right": null,
            "justify_content": null,
            "_view_module": "@jupyter-widgets/base",
            "overflow": null,
            "_model_module_version": "1.2.0",
            "_view_count": null,
            "flex_flow": null,
            "width": null,
            "min_width": null,
            "border": null,
            "align_items": null,
            "bottom": null,
            "_model_module": "@jupyter-widgets/base",
            "top": null,
            "grid_column": null,
            "overflow_y": null,
            "overflow_x": null,
            "grid_auto_flow": null,
            "grid_area": null,
            "grid_template_columns": null,
            "flex": null,
            "_model_name": "LayoutModel",
            "justify_items": null,
            "grid_row": null,
            "max_height": null,
            "align_content": null,
            "visibility": null,
            "align_self": null,
            "height": null,
            "min_height": null,
            "padding": null,
            "grid_auto_rows": null,
            "grid_gap": null,
            "max_width": null,
            "order": null,
            "_view_module_version": "1.2.0",
            "grid_template_areas": null,
            "object_position": null,
            "object_fit": null,
            "grid_auto_columns": null,
            "margin": null,
            "display": null,
            "left": null
          }
        },
        "2b47648a344d4a3890e144b7910eacbd": {
          "model_module": "@jupyter-widgets/controls",
          "model_name": "DescriptionStyleModel",
          "state": {
            "_view_name": "StyleView",
            "_model_name": "DescriptionStyleModel",
            "description_width": "",
            "_view_module": "@jupyter-widgets/base",
            "_model_module_version": "1.5.0",
            "_view_count": null,
            "_view_module_version": "1.2.0",
            "_model_module": "@jupyter-widgets/controls"
          }
        },
        "91a07e77533746278859719d593bb826": {
          "model_module": "@jupyter-widgets/base",
          "model_name": "LayoutModel",
          "state": {
            "_view_name": "LayoutView",
            "grid_template_rows": null,
            "right": null,
            "justify_content": null,
            "_view_module": "@jupyter-widgets/base",
            "overflow": null,
            "_model_module_version": "1.2.0",
            "_view_count": null,
            "flex_flow": null,
            "width": null,
            "min_width": null,
            "border": null,
            "align_items": null,
            "bottom": null,
            "_model_module": "@jupyter-widgets/base",
            "top": null,
            "grid_column": null,
            "overflow_y": null,
            "overflow_x": null,
            "grid_auto_flow": null,
            "grid_area": null,
            "grid_template_columns": null,
            "flex": null,
            "_model_name": "LayoutModel",
            "justify_items": null,
            "grid_row": null,
            "max_height": null,
            "align_content": null,
            "visibility": null,
            "align_self": null,
            "height": null,
            "min_height": null,
            "padding": null,
            "grid_auto_rows": null,
            "grid_gap": null,
            "max_width": null,
            "order": null,
            "_view_module_version": "1.2.0",
            "grid_template_areas": null,
            "object_position": null,
            "object_fit": null,
            "grid_auto_columns": null,
            "margin": null,
            "display": null,
            "left": null
          }
        },
        "0d2ba50f079849f9bdde7de3ed4de503": {
          "model_module": "@jupyter-widgets/controls",
          "model_name": "HBoxModel",
          "state": {
            "_view_name": "HBoxView",
            "_dom_classes": [],
            "_model_name": "HBoxModel",
            "_view_module": "@jupyter-widgets/controls",
            "_model_module_version": "1.5.0",
            "_view_count": null,
            "_view_module_version": "1.5.0",
            "box_style": "",
            "layout": "IPY_MODEL_eb91c417e0914676a96550b278f309d4",
            "_model_module": "@jupyter-widgets/controls",
            "children": [
              "IPY_MODEL_393396bc279d4654bacfc8ec558e6963",
              "IPY_MODEL_dc7533beb60e4fc18418f7bffeac7b93"
            ]
          }
        },
        "eb91c417e0914676a96550b278f309d4": {
          "model_module": "@jupyter-widgets/base",
          "model_name": "LayoutModel",
          "state": {
            "_view_name": "LayoutView",
            "grid_template_rows": null,
            "right": null,
            "justify_content": null,
            "_view_module": "@jupyter-widgets/base",
            "overflow": null,
            "_model_module_version": "1.2.0",
            "_view_count": null,
            "flex_flow": null,
            "width": null,
            "min_width": null,
            "border": null,
            "align_items": null,
            "bottom": null,
            "_model_module": "@jupyter-widgets/base",
            "top": null,
            "grid_column": null,
            "overflow_y": null,
            "overflow_x": null,
            "grid_auto_flow": null,
            "grid_area": null,
            "grid_template_columns": null,
            "flex": null,
            "_model_name": "LayoutModel",
            "justify_items": null,
            "grid_row": null,
            "max_height": null,
            "align_content": null,
            "visibility": null,
            "align_self": null,
            "height": null,
            "min_height": null,
            "padding": null,
            "grid_auto_rows": null,
            "grid_gap": null,
            "max_width": null,
            "order": null,
            "_view_module_version": "1.2.0",
            "grid_template_areas": null,
            "object_position": null,
            "object_fit": null,
            "grid_auto_columns": null,
            "margin": null,
            "display": null,
            "left": null
          }
        },
        "393396bc279d4654bacfc8ec558e6963": {
          "model_module": "@jupyter-widgets/controls",
          "model_name": "IntProgressModel",
          "state": {
            "_view_name": "ProgressView",
            "style": "IPY_MODEL_b0702bf0b98a4b6d8d2060f1c6293995",
            "_dom_classes": [],
            "description": "",
            "_model_name": "IntProgressModel",
            "bar_style": "info",
            "max": 1,
            "_view_module": "@jupyter-widgets/controls",
            "_model_module_version": "1.5.0",
            "value": 1,
            "_view_count": null,
            "_view_module_version": "1.5.0",
            "orientation": "horizontal",
            "min": 0,
            "description_tooltip": null,
            "_model_module": "@jupyter-widgets/controls",
            "layout": "IPY_MODEL_ab9157b2da42410497799710329ca438"
          }
        },
        "dc7533beb60e4fc18418f7bffeac7b93": {
          "model_module": "@jupyter-widgets/controls",
          "model_name": "HTMLModel",
          "state": {
            "_view_name": "HTMLView",
            "style": "IPY_MODEL_e9fbe7f0d22f4fc4a06db78d8ce4f98e",
            "_dom_classes": [],
            "description": "",
            "_model_name": "HTMLModel",
            "placeholder": "​",
            "_view_module": "@jupyter-widgets/controls",
            "_model_module_version": "1.5.0",
            "value": "21it [00:18,  1.11it/s]",
            "_view_count": null,
            "_view_module_version": "1.5.0",
            "description_tooltip": null,
            "_model_module": "@jupyter-widgets/controls",
            "layout": "IPY_MODEL_970dac8004b84708be00a0f27ae8ad3c"
          }
        },
        "b0702bf0b98a4b6d8d2060f1c6293995": {
          "model_module": "@jupyter-widgets/controls",
          "model_name": "ProgressStyleModel",
          "state": {
            "_view_name": "StyleView",
            "_model_name": "ProgressStyleModel",
            "description_width": "",
            "_view_module": "@jupyter-widgets/base",
            "_model_module_version": "1.5.0",
            "_view_count": null,
            "_view_module_version": "1.2.0",
            "bar_color": null,
            "_model_module": "@jupyter-widgets/controls"
          }
        },
        "ab9157b2da42410497799710329ca438": {
          "model_module": "@jupyter-widgets/base",
          "model_name": "LayoutModel",
          "state": {
            "_view_name": "LayoutView",
            "grid_template_rows": null,
            "right": null,
            "justify_content": null,
            "_view_module": "@jupyter-widgets/base",
            "overflow": null,
            "_model_module_version": "1.2.0",
            "_view_count": null,
            "flex_flow": null,
            "width": null,
            "min_width": null,
            "border": null,
            "align_items": null,
            "bottom": null,
            "_model_module": "@jupyter-widgets/base",
            "top": null,
            "grid_column": null,
            "overflow_y": null,
            "overflow_x": null,
            "grid_auto_flow": null,
            "grid_area": null,
            "grid_template_columns": null,
            "flex": null,
            "_model_name": "LayoutModel",
            "justify_items": null,
            "grid_row": null,
            "max_height": null,
            "align_content": null,
            "visibility": null,
            "align_self": null,
            "height": null,
            "min_height": null,
            "padding": null,
            "grid_auto_rows": null,
            "grid_gap": null,
            "max_width": null,
            "order": null,
            "_view_module_version": "1.2.0",
            "grid_template_areas": null,
            "object_position": null,
            "object_fit": null,
            "grid_auto_columns": null,
            "margin": null,
            "display": null,
            "left": null
          }
        },
        "e9fbe7f0d22f4fc4a06db78d8ce4f98e": {
          "model_module": "@jupyter-widgets/controls",
          "model_name": "DescriptionStyleModel",
          "state": {
            "_view_name": "StyleView",
            "_model_name": "DescriptionStyleModel",
            "description_width": "",
            "_view_module": "@jupyter-widgets/base",
            "_model_module_version": "1.5.0",
            "_view_count": null,
            "_view_module_version": "1.2.0",
            "_model_module": "@jupyter-widgets/controls"
          }
        },
        "970dac8004b84708be00a0f27ae8ad3c": {
          "model_module": "@jupyter-widgets/base",
          "model_name": "LayoutModel",
          "state": {
            "_view_name": "LayoutView",
            "grid_template_rows": null,
            "right": null,
            "justify_content": null,
            "_view_module": "@jupyter-widgets/base",
            "overflow": null,
            "_model_module_version": "1.2.0",
            "_view_count": null,
            "flex_flow": null,
            "width": null,
            "min_width": null,
            "border": null,
            "align_items": null,
            "bottom": null,
            "_model_module": "@jupyter-widgets/base",
            "top": null,
            "grid_column": null,
            "overflow_y": null,
            "overflow_x": null,
            "grid_auto_flow": null,
            "grid_area": null,
            "grid_template_columns": null,
            "flex": null,
            "_model_name": "LayoutModel",
            "justify_items": null,
            "grid_row": null,
            "max_height": null,
            "align_content": null,
            "visibility": null,
            "align_self": null,
            "height": null,
            "min_height": null,
            "padding": null,
            "grid_auto_rows": null,
            "grid_gap": null,
            "max_width": null,
            "order": null,
            "_view_module_version": "1.2.0",
            "grid_template_areas": null,
            "object_position": null,
            "object_fit": null,
            "grid_auto_columns": null,
            "margin": null,
            "display": null,
            "left": null
          }
        }
      }
    }
  },
  "cells": [
    {
      "cell_type": "markdown",
      "metadata": {
        "id": "view-in-github",
        "colab_type": "text"
      },
      "source": [
        "<a href=\"https://colab.research.google.com/github/jaehyun0220/Colab/blob/master/MediaContensAnalysis_Bert_Final.ipynb\" target=\"_parent\"><img src=\"https://colab.research.google.com/assets/colab-badge.svg\" alt=\"Open In Colab\"/></a>"
      ]
    },
    {
      "cell_type": "markdown",
      "metadata": {
        "id": "JmdavC_fLDrU",
        "colab_type": "text"
      },
      "source": [
        "#10조. 네이버 댓글 분석을 통한 상위, 하위 클립 예측"
      ]
    },
    {
      "cell_type": "markdown",
      "metadata": {
        "id": "OcnHnotA2oRX",
        "colab_type": "text"
      },
      "source": [
        "### #1. 구글 인증"
      ]
    },
    {
      "cell_type": "code",
      "metadata": {
        "id": "tnLbyZflC1R1",
        "colab_type": "code",
        "outputId": "d3e17ac1-508f-4757-af3d-9eb479d4262e",
        "colab": {
          "base_uri": "https://localhost:8080/",
          "height": 127
        }
      },
      "source": [
        "# Auth 인증 및 Google Drive 활용 Data load\n",
        "from google.colab import drive\n",
        "drive.mount('/gdrive', force_remount=True)"
      ],
      "execution_count": 1,
      "outputs": [
        {
          "output_type": "stream",
          "text": [
            "Go to this URL in a browser: https://accounts.google.com/o/oauth2/auth?client_id=947318989803-6bn6qk8qdgf4n4g3pfee6491hc0brc4i.apps.googleusercontent.com&redirect_uri=urn%3aietf%3awg%3aoauth%3a2.0%3aoob&response_type=code&scope=email%20https%3a%2f%2fwww.googleapis.com%2fauth%2fdocs.test%20https%3a%2f%2fwww.googleapis.com%2fauth%2fdrive%20https%3a%2f%2fwww.googleapis.com%2fauth%2fdrive.photos.readonly%20https%3a%2f%2fwww.googleapis.com%2fauth%2fpeopleapi.readonly\n",
            "\n",
            "Enter your authorization code:\n",
            "··········\n",
            "Mounted at /gdrive\n"
          ],
          "name": "stdout"
        }
      ]
    },
    {
      "cell_type": "markdown",
      "metadata": {
        "id": "NNICcJFm2hm7",
        "colab_type": "text"
      },
      "source": [
        "### #2. 입력 데이터셋 확인"
      ]
    },
    {
      "cell_type": "code",
      "metadata": {
        "id": "F5oQGfjLC-Jb",
        "colab_type": "code",
        "outputId": "a1c03630-4eaf-45ae-a627-064e36ebb866",
        "colab": {
          "base_uri": "https://localhost:8080/",
          "height": 143
        }
      },
      "source": [
        "!ls ../gdrive/My\\ Drive/output"
      ],
      "execution_count": 2,
      "outputs": [
        {
          "output_type": "stream",
          "text": [
            "file_ep10.csv\t file_ep16.csv\tfile_ep22.csv  file_ep4.csv\n",
            "file_ep11.csv\t file_ep17.csv\tfile_ep23.csv  file_ep5.csv\n",
            "file_ep12.csv\t file_ep18.csv\tfile_ep24.csv  file_ep6.csv\n",
            "file_ep13.csv\t file_ep19.csv\tfile_ep25.csv  file_ep7.csv\n",
            "file_ep14_1.csv  file_ep1.csv\tfile_ep26.csv  file_ep8.csv\n",
            "file_ep14.csv\t file_ep20.csv\tfile_ep2.csv   file_ep9.csv\n",
            "file_ep15.csv\t file_ep21.csv\tfile_ep3.csv   TheLastEmpress.csv\n"
          ],
          "name": "stdout"
        }
      ]
    },
    {
      "cell_type": "code",
      "metadata": {
        "id": "0bdQCRGv7AX6",
        "colab_type": "code",
        "outputId": "c5747640-a135-479c-aa2d-885a45de88d2",
        "colab": {
          "base_uri": "https://localhost:8080/",
          "height": 1000
        }
      },
      "source": [
        "!pip install regex\n",
        "# Bert 사용을 위한 설치\n",
        "!pip install sacremoses sentencepiece \n",
        "!pip install pytorch-pretrained-bert\n",
        "!pip install tools"
      ],
      "execution_count": 3,
      "outputs": [
        {
          "output_type": "stream",
          "text": [
            "Collecting regex\n",
            "\u001b[?25l  Downloading https://files.pythonhosted.org/packages/8c/db/4b29a0adec5881542cd81cb5d1929b5c0787003c5740b3c921e627d9c2e5/regex-2019.12.9.tar.gz (669kB)\n",
            "\r\u001b[K     |▌                               | 10kB 19.2MB/s eta 0:00:01\r\u001b[K     |█                               | 20kB 4.5MB/s eta 0:00:01\r\u001b[K     |█▌                              | 30kB 6.5MB/s eta 0:00:01\r\u001b[K     |██                              | 40kB 8.2MB/s eta 0:00:01\r\u001b[K     |██▌                             | 51kB 5.0MB/s eta 0:00:01\r\u001b[K     |███                             | 61kB 5.9MB/s eta 0:00:01\r\u001b[K     |███▍                            | 71kB 6.7MB/s eta 0:00:01\r\u001b[K     |████                            | 81kB 7.6MB/s eta 0:00:01\r\u001b[K     |████▍                           | 92kB 8.3MB/s eta 0:00:01\r\u001b[K     |█████                           | 102kB 6.5MB/s eta 0:00:01\r\u001b[K     |█████▍                          | 112kB 6.5MB/s eta 0:00:01\r\u001b[K     |█████▉                          | 122kB 6.5MB/s eta 0:00:01\r\u001b[K     |██████▍                         | 133kB 6.5MB/s eta 0:00:01\r\u001b[K     |██████▉                         | 143kB 6.5MB/s eta 0:00:01\r\u001b[K     |███████▍                        | 153kB 6.5MB/s eta 0:00:01\r\u001b[K     |███████▉                        | 163kB 6.5MB/s eta 0:00:01\r\u001b[K     |████████▎                       | 174kB 6.5MB/s eta 0:00:01\r\u001b[K     |████████▉                       | 184kB 6.5MB/s eta 0:00:01\r\u001b[K     |█████████▎                      | 194kB 6.5MB/s eta 0:00:01\r\u001b[K     |█████████▉                      | 204kB 6.5MB/s eta 0:00:01\r\u001b[K     |██████████▎                     | 215kB 6.5MB/s eta 0:00:01\r\u001b[K     |██████████▊                     | 225kB 6.5MB/s eta 0:00:01\r\u001b[K     |███████████▎                    | 235kB 6.5MB/s eta 0:00:01\r\u001b[K     |███████████▊                    | 245kB 6.5MB/s eta 0:00:01\r\u001b[K     |████████████▎                   | 256kB 6.5MB/s eta 0:00:01\r\u001b[K     |████████████▊                   | 266kB 6.5MB/s eta 0:00:01\r\u001b[K     |█████████████▏                  | 276kB 6.5MB/s eta 0:00:01\r\u001b[K     |█████████████▊                  | 286kB 6.5MB/s eta 0:00:01\r\u001b[K     |██████████████▏                 | 296kB 6.5MB/s eta 0:00:01\r\u001b[K     |██████████████▊                 | 307kB 6.5MB/s eta 0:00:01\r\u001b[K     |███████████████▏                | 317kB 6.5MB/s eta 0:00:01\r\u001b[K     |███████████████▋                | 327kB 6.5MB/s eta 0:00:01\r\u001b[K     |████████████████▏               | 337kB 6.5MB/s eta 0:00:01\r\u001b[K     |████████████████▋               | 348kB 6.5MB/s eta 0:00:01\r\u001b[K     |█████████████████▏              | 358kB 6.5MB/s eta 0:00:01\r\u001b[K     |█████████████████▋              | 368kB 6.5MB/s eta 0:00:01\r\u001b[K     |██████████████████▏             | 378kB 6.5MB/s eta 0:00:01\r\u001b[K     |██████████████████▋             | 389kB 6.5MB/s eta 0:00:01\r\u001b[K     |███████████████████             | 399kB 6.5MB/s eta 0:00:01\r\u001b[K     |███████████████████▋            | 409kB 6.5MB/s eta 0:00:01\r\u001b[K     |████████████████████            | 419kB 6.5MB/s eta 0:00:01\r\u001b[K     |████████████████████▋           | 430kB 6.5MB/s eta 0:00:01\r\u001b[K     |█████████████████████           | 440kB 6.5MB/s eta 0:00:01\r\u001b[K     |█████████████████████▌          | 450kB 6.5MB/s eta 0:00:01\r\u001b[K     |██████████████████████          | 460kB 6.5MB/s eta 0:00:01\r\u001b[K     |██████████████████████▌         | 471kB 6.5MB/s eta 0:00:01\r\u001b[K     |███████████████████████         | 481kB 6.5MB/s eta 0:00:01\r\u001b[K     |███████████████████████▌        | 491kB 6.5MB/s eta 0:00:01\r\u001b[K     |████████████████████████        | 501kB 6.5MB/s eta 0:00:01\r\u001b[K     |████████████████████████▌       | 512kB 6.5MB/s eta 0:00:01\r\u001b[K     |█████████████████████████       | 522kB 6.5MB/s eta 0:00:01\r\u001b[K     |█████████████████████████▌      | 532kB 6.5MB/s eta 0:00:01\r\u001b[K     |██████████████████████████      | 542kB 6.5MB/s eta 0:00:01\r\u001b[K     |██████████████████████████▍     | 552kB 6.5MB/s eta 0:00:01\r\u001b[K     |███████████████████████████     | 563kB 6.5MB/s eta 0:00:01\r\u001b[K     |███████████████████████████▍    | 573kB 6.5MB/s eta 0:00:01\r\u001b[K     |████████████████████████████    | 583kB 6.5MB/s eta 0:00:01\r\u001b[K     |████████████████████████████▍   | 593kB 6.5MB/s eta 0:00:01\r\u001b[K     |████████████████████████████▉   | 604kB 6.5MB/s eta 0:00:01\r\u001b[K     |█████████████████████████████▍  | 614kB 6.5MB/s eta 0:00:01\r\u001b[K     |█████████████████████████████▉  | 624kB 6.5MB/s eta 0:00:01\r\u001b[K     |██████████████████████████████▍ | 634kB 6.5MB/s eta 0:00:01\r\u001b[K     |██████████████████████████████▉ | 645kB 6.5MB/s eta 0:00:01\r\u001b[K     |███████████████████████████████▎| 655kB 6.5MB/s eta 0:00:01\r\u001b[K     |███████████████████████████████▉| 665kB 6.5MB/s eta 0:00:01\r\u001b[K     |████████████████████████████████| 675kB 6.5MB/s \n",
            "\u001b[?25hBuilding wheels for collected packages: regex\n",
            "  Building wheel for regex (setup.py) ... \u001b[?25l\u001b[?25hdone\n",
            "  Created wheel for regex: filename=regex-2019.12.9-cp36-cp36m-linux_x86_64.whl size=609184 sha256=4a2e407d8b736ce5611e54563f9b1128a83d8fd796a0d873e78a735fbf3a0d08\n",
            "  Stored in directory: /root/.cache/pip/wheels/0d/fb/b3/a89169557229468c49ca64f6839418f22461f6ee0a74f342b1\n",
            "Successfully built regex\n",
            "Installing collected packages: regex\n",
            "Successfully installed regex-2019.12.9\n",
            "Collecting sacremoses\n",
            "\u001b[?25l  Downloading https://files.pythonhosted.org/packages/1f/8e/ed5364a06a9ba720fddd9820155cc57300d28f5f43a6fd7b7e817177e642/sacremoses-0.0.35.tar.gz (859kB)\n",
            "\u001b[K     |████████████████████████████████| 860kB 6.5MB/s \n",
            "\u001b[?25hCollecting sentencepiece\n",
            "\u001b[?25l  Downloading https://files.pythonhosted.org/packages/14/3d/efb655a670b98f62ec32d66954e1109f403db4d937c50d779a75b9763a29/sentencepiece-0.1.83-cp36-cp36m-manylinux1_x86_64.whl (1.0MB)\n",
            "\u001b[K     |████████████████████████████████| 1.0MB 39.1MB/s \n",
            "\u001b[?25hRequirement already satisfied: six in /usr/local/lib/python3.6/dist-packages (from sacremoses) (1.12.0)\n",
            "Requirement already satisfied: click in /usr/local/lib/python3.6/dist-packages (from sacremoses) (7.0)\n",
            "Requirement already satisfied: joblib in /usr/local/lib/python3.6/dist-packages (from sacremoses) (0.14.0)\n",
            "Requirement already satisfied: tqdm in /usr/local/lib/python3.6/dist-packages (from sacremoses) (4.28.1)\n",
            "Building wheels for collected packages: sacremoses\n",
            "  Building wheel for sacremoses (setup.py) ... \u001b[?25l\u001b[?25hdone\n",
            "  Created wheel for sacremoses: filename=sacremoses-0.0.35-cp36-none-any.whl size=883999 sha256=8af43a9501ee4531940d970c5bca26fece60b0166021a97275ae6aac2ce42913\n",
            "  Stored in directory: /root/.cache/pip/wheels/63/2a/db/63e2909042c634ef551d0d9ac825b2b0b32dede4a6d87ddc94\n",
            "Successfully built sacremoses\n",
            "Installing collected packages: sacremoses, sentencepiece\n",
            "Successfully installed sacremoses-0.0.35 sentencepiece-0.1.83\n",
            "Collecting pytorch-pretrained-bert\n",
            "\u001b[?25l  Downloading https://files.pythonhosted.org/packages/d7/e0/c08d5553b89973d9a240605b9c12404bcf8227590de62bae27acbcfe076b/pytorch_pretrained_bert-0.6.2-py3-none-any.whl (123kB)\n",
            "\u001b[K     |████████████████████████████████| 133kB 6.9MB/s \n",
            "\u001b[?25hRequirement already satisfied: tqdm in /usr/local/lib/python3.6/dist-packages (from pytorch-pretrained-bert) (4.28.1)\n",
            "Requirement already satisfied: requests in /usr/local/lib/python3.6/dist-packages (from pytorch-pretrained-bert) (2.21.0)\n",
            "Requirement already satisfied: torch>=0.4.1 in /usr/local/lib/python3.6/dist-packages (from pytorch-pretrained-bert) (1.3.1)\n",
            "Requirement already satisfied: boto3 in /usr/local/lib/python3.6/dist-packages (from pytorch-pretrained-bert) (1.10.32)\n",
            "Requirement already satisfied: numpy in /usr/local/lib/python3.6/dist-packages (from pytorch-pretrained-bert) (1.17.4)\n",
            "Requirement already satisfied: regex in /usr/local/lib/python3.6/dist-packages (from pytorch-pretrained-bert) (2019.12.9)\n",
            "Requirement already satisfied: chardet<3.1.0,>=3.0.2 in /usr/local/lib/python3.6/dist-packages (from requests->pytorch-pretrained-bert) (3.0.4)\n",
            "Requirement already satisfied: urllib3<1.25,>=1.21.1 in /usr/local/lib/python3.6/dist-packages (from requests->pytorch-pretrained-bert) (1.24.3)\n",
            "Requirement already satisfied: idna<2.9,>=2.5 in /usr/local/lib/python3.6/dist-packages (from requests->pytorch-pretrained-bert) (2.8)\n",
            "Requirement already satisfied: certifi>=2017.4.17 in /usr/local/lib/python3.6/dist-packages (from requests->pytorch-pretrained-bert) (2019.11.28)\n",
            "Requirement already satisfied: botocore<1.14.0,>=1.13.32 in /usr/local/lib/python3.6/dist-packages (from boto3->pytorch-pretrained-bert) (1.13.32)\n",
            "Requirement already satisfied: jmespath<1.0.0,>=0.7.1 in /usr/local/lib/python3.6/dist-packages (from boto3->pytorch-pretrained-bert) (0.9.4)\n",
            "Requirement already satisfied: s3transfer<0.3.0,>=0.2.0 in /usr/local/lib/python3.6/dist-packages (from boto3->pytorch-pretrained-bert) (0.2.1)\n",
            "Requirement already satisfied: python-dateutil<2.8.1,>=2.1; python_version >= \"2.7\" in /usr/local/lib/python3.6/dist-packages (from botocore<1.14.0,>=1.13.32->boto3->pytorch-pretrained-bert) (2.6.1)\n",
            "Requirement already satisfied: docutils<0.16,>=0.10 in /usr/local/lib/python3.6/dist-packages (from botocore<1.14.0,>=1.13.32->boto3->pytorch-pretrained-bert) (0.15.2)\n",
            "Requirement already satisfied: six>=1.5 in /usr/local/lib/python3.6/dist-packages (from python-dateutil<2.8.1,>=2.1; python_version >= \"2.7\"->botocore<1.14.0,>=1.13.32->boto3->pytorch-pretrained-bert) (1.12.0)\n",
            "Installing collected packages: pytorch-pretrained-bert\n",
            "Successfully installed pytorch-pretrained-bert-0.6.2\n",
            "Collecting tools\n",
            "  Downloading https://files.pythonhosted.org/packages/de/20/2a2dddb083fd0ce56b453cf016768b2c49f3c0194090500f78865b7d110c/tools-0.1.9.tar.gz\n",
            "Collecting pytils\n",
            "\u001b[?25l  Downloading https://files.pythonhosted.org/packages/c6/c1/12b556b5bb393ce5130d57af862d045f57fee764797c0fe837e49cb2a5da/pytils-0.3.tar.gz (89kB)\n",
            "\u001b[K     |████████████████████████████████| 92kB 5.3MB/s \n",
            "\u001b[?25hRequirement already satisfied: six in /usr/local/lib/python3.6/dist-packages (from tools) (1.12.0)\n",
            "Requirement already satisfied: lxml in /usr/local/lib/python3.6/dist-packages (from tools) (4.2.6)\n",
            "Building wheels for collected packages: tools, pytils\n",
            "  Building wheel for tools (setup.py) ... \u001b[?25l\u001b[?25hdone\n",
            "  Created wheel for tools: filename=tools-0.1.9-cp36-none-any.whl size=46759 sha256=3b616135f0eb6b7d95261306326ce20cfd55d590f240d0bd6a93ad1b46961c86\n",
            "  Stored in directory: /root/.cache/pip/wheels/87/67/9b/1ca7dcb0b9ebfdc23a00c85a0644abb6fb14f9159a0df8e067\n",
            "  Building wheel for pytils (setup.py) ... \u001b[?25l\u001b[?25hdone\n",
            "  Created wheel for pytils: filename=pytils-0.3-cp36-none-any.whl size=40357 sha256=bc862717caad526648c2a5383121534a56214a1ac5cedfecf989e55f64303d80\n",
            "  Stored in directory: /root/.cache/pip/wheels/d6/f9/dc/4f07d8ee40d9cfca9973b3f4aeff99d0bb69900e5f3dffbf32\n",
            "Successfully built tools pytils\n",
            "Installing collected packages: pytils, tools\n",
            "Successfully installed pytils-0.3 tools-0.1.9\n"
          ],
          "name": "stdout"
        }
      ]
    },
    {
      "cell_type": "code",
      "metadata": {
        "id": "YEGh8u0qDI6h",
        "colab_type": "code",
        "colab": {
          "base_uri": "https://localhost:8080/",
          "height": 82
        },
        "outputId": "2898144d-63ba-46cb-c374-5740cf4948b3"
      },
      "source": [
        "# 기본 라이브러리 로드\n",
        "import pandas as pd\n",
        "import numpy as np\n",
        "import os, sys\n",
        "import regex as re\n",
        "import random\n",
        "import io\n",
        "\n",
        "from tqdm import tqdm_notebook,trange\n",
        "import tensorflow as tf\n",
        "\n",
        "#데이터 전처리 관련 라이브러리 로드\n",
        "from sklearn import preprocessing\n",
        "from keras.preprocessing.sequence import pad_sequences\n",
        "\n",
        "#파이토치 관련 라이브러리 로드\n",
        "import torch\n",
        "from torch.utils.data import TensorDataset, DataLoader, RandomSampler, SequentialSampler\n",
        "\n",
        "# 파이토치 BERT 관련 라이브러리 로드\n",
        "from pytorch_pretrained_bert import BertTokenizer, BertConfig\n",
        "from pytorch_pretrained_bert import BertAdam, BertForSequenceClassification\n",
        "\n",
        "from tools import *\n",
        "from multiprocessing import Pool, cpu_count\n",
        "\n",
        "\n",
        "#모델 평가를 위한 라이브러리 로드\n",
        "from sklearn import metrics, model_selection\n",
        "from sklearn.model_selection import cross_validate\n",
        "from sklearn.metrics import classification_report, confusion_matrix, accuracy_score, roc_auc_score, roc_curve, auc\n",
        "\n",
        "#데이터 분리를 위한 라이브러리 로드\n",
        "from sklearn.model_selection import train_test_split\n",
        "\n",
        "#수학 & 통계 관련 라이브러리 로드\n",
        "import scipy.stats as st\n",
        "from collections import Counter\n",
        "import math\n",
        "\n",
        "#ignore warnings\n",
        "import warnings\n",
        "warnings.filterwarnings('ignore')\n",
        "\n",
        "#Visualization\n",
        "import seaborn as sns\n",
        "import matplotlib as mpl  # 기본 설정 만지는 용도\n",
        "import matplotlib.pyplot as plt  # 그래프 그리는 용도\n",
        "import matplotlib.font_manager as fm  # 폰트 관련 용도\n",
        "\n",
        "#Configure Visualization Defaults\n",
        "#%matplotlib inline = show plots in Jupyter Notebook browser\n",
        "%matplotlib inline\n",
        "mpl.style.use('ggplot')\n",
        "sns.set_style('white')"
      ],
      "execution_count": 4,
      "outputs": [
        {
          "output_type": "display_data",
          "data": {
            "text/html": [
              "<p style=\"color: red;\">\n",
              "The default version of TensorFlow in Colab will soon switch to TensorFlow 2.x.<br>\n",
              "We recommend you <a href=\"https://www.tensorflow.org/guide/migrate\" target=\"_blank\">upgrade</a> now \n",
              "or ensure your notebook will continue to use TensorFlow 1.x via the <code>%tensorflow_version 1.x</code> magic:\n",
              "<a href=\"https://colab.research.google.com/notebooks/tensorflow_version.ipynb\" target=\"_blank\">more info</a>.</p>\n"
            ],
            "text/plain": [
              "<IPython.core.display.HTML object>"
            ]
          },
          "metadata": {
            "tags": []
          }
        },
        {
          "output_type": "stream",
          "text": [
            "Using TensorFlow backend.\n"
          ],
          "name": "stderr"
        }
      ]
    },
    {
      "cell_type": "code",
      "metadata": {
        "id": "fpUzHCYqMYp1",
        "colab_type": "code",
        "outputId": "ff0115d9-e8d5-4987-c036-cee2f63f376a",
        "colab": {
          "base_uri": "https://localhost:8080/",
          "height": 521
        }
      },
      "source": [
        "# 입력으로 활용할 데이터셋 List 확인\n",
        "filelist = os.listdir('../gdrive/My Drive/output')\n",
        "filelist"
      ],
      "execution_count": 5,
      "outputs": [
        {
          "output_type": "execute_result",
          "data": {
            "text/plain": [
              "['file_ep1.csv',\n",
              " 'file_ep16.csv',\n",
              " 'file_ep17.csv',\n",
              " 'file_ep10.csv',\n",
              " 'file_ep14.csv',\n",
              " 'file_ep12.csv',\n",
              " 'file_ep11.csv',\n",
              " 'file_ep14_1.csv',\n",
              " 'file_ep15.csv',\n",
              " 'file_ep13.csv',\n",
              " 'file_ep18.csv',\n",
              " 'file_ep19.csv',\n",
              " 'file_ep21.csv',\n",
              " 'file_ep20.csv',\n",
              " 'file_ep2.csv',\n",
              " 'file_ep22.csv',\n",
              " 'file_ep23.csv',\n",
              " 'file_ep25.csv',\n",
              " 'file_ep24.csv',\n",
              " 'file_ep26.csv',\n",
              " 'file_ep3.csv',\n",
              " 'file_ep4.csv',\n",
              " 'file_ep5.csv',\n",
              " 'file_ep6.csv',\n",
              " 'file_ep9.csv',\n",
              " 'file_ep7.csv',\n",
              " 'TheLastEmpress.csv',\n",
              " 'file_ep8.csv']"
            ]
          },
          "metadata": {
            "tags": []
          },
          "execution_count": 5
        }
      ]
    },
    {
      "cell_type": "code",
      "metadata": {
        "id": "K5Ink4z2DVoG",
        "colab_type": "code",
        "outputId": "3679b13a-852e-41e0-c633-9367c4b6a521",
        "colab": {
          "base_uri": "https://localhost:8080/",
          "height": 469,
          "referenced_widgets": [
            "838f3d334df342038e56992899e7c3a8",
            "f89a54f607c44befac6d02f97aba6862",
            "883d1bea61b744f7a0294e7c91248f50",
            "d94af4b0a5924ed7b5d219dabf98efb2",
            "61a1bd89eeff433c9ce890ddd982d8c5",
            "aae0e435af494e7ea7fb813980304a4e",
            "c33714f2edce4102b745be4a76db1135",
            "645035dc67e84b57af1c57744a5d8527"
          ]
        }
      },
      "source": [
        "# 총 26회차 491개 하이라이트 클립 존재 (전체 재생수 = 107,221,654 / 클립 당 평균 재생수 = 218,374), \n",
        "# 이 중에서 예고편, 미공개, 인터뷰 등 클립 제외하고 총 422회 클립 대상\n",
        "df_title = pd.read_csv('../gdrive/My Drive/output/TheLastEmpress.csv', encoding = 'euc-kr')\n",
        "df_title.rename(columns=lambda x: re.sub('[-=+,#/\\?:^$.@*\\\"※~&%ㆍ!』\\\\‘|\\(\\)\\[\\]\\<\\>`\\'…》 ]', '', x), inplace=True)\n",
        "\n",
        "# 조회수 분포를 고려하여 각 회차별로 조회수 상위 4개, 하위 4개 클립을 샘플링 - 총 208개 클립\n",
        "# 좋아요수, 댓글 수, 댓글 내용, 댓글 작성자 정보 (웹크롤링 통한 추출)\n",
        "\n",
        "df_ep_tot = pd.DataFrame()\n",
        "\n",
        "# 상위 하위 클립을 나누어 조회수 내림차순으로 rank를 매김 (1~4는 상위 클립, 5~8은 하위 클립)\n",
        "for i in tqdm_notebook(filelist):\n",
        "  if (i[:4] == 'file'):\n",
        "    df_ep_temp = pd.read_csv('../gdrive/My Drive/output/'+i)\n",
        "    df_ep_temp['play'] = df_ep_temp['play'].apply(lambda x: int(re.sub(',','', x[4:])))\n",
        "    df_ep_temp['rank'] = df_ep_temp['play'].rank(method='dense', ascending=False)\n",
        "    df_ep_tot = df_ep_tot.append(df_ep_temp)\n",
        "\n",
        "# 크롤링 한 데이터에서 불필요한 열 삭제\n",
        "df_ep_tot.drop(columns='Unnamed: 0', inplace=True)\n",
        "\n",
        "# 상위 클립은 1로 하위 클립은 0으로 분류\n",
        "df_ep_tot['target'] = np.where(df_ep_tot['rank']<=4,1,0)\n",
        "df_ep_tot"
      ],
      "execution_count": 6,
      "outputs": [
        {
          "output_type": "display_data",
          "data": {
            "application/vnd.jupyter.widget-view+json": {
              "model_id": "838f3d334df342038e56992899e7c3a8",
              "version_minor": 0,
              "version_major": 2
            },
            "text/plain": [
              "HBox(children=(IntProgress(value=0, max=28), HTML(value='')))"
            ]
          },
          "metadata": {
            "tags": []
          }
        },
        {
          "output_type": "stream",
          "text": [
            "\n"
          ],
          "name": "stdout"
        },
        {
          "output_type": "execute_result",
          "data": {
            "text/html": [
              "<div>\n",
              "<style scoped>\n",
              "    .dataframe tbody tr th:only-of-type {\n",
              "        vertical-align: middle;\n",
              "    }\n",
              "\n",
              "    .dataframe tbody tr th {\n",
              "        vertical-align: top;\n",
              "    }\n",
              "\n",
              "    .dataframe thead th {\n",
              "        text-align: right;\n",
              "    }\n",
              "</style>\n",
              "<table border=\"1\" class=\"dataframe\">\n",
              "  <thead>\n",
              "    <tr style=\"text-align: right;\">\n",
              "      <th></th>\n",
              "      <th>nick</th>\n",
              "      <th>contents</th>\n",
              "      <th>recomm</th>\n",
              "      <th>unrecomm</th>\n",
              "      <th>title</th>\n",
              "      <th>play</th>\n",
              "      <th>like</th>\n",
              "      <th>reple_count</th>\n",
              "      <th>episode</th>\n",
              "      <th>rank</th>\n",
              "      <th>target</th>\n",
              "    </tr>\n",
              "  </thead>\n",
              "  <tbody>\n",
              "    <tr>\n",
              "      <th>0</th>\n",
              "      <td>rosi****</td>\n",
              "      <td>ㅅㅂ옷입고 목욕탕 들어가는거 ㅈㄴ웃기넼ㅋㅋㅋㅋㅋㅋㅋㅋㅋㅋㅋㅋ저거 명품일 텐데ㅋㅋㅋㅋ...</td>\n",
              "      <td>5</td>\n",
              "      <td>0</td>\n",
              "      <td>신은경, 핸드폰 너머 이엘리야의 의도적 신음에 ‘분노 폭발’</td>\n",
              "      <td>474498</td>\n",
              "      <td>842</td>\n",
              "      <td>185</td>\n",
              "      <td>1</td>\n",
              "      <td>1.0</td>\n",
              "      <td>1</td>\n",
              "    </tr>\n",
              "    <tr>\n",
              "      <th>1</th>\n",
              "      <td>핑크에메랄드</td>\n",
              "      <td>왠지 선황제가 바람은 못폈을거 같다는 생각이 든다 태후가 황후로 있는한 감히 생각도...</td>\n",
              "      <td>2</td>\n",
              "      <td>0</td>\n",
              "      <td>신은경, 핸드폰 너머 이엘리야의 의도적 신음에 ‘분노 폭발’</td>\n",
              "      <td>474498</td>\n",
              "      <td>842</td>\n",
              "      <td>185</td>\n",
              "      <td>1</td>\n",
              "      <td>1.0</td>\n",
              "      <td>1</td>\n",
              "    </tr>\n",
              "    <tr>\n",
              "      <th>2</th>\n",
              "      <td>서지안</td>\n",
              "      <td>ㅋㅋㅋㅋㅋㅋㅋㅋ</td>\n",
              "      <td>0</td>\n",
              "      <td>0</td>\n",
              "      <td>신은경, 핸드폰 너머 이엘리야의 의도적 신음에 ‘분노 폭발’</td>\n",
              "      <td>474498</td>\n",
              "      <td>842</td>\n",
              "      <td>185</td>\n",
              "      <td>1</td>\n",
              "      <td>1.0</td>\n",
              "      <td>1</td>\n",
              "    </tr>\n",
              "    <tr>\n",
              "      <th>3</th>\n",
              "      <td>경</td>\n",
              "      <td>ㅏ</td>\n",
              "      <td>0</td>\n",
              "      <td>0</td>\n",
              "      <td>신은경, 핸드폰 너머 이엘리야의 의도적 신음에 ‘분노 폭발’</td>\n",
              "      <td>474498</td>\n",
              "      <td>842</td>\n",
              "      <td>185</td>\n",
              "      <td>1</td>\n",
              "      <td>1.0</td>\n",
              "      <td>1</td>\n",
              "    </tr>\n",
              "    <tr>\n",
              "      <th>4</th>\n",
              "      <td>홍홍</td>\n",
              "      <td>이게 나라냐? 방송에서 이딴수위가 나오고 지랄이야 진짜 개좃헬조선 시발</td>\n",
              "      <td>3</td>\n",
              "      <td>5</td>\n",
              "      <td>신은경, 핸드폰 너머 이엘리야의 의도적 신음에 ‘분노 폭발’</td>\n",
              "      <td>474498</td>\n",
              "      <td>842</td>\n",
              "      <td>185</td>\n",
              "      <td>1</td>\n",
              "      <td>1.0</td>\n",
              "      <td>1</td>\n",
              "    </tr>\n",
              "    <tr>\n",
              "      <th>...</th>\n",
              "      <td>...</td>\n",
              "      <td>...</td>\n",
              "      <td>...</td>\n",
              "      <td>...</td>\n",
              "      <td>...</td>\n",
              "      <td>...</td>\n",
              "      <td>...</td>\n",
              "      <td>...</td>\n",
              "      <td>...</td>\n",
              "      <td>...</td>\n",
              "      <td>...</td>\n",
              "    </tr>\n",
              "    <tr>\n",
              "      <th>1841</th>\n",
              "      <td>Major</td>\n",
              "      <td>와 ㅅㅂ...피지컬봐....</td>\n",
              "      <td>550</td>\n",
              "      <td>1</td>\n",
              "      <td>이희진, 근육남 최진혁에 공주표 애교 “마이 아포”</td>\n",
              "      <td>155236</td>\n",
              "      <td>645</td>\n",
              "      <td>173</td>\n",
              "      <td>8</td>\n",
              "      <td>8.0</td>\n",
              "      <td>0</td>\n",
              "    </tr>\n",
              "    <tr>\n",
              "      <th>1842</th>\n",
              "      <td>스폰지밥</td>\n",
              "      <td>이쁘십니다 할때 나만설렜냐,,,,,,,</td>\n",
              "      <td>691</td>\n",
              "      <td>4</td>\n",
              "      <td>이희진, 근육남 최진혁에 공주표 애교 “마이 아포”</td>\n",
              "      <td>155236</td>\n",
              "      <td>645</td>\n",
              "      <td>173</td>\n",
              "      <td>8</td>\n",
              "      <td>8.0</td>\n",
              "      <td>0</td>\n",
              "    </tr>\n",
              "    <tr>\n",
              "      <th>1843</th>\n",
              "      <td>박한별</td>\n",
              "      <td>반했네</td>\n",
              "      <td>372</td>\n",
              "      <td>4</td>\n",
              "      <td>이희진, 근육남 최진혁에 공주표 애교 “마이 아포”</td>\n",
              "      <td>155236</td>\n",
              "      <td>645</td>\n",
              "      <td>173</td>\n",
              "      <td>8</td>\n",
              "      <td>8.0</td>\n",
              "      <td>0</td>\n",
              "    </tr>\n",
              "    <tr>\n",
              "      <th>1844</th>\n",
              "      <td>김민정</td>\n",
              "      <td>죄송하지만 이 분 이용합시다 ! 어쨌든 좋은게 좋은거죠 ..</td>\n",
              "      <td>593</td>\n",
              "      <td>4</td>\n",
              "      <td>이희진, 근육남 최진혁에 공주표 애교 “마이 아포”</td>\n",
              "      <td>155236</td>\n",
              "      <td>645</td>\n",
              "      <td>173</td>\n",
              "      <td>8</td>\n",
              "      <td>8.0</td>\n",
              "      <td>0</td>\n",
              "    </tr>\n",
              "    <tr>\n",
              "      <th>1845</th>\n",
              "      <td>블링블링</td>\n",
              "      <td>우빈이한테 전부 들이대는군</td>\n",
              "      <td>338</td>\n",
              "      <td>3</td>\n",
              "      <td>이희진, 근육남 최진혁에 공주표 애교 “마이 아포”</td>\n",
              "      <td>155236</td>\n",
              "      <td>645</td>\n",
              "      <td>173</td>\n",
              "      <td>8</td>\n",
              "      <td>8.0</td>\n",
              "      <td>0</td>\n",
              "    </tr>\n",
              "  </tbody>\n",
              "</table>\n",
              "<p>40935 rows × 11 columns</p>\n",
              "</div>"
            ],
            "text/plain": [
              "          nick                                           contents  ...  rank  target\n",
              "0     rosi****  ㅅㅂ옷입고 목욕탕 들어가는거 ㅈㄴ웃기넼ㅋㅋㅋㅋㅋㅋㅋㅋㅋㅋㅋㅋ저거 명품일 텐데ㅋㅋㅋㅋ...  ...   1.0       1\n",
              "1       핑크에메랄드  왠지 선황제가 바람은 못폈을거 같다는 생각이 든다 태후가 황후로 있는한 감히 생각도...  ...   1.0       1\n",
              "2          서지안                                           ㅋㅋㅋㅋㅋㅋㅋㅋ  ...   1.0       1\n",
              "3            경                                                  ㅏ  ...   1.0       1\n",
              "4           홍홍            이게 나라냐? 방송에서 이딴수위가 나오고 지랄이야 진짜 개좃헬조선 시발  ...   1.0       1\n",
              "...        ...                                                ...  ...   ...     ...\n",
              "1841     Major                                    와 ㅅㅂ...피지컬봐....  ...   8.0       0\n",
              "1842      스폰지밥                              이쁘십니다 할때 나만설렜냐,,,,,,,  ...   8.0       0\n",
              "1843       박한별                                                반했네  ...   8.0       0\n",
              "1844       김민정                  죄송하지만 이 분 이용합시다 ! 어쨌든 좋은게 좋은거죠 ..  ...   8.0       0\n",
              "1845      블링블링                                     우빈이한테 전부 들이대는군  ...   8.0       0\n",
              "\n",
              "[40935 rows x 11 columns]"
            ]
          },
          "metadata": {
            "tags": []
          },
          "execution_count": 6
        }
      ]
    },
    {
      "cell_type": "markdown",
      "metadata": {
        "id": "v7MxLLtPX7gN",
        "colab_type": "text"
      },
      "source": [
        "### #3. 데이터 정제 - 댓글 중 분석 대상이 되는 contens 내 null data 삭제"
      ]
    },
    {
      "cell_type": "code",
      "metadata": {
        "id": "7cA7gB0gV3HF",
        "colab_type": "code",
        "outputId": "eeb5d2bf-fb50-4c00-effe-e3f43b2e10f3",
        "colab": {
          "base_uri": "https://localhost:8080/",
          "height": 359
        }
      },
      "source": [
        "df_ep_sample = df_ep_tot.copy()\n",
        "df_ep_sample.dropna(how='any', inplace=True)\n",
        "df_ep_sample.info()\n",
        "df_ep_sample['target'].value_counts() # 3:1 imbalanced dataset (조회수가 많은 클립에 댓글이 많기 때문임))"
      ],
      "execution_count": 7,
      "outputs": [
        {
          "output_type": "stream",
          "text": [
            "<class 'pandas.core.frame.DataFrame'>\n",
            "Int64Index: 40801 entries, 0 to 1845\n",
            "Data columns (total 11 columns):\n",
            "nick           40801 non-null object\n",
            "contents       40801 non-null object\n",
            "recomm         40801 non-null int64\n",
            "unrecomm       40801 non-null int64\n",
            "title          40801 non-null object\n",
            "play           40801 non-null int64\n",
            "like           40801 non-null object\n",
            "reple_count    40801 non-null object\n",
            "episode        40801 non-null int64\n",
            "rank           40801 non-null float64\n",
            "target         40801 non-null int64\n",
            "dtypes: float64(1), int64(5), object(5)\n",
            "memory usage: 3.7+ MB\n"
          ],
          "name": "stdout"
        },
        {
          "output_type": "execute_result",
          "data": {
            "text/plain": [
              "1    30632\n",
              "0    10169\n",
              "Name: target, dtype: int64"
            ]
          },
          "metadata": {
            "tags": []
          },
          "execution_count": 7
        }
      ]
    },
    {
      "cell_type": "markdown",
      "metadata": {
        "id": "SbDda80F4Spl",
        "colab_type": "text"
      },
      "source": [
        "### #4. 데이터 길이 확인"
      ]
    },
    {
      "cell_type": "markdown",
      "metadata": {
        "id": "_1xNEIOX4bxo",
        "colab_type": "text"
      },
      "source": [
        "#### #4-1. 데이터 정제 - 정규식 & 형태소 분석"
      ]
    },
    {
      "cell_type": "code",
      "metadata": {
        "id": "fyG91a40YN8M",
        "colab_type": "code",
        "colab": {
          "base_uri": "https://localhost:8080/",
          "height": 71
        },
        "outputId": "3bfffe7d-c47e-4163-ab30-ce2ae964579d"
      },
      "source": [
        "df_ep_sample['contents'] = df_ep_sample['contents'].str.replace(\"[^ㄱ-ㅎㅏ-ㅣ가-힣 ]\",\"\")\n",
        "df_ep_sample.dropna(how='any', inplace=True)\n",
        "# df_sample_final = df_ep_sample.sample(frac=0.2).copy()\n",
        "df_sample_final = df_ep_sample[df_ep_sample['episode']==1]\n",
        "df_sample_final['target'].value_counts()"
      ],
      "execution_count": 34,
      "outputs": [
        {
          "output_type": "execute_result",
          "data": {
            "text/plain": [
              "1    389\n",
              "0    103\n",
              "Name: target, dtype: int64"
            ]
          },
          "metadata": {
            "tags": []
          },
          "execution_count": 34
        }
      ]
    },
    {
      "cell_type": "code",
      "metadata": {
        "id": "7ZIFg7BEtApx",
        "colab_type": "code",
        "colab": {}
      },
      "source": [
        "# train_df = df_sample_final[:int(len(df_sample_final)*0.8)]\n",
        "# test_df = df_sample_final[int(len(df_sample_final)*0.8):]\n",
        "\n",
        "# display(train_df.tail(2))\n",
        "# display(test_df.head(2))\n",
        "\n",
        "# print(train_df['target'].value_counts())\n",
        "# print(test_df['target'].value_counts())"
      ],
      "execution_count": 0,
      "outputs": []
    },
    {
      "cell_type": "code",
      "metadata": {
        "id": "L8tjSCYTtGiy",
        "colab_type": "code",
        "colab": {
          "base_uri": "https://localhost:8080/",
          "height": 204
        },
        "outputId": "1cf95b47-b341-4c48-8896-4a36cf0076fa"
      },
      "source": [
        "# Bert 친화 형식으로 변경\n",
        "\n",
        "all_df_bert = pd.DataFrame({\n",
        "    'id':range(len(df_sample_final)),\n",
        "    'label':df_sample_final['target'],\n",
        "    'alpha':['a']*df_sample_final.shape[0],\n",
        "    'text': df_sample_final['contents'].replace(r'\\n', ' ', regex=True)\n",
        "})\n",
        "display(all_df_bert.head())\n",
        "\n",
        "# train_df_bert = pd.DataFrame({\n",
        "#     'id':range(len(train_df)),\n",
        "#     'label':train_df['target'],\n",
        "#     'alpha':['a']*train_df.shape[0],\n",
        "#     'text': train_df['contents'].replace(r'\\n', ' ', regex=True)\n",
        "# })\n",
        "\n",
        "# display(train_df_bert.head())\n",
        "\n",
        "# dev_df_bert = pd.DataFrame({\n",
        "#     'id':range(len(test_df)),\n",
        "#     'label':test_df['target'],\n",
        "#     'alpha':['a']*test_df.shape[0],\n",
        "#     'text': test_df['contents'].replace(r'\\n', ' ', regex=True)\n",
        "# })\n",
        "\n",
        "# display(dev_df_bert.head())"
      ],
      "execution_count": 36,
      "outputs": [
        {
          "output_type": "display_data",
          "data": {
            "text/html": [
              "<div>\n",
              "<style scoped>\n",
              "    .dataframe tbody tr th:only-of-type {\n",
              "        vertical-align: middle;\n",
              "    }\n",
              "\n",
              "    .dataframe tbody tr th {\n",
              "        vertical-align: top;\n",
              "    }\n",
              "\n",
              "    .dataframe thead th {\n",
              "        text-align: right;\n",
              "    }\n",
              "</style>\n",
              "<table border=\"1\" class=\"dataframe\">\n",
              "  <thead>\n",
              "    <tr style=\"text-align: right;\">\n",
              "      <th></th>\n",
              "      <th>id</th>\n",
              "      <th>label</th>\n",
              "      <th>alpha</th>\n",
              "      <th>text</th>\n",
              "    </tr>\n",
              "  </thead>\n",
              "  <tbody>\n",
              "    <tr>\n",
              "      <th>0</th>\n",
              "      <td>0</td>\n",
              "      <td>1</td>\n",
              "      <td>a</td>\n",
              "      <td>ㅅㅂ옷입고 목욕탕 들어가는거 ㅈㄴ웃기넼ㅋㅋㅋㅋㅋㅋㅋㅋㅋㅋㅋㅋ저거 명품일 텐데ㅋㅋㅋㅋ...</td>\n",
              "    </tr>\n",
              "    <tr>\n",
              "      <th>1</th>\n",
              "      <td>1</td>\n",
              "      <td>1</td>\n",
              "      <td>a</td>\n",
              "      <td>왠지 선황제가 바람은 못폈을거 같다는 생각이 든다 태후가 황후로 있는한 감히 생각도...</td>\n",
              "    </tr>\n",
              "    <tr>\n",
              "      <th>2</th>\n",
              "      <td>2</td>\n",
              "      <td>1</td>\n",
              "      <td>a</td>\n",
              "      <td>ㅋㅋㅋㅋㅋㅋㅋㅋ</td>\n",
              "    </tr>\n",
              "    <tr>\n",
              "      <th>3</th>\n",
              "      <td>3</td>\n",
              "      <td>1</td>\n",
              "      <td>a</td>\n",
              "      <td>ㅏ</td>\n",
              "    </tr>\n",
              "    <tr>\n",
              "      <th>4</th>\n",
              "      <td>4</td>\n",
              "      <td>1</td>\n",
              "      <td>a</td>\n",
              "      <td>이게 나라냐 방송에서 이딴수위가 나오고 지랄이야 진짜 개좃헬조선 시발</td>\n",
              "    </tr>\n",
              "  </tbody>\n",
              "</table>\n",
              "</div>"
            ],
            "text/plain": [
              "   id  label alpha                                               text\n",
              "0   0      1     a  ㅅㅂ옷입고 목욕탕 들어가는거 ㅈㄴ웃기넼ㅋㅋㅋㅋㅋㅋㅋㅋㅋㅋㅋㅋ저거 명품일 텐데ㅋㅋㅋㅋ...\n",
              "1   1      1     a  왠지 선황제가 바람은 못폈을거 같다는 생각이 든다 태후가 황후로 있는한 감히 생각도...\n",
              "2   2      1     a                                           ㅋㅋㅋㅋㅋㅋㅋㅋ\n",
              "3   3      1     a                                                  ㅏ\n",
              "4   4      1     a             이게 나라냐 방송에서 이딴수위가 나오고 지랄이야 진짜 개좃헬조선 시발"
            ]
          },
          "metadata": {
            "tags": []
          }
        }
      ]
    },
    {
      "cell_type": "code",
      "metadata": {
        "id": "cA9BsoQBvz-9",
        "colab_type": "code",
        "colab": {
          "base_uri": "https://localhost:8080/",
          "height": 71
        },
        "outputId": "09fc3f77-aee2-46f3-d855-d17dfda71f31"
      },
      "source": [
        "!ls ../gdrive/My\\ Drive/data/bert/"
      ],
      "execution_count": 37,
      "outputs": [
        {
          "output_type": "stream",
          "text": [
            "all.tsv\t\t\t\tcust_model_save\t\t     test.tsv\n",
            "bert-base-multilingual-cased\tdev.tsv\t\t\t     train.tsv\n",
            "bert-base-multilingual-uncased\tmulti_cased_L-12_H-768_A-12  transformers\n"
          ],
          "name": "stdout"
        }
      ]
    },
    {
      "cell_type": "code",
      "metadata": {
        "id": "mMGep1VBvYi-",
        "colab_type": "code",
        "colab": {}
      },
      "source": [
        "all_df_bert.to_csv('../gdrive/My Drive/data/bert/all.tsv', sep='\\t', index=False, header=False)\n",
        "# train_df_bert.to_csv('../gdrive/My Drive/data/bert/train.tsv', sep='\\t', index=False, header=False)\n",
        "# dev_df_bert.to_csv('../gdrive/My Drive/data/bert/test.tsv', sep='\\t', index=False, header=False)"
      ],
      "execution_count": 0,
      "outputs": []
    },
    {
      "cell_type": "markdown",
      "metadata": {
        "id": "BcWN5SWJy4n8",
        "colab_type": "text"
      },
      "source": [
        "##  BERT 사용을 위한 사용자 클래스 준비"
      ]
    },
    {
      "cell_type": "markdown",
      "metadata": {
        "id": "RSnlYn6rwta9",
        "colab_type": "text"
      },
      "source": [
        "### Tokenizing 준비"
      ]
    },
    {
      "cell_type": "code",
      "metadata": {
        "id": "o1t7EuUGw7Au",
        "colab_type": "code",
        "colab": {}
      },
      "source": [
        "# The input data dir. Should contain the .tsv files (or other data files) for the task.\n",
        "DATA_DIR = \"../gdrive/My Drive/data/bert/\"\n",
        "\n",
        "# Bert pre-trained model selected in the list: bert-base-uncased, \n",
        "# bert-large-uncased, bert-base-cased, bert-large-cased, bert-base-multilingual-uncased,\n",
        "# bert-base-multilingual-cased, bert-base-chinese.\n",
        "BERT_MODEL = 'bert-base-multilingual-cased'\n",
        "\n",
        "# The name of the task to train.I'm going to name this 'yelp'.\n",
        "TASK_NAME = 'mca'\n",
        "\n",
        "# The output directory where the fine-tuned model and checkpoints will be written.\n",
        "OUTPUT_DIR = f'\"../gdrive/My Drive/data/bert/cust_model_save/{TASK_NAME}/'\n",
        "\n",
        "# The directory where the evaluation reports will be written to.\n",
        "REPORTS_DIR = f'\"../gdrive/My Drive/data/bert/cust_model_save/{TASK_NAME}_evaluation_report/'\n",
        "\n",
        "# This is where BERT will look for pre-trained models to load parameters from.\n",
        "CACHE_DIR = '../gdrive/My Drive/data/bert/multi_cased_L-12_H-768_A-12/'\n",
        "\n",
        "# The maximum total input sequence length after WordPiece tokenization.\n",
        "# Sequences longer than this will be truncated, and sequences shorter than this will be padded.\n",
        "MAX_SEQ_LENGTH = 128\n",
        "\n",
        "TRAIN_BATCH_SIZE = 24\n",
        "EVAL_BATCH_SIZE = 32\n",
        "LEARNING_RATE = 2e-5\n",
        "NUM_TRAIN_EPOCHS = 1\n",
        "RANDOM_SEED = 42\n",
        "GRADIENT_ACCUMULATION_STEPS = 1\n",
        "WARMUP_PROPORTION = 0.1\n",
        "OUTPUT_MODE = 'classification'\n",
        "\n",
        "CONFIG_NAME = \"config.json\"\n",
        "WEIGHTS_NAME = \"pytorch_model.bin\"\n",
        "\n",
        "PRETRAINED_PATH='../gdrive/My Drive/data/bert/bert-base-multilingual-cased/'\n",
        "# PRETRAINED_PATH='../gdrive/My Drive/data/bert/multi_cased_L-12_H-768_A-12/'\n",
        "\n",
        "output_mode = OUTPUT_MODE\n",
        "cache_dir = CACHE_DIR\n",
        "\n",
        "\n",
        "FILE_VOCAB = \"../gdrive/My Drive/data/bert/bert-base-multilingual-cased/bert-base-multilingual-cased-vocab.txt\""
      ],
      "execution_count": 0,
      "outputs": []
    },
    {
      "cell_type": "code",
      "metadata": {
        "id": "8E1EHDlm1UmO",
        "colab_type": "code",
        "colab": {
          "base_uri": "https://localhost:8080/",
          "height": 71
        },
        "outputId": "5824d5f1-1529-4a73-a930-42bd1004d59e"
      },
      "source": [
        "!ls ../gdrive/My\\ Drive/data/bert/"
      ],
      "execution_count": 60,
      "outputs": [
        {
          "output_type": "stream",
          "text": [
            "all.tsv\t\t\t\tcust_model_save\t\t     test.tsv\n",
            "bert-base-multilingual-cased\tdev.tsv\t\t\t     train.tsv\n",
            "bert-base-multilingual-uncased\tmulti_cased_L-12_H-768_A-12  transformers\n"
          ],
          "name": "stdout"
        }
      ]
    },
    {
      "cell_type": "code",
      "metadata": {
        "id": "YC0H_K8I0gwy",
        "colab_type": "code",
        "colab": {
          "base_uri": "https://localhost:8080/",
          "height": 222
        },
        "outputId": "8526d019-444b-4005-be62-efdebb03d942"
      },
      "source": [
        "# Create sentence and label lists\n",
        "df_all = pd.read_csv(\"../gdrive/My Drive/data/bert/all.tsv\", delimiter='\\t', header=None, names = ['id', 'label', 'alpha', 'text'])\n",
        "print(df_all.shape)\n",
        "df_all.sample(5)\n",
        "# df_train = pd.read_csv(\"../gdrive/My Drive/data/bert/train.tsv\", delimiter='\\t', header=None, names = ['id', 'label', 'alpha', 'text'])\n",
        "# df_test = pd.read_csv(\"../gdrive/My Drive/data/bert/test.tsv\", delimiter='\\t', header=None, names = ['id', 'label', 'alpha', 'text'])\n",
        "# print(df_train.shape, df_test.shape)\n",
        "# df_train.sample(5)"
      ],
      "execution_count": 62,
      "outputs": [
        {
          "output_type": "stream",
          "text": [
            "(492, 4)\n"
          ],
          "name": "stdout"
        },
        {
          "output_type": "execute_result",
          "data": {
            "text/html": [
              "<div>\n",
              "<style scoped>\n",
              "    .dataframe tbody tr th:only-of-type {\n",
              "        vertical-align: middle;\n",
              "    }\n",
              "\n",
              "    .dataframe tbody tr th {\n",
              "        vertical-align: top;\n",
              "    }\n",
              "\n",
              "    .dataframe thead th {\n",
              "        text-align: right;\n",
              "    }\n",
              "</style>\n",
              "<table border=\"1\" class=\"dataframe\">\n",
              "  <thead>\n",
              "    <tr style=\"text-align: right;\">\n",
              "      <th></th>\n",
              "      <th>id</th>\n",
              "      <th>label</th>\n",
              "      <th>alpha</th>\n",
              "      <th>text</th>\n",
              "    </tr>\n",
              "  </thead>\n",
              "  <tbody>\n",
              "    <tr>\n",
              "      <th>78</th>\n",
              "      <td>78</td>\n",
              "      <td>1</td>\n",
              "      <td>a</td>\n",
              "      <td>난 왜 안보이지</td>\n",
              "    </tr>\n",
              "    <tr>\n",
              "      <th>55</th>\n",
              "      <td>55</td>\n",
              "      <td>1</td>\n",
              "      <td>a</td>\n",
              "      <td>엄마랑 같이 봤는데 진짜 민망해 죽을 뻔</td>\n",
              "    </tr>\n",
              "    <tr>\n",
              "      <th>272</th>\n",
              "      <td>272</td>\n",
              "      <td>1</td>\n",
              "      <td>a</td>\n",
              "      <td>여비서에 대한 인식이 바뀌기는 개뿔 아무리 드라마고 캐릭터상이라지만 시대가 어느땐데...</td>\n",
              "    </tr>\n",
              "    <tr>\n",
              "      <th>286</th>\n",
              "      <td>286</td>\n",
              "      <td>1</td>\n",
              "      <td>a</td>\n",
              "      <td>왜항상 드라마는 빙빙저래도노</td>\n",
              "    </tr>\n",
              "    <tr>\n",
              "      <th>63</th>\n",
              "      <td>63</td>\n",
              "      <td>1</td>\n",
              "      <td>a</td>\n",
              "      <td>미스함무라비에서 속기사역할 나올때 좋앗는데ㅠ</td>\n",
              "    </tr>\n",
              "  </tbody>\n",
              "</table>\n",
              "</div>"
            ],
            "text/plain": [
              "      id  label alpha                                               text\n",
              "78    78      1     a                                           난 왜 안보이지\n",
              "55    55      1     a                             엄마랑 같이 봤는데 진짜 민망해 죽을 뻔\n",
              "272  272      1     a  여비서에 대한 인식이 바뀌기는 개뿔 아무리 드라마고 캐릭터상이라지만 시대가 어느땐데...\n",
              "286  286      1     a                                    왜항상 드라마는 빙빙저래도노\n",
              "63    63      1     a                           미스함무라비에서 속기사역할 나올때 좋앗는데ㅠ"
            ]
          },
          "metadata": {
            "tags": []
          },
          "execution_count": 62
        }
      ]
    },
    {
      "cell_type": "code",
      "metadata": {
        "id": "lsaz2vUq1QLq",
        "colab_type": "code",
        "colab": {
          "base_uri": "https://localhost:8080/",
          "height": 35
        },
        "outputId": "db41464b-3c18-4b0c-ccc1-9e32eba34453"
      },
      "source": [
        "sentences = df_all.text.values\n",
        "# We need to add special tokens at the beginning and end of each sentence for BERT to work properly\n",
        "sentences = [\"[CLS] \" + str(sentence) + \" [SEP]\" for sentence in sentences]\n",
        "labels = df_all.label.values\n",
        "len(sentences)"
      ],
      "execution_count": 63,
      "outputs": [
        {
          "output_type": "execute_result",
          "data": {
            "text/plain": [
              "492"
            ]
          },
          "metadata": {
            "tags": []
          },
          "execution_count": 63
        }
      ]
    },
    {
      "cell_type": "code",
      "metadata": {
        "id": "CBswAsNVzGo1",
        "colab_type": "code",
        "colab": {}
      },
      "source": [
        "# Load pre-trained model tokenizer (vocabulary)\n",
        "# tokenizer = BertTokenizer.from_pretrained(FILE_VOCAB, do_lower_case=True)\n",
        "tokenizer = BertTokenizer.from_pretrained(FILE_VOCAB, do_lower_case=False)\n",
        "# tokenizer = BertTokenizer.from_pretrained('bert-base-multilingual-cased', do_lower_case=False)"
      ],
      "execution_count": 0,
      "outputs": []
    },
    {
      "cell_type": "markdown",
      "metadata": {
        "id": "HyS88sBUT_Tk",
        "colab_type": "text"
      },
      "source": [
        "## 공통 영역: Word Embedding을 위한 Hyper parameter Tuning"
      ]
    },
    {
      "cell_type": "code",
      "metadata": {
        "id": "jT_z_0uNV8fp",
        "colab_type": "code",
        "outputId": "5249ee9f-7ecf-4b97-ab97-23cfe5324258",
        "colab": {
          "base_uri": "https://localhost:8080/",
          "height": 73
        }
      },
      "source": [
        "# Hyper Param setting\n",
        "MAX_LEN = 128\n",
        "\n",
        "for i in range(0, len(sentences), 2000):\n",
        "  sentence = sentences[i:(i+2000)]\n",
        "  tokenized_texts = [tokenizer.tokenize(sent) for sent in sentence]\n",
        "  \n",
        "  if (i % 1000) == 0:\n",
        "    print(tokenized_texts)\n",
        "    \n",
        "  input_ids_tmp = [tokenizer.convert_tokens_to_ids(x) for x in tokenized_texts]\n",
        "  input_ids_tmp = pad_sequences(input_ids_tmp, maxlen=MAX_LEN, dtype=\"long\", truncating='post', padding='post')\n",
        "  if i==0:\n",
        "    input_ids = input_ids_tmp\n",
        "    print(i)\n",
        "  else:\n",
        "    input_ids = np.vstack((input_ids, input_ids_tmp))\n",
        "    print(i, '완료', input_ids.shape, input_ids_tmp.shape)"
      ],
      "execution_count": 65,
      "outputs": [
        {
          "output_type": "stream",
          "text": [
            "[['[CLS]', '[UNK]', '목', '##욕', '##탕', '들어', '##가는', '##거', '[UNK]', '명', '##품', '##일', '[UNK]', '[SEP]'], ['[CLS]', '[UNK]', '선', '##황', '##제가', '바', '##람', '##은', '[UNK]', '같다', '##는', '생', '##각', '##이', '든', '##다', '태', '##후', '##가', '황', '##후', '##로', '있는', '##한', '감', '##히', '생', '##각', '##도', '못', '##했', '##을', '##듯', '[SEP]'], ['[CLS]', '[UNK]', '[SEP]'], ['[CLS]', '[UNK]', '[SEP]'], ['[CLS]', '이', '##게', '나', '##라', '##냐', '방송', '##에서', '이', '##딴', '##수', '##위', '##가', '나', '##오', '##고', '지', '##랄', '##이', '##야', '진', '##짜', '[UNK]', '시', '##발', '[SEP]'], ['[CLS]', '이', '##엘', '##리', '##야', '##님', '진', '##짜', '예', '##쁘', '##다', '[SEP]'], ['[CLS]', '오', '##늘', '##은', '이', '##거', '##다', '[SEP]'], ['[CLS]', '[UNK]', '[UNK]', '[SEP]'], ['[CLS]', '세', '##인', '##데', '저', '##정', '##도는', '[UNK]', '댓', '##글', '##보', '##고', '졸', '##라', '##야', '##한', '##줄', '##알', '##았', '##더', '##니', '##만', '미', '##드', '##세', '##보다', '못', '##하', '##네', '청', '##소', '##년', '##이', '##야', '##기도', '아', '##니', '##고', '나', '##이', '##든', '성', '##인', '##들', '이', '##야', '##긴', '##데', '저', '##런', '##거', '안', '##나', '##오는', '##게', '이상', '##한', '##거', '##아', '##님', '##그', '##냥', '드라마', '##붙', '##히', '##고', '방송', '##해', '##줘', '##라', '제', '##발', '[SEP]'], ['[CLS]', '토', '##나', '##와', '[SEP]'], ['[CLS]', '페', '##하', '소', '##리를', '몇', '번', '하는', '##거', '##지', '[SEP]'], ['[CLS]', '역시', '막', '##장', '##드라마', '전', '##문', '작', '##가는', '미', '##쳤', '##네', '수', '##위', '##도', '높', '##아', '[SEP]'], ['[CLS]', '드라마', '수', '##준', '##하고', '##는', '이런', '막', '##장', '##드라마', '진', '##짜', '질', '##린다', '이런', '막', '##장', '##아', '##님', '드라마', '못', '##쓰', '##나', '##봐', '##요', '진', '##짜', '수', '##준', '##하고', '##는', '[SEP]'], ['[CLS]', '아', '##니', '[UNK]', '[UNK]', '[SEP]'], ['[CLS]', '미', '##친', '##거', '##아', '##니', '##냐', '##이', '##런', '##걸', '내', '##보', '##내', '##다', '##니', '[SEP]'], ['[CLS]', '솔', '##직', '##히', '왕', '##이', '가지고', '노', '##는', '##거', '##지', '진', '##심', '##으로', '사', '##랑', '##하면', '[UNK]', '[SEP]'], ['[CLS]', '이', '##래', '##서', '이', '##랑', '에서', '밀', '##려', '##났', '##구', '##나', '너', '##무', '야', '##하고', '너', '##무', '오', '##글', '##거', '##림', '##에', '연', '##기도', '조', '##금', '부', '##자', '##연', '##스', '##럽', '##고', '옛', '##날', '공', '##중', '##파', '##였', '##음', '이런', '##거', '못', '##했', '##을', '##텐', '##데', '이', '##젠', '시', '##청', '##률', '##도', '안', '##나', '##오', '##고', '그', '##러', '##니', '이', '##젠', '아', '##무', '##장', '##르', '막', '##하는', '##구', '##나', '[SEP]'], ['[CLS]', '[UNK]', '[SEP]'], ['[CLS]', '나', '##만', '이어', '##폰', '다', '##들', '##리', '##나', '##요', '[SEP]'], ['[CLS]', '맞', '##죠', '[SEP]'], ['[CLS]', '[UNK]', '목', '##욕', '##탕', '들어', '##가는', '##거', '[UNK]', '명', '##품', '##일', '[UNK]', '[SEP]'], ['[CLS]', '[UNK]', '선', '##황', '##제가', '바', '##람', '##은', '[UNK]', '같다', '##는', '생', '##각', '##이', '든', '##다', '태', '##후', '##가', '황', '##후', '##로', '있는', '##한', '감', '##히', '생', '##각', '##도', '못', '##했', '##을', '##듯', '[SEP]'], ['[CLS]', '[UNK]', '[SEP]'], ['[CLS]', '[UNK]', '[SEP]'], ['[CLS]', '이', '##게', '나', '##라', '##냐', '방송', '##에서', '이', '##딴', '##수', '##위', '##가', '나', '##오', '##고', '지', '##랄', '##이', '##야', '진', '##짜', '[UNK]', '시', '##발', '[SEP]'], ['[CLS]', '이', '##엘', '##리', '##야', '##님', '진', '##짜', '예', '##쁘', '##다', '[SEP]'], ['[CLS]', '오', '##늘', '##은', '이', '##거', '##다', '[SEP]'], ['[CLS]', '[UNK]', '[UNK]', '[SEP]'], ['[CLS]', '세', '##인', '##데', '저', '##정', '##도는', '[UNK]', '댓', '##글', '##보', '##고', '졸', '##라', '##야', '##한', '##줄', '##알', '##았', '##더', '##니', '##만', '미', '##드', '##세', '##보다', '못', '##하', '##네', '청', '##소', '##년', '##이', '##야', '##기도', '아', '##니', '##고', '나', '##이', '##든', '성', '##인', '##들', '이', '##야', '##긴', '##데', '저', '##런', '##거', '안', '##나', '##오는', '##게', '이상', '##한', '##거', '##아', '##님', '##그', '##냥', '드라마', '##붙', '##히', '##고', '방송', '##해', '##줘', '##라', '제', '##발', '[SEP]'], ['[CLS]', '토', '##나', '##와', '[SEP]'], ['[CLS]', '페', '##하', '소', '##리를', '몇', '번', '하는', '##거', '##지', '[SEP]'], ['[CLS]', '역시', '막', '##장', '##드라마', '전', '##문', '작', '##가는', '미', '##쳤', '##네', '수', '##위', '##도', '높', '##아', '[SEP]'], ['[CLS]', '드라마', '수', '##준', '##하고', '##는', '이런', '막', '##장', '##드라마', '진', '##짜', '질', '##린다', '이런', '막', '##장', '##아', '##님', '드라마', '못', '##쓰', '##나', '##봐', '##요', '진', '##짜', '수', '##준', '##하고', '##는', '[SEP]'], ['[CLS]', '아', '##니', '[UNK]', '[UNK]', '[SEP]'], ['[CLS]', '미', '##친', '##거', '##아', '##니', '##냐', '##이', '##런', '##걸', '내', '##보', '##내', '##다', '##니', '[SEP]'], ['[CLS]', '솔', '##직', '##히', '왕', '##이', '가지고', '노', '##는', '##거', '##지', '진', '##심', '##으로', '사', '##랑', '##하면', '[UNK]', '[SEP]'], ['[CLS]', '이', '##래', '##서', '이', '##랑', '에서', '밀', '##려', '##났', '##구', '##나', '너', '##무', '야', '##하고', '너', '##무', '오', '##글', '##거', '##림', '##에', '연', '##기도', '조', '##금', '부', '##자', '##연', '##스', '##럽', '##고', '옛', '##날', '공', '##중', '##파', '##였', '##음', '이런', '##거', '못', '##했', '##을', '##텐', '##데', '이', '##젠', '시', '##청', '##률', '##도', '안', '##나', '##오', '##고', '그', '##러', '##니', '이', '##젠', '아', '##무', '##장', '##르', '막', '##하는', '##구', '##나', '[SEP]'], ['[CLS]', '[UNK]', '[SEP]'], ['[CLS]', '나', '##만', '이어', '##폰', '다', '##들', '##리', '##나', '##요', '[SEP]'], ['[CLS]', '맞', '##죠', '[SEP]'], ['[CLS]', '신', '##은', '##경', '##의', '사', '##생', '##활', '[UNK]', '거', '##북', '##하', '##긴', '함', '초', '##반', '##에', '너', '##무', '야', '##함', '그', '##래', '##서', '채', '##널', '돌', '##렸', '##음', '[SEP]'], ['[CLS]', '신', '##은', '##경', '##이가', '연', '##기는', '잘', '##해', '[SEP]'], ['[CLS]', '이', '##거', '##보', '##고', '검', '##색', '##했', '##는데', '신', '##성', '##록', '##이', '남', '##주', '##가', '아니라', '놀', '##랬', '##음', '[SEP]'], ['[CLS]', '화', '##를', '안', '##봐', '##서', '그', '##런', '##데', '뭔', '드라마', '##에', '##요', '현대', '##극', '같은', '##데', '말', '##하는', '##거', '##는', '사', '##극', '##같', '##고', '뭐', '##지', '[UNK]', '만든', '##거', '##지', '이런', '장', '##면', '##은', '왜', '있는', '##거', '##지', '[SEP]'], ['[CLS]', '쓰', '##레', '##기', '##드라마', '좀', '내', '##보', '##내', '##지', '##마', '##라', '##애', '##들이', '뭐', '##보', '##고', '배우', '##냐', '[SEP]'], ['[CLS]', '이', '##엘', '##리', '##야', '법', '##원', '서', '##기', '##관', '##할', '##때', '진', '##짜', '좋', '##앗', '##는데', '[SEP]'], ['[CLS]', '저', '엄', '##마', '##역', '배우', '##는', '장', '##보', '##리', '##때', '##도', '저', '##렇게', '딸', '##한', '##테', '[UNK]', '[SEP]'], ['[CLS]', '[UNK]', '[UNK]', '[SEP]'], ['[CLS]', '볼', '##때', '##마다', '이', '##태', '##임', '생', '##각', '##나', '##네', '[SEP]'], ['[CLS]', '[UNK]', '[SEP]'], ['[CLS]', '이', '##엘', '##리', '##야', '##가', '어머니', '[UNK]', '아', '##무', '##리', '그', '##래', '##도', '엄', '##마', '##를', '[UNK]', '[SEP]'], ['[CLS]', '아', '##뭔', '##데', '왜', '##영', '##상', '##지', '##움', '[SEP]'], ['[CLS]', '앞', '영', '##상이', '##랑', '같은', '##데', '[SEP]'], ['[CLS]', '이', '##거', '##보', '##고', '채', '##널', '돌', '##림', '[SEP]'], ['[CLS]', '언', '##니', '##가', '살', '##아', '##있다', '작', '##가', '##라', '이', '##렇', '##구', '##나', '무', '##섭', '[SEP]'], ['[CLS]', '엄', '##마', '##랑', '같이', '봤', '##는데', '진', '##짜', '민', '##망', '##해', '죽', '##을', '뻔', '[SEP]'], ['[CLS]', '연', '##기', '##력', '좋은', '배우', '##들', '섭', '##외', '##해', '##두', '##곤', '왜', '##이', '##런', '드라마', '##를', '[SEP]'], ['[CLS]', '그', '##래', '##서', '신', '##음', '##은', '몇', '##초', '##죠', '[SEP]'], ['[CLS]', '이', '##엘', '##리', '##야', '사', '##랑', '[SEP]'], ['[CLS]', '아', '이', '##엘', '[UNK]', '이', '##쁘', '##다', '[SEP]'], ['[CLS]', '왜', '영', '##상', '바', '##꼈', '##지', '[SEP]'], ['[CLS]', '엘', '##리', '##야', '넘', '##나', '섹', '##시', '##하', '##네', '[SEP]'], ['[CLS]', '뭐', '##야', '##앞', '##영', '##상', '##과', '똑', '##같', '##은', '[UNK]', '[UNK]', '[SEP]'], ['[CLS]', '미', '##스', '##함', '##무라', '##비', '##에서', '속', '##기', '##사', '##역', '##할', '나', '##올', '##때', '[UNK]', '[SEP]'], ['[CLS]', '공', '##중', '##파', '클', '##라', '##스', '[SEP]'], ['[CLS]', '[UNK]', '[UNK]', '[SEP]'], ['[CLS]', '신', '##은', '##경', '##애', '##는', '##보', '##나', '[SEP]'], ['[CLS]', '아들', '빨', '##리', '자', '##라고', '막', '소', '##리', '질', '##렀', '##음', '[UNK]', '선', '##정', '##적', '##이', '##라', '[SEP]'], ['[CLS]', '헐', '방', '##통', '##위', '뭐', '##하', '##냐', '일', '안', '##하', '##냐', '[SEP]'], ['[CLS]', '[UNK]', '[SEP]'], ['[CLS]', '정', '##녕', '이', '##드라마', '##가', '재', '##미', '##나', '##나', '[SEP]'], ['[CLS]', '신', '##은', '##경', '##을', '쓰', '##네', '미', '##친', '공', '##중', '##파', '저', '##러', '##니', '처', '욕', '##먹', '##지', '[SEP]'], ['[CLS]', '신', '##은', '##경', '차', '##암', '##나', '년', '##동안', '억', '##쓴', '##년', '나', '##오', '##네', '[SEP]'], ['[CLS]', '삼', '##촌', '##이', '##랑', '보다', '##가', '저', '##게', '세', '##맞', '##냐', '##고', '몇', '##번', '##이나', '질', '##문', '##받', '##았다', '무', '##슨', '드라마', '##가', '거', '##기', '##다', '머', '##리에', '총', '##맞', '##고', '물', '##에', '빠', '##졌', '##는데', '완', '##벽', '##해', '##져', '##서', '나', '##타', '##남', '목', '##조', '##르', '##다가', '책', '##임', '##질', '##여', '##자', '##라', '##니', '진', '##짜', '[UNK]', '[SEP]'], ['[CLS]', '허', '##글', '공', '##중', '##파', '##에서', '이런', '##걸', '시', '##청', '##률', '##에', '다', '내', '##놓', '##는', '##구', '##나', '아', '##예', '나', '##체', '##로', '[UNK]', '그', '##러', '##셨', '##나', '한', '##심', '##허', '##다', '[SEP]'], ['[CLS]', '제', '##목', '##이', '##랑', '영', '##상이', '##랑', '관련', '##성이', '도', '없는', '##데', '[SEP]'], ['[CLS]', '어', '##디', '##가', '[SEP]'], ['[CLS]', '[UNK]', '다른', '##거', '나', '##오는', '##디', '##요', '[SEP]'], ['[CLS]', '난', '왜', '안', '##보', '##이지', '[SEP]'], ['[CLS]', '[UNK]', '[SEP]'], ['[CLS]', '여', '##기', '관', '##리', '##자', '채', '##널', '관', '##리', '잘', '좀', '해', '##주', '##세', '##요', '[SEP]'], ['[CLS]', '뭐', '##야', '저', '##만', '전', '##영', '##상이', '##랑', '똑', '##같', '##이', '보', '##여', '##요', '[SEP]'], ['[CLS]', '아', '##직', '##도', '전', '##영', '##상', '보', '##이는', '##거', '저', '##만', '그', '##런', '##가', '##요', '[SEP]'], ['[CLS]', '욕', '##하면서', '##도', '다', '##들', '[UNK]', '[UNK]', '[SEP]'], ['[CLS]', '민', '##망', '##했다', '[SEP]'], ['[CLS]', '저', '##는', '##딴', '##장', '##면', '##보', '##이는', '##대', '##여', '[SEP]'], ['[CLS]', '앗', '[UNK]', '[UNK]', '훼', '##이', '##크', '지', '##리', '##네', '이런', '[SEP]'], ['[CLS]', '욕', '##밖', '##에', '안', '##나', '##온', '##다', '아', '[UNK]', '우', '##리', '##들을', '얼', '##마', '##나', '우', '##습', '##게', '보', '##면', '아', '열', '##받', '##아', '작', '##가', '연', '##출', '##진', '진', '##짜', '어', '##후', '아', '##아', '##아', '[SEP]'], ['[CLS]', '와', '저', '##런', '폐', '##륜', '##적인', '신', '##은', '##경', '##을', '쓰', '##는', '작', '##가와', '피', '##디', '##는', '몰', '##까', '[SEP]'], ['[CLS]', '아', '##니', '왜', '뒤', '##에', '부', '##분', '##이', '잘', '##린', '##거', '##죠', '[UNK]', '[SEP]'], ['[CLS]', '[UNK]', '왜', '전', '##꺼', '##하고', '같은', '##게', '나', '##오', '##지', '[SEP]'], ['[CLS]', '저', '##만', '전', '영', '##상이', '##랑', '같은', '##게', '나', '##오', '##나', '##요', '[SEP]'], ['[CLS]', '군', '##산', '지역', '앞', '##바', '##다', '##에', '유', '##전', '##이', '있다고', '##합', '##니다', '유', '##전', '##개', '##발', '##하여', '군', '##산', '##경', '##제', '살', '##려', '##요', '청', '##원', '##중', '##입', '##니다', '한', '##표', '부', '##탁', '##드', '##려', '##요', '한', '##번', '##의', '관', '##심', '##과', '한', '##표', '##가', '국가', '##발', '##전에', '##도', '큰', '[UNK]', '청', '##와', '##대', '청', '##원', '링', '##크', '##입', '##니다', '[SEP]'], ['[CLS]', '음', '보', '##면서', '그', '##리', '기', '##분', '##좋', '##진', '않', '##음', '흑', '##흑', '[UNK]', '[SEP]'], ['[CLS]', '분', '##위', '##기는', '참', '좋은', '##데', '신', '##성', '##록', '##도', '좋은', '##데', '스', '##토', '##리가', '무', '##슨', '갑', '##자', '##기', '[UNK]', '[SEP]'], ['[CLS]', '[UNK]', '[SEP]'], ['[CLS]', '년', '드라마', '##라', '##니', '##구', '##리', '##다', '[SEP]'], ['[CLS]', '신', '##은', '##경', '나', '##오', '##네', '헐', '[SEP]'], ['[CLS]', '주', '##동', '##민', '##은', '꼭', '저', '##런', '선', '##정', '##적인', '장', '##면', '##을', '넣', '##더', '##라', '[UNK]', '별', '##로', '필', '##요', '##하지', '##도', '않은', '장', '##면', '같', '##고', '굳', '##이', '저', '##렇게', '연', '##출', '안', '##해', '##도', '됐', '##을', '##텐', '##데', '김', '##순', '##옥', '작', '##가', '##가', '원래', '막', '##장', '드라마', '쓰', '##긴', '하지만', '이', '##따', '##위', '저', '##질', '장', '##면', '##을', '넣', '##은', '##건', '피', '##디', '영', '##향', '##이', '크', '##지', '[UNK]', '[SEP]'], ['[CLS]', '가', '##만', '##봐', '##도', '[UNK]', '자', '##세', '##히', '봐', '##도', '[UNK]', '[SEP]'], ['[CLS]', '신', '##은', '##경', '오', '##랜', '##만', '##에', '나', '##오', '##셔', '##서', '좋', '##아', '##요', '[SEP]'], ['[CLS]', '지', '##금', '##은', '회', '##사', '##니', '퇴', '##근', '##해서', '봐', '##야', '##지', '[SEP]'], ['[CLS]', '혹', '##시', '최', '##진', '##혁', '##이', '[UNK]', '[UNK]', '[SEP]'], ['[CLS]', '구', '##성', '##도', '엉', '##성', '##하고', '스', '##토', '##리', '전', '##개', '##도', '진', '##부', '##하고', '무', '##슨', '드라마', '##가', '[UNK]', '출', '##연', '##자', '##도', '짜', '##증', '##나', '##겠', '##다', '[SEP]'], ['[CLS]', '신', '##성', '##록', '물', '##에', '##빠', '##진', '##머', '##리스', '##탈', '엽', '##기', '##적', '##이고', '퇴', '##폐', '##적', '##이고', '[SEP]'], ['[CLS]', '젖', '##었', '##겠', '##는데', '[SEP]'], ['[CLS]', '드라마', '##금', '##인', '##가', '##요', '[SEP]'], ['[CLS]', '신', '##은', '##경', '[SEP]'], ['[CLS]', '[UNK]', '어', '##제', '##본', '장', '##면', '이', '##군', '##요', '##이', '##엘', '##리', '##야', '##씨', '너', '##무', '##잘', '##참', '##던', '##데', '##요', '##전', '간', '##지', '##러', '##워', '##서', '못', '##참', '##겠', '##던', '##데', '[UNK]', '연', '##기', '기', '##대', '##할', '##게', '##요', '[SEP]'], ['[CLS]', '신', '##은', '##경', '##이', '나', '##온', '##다고', '미', '##쳤', '##네', '[SEP]'], ['[CLS]', '[UNK]', '[SEP]'], ['[CLS]', '이', '##엘', '##리', '##야', '목', '##빨', '##간', '##거', '##봐', '개', '##야', '##해', '[SEP]'], ['[CLS]', '미', '##친', '[UNK]', '목', '##에', '키', '##스', '##하는', '##거', '가', '##까', '##이', '##도', '잡', '##네', '[UNK]', '[SEP]'], ['[CLS]', '난', '이', '##거', '[UNK]', '[SEP]'], ['[CLS]', '이런', '##게', '놀', '##라', '##운', '##게', '아니라', '신', '##은', '##경', '다시', '드라마', '##를', '찍', '##고', '있다는', '##게', '놀', '##라', '##운', '##듯', '[SEP]'], ['[CLS]', '신', '##은', '##경', '나', '##오', '##자', '마', '##자', '다른', '##채', '##널', '돌', '##려', '##버', '##림', '[SEP]'], ['[CLS]', '이', '##드라마', '볼', '##려', '##고', '##했', '##는데', '신', '##은', '##경', '나', '##오', '##더', '##라', '그', '##래', '##서', '안', '##본', '##다', '[UNK]', '피', '##디', '##도', '대', '##단', '##하', '##네', '섭', '##외', '##할', '##생', '##각', '##을', '다', '##하고', '[UNK]', '기', '##획', '##사에', '##서', '[UNK]', '다른', '##기', '##획', '##사', '들어', '##간', '##거', '[SEP]'], ['[CLS]', '아', '##무', '##리', '봐', '##도', '넘', '[UNK]', '해', '##골', '##같', '##아', '[SEP]'], ['[CLS]', '이', '허', '##언', '##증', '환', '##자', '기', '##어', '##나', '##왔', '##네', '[SEP]'], ['[CLS]', '약', '##간', '철', '##구', '##닮', '##은', '##듯', '[SEP]'], ['[CLS]', '이', '##엘', '##리', '##야', '되', '##게', '섹', '##시', '##하', '##네', '[SEP]'], ['[CLS]', '제', '##목', '##만', '고', '##급', '##지', '##네', '##내', '##용', '##은', '허', '##술', '##하고', '##포', '##장은', '명', '##품', '##처럼', '해', '##놓', '##고', '열', '##어', '##보', '##니', '[UNK]', '품', '##격', '[SEP]'], ['[CLS]', '수', '##위', '##좀', '##더', '[UNK]', '해', '##주', '##세', '##요', '[SEP]'], ['[CLS]', '잘', '##못', '##본', '##줄', '신', '##은', '##경', '##도', '돈', '##문', '##제', '##있', '##지', '##않', '##나', '##어', '##찌', '##나', '##오', '##냐', '[SEP]'], ['[CLS]', '[UNK]', '[SEP]'], ['[CLS]', '자', '##식', '버', '##린', '마', '##녀', '신', '##은', '##경', '##이', '드라마', '##에', '또', '[UNK]', '[SEP]'], ['[CLS]', '[UNK]', '뭐', '##야', '궁', '##이', '##야', '[SEP]'], ['[CLS]', '이런', '드라마', '##도', '있어', '##나', '[SEP]'], ['[CLS]', '근', '##디', '신', '##은', '##경', '##은', '왜', '##나', '##오는', '##거', '##에', '##요', '[SEP]'], ['[CLS]', '느', '##끼', '##한', '##데', '[SEP]'], ['[CLS]', '너', '##무', '##처', '##음', '##부터', '잔', '##인', '##함', '[SEP]'], ['[CLS]', '너', '##무', '##야', '##해서', '깜', '##짝', '##이', '##야', '[SEP]'], ['[CLS]', '[UNK]', '드라마', '##초', '##반', '##부터', '막', '##장에', '##어', '##이가', '##없', '##네', '[SEP]'], ['[CLS]', '폐', '##하', '[UNK]', '[SEP]'], ['[CLS]', '연', '##출', '##진', '##짜', '[UNK]', '[SEP]'], ['[CLS]', '신', '##은', '##경', '##이', '여', '##기', '왜', '나', '##오', '##냐', '[SEP]'], ['[CLS]', '채', '##널', '몇', '##번', '##을', '돌', '##렸다', '자', '##극', '##적인', '장', '##면', '##이', '많', '##음', '그', '##래', '##서', '안', '볼', '##려', '##구', '##요', '[SEP]'], ['[CLS]', '퇴', '##폐', '##적', '[SEP]'], ['[CLS]', '머', '##야', '신', '##은', '##경', '방송', '##금', '##지', '아', '##냐', '[SEP]'], ['[CLS]', '민', '##망', '##하', '##더', '##라', '##저', '##런', '##게', '##방송', '##에', '나', '##와', '##도', '##됨', '##했', '##음', '[SEP]'], ['[CLS]', '이', '##엘', '##리', '##야', '되', '##게', '섹', '##시', '##하', '##네', '[SEP]'], ['[CLS]', '제', '##목', '##만', '고', '##급', '##지', '##네', '##내', '##용', '##은', '허', '##술', '##하고', '##포', '##장은', '명', '##품', '##처럼', '해', '##놓', '##고', '열', '##어', '##보', '##니', '[UNK]', '품', '##격', '[SEP]'], ['[CLS]', '수', '##위', '##좀', '##더', '[UNK]', '해', '##주', '##세', '##요', '[SEP]'], ['[CLS]', '잘', '##못', '##본', '##줄', '신', '##은', '##경', '##도', '돈', '##문', '##제', '##있', '##지', '##않', '##나', '##어', '##찌', '##나', '##오', '##냐', '[SEP]'], ['[CLS]', '[UNK]', '[SEP]'], ['[CLS]', '자', '##식', '버', '##린', '마', '##녀', '신', '##은', '##경', '##이', '드라마', '##에', '또', '[UNK]', '[SEP]'], ['[CLS]', '[UNK]', '뭐', '##야', '궁', '##이', '##야', '[SEP]'], ['[CLS]', '이런', '드라마', '##도', '있어', '##나', '[SEP]'], ['[CLS]', '근', '##디', '신', '##은', '##경', '##은', '왜', '##나', '##오는', '##거', '##에', '##요', '[SEP]'], ['[CLS]', '느', '##끼', '##한', '##데', '[SEP]'], ['[CLS]', '너', '##무', '##처', '##음', '##부터', '잔', '##인', '##함', '[SEP]'], ['[CLS]', '너', '##무', '##야', '##해서', '깜', '##짝', '##이', '##야', '[SEP]'], ['[CLS]', '[UNK]', '드라마', '##초', '##반', '##부터', '막', '##장에', '##어', '##이가', '##없', '##네', '[SEP]'], ['[CLS]', '폐', '##하', '[UNK]', '[SEP]'], ['[CLS]', '연', '##출', '##진', '##짜', '[UNK]', '[SEP]'], ['[CLS]', '신', '##은', '##경', '##이', '여', '##기', '왜', '나', '##오', '##냐', '[SEP]'], ['[CLS]', '채', '##널', '몇', '##번', '##을', '돌', '##렸다', '자', '##극', '##적인', '장', '##면', '##이', '많', '##음', '그', '##래', '##서', '안', '볼', '##려', '##구', '##요', '[SEP]'], ['[CLS]', '퇴', '##폐', '##적', '[SEP]'], ['[CLS]', '머', '##야', '신', '##은', '##경', '방송', '##금', '##지', '아', '##냐', '[SEP]'], ['[CLS]', '민', '##망', '##하', '##더', '##라', '##저', '##런', '##게', '##방송', '##에', '나', '##와', '##도', '##됨', '##했', '##음', '[SEP]'], ['[CLS]', '아', '##주', '[UNK]', '야', '##동을', '내', '##보', '##내', '##라', '[SEP]'], ['[CLS]', '임', '##성', '##한', '작', '##가는', '쓰', '##면서', '##도', '이', '##건', '아', '##니', '##지', '너', '##무', '심', '##하지', '했', '##지만', '만', '##에', '하', '##나', '상', '##대', '드라마', '##가', '마지막', '회', '프', '##리', '##미', '##엄', '##을', '얻', '##어', '프로', '##라', '##도', '우', '##리', '드라마', '##를', '앞', '##서', '##면', '그', '드라마', '##는', '결국', '우', '##리', '드라마', '##를', '이', '##기', '##고', '끝', '##난', '게', '되', '##기', '때문에', '그', '##동안', '##의', '내', '고', '##생', '##과', '노', '##력이', '수', '##포', '##로', '돌', '##아', '##갈', '수', '##밖', '##에', '없', '##어', '눈', '##물을', '머', '##금', '##고', '에', '##피', '##소', '##드를', '동', '##원', '##했다', '##고', '밝혔다', '임', '작', '##가는', '자신의', '이', '##같', '##은', '행', '##동을', '악', '##행', '##이', '##라', '표', '##현', '##하기도', '했다', '[UNK]', '임', '##성', '##한', '드', '##작', '은', '##퇴', '##하고', '털', '##어', '##놓', '##는', '##이', '##야', '##기', '시', '##청', '##률', '##위', '##해', '독', '##약', '풀', '##라고', '방송', '##국', '##에서', '전', '##화', '##오', '##면', '사', '##람', '##죽', '##이고', '사', '##고', '##내', '##고', '[UNK]', '시', '##청', '##률', '##이', '진', '##정', '다', '##냐', '[SEP]'], ['[CLS]', '아', '진', '##짜', '개', '##오', '##글', '##거', '##리고', '진', '##부', '##하고', '이런', '씬', '##좀', '넣', '##지', '마', '##쇼', '[SEP]'], ['[CLS]', '보', '##는', '청', '##소', '##년', '##들', '##도', '있고', '뭐', '##하는', '거', '##야', '[UNK]', '[SEP]'], ['[CLS]', '아', '##니', '목', '##조', '##르', '##다가', '급', '##좋', '##아', '##하', '##냐', '[SEP]'], ['[CLS]', '소', '##리가', '잘', '안', '##들', '##리는', '##건', '개', '##선', '##해', '##주', '##세', '##요', '[SEP]'], ['[CLS]', '괜', '##찮', '##나', '[SEP]'], ['[CLS]', '화', '##는', '소', '##리가', '안', '##나', '##와', '##서', '못', '##봤', '##어', '##요', '[SEP]'], ['[CLS]', '근', '##데', '인', '##간', '##적으로', '이', '##엘', '##리', '##야', '너', '##무', '예', '##쁘', '##다', '이', '드라마', '좀', '뜨', '##면', '새로운', '악', '##녀', '##로', '이', '##름', '날', '##릴', '##듯', '[SEP]'], ['[CLS]', '별', '##거', '아', '##니', '##구', '##만', '[SEP]'], ['[CLS]', '이어', '##폰', '끼', '##고', '듣', '##는데', '나', '##만', '한', '쪽', '##만', '들', '##리', '##나', '[SEP]'], ['[CLS]', '[UNK]', '[UNK]', '진', '##짜', '##어', '##색', '##했', '##겠', '##다', '[UNK]', '이', '##해', '##하지', '##롱', '예', '##전', '다른', '##드라마', '##보다', '아', '##빠', '##랑', '와', '##시간', '##이', '##빨', '##리', '초', '##가', '##분', '##인', '##줄', '[UNK]', '그', '##래', '##도', '[UNK]', '황', '##후', '[SEP]'], ['[CLS]', '[UNK]', '버', '##퍼', '##링', '장', '##난', '##아', '##님', '##접', '##속', '##자가', '몇', '##명', '##인', '##거', '##야', '[SEP]'], ['[CLS]', '아', '##빠', '##랑', '보다', '##가', '[SEP]'], ['[CLS]', '이', '##엘', '##리', '##야', '눈', '##빛', '장', '##난', '##아', '##니다', '[SEP]'], ['[CLS]', '이', '##거', '##찍', '##고', '컷', '##하고', '##나', '##서', '이', '##엘', '##리', '##야', '##랑', '신', '##성', '##록', '되', '##게', '[UNK]', '[SEP]'], ['[CLS]', '요', '##새', '드라마', '왜', '##이', '##렇게', '자', '##극', '##적', '##이', '##냐', '이', '##젠', '진', '##짜', '이런', '##것', '좀', '그', '##만', '##보', '##고', '[UNK]', '[SEP]'], ['[CLS]', '신', '##은', '##경', '휴', '##대', '##폰', '던', '##진', '##거', '[UNK]', '[SEP]'], ['[CLS]', '와', '##우', '[SEP]'], ['[CLS]', '뭔', '##데', '웃', '##기', '##지', '[UNK]', '[SEP]'], ['[CLS]', '와', '[SEP]'], ['[CLS]', '아', '##니', '왜', '이런', '역', '##할', '##로', '##만', '나', '##오', '##냐', '[SEP]'], ['[CLS]', '분', '##위', '##기', '깜', '##놀', '[UNK]', '[SEP]'], ['[CLS]', '그', '##래', '##서', '##오', '##늘', '최', '##진', '##혁', '##은', '[UNK]', '낼', '##은', '[SEP]'], ['[CLS]', '[UNK]', '[UNK]', '[SEP]'], ['[CLS]', '어', '##우', '##야', '[SEP]'], ['[CLS]', '[UNK]', '[SEP]'], ['[CLS]', '오', '##우', '##야', '오', '##우', '##야', '[SEP]'], ['[CLS]', '와', '[SEP]'], ['[CLS]', '아', '##니', '왜', '이런', '역', '##할', '##로', '##만', '나', '##오', '##냐', '[SEP]'], ['[CLS]', '분', '##위', '##기', '깜', '##놀', '[UNK]', '[SEP]'], ['[CLS]', '그', '##래', '##서', '##오', '##늘', '최', '##진', '##혁', '##은', '[UNK]', '낼', '##은', '[SEP]'], ['[CLS]', '[UNK]', '[UNK]', '[SEP]'], ['[CLS]', '어', '##우', '##야', '[SEP]'], ['[CLS]', '[UNK]', '[SEP]'], ['[CLS]', '오', '##우', '##야', '오', '##우', '##야', '[SEP]'], ['[CLS]', '와', '[SEP]'], ['[CLS]', '아', '##니', '왜', '이런', '역', '##할', '##로', '##만', '나', '##오', '##냐', '[SEP]'], ['[CLS]', '분', '##위', '##기', '깜', '##놀', '[UNK]', '[SEP]'], ['[CLS]', '그', '##래', '##서', '##오', '##늘', '최', '##진', '##혁', '##은', '[UNK]', '낼', '##은', '[SEP]'], ['[CLS]', '[UNK]', '[UNK]', '[SEP]'], ['[CLS]', '어', '##우', '##야', '[SEP]'], ['[CLS]', '[UNK]', '[SEP]'], ['[CLS]', '오', '##우', '##야', '오', '##우', '##야', '[SEP]'], ['[CLS]', '황', '##제', '용', '##포', '박', '##제', '합', '##시', '##다', '섹', '##시', '##하다', '[SEP]'], ['[CLS]', '와', '황', '##제', '멋', '##있다', '[UNK]', '[SEP]'], ['[CLS]', '아들', '##이', '엄', '##마', '##보다', '주', '##름이', '많', '##네', '[SEP]'], ['[CLS]', '남', '##주', '신', '##성', '##록', '##이', '##면', '좋', '##겠', '##다', '[SEP]'], ['[CLS]', '섹', '##시', '##해', '[UNK]', '신', '##성', '##록', '[SEP]'], ['[CLS]', '황', '##제', '섹', '##시', '##하다', '용', '##포', '##입', '##은', '##거', '존', '##멋', '[SEP]'], ['[CLS]', '무', '##슨', '엄', '##마', '##가', '아들', '##한', '##테', '꾸', '##벅', '인', '##사', '##하고', '##가', '##냐', '헐', '호', '##칭', '##도', '페', '##하', '##가', '아니라', '황', '##상이', '##지', '아', '##무', '##리', '왕', '##이', '##라', '##도', '아들', '##인', '##데', '[SEP]'], ['[CLS]', '신', '##성', '##록', '졸', '##라', '잘', '##생', '##김', '용', '##포', '박', '##제', '##하자', '그리고', '신', '##성', '##록', '캐', '##릭', '##터', '황', '##제', '불', '##쌍', '##함', '[SEP]'], ['[CLS]', '신', '##성', '##록', '인', '##생', '##캐', '만', '##난', '##듯', '[SEP]'], ['[CLS]', '딱', '보', '##니', '##까', '신', '##성', '##록', '원래', '착', '##한', '##캐', '##릭', '##인', '##데', '아', '##내', '죽', '##어', '##가지', '##고', '저', '##렇게', '된', '##거', '[UNK]', '좀', '지', '##나', '##면', '엄', '##마', '##랑', '싸', '##우', '##고', '장', '##나라', '##한', '##테', '반', '##하', '##겟', '##지', '하지만', '남', '##주는', '최', '##진', '##혁', '[SEP]'], ['[CLS]', '와', '나', '웬', '##만', '##하면', '남자', '##몸', '##보', '##고', '우', '##와', '##안', '##그', '##러', '##는데', '신', '##성', '##록', '##은', '몸', '##매', '진', '##짜', '이', '##쁘', '##다', '여자', '##가', '봐', '##도', '부', '##러', '##운', '[UNK]', '[SEP]'], ['[CLS]', '[UNK]', '인', '##정', '##합', '##니다', '[SEP]'], ['[CLS]', '심', '##장', '터', '##질', '##뻔', '[SEP]'], ['[CLS]', '머', '##리', '내', '##린', '##거', '존', '##잘', '[SEP]'], ['[CLS]', '둘', '##다', '멍', '##청', '[SEP]'], ['[CLS]', '이', '##엘', '##리', '##야', '진', '##짜', '이', '##쁘', '##다', '[SEP]'], ['[CLS]', '토', '##나', '##온', '##다', '[SEP]'], ['[CLS]', '[UNK]', '[SEP]'], ['[CLS]', '이', '##엘', '##리', '##야', '예', '##쁜', '##데', '[SEP]'], ['[CLS]', '상', '##사', '##랑', '비', '##서', '##관', '##계', '이', '##딴', '##식으로', '묘', '##사', '##하는', '드라마', '좋', '##다고', '쳐', '##보', '##는', '[UNK]', '인', '##권', '추', '##락', '##하는', '드라마', '그', '##리', '보고', '##싶', '##냐', '[SEP]'], ['[CLS]', '저', '##질', '류', '드라마', '[SEP]'], ['[CLS]', '그', '##건', '너', '##에게', '달', '##렸', '##지', '[UNK]', '오', '##글', '[SEP]'], ['[CLS]', '여성', '비', '##율', '댓', '##글', '##창', '더', '##럽', '##네', '[UNK]', '그', '##분', '##들', '[UNK]', '[UNK]', '[SEP]'], ['[CLS]', '이', '##엘', '##리', '##야', '한', '##테', '걸', '##어', '##갈', '##때', '이', '##야', '멋', '##지', '##긴', '##하', '##군', '[SEP]'], ['[CLS]', '장', '##나라', '##랑', '이', '##엘', '##리', '##야', '##랑', '각각', '있을', '때', '##마다', '넘', '달', '##라', '##지고', '연', '##기', '잘', '##하는', '##듯', '[SEP]'], ['[CLS]', '참', '##한', '##드는', '케', '##이', '##블', '##은', '발', '##전', '##한', '##데', '공', '##중', '##파', '##는', '계속', '퇴', '##보', '##되', '##네', '여', '##전', '##히', '시', '##청', '##자가', '자', '##극', '##적인', '것', '좋', '##아', '##하는', '줄', '알', '##고', '그', '##걸', '##로', '시', '##청', '##률', '높', '##이', '##려', '##는', '것', '##맨', '##날', '사', '##골', '우', '##리', '##듯', '##한', '캐', '##릭', '##터', '설', '##정', '스', '##토', '##리', '진', '##심', '제작', '##비', '##가', '아', '##깝', '##다', '그', '##돈', '##으로', '연', '##극', '##이나', '다른', '##곳', '##에', '투', '##자', '##하지', '나', '##도', '작', '##가지', '##망', '##생', '##이지', '##만', '여', '##전', '##히', '저', '##런', '것', '보', '##면', '답', '##답', '##함', '대', '##중', '##은', '변', '##하는', '##데', '기', '##존', '작', '##가는', '여', '##전', '##히', '퇴', '##보', '도', '##전', '##하는', '작', '##가는', '적', '##은', '것', '같', '##아', '좀', '##더', '다', '##양', '##하게', '시', '##도', '##하고', '보', '##여', '##줬', '##으면', '싶', '##음', '[SEP]'], ['[CLS]', '대', '##사가', '류', '인', '##터', '##넷', '##소', '##설', '급', '##이', '##네', '[SEP]'], ['[CLS]', '[UNK]', '오', '##글', '##거', '##리', '##네', '[SEP]'], ['[CLS]', '[UNK]', '[SEP]'], ['[CLS]', '오', '이', '##번', '드라마', '##에서', '이', '##엘', '##리', '##야', '비', '##중', '크', '##다', '[SEP]'], ['[CLS]', '와', '나', '웬', '##만', '##하면', '남자', '##몸', '##보', '##고', '우', '##와', '##안', '##그', '##러', '##는데', '신', '##성', '##록', '##은', '몸', '##매', '진', '##짜', '이', '##쁘', '##다', '여자', '##가', '봐', '##도', '부', '##러', '##운', '[UNK]', '[SEP]'], ['[CLS]', '[UNK]', '인', '##정', '##합', '##니다', '[SEP]'], ['[CLS]', '심', '##장', '터', '##질', '##뻔', '[SEP]'], ['[CLS]', '머', '##리', '내', '##린', '##거', '존', '##잘', '[SEP]'], ['[CLS]', '둘', '##다', '멍', '##청', '[SEP]'], ['[CLS]', '이', '##엘', '##리', '##야', '진', '##짜', '이', '##쁘', '##다', '[SEP]'], ['[CLS]', '토', '##나', '##온', '##다', '[SEP]'], ['[CLS]', '[UNK]', '[SEP]'], ['[CLS]', '이', '##엘', '##리', '##야', '예', '##쁜', '##데', '[SEP]'], ['[CLS]', '상', '##사', '##랑', '비', '##서', '##관', '##계', '이', '##딴', '##식으로', '묘', '##사', '##하는', '드라마', '좋', '##다고', '쳐', '##보', '##는', '[UNK]', '인', '##권', '추', '##락', '##하는', '드라마', '그', '##리', '보고', '##싶', '##냐', '[SEP]'], ['[CLS]', '저', '##질', '류', '드라마', '[SEP]'], ['[CLS]', '그', '##건', '너', '##에게', '달', '##렸', '##지', '[UNK]', '오', '##글', '[SEP]'], ['[CLS]', '여성', '비', '##율', '댓', '##글', '##창', '더', '##럽', '##네', '[UNK]', '그', '##분', '##들', '[UNK]', '[UNK]', '[SEP]'], ['[CLS]', '이', '##엘', '##리', '##야', '한', '##테', '걸', '##어', '##갈', '##때', '이', '##야', '멋', '##지', '##긴', '##하', '##군', '[SEP]'], ['[CLS]', '장', '##나라', '##랑', '이', '##엘', '##리', '##야', '##랑', '각각', '있을', '때', '##마다', '넘', '달', '##라', '##지고', '연', '##기', '잘', '##하는', '##듯', '[SEP]'], ['[CLS]', '참', '##한', '##드는', '케', '##이', '##블', '##은', '발', '##전', '##한', '##데', '공', '##중', '##파', '##는', '계속', '퇴', '##보', '##되', '##네', '여', '##전', '##히', '시', '##청', '##자가', '자', '##극', '##적인', '것', '좋', '##아', '##하는', '줄', '알', '##고', '그', '##걸', '##로', '시', '##청', '##률', '높', '##이', '##려', '##는', '것', '##맨', '##날', '사', '##골', '우', '##리', '##듯', '##한', '캐', '##릭', '##터', '설', '##정', '스', '##토', '##리', '진', '##심', '제작', '##비', '##가', '아', '##깝', '##다', '그', '##돈', '##으로', '연', '##극', '##이나', '다른', '##곳', '##에', '투', '##자', '##하지', '나', '##도', '작', '##가지', '##망', '##생', '##이지', '##만', '여', '##전', '##히', '저', '##런', '것', '보', '##면', '답', '##답', '##함', '대', '##중', '##은', '변', '##하는', '##데', '기', '##존', '작', '##가는', '여', '##전', '##히', '퇴', '##보', '도', '##전', '##하는', '작', '##가는', '적', '##은', '것', '같', '##아', '좀', '##더', '다', '##양', '##하게', '시', '##도', '##하고', '보', '##여', '##줬', '##으면', '싶', '##음', '[SEP]'], ['[CLS]', '대', '##사가', '류', '인', '##터', '##넷', '##소', '##설', '급', '##이', '##네', '[SEP]'], ['[CLS]', '[UNK]', '오', '##글', '##거', '##리', '##네', '[SEP]'], ['[CLS]', '[UNK]', '[SEP]'], ['[CLS]', '오', '이', '##번', '드라마', '##에서', '이', '##엘', '##리', '##야', '비', '##중', '크', '##다', '[SEP]'], ['[CLS]', '목', '##걸', '##이', '##랑', '[UNK]', '[SEP]'], ['[CLS]', '둘', '##이', '의', '##외', '##로', '어', '##울', '##려', '[SEP]'], ['[CLS]', '별', '##로', '##다', '별', '##로', '##야', '[SEP]'], ['[CLS]', '이', '##태', '##임', '##하고', '##송', '##지', '##효', '섞', '##은', '얼', '##굴', '[SEP]'], ['[CLS]', '신', '##성', '##록', '이런', '역', '##할', '엄', '##청', '##잘', '##하', '##네', '다른', '역', '##할', '##도', '[UNK]', '[SEP]'], ['[CLS]', '[UNK]', '근', '##데', '너', '##무', '오', '##글', '##거', '##려', '진', '##심', '##으로', '세', '##기에', '[UNK]', '폐', '##하', '[SEP]'], ['[CLS]', '헐', '몸', '##봐', '[UNK]', '[SEP]'], ['[CLS]', '드라마', '심', '##각', '보다', '##가', '어', '##이', '##없', '##어', '##서', '웃', '##음', '##만', '[UNK]', '시대', '##에', '뒤', '##떨', '##어', '##지고', '진', '##부', '##한', '드라마', '좀', '그', '##만', '찍', '##으면', '안', '##되', '##나', '배우', '##들', '##도', '이런', '드라마', '좀', '거', '##르고', '[SEP]'], ['[CLS]', '옷', '##이', '왜', '저', '##런', '##건', '##지', '누', '##가', '좀', '설', '##명을', '[SEP]'], ['[CLS]', '아', '##진', '##짜', '구', '##리', '##다', '##시대', '##를', '역', '##행', '##하', '##네', '##웬', '##일', '##이', '##냐', '[SEP]'], ['[CLS]', '야', '##하다', '공', '##중', '##파', '[SEP]'], ['[CLS]', '너', '##무', '야', '##동', '##찍', '##어', '##대', '##더', '##라', '포', '##노', '##가', '##기', '일', '##보', '##직', '##전', '##처럼', '애', '##들', '##보', '##기', '##민', '##망', '##함', '[SEP]'], ['[CLS]', '그', '##런', '##목', '##걸', '##이는', '[UNK]', '[SEP]'], ['[CLS]', '진', '##짜', '개', '##더', '##럽', '##다', '대', '##사', '##도', '개', '##오', '##글', '##거', '##리고', '[SEP]'], ['[CLS]', '카', '##톡', '##개', '넘', '[UNK]', '[SEP]'], ['[CLS]', '더', '##럽', '##다', '##비', '##서', '성', '##적', '##대', '##상', '##화', '##하는', '##건', '##가', '##생', '##각', '##이', '##있는', '##건', '##지', '없는', '##건', '##지', '[SEP]'], ['[CLS]', '돈', '##꽃', '##처럼', '진', '##지', '##모', '##드', '##로', '가', '##던', '##가', '명', '##랑', '##소', '##녀', '##성', '##공', '##기', '##처럼', '캐', '##발', '##랄', '##로', '가', '##던', '##가', '그', '##것', '##도', '아', '##니', '##면', '별', '##그', '##대', '##처럼', '완', '##급', '##조', '##절', '##을', '잘', '##해야', '##지', '드라마', '이', '##거', '뭐', '##냐', '[SEP]'], ['[CLS]', '이', '##게', '뭐', '##냐', '심', '##의', '##에', '안', '##걸', '##리는', '##게', '웃', '##기', '##다', '[SEP]'], ['[CLS]', '여', '##비', '##서', '##에', '대한', '인', '##식', '##이', '바', '##뀌', '##기는', '개', '##뿔', '아', '##무', '##리', '드라마', '##고', '캐', '##릭', '##터', '##상이', '##라', '##지만', '시대', '##가', '[UNK]', '이런', '##걸', '[UNK]', '볼', '거', '##라', '생', '##각', '##하는', '##거', '##냐', '##솔', '##직', '##히', '비', '##서', '지', '##망', '##하는', '학', '##생', '##으로', '##서', '이런', '드라마', '##가', '아', '##직', '##도', '있다는', '##게', '많이', '안', '##타', '##깝', '##다', '도', '로', '##맨', '##틱', '##하지', '않', '##음', '더', '##러', '##워', '에', '##라', '##이', '[UNK]', '[SEP]'], ['[CLS]', '세', '##기에', '저', '##런', '##대', '##사가', '##나', '##오', '##다', '##니', '[UNK]', '[SEP]'], ['[CLS]', '나', '##이', '##차', '##나는', '상', '##사와', '여', '##비', '##서', '##가', '또', '이', '##렇게', '쓰', '##여', '##지', '##네', '진', '##짜', '언', '##제', '바', '##뀌', '##냐', '이런', '##게', '대', '##중', '##매', '##체', '##에', '자', '##꾸', '보', '##이', '##니', '##까', '사', '##람', '##들이', '여', '##비', '##서', '##가', '성', '##폭', '##력', '당', '##했다', '##고', '해', '##도', '로', '##맨', '##틱', '##이', '##라', '생', '##각', '##하지', '##위', '##력', '##에', '의한', '성', '##폭', '##력이', '[UNK]', '[SEP]'], ['[CLS]', '둘', '잘', '##어', '##울', '##리는', '##데', '내', '##용', '무', '##엇', '##비', '##서', '##와', '여자', '##래', '[SEP]'], ['[CLS]', '아', '##니', '연', '##기는', '다', '잘', '##하는', '##데', '각', '##본', '##이', '왜', '##이', '##래', '[SEP]'], ['[CLS]', '상', '##사와', '여', '##비', '##서', '관', '##계', '아', '##직', '##도', '이', '##렇게', '묘', '##사', '##되', '##다', '##니', '[SEP]'], ['[CLS]', '이', '##게', '첫', '##방', '##이', '##였다', '##고', '[SEP]'], ['[CLS]', '[UNK]', '[SEP]'], ['[CLS]', '목', '##걸', '##이', '##좀', '하지', '##마', '[SEP]'], ['[CLS]', '카', '##톡', '개', '좋', '##겠', '##다', '[SEP]'], ['[CLS]', '진', '##심', '개', '##이', '##쁘', '##네', '[SEP]'], ['[CLS]', '누', '##구', '생', '##각', '##나', '##네', '비', '##서', '##로', '여자', '##로', '[SEP]'], ['[CLS]', '[UNK]', '[SEP]'], ['[CLS]', '신', '##성', '##록', '역', '##할', '##은', '목', '##소', '##리', '엄', '##청', '낮', '##은', '사람이', '하', '##면', '더', '어', '##울', '##렸', '##을', '##듯', '신', '##성', '##록', '##은', '너', '##무', '가', '##벼', '##움', '[SEP]'], ['[CLS]', '왜', '##항', '##상', '드라마', '##는', '빙', '##빙', '##저', '##래', '##도', '##노', '[SEP]'], ['[CLS]', '이', '##엘', '##리', '##야', '이', '##쁜', '##데', '왜', '##이', '##런', '##역', '##할', '##하지', '[SEP]'], ['[CLS]', '무', '##리', '##없', '##는', '드라마', '##될', '##듯', '##대', '##박', '##나', '##길', '##더', '##로', '##사', '##스', '##토', '##어', '##팜', '구', '##경', '##오', '##세', '##요', '##예', '##쁜', '##옷', '##있', '##어', '##요', '[SEP]'], ['[CLS]', '임', '##성', '##한', '작', '##가는', '쓰', '##면서', '##도', '이', '##건', '아', '##니', '##지', '너', '##무', '심', '##하지', '했', '##지만', '만', '##에', '하', '##나', '상', '##대', '드라마', '##가', '마지막', '회', '프', '##리', '##미', '##엄', '##을', '얻', '##어', '프로', '##라', '##도', '우', '##리', '드라마', '##를', '앞', '##서', '##면', '그', '드라마', '##는', '결국', '우', '##리', '드라마', '##를', '이', '##기', '##고', '끝', '##난', '게', '되', '##기', '때문에', '그', '##동안', '##의', '내', '고', '##생', '##과', '노', '##력이', '수', '##포', '##로', '돌', '##아', '##갈', '수', '##밖', '##에', '없', '##어', '눈', '##물을', '머', '##금', '##고', '에', '##피', '##소', '##드를', '동', '##원', '##했다', '##고', '밝혔다', '임', '작', '##가는', '자신의', '이', '##같', '##은', '행', '##동을', '악', '##행', '##이', '##라', '표', '##현', '##하기도', '했다', '[UNK]', '김', '##순', '##옥', '##도', '임', '##성', '##한', '드', '##작', '은', '##퇴', '##하고', '털', '##어', '##놓', '##는', '##이', '##야', '##기', '시', '##청', '##률', '##위', '##해', '독', '##약', '풀', '##라고', '방송', '##국', '##에서', '전', '##화', '##오', '##면', '사', '##람', '##죽', '##이고', '사', '##고', '##내', '##고', '[UNK]', '시', '##청', '##률', '##이', '진', '##정', '다', '##냐', '[SEP]'], ['[CLS]', '저', '##여', '##자', '[UNK]', '[UNK]', '[SEP]'], ['[CLS]', '[UNK]', '[UNK]', '[SEP]'], ['[CLS]', '너', '##무', '마', '##르', '##셔', '##서', '살', '##좀', '##더', '##찌', '##면', '나', '##을', '##거', '##같', '##아', '##요', '[SEP]'], ['[CLS]', '아', '느', '##끼', '##해', '[SEP]'], ['[CLS]', '김', '##순', '##옥', '진', '##화', '##한', '귀', '##여', '##니', '##같', '##은', '인', '##간', '[SEP]'], ['[CLS]', '첫', '##방', '##부터', '너', '##무', '좀', '그', '##렇', '##다', '[SEP]'], ['[CLS]', '나', '##만', '이어', '##폰', '한', '##쪽', '##만', '[UNK]', '[SEP]'], ['[CLS]', '신', '##성', '##록', '아', '##내', '##가', '이', '##거', '##보', '##면', '속', '뒤', '##집', '##어', '##질', '듯', '[SEP]'], ['[CLS]', '신', '##성', '##록', '존', '##잘', '어', '##깨', '##선', '대', '##박', '그', '##런', '##데', '목', '##걸', '##이', '##랑', '목', '##폴', '##라는', '버', '##려', '[SEP]'], ['[CLS]', '근', '##데', '##무', '##서', '##워', '[SEP]'], ['[CLS]', '대', '##사', '개', '##오', '##글', '[SEP]'], ['[CLS]', '신', '##성', '##록', '이런', '##역', '##들', '그', '##만', '##좀', '[UNK]', '죽', '##어', '##야', '##사는', '##남', '##자', '같은', '드라마', '##때', '##는', '너', '##무', '[UNK]', '이미', '##지', '변', '##신', '##이', '필', '##요', '##할', '##때', '인', '##듯', '[SEP]'], ['[CLS]', '얘', '##는', '왜', '이런', '##역', '##할', '##만', '해', '[SEP]'], ['[CLS]', '신', '##성', '##록', '이', '##마', '##주', '##름이', '##랑', '[UNK]', '[UNK]', '[SEP]'], ['[CLS]', '으', '##악', '[SEP]'], ['[CLS]', '혼', '##자', '보', '##길', '망', '##정이', '##지', '가', '##족', '##들', '같이', '있', '##었', '##음', '민', '##망', '##해서', '##죽', '##을', '##뻔', '[SEP]'], ['[CLS]', '박', '##력', '##과', '분', '##위', '##기', '때문에', '계속', '놀', '##람', '[SEP]'], ['[CLS]', '오', '##우', '##야', '오', '##우', '##야', '[SEP]'], ['[CLS]', '근', '##데', '포', '##스터', '##에', '대한민국', '이라고', '[UNK]', '[SEP]'], ['[CLS]', '나', '##라', '##님', '연', '##기', '넘', '자', '##연', '##스', '##럽', '##자', '##나', '[UNK]', '[SEP]'], ['[CLS]', '사', '##랑', '##스', '##럽', '##네', '##요', '진', '##짜', '대', '##단', '##해', '##요', '[SEP]'], ['[CLS]', '장', '##나라', '정', '##말', '이', '##쁘', '##네', '안', '##늙', '##어', '[UNK]', '[SEP]'], ['[CLS]', '써', '##니', '성', '##격', '좋', '##네', '[SEP]'], ['[CLS]', '장', '##나라', '화', '##이', '##팅', '[SEP]'], ['[CLS]', '이', '##쁘', '##다', '넘', '##넘', '[SEP]'], ['[CLS]', '동안', '##미', '##녀', '나', '##라', '##언', '##니', '[SEP]'], ['[CLS]', '보', '##기', '##만', '##해', '##도', '에', '##너', '##지', '[UNK]', '넘', '이', '##쁘', '##고', '귀', '##여', '##워', '[SEP]'], ['[CLS]', '김', '##종', '##구', '배우', '[UNK]', '[SEP]'], ['[CLS]', '[UNK]', '[UNK]', '[SEP]'], ['[CLS]', '나', '##라', '##짱', '[SEP]'], ['[CLS]', '화', '##장하는', '##거나', '##올', '##때', '예', '##뻐', '##서', '##놀', '##랐', '##네', '##요', '귀', '##여', '##운', '오', '##써', '##니', '[SEP]'], ['[CLS]', '[UNK]', '[SEP]'], ['[CLS]', '[UNK]', '[SEP]'], ['[CLS]', '장', '##나라', '김', '##종', '##구', '배우', '##님', '[UNK]', '[SEP]'], ['[CLS]', '김', '##종', '##구', '##배', '##우', '##님', '##이다', '방', '##금', '배', '##니', '##싱', '[UNK]', '[SEP]'], ['[CLS]', '김', '##종', '##구', '##배', '##우', '##님', '[SEP]'], ['[CLS]', '장', '##나라', '진', '##짜', '변', '##하지', '않는', '[UNK]', '헤', '##어', '##스', '##타', '##일', '[UNK]', '[SEP]'], ['[CLS]', '장', '##나라', '미', '##모', '[UNK]', '[SEP]'], ['[CLS]', '근', '##데', '포', '##스터', '##에', '대한민국', '이라고', '[UNK]', '[SEP]'], ['[CLS]', '나', '##라', '##님', '연', '##기', '넘', '자', '##연', '##스', '##럽', '##자', '##나', '[UNK]', '[SEP]'], ['[CLS]', '사', '##랑', '##스', '##럽', '##네', '##요', '진', '##짜', '대', '##단', '##해', '##요', '[SEP]'], ['[CLS]', '장', '##나라', '정', '##말', '이', '##쁘', '##네', '안', '##늙', '##어', '[UNK]', '[SEP]'], ['[CLS]', '써', '##니', '성', '##격', '좋', '##네', '[SEP]'], ['[CLS]', '장', '##나라', '화', '##이', '##팅', '[SEP]'], ['[CLS]', '이', '##쁘', '##다', '넘', '##넘', '[SEP]'], ['[CLS]', '동안', '##미', '##녀', '나', '##라', '##언', '##니', '[SEP]'], ['[CLS]', '보', '##기', '##만', '##해', '##도', '에', '##너', '##지', '[UNK]', '넘', '이', '##쁘', '##고', '귀', '##여', '##워', '[SEP]'], ['[CLS]', '김', '##종', '##구', '배우', '[UNK]', '[SEP]'], ['[CLS]', '[UNK]', '[UNK]', '[SEP]'], ['[CLS]', '나', '##라', '##짱', '[SEP]'], ['[CLS]', '화', '##장하는', '##거나', '##올', '##때', '예', '##뻐', '##서', '##놀', '##랐', '##네', '##요', '귀', '##여', '##운', '오', '##써', '##니', '[SEP]'], ['[CLS]', '[UNK]', '[SEP]'], ['[CLS]', '[UNK]', '[SEP]'], ['[CLS]', '장', '##나라', '김', '##종', '##구', '배우', '##님', '[UNK]', '[SEP]'], ['[CLS]', '김', '##종', '##구', '##배', '##우', '##님', '##이다', '방', '##금', '배', '##니', '##싱', '[UNK]', '[SEP]'], ['[CLS]', '김', '##종', '##구', '##배', '##우', '##님', '[SEP]'], ['[CLS]', '장', '##나라', '진', '##짜', '변', '##하지', '않는', '[UNK]', '헤', '##어', '##스', '##타', '##일', '[UNK]', '[SEP]'], ['[CLS]', '장', '##나라', '미', '##모', '[UNK]', '[SEP]'], ['[CLS]', '장', '##나라', '쥬', '##아', '[SEP]'], ['[CLS]', '나', '##라', '##언', '##니', '[UNK]', '[SEP]'], ['[CLS]', '이', '##엘', '##리', '##야', '너', '##무', '이', '##쁘', '##고', '연', '##기', '잘', '##한다', '[SEP]'], ['[CLS]', '이', '##엘', '##리', '##야', '보', '##살', '##이', '##네', '[SEP]'], ['[CLS]', '헤', '##어', '##지', '##면', '되', '##지', '저', '##때', '##까지', '왜', '만', '##냐', '##나', '[SEP]'], ['[CLS]', '아', '##니', '바', '##람', '##은', '당', '##연', '##히', '싫', '##지', '그리고', '유', '##라', '##년', '저', '##렇게', '끝', '##에', '애', '##교', '##부', '##리', '##면', '##은', '좋은', '줄', '알', '##지', '[UNK]', '[SEP]'], ['[CLS]', '어', '##우', '무', '##섭', '[SEP]'], ['[CLS]', '개', '##불', '##쌍', '##하다', '[UNK]', '살', '##빼', '##든', '말', '##든', '잘', '##생', '##겨', '##지', '##든', '말', '##든', '응', '##원', '하', '##나', '##도', '안', '##된다', '[UNK]', '[SEP]'], ['[CLS]', '[UNK]', '살', '##빼', '##는', '계', '##기가', '인', '##성', '##과', '관련', '##돼', '있어서', '인', '##성', '##도', '좀', '변', '##했', '##으면', '[SEP]'], ['[CLS]', '자', '##기', '구', '##해', '##준', '은', '##인', '##집', '##에', '불', '##지', '##르는', '##것', '##도', '극', '##혐', '[SEP]'], ['[CLS]', '머', '##리에', '##총', '##맞', '##고', '성', '##격', '##변', '##하는', '듯', '[SEP]'], ['[CLS]', '이', '##엘', '##리', '##야', '[UNK]', '[SEP]'], ['[CLS]', '[UNK]', '[SEP]'], ['[CLS]', '남자', '##가', '얼', '##굴', '여', '##부를', '떠', '##나', '문', '##제가', '많', '##아', '보', '##이는', '##데', '##요', '직', '##장', '##앞', '##에서', '[SEP]'], ['[CLS]', '이', '##엘', '##리', '##야', '대', '##박', '##이다', '[SEP]'], ['[CLS]', '남', '##주', '너', '##무', '스', '##토', '##커', '##같', '##음', '[SEP]'], ['[CLS]', '아', '##니', '애', '##초', '##에', '왜', '사', '##귀', '##게', '된', '##건', '##가', '##요', '##이', '##엘', '##리', '##야', '##가', '나', '##쁜', '사', '##람', '##인', '줄', '알', '##았', '##는데', '보', '##살', '##이', '##었', '##네', '[UNK]', '[SEP]'], ['[CLS]', '저', '##정', '##도', '##면', '데', '##이트', '##폭', '##력', '##아', '##니', '##냐', '저', '##건', '##아', '##니다', '[UNK]', '[SEP]'], ['[CLS]', '신', '##은', '##경', '##씨', '좋은', '##연', '##기', '다시', '##볼', '수', '있어서', '감', '##사', '##합', '##니다', '[SEP]'], ['[CLS]', '외', '##모', '##를', '떠', '##나', '##서', '행', '##동', '##이나', '이런', '##게', '진', '##짜', '최', '##악', '##사', '##람', '##들', '많은', '직', '##장에서', '큰', '##소', '##리', '치', '##면서', '부', '##르고', '##집', '##착', '##하고', '[SEP]'], ['[CLS]', '진', '##짜', '열', '##라', '##싫', '##은', '##거', '##같', '##다', '[UNK]', '[UNK]', '[UNK]', '[SEP]'], ['[CLS]', '이', '##엘', '##리', '##야', '넘', '예', '##쁘', '##다', '[SEP]'], ['[CLS]', '이', '##엘', '##리', '##야', '너', '##무', '이', '##쁘', '##고', '연', '##기', '잘', '##한다', '[SEP]'], ['[CLS]', '이', '##엘', '##리', '##야', '보', '##살', '##이', '##네', '[SEP]'], ['[CLS]', '헤', '##어', '##지', '##면', '되', '##지', '저', '##때', '##까지', '왜', '만', '##냐', '##나', '[SEP]'], ['[CLS]', '아', '##니', '바', '##람', '##은', '당', '##연', '##히', '싫', '##지', '그리고', '유', '##라', '##년', '저', '##렇게', '끝', '##에', '애', '##교', '##부', '##리', '##면', '##은', '좋은', '줄', '알', '##지', '[UNK]', '[SEP]'], ['[CLS]', '어', '##우', '무', '##섭', '[SEP]'], ['[CLS]', '개', '##불', '##쌍', '##하다', '[UNK]', '살', '##빼', '##든', '말', '##든', '잘', '##생', '##겨', '##지', '##든', '말', '##든', '응', '##원', '하', '##나', '##도', '안', '##된다', '[UNK]', '[SEP]'], ['[CLS]', '[UNK]', '살', '##빼', '##는', '계', '##기가', '인', '##성', '##과', '관련', '##돼', '있어서', '인', '##성', '##도', '좀', '변', '##했', '##으면', '[SEP]'], ['[CLS]', '자', '##기', '구', '##해', '##준', '은', '##인', '##집', '##에', '불', '##지', '##르는', '##것', '##도', '극', '##혐', '[SEP]'], ['[CLS]', '머', '##리에', '##총', '##맞', '##고', '성', '##격', '##변', '##하는', '듯', '[SEP]'], ['[CLS]', '이', '##엘', '##리', '##야', '[UNK]', '[SEP]'], ['[CLS]', '[UNK]', '[SEP]'], ['[CLS]', '남자', '##가', '얼', '##굴', '여', '##부를', '떠', '##나', '문', '##제가', '많', '##아', '보', '##이는', '##데', '##요', '직', '##장', '##앞', '##에서', '[SEP]'], ['[CLS]', '이', '##엘', '##리', '##야', '대', '##박', '##이다', '[SEP]'], ['[CLS]', '남', '##주', '너', '##무', '스', '##토', '##커', '##같', '##음', '[SEP]'], ['[CLS]', '아', '##니', '애', '##초', '##에', '왜', '사', '##귀', '##게', '된', '##건', '##가', '##요', '##이', '##엘', '##리', '##야', '##가', '나', '##쁜', '사', '##람', '##인', '줄', '알', '##았', '##는데', '보', '##살', '##이', '##었', '##네', '[UNK]', '[SEP]'], ['[CLS]', '저', '##정', '##도', '##면', '데', '##이트', '##폭', '##력', '##아', '##니', '##냐', '저', '##건', '##아', '##니다', '[UNK]', '[SEP]'], ['[CLS]', '신', '##은', '##경', '##씨', '좋은', '##연', '##기', '다시', '##볼', '수', '있어서', '감', '##사', '##합', '##니다', '[SEP]'], ['[CLS]', '외', '##모', '##를', '떠', '##나', '##서', '행', '##동', '##이나', '이런', '##게', '진', '##짜', '최', '##악', '##사', '##람', '##들', '많은', '직', '##장에서', '큰', '##소', '##리', '치', '##면서', '부', '##르고', '##집', '##착', '##하고', '[SEP]'], ['[CLS]', '진', '##짜', '열', '##라', '##싫', '##은', '##거', '##같', '##다', '[UNK]', '[UNK]', '[UNK]', '[SEP]'], ['[CLS]', '이', '##엘', '##리', '##야', '넘', '예', '##쁘', '##다', '[SEP]'], ['[CLS]', '[UNK]', '[SEP]'], ['[CLS]', '외', '##모', '##를', '떠', '##나', '##서', '나', '##왕', '##식', '극', '##혐', '소', '##름', '##돋', '##는다', '어느', '미', '##친', '여자', '##가', '저', '##런', '폭', '##력', '##남', '##에', '집', '##착', '##남', '##을', '좋', '##아', '##하', '##겠', '##냐', '##민', '##유', '##라', '##가', '다', '이', '##해', '##될', '지', '##경', '나', '##라', '##면', '완', '##전', '공', '##포', '##겠', '##다', '눈', '##에', '[UNK]', '없는', '##거', '같은', '##데', '여자', '##가', '떠', '##나', '##겠', '##다고', '하', '##면', '패', '##죽', '##일', '##거', '같은', '[UNK]', '으', '극', '##혐', '[SEP]'], ['[CLS]', '이', '##엘', '##리', '##야', '미', '##모', '[UNK]', '겁', '##나', '이', '##쁘', '##다', '진', '##짜', '[SEP]'], ['[CLS]', '무', '##섭', '##네', '[UNK]', '[UNK]', '[UNK]', '외', '##모', '##만', '변', '##하면', '다', '##야', '스', '##토', '##리', '왜', '##이', '##래', '[SEP]'], ['[CLS]', '나', '##중에', '[UNK]', '목', '##소', '##리', '##도', '거', '##칠', '##고', '눈', '##치', '##없', '##이', '무', '##식', '##하고', '매', '##너', '##없', '##는', '지', '##금', '##의', '나', '##왕', '##식', '##이', '최', '##진', '##혁', '##으로', '바', '##뀐', '##들', '팬', '##들이', '어', '##찌', '호', '##감', '##을', '느', '##낄', '##까', '차', '##라', '##리', '최', '##진', '##혁', '##을', '뚱', '##뚱', '##하게', '분', '##장을', '시', '##키', '##지', '그', '##랬', '##냐', '제작', '##비', '##가', '부', '##족', '##했', '##나', '[SEP]'], ['[CLS]', '아', '##니', '심', '##하', '##노', '살', '##빼', '##고', '##최', '##진', '##혁', '##실', '##화', '[SEP]'], ['[CLS]', '헐', '할', '##말', '##잃', '[SEP]'], ['[CLS]', '바', '##람', '##피', '##는', '##건', '당', '##연', '##히', '못', '참', '##지', '[UNK]', '[SEP]'], ['[CLS]', '최', '##진', '##혁', '배우', '##님', '##만', '기', '##다', '##립', '##니다', '[SEP]'], ['[CLS]', '아', '##니', '대', '##체', '극', '##본', '[UNK]', '[SEP]'], ['[CLS]', '[UNK]', '최', '##진', '##혁', '##이', '저', '##역', '##할', '##햇', '##다', '##며', '##아', '##마', '그', '##냥', '[UNK]', '[SEP]'], ['[CLS]', '[UNK]', '거의', '집', '##착', '##남', '##인', '##데', '절', '##대', '사', '##귀', '##지', '말', '##아', '##야', '##할', '[SEP]'], ['[CLS]', '솔', '##직', '##히', '저', '##런', '##남', '##친', '##은', '외', '##모', '##가', '문', '##제가', '아니라', '집', '##착', '##때', '##문', '##에', '되', '##게', '위', '##험', '##하고', '싫', '##을', '##거', '##같', '##은', '##데', '[SEP]'], ['[CLS]', '남', '##주', '##인', '##공', '최', '##진', '##혁', '##으로', '변', '##하', '##든', '말', '##든', '성', '##격', '극', '##혐', '##임', '여자', '직', '##장', '앞', '##에서', '소', '##리', '[UNK]', '질', '##러', '##대', '##고', '행', '##패', '##부', '##리고', '여자', '##가', '부', '##담', '##스', '##러', '##워', '##하는', '티', '내', '##는데', '##도', '집', '##착', '##에', '모', '##가지', '##를', '[UNK]', '뭐', '##니', '진', '##짜', '싫', '##다', '소', '##름', '##끼', '##쳐', '[SEP]'], ['[CLS]', '아', '##무', '##리', '[UNK]', '않은', '복', '##권', '##이', '##라', '##해', '##도', '태', '##항', '##호', '##에서', '최', '##진', '##혁', '##으로', '바', '##뀌', '##는', '건', '반', '##칙', '[UNK]', '[SEP]'], ['[CLS]', '민', '##유', '##라', '바', '##람', '합', '##법', '[SEP]'], ['[CLS]', '메', '##인', '##남', '##주', '##가', '너', '##무', '문', '##제가', '많', '##네', '각', '##성', '##한다', '##해', '##도', '사', '##람', '본', '##질', '##이', '변', '##할', '##리가', '[SEP]'], ['[CLS]', '태', '##항', '##호', '호', '##블', '##리가', '이', '##딴', '역', '##을', '맡', '##다', '##니', '[UNK]', '[SEP]'], ['[CLS]', '외', '##모', '##가', '잘', '##생', '##겨', '##져', '##도', '저', '인', '##성이', '##면', '문', '##제', '많', '##을', '것', '같은', '##데', '집', '##착', '있어', '보', '##이고', '비', '##정', '##상', '##적인', '사', '##람', '같', '##음', '[SEP]'], ['[CLS]', '장', '##난', '##하', '##나', '역시', '작', '##가는', '기', '##대를', '저', '##버', '##리', '##지', '않', '##네', '역시', '[UNK]', '저', '##게', '무', '##슨', '장', '##난', '##해', '[SEP]'], ['[CLS]', '성', '##형', '##은', '그', '##렇', '##다', '쳐', '##도', '키', '##가', '[UNK]', '페', '##이스', '##오', '##프', '수', '##준', '##이', '아닌', '##데', '[SEP]'], ['[CLS]', '궁', '##금', '##하', '##네', '아', '##냐', '반', '##전', '##이', '##있', '##을', '##것', '##같', '##아', '난', '낼', '##도', '##본', '##방', '##사', '##수', '궁', '##금', '##해', '[SEP]'], ['[CLS]', '와', '##우', '최', '##진', '##혁', '##씨', '빨', '##리', '##나', '##와', '##주', '##세', '##요', '##용', '[SEP]'], ['[CLS]', '태', '##항', '##호', '##배', '##우', '##에서', '최', '##진', '##혁', '##배', '##우', '##로', '나', '##왕', '##식', '##이', '엄', '##마', '##사', '##고', '##를', '파', '##헤', '##치', '##다', '황', '##제', '오', '##른', '##팔', '마', '##필', '##주', '##에게', '위', '##협', '##을', '받고', '그', '##후', '예', '##전', '경', '##호', '##원', '##대', '##장이', '왕', '##식', '##이', '목', '##숨', '##구', '##하고', '변', '##신', '최', '##진', '##혁', '등', '##장', '##입', '##니다', '[SEP]'], ['[CLS]', '살', '빼', '##고', '성', '##형', '##하', '##시', '##고', '최', '##진', '##혁', '##으로', '[UNK]', '나', '##오는', '건', '##가', '##요', '##이', '##런', '뭐', '점', '하', '##나', '찍', '##은', '##것', '보', '##단', '훨', '현', '##실', '##적', '##이', '##긴', '하지만', '허', '##허', '신', '##선', '##하', '##네', '##요', '장', '##나라', '##씨', '##와', '최', '##진', '##혁', '##씨', '##가', '막', '##드', '##에', '나', '##온', '##다', '##니', '[SEP]'], ['[CLS]', '저', '##분', '##이', '각', '##성', '##하고', '살', '##빼', '##서', '최', '##진', '##혁', '##이', '되', '##구', '##너', '[SEP]'], ['[CLS]', '최', '##진', '##혁', '##이', '되는', '##걸', '떠', '##나', '##서', '문', '##제', '많', '##아', '##보', '##이는', '##데', '[SEP]'], ['[CLS]', '아', '##니', '어', '##케', '저', '사람이', '최', '##진', '##혁', '##이', '될', '수', '##가', '있', '##지', '[SEP]'], ['[CLS]', '저', '##분', '##이', '나', '##중에', '살', '##빼', '##서', '최', '##진', '##혁', '##이', '[UNK]', '[SEP]'], ['[CLS]', '극', '##혐', '돈', '##벌', '##기', '##힘', '##들', '##다', '[SEP]'], ['[CLS]', '은', '##근', '소', '##름', '[SEP]'], ['[CLS]', '어', '##우', '[SEP]'], ['[CLS]', '[UNK]', '머', '##금', '##고', '못', '##받', '##았', '##어', '[SEP]'], ['[CLS]', '받', '##았', '##어', '##야', '##지', '[SEP]'], ['[CLS]', '나', '##같', '##으면', '감', '##사', '##합', '##니다', '##하고', '[UNK]', '어', '##차', '##피', '저', '사', '##람', '##들', '다시', '볼', '사', '##람', '##들', '##도', '아', '##니', '##고', '잠', '##깐', '##의', '창', '##피', '##함', '##만', '참', '##으면', '되', '##니', '##까', '[SEP]'], ['[CLS]', '[UNK]', '[SEP]'], ['[CLS]', '저', '나', '##왕', '##식', '##이', '##라고', '써', '##있는', '목', '##걸', '##이를', '써', '##니', '##가', '간', '##직', '##하고', '있다', '##가', '살', '##빼', '##고', '멋', '##있', '##어진', '최', '##진', '##혁', '##이', '발', '##견', '##하게', '되는', '내', '##용이', '나', '##올', '것', '같', '##아', '##요', '[SEP]'], ['[CLS]', '황', '##후', '##는', '장', '##나라', '##가', '나', '##서', '##줘', '##야', '재', '##미', '##질', '##듯', '##장', '##나라', '##는', '모두', '##랑', '케', '##미', '괜', '##찮', '##네', '[SEP]'], ['[CLS]', '장', '##나라', '태', '##후', '##랑', '케', '##미', '있', '##네', '##나', '##중에', '대', '##결', '기', '##대', '##된다', '[SEP]'], ['[CLS]', '장', '##나라', '##연', '##기', '##스', '##탈', '##질', '##려', '[SEP]'], ['[CLS]', '명', '##랑', '##성', '##공', '##기', '##였', '##나', '그', '##때', '##랑', '연', '##기', '##력이', '##나', '톤', '##이나', '똑', '##같', '##다', '[SEP]'], ['[CLS]', '나', '##라', '##짱', '[UNK]', '나', '##라', '##짱', '##의', '시', '##간', '##만', '거', '##꾸', '##로', '[UNK]', '[SEP]'], ['[CLS]', '돈', '##도', '잘', '못', '##벌', '##텐', '##데', '[UNK]', '챙', '##기', '##지', '[SEP]'], ['[CLS]', '위', '##로', '##금', '##을', '누', '##가', '저', '##딴', '##식으로', '주', '##냐', '치', '##료', '##비', '일', '##체', '##보', '##상이', '기', '##본', '##이지', '황', '##제', '##테', '##러', '##에', '같이', '있던', '민', '##간', '##인은', '치', '##료', '##만', '##해', '##준', '##다', '쳐', '##도', '장', '##나라', '##는', '황', '##제의', '목', '##숨', '##을', '구', '##했다', '##고', '언', '##론', '##에서', '인', '##터', '##뷰', '##하', '##려', '##고', '득', '##달', '##같', '##이', '붙', '##는', '장', '##면', '##이', '나', '##와', '##야', '되는', '##데', '입', '##헌', '##군', '##주', '##국', '##에서', '저', '##렇게', '언', '##론', '##을', '[UNK]', '말', '##이', '되', '##나', '파', '##파', '##라', '##치가', '기', '##본', '##인', '##데', '[SEP]'], ['[CLS]', '[UNK]', '귀', '##여', '##워', '나', '##같', '##으면', '철', '##판', '##깔', '##고', '받', '##을', '##텐', '##데', '[SEP]'], ['[CLS]', '[UNK]', '얼', '##른', '챙', '##겼', '##어', '##야', '##지', '자', '##존', '##심', '##이', '[UNK]', '황', '##실', '##은', '애', '##초', '##에', '줄', '생', '##각', '##이', '없', '##었', '##나', '##본', '##데', '저', '##걸', '받', '##았', '##어', '##야', '##지', '태', '##후', '##는', '태', '##후', '##네', '[UNK]', '악', '##의', '기', '##운', '##이', '[UNK]', '[SEP]'], ['[CLS]', '저', '##라', '##두', '그', '##냥', '챙', '##겼', '##을', '##것', '[UNK]', '나', '##라', '##언', '##니', '완', '##전', '[UNK]', '[SEP]'], ['[CLS]', '다', '##들', '왜', '[UNK]', '[SEP]'], ['[CLS]', '[UNK]', '나', '##라', '##짱', '[SEP]'], ['[CLS]', '[UNK]', '귀', '##여', '##워', '[UNK]', '[SEP]'], ['[CLS]', '[UNK]', '[SEP]'], ['[CLS]', '자', '##존', '##심', '##이', '뭐', '##라고', '[UNK]', '[UNK]', '[SEP]'], ['[CLS]', '[UNK]', '머', '##금', '##고', '못', '##받', '##았', '##어', '[SEP]'], ['[CLS]', '받', '##았', '##어', '##야', '##지', '[SEP]'], ['[CLS]', '나', '##같', '##으면', '감', '##사', '##합', '##니다', '##하고', '[UNK]', '어', '##차', '##피', '저', '사', '##람', '##들', '다시', '볼', '사', '##람', '##들', '##도', '아', '##니', '##고', '잠', '##깐', '##의', '창', '##피', '##함', '##만', '참', '##으면', '되', '##니', '##까', '[SEP]'], ['[CLS]', '[UNK]', '[SEP]'], ['[CLS]', '저', '나', '##왕', '##식', '##이', '##라고', '써', '##있는', '목', '##걸', '##이를', '써', '##니', '##가', '간', '##직', '##하고', '있다', '##가', '살', '##빼', '##고', '멋', '##있', '##어진', '최', '##진', '##혁', '##이', '발', '##견', '##하게', '되는', '내', '##용이', '나', '##올', '것', '같', '##아', '##요', '[SEP]'], ['[CLS]', '황', '##후', '##는', '장', '##나라', '##가', '나', '##서', '##줘', '##야', '재', '##미', '##질', '##듯', '##장', '##나라', '##는', '모두', '##랑', '케', '##미', '괜', '##찮', '##네', '[SEP]'], ['[CLS]', '장', '##나라', '태', '##후', '##랑', '케', '##미', '있', '##네', '##나', '##중에', '대', '##결', '기', '##대', '##된다', '[SEP]'], ['[CLS]', '장', '##나라', '##연', '##기', '##스', '##탈', '##질', '##려', '[SEP]'], ['[CLS]', '명', '##랑', '##성', '##공', '##기', '##였', '##나', '그', '##때', '##랑', '연', '##기', '##력이', '##나', '톤', '##이나', '똑', '##같', '##다', '[SEP]'], ['[CLS]', '나', '##라', '##짱', '[UNK]', '나', '##라', '##짱', '##의', '시', '##간', '##만', '거', '##꾸', '##로', '[UNK]', '[SEP]'], ['[CLS]', '돈', '##도', '잘', '못', '##벌', '##텐', '##데', '[UNK]', '챙', '##기', '##지', '[SEP]'], ['[CLS]', '위', '##로', '##금', '##을', '누', '##가', '저', '##딴', '##식으로', '주', '##냐', '치', '##료', '##비', '일', '##체', '##보', '##상이', '기', '##본', '##이지', '황', '##제', '##테', '##러', '##에', '같이', '있던', '민', '##간', '##인은', '치', '##료', '##만', '##해', '##준', '##다', '쳐', '##도', '장', '##나라', '##는', '황', '##제의', '목', '##숨', '##을', '구', '##했다', '##고', '언', '##론', '##에서', '인', '##터', '##뷰', '##하', '##려', '##고', '득', '##달', '##같', '##이', '붙', '##는', '장', '##면', '##이', '나', '##와', '##야', '되는', '##데', '입', '##헌', '##군', '##주', '##국', '##에서', '저', '##렇게', '언', '##론', '##을', '[UNK]', '말', '##이', '되', '##나', '파', '##파', '##라', '##치가', '기', '##본', '##인', '##데', '[SEP]'], ['[CLS]', '[UNK]', '귀', '##여', '##워', '나', '##같', '##으면', '철', '##판', '##깔', '##고', '받', '##을', '##텐', '##데', '[SEP]'], ['[CLS]', '[UNK]', '얼', '##른', '챙', '##겼', '##어', '##야', '##지', '자', '##존', '##심', '##이', '[UNK]', '황', '##실', '##은', '애', '##초', '##에', '줄', '생', '##각', '##이', '없', '##었', '##나', '##본', '##데', '저', '##걸', '받', '##았', '##어', '##야', '##지', '태', '##후', '##는', '태', '##후', '##네', '[UNK]', '악', '##의', '기', '##운', '##이', '[UNK]', '[SEP]'], ['[CLS]', '저', '##라', '##두', '그', '##냥', '챙', '##겼', '##을', '##것', '[UNK]', '나', '##라', '##언', '##니', '완', '##전', '[UNK]', '[SEP]'], ['[CLS]', '다', '##들', '왜', '[UNK]', '[SEP]'], ['[CLS]', '[UNK]', '나', '##라', '##짱', '[SEP]'], ['[CLS]', '[UNK]', '귀', '##여', '##워', '[UNK]', '[SEP]'], ['[CLS]', '[UNK]', '[SEP]'], ['[CLS]', '자', '##존', '##심', '##이', '뭐', '##라고', '[UNK]', '[UNK]', '[SEP]'], ['[CLS]', '[UNK]', '[SEP]'], ['[CLS]', '그', '##냥', '##가', '##져', '##가지', '##는', '아', '##깝', '##다', '황', '##실', '##측', '##도', '줄', '##마', '##음', '##이', '없', '##구', '##만', '[SEP]'], ['[CLS]', '나', '##같', '##으면', '[UNK]', '[SEP]'], ['[CLS]', '[UNK]', '[SEP]'], ['[CLS]', '와', '이', '##엘', '##리', '##야', '어떤', '##연', '##기는', '진', '##짜', '잘', '##하는', '##데', '어떤', '##연', '##기는', '너', '##무', '부', '##자', '##연', '##스', '##럽', '##게', '하고', '[SEP]'], ['[CLS]', '이', '##엘', '##리아', '이', '##거', '[UNK]', '신', '##애', '##리', '##양', '##달', '##희', '[UNK]', '[SEP]'], ['[CLS]', '이', '##거', '작', '##가', '##가', '임', '##성', '##한', '##인', '##가', '##요', '[UNK]', '[UNK]', '[SEP]'], ['[CLS]', '나', '##왕', '##식', '##이', '민', '##유', '##리', '##보', '##고', '자', '##기', '##한', '##테', '시', '##집', '##오', '##라고', '##했', '##는데', '나', '##동', '##식은', '##또', '뭐', '##임', '[SEP]'], ['[CLS]', '후에', '소', '##름', '##돋', '##는', '최', '##진', '##혁', '##님', '복', '##수', '기', '##대', '##해', '##요', '[SEP]'], ['[CLS]', '처', '##절', '##한', '연', '##기', '너', '##무', '잘', '##한다', '이', '##엘', '##리', '##야', '이', '##렇게', '##까지', '연', '##기', '##잘', '##하는', '##줄', '몰', '##랐다', '[SEP]'], ['[CLS]', '임', '##성', '##한', '작', '##가는', '쓰', '##면서', '##도', '이', '##건', '아', '##니', '##지', '너', '##무', '심', '##하지', '했', '##지만', '만', '##에', '하', '##나', '상', '##대', '드라마', '##가', '마지막', '회', '프', '##리', '##미', '##엄', '##을', '얻', '##어', '프로', '##라', '##도', '우', '##리', '드라마', '##를', '앞', '##서', '##면', '그', '드라마', '##는', '결국', '우', '##리', '드라마', '##를', '이', '##기', '##고', '끝', '##난', '게', '되', '##기', '때문에', '그', '##동안', '##의', '내', '고', '##생', '##과', '노', '##력이', '수', '##포', '##로', '돌', '##아', '##갈', '수', '##밖', '##에', '없', '##어', '눈', '##물을', '머', '##금', '##고', '에', '##피', '##소', '##드를', '동', '##원', '##했다', '##고', '밝혔다', '임', '작', '##가는', '자신의', '이', '##같', '##은', '행', '##동을', '악', '##행', '##이', '##라', '표', '##현', '##하기도', '했다', '[UNK]', '김', '##순', '##옥', '##도', '임', '##성', '##한', '드', '##작', '은', '##퇴', '##하고', '털', '##어', '##놓', '##는', '##이', '##야', '##기', '시', '##청', '##률', '##위', '##해', '독', '##약', '풀', '##라고', '방송', '##국', '##에서', '전', '##화', '##오', '##면', '사', '##람', '##죽', '##이고', '사', '##고', '##내', '##고', '[UNK]', '시', '##청', '##률', '##이', '진', '##정', '다', '##냐', '[SEP]'], ['[CLS]', '이', '##엘', '##리', '##야', '연', '##기', '##잘', '##한다', '몰', '##입', '##도', '최고', '[SEP]'], ['[CLS]', '왕', '##식', '##이', '[UNK]', '[SEP]'], ['[CLS]', '이야기', '구', '##성이', '[UNK]', '최', '##진', '##혁', '##엄', '##마', '##는', '진', '##짜', '이', '##엘', '##리', '##야', '엄', '##마', '##처럼', '굴', '##어', '자', '##기', '##아', '##들', '##생', '##각', '##하면', '그', '##냥', '자', '##기가', '엘', '##리', '##야', '##보', '##고', '꺼', '##지', '##라고', '연', '##끊', '##고', '아들', '##한', '##테', '##는', '암', '##말', '##안', '##하지', '않', '##나', '누', '##구', '##엄', '##마', '##인', '##지', '[SEP]'], ['[CLS]', '볼', '##수', '##록', '궁', '##금', '##하', '##긴', '##한', '##데', '난', '##솔', '##직', '##히', '저', '##남', '##편', '##이', '부', '##인', '##한', '##테', '딴', '##놈', '##하고', '##만', '##나', '##면', '##죽', '##인', '##다고', '##한', '##말', '##보', '##고', '##는', '그', '##런', '##사', '##람', '##이', '##랑', '어', '##떻', '##게', '##사', '##나', '##생', '##각', '##했고', '엄', '##마', '##라는', '##사', '##람', '##이', '저', '##런', '##광', '##경', '##을', '목', '##격', '##하고', '성', '##격', '##뻔', '##히', '##이', '##상', '##한', '##남', '##편', '##한', '##테', '가', '##서', '##말', '##한다', '##는', '##거', '##에도', '이', '##해', '##가', '##되', '##질', '##않', '##는다', '그', '##렇', '##다고', '바', '##람', '##난', '##게', '##잘', '##했다', '##고', '##하는', '##건', '##아', '##니', '##지만', '드라마', '##몰', '##입', '##해서', '생', '##각', '##해', '##보', '##니', '##끔', '##찍', '##하', '##네', '[SEP]'], ['[CLS]', '맥', '##락', '##을', '찾', '##을', '##수', '##없', '##어', '아', '너', '##무', '##했다', '보통', '첫', '##회', '##보', '##고', '나', '##중', '##을', '볼', '##지', '##말', '##지', '결', '##정', '##하는', '##데', '시', '##작', '##이', '영', '자', '##극', '##적인', '장', '##면', '##을', '넣', '##는다', '##고', '다', '끌', '##리는', '##건', '아닌', '##데', '스', '##토', '##리가', '##있', '##어', '##야', '자', '##극', '##적인', '##것', '##도', '시', '##청', '##자', '##한', '##테', '확', '와', '##닿', '##지', '이런', '앞', '##뒤', '##없', '##는', '스', '##토', '##리는', '처음', '##본', '##다', '[SEP]'], ['[CLS]', '참', '##나', '너', '##무', '큰', '##걸', '[UNK]', '로', '##맨', '##스', '##릴', '##러', '어', '##디', '##가', '[SEP]'], ['[CLS]', '[UNK]', '봐', '##야', '알', '##겠', '##지만', '회', '##부터', '무', '##슨', '스', '##토', '##리가', '##이', '##러', '##냐', '[UNK]', '난', '페', '##하라', '##고', '하', '##길', '##래', '음', '##대한', '##제', '##국', '컨', '##셉', '##인', '##가', '하고', '봤', '##는데', '무', '##슨', '페', '##하', '##가', '스', '##마', '##트', '##폰', '[UNK]', '[UNK]', '[SEP]'], ['[CLS]', '[UNK]', '어', '##떻', '##게', '최', '##진', '##혁', '##이', '된다', '##는', '##거', '##야', '##진', '##짜', '[UNK]', '[SEP]'], ['[CLS]', '아', '##무', '##리', '##살', '##을', '##빼', '##면', '잎', '##뻐', '##지고', '멋', '##있', '##어진', '##다', '##지만', '##나', '##왕', '##식', '##이', '##살', '##빼', '##고', '##나', '##면', '최', '##진', '##혁', '##이', '##라', '##니', '[SEP]'], ['[CLS]', '무', '##슨', '내', '##용이', '[UNK]', '[SEP]'], ['[CLS]', '옛', '##날', '궁', '드라마', '생', '##각', '##하며', '딸', '##이', '##랑', '같이', '보다', '화', '##들', '##짝', '##내', '##용이', '인', '##질', '도', '##박', '폭', '##력', '내', '##연', '##관', '##계', '음', '##독', '##살', '##인', '[UNK]', '[SEP]'], ['[CLS]', '연', '##기', '좋', '##다', '[SEP]'], ['[CLS]', '헬', '##로', '##의', '심', '##정이', '이', '##해', '##가', '감', '[SEP]'], ['[CLS]', '이', '##겨', '##서', '돈', '받', '##을', '차', '##례', '아', '##니', '##었', '##나', '돈', '##은', '받고', '쳐', '##들어', '##가지', '[UNK]', '[SEP]'], ['[CLS]', '연', '##기가', '좀', '오', '##바', '##한다', '좀', '자', '##연', '##스', '##럽', '##게', '스', '##테', '##파', '##니', '##야', '[SEP]'], ['[CLS]', '본', '##방', '사', '##운드', '##도', '[UNK]', '왜', '##그', '##래', '노', '##답', '[SEP]'], ['[CLS]', '영', '##상', '소', '##리', '[UNK]', '올', '##리고', '확인', '##좀', '[SEP]'], ['[CLS]', '힘', '##내', '[SEP]'], ['[CLS]', '[UNK]', '[SEP]']]\n",
            "0\n"
          ],
          "name": "stdout"
        }
      ]
    },
    {
      "cell_type": "code",
      "metadata": {
        "id": "ORVxHH0A3hKr",
        "colab_type": "code",
        "colab": {}
      },
      "source": [
        "np.save('wordpiece_tokenize_128.npy', input_ids)"
      ],
      "execution_count": 0,
      "outputs": []
    },
    {
      "cell_type": "code",
      "metadata": {
        "id": "Xey9fAVJ3rI6",
        "colab_type": "code",
        "colab": {
          "base_uri": "https://localhost:8080/",
          "height": 323
        },
        "outputId": "e82a02d9-6615-4976-e60a-5ea3e2d099c8"
      },
      "source": [
        "input_ids = np.load('wordpiece_tokenize_128.npy')\n",
        "print(input_ids.shape)\n",
        "input_ids[:1]"
      ],
      "execution_count": 67,
      "outputs": [
        {
          "output_type": "stream",
          "text": [
            "(492, 128)\n"
          ],
          "name": "stdout"
        },
        {
          "output_type": "execute_result",
          "data": {
            "text/plain": [
              "array([[   101,    100,   9284, 109971, 119341,  71568,  68828,  41521,\n",
              "           100,   9281,  52951,  18392,    100,    102,      0,      0,\n",
              "             0,      0,      0,      0,      0,      0,      0,      0,\n",
              "             0,      0,      0,      0,      0,      0,      0,      0,\n",
              "             0,      0,      0,      0,      0,      0,      0,      0,\n",
              "             0,      0,      0,      0,      0,      0,      0,      0,\n",
              "             0,      0,      0,      0,      0,      0,      0,      0,\n",
              "             0,      0,      0,      0,      0,      0,      0,      0,\n",
              "             0,      0,      0,      0,      0,      0,      0,      0,\n",
              "             0,      0,      0,      0,      0,      0,      0,      0,\n",
              "             0,      0,      0,      0,      0,      0,      0,      0,\n",
              "             0,      0,      0,      0,      0,      0,      0,      0,\n",
              "             0,      0,      0,      0,      0,      0,      0,      0,\n",
              "             0,      0,      0,      0,      0,      0,      0,      0,\n",
              "             0,      0,      0,      0,      0,      0,      0,      0,\n",
              "             0,      0,      0,      0,      0,      0,      0,      0]])"
            ]
          },
          "metadata": {
            "tags": []
          },
          "execution_count": 67
        }
      ]
    },
    {
      "cell_type": "code",
      "metadata": {
        "id": "8agV8uOX8CT5",
        "colab_type": "code",
        "colab": {}
      },
      "source": [
        "# Create attention masks\n",
        "attention_masks = []\n",
        "\n",
        "# Create a mask of 1s for each token followed by 0s for padding\n",
        "for seq in input_ids:\n",
        "  seq_mask = [float(i>0) for i in seq]\n",
        "  attention_masks.append(seq_mask)"
      ],
      "execution_count": 0,
      "outputs": []
    },
    {
      "cell_type": "markdown",
      "metadata": {
        "id": "NwIUNatxUKw0",
        "colab_type": "text"
      },
      "source": [
        "## Bert"
      ]
    },
    {
      "cell_type": "markdown",
      "metadata": {
        "colab_type": "text",
        "id": "k_BWb1wy7d9y"
      },
      "source": [
        "### BERT 사용 관련 Hyperparameter Setting"
      ]
    },
    {
      "cell_type": "code",
      "metadata": {
        "colab_type": "code",
        "id": "ngE4dova7d91",
        "colab": {}
      },
      "source": [
        "seed = 42\n",
        "NUM_LABELS = len(df_sample_final['target'].unique()) #2 If ``config.num_labels > 1`` a classification loss is computed (Cross-Entropy)\n",
        "training_epochs = 2\n",
        "lr = 2e-5\n",
        "batch_size = 16 # Select a batch size for training. For fine-tuning BERT on a specific task, the authors recommend a batch size of 16 or 32\n",
        "\n",
        "device = torch.device('cuda') # GPU 사용 setting\n",
        "\n",
        "random.seed(seed)\n",
        "np.random.seed(seed)\n",
        "torch.manual_seed(seed)\n",
        "torch.cuda.manual_seed(seed)\n",
        "torch.backends.cudnn.deterministic = True"
      ],
      "execution_count": 0,
      "outputs": []
    },
    {
      "cell_type": "code",
      "metadata": {
        "id": "kOPzCkIJ8M7j",
        "colab_type": "code",
        "colab": {}
      },
      "source": [
        "# Use train_test_split to split our data into train and validation sets for training\n",
        "train_inputs, test_inputs, train_labels, test_labels = train_test_split(input_ids, labels, random_state=2018, test_size=0.1)\n",
        "train_masks, test_masks, _, _ = train_test_split(attention_masks, input_ids,random_state=seed, test_size=0.1)\n",
        "\n",
        "# Convert all of our data into torch tensors, the required datatype for our model\n",
        "\n",
        "train_inputs = torch.tensor(train_inputs)\n",
        "test_inputs = torch.tensor(test_inputs)\n",
        "train_labels = torch.tensor(train_labels)\n",
        "test_labels = torch.tensor(test_labels)\n",
        "train_masks = torch.tensor(train_masks)\n",
        "test_masks = torch.tensor(test_masks)"
      ],
      "execution_count": 0,
      "outputs": []
    },
    {
      "cell_type": "code",
      "metadata": {
        "id": "_uaF3knUfY_f",
        "colab_type": "code",
        "colab": {}
      },
      "source": [
        "# Create an iterator of our data with torch DataLoader. This helps save on memory during training because, unlike a for loop, \n",
        "# with an iterator the entire dataset does not need to be loaded into memory\n",
        "\n",
        "train_data = TensorDataset(train_inputs, train_masks, train_labels)\n",
        "train_sampler = RandomSampler(train_data)\n",
        "train_dataloader = DataLoader(train_data, sampler=train_sampler, batch_size=batch_size)\n",
        "\n",
        "test_data = TensorDataset(test_inputs, test_masks, test_labels)\n",
        "test_sampler = SequentialSampler(test_data)\n",
        "test_dataloader = DataLoader(test_data, sampler=test_sampler, batch_size=batch_size)"
      ],
      "execution_count": 0,
      "outputs": []
    },
    {
      "cell_type": "code",
      "metadata": {
        "id": "hCiL6TP9-Azg",
        "colab_type": "code",
        "colab": {
          "base_uri": "https://localhost:8080/",
          "height": 53
        },
        "outputId": "e497c8f6-750b-4fba-b179-763b86b80620"
      },
      "source": [
        "!ls ../gdrive/My\\ Drive/data/bert/bert-base-multilingual-cased"
      ],
      "execution_count": 72,
      "outputs": [
        {
          "output_type": "stream",
          "text": [
            "bert-base-multilingual-cased-vocab.txt\tpytorch_model.bin\n",
            "bert_config.json\t\t\tvocab.txt\n"
          ],
          "name": "stdout"
        }
      ]
    },
    {
      "cell_type": "code",
      "metadata": {
        "id": "eSKjJZl_IzLr",
        "colab_type": "code",
        "colab": {
          "base_uri": "https://localhost:8080/",
          "height": 1000
        },
        "outputId": "8dfd5826-bff6-416b-8427-5090420df216"
      },
      "source": [
        "# Load BertForSequenceClassification, the pretrained BERT model with a single linear classification layer on top. \n",
        "model = BertForSequenceClassification.from_pretrained(PRETRAINED_PATH, num_labels=NUM_LABELS)\n",
        "model.cuda()"
      ],
      "execution_count": 73,
      "outputs": [
        {
          "output_type": "execute_result",
          "data": {
            "text/plain": [
              "BertForSequenceClassification(\n",
              "  (bert): BertModel(\n",
              "    (embeddings): BertEmbeddings(\n",
              "      (word_embeddings): Embedding(119547, 768, padding_idx=0)\n",
              "      (position_embeddings): Embedding(512, 768)\n",
              "      (token_type_embeddings): Embedding(2, 768)\n",
              "      (LayerNorm): BertLayerNorm()\n",
              "      (dropout): Dropout(p=0.1, inplace=False)\n",
              "    )\n",
              "    (encoder): BertEncoder(\n",
              "      (layer): ModuleList(\n",
              "        (0): BertLayer(\n",
              "          (attention): BertAttention(\n",
              "            (self): BertSelfAttention(\n",
              "              (query): Linear(in_features=768, out_features=768, bias=True)\n",
              "              (key): Linear(in_features=768, out_features=768, bias=True)\n",
              "              (value): Linear(in_features=768, out_features=768, bias=True)\n",
              "              (dropout): Dropout(p=0.1, inplace=False)\n",
              "            )\n",
              "            (output): BertSelfOutput(\n",
              "              (dense): Linear(in_features=768, out_features=768, bias=True)\n",
              "              (LayerNorm): BertLayerNorm()\n",
              "              (dropout): Dropout(p=0.1, inplace=False)\n",
              "            )\n",
              "          )\n",
              "          (intermediate): BertIntermediate(\n",
              "            (dense): Linear(in_features=768, out_features=3072, bias=True)\n",
              "          )\n",
              "          (output): BertOutput(\n",
              "            (dense): Linear(in_features=3072, out_features=768, bias=True)\n",
              "            (LayerNorm): BertLayerNorm()\n",
              "            (dropout): Dropout(p=0.1, inplace=False)\n",
              "          )\n",
              "        )\n",
              "        (1): BertLayer(\n",
              "          (attention): BertAttention(\n",
              "            (self): BertSelfAttention(\n",
              "              (query): Linear(in_features=768, out_features=768, bias=True)\n",
              "              (key): Linear(in_features=768, out_features=768, bias=True)\n",
              "              (value): Linear(in_features=768, out_features=768, bias=True)\n",
              "              (dropout): Dropout(p=0.1, inplace=False)\n",
              "            )\n",
              "            (output): BertSelfOutput(\n",
              "              (dense): Linear(in_features=768, out_features=768, bias=True)\n",
              "              (LayerNorm): BertLayerNorm()\n",
              "              (dropout): Dropout(p=0.1, inplace=False)\n",
              "            )\n",
              "          )\n",
              "          (intermediate): BertIntermediate(\n",
              "            (dense): Linear(in_features=768, out_features=3072, bias=True)\n",
              "          )\n",
              "          (output): BertOutput(\n",
              "            (dense): Linear(in_features=3072, out_features=768, bias=True)\n",
              "            (LayerNorm): BertLayerNorm()\n",
              "            (dropout): Dropout(p=0.1, inplace=False)\n",
              "          )\n",
              "        )\n",
              "        (2): BertLayer(\n",
              "          (attention): BertAttention(\n",
              "            (self): BertSelfAttention(\n",
              "              (query): Linear(in_features=768, out_features=768, bias=True)\n",
              "              (key): Linear(in_features=768, out_features=768, bias=True)\n",
              "              (value): Linear(in_features=768, out_features=768, bias=True)\n",
              "              (dropout): Dropout(p=0.1, inplace=False)\n",
              "            )\n",
              "            (output): BertSelfOutput(\n",
              "              (dense): Linear(in_features=768, out_features=768, bias=True)\n",
              "              (LayerNorm): BertLayerNorm()\n",
              "              (dropout): Dropout(p=0.1, inplace=False)\n",
              "            )\n",
              "          )\n",
              "          (intermediate): BertIntermediate(\n",
              "            (dense): Linear(in_features=768, out_features=3072, bias=True)\n",
              "          )\n",
              "          (output): BertOutput(\n",
              "            (dense): Linear(in_features=3072, out_features=768, bias=True)\n",
              "            (LayerNorm): BertLayerNorm()\n",
              "            (dropout): Dropout(p=0.1, inplace=False)\n",
              "          )\n",
              "        )\n",
              "        (3): BertLayer(\n",
              "          (attention): BertAttention(\n",
              "            (self): BertSelfAttention(\n",
              "              (query): Linear(in_features=768, out_features=768, bias=True)\n",
              "              (key): Linear(in_features=768, out_features=768, bias=True)\n",
              "              (value): Linear(in_features=768, out_features=768, bias=True)\n",
              "              (dropout): Dropout(p=0.1, inplace=False)\n",
              "            )\n",
              "            (output): BertSelfOutput(\n",
              "              (dense): Linear(in_features=768, out_features=768, bias=True)\n",
              "              (LayerNorm): BertLayerNorm()\n",
              "              (dropout): Dropout(p=0.1, inplace=False)\n",
              "            )\n",
              "          )\n",
              "          (intermediate): BertIntermediate(\n",
              "            (dense): Linear(in_features=768, out_features=3072, bias=True)\n",
              "          )\n",
              "          (output): BertOutput(\n",
              "            (dense): Linear(in_features=3072, out_features=768, bias=True)\n",
              "            (LayerNorm): BertLayerNorm()\n",
              "            (dropout): Dropout(p=0.1, inplace=False)\n",
              "          )\n",
              "        )\n",
              "        (4): BertLayer(\n",
              "          (attention): BertAttention(\n",
              "            (self): BertSelfAttention(\n",
              "              (query): Linear(in_features=768, out_features=768, bias=True)\n",
              "              (key): Linear(in_features=768, out_features=768, bias=True)\n",
              "              (value): Linear(in_features=768, out_features=768, bias=True)\n",
              "              (dropout): Dropout(p=0.1, inplace=False)\n",
              "            )\n",
              "            (output): BertSelfOutput(\n",
              "              (dense): Linear(in_features=768, out_features=768, bias=True)\n",
              "              (LayerNorm): BertLayerNorm()\n",
              "              (dropout): Dropout(p=0.1, inplace=False)\n",
              "            )\n",
              "          )\n",
              "          (intermediate): BertIntermediate(\n",
              "            (dense): Linear(in_features=768, out_features=3072, bias=True)\n",
              "          )\n",
              "          (output): BertOutput(\n",
              "            (dense): Linear(in_features=3072, out_features=768, bias=True)\n",
              "            (LayerNorm): BertLayerNorm()\n",
              "            (dropout): Dropout(p=0.1, inplace=False)\n",
              "          )\n",
              "        )\n",
              "        (5): BertLayer(\n",
              "          (attention): BertAttention(\n",
              "            (self): BertSelfAttention(\n",
              "              (query): Linear(in_features=768, out_features=768, bias=True)\n",
              "              (key): Linear(in_features=768, out_features=768, bias=True)\n",
              "              (value): Linear(in_features=768, out_features=768, bias=True)\n",
              "              (dropout): Dropout(p=0.1, inplace=False)\n",
              "            )\n",
              "            (output): BertSelfOutput(\n",
              "              (dense): Linear(in_features=768, out_features=768, bias=True)\n",
              "              (LayerNorm): BertLayerNorm()\n",
              "              (dropout): Dropout(p=0.1, inplace=False)\n",
              "            )\n",
              "          )\n",
              "          (intermediate): BertIntermediate(\n",
              "            (dense): Linear(in_features=768, out_features=3072, bias=True)\n",
              "          )\n",
              "          (output): BertOutput(\n",
              "            (dense): Linear(in_features=3072, out_features=768, bias=True)\n",
              "            (LayerNorm): BertLayerNorm()\n",
              "            (dropout): Dropout(p=0.1, inplace=False)\n",
              "          )\n",
              "        )\n",
              "        (6): BertLayer(\n",
              "          (attention): BertAttention(\n",
              "            (self): BertSelfAttention(\n",
              "              (query): Linear(in_features=768, out_features=768, bias=True)\n",
              "              (key): Linear(in_features=768, out_features=768, bias=True)\n",
              "              (value): Linear(in_features=768, out_features=768, bias=True)\n",
              "              (dropout): Dropout(p=0.1, inplace=False)\n",
              "            )\n",
              "            (output): BertSelfOutput(\n",
              "              (dense): Linear(in_features=768, out_features=768, bias=True)\n",
              "              (LayerNorm): BertLayerNorm()\n",
              "              (dropout): Dropout(p=0.1, inplace=False)\n",
              "            )\n",
              "          )\n",
              "          (intermediate): BertIntermediate(\n",
              "            (dense): Linear(in_features=768, out_features=3072, bias=True)\n",
              "          )\n",
              "          (output): BertOutput(\n",
              "            (dense): Linear(in_features=3072, out_features=768, bias=True)\n",
              "            (LayerNorm): BertLayerNorm()\n",
              "            (dropout): Dropout(p=0.1, inplace=False)\n",
              "          )\n",
              "        )\n",
              "        (7): BertLayer(\n",
              "          (attention): BertAttention(\n",
              "            (self): BertSelfAttention(\n",
              "              (query): Linear(in_features=768, out_features=768, bias=True)\n",
              "              (key): Linear(in_features=768, out_features=768, bias=True)\n",
              "              (value): Linear(in_features=768, out_features=768, bias=True)\n",
              "              (dropout): Dropout(p=0.1, inplace=False)\n",
              "            )\n",
              "            (output): BertSelfOutput(\n",
              "              (dense): Linear(in_features=768, out_features=768, bias=True)\n",
              "              (LayerNorm): BertLayerNorm()\n",
              "              (dropout): Dropout(p=0.1, inplace=False)\n",
              "            )\n",
              "          )\n",
              "          (intermediate): BertIntermediate(\n",
              "            (dense): Linear(in_features=768, out_features=3072, bias=True)\n",
              "          )\n",
              "          (output): BertOutput(\n",
              "            (dense): Linear(in_features=3072, out_features=768, bias=True)\n",
              "            (LayerNorm): BertLayerNorm()\n",
              "            (dropout): Dropout(p=0.1, inplace=False)\n",
              "          )\n",
              "        )\n",
              "        (8): BertLayer(\n",
              "          (attention): BertAttention(\n",
              "            (self): BertSelfAttention(\n",
              "              (query): Linear(in_features=768, out_features=768, bias=True)\n",
              "              (key): Linear(in_features=768, out_features=768, bias=True)\n",
              "              (value): Linear(in_features=768, out_features=768, bias=True)\n",
              "              (dropout): Dropout(p=0.1, inplace=False)\n",
              "            )\n",
              "            (output): BertSelfOutput(\n",
              "              (dense): Linear(in_features=768, out_features=768, bias=True)\n",
              "              (LayerNorm): BertLayerNorm()\n",
              "              (dropout): Dropout(p=0.1, inplace=False)\n",
              "            )\n",
              "          )\n",
              "          (intermediate): BertIntermediate(\n",
              "            (dense): Linear(in_features=768, out_features=3072, bias=True)\n",
              "          )\n",
              "          (output): BertOutput(\n",
              "            (dense): Linear(in_features=3072, out_features=768, bias=True)\n",
              "            (LayerNorm): BertLayerNorm()\n",
              "            (dropout): Dropout(p=0.1, inplace=False)\n",
              "          )\n",
              "        )\n",
              "        (9): BertLayer(\n",
              "          (attention): BertAttention(\n",
              "            (self): BertSelfAttention(\n",
              "              (query): Linear(in_features=768, out_features=768, bias=True)\n",
              "              (key): Linear(in_features=768, out_features=768, bias=True)\n",
              "              (value): Linear(in_features=768, out_features=768, bias=True)\n",
              "              (dropout): Dropout(p=0.1, inplace=False)\n",
              "            )\n",
              "            (output): BertSelfOutput(\n",
              "              (dense): Linear(in_features=768, out_features=768, bias=True)\n",
              "              (LayerNorm): BertLayerNorm()\n",
              "              (dropout): Dropout(p=0.1, inplace=False)\n",
              "            )\n",
              "          )\n",
              "          (intermediate): BertIntermediate(\n",
              "            (dense): Linear(in_features=768, out_features=3072, bias=True)\n",
              "          )\n",
              "          (output): BertOutput(\n",
              "            (dense): Linear(in_features=3072, out_features=768, bias=True)\n",
              "            (LayerNorm): BertLayerNorm()\n",
              "            (dropout): Dropout(p=0.1, inplace=False)\n",
              "          )\n",
              "        )\n",
              "        (10): BertLayer(\n",
              "          (attention): BertAttention(\n",
              "            (self): BertSelfAttention(\n",
              "              (query): Linear(in_features=768, out_features=768, bias=True)\n",
              "              (key): Linear(in_features=768, out_features=768, bias=True)\n",
              "              (value): Linear(in_features=768, out_features=768, bias=True)\n",
              "              (dropout): Dropout(p=0.1, inplace=False)\n",
              "            )\n",
              "            (output): BertSelfOutput(\n",
              "              (dense): Linear(in_features=768, out_features=768, bias=True)\n",
              "              (LayerNorm): BertLayerNorm()\n",
              "              (dropout): Dropout(p=0.1, inplace=False)\n",
              "            )\n",
              "          )\n",
              "          (intermediate): BertIntermediate(\n",
              "            (dense): Linear(in_features=768, out_features=3072, bias=True)\n",
              "          )\n",
              "          (output): BertOutput(\n",
              "            (dense): Linear(in_features=3072, out_features=768, bias=True)\n",
              "            (LayerNorm): BertLayerNorm()\n",
              "            (dropout): Dropout(p=0.1, inplace=False)\n",
              "          )\n",
              "        )\n",
              "        (11): BertLayer(\n",
              "          (attention): BertAttention(\n",
              "            (self): BertSelfAttention(\n",
              "              (query): Linear(in_features=768, out_features=768, bias=True)\n",
              "              (key): Linear(in_features=768, out_features=768, bias=True)\n",
              "              (value): Linear(in_features=768, out_features=768, bias=True)\n",
              "              (dropout): Dropout(p=0.1, inplace=False)\n",
              "            )\n",
              "            (output): BertSelfOutput(\n",
              "              (dense): Linear(in_features=768, out_features=768, bias=True)\n",
              "              (LayerNorm): BertLayerNorm()\n",
              "              (dropout): Dropout(p=0.1, inplace=False)\n",
              "            )\n",
              "          )\n",
              "          (intermediate): BertIntermediate(\n",
              "            (dense): Linear(in_features=768, out_features=3072, bias=True)\n",
              "          )\n",
              "          (output): BertOutput(\n",
              "            (dense): Linear(in_features=3072, out_features=768, bias=True)\n",
              "            (LayerNorm): BertLayerNorm()\n",
              "            (dropout): Dropout(p=0.1, inplace=False)\n",
              "          )\n",
              "        )\n",
              "      )\n",
              "    )\n",
              "    (pooler): BertPooler(\n",
              "      (dense): Linear(in_features=768, out_features=768, bias=True)\n",
              "      (activation): Tanh()\n",
              "    )\n",
              "  )\n",
              "  (dropout): Dropout(p=0.1, inplace=False)\n",
              "  (classifier): Linear(in_features=768, out_features=2, bias=True)\n",
              ")"
            ]
          },
          "metadata": {
            "tags": []
          },
          "execution_count": 73
        }
      ]
    },
    {
      "cell_type": "code",
      "metadata": {
        "id": "t2--Gr8kLFyD",
        "colab_type": "code",
        "colab": {}
      },
      "source": [
        "param_optimizer = list(model.named_parameters())\n",
        "no_decay = ['bias', 'gamma', 'beta']\n",
        "optimizer_grouped_parameters = [\n",
        "    {'params': [p for n, p in param_optimizer if not any(nd in n for nd in no_decay)],\n",
        "     'weight_decay_rate': 0.01},\n",
        "    {'params': [p for n, p in param_optimizer if any(nd in n for nd in no_decay)],\n",
        "     'weight_decay_rate': 0.0}\n",
        "]"
      ],
      "execution_count": 0,
      "outputs": []
    },
    {
      "cell_type": "code",
      "metadata": {
        "id": "sMkB5nm7GoA9",
        "colab_type": "code",
        "outputId": "e866820c-e2ef-4771-e075-314950765a45",
        "colab": {
          "base_uri": "https://localhost:8080/",
          "height": 35
        }
      },
      "source": [
        "# This variable contains all of the hyperparemeter information our training loop needs\n",
        "optimizer = BertAdam(optimizer_grouped_parameters,lr=2e-5,warmup=.1)"
      ],
      "execution_count": 75,
      "outputs": [
        {
          "output_type": "stream",
          "text": [
            "t_total value of -1 results in schedule not being applied\n"
          ],
          "name": "stderr"
        }
      ]
    },
    {
      "cell_type": "code",
      "metadata": {
        "id": "twe-4xUHvIwk",
        "colab_type": "code",
        "colab": {}
      },
      "source": [
        "# Function to calculate the accuracy of our predictions vs labels\n",
        "def flat_accuracy(preds, labels):\n",
        "    pred_flat = np.argmax(preds, axis=1).flatten()\n",
        "    labels_flat = labels.flatten()\n",
        "    return np.sum(pred_flat == labels_flat) / len(labels_flat)"
      ],
      "execution_count": 0,
      "outputs": []
    },
    {
      "cell_type": "code",
      "metadata": {
        "id": "Hr6ddOojQOy7",
        "colab_type": "code",
        "colab": {
          "base_uri": "https://localhost:8080/",
          "height": 153,
          "referenced_widgets": [
            "1b564b5a710c46ebb6d0ebae325587ef",
            "aa418dab10c24abf81d3609537576a79",
            "1df6380b030d4acb80f8e616148cc58b",
            "2f9a54d63bf245fb94ca60ca9ce79943",
            "29455ca8c7ab4d83b33783708b7622d6",
            "f6f302e9ceae4cddbba19df1b54fbe69",
            "2b47648a344d4a3890e144b7910eacbd",
            "91a07e77533746278859719d593bb826",
            "0d2ba50f079849f9bdde7de3ed4de503",
            "eb91c417e0914676a96550b278f309d4",
            "393396bc279d4654bacfc8ec558e6963",
            "dc7533beb60e4fc18418f7bffeac7b93",
            "b0702bf0b98a4b6d8d2060f1c6293995",
            "ab9157b2da42410497799710329ca438",
            "e9fbe7f0d22f4fc4a06db78d8ce4f98e",
            "970dac8004b84708be00a0f27ae8ad3c"
          ]
        },
        "outputId": "6e533fe8-8271-4981-8148-08bed8a68d72"
      },
      "source": [
        "# Store our loss and accuracy for plotting\n",
        "train_loss_set = []\n",
        "\n",
        "# Number of training epochs (authors recommend between 2 and 4)\n",
        "epochs = 2\n",
        "\n",
        "# trange is a tqdm wrapper around the normal python range\n",
        "for _ in trange(epochs, desc=\"Epoch\"):\n",
        "  \n",
        "  \n",
        "  # Training\n",
        "  \n",
        "  # Set our model to training mode (as opposed to evaluation mode)\n",
        "  model.train()\n",
        "  \n",
        "  # Tracking variables\n",
        "  tr_loss = 0\n",
        "  nb_tr_examples, nb_tr_steps = 0, 0\n",
        "  \n",
        "  # Train the data for one epoch\n",
        "  for step, batch in tqdm_notebook(enumerate(train_dataloader)):\n",
        "    # Add batch to GPU\n",
        "    batch = tuple(t.to(device) for t in batch)\n",
        "    # Unpack the inputs from our dataloader\n",
        "    b_input_ids, b_input_mask, b_labels = batch\n",
        "    # Clear out the gradients (by default they accumulate)\n",
        "    optimizer.zero_grad()\n",
        "    # Forward pass\n",
        "    loss = model(b_input_ids, token_type_ids=None, attention_mask=b_input_mask, labels=b_labels)\n",
        "    train_loss_set.append(loss.item())    \n",
        "    # Backward pass\n",
        "    loss.backward()\n",
        "    # Update parameters and take a step using the computed gradient\n",
        "    optimizer.step()\n",
        "    \n",
        "    \n",
        "    # Update tracking variables\n",
        "    tr_loss += loss.item()\n",
        "    nb_tr_examples += b_input_ids.size(0)\n",
        "    nb_tr_steps += 1\n",
        "\n",
        "  print(\"Train loss: {}\".format(tr_loss/nb_tr_steps))\n",
        "    \n",
        "  # Validation\n",
        "\n",
        "  # Put model in evaluation mode to evaluate loss on the validation set\n",
        "  model.eval()\n",
        "\n",
        "  # Tracking variables \n",
        "  eval_loss, eval_accuracy = 0, 0\n",
        "  nb_eval_steps, nb_eval_examples = 0, 0\n",
        "\n",
        "  # Evaluate data for one epoch\n",
        "  for batch in test_dataloader:\n",
        "    # Add batch to GPU\n",
        "    batch = tuple(t.to(device) for t in batch)\n",
        "    # Unpack the inputs from our dataloader\n",
        "    b_input_ids, b_input_mask, b_labels = batch\n",
        "    # Telling the model not to compute or store gradients, saving memory and speeding up validation\n",
        "    with torch.no_grad():\n",
        "      # Forward pass, calculate logit predictions\n",
        "      logits = model(b_input_ids, token_type_ids=None, attention_mask=b_input_mask)\n",
        "    \n",
        "    # Move logits and labels to CPU\n",
        "    logits = logits.detach().cpu().numpy()\n",
        "    label_ids = b_labels.to('cpu').numpy()\n",
        "\n",
        "    tmp_eval_accuracy = flat_accuracy(logits, label_ids)\n",
        "    \n",
        "    eval_accuracy += tmp_eval_accuracy\n",
        "    nb_eval_steps += 1\n",
        "\n",
        "  print(\"Validation Accuracy: {}\".format(eval_accuracy/nb_eval_steps))"
      ],
      "execution_count": 0,
      "outputs": [
        {
          "output_type": "stream",
          "text": [
            "\rEpoch:   0%|          | 0/2 [00:00<?, ?it/s]"
          ],
          "name": "stderr"
        },
        {
          "output_type": "display_data",
          "data": {
            "application/vnd.jupyter.widget-view+json": {
              "model_id": "1b564b5a710c46ebb6d0ebae325587ef",
              "version_minor": 0,
              "version_major": 2
            },
            "text/plain": [
              "HBox(children=(IntProgress(value=1, bar_style='info', max=1), HTML(value='')))"
            ]
          },
          "metadata": {
            "tags": []
          }
        },
        {
          "output_type": "stream",
          "text": [
            "\n",
            "Train loss: 0.5410628744534084\n"
          ],
          "name": "stdout"
        },
        {
          "output_type": "stream",
          "text": [
            "\rEpoch:  50%|█████     | 1/2 [00:25<00:25, 25.91s/it]"
          ],
          "name": "stderr"
        },
        {
          "output_type": "stream",
          "text": [
            "Validation Accuracy: 0.6875\n"
          ],
          "name": "stdout"
        },
        {
          "output_type": "display_data",
          "data": {
            "application/vnd.jupyter.widget-view+json": {
              "model_id": "0d2ba50f079849f9bdde7de3ed4de503",
              "version_minor": 0,
              "version_major": 2
            },
            "text/plain": [
              "HBox(children=(IntProgress(value=1, bar_style='info', max=1), HTML(value='')))"
            ]
          },
          "metadata": {
            "tags": []
          }
        }
      ]
    },
    {
      "cell_type": "code",
      "metadata": {
        "id": "zKU6jC1k9fLA",
        "colab_type": "code",
        "colab": {}
      },
      "source": [
        "plt.figure(figsize=(15,8))\n",
        "plt.title(\"Training loss\")\n",
        "plt.xlabel(\"Batch\")\n",
        "plt.ylabel(\"Loss\")\n",
        "plt.plot(train_loss_set)\n",
        "plt.show()"
      ],
      "execution_count": 0,
      "outputs": []
    },
    {
      "cell_type": "code",
      "metadata": {
        "id": "TzJUqt5G9HEg",
        "colab_type": "code",
        "colab": {}
      },
      "source": [
        "# Prediction on test set\n",
        "\n",
        "# Put model in evaluation mode\n",
        "model.eval()\n",
        "\n",
        "# Tracking variables \n",
        "predictions , true_labels = [], []\n",
        "\n",
        "# Predict \n",
        "for batch in prediction_dataloader:\n",
        "  # Add batch to GPU\n",
        "  batch = tuple(t.to(device) for t in batch)\n",
        "  # Unpack the inputs from our dataloader\n",
        "  b_input_ids, b_input_mask, b_labels = batch\n",
        "  # Telling the model not to compute or store gradients, saving memory and speeding up prediction\n",
        "  with torch.no_grad():\n",
        "    # Forward pass, calculate logit predictions\n",
        "    logits = model(b_input_ids, token_type_ids=None, attention_mask=b_input_mask)\n",
        "\n",
        "  # Move logits and labels to CPU\n",
        "  logits = logits.detach().cpu().numpy()\n",
        "  label_ids = b_labels.to('cpu').numpy()\n",
        "  \n",
        "  # Store predictions and true labels\n",
        "  predictions.append(logits)\n",
        "  true_labels.append(label_ids)"
      ],
      "execution_count": 0,
      "outputs": []
    },
    {
      "cell_type": "code",
      "metadata": {
        "id": "WNmmhDse9IMn",
        "colab_type": "code",
        "colab": {}
      },
      "source": [
        "test_loader = torch.utils.data.DataLoader(test_dataset, batch_size=batch_size, shuffle=True)\n",
        "\n",
        "model.load_state_dict(torch.load(OUTPUT_MODEL_PATH + 'media_bert_model_'+training_epochs+'.bin'))\n",
        "model.to(device)\n",
        "for param in model.parameters():\n",
        "    param.requires_grad=False\n",
        "\n",
        "bert_eval_net(model, test_loader, device)"
      ],
      "execution_count": 0,
      "outputs": []
    },
    {
      "cell_type": "code",
      "metadata": {
        "id": "2Biqhy-l-StT",
        "colab_type": "code",
        "colab": {}
      },
      "source": [
        "def result_summary(pred_y, real_y):\n",
        "  print(\"Accuracy: {:.4f}\".format(accuracy_score(real_y, pred_y)))\n",
        "  print(\"Confusion Matrix: \\n\", confusion_matrix(real_y, pred_y))\n",
        "  print(\"Classification Report Matrix: \\n\", classification_report(real_y, pred_y, digits=3))\n",
        "\n",
        "  roc_auc = roc_auc_score(real_y, pred_y)\n",
        "  print(\"roc_auc score is : {:.4f}\".format(roc_auc))\n",
        "\n",
        "  fpr, tpr, threshold = roc_curve(real_y, pred_y)\n",
        "  roc_auc = auc(fpr, tpr)\n",
        "\n",
        "  auc_graph(roc_auc, fpr, tpr)\n",
        "\n",
        "def auc_graph(roc_auc, fpr, tpr):\n",
        "  plt.title('Receiver Operating Characteristic')\n",
        "  plt.plot(fpr, tpr, 'b', label = 'AUC = %0.2f' % roc_auc)\n",
        "  plt.legend(loc = 'lower right')\n",
        "  plt.plot([0, 1], [0, 1],'r--')\n",
        "  plt.xlim([0, 1])\n",
        "  plt.ylim([0, 1])\n",
        "  plt.ylabel('True Positive Rate')\n",
        "  plt.xlabel('False Positive Rate')\n",
        "  plt.show()"
      ],
      "execution_count": 0,
      "outputs": []
    },
    {
      "cell_type": "code",
      "metadata": {
        "id": "EyFWv6Z3-Ui8",
        "colab_type": "code",
        "colab": {}
      },
      "source": [
        "import itertools\n",
        "preds_flat = list(itertools.chain(*preds))\n",
        "labels_flat = list(itertools.chain(*labels))\n",
        "\n",
        "result_summary(preds_flat, labels_flat)"
      ],
      "execution_count": 0,
      "outputs": []
    },
    {
      "cell_type": "markdown",
      "metadata": {
        "id": "5QMVH-Ei_Yl0",
        "colab_type": "text"
      },
      "source": [
        ""
      ]
    }
  ]
}