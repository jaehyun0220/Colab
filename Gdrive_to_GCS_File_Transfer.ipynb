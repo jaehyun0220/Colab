{
  "nbformat": 4,
  "nbformat_minor": 0,
  "metadata": {
    "colab": {
      "name": "Gdrive to GCS File Transfer.ipynb",
      "provenance": [],
      "collapsed_sections": [],
      "include_colab_link": true
    },
    "kernelspec": {
      "name": "python3",
      "display_name": "Python 3"
    },
    "accelerator": "TPU"
  },
  "cells": [
    {
      "cell_type": "markdown",
      "metadata": {
        "id": "view-in-github",
        "colab_type": "text"
      },
      "source": [
        "<a href=\"https://colab.research.google.com/github/jaehyun0220/Colab/blob/master/Gdrive_to_GCS_File_Transfer.ipynb\" target=\"_parent\"><img src=\"https://colab.research.google.com/assets/colab-badge.svg\" alt=\"Open In Colab\"/></a>"
      ]
    },
    {
      "cell_type": "code",
      "metadata": {
        "id": "_ztdYjUqsY5b",
        "colab_type": "code",
        "outputId": "5308f79a-6eda-4a27-984c-eb8ab504b07f",
        "colab": {
          "base_uri": "https://localhost:8080/",
          "height": 127
        }
      },
      "source": [
        "from google.colab import drive\n",
        "drive.mount('/content/drive')"
      ],
      "execution_count": 1,
      "outputs": [
        {
          "output_type": "stream",
          "text": [
            "Go to this URL in a browser: https://accounts.google.com/o/oauth2/auth?client_id=947318989803-6bn6qk8qdgf4n4g3pfee6491hc0brc4i.apps.googleusercontent.com&redirect_uri=urn%3aietf%3awg%3aoauth%3a2.0%3aoob&response_type=code&scope=email%20https%3a%2f%2fwww.googleapis.com%2fauth%2fdocs.test%20https%3a%2f%2fwww.googleapis.com%2fauth%2fdrive%20https%3a%2f%2fwww.googleapis.com%2fauth%2fdrive.photos.readonly%20https%3a%2f%2fwww.googleapis.com%2fauth%2fpeopleapi.readonly\n",
            "\n",
            "Enter your authorization code:\n",
            "··········\n",
            "Mounted at /content/drive\n"
          ],
          "name": "stdout"
        }
      ]
    },
    {
      "cell_type": "code",
      "metadata": {
        "id": "7ukNFC77z1C2",
        "colab_type": "code",
        "colab": {
          "base_uri": "https://localhost:8080/",
          "height": 197
        },
        "outputId": "36e93100-0282-48f2-e519-faedfae880f1"
      },
      "source": [
        "from google.colab import auth\n",
        "auth.authenticate_user()\n",
        "\n",
        "project_id = 'gpu-k80-256706'\n",
        "!gcloud config set project {project_id}\n",
        "!gsutil ls"
      ],
      "execution_count": 2,
      "outputs": [
        {
          "output_type": "stream",
          "text": [
            "WARNING:tensorflow:\n",
            "The TensorFlow contrib module will not be included in TensorFlow 2.0.\n",
            "For more information, please see:\n",
            "  * https://github.com/tensorflow/community/blob/master/rfcs/20180907-contrib-sunset.md\n",
            "  * https://github.com/tensorflow/addons\n",
            "  * https://github.com/tensorflow/io (for I/O related ops)\n",
            "If you depend on functionality not listed there, please file an issue.\n",
            "\n",
            "Updated property [core/project].\n",
            "gs://claypark/\n"
          ],
          "name": "stdout"
        }
      ]
    },
    {
      "cell_type": "code",
      "metadata": {
        "id": "DgoOwZtq0Bo1",
        "colab_type": "code",
        "colab": {
          "base_uri": "https://localhost:8080/",
          "height": 557
        },
        "outputId": "a9d345c5-6c1b-467a-d9f9-cfd528b0d031"
      },
      "source": [
        "bucket_name = 'claypark'\n",
        "\n",
        "!gsutil -m cp -r /content/drive/My\\ Drive/output/* gs://{bucket_name}/"
      ],
      "execution_count": 3,
      "outputs": [
        {
          "output_type": "stream",
          "text": [
            "Copying file:///content/drive/My Drive/output/file_ep12.csv [Content-Type=text/csv]...\n",
            "/ [0/28 files][    0.0 B/  8.5 MiB]   0% Done                                   \rCopying file:///content/drive/My Drive/output/file_ep10.csv [Content-Type=text/csv]...\n",
            "/ [0/28 files][    0.0 B/  8.5 MiB]   0% Done                                   \rCopying file:///content/drive/My Drive/output/file_ep11.csv [Content-Type=text/csv]...\n",
            "/ [0/28 files][    0.0 B/  8.5 MiB]   0% Done                                   \rCopying file:///content/drive/My Drive/output/file_ep13.csv [Content-Type=text/csv]...\n",
            "Copying file:///content/drive/My Drive/output/file_ep15.csv [Content-Type=text/csv]...\n",
            "Copying file:///content/drive/My Drive/output/file_ep14.csv [Content-Type=text/csv]...\n",
            "/ [0/28 files][    0.0 B/  8.5 MiB]   0% Done                                   \r/ [0/28 files][    0.0 B/  8.5 MiB]   0% Done                                   \r/ [0/28 files][    0.0 B/  8.5 MiB]   0% Done                                   \rCopying file:///content/drive/My Drive/output/file_ep16.csv [Content-Type=text/csv]...\n",
            "/ [0/28 files][    0.0 B/  8.5 MiB]   0% Done                                   \rCopying file:///content/drive/My Drive/output/file_ep14_1.csv [Content-Type=text/csv]...\n",
            "/ [0/28 files][    0.0 B/  8.5 MiB]   0% Done                                   \rCopying file:///content/drive/My Drive/output/file_ep17.csv [Content-Type=text/csv]...\n",
            "Copying file:///content/drive/My Drive/output/file_ep18.csv [Content-Type=text/csv]...\n",
            "Copying file:///content/drive/My Drive/output/file_ep1.csv [Content-Type=text/csv]...\n",
            "Copying file:///content/drive/My Drive/output/file_ep19.csv [Content-Type=text/csv]...\n",
            "Copying file:///content/drive/My Drive/output/file_ep20.csv [Content-Type=text/csv]...\n",
            "Copying file:///content/drive/My Drive/output/file_ep21.csv [Content-Type=text/csv]...\n",
            "Copying file:///content/drive/My Drive/output/file_ep22.csv [Content-Type=text/csv]...\n",
            "Copying file:///content/drive/My Drive/output/file_ep23.csv [Content-Type=text/csv]...\n",
            "Copying file:///content/drive/My Drive/output/file_ep24.csv [Content-Type=text/csv]...\n",
            "Copying file:///content/drive/My Drive/output/file_ep25.csv [Content-Type=text/csv]...\n",
            "Copying file:///content/drive/My Drive/output/file_ep26.csv [Content-Type=text/csv]...\n",
            "Copying file:///content/drive/My Drive/output/file_ep2.csv [Content-Type=text/csv]...\n",
            "Copying file:///content/drive/My Drive/output/file_ep3.csv [Content-Type=text/csv]...\n",
            "Copying file:///content/drive/My Drive/output/file_ep4.csv [Content-Type=text/csv]...\n",
            "Copying file:///content/drive/My Drive/output/file_ep5.csv [Content-Type=text/csv]...\n",
            "Copying file:///content/drive/My Drive/output/file_ep6.csv [Content-Type=text/csv]...\n",
            "Copying file:///content/drive/My Drive/output/file_ep7.csv [Content-Type=text/csv]...\n",
            "Copying file:///content/drive/My Drive/output/file_ep9.csv [Content-Type=text/csv]...\n",
            "Copying file:///content/drive/My Drive/output/file_ep8.csv [Content-Type=text/csv]...\n",
            "Copying file:///content/drive/My Drive/output/TheLastEmpress.csv [Content-Type=text/csv]...\n",
            "| [28/28 files][  8.5 MiB/  8.5 MiB] 100% Done                                  \n",
            "Operation completed over 28 objects/8.5 MiB.                                     \n"
          ],
          "name": "stdout"
        }
      ]
    },
    {
      "cell_type": "code",
      "metadata": {
        "id": "qTA_0spC0YPM",
        "colab_type": "code",
        "colab": {}
      },
      "source": [
        ""
      ],
      "execution_count": 0,
      "outputs": []
    }
  ]
}