{
  "nbformat": 4,
  "nbformat_minor": 0,
  "metadata": {
    "colab": {
      "name": "jigsaw_v1.ipynb",
      "provenance": []
    },
    "language_info": {
      "codemirror_mode": {
        "name": "ipython",
        "version": 3
      },
      "file_extension": ".py",
      "mimetype": "text/x-python",
      "name": "python",
      "nbconvert_exporter": "python",
      "pygments_lexer": "ipython3",
      "version": "3.5.4"
    },
    "kernelspec": {
      "name": "python3",
      "display_name": "Python 3"
    },
    "accelerator": "GPU"
  },
  "cells": [
    {
      "cell_type": "code",
      "metadata": {
        "id": "EwSigEpsgSCR",
        "colab_type": "code",
        "outputId": "5254b0ba-c6f8-44fb-fcda-41481b5f157f",
        "colab": {
          "base_uri": "https://localhost:8080/",
          "height": 35
        }
      },
      "source": [
        "# 데이터 활용에 필요한 기본 패키지 로딩\n",
        "import sys #access to system parameters \n",
        "import pandas as pd\n",
        "import sklearn #collection of machine learning algorithms\n",
        "import numpy as np #foundational package for scientific computing\n",
        "import tensorflow as tf\n",
        "import keras\n",
        "import os"
      ],
      "execution_count": 1,
      "outputs": [
        {
          "output_type": "stream",
          "text": [
            "Using TensorFlow backend.\n"
          ],
          "name": "stderr"
        }
      ]
    },
    {
      "cell_type": "code",
      "metadata": {
        "id": "55XLlqJ1gSCW",
        "colab_type": "code",
        "colab": {}
      },
      "source": [
        "#데이터 전처리 관련 라이브러리 로드\n",
        "from sklearn import preprocessing\n",
        "from sklearn.preprocessing import MinMaxScaler\n",
        "from sklearn.preprocessing import FunctionTransformer\n",
        "from sklearn.compose import ColumnTransformer\n",
        "from sklearn.pipeline import Pipeline\n",
        "\n",
        "from sklearn.preprocessing import LabelEncoder\n",
        "from sklearn.preprocessing import OneHotEncoder\n",
        "from sklearn.model_selection import ShuffleSplit\n",
        "\n",
        "# Deep Learning Model 로드\n",
        "from keras.models import Sequential\n",
        "from keras.layers import Dense, Dropout, Activation \n",
        "from keras.wrappers.scikit_learn import KerasClassifier\n",
        "\n",
        "#Visualization\n",
        "import matplotlib as mpl\n",
        "import matplotlib.pyplot as plt\n",
        "import seaborn as sns\n",
        "\n",
        "#HyperParameter Tuning을 위한 라이브러리 로드\n",
        "from sklearn.model_selection import GridSearchCV\n",
        "from sklearn.model_selection import RandomizedSearchCV\n",
        "\n",
        "#모델 평가를 위한 라이브러리 로드\n",
        "from sklearn import metrics\n",
        "from sklearn.model_selection import cross_validate\n",
        "from sklearn import model_selection\n",
        "\n",
        "#수학 & 통계 관련 라이브러리 로드\n",
        "import scipy.stats as st\n",
        "from collections import Counter\n",
        "\n",
        "#Configure Visualization Defaults\n",
        "#%matplotlib inline = show plots in Jupyter Notebook browser\n",
        "%matplotlib inline\n",
        "mpl.style.use('ggplot')\n",
        "sns.set_style('white')\n",
        "\n",
        "#ignore warnings\n",
        "import warnings\n",
        "warnings.filterwarnings('ignore')"
      ],
      "execution_count": 0,
      "outputs": []
    },
    {
      "cell_type": "code",
      "metadata": {
        "id": "SCOcsXzdRMsr",
        "colab_type": "code",
        "outputId": "bc7f822d-f39b-43fc-a9f7-d9e95e4fe5a9",
        "colab": {
          "base_uri": "https://localhost:8080/",
          "height": 127
        }
      },
      "source": [
        "# Auth 인증 및 Google Drive 활용 Data load\n",
        "from google.colab import auth\n",
        "auth.authenticate_user()\n",
        "\n",
        "from google.colab import drive\n",
        "drive.mount('/gdrive', force_remount=True)\n",
        "\n",
        "# Google Drive 내 Custom Class 경로 지정\n",
        "import sys\n",
        "sys.path.insert(0, '/gdrive/My Drive/CustomClasses')"
      ],
      "execution_count": 3,
      "outputs": [
        {
          "output_type": "stream",
          "text": [
            "Go to this URL in a browser: https://accounts.google.com/o/oauth2/auth?client_id=947318989803-6bn6qk8qdgf4n4g3pfee6491hc0brc4i.apps.googleusercontent.com&redirect_uri=urn%3Aietf%3Awg%3Aoauth%3A2.0%3Aoob&scope=email%20https%3A%2F%2Fwww.googleapis.com%2Fauth%2Fdocs.test%20https%3A%2F%2Fwww.googleapis.com%2Fauth%2Fdrive%20https%3A%2F%2Fwww.googleapis.com%2Fauth%2Fdrive.photos.readonly%20https%3A%2F%2Fwww.googleapis.com%2Fauth%2Fpeopleapi.readonly&response_type=code\n",
            "\n",
            "Enter your authorization code:\n",
            "··········\n",
            "Mounted at /gdrive\n"
          ],
          "name": "stdout"
        }
      ]
    },
    {
      "cell_type": "code",
      "metadata": {
        "id": "67ZV0skpmas-",
        "colab_type": "code",
        "outputId": "f3400faa-8f33-4f16-c47c-9752141235f7",
        "colab": {
          "base_uri": "https://localhost:8080/",
          "height": 71
        }
      },
      "source": [
        "# !ls /gdrive/My\\ Drive/kaggle\n",
        "!ls /gdrive/My\\ Drive/data"
      ],
      "execution_count": 0,
      "outputs": [
        {
          "output_type": "stream",
          "text": [
            "crawl-300d-2M.vec  glove.840B.300d.txt\t  Study\n",
            "dogs-vs-cats.zip   joongo.csv\t\t  test.csv\n",
            "FashionMNIST\t   sample_submission.csv  train.csv\n"
          ],
          "name": "stdout"
        }
      ]
    },
    {
      "cell_type": "markdown",
      "metadata": {
        "id": "CmaToi7GBWnh",
        "colab_type": "text"
      },
      "source": [
        "# **EDA**"
      ]
    },
    {
      "cell_type": "markdown",
      "metadata": {
        "id": "kKjkZus-8aWt",
        "colab_type": "text"
      },
      "source": [
        "필요한 Package Load 및 학습 데이터 Load"
      ]
    },
    {
      "cell_type": "code",
      "metadata": {
        "id": "CQfcH0ZVPyD6",
        "colab_type": "code",
        "colab": {}
      },
      "source": [
        "df_joongo = pd.read_csv('/gdrive/My Drive/data/joongo.csv', encoding='utf-8')"
      ],
      "execution_count": 0,
      "outputs": []
    },
    {
      "cell_type": "code",
      "metadata": {
        "id": "n6qm862tP4h6",
        "colab_type": "code",
        "outputId": "da1cb64d-df05-48e4-ff1e-a165ce25d5c0",
        "colab": {
          "base_uri": "https://localhost:8080/",
          "height": 391
        }
      },
      "source": [
        "# 데이터 정상 Load 확인\n",
        "display(df_joongo.head())\n",
        "display(df_joongo.tail())"
      ],
      "execution_count": 42,
      "outputs": [
        {
          "output_type": "display_data",
          "data": {
            "text/html": [
              "<div>\n",
              "<style scoped>\n",
              "    .dataframe tbody tr th:only-of-type {\n",
              "        vertical-align: middle;\n",
              "    }\n",
              "\n",
              "    .dataframe tbody tr th {\n",
              "        vertical-align: top;\n",
              "    }\n",
              "\n",
              "    .dataframe thead th {\n",
              "        text-align: right;\n",
              "    }\n",
              "</style>\n",
              "<table border=\"1\" class=\"dataframe\">\n",
              "  <thead>\n",
              "    <tr style=\"text-align: right;\">\n",
              "      <th></th>\n",
              "      <th>NAME</th>\n",
              "      <th>YEAR</th>\n",
              "      <th>KM</th>\n",
              "      <th>PRICE</th>\n",
              "      <th>FUEL</th>\n",
              "    </tr>\n",
              "  </thead>\n",
              "  <tbody>\n",
              "    <tr>\n",
              "      <th>0</th>\n",
              "      <td>아반떼 AD</td>\n",
              "      <td>2016-01-01</td>\n",
              "      <td>99249.0</td>\n",
              "      <td>1050.0</td>\n",
              "      <td>디젤</td>\n",
              "    </tr>\n",
              "    <tr>\n",
              "      <th>1</th>\n",
              "      <td>아반떼 AD</td>\n",
              "      <td>2015-12-01</td>\n",
              "      <td>75806.0</td>\n",
              "      <td>1070.0</td>\n",
              "      <td>가솔린</td>\n",
              "    </tr>\n",
              "    <tr>\n",
              "      <th>2</th>\n",
              "      <td>아반떼 AD</td>\n",
              "      <td>2016-01-01</td>\n",
              "      <td>22335.0</td>\n",
              "      <td>1080.0</td>\n",
              "      <td>가솔린</td>\n",
              "    </tr>\n",
              "    <tr>\n",
              "      <th>3</th>\n",
              "      <td>아반떼 AD</td>\n",
              "      <td>2016-01-01</td>\n",
              "      <td>87339.0</td>\n",
              "      <td>1090.0</td>\n",
              "      <td>디젤</td>\n",
              "    </tr>\n",
              "    <tr>\n",
              "      <th>4</th>\n",
              "      <td>아반떼 AD</td>\n",
              "      <td>2016-03-01</td>\n",
              "      <td>77861.0</td>\n",
              "      <td>1090.0</td>\n",
              "      <td>디젤</td>\n",
              "    </tr>\n",
              "  </tbody>\n",
              "</table>\n",
              "</div>"
            ],
            "text/plain": [
              "     NAME        YEAR       KM   PRICE FUEL\n",
              "0  아반떼 AD  2016-01-01  99249.0  1050.0   디젤\n",
              "1  아반떼 AD  2015-12-01  75806.0  1070.0  가솔린\n",
              "2  아반떼 AD  2016-01-01  22335.0  1080.0  가솔린\n",
              "3  아반떼 AD  2016-01-01  87339.0  1090.0   디젤\n",
              "4  아반떼 AD  2016-03-01  77861.0  1090.0   디젤"
            ]
          },
          "metadata": {
            "tags": []
          }
        },
        {
          "output_type": "display_data",
          "data": {
            "text/html": [
              "<div>\n",
              "<style scoped>\n",
              "    .dataframe tbody tr th:only-of-type {\n",
              "        vertical-align: middle;\n",
              "    }\n",
              "\n",
              "    .dataframe tbody tr th {\n",
              "        vertical-align: top;\n",
              "    }\n",
              "\n",
              "    .dataframe thead th {\n",
              "        text-align: right;\n",
              "    }\n",
              "</style>\n",
              "<table border=\"1\" class=\"dataframe\">\n",
              "  <thead>\n",
              "    <tr style=\"text-align: right;\">\n",
              "      <th></th>\n",
              "      <th>NAME</th>\n",
              "      <th>YEAR</th>\n",
              "      <th>KM</th>\n",
              "      <th>PRICE</th>\n",
              "      <th>FUEL</th>\n",
              "    </tr>\n",
              "  </thead>\n",
              "  <tbody>\n",
              "    <tr>\n",
              "      <th>59</th>\n",
              "      <td>미니</td>\n",
              "      <td>2011-03-01</td>\n",
              "      <td>81554.0</td>\n",
              "      <td>1370.0</td>\n",
              "      <td>가솔린</td>\n",
              "    </tr>\n",
              "    <tr>\n",
              "      <th>60</th>\n",
              "      <td>미니</td>\n",
              "      <td>2013-01-01</td>\n",
              "      <td>127148.0</td>\n",
              "      <td>1440.0</td>\n",
              "      <td>디젤</td>\n",
              "    </tr>\n",
              "    <tr>\n",
              "      <th>61</th>\n",
              "      <td>미니</td>\n",
              "      <td>2014-03-01</td>\n",
              "      <td>67515.0</td>\n",
              "      <td>1770.0</td>\n",
              "      <td>디젤</td>\n",
              "    </tr>\n",
              "    <tr>\n",
              "      <th>62</th>\n",
              "      <td>미니</td>\n",
              "      <td>2014-04-01</td>\n",
              "      <td>87454.0</td>\n",
              "      <td>1880.0</td>\n",
              "      <td>디젤</td>\n",
              "    </tr>\n",
              "    <tr>\n",
              "      <th>63</th>\n",
              "      <td>미니</td>\n",
              "      <td>2016-04-01</td>\n",
              "      <td>37888.0</td>\n",
              "      <td>1940.0</td>\n",
              "      <td>가솔린</td>\n",
              "    </tr>\n",
              "  </tbody>\n",
              "</table>\n",
              "</div>"
            ],
            "text/plain": [
              "   NAME        YEAR        KM   PRICE FUEL\n",
              "59   미니  2011-03-01   81554.0  1370.0  가솔린\n",
              "60   미니  2013-01-01  127148.0  1440.0   디젤\n",
              "61   미니  2014-03-01   67515.0  1770.0   디젤\n",
              "62   미니  2014-04-01   87454.0  1880.0   디젤\n",
              "63   미니  2016-04-01   37888.0  1940.0  가솔린"
            ]
          },
          "metadata": {
            "tags": []
          }
        }
      ]
    },
    {
      "cell_type": "code",
      "metadata": {
        "id": "9b65mfch8tA9",
        "colab_type": "code",
        "outputId": "cb07e988-d318-4ae5-a693-71c184b17a7d",
        "colab": {
          "base_uri": "https://localhost:8080/",
          "height": 323
        }
      },
      "source": [
        "print(\"IS Null ?? \\n\", df_joongo.isnull().any()) # Null 값 체크\n",
        "print(\"--------- \\n joongo null value counts are \\n {}\".format(df_joongo.isnull().sum())) # Null 값 Counting\n",
        "print(\"--------- \\n Train total length is \", len(df_joongo)) # 전체 데이터 Set 길이"
      ],
      "execution_count": 8,
      "outputs": [
        {
          "output_type": "stream",
          "text": [
            "IS Null ?? \n",
            " NAME     False\n",
            "YEAR     False\n",
            "KM       False\n",
            "PRICE    False\n",
            "FUEL     False\n",
            "dtype: bool\n",
            "--------- \n",
            " joongo null value counts are \n",
            " NAME     0\n",
            "YEAR     0\n",
            "KM       0\n",
            "PRICE    0\n",
            "FUEL     0\n",
            "dtype: int64\n",
            "--------- \n",
            " Train total length is  64\n"
          ],
          "name": "stdout"
        }
      ]
    },
    {
      "cell_type": "code",
      "metadata": {
        "id": "zPT8Ig2OqLNH",
        "colab_type": "code",
        "outputId": "f7b37614-612f-43f6-9904-e8609916c9cd",
        "colab": {
          "base_uri": "https://localhost:8080/",
          "height": 143
        }
      },
      "source": [
        "# Unique Value Counting\n",
        "print('# Col Name: Unique Value / Total Size')\n",
        "print(\"-\"*25)\n",
        "\n",
        "for idx, col in enumerate(df_joongo):    \n",
        "    # Unique Variable Check for which columns can be one hot encoding\n",
        "    print(col, ':', df_joongo[col].unique().size, '/', len(df_joongo[col]))  "
      ],
      "execution_count": 9,
      "outputs": [
        {
          "output_type": "stream",
          "text": [
            "# Col Name: Unique Value / Total Size\n",
            "-------------------------\n",
            "NAME : 7 / 64\n",
            "YEAR : 44 / 64\n",
            "KM : 64 / 64\n",
            "PRICE : 55 / 64\n",
            "FUEL : 2 / 64\n"
          ],
          "name": "stdout"
        }
      ]
    },
    {
      "cell_type": "code",
      "metadata": {
        "id": "PODZOVIjFqej",
        "colab_type": "code",
        "outputId": "cd851062-c02d-4794-ad26-01ffb6c01f00",
        "colab": {
          "base_uri": "https://localhost:8080/",
          "height": 323
        }
      },
      "source": [
        "# 데이터들의 기초통계량 체크\n",
        "for col in df_joongo:    \n",
        "    # dataset 수치형 변수 살펴보기\n",
        "    dataset_n_cols = [col for col in df_joongo.columns if df_joongo[col].dtype not in ['O']]\n",
        "    dataset_c_cols = [col for col in df_joongo.columns if df_joongo[col].dtype in ['O']]\n",
        "    \n",
        "print('## Description of Numeric Values in','{}'.format('joongo dataframe'))\n",
        "print(df_joongo[dataset_n_cols].describe())\n",
        "print(\"-\"*50)\n",
        "print('## Description of Categorical Values in','{}'.format('joongo dataframe'))\n",
        "print(df_joongo[dataset_c_cols].describe())"
      ],
      "execution_count": 10,
      "outputs": [
        {
          "output_type": "stream",
          "text": [
            "## Description of Numeric Values in joongo dataframe\n",
            "                  KM        PRICE\n",
            "count      64.000000    64.000000\n",
            "mean    70446.078125  1431.093750\n",
            "std     35005.054878   675.571756\n",
            "min     11705.000000   580.000000\n",
            "25%     39473.500000  1047.500000\n",
            "50%     74433.500000  1325.000000\n",
            "75%     95010.000000  1635.000000\n",
            "max    137925.000000  4190.000000\n",
            "--------------------------------------------------\n",
            "## Description of Categorical Values in joongo dataframe\n",
            "          NAME        YEAR FUEL\n",
            "count       64          64   64\n",
            "unique       7          44    2\n",
            "top     아반떼 AD  2016-01-01   디젤\n",
            "freq        16           5   34\n"
          ],
          "name": "stdout"
        }
      ]
    },
    {
      "cell_type": "markdown",
      "metadata": {
        "id": "kfy0nasv_h1T",
        "colab_type": "text"
      },
      "source": [
        "### Feature Engineering"
      ]
    },
    {
      "cell_type": "code",
      "metadata": {
        "id": "jr9YHli1HK-O",
        "colab_type": "code",
        "colab": {}
      },
      "source": [
        "# Object 형의 데이터들을 Numeric 형태로 변경\n",
        "# Date는 각각 Year, Month, Day로 나누어 String형태로 변경\n",
        "df_joongo['year'] = df_joongo['YEAR'].apply(lambda x: x[:4])\n",
        "df_joongo['month'] = df_joongo['YEAR'].apply(lambda x: x[5:7])\n",
        "df_joongo['day'] = df_joongo['YEAR'].apply(lambda x: x[8:])"
      ],
      "execution_count": 0,
      "outputs": []
    },
    {
      "cell_type": "code",
      "metadata": {
        "id": "q0OmACgtPJBD",
        "colab_type": "code",
        "colab": {
          "base_uri": "https://localhost:8080/",
          "height": 391
        },
        "outputId": "e76a11a8-d430-4736-ce71-f7e87a42ebd2"
      },
      "source": [
        "# 명목형 변수들을 onehot encoding\n",
        "df_onehot = pd.get_dummies(df_joongo, columns=['NAME', 'FUEL']) \n",
        "df_onehot.drop(['YEAR'], axis=1)\n",
        "display(df_onehot.head())\n",
        "display(df_onehot.tail())"
      ],
      "execution_count": 46,
      "outputs": [
        {
          "output_type": "display_data",
          "data": {
            "text/html": [
              "<div>\n",
              "<style scoped>\n",
              "    .dataframe tbody tr th:only-of-type {\n",
              "        vertical-align: middle;\n",
              "    }\n",
              "\n",
              "    .dataframe tbody tr th {\n",
              "        vertical-align: top;\n",
              "    }\n",
              "\n",
              "    .dataframe thead th {\n",
              "        text-align: right;\n",
              "    }\n",
              "</style>\n",
              "<table border=\"1\" class=\"dataframe\">\n",
              "  <thead>\n",
              "    <tr style=\"text-align: right;\">\n",
              "      <th></th>\n",
              "      <th>YEAR</th>\n",
              "      <th>KM</th>\n",
              "      <th>PRICE</th>\n",
              "      <th>year</th>\n",
              "      <th>month</th>\n",
              "      <th>day</th>\n",
              "      <th>NAME_BMW3</th>\n",
              "      <th>NAME_BMW5</th>\n",
              "      <th>NAME_미니</th>\n",
              "      <th>NAME_벤츠C</th>\n",
              "      <th>NAME_아반떼 AD</th>\n",
              "      <th>NAME_아반떼 전버전</th>\n",
              "      <th>NAME_투싼</th>\n",
              "      <th>FUEL_가솔린</th>\n",
              "      <th>FUEL_디젤</th>\n",
              "    </tr>\n",
              "  </thead>\n",
              "  <tbody>\n",
              "    <tr>\n",
              "      <th>0</th>\n",
              "      <td>2016-01-01</td>\n",
              "      <td>99249.0</td>\n",
              "      <td>1050.0</td>\n",
              "      <td>2016</td>\n",
              "      <td>01</td>\n",
              "      <td>01</td>\n",
              "      <td>0</td>\n",
              "      <td>0</td>\n",
              "      <td>0</td>\n",
              "      <td>0</td>\n",
              "      <td>1</td>\n",
              "      <td>0</td>\n",
              "      <td>0</td>\n",
              "      <td>0</td>\n",
              "      <td>1</td>\n",
              "    </tr>\n",
              "    <tr>\n",
              "      <th>1</th>\n",
              "      <td>2015-12-01</td>\n",
              "      <td>75806.0</td>\n",
              "      <td>1070.0</td>\n",
              "      <td>2015</td>\n",
              "      <td>12</td>\n",
              "      <td>01</td>\n",
              "      <td>0</td>\n",
              "      <td>0</td>\n",
              "      <td>0</td>\n",
              "      <td>0</td>\n",
              "      <td>1</td>\n",
              "      <td>0</td>\n",
              "      <td>0</td>\n",
              "      <td>1</td>\n",
              "      <td>0</td>\n",
              "    </tr>\n",
              "    <tr>\n",
              "      <th>2</th>\n",
              "      <td>2016-01-01</td>\n",
              "      <td>22335.0</td>\n",
              "      <td>1080.0</td>\n",
              "      <td>2016</td>\n",
              "      <td>01</td>\n",
              "      <td>01</td>\n",
              "      <td>0</td>\n",
              "      <td>0</td>\n",
              "      <td>0</td>\n",
              "      <td>0</td>\n",
              "      <td>1</td>\n",
              "      <td>0</td>\n",
              "      <td>0</td>\n",
              "      <td>1</td>\n",
              "      <td>0</td>\n",
              "    </tr>\n",
              "    <tr>\n",
              "      <th>3</th>\n",
              "      <td>2016-01-01</td>\n",
              "      <td>87339.0</td>\n",
              "      <td>1090.0</td>\n",
              "      <td>2016</td>\n",
              "      <td>01</td>\n",
              "      <td>01</td>\n",
              "      <td>0</td>\n",
              "      <td>0</td>\n",
              "      <td>0</td>\n",
              "      <td>0</td>\n",
              "      <td>1</td>\n",
              "      <td>0</td>\n",
              "      <td>0</td>\n",
              "      <td>0</td>\n",
              "      <td>1</td>\n",
              "    </tr>\n",
              "    <tr>\n",
              "      <th>4</th>\n",
              "      <td>2016-03-01</td>\n",
              "      <td>77861.0</td>\n",
              "      <td>1090.0</td>\n",
              "      <td>2016</td>\n",
              "      <td>03</td>\n",
              "      <td>01</td>\n",
              "      <td>0</td>\n",
              "      <td>0</td>\n",
              "      <td>0</td>\n",
              "      <td>0</td>\n",
              "      <td>1</td>\n",
              "      <td>0</td>\n",
              "      <td>0</td>\n",
              "      <td>0</td>\n",
              "      <td>1</td>\n",
              "    </tr>\n",
              "  </tbody>\n",
              "</table>\n",
              "</div>"
            ],
            "text/plain": [
              "         YEAR       KM   PRICE  year  ... NAME_아반떼 전버전 NAME_투싼  FUEL_가솔린  FUEL_디젤\n",
              "0  2016-01-01  99249.0  1050.0  2016  ...            0       0         0        1\n",
              "1  2015-12-01  75806.0  1070.0  2015  ...            0       0         1        0\n",
              "2  2016-01-01  22335.0  1080.0  2016  ...            0       0         1        0\n",
              "3  2016-01-01  87339.0  1090.0  2016  ...            0       0         0        1\n",
              "4  2016-03-01  77861.0  1090.0  2016  ...            0       0         0        1\n",
              "\n",
              "[5 rows x 15 columns]"
            ]
          },
          "metadata": {
            "tags": []
          }
        },
        {
          "output_type": "display_data",
          "data": {
            "text/html": [
              "<div>\n",
              "<style scoped>\n",
              "    .dataframe tbody tr th:only-of-type {\n",
              "        vertical-align: middle;\n",
              "    }\n",
              "\n",
              "    .dataframe tbody tr th {\n",
              "        vertical-align: top;\n",
              "    }\n",
              "\n",
              "    .dataframe thead th {\n",
              "        text-align: right;\n",
              "    }\n",
              "</style>\n",
              "<table border=\"1\" class=\"dataframe\">\n",
              "  <thead>\n",
              "    <tr style=\"text-align: right;\">\n",
              "      <th></th>\n",
              "      <th>YEAR</th>\n",
              "      <th>KM</th>\n",
              "      <th>PRICE</th>\n",
              "      <th>year</th>\n",
              "      <th>month</th>\n",
              "      <th>day</th>\n",
              "      <th>NAME_BMW3</th>\n",
              "      <th>NAME_BMW5</th>\n",
              "      <th>NAME_미니</th>\n",
              "      <th>NAME_벤츠C</th>\n",
              "      <th>NAME_아반떼 AD</th>\n",
              "      <th>NAME_아반떼 전버전</th>\n",
              "      <th>NAME_투싼</th>\n",
              "      <th>FUEL_가솔린</th>\n",
              "      <th>FUEL_디젤</th>\n",
              "    </tr>\n",
              "  </thead>\n",
              "  <tbody>\n",
              "    <tr>\n",
              "      <th>59</th>\n",
              "      <td>2011-03-01</td>\n",
              "      <td>81554.0</td>\n",
              "      <td>1370.0</td>\n",
              "      <td>2011</td>\n",
              "      <td>03</td>\n",
              "      <td>01</td>\n",
              "      <td>0</td>\n",
              "      <td>0</td>\n",
              "      <td>1</td>\n",
              "      <td>0</td>\n",
              "      <td>0</td>\n",
              "      <td>0</td>\n",
              "      <td>0</td>\n",
              "      <td>1</td>\n",
              "      <td>0</td>\n",
              "    </tr>\n",
              "    <tr>\n",
              "      <th>60</th>\n",
              "      <td>2013-01-01</td>\n",
              "      <td>127148.0</td>\n",
              "      <td>1440.0</td>\n",
              "      <td>2013</td>\n",
              "      <td>01</td>\n",
              "      <td>01</td>\n",
              "      <td>0</td>\n",
              "      <td>0</td>\n",
              "      <td>1</td>\n",
              "      <td>0</td>\n",
              "      <td>0</td>\n",
              "      <td>0</td>\n",
              "      <td>0</td>\n",
              "      <td>0</td>\n",
              "      <td>1</td>\n",
              "    </tr>\n",
              "    <tr>\n",
              "      <th>61</th>\n",
              "      <td>2014-03-01</td>\n",
              "      <td>67515.0</td>\n",
              "      <td>1770.0</td>\n",
              "      <td>2014</td>\n",
              "      <td>03</td>\n",
              "      <td>01</td>\n",
              "      <td>0</td>\n",
              "      <td>0</td>\n",
              "      <td>1</td>\n",
              "      <td>0</td>\n",
              "      <td>0</td>\n",
              "      <td>0</td>\n",
              "      <td>0</td>\n",
              "      <td>0</td>\n",
              "      <td>1</td>\n",
              "    </tr>\n",
              "    <tr>\n",
              "      <th>62</th>\n",
              "      <td>2014-04-01</td>\n",
              "      <td>87454.0</td>\n",
              "      <td>1880.0</td>\n",
              "      <td>2014</td>\n",
              "      <td>04</td>\n",
              "      <td>01</td>\n",
              "      <td>0</td>\n",
              "      <td>0</td>\n",
              "      <td>1</td>\n",
              "      <td>0</td>\n",
              "      <td>0</td>\n",
              "      <td>0</td>\n",
              "      <td>0</td>\n",
              "      <td>0</td>\n",
              "      <td>1</td>\n",
              "    </tr>\n",
              "    <tr>\n",
              "      <th>63</th>\n",
              "      <td>2016-04-01</td>\n",
              "      <td>37888.0</td>\n",
              "      <td>1940.0</td>\n",
              "      <td>2016</td>\n",
              "      <td>04</td>\n",
              "      <td>01</td>\n",
              "      <td>0</td>\n",
              "      <td>0</td>\n",
              "      <td>1</td>\n",
              "      <td>0</td>\n",
              "      <td>0</td>\n",
              "      <td>0</td>\n",
              "      <td>0</td>\n",
              "      <td>1</td>\n",
              "      <td>0</td>\n",
              "    </tr>\n",
              "  </tbody>\n",
              "</table>\n",
              "</div>"
            ],
            "text/plain": [
              "          YEAR        KM   PRICE  ... NAME_투싼 FUEL_가솔린 FUEL_디젤\n",
              "59  2011-03-01   81554.0  1370.0  ...       0        1       0\n",
              "60  2013-01-01  127148.0  1440.0  ...       0        0       1\n",
              "61  2014-03-01   67515.0  1770.0  ...       0        0       1\n",
              "62  2014-04-01   87454.0  1880.0  ...       0        0       1\n",
              "63  2016-04-01   37888.0  1940.0  ...       0        1       0\n",
              "\n",
              "[5 rows x 15 columns]"
            ]
          },
          "metadata": {
            "tags": []
          }
        }
      ]
    },
    {
      "cell_type": "code",
      "metadata": {
        "id": "vHrDEp_sPI7M",
        "colab_type": "code",
        "colab": {
          "base_uri": "https://localhost:8080/",
          "height": 516
        },
        "outputId": "24f22ebb-ce56-449d-8ae8-1ac1240c2848"
      },
      "source": [
        "# 데이터분포체크\n",
        "df_onehot.hist()"
      ],
      "execution_count": 47,
      "outputs": [
        {
          "output_type": "execute_result",
          "data": {
            "text/plain": [
              "array([[<matplotlib.axes._subplots.AxesSubplot object at 0x7fd496ee39e8>,\n",
              "        <matplotlib.axes._subplots.AxesSubplot object at 0x7fd496ef0f28>,\n",
              "        <matplotlib.axes._subplots.AxesSubplot object at 0x7fd496e9d5c0>],\n",
              "       [<matplotlib.axes._subplots.AxesSubplot object at 0x7fd496ec1c18>,\n",
              "        <matplotlib.axes._subplots.AxesSubplot object at 0x7fd496e6e2b0>,\n",
              "        <matplotlib.axes._subplots.AxesSubplot object at 0x7fd496e11be0>],\n",
              "       [<matplotlib.axes._subplots.AxesSubplot object at 0x7fd496e3d588>,\n",
              "        <matplotlib.axes._subplots.AxesSubplot object at 0x7fd496de4f28>,\n",
              "        <matplotlib.axes._subplots.AxesSubplot object at 0x7fd496de4f60>],\n",
              "       [<matplotlib.axes._subplots.AxesSubplot object at 0x7fd496dc0240>,\n",
              "        <matplotlib.axes._subplots.AxesSubplot object at 0x7fd496d61ba8>,\n",
              "        <matplotlib.axes._subplots.AxesSubplot object at 0x7fd496d11550>]],\n",
              "      dtype=object)"
            ]
          },
          "metadata": {
            "tags": []
          },
          "execution_count": 47
        },
        {
          "output_type": "display_data",
          "data": {
            "image/png": "[encoded data removed]",
            "text/plain": [
              "<Figure size 432x288 with 12 Axes>"
            ]
          },
          "metadata": {
            "tags": []
          }
        }
      ]
    },
    {
      "cell_type": "code",
      "metadata": {
        "id": "JuWm1fi0BaRl",
        "colab_type": "code",
        "colab": {}
      },
      "source": [
        "# 숫자형, 명목형 데이터 변경을 위한 Pipeline 생성\n",
        "num_attribs = ['KM', 'year', 'month', 'day']\n",
        "cat_attribs = ['NAME', 'FUEL']\n",
        "\n",
        "num_pipeline = Pipeline([\n",
        "        ('minmax_scaler', MinMaxScaler()),\n",
        "    ])\n",
        "\n",
        "full_pipeline = ColumnTransformer([\n",
        "        (\"num_pipeline\", num_pipeline, num_attribs),\n",
        "        (\"cat_encoder\", OneHotEncoder(sparse=False), cat_attribs),\n",
        "    ])"
      ],
      "execution_count": 0,
      "outputs": []
    },
    {
      "cell_type": "code",
      "metadata": {
        "id": "4eylQUMkE2sH",
        "colab_type": "code",
        "colab": {}
      },
      "source": [
        "df_joongo_piped = full_pipeline.fit_transform(df_joongo)"
      ],
      "execution_count": 0,
      "outputs": []
    },
    {
      "cell_type": "code",
      "metadata": {
        "id": "LKYYzGK9Ds7v",
        "colab_type": "code",
        "colab": {
          "base_uri": "https://localhost:8080/",
          "height": 35
        },
        "outputId": "6f2fdaa4-d505-417e-b4c0-c65bb9fd62c8"
      },
      "source": [
        "# Data Preparation To Model Fit\n",
        "target_col = ['PRICE']\n",
        "train_col = [col for col in df_joongo.columns if col not in ['PRICE', 'YEAR']]\n",
        "print(train_col)\n",
        "train_x, test_x, train_y, test_y = model_selection.train_test_split(df_joongo[train_col], df_joongo[target_col], random_state = 42)"
      ],
      "execution_count": 25,
      "outputs": [
        {
          "output_type": "stream",
          "text": [
            "['NAME', 'KM', 'FUEL', 'year', 'month', 'day']\n"
          ],
          "name": "stdout"
        }
      ]
    },
    {
      "cell_type": "code",
      "metadata": {
        "id": "yyV5cwOzE2q4",
        "colab_type": "code",
        "colab": {
          "base_uri": "https://localhost:8080/",
          "height": 35
        },
        "outputId": "78818770-9976-4db0-c8a4-e6f88dd7306f"
      },
      "source": [
        "print(\"model_train_x Shape: {}\".format(df_joongo_piped.shape))"
      ],
      "execution_count": 36,
      "outputs": [
        {
          "output_type": "stream",
          "text": [
            "model_train_x Shape: (64, 13)\n"
          ],
          "name": "stdout"
        }
      ]
    },
    {
      "cell_type": "code",
      "metadata": {
        "id": "w4BsBr7BMBZ3",
        "colab_type": "code",
        "colab": {
          "base_uri": "https://localhost:8080/",
          "height": 35
        },
        "outputId": "5a122b17-0fba-451e-cb44-c026beec89bb"
      },
      "source": [
        "df_joongo_piped."
      ],
      "execution_count": 37,
      "outputs": [
        {
          "output_type": "execute_result",
          "data": {
            "text/plain": [
              "<function ndarray.itemset>"
            ]
          },
          "metadata": {
            "tags": []
          },
          "execution_count": 37
        }
      ]
    },
    {
      "cell_type": "code",
      "metadata": {
        "id": "elXlTV8cEdGG",
        "colab_type": "code",
        "colab": {}
      },
      "source": [
        "train_x = full_pipeline.fit_transform(train_x)\n",
        "test_x = full_pipeline.fit_transform(test_x)"
      ],
      "execution_count": 0,
      "outputs": []
    },
    {
      "cell_type": "code",
      "metadata": {
        "id": "ifpHgCa9EtPE",
        "colab_type": "code",
        "colab": {
          "base_uri": "https://localhost:8080/",
          "height": 53
        },
        "outputId": "30e697f2-f895-46fc-dcd0-c133ef7aee79"
      },
      "source": [
        "print(\"model_train_x Shape: {}\".format(train_x.shape))\n",
        "print(\"model_test_x Shape: {}\".format(test_x.shape))"
      ],
      "execution_count": 29,
      "outputs": [
        {
          "output_type": "stream",
          "text": [
            "model_train_x Shape: (48, 13)\n",
            "model_test_x Shape: (16, 12)\n"
          ],
          "name": "stdout"
        }
      ]
    },
    {
      "cell_type": "code",
      "metadata": {
        "id": "4u40BX-BEwyX",
        "colab_type": "code",
        "colab": {}
      },
      "source": [
        ""
      ],
      "execution_count": 0,
      "outputs": []
    }
  ]
}