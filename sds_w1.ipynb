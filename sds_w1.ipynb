{
  "nbformat": 4,
  "nbformat_minor": 0,
  "metadata": {
    "colab": {
      "name": "jigsaw_v1.ipynb",
      "provenance": []
    },
    "language_info": {
      "codemirror_mode": {
        "name": "ipython",
        "version": 3
      },
      "file_extension": ".py",
      "mimetype": "text/x-python",
      "name": "python",
      "nbconvert_exporter": "python",
      "pygments_lexer": "ipython3",
      "version": "3.5.4"
    },
    "kernelspec": {
      "name": "python3",
      "display_name": "Python 3"
    },
    "accelerator": "GPU"
  },
  "cells": [
    {
      "cell_type": "code",
      "metadata": {
        "id": "EwSigEpsgSCR",
        "colab_type": "code",
        "outputId": "a7d4ac56-477d-44e2-ad3b-7e879c1d53b6",
        "colab": {
          "base_uri": "https://localhost:8080/",
          "height": 35
        }
      },
      "source": [
        "# 데이터 활용에 필요한 기본 패키지 로딩\n",
        "import sys #access to system parameters \n",
        "import pandas as pd\n",
        "import sklearn #collection of machine learning algorithms\n",
        "import numpy as np #foundational package for scientific computing\n",
        "import tensorflow as tf\n",
        "import keras\n",
        "import os"
      ],
      "execution_count": 1,
      "outputs": [
        {
          "output_type": "stream",
          "text": [
            "Using TensorFlow backend.\n"
          ],
          "name": "stderr"
        }
      ]
    },
    {
      "cell_type": "code",
      "metadata": {
        "id": "55XLlqJ1gSCW",
        "colab_type": "code",
        "colab": {}
      },
      "source": [
        "#데이터 전처리 관련 라이브러리 로드\n",
        "from sklearn import preprocessing\n",
        "from sklearn.preprocessing import MinMaxScaler\n",
        "from sklearn.preprocessing import FunctionTransformer\n",
        "from sklearn.compose import ColumnTransformer\n",
        "from sklearn.pipeline import Pipeline\n",
        "\n",
        "from sklearn.preprocessing import LabelEncoder\n",
        "from sklearn.preprocessing import OneHotEncoder\n",
        "from sklearn.model_selection import ShuffleSplit\n",
        "\n",
        "# Deep Learning Model 로드\n",
        "from keras.models import Sequential\n",
        "from keras.layers import Dense, Dropout, Activation \n",
        "from keras.wrappers.scikit_learn import KerasClassifier\n",
        "\n",
        "#Visualization\n",
        "import matplotlib as mpl\n",
        "import matplotlib.pyplot as plt\n",
        "import seaborn as sns\n",
        "\n",
        "#HyperParameter Tuning을 위한 라이브러리 로드\n",
        "from sklearn.model_selection import GridSearchCV\n",
        "from sklearn.model_selection import RandomizedSearchCV\n",
        "\n",
        "#모델 평가를 위한 라이브러리 로드\n",
        "from sklearn import metrics\n",
        "from sklearn.model_selection import cross_validate\n",
        "from sklearn import model_selection\n",
        "\n",
        "#수학 & 통계 관련 라이브러리 로드\n",
        "import scipy.stats as st\n",
        "from collections import Counter\n",
        "\n",
        "#Configure Visualization Defaults\n",
        "#%matplotlib inline = show plots in Jupyter Notebook browser\n",
        "%matplotlib inline\n",
        "mpl.style.use('ggplot')\n",
        "sns.set_style('white')\n",
        "\n",
        "#ignore warnings\n",
        "import warnings\n",
        "warnings.filterwarnings('ignore')"
      ],
      "execution_count": 0,
      "outputs": []
    },
    {
      "cell_type": "code",
      "metadata": {
        "id": "SCOcsXzdRMsr",
        "colab_type": "code",
        "outputId": "71481245-10cc-4361-aa36-970cb4abb583",
        "colab": {
          "base_uri": "https://localhost:8080/",
          "height": 127
        }
      },
      "source": [
        "# Auth 인증 및 Google Drive 활용 Data load\n",
        "from google.colab import auth\n",
        "auth.authenticate_user()\n",
        "\n",
        "from google.colab import drive\n",
        "drive.mount('/gdrive', force_remount=True)\n",
        "\n",
        "# Google Drive 내 Custom Class 경로 지정\n",
        "import sys\n",
        "sys.path.insert(0, '/gdrive/My Drive/CustomClasses')"
      ],
      "execution_count": 4,
      "outputs": [
        {
          "output_type": "stream",
          "text": [
            "Go to this URL in a browser: https://accounts.google.com/o/oauth2/auth?client_id=947318989803-6bn6qk8qdgf4n4g3pfee6491hc0brc4i.apps.googleusercontent.com&redirect_uri=urn%3Aietf%3Awg%3Aoauth%3A2.0%3Aoob&scope=email%20https%3A%2F%2Fwww.googleapis.com%2Fauth%2Fdocs.test%20https%3A%2F%2Fwww.googleapis.com%2Fauth%2Fdrive%20https%3A%2F%2Fwww.googleapis.com%2Fauth%2Fdrive.photos.readonly%20https%3A%2F%2Fwww.googleapis.com%2Fauth%2Fpeopleapi.readonly&response_type=code\n",
            "\n",
            "Enter your authorization code:\n",
            "··········\n",
            "Mounted at /gdrive\n"
          ],
          "name": "stdout"
        }
      ]
    },
    {
      "cell_type": "code",
      "metadata": {
        "id": "67ZV0skpmas-",
        "colab_type": "code",
        "outputId": "f3400faa-8f33-4f16-c47c-9752141235f7",
        "colab": {
          "base_uri": "https://localhost:8080/",
          "height": 71
        }
      },
      "source": [
        "# !ls /gdrive/My\\ Drive/kaggle\n",
        "!ls /gdrive/My\\ Drive/data"
      ],
      "execution_count": 6,
      "outputs": [
        {
          "output_type": "stream",
          "text": [
            "crawl-300d-2M.vec  glove.840B.300d.txt\t  Study\n",
            "dogs-vs-cats.zip   joongo.csv\t\t  test.csv\n",
            "FashionMNIST\t   sample_submission.csv  train.csv\n"
          ],
          "name": "stdout"
        }
      ]
    },
    {
      "cell_type": "markdown",
      "metadata": {
        "id": "CmaToi7GBWnh",
        "colab_type": "text"
      },
      "source": [
        "# **EDA**"
      ]
    },
    {
      "cell_type": "markdown",
      "metadata": {
        "id": "kKjkZus-8aWt",
        "colab_type": "text"
      },
      "source": [
        "필요한 Package Load 및 학습 데이터 Load"
      ]
    },
    {
      "cell_type": "code",
      "metadata": {
        "id": "CQfcH0ZVPyD6",
        "colab_type": "code",
        "colab": {}
      },
      "source": [
        "df_joongo = pd.read_csv('/gdrive/My Drive/data/joongo.csv', encoding='utf-8')"
      ],
      "execution_count": 0,
      "outputs": []
    },
    {
      "cell_type": "code",
      "metadata": {
        "id": "n6qm862tP4h6",
        "colab_type": "code",
        "outputId": "08089ca0-57e4-46ef-c83e-28cc26c93051",
        "colab": {
          "base_uri": "https://localhost:8080/",
          "height": 204
        }
      },
      "source": [
        "# 데이터 정상 Load 확인\n",
        "df_joongo.head()"
      ],
      "execution_count": 8,
      "outputs": [
        {
          "output_type": "execute_result",
          "data": {
            "text/html": [
              "<div>\n",
              "<style scoped>\n",
              "    .dataframe tbody tr th:only-of-type {\n",
              "        vertical-align: middle;\n",
              "    }\n",
              "\n",
              "    .dataframe tbody tr th {\n",
              "        vertical-align: top;\n",
              "    }\n",
              "\n",
              "    .dataframe thead th {\n",
              "        text-align: right;\n",
              "    }\n",
              "</style>\n",
              "<table border=\"1\" class=\"dataframe\">\n",
              "  <thead>\n",
              "    <tr style=\"text-align: right;\">\n",
              "      <th></th>\n",
              "      <th>NAME</th>\n",
              "      <th>YEAR</th>\n",
              "      <th>KM</th>\n",
              "      <th>PRICE</th>\n",
              "      <th>FUEL</th>\n",
              "    </tr>\n",
              "  </thead>\n",
              "  <tbody>\n",
              "    <tr>\n",
              "      <th>0</th>\n",
              "      <td>아반떼 AD</td>\n",
              "      <td>2016-01-01</td>\n",
              "      <td>99249.0</td>\n",
              "      <td>1050.0</td>\n",
              "      <td>디젤</td>\n",
              "    </tr>\n",
              "    <tr>\n",
              "      <th>1</th>\n",
              "      <td>아반떼 AD</td>\n",
              "      <td>2015-12-01</td>\n",
              "      <td>75806.0</td>\n",
              "      <td>1070.0</td>\n",
              "      <td>가솔린</td>\n",
              "    </tr>\n",
              "    <tr>\n",
              "      <th>2</th>\n",
              "      <td>아반떼 AD</td>\n",
              "      <td>2016-01-01</td>\n",
              "      <td>22335.0</td>\n",
              "      <td>1080.0</td>\n",
              "      <td>가솔린</td>\n",
              "    </tr>\n",
              "    <tr>\n",
              "      <th>3</th>\n",
              "      <td>아반떼 AD</td>\n",
              "      <td>2016-01-01</td>\n",
              "      <td>87339.0</td>\n",
              "      <td>1090.0</td>\n",
              "      <td>디젤</td>\n",
              "    </tr>\n",
              "    <tr>\n",
              "      <th>4</th>\n",
              "      <td>아반떼 AD</td>\n",
              "      <td>2016-03-01</td>\n",
              "      <td>77861.0</td>\n",
              "      <td>1090.0</td>\n",
              "      <td>디젤</td>\n",
              "    </tr>\n",
              "  </tbody>\n",
              "</table>\n",
              "</div>"
            ],
            "text/plain": [
              "     NAME        YEAR       KM   PRICE FUEL\n",
              "0  아반떼 AD  2016-01-01  99249.0  1050.0   디젤\n",
              "1  아반떼 AD  2015-12-01  75806.0  1070.0  가솔린\n",
              "2  아반떼 AD  2016-01-01  22335.0  1080.0  가솔린\n",
              "3  아반떼 AD  2016-01-01  87339.0  1090.0   디젤\n",
              "4  아반떼 AD  2016-03-01  77861.0  1090.0   디젤"
            ]
          },
          "metadata": {
            "tags": []
          },
          "execution_count": 8
        }
      ]
    },
    {
      "cell_type": "code",
      "metadata": {
        "id": "9b65mfch8tA9",
        "colab_type": "code",
        "outputId": "06f4d0dc-68ea-4255-c977-9e2247efacbf",
        "colab": {
          "base_uri": "https://localhost:8080/",
          "height": 125
        }
      },
      "source": [
        "print(df_joongo.isnull().any())"
      ],
      "execution_count": 9,
      "outputs": [
        {
          "output_type": "stream",
          "text": [
            "NAME     False\n",
            "YEAR     False\n",
            "KM       False\n",
            "PRICE    False\n",
            "FUEL     False\n",
            "dtype: bool\n"
          ],
          "name": "stdout"
        }
      ]
    },
    {
      "cell_type": "code",
      "metadata": {
        "id": "04-BdHCjQI6B",
        "colab_type": "code",
        "outputId": "069d4830-72a1-4032-c2fb-91da25b93dd0",
        "colab": {
          "base_uri": "https://localhost:8080/",
          "height": 161
        }
      },
      "source": [
        "print(\"joongo null value counts are \\n {}\".format(df_joongo.isnull().sum()))\n",
        "print(\"Train total length is \", len(df_joongo))"
      ],
      "execution_count": 11,
      "outputs": [
        {
          "output_type": "stream",
          "text": [
            "joongo null value counts are \n",
            " NAME     0\n",
            "YEAR     0\n",
            "KM       0\n",
            "PRICE    0\n",
            "FUEL     0\n",
            "dtype: int64\n",
            "Train total length is  64\n"
          ],
          "name": "stdout"
        }
      ]
    },
    {
      "cell_type": "code",
      "metadata": {
        "id": "zPT8Ig2OqLNH",
        "colab_type": "code",
        "colab": {
          "base_uri": "https://localhost:8080/",
          "height": 143
        },
        "outputId": "cc5e408a-61d4-4dbe-9fb9-a5e8128a912d"
      },
      "source": [
        "#however passing by reference is convenient, because we can clean both datasets at once\n",
        "print('# Col Name: Unique Value / Total Size')\n",
        "print(\"-\"*25)\n",
        "\n",
        "for idx, col in enumerate(df_joongo):    \n",
        "    # Unique Variable Check for which columns can be one hot encoding\n",
        "    print(col, ':', df_joongo[col].unique().size, '/', len(df_joongo[col]))  "
      ],
      "execution_count": 16,
      "outputs": [
        {
          "output_type": "stream",
          "text": [
            "# Col Name: Unique Value / Total Size\n",
            "-------------------------\n",
            "NAME : 7 / 64\n",
            "YEAR : 44 / 64\n",
            "KM : 64 / 64\n",
            "PRICE : 55 / 64\n",
            "FUEL : 2 / 64\n"
          ],
          "name": "stdout"
        }
      ]
    },
    {
      "cell_type": "code",
      "metadata": {
        "id": "BWVJmjIzHVtX",
        "colab_type": "code",
        "colab": {
          "base_uri": "https://localhost:8080/",
          "height": 35
        },
        "outputId": "2f65d6c9-ab0e-429b-b3bd-0938d7f9defd"
      },
      "source": [
        "print(df_joongo.columns)\n",
        "print()\n"
      ],
      "execution_count": 18,
      "outputs": [
        {
          "output_type": "execute_result",
          "data": {
            "text/plain": [
              "Index(['NAME', 'YEAR', 'KM', 'PRICE', 'FUEL'], dtype='object')"
            ]
          },
          "metadata": {
            "tags": []
          },
          "execution_count": 18
        }
      ]
    },
    {
      "cell_type": "code",
      "metadata": {
        "id": "PODZOVIjFqej",
        "colab_type": "code",
        "colab": {
          "base_uri": "https://localhost:8080/",
          "height": 323
        },
        "outputId": "369dff1d-7891-404e-cbd8-ee993b7ebc73"
      },
      "source": [
        "# 데이터들의 기초통계량 체크\n",
        "for col in df_joongo:    \n",
        "    # dataset 수치형 변수 살펴보기\n",
        "    dataset_n_cols = [col for col in df_joongo.columns if df_joongo[col].dtype not in ['O']]\n",
        "    dataset_c_cols = [col for col in df_joongo.columns if df_joongo[col].dtype in ['O']]\n",
        "    \n",
        "print('## Description of Numeric Values in','{}'.format('joongo dataframe'))\n",
        "print(df_joongo[dataset_n_cols].describe())\n",
        "print(\"-\"*50)\n",
        "print('## Description of Categorical Values in','{}'.format('joongo dataframe'))\n",
        "print(df_joongo[dataset_c_cols].describe())"
      ],
      "execution_count": 22,
      "outputs": [
        {
          "output_type": "stream",
          "text": [
            "## Description of Numeric Values in joongo dataframe\n",
            "                  KM        PRICE\n",
            "count      64.000000    64.000000\n",
            "mean    70446.078125  1431.093750\n",
            "std     35005.054878   675.571756\n",
            "min     11705.000000   580.000000\n",
            "25%     39473.500000  1047.500000\n",
            "50%     74433.500000  1325.000000\n",
            "75%     95010.000000  1635.000000\n",
            "max    137925.000000  4190.000000\n",
            "--------------------------------------------------\n",
            "## Description of Categorical Values in joongo dataframe\n",
            "          NAME        YEAR FUEL\n",
            "count       64          64   64\n",
            "unique       7          44    2\n",
            "top     아반떼 AD  2016-01-01   디젤\n",
            "freq        16           5   34\n"
          ],
          "name": "stdout"
        }
      ]
    },
    {
      "cell_type": "code",
      "metadata": {
        "id": "jr9YHli1HK-O",
        "colab_type": "code",
        "colab": {}
      },
      "source": [
        ""
      ],
      "execution_count": 0,
      "outputs": []
    }
  ]
}