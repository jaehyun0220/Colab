{
  "nbformat": 4,
  "nbformat_minor": 0,
  "metadata": {
    "colab": {
      "name": "sds_w1.ipynb",
      "provenance": []
    },
    "language_info": {
      "codemirror_mode": {
        "name": "ipython",
        "version": 3
      },
      "file_extension": ".py",
      "mimetype": "text/x-python",
      "name": "python",
      "nbconvert_exporter": "python",
      "pygments_lexer": "ipython3",
      "version": "3.5.4"
    },
    "kernelspec": {
      "name": "python3",
      "display_name": "Python 3"
    },
    "accelerator": "GPU"
  },
  "cells": [
    {
      "cell_type": "code",
      "metadata": {
        "id": "EwSigEpsgSCR",
        "colab_type": "code",
        "outputId": "5254b0ba-c6f8-44fb-fcda-41481b5f157f",
        "colab": {
          "base_uri": "https://localhost:8080/",
          "height": 35
        }
      },
      "source": [
        "# 데이터 활용에 필요한 기본 패키지 로딩\n",
        "import sys #access to system parameters \n",
        "import pandas as pd\n",
        "import sklearn #collection of machine learning algorithms\n",
        "import numpy as np #foundational package for scientific computing\n",
        "import tensorflow as tf\n",
        "import keras\n",
        "import os"
      ],
      "execution_count": 1,
      "outputs": [
        {
          "output_type": "stream",
          "text": [
            "Using TensorFlow backend.\n"
          ],
          "name": "stderr"
        }
      ]
    },
    {
      "cell_type": "code",
      "metadata": {
        "id": "55XLlqJ1gSCW",
        "colab_type": "code",
        "colab": {}
      },
      "source": [
        "#데이터 전처리 관련 라이브러리 로드\n",
        "from sklearn import preprocessing\n",
        "from sklearn.preprocessing import MinMaxScaler\n",
        "from sklearn.preprocessing import FunctionTransformer\n",
        "from sklearn.compose import ColumnTransformer\n",
        "from sklearn.pipeline import Pipeline\n",
        "\n",
        "from sklearn.preprocessing import LabelEncoder\n",
        "from sklearn.preprocessing import OneHotEncoder\n",
        "from sklearn.model_selection import ShuffleSplit\n",
        "\n",
        "#HyperParameter Tuning을 위한 라이브러리 로드\n",
        "from sklearn.model_selection import GridSearchCV\n",
        "from sklearn.model_selection import RandomizedSearchCV\n",
        "\n",
        "#모델 평가를 위한 라이브러리 로드\n",
        "from sklearn import metrics\n",
        "from sklearn.model_selection import cross_validate\n",
        "from sklearn import model_selection\n",
        "\n",
        "#수학 & 통계 관련 라이브러리 로드\n",
        "import scipy.stats as st\n",
        "from collections import Counter\n",
        "\n",
        "#Visualization\n",
        "import matplotlib as mpl  # 기본 설정 만지는 용도\n",
        "import matplotlib.pyplot as plt  # 그래프 그리는 용도\n",
        "import matplotlib.font_manager as fm  # 폰트 관련 용도\n",
        "import seaborn as sns\n",
        "\n",
        "#Configure Visualization Defaults\n",
        "#%matplotlib inline = show plots in Jupyter Notebook browser\n",
        "%matplotlib inline\n",
        "mpl.style.use('ggplot')\n",
        "sns.set_style('white')\n",
        "\n",
        "#ignore warnings\n",
        "import warnings\n",
        "warnings.filterwarnings('ignore')"
      ],
      "execution_count": 0,
      "outputs": []
    },
    {
      "cell_type": "code",
      "metadata": {
        "id": "uhOBh_lH1vZH",
        "colab_type": "code",
        "colab": {}
      },
      "source": [
        "# Model 관련 라이브러리 로드\n",
        "\n",
        "# Regression\n",
        "from sklearn.linear_model import LinearRegression\n",
        "from sklearn.tree import DecisionTreeRegressor\n",
        "from sklearn.ensemble import RandomForestRegressor\n",
        "import xgboost\n",
        "\n",
        "# Deep Learning Model\n",
        "from keras.models import Sequential\n",
        "from keras.layers import Dense, Dropout, Activation \n",
        "from keras.wrappers.scikit_learn import KerasClassifier\n"
      ],
      "execution_count": 0,
      "outputs": []
    },
    {
      "cell_type": "code",
      "metadata": {
        "id": "SCOcsXzdRMsr",
        "colab_type": "code",
        "outputId": "bc7f822d-f39b-43fc-a9f7-d9e95e4fe5a9",
        "colab": {
          "base_uri": "https://localhost:8080/",
          "height": 127
        }
      },
      "source": [
        "# Auth 인증 및 Google Drive 활용 Data load\n",
        "from google.colab import auth\n",
        "auth.authenticate_user()\n",
        "\n",
        "from google.colab import drive\n",
        "drive.mount('/gdrive', force_remount=True)\n",
        "\n",
        "# Google Drive 내 Custom Class 경로 지정\n",
        "import sys\n",
        "sys.path.insert(0, '/gdrive/My Drive/CustomClasses')"
      ],
      "execution_count": 3,
      "outputs": [
        {
          "output_type": "stream",
          "text": [
            "Go to this URL in a browser: https://accounts.google.com/o/oauth2/auth?client_id=947318989803-6bn6qk8qdgf4n4g3pfee6491hc0brc4i.apps.googleusercontent.com&redirect_uri=urn%3Aietf%3Awg%3Aoauth%3A2.0%3Aoob&scope=email%20https%3A%2F%2Fwww.googleapis.com%2Fauth%2Fdocs.test%20https%3A%2F%2Fwww.googleapis.com%2Fauth%2Fdrive%20https%3A%2F%2Fwww.googleapis.com%2Fauth%2Fdrive.photos.readonly%20https%3A%2F%2Fwww.googleapis.com%2Fauth%2Fpeopleapi.readonly&response_type=code\n",
            "\n",
            "Enter your authorization code:\n",
            "··········\n",
            "Mounted at /gdrive\n"
          ],
          "name": "stdout"
        }
      ]
    },
    {
      "cell_type": "code",
      "metadata": {
        "id": "67ZV0skpmas-",
        "colab_type": "code",
        "outputId": "f3400faa-8f33-4f16-c47c-9752141235f7",
        "colab": {
          "base_uri": "https://localhost:8080/",
          "height": 71
        }
      },
      "source": [
        "# !ls /gdrive/My\\ Drive/kaggle\n",
        "!ls /gdrive/My\\ Drive/data"
      ],
      "execution_count": 0,
      "outputs": [
        {
          "output_type": "stream",
          "text": [
            "crawl-300d-2M.vec  glove.840B.300d.txt\t  Study\n",
            "dogs-vs-cats.zip   joongo.csv\t\t  test.csv\n",
            "FashionMNIST\t   sample_submission.csv  train.csv\n"
          ],
          "name": "stdout"
        }
      ]
    },
    {
      "cell_type": "markdown",
      "metadata": {
        "id": "CmaToi7GBWnh",
        "colab_type": "text"
      },
      "source": [
        "# **EDA**"
      ]
    },
    {
      "cell_type": "markdown",
      "metadata": {
        "id": "kKjkZus-8aWt",
        "colab_type": "text"
      },
      "source": [
        "필요한 Package Load 및 학습 데이터 Load"
      ]
    },
    {
      "cell_type": "code",
      "metadata": {
        "id": "CQfcH0ZVPyD6",
        "colab_type": "code",
        "colab": {}
      },
      "source": [
        "df_joongo = pd.read_csv('/gdrive/My Drive/data/joongo.csv', encoding='utf-8')"
      ],
      "execution_count": 0,
      "outputs": []
    },
    {
      "cell_type": "code",
      "metadata": {
        "id": "n6qm862tP4h6",
        "colab_type": "code",
        "outputId": "da1cb64d-df05-48e4-ff1e-a165ce25d5c0",
        "colab": {
          "base_uri": "https://localhost:8080/",
          "height": 391
        }
      },
      "source": [
        "# 데이터 정상 Load 확인\n",
        "display(df_joongo.head())\n",
        "display(df_joongo.tail())"
      ],
      "execution_count": 42,
      "outputs": [
        {
          "output_type": "display_data",
          "data": {
            "text/html": [
              "<div>\n",
              "<style scoped>\n",
              "    .dataframe tbody tr th:only-of-type {\n",
              "        vertical-align: middle;\n",
              "    }\n",
              "\n",
              "    .dataframe tbody tr th {\n",
              "        vertical-align: top;\n",
              "    }\n",
              "\n",
              "    .dataframe thead th {\n",
              "        text-align: right;\n",
              "    }\n",
              "</style>\n",
              "<table border=\"1\" class=\"dataframe\">\n",
              "  <thead>\n",
              "    <tr style=\"text-align: right;\">\n",
              "      <th></th>\n",
              "      <th>NAME</th>\n",
              "      <th>YEAR</th>\n",
              "      <th>KM</th>\n",
              "      <th>PRICE</th>\n",
              "      <th>FUEL</th>\n",
              "    </tr>\n",
              "  </thead>\n",
              "  <tbody>\n",
              "    <tr>\n",
              "      <th>0</th>\n",
              "      <td>아반떼 AD</td>\n",
              "      <td>2016-01-01</td>\n",
              "      <td>99249.0</td>\n",
              "      <td>1050.0</td>\n",
              "      <td>디젤</td>\n",
              "    </tr>\n",
              "    <tr>\n",
              "      <th>1</th>\n",
              "      <td>아반떼 AD</td>\n",
              "      <td>2015-12-01</td>\n",
              "      <td>75806.0</td>\n",
              "      <td>1070.0</td>\n",
              "      <td>가솔린</td>\n",
              "    </tr>\n",
              "    <tr>\n",
              "      <th>2</th>\n",
              "      <td>아반떼 AD</td>\n",
              "      <td>2016-01-01</td>\n",
              "      <td>22335.0</td>\n",
              "      <td>1080.0</td>\n",
              "      <td>가솔린</td>\n",
              "    </tr>\n",
              "    <tr>\n",
              "      <th>3</th>\n",
              "      <td>아반떼 AD</td>\n",
              "      <td>2016-01-01</td>\n",
              "      <td>87339.0</td>\n",
              "      <td>1090.0</td>\n",
              "      <td>디젤</td>\n",
              "    </tr>\n",
              "    <tr>\n",
              "      <th>4</th>\n",
              "      <td>아반떼 AD</td>\n",
              "      <td>2016-03-01</td>\n",
              "      <td>77861.0</td>\n",
              "      <td>1090.0</td>\n",
              "      <td>디젤</td>\n",
              "    </tr>\n",
              "  </tbody>\n",
              "</table>\n",
              "</div>"
            ],
            "text/plain": [
              "     NAME        YEAR       KM   PRICE FUEL\n",
              "0  아반떼 AD  2016-01-01  99249.0  1050.0   디젤\n",
              "1  아반떼 AD  2015-12-01  75806.0  1070.0  가솔린\n",
              "2  아반떼 AD  2016-01-01  22335.0  1080.0  가솔린\n",
              "3  아반떼 AD  2016-01-01  87339.0  1090.0   디젤\n",
              "4  아반떼 AD  2016-03-01  77861.0  1090.0   디젤"
            ]
          },
          "metadata": {
            "tags": []
          }
        },
        {
          "output_type": "display_data",
          "data": {
            "text/html": [
              "<div>\n",
              "<style scoped>\n",
              "    .dataframe tbody tr th:only-of-type {\n",
              "        vertical-align: middle;\n",
              "    }\n",
              "\n",
              "    .dataframe tbody tr th {\n",
              "        vertical-align: top;\n",
              "    }\n",
              "\n",
              "    .dataframe thead th {\n",
              "        text-align: right;\n",
              "    }\n",
              "</style>\n",
              "<table border=\"1\" class=\"dataframe\">\n",
              "  <thead>\n",
              "    <tr style=\"text-align: right;\">\n",
              "      <th></th>\n",
              "      <th>NAME</th>\n",
              "      <th>YEAR</th>\n",
              "      <th>KM</th>\n",
              "      <th>PRICE</th>\n",
              "      <th>FUEL</th>\n",
              "    </tr>\n",
              "  </thead>\n",
              "  <tbody>\n",
              "    <tr>\n",
              "      <th>59</th>\n",
              "      <td>미니</td>\n",
              "      <td>2011-03-01</td>\n",
              "      <td>81554.0</td>\n",
              "      <td>1370.0</td>\n",
              "      <td>가솔린</td>\n",
              "    </tr>\n",
              "    <tr>\n",
              "      <th>60</th>\n",
              "      <td>미니</td>\n",
              "      <td>2013-01-01</td>\n",
              "      <td>127148.0</td>\n",
              "      <td>1440.0</td>\n",
              "      <td>디젤</td>\n",
              "    </tr>\n",
              "    <tr>\n",
              "      <th>61</th>\n",
              "      <td>미니</td>\n",
              "      <td>2014-03-01</td>\n",
              "      <td>67515.0</td>\n",
              "      <td>1770.0</td>\n",
              "      <td>디젤</td>\n",
              "    </tr>\n",
              "    <tr>\n",
              "      <th>62</th>\n",
              "      <td>미니</td>\n",
              "      <td>2014-04-01</td>\n",
              "      <td>87454.0</td>\n",
              "      <td>1880.0</td>\n",
              "      <td>디젤</td>\n",
              "    </tr>\n",
              "    <tr>\n",
              "      <th>63</th>\n",
              "      <td>미니</td>\n",
              "      <td>2016-04-01</td>\n",
              "      <td>37888.0</td>\n",
              "      <td>1940.0</td>\n",
              "      <td>가솔린</td>\n",
              "    </tr>\n",
              "  </tbody>\n",
              "</table>\n",
              "</div>"
            ],
            "text/plain": [
              "   NAME        YEAR        KM   PRICE FUEL\n",
              "59   미니  2011-03-01   81554.0  1370.0  가솔린\n",
              "60   미니  2013-01-01  127148.0  1440.0   디젤\n",
              "61   미니  2014-03-01   67515.0  1770.0   디젤\n",
              "62   미니  2014-04-01   87454.0  1880.0   디젤\n",
              "63   미니  2016-04-01   37888.0  1940.0  가솔린"
            ]
          },
          "metadata": {
            "tags": []
          }
        }
      ]
    },
    {
      "cell_type": "code",
      "metadata": {
        "id": "9b65mfch8tA9",
        "colab_type": "code",
        "outputId": "cb07e988-d318-4ae5-a693-71c184b17a7d",
        "colab": {
          "base_uri": "https://localhost:8080/",
          "height": 323
        }
      },
      "source": [
        "print(\"IS Null ?? \\n\", df_joongo.isnull().any()) # Null 값 체크\n",
        "print(\"--------- \\n joongo null value counts are \\n {}\".format(df_joongo.isnull().sum())) # Null 값 Counting\n",
        "print(\"--------- \\n Train total length is \", len(df_joongo)) # 전체 데이터 Set 길이"
      ],
      "execution_count": 8,
      "outputs": [
        {
          "output_type": "stream",
          "text": [
            "IS Null ?? \n",
            " NAME     False\n",
            "YEAR     False\n",
            "KM       False\n",
            "PRICE    False\n",
            "FUEL     False\n",
            "dtype: bool\n",
            "--------- \n",
            " joongo null value counts are \n",
            " NAME     0\n",
            "YEAR     0\n",
            "KM       0\n",
            "PRICE    0\n",
            "FUEL     0\n",
            "dtype: int64\n",
            "--------- \n",
            " Train total length is  64\n"
          ],
          "name": "stdout"
        }
      ]
    },
    {
      "cell_type": "code",
      "metadata": {
        "id": "zPT8Ig2OqLNH",
        "colab_type": "code",
        "outputId": "f7b37614-612f-43f6-9904-e8609916c9cd",
        "colab": {
          "base_uri": "https://localhost:8080/",
          "height": 143
        }
      },
      "source": [
        "# Unique Value Counting\n",
        "print('# Col Name: Unique Value / Total Size')\n",
        "print(\"-\"*25)\n",
        "\n",
        "for idx, col in enumerate(df_joongo):    \n",
        "    # Unique Variable Check for which columns can be one hot encoding\n",
        "    print(col, ':', df_joongo[col].unique().size, '/', len(df_joongo[col]))  "
      ],
      "execution_count": 9,
      "outputs": [
        {
          "output_type": "stream",
          "text": [
            "# Col Name: Unique Value / Total Size\n",
            "-------------------------\n",
            "NAME : 7 / 64\n",
            "YEAR : 44 / 64\n",
            "KM : 64 / 64\n",
            "PRICE : 55 / 64\n",
            "FUEL : 2 / 64\n"
          ],
          "name": "stdout"
        }
      ]
    },
    {
      "cell_type": "code",
      "metadata": {
        "id": "PODZOVIjFqej",
        "colab_type": "code",
        "outputId": "cd851062-c02d-4794-ad26-01ffb6c01f00",
        "colab": {
          "base_uri": "https://localhost:8080/",
          "height": 323
        }
      },
      "source": [
        "# 데이터들의 기초통계량 체크\n",
        "for col in df_joongo:    \n",
        "    # dataset 수치형 변수 살펴보기\n",
        "    dataset_n_cols = [col for col in df_joongo.columns if df_joongo[col].dtype not in ['O']]\n",
        "    dataset_c_cols = [col for col in df_joongo.columns if df_joongo[col].dtype in ['O']]\n",
        "    \n",
        "print('## Description of Numeric Values in','{}'.format('joongo dataframe'))\n",
        "print(df_joongo[dataset_n_cols].describe())\n",
        "print(\"-\"*50)\n",
        "print('## Description of Categorical Values in','{}'.format('joongo dataframe'))\n",
        "print(df_joongo[dataset_c_cols].describe())"
      ],
      "execution_count": 10,
      "outputs": [
        {
          "output_type": "stream",
          "text": [
            "## Description of Numeric Values in joongo dataframe\n",
            "                  KM        PRICE\n",
            "count      64.000000    64.000000\n",
            "mean    70446.078125  1431.093750\n",
            "std     35005.054878   675.571756\n",
            "min     11705.000000   580.000000\n",
            "25%     39473.500000  1047.500000\n",
            "50%     74433.500000  1325.000000\n",
            "75%     95010.000000  1635.000000\n",
            "max    137925.000000  4190.000000\n",
            "--------------------------------------------------\n",
            "## Description of Categorical Values in joongo dataframe\n",
            "          NAME        YEAR FUEL\n",
            "count       64          64   64\n",
            "unique       7          44    2\n",
            "top     아반떼 AD  2016-01-01   디젤\n",
            "freq        16           5   34\n"
          ],
          "name": "stdout"
        }
      ]
    },
    {
      "cell_type": "markdown",
      "metadata": {
        "id": "kfy0nasv_h1T",
        "colab_type": "text"
      },
      "source": [
        "### Feature Engineering"
      ]
    },
    {
      "cell_type": "code",
      "metadata": {
        "id": "jr9YHli1HK-O",
        "colab_type": "code",
        "colab": {}
      },
      "source": [
        "# Object 형의 데이터들을 Numeric 형태로 변경\n",
        "# Date는 각각 Year, Month, Day로 나누어 String형태로 변경\n",
        "df_joongo['yearmon'] = df_joongo['YEAR'].apply(lambda x: int(x[:4]+x[5:7]))"
      ],
      "execution_count": 0,
      "outputs": []
    },
    {
      "cell_type": "code",
      "metadata": {
        "id": "q0OmACgtPJBD",
        "colab_type": "code",
        "colab": {
          "base_uri": "https://localhost:8080/",
          "height": 715
        },
        "outputId": "0ed0889d-477a-456b-eb75-876d587fabc5"
      },
      "source": [
        "# 명목형 변수들을 onehot encoding\n",
        "df_onehot = pd.get_dummies(df_joongo, columns=['NAME', 'FUEL']) \n",
        "df_onehot.drop(['YEAR'], axis=1, inplace=True)\n",
        "display(df_onehot.head())\n",
        "display(df_onehot.tail())\n",
        "display(df_onehot.info())"
      ],
      "execution_count": 81,
      "outputs": [
        {
          "output_type": "display_data",
          "data": {
            "text/html": [
              "<div>\n",
              "<style scoped>\n",
              "    .dataframe tbody tr th:only-of-type {\n",
              "        vertical-align: middle;\n",
              "    }\n",
              "\n",
              "    .dataframe tbody tr th {\n",
              "        vertical-align: top;\n",
              "    }\n",
              "\n",
              "    .dataframe thead th {\n",
              "        text-align: right;\n",
              "    }\n",
              "</style>\n",
              "<table border=\"1\" class=\"dataframe\">\n",
              "  <thead>\n",
              "    <tr style=\"text-align: right;\">\n",
              "      <th></th>\n",
              "      <th>KM</th>\n",
              "      <th>PRICE</th>\n",
              "      <th>yearmon</th>\n",
              "      <th>NAME_BMW3</th>\n",
              "      <th>NAME_BMW5</th>\n",
              "      <th>NAME_미니</th>\n",
              "      <th>NAME_벤츠C</th>\n",
              "      <th>NAME_아반떼 AD</th>\n",
              "      <th>NAME_아반떼 전버전</th>\n",
              "      <th>NAME_투싼</th>\n",
              "      <th>FUEL_가솔린</th>\n",
              "      <th>FUEL_디젤</th>\n",
              "    </tr>\n",
              "  </thead>\n",
              "  <tbody>\n",
              "    <tr>\n",
              "      <th>0</th>\n",
              "      <td>99249.0</td>\n",
              "      <td>1050.0</td>\n",
              "      <td>201601</td>\n",
              "      <td>0</td>\n",
              "      <td>0</td>\n",
              "      <td>0</td>\n",
              "      <td>0</td>\n",
              "      <td>1</td>\n",
              "      <td>0</td>\n",
              "      <td>0</td>\n",
              "      <td>0</td>\n",
              "      <td>1</td>\n",
              "    </tr>\n",
              "    <tr>\n",
              "      <th>1</th>\n",
              "      <td>75806.0</td>\n",
              "      <td>1070.0</td>\n",
              "      <td>201512</td>\n",
              "      <td>0</td>\n",
              "      <td>0</td>\n",
              "      <td>0</td>\n",
              "      <td>0</td>\n",
              "      <td>1</td>\n",
              "      <td>0</td>\n",
              "      <td>0</td>\n",
              "      <td>1</td>\n",
              "      <td>0</td>\n",
              "    </tr>\n",
              "    <tr>\n",
              "      <th>2</th>\n",
              "      <td>22335.0</td>\n",
              "      <td>1080.0</td>\n",
              "      <td>201601</td>\n",
              "      <td>0</td>\n",
              "      <td>0</td>\n",
              "      <td>0</td>\n",
              "      <td>0</td>\n",
              "      <td>1</td>\n",
              "      <td>0</td>\n",
              "      <td>0</td>\n",
              "      <td>1</td>\n",
              "      <td>0</td>\n",
              "    </tr>\n",
              "    <tr>\n",
              "      <th>3</th>\n",
              "      <td>87339.0</td>\n",
              "      <td>1090.0</td>\n",
              "      <td>201601</td>\n",
              "      <td>0</td>\n",
              "      <td>0</td>\n",
              "      <td>0</td>\n",
              "      <td>0</td>\n",
              "      <td>1</td>\n",
              "      <td>0</td>\n",
              "      <td>0</td>\n",
              "      <td>0</td>\n",
              "      <td>1</td>\n",
              "    </tr>\n",
              "    <tr>\n",
              "      <th>4</th>\n",
              "      <td>77861.0</td>\n",
              "      <td>1090.0</td>\n",
              "      <td>201603</td>\n",
              "      <td>0</td>\n",
              "      <td>0</td>\n",
              "      <td>0</td>\n",
              "      <td>0</td>\n",
              "      <td>1</td>\n",
              "      <td>0</td>\n",
              "      <td>0</td>\n",
              "      <td>0</td>\n",
              "      <td>1</td>\n",
              "    </tr>\n",
              "  </tbody>\n",
              "</table>\n",
              "</div>"
            ],
            "text/plain": [
              "        KM   PRICE  yearmon  ...  NAME_투싼  FUEL_가솔린  FUEL_디젤\n",
              "0  99249.0  1050.0   201601  ...        0         0        1\n",
              "1  75806.0  1070.0   201512  ...        0         1        0\n",
              "2  22335.0  1080.0   201601  ...        0         1        0\n",
              "3  87339.0  1090.0   201601  ...        0         0        1\n",
              "4  77861.0  1090.0   201603  ...        0         0        1\n",
              "\n",
              "[5 rows x 12 columns]"
            ]
          },
          "metadata": {
            "tags": []
          }
        },
        {
          "output_type": "display_data",
          "data": {
            "text/html": [
              "<div>\n",
              "<style scoped>\n",
              "    .dataframe tbody tr th:only-of-type {\n",
              "        vertical-align: middle;\n",
              "    }\n",
              "\n",
              "    .dataframe tbody tr th {\n",
              "        vertical-align: top;\n",
              "    }\n",
              "\n",
              "    .dataframe thead th {\n",
              "        text-align: right;\n",
              "    }\n",
              "</style>\n",
              "<table border=\"1\" class=\"dataframe\">\n",
              "  <thead>\n",
              "    <tr style=\"text-align: right;\">\n",
              "      <th></th>\n",
              "      <th>KM</th>\n",
              "      <th>PRICE</th>\n",
              "      <th>yearmon</th>\n",
              "      <th>NAME_BMW3</th>\n",
              "      <th>NAME_BMW5</th>\n",
              "      <th>NAME_미니</th>\n",
              "      <th>NAME_벤츠C</th>\n",
              "      <th>NAME_아반떼 AD</th>\n",
              "      <th>NAME_아반떼 전버전</th>\n",
              "      <th>NAME_투싼</th>\n",
              "      <th>FUEL_가솔린</th>\n",
              "      <th>FUEL_디젤</th>\n",
              "    </tr>\n",
              "  </thead>\n",
              "  <tbody>\n",
              "    <tr>\n",
              "      <th>59</th>\n",
              "      <td>81554.0</td>\n",
              "      <td>1370.0</td>\n",
              "      <td>201103</td>\n",
              "      <td>0</td>\n",
              "      <td>0</td>\n",
              "      <td>1</td>\n",
              "      <td>0</td>\n",
              "      <td>0</td>\n",
              "      <td>0</td>\n",
              "      <td>0</td>\n",
              "      <td>1</td>\n",
              "      <td>0</td>\n",
              "    </tr>\n",
              "    <tr>\n",
              "      <th>60</th>\n",
              "      <td>127148.0</td>\n",
              "      <td>1440.0</td>\n",
              "      <td>201301</td>\n",
              "      <td>0</td>\n",
              "      <td>0</td>\n",
              "      <td>1</td>\n",
              "      <td>0</td>\n",
              "      <td>0</td>\n",
              "      <td>0</td>\n",
              "      <td>0</td>\n",
              "      <td>0</td>\n",
              "      <td>1</td>\n",
              "    </tr>\n",
              "    <tr>\n",
              "      <th>61</th>\n",
              "      <td>67515.0</td>\n",
              "      <td>1770.0</td>\n",
              "      <td>201403</td>\n",
              "      <td>0</td>\n",
              "      <td>0</td>\n",
              "      <td>1</td>\n",
              "      <td>0</td>\n",
              "      <td>0</td>\n",
              "      <td>0</td>\n",
              "      <td>0</td>\n",
              "      <td>0</td>\n",
              "      <td>1</td>\n",
              "    </tr>\n",
              "    <tr>\n",
              "      <th>62</th>\n",
              "      <td>87454.0</td>\n",
              "      <td>1880.0</td>\n",
              "      <td>201404</td>\n",
              "      <td>0</td>\n",
              "      <td>0</td>\n",
              "      <td>1</td>\n",
              "      <td>0</td>\n",
              "      <td>0</td>\n",
              "      <td>0</td>\n",
              "      <td>0</td>\n",
              "      <td>0</td>\n",
              "      <td>1</td>\n",
              "    </tr>\n",
              "    <tr>\n",
              "      <th>63</th>\n",
              "      <td>37888.0</td>\n",
              "      <td>1940.0</td>\n",
              "      <td>201604</td>\n",
              "      <td>0</td>\n",
              "      <td>0</td>\n",
              "      <td>1</td>\n",
              "      <td>0</td>\n",
              "      <td>0</td>\n",
              "      <td>0</td>\n",
              "      <td>0</td>\n",
              "      <td>1</td>\n",
              "      <td>0</td>\n",
              "    </tr>\n",
              "  </tbody>\n",
              "</table>\n",
              "</div>"
            ],
            "text/plain": [
              "          KM   PRICE  yearmon  ...  NAME_투싼  FUEL_가솔린  FUEL_디젤\n",
              "59   81554.0  1370.0   201103  ...        0         1        0\n",
              "60  127148.0  1440.0   201301  ...        0         0        1\n",
              "61   67515.0  1770.0   201403  ...        0         0        1\n",
              "62   87454.0  1880.0   201404  ...        0         0        1\n",
              "63   37888.0  1940.0   201604  ...        0         1        0\n",
              "\n",
              "[5 rows x 12 columns]"
            ]
          },
          "metadata": {
            "tags": []
          }
        },
        {
          "output_type": "stream",
          "text": [
            "<class 'pandas.core.frame.DataFrame'>\n",
            "RangeIndex: 64 entries, 0 to 63\n",
            "Data columns (total 12 columns):\n",
            "KM              64 non-null float64\n",
            "PRICE           64 non-null float64\n",
            "yearmon         64 non-null int64\n",
            "NAME_BMW3       64 non-null uint8\n",
            "NAME_BMW5       64 non-null uint8\n",
            "NAME_미니         64 non-null uint8\n",
            "NAME_벤츠C        64 non-null uint8\n",
            "NAME_아반떼 AD     64 non-null uint8\n",
            "NAME_아반떼 전버전    64 non-null uint8\n",
            "NAME_투싼         64 non-null uint8\n",
            "FUEL_가솔린        64 non-null uint8\n",
            "FUEL_디젤         64 non-null uint8\n",
            "dtypes: float64(2), int64(1), uint8(9)\n",
            "memory usage: 2.1 KB\n"
          ],
          "name": "stdout"
        },
        {
          "output_type": "display_data",
          "data": {
            "text/plain": [
              "None"
            ]
          },
          "metadata": {
            "tags": []
          }
        }
      ]
    },
    {
      "cell_type": "code",
      "metadata": {
        "id": "yepXZm7epJ7F",
        "colab_type": "code",
        "colab": {
          "base_uri": "https://localhost:8080/",
          "height": 35
        },
        "outputId": "88a4429f-78ef-419f-8e4f-8aae999ef85a"
      },
      "source": [
        "# 한글 글꼴 설치\n",
        "!apt-get update -qq\n",
        "!apt-get install fonts-nanum* -qq\n",
        "\n",
        "path = '/usr/share/fonts/truetype/nanum/NanumGothicEco.ttf'  # 설치된 나눔글꼴중 원하는 녀석의 전체 경로를 가져오자\n",
        "font_name = fm.FontProperties(fname=path, size=10).get_name()\n",
        "print(font_name)\n",
        "plt.rc('font', family=font_name)\n",
        "\n",
        "# 우선 fm._rebuild() 를 해주고\n",
        "fm._rebuild()"
      ],
      "execution_count": 52,
      "outputs": [
        {
          "output_type": "stream",
          "text": [
            "NanumGothic Eco\n"
          ],
          "name": "stdout"
        }
      ]
    },
    {
      "cell_type": "code",
      "metadata": {
        "id": "vHrDEp_sPI7M",
        "colab_type": "code",
        "colab": {
          "base_uri": "https://localhost:8080/",
          "height": 353
        },
        "outputId": "43cd4ac6-8565-40bd-e9e1-b65813a7de02"
      },
      "source": [
        "# 데이터 간의 상관관계 체크\n",
        "  # 수치형변수들과 Survived 변수의 상관관계 Matrix 시각화\n",
        "  g = sns.heatmap(df_onehot.corr(),annot=True, fmt = \".2f\", cmap = \"coolwarm\")"
      ],
      "execution_count": 82,
      "outputs": [
        {
          "output_type": "display_data",
          "data": {
            "image/png": "[encoded data removed]",
            "text/plain": [
              "<Figure size 432x288 with 2 Axes>"
            ]
          },
          "metadata": {
            "tags": []
          }
        }
      ]
    },
    {
      "cell_type": "code",
      "metadata": {
        "id": "0AfttM0bW-66",
        "colab_type": "code",
        "colab": {
          "base_uri": "https://localhost:8080/",
          "height": 283
        },
        "outputId": "67fad971-e85f-4f81-e63b-b0c62d22bef7"
      },
      "source": [
        "ax = sns.scatterplot(x=\"yearmon\", y=\"PRICE\", hue=\"FUEL_가솔린\", data=df_onehot)"
      ],
      "execution_count": 85,
      "outputs": [
        {
          "output_type": "display_data",
          "data": {
            "image/png": "[encoded data removed]",
            "text/plain": [
              "<Figure size 432x288 with 1 Axes>"
            ]
          },
          "metadata": {
            "tags": []
          }
        }
      ]
    },
    {
      "cell_type": "code",
      "metadata": {
        "id": "4eylQUMkE2sH",
        "colab_type": "code",
        "colab": {
          "base_uri": "https://localhost:8080/",
          "height": 283
        },
        "outputId": "1913dfdd-db11-4517-a82a-9594200555ab"
      },
      "source": [
        "ax = sns.scatterplot(x=\"KM\", y=\"PRICE\", hue=\"FUEL_가솔린\", data=df_onehot)"
      ],
      "execution_count": 86,
      "outputs": [
        {
          "output_type": "display_data",
          "data": {
            "image/png": "[encoded data removed]",
            "text/plain": [
              "<Figure size 432x288 with 1 Axes>"
            ]
          },
          "metadata": {
            "tags": []
          }
        }
      ]
    },
    {
      "cell_type": "code",
      "metadata": {
        "id": "Qp1cf_Qt0vNb",
        "colab_type": "code",
        "colab": {
          "base_uri": "https://localhost:8080/",
          "height": 35
        },
        "outputId": "3b95beea-fcb9-4b89-c970-754cf8143c18"
      },
      "source": [
        "# Data Preparation To Model Fit\n",
        "target_col = ['PRICE']\n",
        "train_col = [col for col in df_onehot.columns if col not in ['PRICE']]\n",
        "print(train_col)\n",
        "train_x, test_x, train_y, test_y = model_selection.train_test_split(df_onehot[train_col], df_onehot[target_col], random_state = 42)"
      ],
      "execution_count": 101,
      "outputs": [
        {
          "output_type": "stream",
          "text": [
            "['KM', 'yearmon', 'NAME_BMW3', 'NAME_BMW5', 'NAME_미니', 'NAME_벤츠C', 'NAME_아반떼 AD', 'NAME_아반떼 전버전', 'NAME_투싼', 'FUEL_가솔린', 'FUEL_디젤']\n"
          ],
          "name": "stdout"
        }
      ]
    },
    {
      "cell_type": "code",
      "metadata": {
        "id": "-H3mQbRt0m2N",
        "colab_type": "code",
        "colab": {}
      },
      "source": [
        "num_attribs = train_col\n",
        "\n",
        "num_pipeline = Pipeline([\n",
        "        ('minmax_scaler', MinMaxScaler()),\n",
        "    ])\n",
        "\n",
        "full_pipeline = ColumnTransformer([\n",
        "        (\"num_pipeline\", num_pipeline, num_attribs),\n",
        "    ])"
      ],
      "execution_count": 0,
      "outputs": []
    },
    {
      "cell_type": "code",
      "metadata": {
        "id": "LKYYzGK9Ds7v",
        "colab_type": "code",
        "colab": {}
      },
      "source": [
        "train_x = full_pipeline.fit_transform(train_x)\n",
        "test_x = full_pipeline.fit_transform(test_x)"
      ],
      "execution_count": 0,
      "outputs": []
    },
    {
      "cell_type": "markdown",
      "metadata": {
        "id": "Pgu3IUb7QyBQ",
        "colab_type": "text"
      },
      "source": [
        "## 기본 모델 테스트"
      ]
    },
    {
      "cell_type": "markdown",
      "metadata": {
        "id": "vZRAFelwTZeg",
        "colab_type": "text"
      },
      "source": [
        "### Linear Regression"
      ]
    },
    {
      "cell_type": "code",
      "metadata": {
        "id": "B_q906f8y6px",
        "colab_type": "code",
        "colab": {
          "base_uri": "https://localhost:8080/",
          "height": 215
        },
        "outputId": "9131604e-2f98-49d4-8f93-15906038ec4c"
      },
      "source": [
        "# Linear Regression 기본 모델\n",
        "lr_model = LinearRegression()\n",
        "\n",
        "# CrossValidation 실행\n",
        "lr_cv_score_pram = ['neg_mean_absolute_error', 'r2', 'explained_variance']\n",
        "lr_cv_results = cross_validate(lr_model, train_x, train_y, cv=5, scoring=lr_cv_score_pram, return_train_score=True)\n",
        "\n",
        "print('************ neg_mean_absolute_error ************')\n",
        "print(lr_cv_results['train_neg_mean_absolute_error'], lr_cv_results['train_neg_mean_absolute_error'].mean())\n",
        "print(lr_cv_results['test_neg_mean_absolute_error'], lr_cv_results['test_neg_mean_absolute_error'].mean())\n",
        "\n",
        "print('************ r2 ************')\n",
        "print(lr_cv_results['train_r2'], lin_cv_results['train_r2'].mean())\n",
        "print(lr_cv_results['test_r2'], lin_cv_results['test_r2'].mean())\n",
        "\n",
        "print('************ explained_variance ************')\n",
        "print(lr_cv_results['train_explained_variance'], lr_cv_results['train_explained_variance'].mean())\n",
        "print(lr_cv_results['test_explained_variance'], lr_cv_results['test_explained_variance'].mean())\n",
        "\n",
        "# Test Set 검증\n",
        "lr_model.fit(train_x, train_y)\n",
        "lr_y_pred = lr_model.predict(test_x)\n",
        "print('************ Final Test Result ************')\n",
        "print(\"Linear Regression r2 is : {:.2f}, mean squared error is : {:.2f}\".format(metrics.r2_score(test_y, lr_y_pred), metrics.mean_squared_error(test_y, lr_y_pred)))"
      ],
      "execution_count": 174,
      "outputs": [
        {
          "output_type": "stream",
          "text": [
            "************ neg_mean_absolute_error ************\n",
            "[-216.43473386 -215.00685148 -213.24939652 -221.32153829 -217.09279366] -216.62106276492577\n",
            "[-239.10398414 -281.95535315 -303.03458769 -248.8320188  -292.72530584] -273.1302499210323\n",
            "************ r2 ************\n",
            "[0.8222742  0.84434324 0.85715005 0.87302676 0.87583797] 0.854526444714175\n",
            "[0.86024115 0.82051688 0.74343045 0.35362256 0.1200208 ] 0.5795663685641712\n",
            "************ explained_variance ************\n",
            "[0.8222742  0.84434324 0.85715005 0.87302676 0.87583797] 0.8545264447141753\n",
            "[0.86037928 0.82109502 0.7622356  0.37071696 0.1312426 ] 0.589133892187172\n",
            "************ Final Test Result ************\n",
            "Linear Regression r2 is : 0.64, mean squared error is : 96924.24\n"
          ],
          "name": "stdout"
        }
      ]
    },
    {
      "cell_type": "code",
      "metadata": {
        "id": "bH6YPJxhFdfX",
        "colab_type": "code",
        "colab": {
          "base_uri": "https://localhost:8080/",
          "height": 323
        },
        "outputId": "9cda83d6-fd3b-4fdb-9dc2-2e5a77cf3f41"
      },
      "source": [
        "# XGBoost 기본 모델\n",
        "xgr_model = xgboost.XGBRegressor()\n",
        "xgr_score_pram = ['neg_mean_absolute_error', 'r2', 'explained_variance']\n",
        "xgr_cv_results = cross_validate(xgr_model, train_x, train_y, cv=5, scoring=xgr_score_pram, return_train_score=True)\n",
        "\n",
        "print('************ neg_mean_absolute_error ************')\n",
        "print(xgr_cv_results['train_neg_mean_absolute_error'], xgr_cv_results['train_neg_mean_absolute_error'].mean())\n",
        "print(xgr_cv_results['test_neg_mean_absolute_error'], xgr_cv_results['test_neg_mean_absolute_error'].mean())\n",
        "\n",
        "print('************ r2 ************')\n",
        "print(xgr_cv_results['train_r2'], xgr_cv_results['train_r2'].mean())\n",
        "print(xgr_cv_results['test_r2'], xgr_cv_results['test_r2'].mean())\n",
        "\n",
        "print('************ explained_variance ************')\n",
        "print(xgr_cv_results['train_explained_variance'], xgr_cv_results['train_explained_variance'].mean())\n",
        "print(xgr_cv_results['test_explained_variance'], xgr_cv_results['test_explained_variance'].mean())\n",
        "\n",
        "# Test Set 검증\n",
        "xgr_model.fit(train_x, train_y)\n",
        "xgr_y_pred = xgr_model.predict(test_x)\n",
        "print('************ Final Test Result ************')\n",
        "print(\"XGBoost Regression r2 is : {:.2f}, mean squared error is : {:.2f}\".format(metrics.r2_score(test_y, xgr_y_pred), metrics.mean_squared_error(test_y, xgr_y_pred)))\n",
        "\n",
        "# CV Result 상 Overfitting 됨 - GridSearch를 통해 제약조건 추가 필요 "
      ],
      "execution_count": 171,
      "outputs": [
        {
          "output_type": "stream",
          "text": [
            "[07:01:43] WARNING: /workspace/src/objective/regression_obj.cu:152: reg:linear is now deprecated in favor of reg:squarederror.\n",
            "[07:01:43] WARNING: /workspace/src/objective/regression_obj.cu:152: reg:linear is now deprecated in favor of reg:squarederror.\n",
            "[07:01:43] WARNING: /workspace/src/objective/regression_obj.cu:152: reg:linear is now deprecated in favor of reg:squarederror.\n",
            "[07:01:43] WARNING: /workspace/src/objective/regression_obj.cu:152: reg:linear is now deprecated in favor of reg:squarederror.\n",
            "[07:01:43] WARNING: /workspace/src/objective/regression_obj.cu:152: reg:linear is now deprecated in favor of reg:squarederror.\n",
            "************ neg_mean_absolute_error ************\n",
            "[-32.63488448 -28.23062134 -33.55065597 -27.61829396 -35.96634615] -31.600160379963206\n",
            "[-309.57816162 -591.20976563 -348.80910034 -326.60270182 -162.86770291] -347.8134864637587\n",
            "************ r2 ************\n",
            "[0.99523151 0.99718672 0.99608759 0.99762383 0.99614818] 0.9964555690496818\n",
            "[0.51081968 0.03960009 0.43375276 0.26059113 0.72302626] 0.393557982854248\n",
            "************ explained_variance ************\n",
            "[0.99523302 0.99718756 0.9960899  0.99762538 0.99615088] 0.9964573458807162\n",
            "[0.53917303 0.11402041 0.48041659 0.34530336 0.72367605] 0.4405178885481661\n",
            "[07:01:43] WARNING: /workspace/src/objective/regression_obj.cu:152: reg:linear is now deprecated in favor of reg:squarederror.\n",
            "************ Final Test Result ************\n",
            "XGBoost Regression r2 is : 0.37, mean squared error is : 172540.16\n"
          ],
          "name": "stdout"
        }
      ]
    },
    {
      "cell_type": "code",
      "metadata": {
        "id": "6DC8UF0pLcR2",
        "colab_type": "code",
        "colab": {
          "base_uri": "https://localhost:8080/",
          "height": 197
        },
        "outputId": "bf63c705-69f8-4f8b-8e41-4b4f910eca60"
      },
      "source": [
        "# Decision Tree 기본 모델\n",
        "dtr_model = DecisionTreeRegressor()\n",
        "\n",
        "dtr_score_pram = ['neg_mean_absolute_error', 'r2', 'explained_variance']\n",
        "dtr_cv_results = cross_validate(dtr_model, train_x, train_y, cv=5, scoring=dtr_score_pram, return_train_score=True)\n",
        "\n",
        "print('************ neg_mean_absolute_error ************')\n",
        "print(dtr_cv_results['train_neg_mean_absolute_error'], dtr_cv_results['train_neg_mean_absolute_error'].mean())\n",
        "print(dtr_cv_results['test_neg_mean_absolute_error'], dtr_cv_results['test_neg_mean_absolute_error'].mean())\n",
        "\n",
        "print('************ r2 ************')\n",
        "print(dtr_cv_results['train_r2'], dtr_cv_results['train_r2'].mean())\n",
        "print(dtr_cv_results['test_r2'], dtr_cv_results['test_r2'].mean())\n",
        "\n",
        "print('************ explained_variance ************')\n",
        "print(dtr_cv_results['train_explained_variance'], dtr_cv_results['train_explained_variance'].mean())\n",
        "print(dtr_cv_results['test_explained_variance'], dtr_cv_results['test_explained_variance'].mean())\n",
        "\n",
        "# Test Set 검증\n",
        "dtr_model.fit(train_x, train_y)\n",
        "dtr_y_pred = dtr_model.predict(test_x)\n",
        "print(\"DecisionTree Regression r2 is : {:.2f}, mean squared error is : {:.2f}\".format(metrics.r2_score(test_y, dtr_y_pred), metrics.mean_squared_error(test_y, dtr_y_pred)))\n",
        "\n",
        "# CrossValidtion 결과 모델 학습이 되지 않음"
      ],
      "execution_count": 172,
      "outputs": [
        {
          "output_type": "stream",
          "text": [
            "************ neg_mean_absolute_error ************\n",
            "[-0. -0. -0. -0. -0.] 0.0\n",
            "[-395.         -670.         -516.         -577.77777778 -347.77777778] -501.31111111111113\n",
            "************ r2 ************\n",
            "[1. 1. 1. 1. 1.] 1.0\n",
            "[ 0.26353606 -0.51535036  0.08957066 -5.26356122 -1.67812645] -1.4207862636685278\n",
            "************ explained_variance ************\n",
            "[1. 1. 1. 1. 1.] 1.0\n",
            "[ 0.36754209 -0.46739708  0.09119449 -5.17880359 -1.61233305] -1.359959425914795\n",
            "DecisionTree Regression r2 is : -0.02, mean squared error is : 278368.75\n"
          ],
          "name": "stdout"
        }
      ]
    },
    {
      "cell_type": "code",
      "metadata": {
        "id": "RGuAcL_1QGsN",
        "colab_type": "code",
        "colab": {
          "base_uri": "https://localhost:8080/",
          "height": 197
        },
        "outputId": "78ef4e55-78a6-491e-816b-7c0b4dc5e220"
      },
      "source": [
        "# RandomForest 기본 모델\n",
        "rfr_model = RandomForestRegressor()\n",
        "\n",
        "rfr_score_pram = ['neg_mean_absolute_error', 'r2', 'explained_variance']\n",
        "rfr_cv_results = cross_validate(rfr_model, train_x, train_y, cv=5, scoring=rfr_score_pram, return_train_score=True)\n",
        "\n",
        "print('************ neg_mean_absolute_error ************')\n",
        "print(rfr_cv_results['train_neg_mean_absolute_error'], rfr_cv_results['train_neg_mean_absolute_error'].mean())\n",
        "print(rfr_cv_results['test_neg_mean_absolute_error'], rfr_cv_results['test_neg_mean_absolute_error'].mean())\n",
        "\n",
        "print('************ r2 ************')\n",
        "print(rfr_cv_results['train_r2'], rfr_cv_results['train_r2'].mean())\n",
        "print(rfr_cv_results['test_r2'], rfr_cv_results['test_r2'].mean())\n",
        "\n",
        "print('************ explained_variance ************')\n",
        "print(rfr_cv_results['train_explained_variance'], rfr_cv_results['train_explained_variance'].mean())\n",
        "print(rfr_cv_results['test_explained_variance'], rfr_cv_results['test_explained_variance'].mean())\n",
        "\n",
        "# Test Set 검증\n",
        "rfr_model.fit(train_x, train_y)\n",
        "rfr_y_pred = rfr_model.predict(test_x)\n",
        "print(\"RandomForest Regression r2 is : {:.2f}, mean squared error is : {:.2f}\".format(metrics.r2_score(test_y, rfr_y_pred), metrics.mean_squared_error(test_y, rfr_y_pred)))\n",
        "\n",
        "# CV Result 상 과적합 됨 - GridSearch를 통해 제약조건 추가 필요 "
      ],
      "execution_count": 173,
      "outputs": [
        {
          "output_type": "stream",
          "text": [
            "************ neg_mean_absolute_error ************\n",
            "[-123.05263158 -119.81578947 -140.34210526 -181.46153846 -164.02564103] -145.73954116059377\n",
            "[-364.3        -659.6        -250.5        -331.44444444 -352.66666667] -391.70222222222225\n",
            "************ r2 ************\n",
            "[0.85844634 0.87655714 0.86220377 0.84224771 0.86652251] 0.8611954937054522\n",
            "[ 0.34712804 -0.049911    0.74815226  0.21585703 -0.57503588] 0.13723808909494067\n",
            "************ explained_variance ************\n",
            "[0.85851727 0.87796135 0.86238912 0.84478207 0.86737128] 0.8622042170164569\n",
            "[ 0.40625387  0.03933344  0.75949833  0.21587728 -0.42365539] 0.19946150373050647\n",
            "RandomForest Regression r2 is : -0.70, mean squared error is : 462551.75\n"
          ],
          "name": "stdout"
        }
      ]
    },
    {
      "cell_type": "markdown",
      "metadata": {
        "id": "_chIGHCVSPWQ",
        "colab_type": "text"
      },
      "source": [
        "### GridSearchCV 실행 최적값 찾기"
      ]
    },
    {
      "cell_type": "code",
      "metadata": {
        "id": "K_ycw314F_Fz",
        "colab_type": "code",
        "colab": {
          "base_uri": "https://localhost:8080/",
          "height": 161
        },
        "outputId": "e9b3d086-df6e-4aca-c024-195e4469dd82"
      },
      "source": [
        "# XGBoost GridSearch를 위한 Parameter Search\n",
        "xgr_params = {'colsample_bytree':[i/10.0 for i in range(6,11)], 'gamma':[i/10.0 for i in range(3,6)],'max_depth': [2,3,4], \n",
        "          'min_child_weight':[4,5], 'objective':['reg:squarederror'], 'subsample':[i/10.0 for i in range(6,11)]}\n",
        "\n",
        "# Initialize XGB and GridSearch\n",
        "xgr = xgboost.XGBRegressor(nthread=-1) \n",
        "\n",
        "xgr_grid = GridSearchCV(xgr, xgr_params)\n",
        "xgr_grid.fit(train_x, train_y)\n",
        "\n",
        "print(xgr_grid.best_estimator_)\n",
        "\n",
        "# Print the r2 score\n",
        "print(metrics.r2_score(test_y, xgr_grid.best_estimator_.predict(test_x))) "
      ],
      "execution_count": 175,
      "outputs": [
        {
          "output_type": "stream",
          "text": [
            "XGBRegressor(base_score=0.5, booster='gbtree', colsample_bylevel=1,\n",
            "             colsample_bynode=1, colsample_bytree=0.7, gamma=0.3,\n",
            "             importance_type='gain', learning_rate=0.1, max_delta_step=0,\n",
            "             max_depth=3, min_child_weight=4, missing=None, n_estimators=100,\n",
            "             n_jobs=1, nthread=-1, objective='reg:squarederror', random_state=0,\n",
            "             reg_alpha=0, reg_lambda=1, scale_pos_weight=1, seed=None,\n",
            "             silent=None, subsample=0.8, verbosity=1)\n",
            "0.770424693849864\n"
          ],
          "name": "stdout"
        }
      ]
    },
    {
      "cell_type": "code",
      "metadata": {
        "id": "3EmCDF_-Corx",
        "colab_type": "code",
        "colab": {
          "base_uri": "https://localhost:8080/",
          "height": 161
        },
        "outputId": "8f2a03ec-fa1d-4fa0-d133-1a16f161da3f"
      },
      "source": [
        "# Random Forest GridSearch를 위한 Parameter Search\n",
        "\n",
        "rfr_param_grid = { \"n_estimators\": [10,20,30], \"max_features\" : [\"auto\", \"sqrt\", \"log2\"], \"min_samples_split\" : [2,4,8], \"bootstrap\": [True, False], }\n",
        "\n",
        "\n",
        "# Initialize RandomForest and GridSearch\n",
        "rfr = RandomForestRegressor() \n",
        "\n",
        "rfr_grid = GridSearchCV(rfr, rfr_param_grid)\n",
        "rfr_grid.fit(train_x, train_y)\n",
        "\n",
        "print(rfr_grid.best_estimator_)\n",
        "\n",
        "# Print the r2 score\n",
        "print(metrics.r2_score(test_y, rfr_grid.best_estimator_.predict(test_x))) "
      ],
      "execution_count": 178,
      "outputs": [
        {
          "output_type": "stream",
          "text": [
            "RandomForestRegressor(bootstrap=False, criterion='mse', max_depth=None,\n",
            "                      max_features='sqrt', max_leaf_nodes=None,\n",
            "                      min_impurity_decrease=0.0, min_impurity_split=None,\n",
            "                      min_samples_leaf=1, min_samples_split=2,\n",
            "                      min_weight_fraction_leaf=0.0, n_estimators=30,\n",
            "                      n_jobs=None, oob_score=False, random_state=None,\n",
            "                      verbose=0, warm_start=False)\n",
            "0.2010435326359179\n"
          ],
          "name": "stdout"
        }
      ]
    },
    {
      "cell_type": "code",
      "metadata": {
        "id": "BqishfswXOPV",
        "colab_type": "code",
        "colab": {}
      },
      "source": [
        ""
      ],
      "execution_count": 0,
      "outputs": []
    }
  ]
}
