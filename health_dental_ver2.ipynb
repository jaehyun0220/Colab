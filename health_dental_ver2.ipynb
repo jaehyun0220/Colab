{
  "nbformat": 4,
  "nbformat_minor": 0,
  "metadata": {
    "kernelspec": {
      "name": "python3",
      "display_name": "Python 3"
    },
    "language_info": {
      "codemirror_mode": {
        "name": "ipython",
        "version": 3
      },
      "file_extension": ".py",
      "mimetype": "text/x-python",
      "name": "python",
      "nbconvert_exporter": "python",
      "pygments_lexer": "ipython3",
      "version": "3.6.8"
    },
    "colab": {
      "name": "health_dental_ver1.ipynb",
      "provenance": [],
      "collapsed_sections": [],
      "include_colab_link": true
    },
    "accelerator": "GPU"
  },
  "cells": [
    {
      "cell_type": "markdown",
      "metadata": {
        "id": "view-in-github",
        "colab_type": "text"
      },
      "source": [
        "<a href=\"https://colab.research.google.com/github/jaehyun0220/Colab/blob/master/health_dental_ver2.ipynb\" target=\"_parent\"><img src=\"https://colab.research.google.com/assets/colab-badge.svg\" alt=\"Open In Colab\"/></a>"
      ]
    },
    {
      "cell_type": "code",
      "metadata": {
        "id": "sSbAKlmw4kEe",
        "colab_type": "code",
        "colab": {}
      },
      "source": [
        "import pandas as pd\n",
        "import numpy as np\n",
        "import os, sys\n",
        "\n",
        "import re\n",
        "\n",
        "import tensorflow as tf"
      ],
      "execution_count": 0,
      "outputs": []
    },
    {
      "cell_type": "code",
      "metadata": {
        "id": "PPVngO8dLwzt",
        "colab_type": "code",
        "colab": {
          "base_uri": "https://localhost:8080/",
          "height": 35
        },
        "outputId": "0b59df88-910c-4dd2-ff9b-6d53140b2a7c"
      },
      "source": [
        "#데이터 전처리 관련 라이브러리 로드\n",
        "from sklearn import preprocessing\n",
        "from sklearn.preprocessing import MinMaxScaler\n",
        "from sklearn.preprocessing import FunctionTransformer\n",
        "from sklearn.compose import ColumnTransformer\n",
        "from sklearn.pipeline import Pipeline\n",
        "\n",
        "from sklearn.preprocessing import LabelEncoder\n",
        "from sklearn.preprocessing import OneHotEncoder\n",
        "from sklearn.model_selection import ShuffleSplit\n",
        "\n",
        "#모델 알고리즘 로드\n",
        "from sklearn import svm, tree\n",
        "from xgboost.sklearn import XGBClassifier\n",
        "from sklearn.ensemble import RandomForestClassifier, GradientBoostingClassifier\n",
        "\n",
        "# Deep Learning Model 로드\n",
        "from keras.models import Sequential\n",
        "from keras.layers import Dense, Dropout, Activation \n",
        "from keras.wrappers.scikit_learn import KerasClassifier\n",
        "\n",
        "\n",
        "#HyperParameter Tuning을 위한 라이브러리 로드\n",
        "from sklearn.model_selection import GridSearchCV\n",
        "from sklearn.model_selection import RandomizedSearchCV\n",
        "\n",
        "#모델 평가를 위한 라이브러리 로드\n",
        "from sklearn import metrics\n",
        "from sklearn.model_selection import cross_validate\n",
        "from sklearn import model_selection\n",
        "\n",
        "#수학 & 통계 관련 라이브러리 로드\n",
        "import scipy.stats as st\n",
        "from collections import Counter\n",
        "\n",
        "#ignore warnings\n",
        "import warnings\n",
        "warnings.filterwarnings('ignore')"
      ],
      "execution_count": 42,
      "outputs": [
        {
          "output_type": "stream",
          "text": [
            "Using TensorFlow backend.\n"
          ],
          "name": "stderr"
        }
      ]
    },
    {
      "cell_type": "code",
      "metadata": {
        "id": "7Wo27tSu4kEh",
        "colab_type": "code",
        "outputId": "45d10f53-1373-4c47-ffe6-063b7bc510c9",
        "colab": {
          "base_uri": "https://localhost:8080/",
          "height": 35
        }
      },
      "source": [
        "#Visualization\n",
        "import matplotlib as mpl  # 기본 설정 만지는 용도\n",
        "import matplotlib.pyplot as plt  # 그래프 그리는 용도\n",
        "import matplotlib.font_manager as fm  # 폰트 관련 용도\n",
        "import seaborn as sns\n",
        "\n",
        "#Configure Visualization Defaults\n",
        "#%matplotlib inline = show plots in Jupyter Notebook browser\n",
        "%matplotlib inline\n",
        "mpl.style.use('ggplot')\n",
        "sns.set_style('white')\n",
        "\n",
        "# 한글 글꼴 설치\n",
        "!apt-get update -qq\n",
        "!apt-get install fonts-nanum* -qq\n",
        "\n",
        "path = '/usr/share/fonts/truetype/nanum/NanumGothicEco.ttf'  # 설치된 나눔글꼴중 원하는 녀석의 전체 경로를 가져오자\n",
        "font_name = fm.FontProperties(fname=path, size=10).get_name()\n",
        "print(font_name)\n",
        "plt.rc('font', family=font_name)\n",
        "\n",
        "# 우선 fm._rebuild() 를 해주고\n",
        "fm._rebuild()"
      ],
      "execution_count": 43,
      "outputs": [
        {
          "output_type": "stream",
          "text": [
            "NanumGothic Eco\n"
          ],
          "name": "stdout"
        }
      ]
    },
    {
      "cell_type": "code",
      "metadata": {
        "id": "oERZHfZ04v3N",
        "colab_type": "code",
        "outputId": "4459e2b2-e95e-4fee-b6d8-9bcd7826b8b5",
        "colab": {
          "base_uri": "https://localhost:8080/",
          "height": 127
        }
      },
      "source": [
        "# Auth 인증 및 Google Drive 활용 Data load\n",
        "from google.colab import auth\n",
        "auth.authenticate_user()\n",
        "\n",
        "from google.colab import drive\n",
        "drive.mount('/gdrive', force_remount=True)\n",
        "\n",
        "# Google Drive 내 Custom Class 경로 지정\n",
        "import sys\n",
        "sys.path.insert(0, '/gdrive/My Drive/CustomClasses')"
      ],
      "execution_count": 4,
      "outputs": [
        {
          "output_type": "stream",
          "text": [
            "Go to this URL in a browser: https://accounts.google.com/o/oauth2/auth?client_id=947318989803-6bn6qk8qdgf4n4g3pfee6491hc0brc4i.apps.googleusercontent.com&redirect_uri=urn%3Aietf%3Awg%3Aoauth%3A2.0%3Aoob&scope=email%20https%3A%2F%2Fwww.googleapis.com%2Fauth%2Fdocs.test%20https%3A%2F%2Fwww.googleapis.com%2Fauth%2Fdrive%20https%3A%2F%2Fwww.googleapis.com%2Fauth%2Fdrive.photos.readonly%20https%3A%2F%2Fwww.googleapis.com%2Fauth%2Fpeopleapi.readonly&response_type=code\n",
            "\n",
            "Enter your authorization code:\n",
            "··········\n",
            "Mounted at /gdrive\n"
          ],
          "name": "stdout"
        }
      ]
    },
    {
      "cell_type": "code",
      "metadata": {
        "id": "zWj4YSDl4vvE",
        "colab_type": "code",
        "outputId": "dc4a07b9-f277-4820-b603-ee2101663ded",
        "colab": {
          "base_uri": "https://localhost:8080/",
          "height": 35
        }
      },
      "source": [
        "# !ls /gdrive/My\\ Drive/data/sds\n",
        "!ls ../gdrive/My\\ Drive/data/sds"
      ],
      "execution_count": 0,
      "outputs": [
        {
          "output_type": "stream",
          "text": [
            "NHIS_OPEN_GJ_2015.CSV  NHIS_OPEN_GJ_2016.csv  NHIS_OPEN_GJ_2017.CSV\n"
          ],
          "name": "stdout"
        }
      ]
    },
    {
      "cell_type": "markdown",
      "metadata": {
        "id": "kbVgUIo5nNxq",
        "colab_type": "text"
      },
      "source": [
        "## 파일 Read 및 기초 탐색"
      ]
    },
    {
      "cell_type": "code",
      "metadata": {
        "id": "iF7GDYjb4kEi",
        "colab_type": "code",
        "outputId": "b8e5d920-4870-46b2-f0a8-9c95f234b36a",
        "colab": {
          "base_uri": "https://localhost:8080/",
          "height": 527
        }
      },
      "source": [
        "df_raw_2016 = pd.read_csv('../gdrive/My Drive/data/sds/NHIS_OPEN_GJ_2016.csv', encoding = 'euc-kr')\n",
        "df_raw_2017 = pd.read_csv('../gdrive/My Drive/data/sds/NHIS_OPEN_GJ_2017.CSV', encoding = 'euc-kr')\n",
        "display(df_raw_2016.head())\n",
        "display(df_raw_2017.head())"
      ],
      "execution_count": 5,
      "outputs": [
        {
          "output_type": "display_data",
          "data": {
            "text/html": [
              "<div>\n",
              "<style scoped>\n",
              "    .dataframe tbody tr th:only-of-type {\n",
              "        vertical-align: middle;\n",
              "    }\n",
              "\n",
              "    .dataframe tbody tr th {\n",
              "        vertical-align: top;\n",
              "    }\n",
              "\n",
              "    .dataframe thead th {\n",
              "        text-align: right;\n",
              "    }\n",
              "</style>\n",
              "<table border=\"1\" class=\"dataframe\">\n",
              "  <thead>\n",
              "    <tr style=\"text-align: right;\">\n",
              "      <th></th>\n",
              "      <th>기준년도</th>\n",
              "      <th>가입자일련번호</th>\n",
              "      <th>성별코드</th>\n",
              "      <th>연령대코드(5세단위)</th>\n",
              "      <th>시도코드</th>\n",
              "      <th>신장(5Cm단위)</th>\n",
              "      <th>체중(5Kg단위)</th>\n",
              "      <th>허리둘레</th>\n",
              "      <th>시력(좌)</th>\n",
              "      <th>시력(우)</th>\n",
              "      <th>청력(좌)</th>\n",
              "      <th>청력(우)</th>\n",
              "      <th>수축기혈압</th>\n",
              "      <th>이완기혈압</th>\n",
              "      <th>식전혈당(공복혈당)</th>\n",
              "      <th>총콜레스테롤</th>\n",
              "      <th>트리글리세라이드</th>\n",
              "      <th>HDL콜레스테롤</th>\n",
              "      <th>LDL콜레스테롤</th>\n",
              "      <th>혈색소</th>\n",
              "      <th>요단백</th>\n",
              "      <th>혈청크레아티닌</th>\n",
              "      <th>(혈청지오티)AST</th>\n",
              "      <th>(혈청지오티)ALT</th>\n",
              "      <th>감마지티피</th>\n",
              "      <th>흡연상태</th>\n",
              "      <th>음주여부</th>\n",
              "      <th>구강검진 수검여부</th>\n",
              "      <th>치아우식증유무</th>\n",
              "      <th>결손치유무</th>\n",
              "      <th>치아마모증유무</th>\n",
              "      <th>제3대구치(사랑니)이상</th>\n",
              "      <th>치석</th>\n",
              "      <th>데이터공개일자</th>\n",
              "    </tr>\n",
              "  </thead>\n",
              "  <tbody>\n",
              "    <tr>\n",
              "      <th>0</th>\n",
              "      <td>2016</td>\n",
              "      <td>1</td>\n",
              "      <td>1</td>\n",
              "      <td>10</td>\n",
              "      <td>27</td>\n",
              "      <td>175.0</td>\n",
              "      <td>75.0</td>\n",
              "      <td>86.0</td>\n",
              "      <td>1.0</td>\n",
              "      <td>1.2</td>\n",
              "      <td>1.0</td>\n",
              "      <td>1.0</td>\n",
              "      <td>140.0</td>\n",
              "      <td>90.0</td>\n",
              "      <td>91.0</td>\n",
              "      <td>263.0</td>\n",
              "      <td>196.0</td>\n",
              "      <td>46.0</td>\n",
              "      <td>177.0</td>\n",
              "      <td>16.0</td>\n",
              "      <td>1.0</td>\n",
              "      <td>0.9</td>\n",
              "      <td>27.0</td>\n",
              "      <td>30.0</td>\n",
              "      <td>45.0</td>\n",
              "      <td>3.0</td>\n",
              "      <td>NaN</td>\n",
              "      <td>0</td>\n",
              "      <td>NaN</td>\n",
              "      <td>NaN</td>\n",
              "      <td>NaN</td>\n",
              "      <td>NaN</td>\n",
              "      <td>NaN</td>\n",
              "      <td>20171219</td>\n",
              "    </tr>\n",
              "    <tr>\n",
              "      <th>1</th>\n",
              "      <td>2016</td>\n",
              "      <td>2</td>\n",
              "      <td>2</td>\n",
              "      <td>11</td>\n",
              "      <td>41</td>\n",
              "      <td>160.0</td>\n",
              "      <td>65.0</td>\n",
              "      <td>85.0</td>\n",
              "      <td>1.5</td>\n",
              "      <td>1.2</td>\n",
              "      <td>1.0</td>\n",
              "      <td>1.0</td>\n",
              "      <td>138.0</td>\n",
              "      <td>80.0</td>\n",
              "      <td>105.0</td>\n",
              "      <td>185.0</td>\n",
              "      <td>262.0</td>\n",
              "      <td>35.0</td>\n",
              "      <td>122.0</td>\n",
              "      <td>13.1</td>\n",
              "      <td>1.0</td>\n",
              "      <td>0.9</td>\n",
              "      <td>18.0</td>\n",
              "      <td>17.0</td>\n",
              "      <td>19.0</td>\n",
              "      <td>1.0</td>\n",
              "      <td>NaN</td>\n",
              "      <td>0</td>\n",
              "      <td>NaN</td>\n",
              "      <td>NaN</td>\n",
              "      <td>NaN</td>\n",
              "      <td>NaN</td>\n",
              "      <td>NaN</td>\n",
              "      <td>20171219</td>\n",
              "    </tr>\n",
              "    <tr>\n",
              "      <th>2</th>\n",
              "      <td>2016</td>\n",
              "      <td>3</td>\n",
              "      <td>2</td>\n",
              "      <td>11</td>\n",
              "      <td>43</td>\n",
              "      <td>150.0</td>\n",
              "      <td>55.0</td>\n",
              "      <td>80.0</td>\n",
              "      <td>1.5</td>\n",
              "      <td>1.5</td>\n",
              "      <td>1.0</td>\n",
              "      <td>1.0</td>\n",
              "      <td>138.0</td>\n",
              "      <td>88.0</td>\n",
              "      <td>93.0</td>\n",
              "      <td>246.0</td>\n",
              "      <td>186.0</td>\n",
              "      <td>59.0</td>\n",
              "      <td>150.0</td>\n",
              "      <td>13.6</td>\n",
              "      <td>1.0</td>\n",
              "      <td>0.7</td>\n",
              "      <td>23.0</td>\n",
              "      <td>19.0</td>\n",
              "      <td>64.0</td>\n",
              "      <td>1.0</td>\n",
              "      <td>NaN</td>\n",
              "      <td>0</td>\n",
              "      <td>NaN</td>\n",
              "      <td>NaN</td>\n",
              "      <td>NaN</td>\n",
              "      <td>NaN</td>\n",
              "      <td>NaN</td>\n",
              "      <td>20171219</td>\n",
              "    </tr>\n",
              "    <tr>\n",
              "      <th>3</th>\n",
              "      <td>2016</td>\n",
              "      <td>4</td>\n",
              "      <td>1</td>\n",
              "      <td>12</td>\n",
              "      <td>48</td>\n",
              "      <td>175.0</td>\n",
              "      <td>70.0</td>\n",
              "      <td>85.0</td>\n",
              "      <td>1.2</td>\n",
              "      <td>1.2</td>\n",
              "      <td>1.0</td>\n",
              "      <td>1.0</td>\n",
              "      <td>124.0</td>\n",
              "      <td>76.0</td>\n",
              "      <td>93.0</td>\n",
              "      <td>179.0</td>\n",
              "      <td>79.0</td>\n",
              "      <td>40.0</td>\n",
              "      <td>123.0</td>\n",
              "      <td>16.8</td>\n",
              "      <td>1.0</td>\n",
              "      <td>1.0</td>\n",
              "      <td>20.0</td>\n",
              "      <td>39.0</td>\n",
              "      <td>69.0</td>\n",
              "      <td>2.0</td>\n",
              "      <td>NaN</td>\n",
              "      <td>1</td>\n",
              "      <td>NaN</td>\n",
              "      <td>NaN</td>\n",
              "      <td>NaN</td>\n",
              "      <td>NaN</td>\n",
              "      <td>1.0</td>\n",
              "      <td>20171219</td>\n",
              "    </tr>\n",
              "    <tr>\n",
              "      <th>4</th>\n",
              "      <td>2016</td>\n",
              "      <td>5</td>\n",
              "      <td>2</td>\n",
              "      <td>6</td>\n",
              "      <td>11</td>\n",
              "      <td>160.0</td>\n",
              "      <td>50.0</td>\n",
              "      <td>67.0</td>\n",
              "      <td>0.4</td>\n",
              "      <td>0.5</td>\n",
              "      <td>1.0</td>\n",
              "      <td>1.0</td>\n",
              "      <td>121.0</td>\n",
              "      <td>68.0</td>\n",
              "      <td>96.0</td>\n",
              "      <td>223.0</td>\n",
              "      <td>104.0</td>\n",
              "      <td>72.0</td>\n",
              "      <td>130.0</td>\n",
              "      <td>12.8</td>\n",
              "      <td>1.0</td>\n",
              "      <td>0.7</td>\n",
              "      <td>13.0</td>\n",
              "      <td>7.0</td>\n",
              "      <td>20.0</td>\n",
              "      <td>1.0</td>\n",
              "      <td>NaN</td>\n",
              "      <td>0</td>\n",
              "      <td>NaN</td>\n",
              "      <td>NaN</td>\n",
              "      <td>NaN</td>\n",
              "      <td>NaN</td>\n",
              "      <td>NaN</td>\n",
              "      <td>20171219</td>\n",
              "    </tr>\n",
              "  </tbody>\n",
              "</table>\n",
              "</div>"
            ],
            "text/plain": [
              "   기준년도  가입자일련번호  성별코드  연령대코드(5세단위)  ...  치아마모증유무  제3대구치(사랑니)이상   치석   데이터공개일자\n",
              "0  2016        1     1           10  ...      NaN           NaN  NaN  20171219\n",
              "1  2016        2     2           11  ...      NaN           NaN  NaN  20171219\n",
              "2  2016        3     2           11  ...      NaN           NaN  NaN  20171219\n",
              "3  2016        4     1           12  ...      NaN           NaN  1.0  20171219\n",
              "4  2016        5     2            6  ...      NaN           NaN  NaN  20171219\n",
              "\n",
              "[5 rows x 34 columns]"
            ]
          },
          "metadata": {
            "tags": []
          }
        },
        {
          "output_type": "display_data",
          "data": {
            "text/html": [
              "<div>\n",
              "<style scoped>\n",
              "    .dataframe tbody tr th:only-of-type {\n",
              "        vertical-align: middle;\n",
              "    }\n",
              "\n",
              "    .dataframe tbody tr th {\n",
              "        vertical-align: top;\n",
              "    }\n",
              "\n",
              "    .dataframe thead th {\n",
              "        text-align: right;\n",
              "    }\n",
              "</style>\n",
              "<table border=\"1\" class=\"dataframe\">\n",
              "  <thead>\n",
              "    <tr style=\"text-align: right;\">\n",
              "      <th></th>\n",
              "      <th>기준년도</th>\n",
              "      <th>가입자일련번호</th>\n",
              "      <th>성별코드</th>\n",
              "      <th>연령대코드(5세단위)</th>\n",
              "      <th>시도코드</th>\n",
              "      <th>신장(5Cm단위)</th>\n",
              "      <th>체중(5Kg 단위)</th>\n",
              "      <th>허리둘레</th>\n",
              "      <th>시력(좌)</th>\n",
              "      <th>시력(우)</th>\n",
              "      <th>청력(좌)</th>\n",
              "      <th>청력(우)</th>\n",
              "      <th>수축기혈압</th>\n",
              "      <th>이완기혈압</th>\n",
              "      <th>식전혈당(공복혈당)</th>\n",
              "      <th>총콜레스테롤</th>\n",
              "      <th>트리글리세라이드</th>\n",
              "      <th>HDL콜레스테롤</th>\n",
              "      <th>LDL콜레스테롤</th>\n",
              "      <th>혈색소</th>\n",
              "      <th>요단백</th>\n",
              "      <th>혈청크레아티닌</th>\n",
              "      <th>(혈청지오티)AST</th>\n",
              "      <th>(혈청지오티)ALT</th>\n",
              "      <th>감마지티피</th>\n",
              "      <th>흡연상태</th>\n",
              "      <th>음주여부</th>\n",
              "      <th>구강검진 수검여부</th>\n",
              "      <th>치아우식증유무</th>\n",
              "      <th>결손치유무</th>\n",
              "      <th>치아마모증유무</th>\n",
              "      <th>제3대구치(사랑니)이상</th>\n",
              "      <th>치석</th>\n",
              "      <th>데이터공개일자</th>\n",
              "    </tr>\n",
              "  </thead>\n",
              "  <tbody>\n",
              "    <tr>\n",
              "      <th>0</th>\n",
              "      <td>2017</td>\n",
              "      <td>1</td>\n",
              "      <td>1</td>\n",
              "      <td>13</td>\n",
              "      <td>46</td>\n",
              "      <td>170.0</td>\n",
              "      <td>65.0</td>\n",
              "      <td>91.0</td>\n",
              "      <td>1.0</td>\n",
              "      <td>1.2</td>\n",
              "      <td>1.0</td>\n",
              "      <td>1.0</td>\n",
              "      <td>158.0</td>\n",
              "      <td>88.0</td>\n",
              "      <td>95.0</td>\n",
              "      <td>178.0</td>\n",
              "      <td>161.0</td>\n",
              "      <td>43.0</td>\n",
              "      <td>102.0</td>\n",
              "      <td>15.9</td>\n",
              "      <td>1.0</td>\n",
              "      <td>1.0</td>\n",
              "      <td>19.0</td>\n",
              "      <td>41.0</td>\n",
              "      <td>25.0</td>\n",
              "      <td>3.0</td>\n",
              "      <td>0.0</td>\n",
              "      <td>1</td>\n",
              "      <td>NaN</td>\n",
              "      <td>NaN</td>\n",
              "      <td>NaN</td>\n",
              "      <td>NaN</td>\n",
              "      <td>1.0</td>\n",
              "      <td>20181126</td>\n",
              "    </tr>\n",
              "    <tr>\n",
              "      <th>1</th>\n",
              "      <td>2017</td>\n",
              "      <td>2</td>\n",
              "      <td>2</td>\n",
              "      <td>8</td>\n",
              "      <td>41</td>\n",
              "      <td>150.0</td>\n",
              "      <td>45.0</td>\n",
              "      <td>73.4</td>\n",
              "      <td>1.2</td>\n",
              "      <td>1.0</td>\n",
              "      <td>1.0</td>\n",
              "      <td>1.0</td>\n",
              "      <td>110.0</td>\n",
              "      <td>79.0</td>\n",
              "      <td>98.0</td>\n",
              "      <td>255.0</td>\n",
              "      <td>82.0</td>\n",
              "      <td>62.0</td>\n",
              "      <td>176.0</td>\n",
              "      <td>10.7</td>\n",
              "      <td>1.0</td>\n",
              "      <td>0.9</td>\n",
              "      <td>16.0</td>\n",
              "      <td>13.0</td>\n",
              "      <td>10.0</td>\n",
              "      <td>1.0</td>\n",
              "      <td>0.0</td>\n",
              "      <td>1</td>\n",
              "      <td>NaN</td>\n",
              "      <td>NaN</td>\n",
              "      <td>NaN</td>\n",
              "      <td>NaN</td>\n",
              "      <td>1.0</td>\n",
              "      <td>20181126</td>\n",
              "    </tr>\n",
              "    <tr>\n",
              "      <th>2</th>\n",
              "      <td>2017</td>\n",
              "      <td>3</td>\n",
              "      <td>1</td>\n",
              "      <td>8</td>\n",
              "      <td>45</td>\n",
              "      <td>175.0</td>\n",
              "      <td>75.0</td>\n",
              "      <td>94.0</td>\n",
              "      <td>1.0</td>\n",
              "      <td>0.8</td>\n",
              "      <td>1.0</td>\n",
              "      <td>1.0</td>\n",
              "      <td>130.0</td>\n",
              "      <td>89.0</td>\n",
              "      <td>88.0</td>\n",
              "      <td>211.0</td>\n",
              "      <td>271.0</td>\n",
              "      <td>64.0</td>\n",
              "      <td>92.0</td>\n",
              "      <td>16.1</td>\n",
              "      <td>1.0</td>\n",
              "      <td>1.1</td>\n",
              "      <td>45.0</td>\n",
              "      <td>62.0</td>\n",
              "      <td>136.0</td>\n",
              "      <td>1.0</td>\n",
              "      <td>0.0</td>\n",
              "      <td>1</td>\n",
              "      <td>NaN</td>\n",
              "      <td>NaN</td>\n",
              "      <td>NaN</td>\n",
              "      <td>NaN</td>\n",
              "      <td>0.0</td>\n",
              "      <td>20181126</td>\n",
              "    </tr>\n",
              "    <tr>\n",
              "      <th>3</th>\n",
              "      <td>2017</td>\n",
              "      <td>4</td>\n",
              "      <td>2</td>\n",
              "      <td>12</td>\n",
              "      <td>11</td>\n",
              "      <td>155.0</td>\n",
              "      <td>55.0</td>\n",
              "      <td>67.5</td>\n",
              "      <td>0.9</td>\n",
              "      <td>1.0</td>\n",
              "      <td>1.0</td>\n",
              "      <td>1.0</td>\n",
              "      <td>138.0</td>\n",
              "      <td>90.0</td>\n",
              "      <td>76.0</td>\n",
              "      <td>160.0</td>\n",
              "      <td>97.0</td>\n",
              "      <td>52.0</td>\n",
              "      <td>88.0</td>\n",
              "      <td>13.4</td>\n",
              "      <td>1.0</td>\n",
              "      <td>0.6</td>\n",
              "      <td>21.0</td>\n",
              "      <td>24.0</td>\n",
              "      <td>30.0</td>\n",
              "      <td>1.0</td>\n",
              "      <td>1.0</td>\n",
              "      <td>0</td>\n",
              "      <td>NaN</td>\n",
              "      <td>NaN</td>\n",
              "      <td>NaN</td>\n",
              "      <td>NaN</td>\n",
              "      <td>NaN</td>\n",
              "      <td>20181126</td>\n",
              "    </tr>\n",
              "    <tr>\n",
              "      <th>4</th>\n",
              "      <td>2017</td>\n",
              "      <td>5</td>\n",
              "      <td>1</td>\n",
              "      <td>8</td>\n",
              "      <td>41</td>\n",
              "      <td>175.0</td>\n",
              "      <td>75.0</td>\n",
              "      <td>93.0</td>\n",
              "      <td>1.5</td>\n",
              "      <td>1.5</td>\n",
              "      <td>1.0</td>\n",
              "      <td>1.0</td>\n",
              "      <td>128.0</td>\n",
              "      <td>80.0</td>\n",
              "      <td>97.0</td>\n",
              "      <td>253.0</td>\n",
              "      <td>182.0</td>\n",
              "      <td>47.0</td>\n",
              "      <td>169.0</td>\n",
              "      <td>16.1</td>\n",
              "      <td>1.0</td>\n",
              "      <td>1.1</td>\n",
              "      <td>37.0</td>\n",
              "      <td>62.0</td>\n",
              "      <td>68.0</td>\n",
              "      <td>3.0</td>\n",
              "      <td>0.0</td>\n",
              "      <td>0</td>\n",
              "      <td>NaN</td>\n",
              "      <td>NaN</td>\n",
              "      <td>NaN</td>\n",
              "      <td>NaN</td>\n",
              "      <td>NaN</td>\n",
              "      <td>20181126</td>\n",
              "    </tr>\n",
              "  </tbody>\n",
              "</table>\n",
              "</div>"
            ],
            "text/plain": [
              "   기준년도  가입자일련번호  성별코드  연령대코드(5세단위)  ...  치아마모증유무  제3대구치(사랑니)이상   치석   데이터공개일자\n",
              "0  2017        1     1           13  ...      NaN           NaN  1.0  20181126\n",
              "1  2017        2     2            8  ...      NaN           NaN  1.0  20181126\n",
              "2  2017        3     1            8  ...      NaN           NaN  0.0  20181126\n",
              "3  2017        4     2           12  ...      NaN           NaN  NaN  20181126\n",
              "4  2017        5     1            8  ...      NaN           NaN  NaN  20181126\n",
              "\n",
              "[5 rows x 34 columns]"
            ]
          },
          "metadata": {
            "tags": []
          }
        }
      ]
    },
    {
      "cell_type": "markdown",
      "metadata": {
        "id": "U_MDmptRnZ6L",
        "colab_type": "text"
      },
      "source": [
        "### 컬럼명 정제 및 기초 탐색"
      ]
    },
    {
      "cell_type": "code",
      "metadata": {
        "id": "jepZ4MED4kEl",
        "colab_type": "code",
        "outputId": "8ca84188-ef10-4db2-a4a3-2e273298ada9",
        "colab": {
          "base_uri": "https://localhost:8080/",
          "height": 369
        }
      },
      "source": [
        "# df_raw_2016.rename(columns=lambda x: x.replace(' ', ''), inplace=True)\n",
        "# df_raw_2017.rename(columns=lambda x: x.replace(' ', ''), inplace=True)\n",
        "\n",
        "df_raw_2016.rename(columns=lambda x: re.sub('[-=+,#/\\?:^$.@*\\\"※~&%ㆍ!』\\\\‘|\\(\\)\\[\\]\\<\\>`\\'…》 ]', '', x), inplace=True)\n",
        "df_raw_2017.rename(columns=lambda x: re.sub('[-=+,#/\\?:^$.@*\\\"※~&%ㆍ!』\\\\‘|\\(\\)\\[\\]\\<\\>`\\'…》 ]', '', x), inplace=True)\n",
        "\n",
        "display(df_raw_2016.sample(3))\n",
        "display(df_raw_2017.sample(3))"
      ],
      "execution_count": 10,
      "outputs": [
        {
          "output_type": "display_data",
          "data": {
            "text/html": [
              "<div>\n",
              "<style scoped>\n",
              "    .dataframe tbody tr th:only-of-type {\n",
              "        vertical-align: middle;\n",
              "    }\n",
              "\n",
              "    .dataframe tbody tr th {\n",
              "        vertical-align: top;\n",
              "    }\n",
              "\n",
              "    .dataframe thead th {\n",
              "        text-align: right;\n",
              "    }\n",
              "</style>\n",
              "<table border=\"1\" class=\"dataframe\">\n",
              "  <thead>\n",
              "    <tr style=\"text-align: right;\">\n",
              "      <th></th>\n",
              "      <th>기준년도</th>\n",
              "      <th>가입자일련번호</th>\n",
              "      <th>성별코드</th>\n",
              "      <th>연령대코드5세단위</th>\n",
              "      <th>시도코드</th>\n",
              "      <th>신장5Cm단위</th>\n",
              "      <th>체중5Kg단위</th>\n",
              "      <th>허리둘레</th>\n",
              "      <th>시력좌</th>\n",
              "      <th>시력우</th>\n",
              "      <th>청력좌</th>\n",
              "      <th>청력우</th>\n",
              "      <th>수축기혈압</th>\n",
              "      <th>이완기혈압</th>\n",
              "      <th>식전혈당공복혈당</th>\n",
              "      <th>총콜레스테롤</th>\n",
              "      <th>트리글리세라이드</th>\n",
              "      <th>HDL콜레스테롤</th>\n",
              "      <th>LDL콜레스테롤</th>\n",
              "      <th>혈색소</th>\n",
              "      <th>요단백</th>\n",
              "      <th>혈청크레아티닌</th>\n",
              "      <th>혈청지오티AST</th>\n",
              "      <th>혈청지오티ALT</th>\n",
              "      <th>감마지티피</th>\n",
              "      <th>흡연상태</th>\n",
              "      <th>음주여부</th>\n",
              "      <th>구강검진수검여부</th>\n",
              "      <th>치아우식증유무</th>\n",
              "      <th>결손치유무</th>\n",
              "      <th>치아마모증유무</th>\n",
              "      <th>제3대구치사랑니이상</th>\n",
              "      <th>치석</th>\n",
              "      <th>데이터공개일자</th>\n",
              "    </tr>\n",
              "  </thead>\n",
              "  <tbody>\n",
              "    <tr>\n",
              "      <th>437237</th>\n",
              "      <td>2016</td>\n",
              "      <td>437238</td>\n",
              "      <td>2</td>\n",
              "      <td>7</td>\n",
              "      <td>27</td>\n",
              "      <td>160.0</td>\n",
              "      <td>50.0</td>\n",
              "      <td>76.0</td>\n",
              "      <td>1.0</td>\n",
              "      <td>1.5</td>\n",
              "      <td>1.0</td>\n",
              "      <td>1.0</td>\n",
              "      <td>110.0</td>\n",
              "      <td>72.0</td>\n",
              "      <td>96.0</td>\n",
              "      <td>202.0</td>\n",
              "      <td>43.0</td>\n",
              "      <td>66.0</td>\n",
              "      <td>127.0</td>\n",
              "      <td>12.9</td>\n",
              "      <td>1.0</td>\n",
              "      <td>0.6</td>\n",
              "      <td>23.0</td>\n",
              "      <td>11.0</td>\n",
              "      <td>15.0</td>\n",
              "      <td>1.0</td>\n",
              "      <td>NaN</td>\n",
              "      <td>0</td>\n",
              "      <td>NaN</td>\n",
              "      <td>NaN</td>\n",
              "      <td>NaN</td>\n",
              "      <td>NaN</td>\n",
              "      <td>NaN</td>\n",
              "      <td>20171219</td>\n",
              "    </tr>\n",
              "    <tr>\n",
              "      <th>145765</th>\n",
              "      <td>2016</td>\n",
              "      <td>145766</td>\n",
              "      <td>2</td>\n",
              "      <td>13</td>\n",
              "      <td>41</td>\n",
              "      <td>155.0</td>\n",
              "      <td>60.0</td>\n",
              "      <td>76.0</td>\n",
              "      <td>0.8</td>\n",
              "      <td>1.0</td>\n",
              "      <td>1.0</td>\n",
              "      <td>1.0</td>\n",
              "      <td>107.0</td>\n",
              "      <td>65.0</td>\n",
              "      <td>100.0</td>\n",
              "      <td>237.0</td>\n",
              "      <td>166.0</td>\n",
              "      <td>66.0</td>\n",
              "      <td>137.0</td>\n",
              "      <td>12.1</td>\n",
              "      <td>1.0</td>\n",
              "      <td>0.7</td>\n",
              "      <td>25.0</td>\n",
              "      <td>27.0</td>\n",
              "      <td>37.0</td>\n",
              "      <td>1.0</td>\n",
              "      <td>NaN</td>\n",
              "      <td>0</td>\n",
              "      <td>NaN</td>\n",
              "      <td>NaN</td>\n",
              "      <td>NaN</td>\n",
              "      <td>NaN</td>\n",
              "      <td>NaN</td>\n",
              "      <td>20171219</td>\n",
              "    </tr>\n",
              "    <tr>\n",
              "      <th>299559</th>\n",
              "      <td>2016</td>\n",
              "      <td>299560</td>\n",
              "      <td>2</td>\n",
              "      <td>6</td>\n",
              "      <td>11</td>\n",
              "      <td>165.0</td>\n",
              "      <td>50.0</td>\n",
              "      <td>67.0</td>\n",
              "      <td>0.9</td>\n",
              "      <td>1.0</td>\n",
              "      <td>1.0</td>\n",
              "      <td>1.0</td>\n",
              "      <td>90.0</td>\n",
              "      <td>51.0</td>\n",
              "      <td>84.0</td>\n",
              "      <td>153.0</td>\n",
              "      <td>65.0</td>\n",
              "      <td>56.0</td>\n",
              "      <td>84.0</td>\n",
              "      <td>13.1</td>\n",
              "      <td>1.0</td>\n",
              "      <td>0.7</td>\n",
              "      <td>20.0</td>\n",
              "      <td>9.0</td>\n",
              "      <td>11.0</td>\n",
              "      <td>1.0</td>\n",
              "      <td>NaN</td>\n",
              "      <td>0</td>\n",
              "      <td>NaN</td>\n",
              "      <td>NaN</td>\n",
              "      <td>NaN</td>\n",
              "      <td>NaN</td>\n",
              "      <td>NaN</td>\n",
              "      <td>20171219</td>\n",
              "    </tr>\n",
              "  </tbody>\n",
              "</table>\n",
              "</div>"
            ],
            "text/plain": [
              "        기준년도  가입자일련번호  성별코드  연령대코드5세단위  ...  치아마모증유무  제3대구치사랑니이상  치석   데이터공개일자\n",
              "437237  2016   437238     2          7  ...      NaN         NaN NaN  20171219\n",
              "145765  2016   145766     2         13  ...      NaN         NaN NaN  20171219\n",
              "299559  2016   299560     2          6  ...      NaN         NaN NaN  20171219\n",
              "\n",
              "[3 rows x 34 columns]"
            ]
          },
          "metadata": {
            "tags": []
          }
        },
        {
          "output_type": "display_data",
          "data": {
            "text/html": [
              "<div>\n",
              "<style scoped>\n",
              "    .dataframe tbody tr th:only-of-type {\n",
              "        vertical-align: middle;\n",
              "    }\n",
              "\n",
              "    .dataframe tbody tr th {\n",
              "        vertical-align: top;\n",
              "    }\n",
              "\n",
              "    .dataframe thead th {\n",
              "        text-align: right;\n",
              "    }\n",
              "</style>\n",
              "<table border=\"1\" class=\"dataframe\">\n",
              "  <thead>\n",
              "    <tr style=\"text-align: right;\">\n",
              "      <th></th>\n",
              "      <th>기준년도</th>\n",
              "      <th>가입자일련번호</th>\n",
              "      <th>성별코드</th>\n",
              "      <th>연령대코드5세단위</th>\n",
              "      <th>시도코드</th>\n",
              "      <th>신장5Cm단위</th>\n",
              "      <th>체중5Kg단위</th>\n",
              "      <th>허리둘레</th>\n",
              "      <th>시력좌</th>\n",
              "      <th>시력우</th>\n",
              "      <th>청력좌</th>\n",
              "      <th>청력우</th>\n",
              "      <th>수축기혈압</th>\n",
              "      <th>이완기혈압</th>\n",
              "      <th>식전혈당공복혈당</th>\n",
              "      <th>총콜레스테롤</th>\n",
              "      <th>트리글리세라이드</th>\n",
              "      <th>HDL콜레스테롤</th>\n",
              "      <th>LDL콜레스테롤</th>\n",
              "      <th>혈색소</th>\n",
              "      <th>요단백</th>\n",
              "      <th>혈청크레아티닌</th>\n",
              "      <th>혈청지오티AST</th>\n",
              "      <th>혈청지오티ALT</th>\n",
              "      <th>감마지티피</th>\n",
              "      <th>흡연상태</th>\n",
              "      <th>음주여부</th>\n",
              "      <th>구강검진수검여부</th>\n",
              "      <th>치아우식증유무</th>\n",
              "      <th>결손치유무</th>\n",
              "      <th>치아마모증유무</th>\n",
              "      <th>제3대구치사랑니이상</th>\n",
              "      <th>치석</th>\n",
              "      <th>데이터공개일자</th>\n",
              "    </tr>\n",
              "  </thead>\n",
              "  <tbody>\n",
              "    <tr>\n",
              "      <th>351640</th>\n",
              "      <td>2017</td>\n",
              "      <td>351641</td>\n",
              "      <td>1</td>\n",
              "      <td>12</td>\n",
              "      <td>11</td>\n",
              "      <td>170.0</td>\n",
              "      <td>80.0</td>\n",
              "      <td>87.0</td>\n",
              "      <td>0.4</td>\n",
              "      <td>0.6</td>\n",
              "      <td>1.0</td>\n",
              "      <td>1.0</td>\n",
              "      <td>130.0</td>\n",
              "      <td>90.0</td>\n",
              "      <td>100.0</td>\n",
              "      <td>209.0</td>\n",
              "      <td>180.0</td>\n",
              "      <td>43.0</td>\n",
              "      <td>130.0</td>\n",
              "      <td>16.6</td>\n",
              "      <td>1.0</td>\n",
              "      <td>1.0</td>\n",
              "      <td>52.0</td>\n",
              "      <td>63.0</td>\n",
              "      <td>42.0</td>\n",
              "      <td>3.0</td>\n",
              "      <td>1.0</td>\n",
              "      <td>0</td>\n",
              "      <td>NaN</td>\n",
              "      <td>NaN</td>\n",
              "      <td>NaN</td>\n",
              "      <td>NaN</td>\n",
              "      <td>NaN</td>\n",
              "      <td>20181126</td>\n",
              "    </tr>\n",
              "    <tr>\n",
              "      <th>429661</th>\n",
              "      <td>2017</td>\n",
              "      <td>429662</td>\n",
              "      <td>1</td>\n",
              "      <td>9</td>\n",
              "      <td>11</td>\n",
              "      <td>175.0</td>\n",
              "      <td>85.0</td>\n",
              "      <td>89.0</td>\n",
              "      <td>1.2</td>\n",
              "      <td>1.2</td>\n",
              "      <td>1.0</td>\n",
              "      <td>1.0</td>\n",
              "      <td>125.0</td>\n",
              "      <td>68.0</td>\n",
              "      <td>88.0</td>\n",
              "      <td>175.0</td>\n",
              "      <td>66.0</td>\n",
              "      <td>56.0</td>\n",
              "      <td>105.0</td>\n",
              "      <td>16.3</td>\n",
              "      <td>1.0</td>\n",
              "      <td>1.2</td>\n",
              "      <td>25.0</td>\n",
              "      <td>26.0</td>\n",
              "      <td>31.0</td>\n",
              "      <td>2.0</td>\n",
              "      <td>1.0</td>\n",
              "      <td>1</td>\n",
              "      <td>NaN</td>\n",
              "      <td>NaN</td>\n",
              "      <td>NaN</td>\n",
              "      <td>NaN</td>\n",
              "      <td>0.0</td>\n",
              "      <td>20181126</td>\n",
              "    </tr>\n",
              "    <tr>\n",
              "      <th>582185</th>\n",
              "      <td>2017</td>\n",
              "      <td>582186</td>\n",
              "      <td>2</td>\n",
              "      <td>10</td>\n",
              "      <td>26</td>\n",
              "      <td>155.0</td>\n",
              "      <td>60.0</td>\n",
              "      <td>80.0</td>\n",
              "      <td>1.0</td>\n",
              "      <td>0.8</td>\n",
              "      <td>1.0</td>\n",
              "      <td>1.0</td>\n",
              "      <td>130.0</td>\n",
              "      <td>80.0</td>\n",
              "      <td>118.0</td>\n",
              "      <td>188.0</td>\n",
              "      <td>132.0</td>\n",
              "      <td>62.0</td>\n",
              "      <td>99.0</td>\n",
              "      <td>13.0</td>\n",
              "      <td>1.0</td>\n",
              "      <td>0.8</td>\n",
              "      <td>22.0</td>\n",
              "      <td>21.0</td>\n",
              "      <td>41.0</td>\n",
              "      <td>1.0</td>\n",
              "      <td>0.0</td>\n",
              "      <td>0</td>\n",
              "      <td>NaN</td>\n",
              "      <td>NaN</td>\n",
              "      <td>NaN</td>\n",
              "      <td>NaN</td>\n",
              "      <td>NaN</td>\n",
              "      <td>20181126</td>\n",
              "    </tr>\n",
              "  </tbody>\n",
              "</table>\n",
              "</div>"
            ],
            "text/plain": [
              "        기준년도  가입자일련번호  성별코드  연령대코드5세단위  ...  치아마모증유무  제3대구치사랑니이상   치석   데이터공개일자\n",
              "351640  2017   351641     1         12  ...      NaN         NaN  NaN  20181126\n",
              "429661  2017   429662     1          9  ...      NaN         NaN  0.0  20181126\n",
              "582185  2017   582186     2         10  ...      NaN         NaN  NaN  20181126\n",
              "\n",
              "[3 rows x 34 columns]"
            ]
          },
          "metadata": {
            "tags": []
          }
        }
      ]
    },
    {
      "cell_type": "code",
      "metadata": {
        "id": "jYo3nucznTEJ",
        "colab_type": "code",
        "outputId": "0a487749-8070-4058-cbb6-b101ce0eeb1a",
        "colab": {
          "base_uri": "https://localhost:8080/",
          "height": 233
        }
      },
      "source": [
        "print(df_raw_2016.columns)\n",
        "print(df_raw_2017.columns)"
      ],
      "execution_count": 11,
      "outputs": [
        {
          "output_type": "stream",
          "text": [
            "Index(['기준년도', '가입자일련번호', '성별코드', '연령대코드5세단위', '시도코드', '신장5Cm단위', '체중5Kg단위',\n",
            "       '허리둘레', '시력좌', '시력우', '청력좌', '청력우', '수축기혈압', '이완기혈압', '식전혈당공복혈당',\n",
            "       '총콜레스테롤', '트리글리세라이드', 'HDL콜레스테롤', 'LDL콜레스테롤', '혈색소', '요단백', '혈청크레아티닌',\n",
            "       '혈청지오티AST', '혈청지오티ALT', '감마지티피', '흡연상태', '음주여부', '구강검진수검여부', '치아우식증유무',\n",
            "       '결손치유무', '치아마모증유무', '제3대구치사랑니이상', '치석', '데이터공개일자'],\n",
            "      dtype='object')\n",
            "Index(['기준년도', '가입자일련번호', '성별코드', '연령대코드5세단위', '시도코드', '신장5Cm단위', '체중5Kg단위',\n",
            "       '허리둘레', '시력좌', '시력우', '청력좌', '청력우', '수축기혈압', '이완기혈압', '식전혈당공복혈당',\n",
            "       '총콜레스테롤', '트리글리세라이드', 'HDL콜레스테롤', 'LDL콜레스테롤', '혈색소', '요단백', '혈청크레아티닌',\n",
            "       '혈청지오티AST', '혈청지오티ALT', '감마지티피', '흡연상태', '음주여부', '구강검진수검여부', '치아우식증유무',\n",
            "       '결손치유무', '치아마모증유무', '제3대구치사랑니이상', '치석', '데이터공개일자'],\n",
            "      dtype='object')\n"
          ],
          "name": "stdout"
        }
      ]
    },
    {
      "cell_type": "markdown",
      "metadata": {
        "id": "X3corsChnlFQ",
        "colab_type": "text"
      },
      "source": [
        "## 구강검진검수자 데이터 기준 dataset 생성 - 불필요한 컬럼 제거"
      ]
    },
    {
      "cell_type": "code",
      "metadata": {
        "id": "p53XCNPg4kEn",
        "colab_type": "code",
        "colab": {}
      },
      "source": [
        "df_raw = pd.concat([df_raw_2016, df_raw_2017])\n",
        "df_raw = df_raw[df_raw['구강검진수검여부']==1]\n",
        "\n",
        "del_cols = ['기준년도', '가입자일련번호', '치아우식증유무', '결손치유무' ,'치아마모증유무','제3대구치사랑니이상','데이터공개일자', '음주여부', '구강검진수검여부']\n",
        "df_raw.drop(columns=del_cols, axis=1, inplace=True)"
      ],
      "execution_count": 0,
      "outputs": []
    },
    {
      "cell_type": "code",
      "metadata": {
        "id": "_YQaz9yH4kEo",
        "colab_type": "code",
        "outputId": "288e59d9-4c47-4b24-e3bb-125831415a1b",
        "colab": {
          "base_uri": "https://localhost:8080/",
          "height": 761
        }
      },
      "source": [
        "display(df_raw.head())\n",
        "df_raw.info()"
      ],
      "execution_count": 13,
      "outputs": [
        {
          "output_type": "display_data",
          "data": {
            "text/html": [
              "<div>\n",
              "<style scoped>\n",
              "    .dataframe tbody tr th:only-of-type {\n",
              "        vertical-align: middle;\n",
              "    }\n",
              "\n",
              "    .dataframe tbody tr th {\n",
              "        vertical-align: top;\n",
              "    }\n",
              "\n",
              "    .dataframe thead th {\n",
              "        text-align: right;\n",
              "    }\n",
              "</style>\n",
              "<table border=\"1\" class=\"dataframe\">\n",
              "  <thead>\n",
              "    <tr style=\"text-align: right;\">\n",
              "      <th></th>\n",
              "      <th>성별코드</th>\n",
              "      <th>연령대코드5세단위</th>\n",
              "      <th>시도코드</th>\n",
              "      <th>신장5Cm단위</th>\n",
              "      <th>체중5Kg단위</th>\n",
              "      <th>허리둘레</th>\n",
              "      <th>시력좌</th>\n",
              "      <th>시력우</th>\n",
              "      <th>청력좌</th>\n",
              "      <th>청력우</th>\n",
              "      <th>수축기혈압</th>\n",
              "      <th>이완기혈압</th>\n",
              "      <th>식전혈당공복혈당</th>\n",
              "      <th>총콜레스테롤</th>\n",
              "      <th>트리글리세라이드</th>\n",
              "      <th>HDL콜레스테롤</th>\n",
              "      <th>LDL콜레스테롤</th>\n",
              "      <th>혈색소</th>\n",
              "      <th>요단백</th>\n",
              "      <th>혈청크레아티닌</th>\n",
              "      <th>혈청지오티AST</th>\n",
              "      <th>혈청지오티ALT</th>\n",
              "      <th>감마지티피</th>\n",
              "      <th>흡연상태</th>\n",
              "      <th>치석</th>\n",
              "    </tr>\n",
              "  </thead>\n",
              "  <tbody>\n",
              "    <tr>\n",
              "      <th>3</th>\n",
              "      <td>1</td>\n",
              "      <td>12</td>\n",
              "      <td>48</td>\n",
              "      <td>175.0</td>\n",
              "      <td>70.0</td>\n",
              "      <td>85.0</td>\n",
              "      <td>1.2</td>\n",
              "      <td>1.2</td>\n",
              "      <td>1.0</td>\n",
              "      <td>1.0</td>\n",
              "      <td>124.0</td>\n",
              "      <td>76.0</td>\n",
              "      <td>93.0</td>\n",
              "      <td>179.0</td>\n",
              "      <td>79.0</td>\n",
              "      <td>40.0</td>\n",
              "      <td>123.0</td>\n",
              "      <td>16.8</td>\n",
              "      <td>1.0</td>\n",
              "      <td>1.0</td>\n",
              "      <td>20.0</td>\n",
              "      <td>39.0</td>\n",
              "      <td>69.0</td>\n",
              "      <td>2.0</td>\n",
              "      <td>1.0</td>\n",
              "    </tr>\n",
              "    <tr>\n",
              "      <th>5</th>\n",
              "      <td>1</td>\n",
              "      <td>9</td>\n",
              "      <td>46</td>\n",
              "      <td>170.0</td>\n",
              "      <td>55.0</td>\n",
              "      <td>64.0</td>\n",
              "      <td>1.1</td>\n",
              "      <td>1.2</td>\n",
              "      <td>1.0</td>\n",
              "      <td>1.0</td>\n",
              "      <td>124.0</td>\n",
              "      <td>79.0</td>\n",
              "      <td>90.0</td>\n",
              "      <td>319.0</td>\n",
              "      <td>45.0</td>\n",
              "      <td>53.0</td>\n",
              "      <td>257.0</td>\n",
              "      <td>15.8</td>\n",
              "      <td>1.0</td>\n",
              "      <td>1.0</td>\n",
              "      <td>20.0</td>\n",
              "      <td>14.0</td>\n",
              "      <td>12.0</td>\n",
              "      <td>1.0</td>\n",
              "      <td>2.0</td>\n",
              "    </tr>\n",
              "    <tr>\n",
              "      <th>6</th>\n",
              "      <td>1</td>\n",
              "      <td>10</td>\n",
              "      <td>31</td>\n",
              "      <td>175.0</td>\n",
              "      <td>70.0</td>\n",
              "      <td>90.0</td>\n",
              "      <td>1.5</td>\n",
              "      <td>1.5</td>\n",
              "      <td>1.0</td>\n",
              "      <td>1.0</td>\n",
              "      <td>114.0</td>\n",
              "      <td>76.0</td>\n",
              "      <td>85.0</td>\n",
              "      <td>207.0</td>\n",
              "      <td>93.0</td>\n",
              "      <td>50.0</td>\n",
              "      <td>138.0</td>\n",
              "      <td>13.9</td>\n",
              "      <td>1.0</td>\n",
              "      <td>0.8</td>\n",
              "      <td>25.0</td>\n",
              "      <td>30.0</td>\n",
              "      <td>24.0</td>\n",
              "      <td>3.0</td>\n",
              "      <td>0.0</td>\n",
              "    </tr>\n",
              "    <tr>\n",
              "      <th>10</th>\n",
              "      <td>1</td>\n",
              "      <td>7</td>\n",
              "      <td>46</td>\n",
              "      <td>170.0</td>\n",
              "      <td>80.0</td>\n",
              "      <td>86.0</td>\n",
              "      <td>1.5</td>\n",
              "      <td>1.0</td>\n",
              "      <td>1.0</td>\n",
              "      <td>1.0</td>\n",
              "      <td>136.0</td>\n",
              "      <td>80.0</td>\n",
              "      <td>95.0</td>\n",
              "      <td>207.0</td>\n",
              "      <td>297.0</td>\n",
              "      <td>53.0</td>\n",
              "      <td>95.0</td>\n",
              "      <td>16.7</td>\n",
              "      <td>1.0</td>\n",
              "      <td>1.0</td>\n",
              "      <td>27.0</td>\n",
              "      <td>39.0</td>\n",
              "      <td>81.0</td>\n",
              "      <td>3.0</td>\n",
              "      <td>0.0</td>\n",
              "    </tr>\n",
              "    <tr>\n",
              "      <th>12</th>\n",
              "      <td>1</td>\n",
              "      <td>7</td>\n",
              "      <td>41</td>\n",
              "      <td>170.0</td>\n",
              "      <td>80.0</td>\n",
              "      <td>92.0</td>\n",
              "      <td>0.6</td>\n",
              "      <td>0.4</td>\n",
              "      <td>1.0</td>\n",
              "      <td>1.0</td>\n",
              "      <td>128.0</td>\n",
              "      <td>80.0</td>\n",
              "      <td>125.0</td>\n",
              "      <td>230.0</td>\n",
              "      <td>214.0</td>\n",
              "      <td>42.0</td>\n",
              "      <td>145.0</td>\n",
              "      <td>15.3</td>\n",
              "      <td>1.0</td>\n",
              "      <td>1.0</td>\n",
              "      <td>22.0</td>\n",
              "      <td>22.0</td>\n",
              "      <td>101.0</td>\n",
              "      <td>1.0</td>\n",
              "      <td>1.0</td>\n",
              "    </tr>\n",
              "  </tbody>\n",
              "</table>\n",
              "</div>"
            ],
            "text/plain": [
              "    성별코드  연령대코드5세단위  시도코드  신장5Cm단위  ...  혈청지오티ALT  감마지티피  흡연상태   치석\n",
              "3      1         12    48    175.0  ...      39.0   69.0   2.0  1.0\n",
              "5      1          9    46    170.0  ...      14.0   12.0   1.0  2.0\n",
              "6      1         10    31    175.0  ...      30.0   24.0   3.0  0.0\n",
              "10     1          7    46    170.0  ...      39.0   81.0   3.0  0.0\n",
              "12     1          7    41    170.0  ...      22.0  101.0   1.0  1.0\n",
              "\n",
              "[5 rows x 25 columns]"
            ]
          },
          "metadata": {
            "tags": []
          }
        },
        {
          "output_type": "stream",
          "text": [
            "<class 'pandas.core.frame.DataFrame'>\n",
            "Int64Index: 800512 entries, 3 to 999997\n",
            "Data columns (total 25 columns):\n",
            "성별코드         800512 non-null int64\n",
            "연령대코드5세단위    800512 non-null int64\n",
            "시도코드         800512 non-null int64\n",
            "신장5Cm단위      800271 non-null float64\n",
            "체중5Kg단위      800266 non-null float64\n",
            "허리둘레         800298 non-null float64\n",
            "시력좌          800357 non-null float64\n",
            "시력우          800361 non-null float64\n",
            "청력좌          800375 non-null float64\n",
            "청력우          800377 non-null float64\n",
            "수축기혈압        800491 non-null float64\n",
            "이완기혈압        800492 non-null float64\n",
            "식전혈당공복혈당     800472 non-null float64\n",
            "총콜레스테롤       800475 non-null float64\n",
            "트리글리세라이드     800475 non-null float64\n",
            "HDL콜레스테롤     800471 non-null float64\n",
            "LDL콜레스테롤     798496 non-null float64\n",
            "혈색소          800466 non-null float64\n",
            "요단백          797405 non-null float64\n",
            "혈청크레아티닌      800474 non-null float64\n",
            "혈청지오티AST     800476 non-null float64\n",
            "혈청지오티ALT     800476 non-null float64\n",
            "감마지티피        800475 non-null float64\n",
            "흡연상태         800375 non-null float64\n",
            "치석           800511 non-null float64\n",
            "dtypes: float64(22), int64(3)\n",
            "memory usage: 158.8 MB\n"
          ],
          "name": "stdout"
        }
      ]
    },
    {
      "cell_type": "markdown",
      "metadata": {
        "id": "aOk5IWaKn87U",
        "colab_type": "text"
      },
      "source": [
        "### 중복 컬럼 제거 및 reindexing 후 불필요한 데이터 행 제거"
      ]
    },
    {
      "cell_type": "code",
      "metadata": {
        "id": "NA2CR95G4kEq",
        "colab_type": "code",
        "colab": {}
      },
      "source": [
        "df_raw.drop_duplicates()\n",
        "df_raw.reset_index()\n",
        "\n",
        "df_data = df_raw[~(df_raw['치석'].isnull()) & (df_raw['치석'] != 2)]"
      ],
      "execution_count": 0,
      "outputs": []
    },
    {
      "cell_type": "markdown",
      "metadata": {
        "id": "0JISl_zApNFi",
        "colab_type": "text"
      },
      "source": [
        "## EDA\n",
        "1. 데이터 임포트 후 메모리에 upload \n",
        "2. 데이터의 모양 확인\n",
        "3. 데이터의 타입 확인\n",
        "4. 데이터의 Null 값을 체크\n",
        "5. 종속변수의 분포 체크\n",
        "6. 독립변수 - 명목형 변수의 분포 체크\n",
        "7. 독립변수 - 수치형 변수의 분포 체크\n",
        "8. 수치형, 명목형 변수간의 관계 파악"
      ]
    },
    {
      "cell_type": "code",
      "metadata": {
        "id": "38mpcw62dGqU",
        "colab_type": "code",
        "outputId": "2eb9d11d-dca6-447f-84d8-6ccb57d7439a",
        "colab": {
          "base_uri": "https://localhost:8080/",
          "height": 779
        }
      },
      "source": [
        "# 데이터 모양 확인 및 데이터 타입 확인\n",
        "display(df_data.sample(5))\n",
        "display(df_data.info())"
      ],
      "execution_count": 15,
      "outputs": [
        {
          "output_type": "display_data",
          "data": {
            "text/html": [
              "<div>\n",
              "<style scoped>\n",
              "    .dataframe tbody tr th:only-of-type {\n",
              "        vertical-align: middle;\n",
              "    }\n",
              "\n",
              "    .dataframe tbody tr th {\n",
              "        vertical-align: top;\n",
              "    }\n",
              "\n",
              "    .dataframe thead th {\n",
              "        text-align: right;\n",
              "    }\n",
              "</style>\n",
              "<table border=\"1\" class=\"dataframe\">\n",
              "  <thead>\n",
              "    <tr style=\"text-align: right;\">\n",
              "      <th></th>\n",
              "      <th>성별코드</th>\n",
              "      <th>연령대코드5세단위</th>\n",
              "      <th>시도코드</th>\n",
              "      <th>신장5Cm단위</th>\n",
              "      <th>체중5Kg단위</th>\n",
              "      <th>허리둘레</th>\n",
              "      <th>시력좌</th>\n",
              "      <th>시력우</th>\n",
              "      <th>청력좌</th>\n",
              "      <th>청력우</th>\n",
              "      <th>수축기혈압</th>\n",
              "      <th>이완기혈압</th>\n",
              "      <th>식전혈당공복혈당</th>\n",
              "      <th>총콜레스테롤</th>\n",
              "      <th>트리글리세라이드</th>\n",
              "      <th>HDL콜레스테롤</th>\n",
              "      <th>LDL콜레스테롤</th>\n",
              "      <th>혈색소</th>\n",
              "      <th>요단백</th>\n",
              "      <th>혈청크레아티닌</th>\n",
              "      <th>혈청지오티AST</th>\n",
              "      <th>혈청지오티ALT</th>\n",
              "      <th>감마지티피</th>\n",
              "      <th>흡연상태</th>\n",
              "      <th>치석</th>\n",
              "    </tr>\n",
              "  </thead>\n",
              "  <tbody>\n",
              "    <tr>\n",
              "      <th>611178</th>\n",
              "      <td>1</td>\n",
              "      <td>10</td>\n",
              "      <td>41</td>\n",
              "      <td>180.0</td>\n",
              "      <td>85.0</td>\n",
              "      <td>91.0</td>\n",
              "      <td>1.0</td>\n",
              "      <td>1.0</td>\n",
              "      <td>1.0</td>\n",
              "      <td>1.0</td>\n",
              "      <td>120.0</td>\n",
              "      <td>80.0</td>\n",
              "      <td>96.0</td>\n",
              "      <td>185.0</td>\n",
              "      <td>95.0</td>\n",
              "      <td>57.0</td>\n",
              "      <td>109.0</td>\n",
              "      <td>15.4</td>\n",
              "      <td>1.0</td>\n",
              "      <td>1.2</td>\n",
              "      <td>20.0</td>\n",
              "      <td>23.0</td>\n",
              "      <td>20.0</td>\n",
              "      <td>1.0</td>\n",
              "      <td>0.0</td>\n",
              "    </tr>\n",
              "    <tr>\n",
              "      <th>442357</th>\n",
              "      <td>1</td>\n",
              "      <td>6</td>\n",
              "      <td>41</td>\n",
              "      <td>170.0</td>\n",
              "      <td>60.0</td>\n",
              "      <td>79.0</td>\n",
              "      <td>1.0</td>\n",
              "      <td>0.8</td>\n",
              "      <td>1.0</td>\n",
              "      <td>1.0</td>\n",
              "      <td>104.0</td>\n",
              "      <td>76.0</td>\n",
              "      <td>114.0</td>\n",
              "      <td>194.0</td>\n",
              "      <td>100.0</td>\n",
              "      <td>70.0</td>\n",
              "      <td>104.0</td>\n",
              "      <td>13.8</td>\n",
              "      <td>1.0</td>\n",
              "      <td>1.0</td>\n",
              "      <td>21.0</td>\n",
              "      <td>17.0</td>\n",
              "      <td>29.0</td>\n",
              "      <td>1.0</td>\n",
              "      <td>1.0</td>\n",
              "    </tr>\n",
              "    <tr>\n",
              "      <th>123809</th>\n",
              "      <td>1</td>\n",
              "      <td>11</td>\n",
              "      <td>11</td>\n",
              "      <td>165.0</td>\n",
              "      <td>65.0</td>\n",
              "      <td>90.0</td>\n",
              "      <td>1.0</td>\n",
              "      <td>1.0</td>\n",
              "      <td>1.0</td>\n",
              "      <td>1.0</td>\n",
              "      <td>152.0</td>\n",
              "      <td>101.0</td>\n",
              "      <td>146.0</td>\n",
              "      <td>256.0</td>\n",
              "      <td>1879.0</td>\n",
              "      <td>49.0</td>\n",
              "      <td>93.0</td>\n",
              "      <td>16.1</td>\n",
              "      <td>1.0</td>\n",
              "      <td>1.0</td>\n",
              "      <td>85.0</td>\n",
              "      <td>29.0</td>\n",
              "      <td>479.0</td>\n",
              "      <td>3.0</td>\n",
              "      <td>0.0</td>\n",
              "    </tr>\n",
              "    <tr>\n",
              "      <th>880067</th>\n",
              "      <td>1</td>\n",
              "      <td>12</td>\n",
              "      <td>29</td>\n",
              "      <td>170.0</td>\n",
              "      <td>75.0</td>\n",
              "      <td>93.0</td>\n",
              "      <td>0.9</td>\n",
              "      <td>0.7</td>\n",
              "      <td>1.0</td>\n",
              "      <td>1.0</td>\n",
              "      <td>120.0</td>\n",
              "      <td>85.0</td>\n",
              "      <td>122.0</td>\n",
              "      <td>130.0</td>\n",
              "      <td>315.0</td>\n",
              "      <td>35.0</td>\n",
              "      <td>32.0</td>\n",
              "      <td>14.6</td>\n",
              "      <td>1.0</td>\n",
              "      <td>1.0</td>\n",
              "      <td>23.0</td>\n",
              "      <td>11.0</td>\n",
              "      <td>160.0</td>\n",
              "      <td>3.0</td>\n",
              "      <td>0.0</td>\n",
              "    </tr>\n",
              "    <tr>\n",
              "      <th>261166</th>\n",
              "      <td>2</td>\n",
              "      <td>11</td>\n",
              "      <td>11</td>\n",
              "      <td>155.0</td>\n",
              "      <td>50.0</td>\n",
              "      <td>76.0</td>\n",
              "      <td>0.6</td>\n",
              "      <td>0.6</td>\n",
              "      <td>1.0</td>\n",
              "      <td>1.0</td>\n",
              "      <td>116.0</td>\n",
              "      <td>67.0</td>\n",
              "      <td>82.0</td>\n",
              "      <td>208.0</td>\n",
              "      <td>156.0</td>\n",
              "      <td>50.0</td>\n",
              "      <td>127.0</td>\n",
              "      <td>13.4</td>\n",
              "      <td>1.0</td>\n",
              "      <td>0.8</td>\n",
              "      <td>19.0</td>\n",
              "      <td>16.0</td>\n",
              "      <td>27.0</td>\n",
              "      <td>1.0</td>\n",
              "      <td>1.0</td>\n",
              "    </tr>\n",
              "  </tbody>\n",
              "</table>\n",
              "</div>"
            ],
            "text/plain": [
              "        성별코드  연령대코드5세단위  시도코드  신장5Cm단위  ...  혈청지오티ALT  감마지티피  흡연상태   치석\n",
              "611178     1         10    41    180.0  ...      23.0   20.0   1.0  0.0\n",
              "442357     1          6    41    170.0  ...      17.0   29.0   1.0  1.0\n",
              "123809     1         11    11    165.0  ...      29.0  479.0   3.0  0.0\n",
              "880067     1         12    29    170.0  ...      11.0  160.0   3.0  0.0\n",
              "261166     2         11    11    155.0  ...      16.0   27.0   1.0  1.0\n",
              "\n",
              "[5 rows x 25 columns]"
            ]
          },
          "metadata": {
            "tags": []
          }
        },
        {
          "output_type": "stream",
          "text": [
            "<class 'pandas.core.frame.DataFrame'>\n",
            "Int64Index: 757019 entries, 3 to 999997\n",
            "Data columns (total 25 columns):\n",
            "성별코드         757019 non-null int64\n",
            "연령대코드5세단위    757019 non-null int64\n",
            "시도코드         757019 non-null int64\n",
            "신장5Cm단위      756786 non-null float64\n",
            "체중5Kg단위      756781 non-null float64\n",
            "허리둘레         756811 non-null float64\n",
            "시력좌          756876 non-null float64\n",
            "시력우          756879 non-null float64\n",
            "청력좌          756895 non-null float64\n",
            "청력우          756896 non-null float64\n",
            "수축기혈압        757000 non-null float64\n",
            "이완기혈압        757001 non-null float64\n",
            "식전혈당공복혈당     756983 non-null float64\n",
            "총콜레스테롤       756986 non-null float64\n",
            "트리글리세라이드     756986 non-null float64\n",
            "HDL콜레스테롤     756982 non-null float64\n",
            "LDL콜레스테롤     755112 non-null float64\n",
            "혈색소          756977 non-null float64\n",
            "요단백          754074 non-null float64\n",
            "혈청크레아티닌      756986 non-null float64\n",
            "혈청지오티AST     756987 non-null float64\n",
            "혈청지오티ALT     756987 non-null float64\n",
            "감마지티피        756986 non-null float64\n",
            "흡연상태         756886 non-null float64\n",
            "치석           757019 non-null float64\n",
            "dtypes: float64(22), int64(3)\n",
            "memory usage: 150.2 MB\n"
          ],
          "name": "stdout"
        },
        {
          "output_type": "display_data",
          "data": {
            "text/plain": [
              "None"
            ]
          },
          "metadata": {
            "tags": []
          }
        }
      ]
    },
    {
      "cell_type": "code",
      "metadata": {
        "id": "Y7Rv5x9wpVwE",
        "colab_type": "code",
        "outputId": "816025ad-923f-4c1b-eb10-d46df728f67b",
        "colab": {
          "base_uri": "https://localhost:8080/",
          "height": 521
        }
      },
      "source": [
        "print('# Null Value Check in Data')\n",
        "print(\"-\"*25)\n",
        "print(df_data.isnull().sum())"
      ],
      "execution_count": 18,
      "outputs": [
        {
          "output_type": "stream",
          "text": [
            "# Null Value Check in Data\n",
            "-------------------------\n",
            "성별코드            0\n",
            "연령대코드5세단위       0\n",
            "시도코드            0\n",
            "신장5Cm단위       233\n",
            "체중5Kg단위       238\n",
            "허리둘레          208\n",
            "시력좌           143\n",
            "시력우           140\n",
            "청력좌           124\n",
            "청력우           123\n",
            "수축기혈압          19\n",
            "이완기혈압          18\n",
            "식전혈당공복혈당       36\n",
            "총콜레스테롤         33\n",
            "트리글리세라이드       33\n",
            "HDL콜레스테롤       37\n",
            "LDL콜레스테롤     1907\n",
            "혈색소            42\n",
            "요단백          2945\n",
            "혈청크레아티닌        33\n",
            "혈청지오티AST       32\n",
            "혈청지오티ALT       32\n",
            "감마지티피          33\n",
            "흡연상태          133\n",
            "치석              0\n",
            "dtype: int64\n"
          ],
          "name": "stdout"
        }
      ]
    },
    {
      "cell_type": "code",
      "metadata": {
        "id": "RASZ0Re11zdo",
        "colab_type": "code",
        "colab": {
          "base_uri": "https://localhost:8080/",
          "height": 539
        },
        "outputId": "8d3d1dae-be24-4756-852c-6bada76e9412"
      },
      "source": [
        "#however passing by reference is convenient, because we can clean both datasets at once\n",
        "print('## Unique Value Check')\n",
        "print(\"-\"*25)\n",
        "print('# Col Name: Unique Value / Total Size')\n",
        "print(\"-\"*25)\n",
        "\n",
        "# Unique Variable Check for which columns can be one hot encoding\n",
        "for col in df_data.columns:\n",
        "    print(col, ':', df_data[col].unique().size, '/', len(df_data[col]))  "
      ],
      "execution_count": 27,
      "outputs": [
        {
          "output_type": "stream",
          "text": [
            "## Unique Value Check\n",
            "-------------------------\n",
            "# Col Name: Unique Value / Total Size\n",
            "-------------------------\n",
            "성별코드 : 2 / 757019\n",
            "연령대코드5세단위 : 14 / 757019\n",
            "시도코드 : 18 / 757019\n",
            "신장5Cm단위 : 23 / 757019\n",
            "체중5Kg단위 : 33 / 757019\n",
            "허리둘레 : 753 / 757019\n",
            "시력좌 : 25 / 757019\n",
            "시력우 : 24 / 757019\n",
            "청력좌 : 3 / 757019\n",
            "청력우 : 3 / 757019\n",
            "수축기혈압 : 154 / 757019\n",
            "이완기혈압 : 114 / 757019\n",
            "식전혈당공복혈당 : 432 / 757019\n",
            "총콜레스테롤 : 427 / 757019\n",
            "트리글리세라이드 : 1599 / 757019\n",
            "HDL콜레스테롤 : 242 / 757019\n",
            "LDL콜레스테롤 : 398 / 757019\n",
            "혈색소 : 175 / 757019\n",
            "요단백 : 7 / 757019\n",
            "혈청크레아티닌 : 157 / 757019\n",
            "혈청지오티AST : 493 / 757019\n",
            "혈청지오티ALT : 524 / 757019\n",
            "감마지티피 : 871 / 757019\n",
            "흡연상태 : 4 / 757019\n",
            "치석 : 2 / 757019\n"
          ],
          "name": "stdout"
        }
      ]
    },
    {
      "cell_type": "code",
      "metadata": {
        "id": "JAudw27Cuy-8",
        "colab_type": "code",
        "outputId": "7c44b486-d66d-4aa4-c8a5-54001780b952",
        "colab": {
          "base_uri": "https://localhost:8080/",
          "height": 575
        }
      },
      "source": [
        "# 범주형, 연속형 변수 type 지정\n",
        "# 명목형 변수는 obj로 연속형 변수는 int 또는 float로 변경\n",
        "category_features = ['성별코드', '연령대코드5세단위', '신장5Cm단위', '체중5Kg단위','시도코드', '청력좌', '청력우', '흡연상태', '치석']\n",
        "\n",
        "for col in df_data.columns:\n",
        "  if col in category_features:\n",
        "    df_data[col] = df_data[col].astype(object)\n",
        "\n",
        "print(df_data.info())"
      ],
      "execution_count": 29,
      "outputs": [
        {
          "output_type": "stream",
          "text": [
            "<class 'pandas.core.frame.DataFrame'>\n",
            "Int64Index: 757019 entries, 3 to 999997\n",
            "Data columns (total 25 columns):\n",
            "성별코드         757019 non-null object\n",
            "연령대코드5세단위    757019 non-null object\n",
            "시도코드         757019 non-null object\n",
            "신장5Cm단위      756786 non-null object\n",
            "체중5Kg단위      756781 non-null object\n",
            "허리둘레         756811 non-null float64\n",
            "시력좌          756876 non-null float64\n",
            "시력우          756879 non-null float64\n",
            "청력좌          756895 non-null object\n",
            "청력우          756896 non-null object\n",
            "수축기혈압        757000 non-null float64\n",
            "이완기혈압        757001 non-null float64\n",
            "식전혈당공복혈당     756983 non-null float64\n",
            "총콜레스테롤       756986 non-null float64\n",
            "트리글리세라이드     756986 non-null float64\n",
            "HDL콜레스테롤     756982 non-null float64\n",
            "LDL콜레스테롤     755112 non-null float64\n",
            "혈색소          756977 non-null float64\n",
            "요단백          754074 non-null float64\n",
            "혈청크레아티닌      756986 non-null float64\n",
            "혈청지오티AST     756987 non-null float64\n",
            "혈청지오티ALT     756987 non-null float64\n",
            "감마지티피        756986 non-null float64\n",
            "흡연상태         756886 non-null object\n",
            "치석           757019 non-null object\n",
            "dtypes: float64(16), object(9)\n",
            "memory usage: 170.2+ MB\n",
            "None\n"
          ],
          "name": "stdout"
        }
      ]
    },
    {
      "cell_type": "code",
      "metadata": {
        "id": "dXDFfiN54kEu",
        "colab_type": "code",
        "outputId": "f7d90ab6-5a0b-41b4-eca9-f6755ec9934e",
        "colab": {
          "base_uri": "https://localhost:8080/",
          "height": 143
        }
      },
      "source": [
        "print(\"Count : \\n\", df_data['치석'].value_counts(), \"Portion : \\n\", df_data['치석'].value_counts()/len(df_data['치석']))"
      ],
      "execution_count": 30,
      "outputs": [
        {
          "output_type": "stream",
          "text": [
            "Count : \n",
            " 1.0    397051\n",
            "0.0    359968\n",
            "Name: 치석, dtype: int64 Portion : \n",
            " 1.0    0.524493\n",
            "0.0    0.475507\n",
            "Name: 치석, dtype: float64\n"
          ],
          "name": "stdout"
        }
      ]
    },
    {
      "cell_type": "code",
      "metadata": {
        "id": "kshpVxc_pVml",
        "colab_type": "code",
        "outputId": "7855be1c-58ee-4538-9d0c-c24e53e1d44e",
        "colab": {
          "base_uri": "https://localhost:8080/",
          "height": 274
        }
      },
      "source": [
        "df_data['치석'].value_counts().plot(kind='bar') \n",
        "plt.show()"
      ],
      "execution_count": 31,
      "outputs": [
        {
          "output_type": "display_data",
          "data": {
            "image/png": "[encoded data removed]",
            "text/plain": [
              "<Figure size 432x288 with 1 Axes>"
            ]
          },
          "metadata": {
            "tags": []
          }
        }
      ]
    },
    {
      "cell_type": "code",
      "metadata": {
        "id": "doTF4GYdpVgX",
        "colab_type": "code",
        "outputId": "cb64d45d-6356-409a-eb8d-923205b8c753",
        "colab": {
          "base_uri": "https://localhost:8080/",
          "height": 53
        }
      },
      "source": [
        "# 앞에서 명목형 변수의 형을 object로 모두 변경했기 때문에 컬럼 중에서 object 타입을 가진 컬럼만 뽑아서 명목형 변수의 리스트를 만든다\n",
        "# 이 때, 데이터의 기본키(인덱스), 종속변수 등을 제외하고 분석하는 것이 좋음\n",
        "\n",
        "# 단변수 탐색\n",
        "category_features = [col for col in df_data.columns if df_data[col].dtypes == \"object\"]\n",
        "print(category_features)\n",
        "\n",
        "\n",
        "category_features = list(set(category_features) - set(['치석']))\n",
        "print(category_features)"
      ],
      "execution_count": 33,
      "outputs": [
        {
          "output_type": "stream",
          "text": [
            "['성별코드', '연령대코드5세단위', '시도코드', '신장5Cm단위', '체중5Kg단위', '청력좌', '청력우', '흡연상태', '치석']\n",
            "['청력우', '청력좌', '시도코드', '신장5Cm단위', '체중5Kg단위', '흡연상태', '연령대코드5세단위', '성별코드']\n"
          ],
          "name": "stdout"
        }
      ]
    },
    {
      "cell_type": "markdown",
      "metadata": {
        "id": "fhURMEEzLV55",
        "colab_type": "text"
      },
      "source": [
        "### 명목형 변수 EDA"
      ]
    },
    {
      "cell_type": "code",
      "metadata": {
        "id": "Sx_dvLpXQIcf",
        "colab_type": "code",
        "outputId": "305087a3-e4b7-4947-fe4b-33486bac3ec6",
        "colab": {
          "base_uri": "https://localhost:8080/",
          "height": 35
        }
      },
      "source": [
        "print(len(category_features))"
      ],
      "execution_count": 34,
      "outputs": [
        {
          "output_type": "stream",
          "text": [
            "8\n"
          ],
          "name": "stdout"
        }
      ]
    },
    {
      "cell_type": "code",
      "metadata": {
        "id": "fEHjG0XGx-KN",
        "colab_type": "code",
        "outputId": "7aa4c071-75d0-4be8-99d1-44a009aac533",
        "colab": {
          "base_uri": "https://localhost:8080/",
          "height": 627
        }
      },
      "source": [
        "# 그래프를 통해 명목형 변수의 분포를 체크\n",
        "\n",
        "# for col in category_features:\n",
        "#     df_data[col].value_counts().plot(kind='bar')    \n",
        "#     plt.title(col)\n",
        "#     plt.show()\n",
        "    \n",
        "fig, saxis = plt.subplots(2, 4, figsize=(25,10))\n",
        "plt.figure()\n",
        "\n",
        "# 변수별로 for문을 돌면서 countplot을 그립니다\n",
        "for idx, col in enumerate(category_features):\n",
        "  row_loc = idx // 4\n",
        "  col_loc = idx % 4\n",
        "#   print(idx, row_loc, col_loc)\n",
        "  sns.countplot(x=df_data[col], data= df_data, ax = saxis[row_loc,col_loc])\n",
        "#   df_data[col].value_counts().plot(kind='bar', ax = saxis[row_loc,col_loc])\n",
        "  \n",
        "plt.show()"
      ],
      "execution_count": 35,
      "outputs": [
        {
          "output_type": "display_data",
          "data": {
            "image/png": "[encoded data removed]",
            "text/plain": [
              "<Figure size 1800x720 with 8 Axes>"
            ]
          },
          "metadata": {
            "tags": []
          }
        },
        {
          "output_type": "display_data",
          "data": {
            "text/plain": [
              "<Figure size 432x288 with 0 Axes>"
            ]
          },
          "metadata": {
            "tags": []
          }
        }
      ]
    },
    {
      "cell_type": "code",
      "metadata": {
        "id": "qyWsXjER4zJ7",
        "colab_type": "code",
        "outputId": "a1073870-ccb4-4f26-8c62-57f093bafa9f",
        "colab": {
          "base_uri": "https://localhost:8080/",
          "height": 647
        }
      },
      "source": [
        "# # 단변수 Correlation Check\n",
        "\n",
        "# def portion_func(x):\n",
        "#     sum_val = np.sum(x)\n",
        "#     cnt_val = len(x)\n",
        "#     portion_val = sum_val/cnt_val\n",
        "#     return portion_val\n",
        "\n",
        "  \n",
        "# for col in category_features:\n",
        "#     if df_data[col].dtype == 'object':\n",
        "#         print('치석 Correlation by:', col)\n",
        "#         print(df_data[[col, '치석']].groupby(col).agg(['sum', 'count']))"
      ],
      "execution_count": 0,
      "outputs": [
        {
          "output_type": "stream",
          "text": [
            "치석 Correlation by: 성별코드\n",
            "            치석        \n",
            "           sum   count\n",
            "성별코드                  \n",
            "1     237901.0  432620\n",
            "2     159150.0  324399\n",
            "치석 Correlation by: 시도코드\n",
            "            치석        \n",
            "           sum   count\n",
            "시도코드                  \n",
            "11     78682.0  144158\n",
            "26     24560.0   50478\n",
            "27     14056.0   27025\n",
            "28     30857.0   54690\n",
            "29     11745.0   20257\n",
            "30     13036.0   29201\n",
            "31     10087.0   29720\n",
            "36      2001.0    4261\n",
            "41    104040.0  182520\n",
            "42      9940.0   19368\n",
            "43     15430.0   32010\n",
            "44     16666.0   31780\n",
            "45     15120.0   30880\n",
            "46     11582.0   20817\n",
            "47     13472.0   30759\n",
            "48     20932.0   40623\n",
            "49      2513.0    4425\n",
            "50      2332.0    4047\n",
            "치석 Correlation by: 흡연상태\n",
            "            치석        \n",
            "           sum   count\n",
            "흡연상태                  \n",
            "1.0   218156.0  440688\n",
            "2.0    73955.0  146094\n",
            "3.0   104869.0  170104\n"
          ],
          "name": "stdout"
        }
      ]
    },
    {
      "cell_type": "code",
      "metadata": {
        "id": "UnUhtPz61uHT",
        "colab_type": "code",
        "outputId": "a7ea13e3-e7e4-4d81-aca2-73c371038729",
        "colab": {
          "base_uri": "https://localhost:8080/",
          "height": 1000
        }
      },
      "source": [
        "# 이변수 탐색\n",
        "# Simple Plotting\n",
        "# categorical values\n",
        "\n",
        "# fig, saxis = plt.subplots(1, 4, figsize=(20,4))\n",
        "\n",
        "# plt.figure()\n",
        "\n",
        "# sns.barplot(x='성별코드', y='치석', data=df_data, ax = saxis[0])\n",
        "# sns.barplot(x='시도코드',y='치석', data=df_data, ax = saxis[1])\n",
        "# sns.barplot(x='흡연상태',y='치석', data=df_data, ax = saxis[2])\n",
        "# sns.barplot(x='흡연상태',y='치석', hue='성별코드', data=df_data, ax = saxis[3])\n",
        "\n",
        "# plt.show()\n",
        "\n",
        "\n",
        "\n",
        "fig, saxis = plt.subplots(4, 2, figsize=(25,20))\n",
        "plt.figure()\n",
        "\n",
        "# 변수별로 for문을 돌면서 barplot을 그립니다\n",
        "for idx, col in enumerate(category_features):\n",
        "  row_loc = idx // 2\n",
        "  col_loc = idx % 2\n",
        "#   print(idx, row_loc, col_loc)\n",
        "  sns.barplot(x=col, y='치석', data= df_data, ax = saxis[row_loc,col_loc])\n",
        "#   df_data[col].value_counts().plot(kind='bar', ax = saxis[row_loc,col_loc])\n",
        "  \n",
        "plt.show()"
      ],
      "execution_count": 38,
      "outputs": [
        {
          "output_type": "display_data",
          "data": {
            "image/png": "[encoded data removed]",
            "text/plain": [
              "<Figure size 1800x1440 with 8 Axes>"
            ]
          },
          "metadata": {
            "tags": []
          }
        },
        {
          "output_type": "display_data",
          "data": {
            "text/plain": [
              "<Figure size 432x288 with 0 Axes>"
            ]
          },
          "metadata": {
            "tags": []
          }
        }
      ]
    },
    {
      "cell_type": "markdown",
      "metadata": {
        "id": "aODjgQIqLO0Y",
        "colab_type": "text"
      },
      "source": [
        "### 수치형 변수 EDA\n",
        "\n"
      ]
    },
    {
      "cell_type": "code",
      "metadata": {
        "id": "UBngXixW3_2a",
        "colab_type": "code",
        "colab": {
          "base_uri": "https://localhost:8080/",
          "height": 35
        },
        "outputId": "d8b4fbe2-0747-47c2-a5a8-41725b62bebc"
      },
      "source": [
        "# 앞에서 명목형 변수의 형을 object로 모두 변경했기 때문에 컬럼 중에서 object 타입을 가진 컬럼만 뽑아서 명목형 변수의 리스트를 만든다\n",
        "# 이 때, 데이터의 기본키(인덱스), 종속변수 등을 제외하고 분석하는 것이 좋음\n",
        "\n",
        "# 단변수 탐색\n",
        "numeric_feature = [col for col in df_data.columns if df_data[col].dtypes != \"object\"]\n",
        "numeric_feature = np.sort(numeric_feature)\n",
        "print(len(numeric_feature)) # 총 18개"
      ],
      "execution_count": 39,
      "outputs": [
        {
          "output_type": "stream",
          "text": [
            "16\n"
          ],
          "name": "stdout"
        }
      ]
    },
    {
      "cell_type": "code",
      "metadata": {
        "id": "2G3UtmCsLOKY",
        "colab_type": "code",
        "outputId": "418808ca-180f-4b94-ad46-b87d8c69d272",
        "colab": {
          "base_uri": "https://localhost:8080/",
          "height": 1000
        }
      },
      "source": [
        "# 단변수 탐색 - 단변수 탐색은 seaborn 패키지의 distplot 함수를 이용하면 매우 편함\n",
        "# 수치형 변수만 골라냄\n",
        "fig, saxis = plt.subplots(8, 2, figsize=(25,28))\n",
        "plt.figure()\n",
        "\n",
        "# 변수별로 for문을 돌면서 distplot을 그립니다\n",
        "\n",
        "\n",
        "for idx, col in enumerate(numeric_feature):\n",
        "    row_loc = idx // 2\n",
        "    col_loc = idx % 2\n",
        "#     print(idx, row_loc, col_loc)\n",
        "    sns.distplot(df_data.loc[df_data[col].notnull(), col], ax = saxis[row_loc,col_loc])\n",
        "\n",
        "plt.show()"
      ],
      "execution_count": 40,
      "outputs": [
        {
          "output_type": "display_data",
          "data": {
            "image/png": "[encoded data removed]",
            "text/plain": [
              "<Figure size 1800x2016 with 16 Axes>"
            ]
          },
          "metadata": {
            "tags": []
          }
        },
        {
          "output_type": "display_data",
          "data": {
            "text/plain": [
              "<Figure size 432x288 with 0 Axes>"
            ]
          },
          "metadata": {
            "tags": []
          }
        }
      ]
    },
    {
      "cell_type": "code",
      "metadata": {
        "id": "_6d3E1ryMVK1",
        "colab_type": "code",
        "colab": {
          "base_uri": "https://localhost:8080/",
          "height": 35
        },
        "outputId": "3dacec15-7d4d-4d4d-ab0a-c9525aceab31"
      },
      "source": [
        "# (일단 임시로~~~) null 포함 데이터 모두 삭제 \n",
        "df_excl_na = df_data.dropna(how='any')\n",
        "df_excl_na.head()\n",
        "\n",
        "print(len(df_excl_na))"
      ],
      "execution_count": 67,
      "outputs": [
        {
          "output_type": "stream",
          "text": [
            "751452\n"
          ],
          "name": "stdout"
        }
      ]
    },
    {
      "cell_type": "code",
      "metadata": {
        "id": "xtT30NT0NpRC",
        "colab_type": "code",
        "colab": {
          "base_uri": "https://localhost:8080/",
          "height": 239
        },
        "outputId": "34e337e4-bdbe-44bd-95f9-a9cf6fefbd21"
      },
      "source": [
        "df_excl_na.drop_duplicates()\n",
        "df_excl_na.reset_index(inplace=True, drop=True)\n",
        "\n",
        "print(len(df_excl_na))\n",
        "\n",
        "df_excl_na.head()"
      ],
      "execution_count": 69,
      "outputs": [
        {
          "output_type": "stream",
          "text": [
            "751452\n"
          ],
          "name": "stdout"
        },
        {
          "output_type": "execute_result",
          "data": {
            "text/html": [
              "<div>\n",
              "<style scoped>\n",
              "    .dataframe tbody tr th:only-of-type {\n",
              "        vertical-align: middle;\n",
              "    }\n",
              "\n",
              "    .dataframe tbody tr th {\n",
              "        vertical-align: top;\n",
              "    }\n",
              "\n",
              "    .dataframe thead th {\n",
              "        text-align: right;\n",
              "    }\n",
              "</style>\n",
              "<table border=\"1\" class=\"dataframe\">\n",
              "  <thead>\n",
              "    <tr style=\"text-align: right;\">\n",
              "      <th></th>\n",
              "      <th>성별코드</th>\n",
              "      <th>연령대코드5세단위</th>\n",
              "      <th>시도코드</th>\n",
              "      <th>신장5Cm단위</th>\n",
              "      <th>체중5Kg단위</th>\n",
              "      <th>허리둘레</th>\n",
              "      <th>시력좌</th>\n",
              "      <th>시력우</th>\n",
              "      <th>청력좌</th>\n",
              "      <th>청력우</th>\n",
              "      <th>수축기혈압</th>\n",
              "      <th>이완기혈압</th>\n",
              "      <th>식전혈당공복혈당</th>\n",
              "      <th>총콜레스테롤</th>\n",
              "      <th>트리글리세라이드</th>\n",
              "      <th>HDL콜레스테롤</th>\n",
              "      <th>LDL콜레스테롤</th>\n",
              "      <th>혈색소</th>\n",
              "      <th>요단백</th>\n",
              "      <th>혈청크레아티닌</th>\n",
              "      <th>혈청지오티AST</th>\n",
              "      <th>혈청지오티ALT</th>\n",
              "      <th>감마지티피</th>\n",
              "      <th>흡연상태</th>\n",
              "      <th>치석</th>\n",
              "    </tr>\n",
              "  </thead>\n",
              "  <tbody>\n",
              "    <tr>\n",
              "      <th>0</th>\n",
              "      <td>1</td>\n",
              "      <td>12</td>\n",
              "      <td>48</td>\n",
              "      <td>175</td>\n",
              "      <td>70</td>\n",
              "      <td>85.0</td>\n",
              "      <td>1.2</td>\n",
              "      <td>1.2</td>\n",
              "      <td>1</td>\n",
              "      <td>1</td>\n",
              "      <td>124.0</td>\n",
              "      <td>76.0</td>\n",
              "      <td>93.0</td>\n",
              "      <td>179.0</td>\n",
              "      <td>79.0</td>\n",
              "      <td>40.0</td>\n",
              "      <td>123.0</td>\n",
              "      <td>16.8</td>\n",
              "      <td>1.0</td>\n",
              "      <td>1.0</td>\n",
              "      <td>20.0</td>\n",
              "      <td>39.0</td>\n",
              "      <td>69.0</td>\n",
              "      <td>2</td>\n",
              "      <td>1</td>\n",
              "    </tr>\n",
              "    <tr>\n",
              "      <th>1</th>\n",
              "      <td>1</td>\n",
              "      <td>10</td>\n",
              "      <td>31</td>\n",
              "      <td>175</td>\n",
              "      <td>70</td>\n",
              "      <td>90.0</td>\n",
              "      <td>1.5</td>\n",
              "      <td>1.5</td>\n",
              "      <td>1</td>\n",
              "      <td>1</td>\n",
              "      <td>114.0</td>\n",
              "      <td>76.0</td>\n",
              "      <td>85.0</td>\n",
              "      <td>207.0</td>\n",
              "      <td>93.0</td>\n",
              "      <td>50.0</td>\n",
              "      <td>138.0</td>\n",
              "      <td>13.9</td>\n",
              "      <td>1.0</td>\n",
              "      <td>0.8</td>\n",
              "      <td>25.0</td>\n",
              "      <td>30.0</td>\n",
              "      <td>24.0</td>\n",
              "      <td>3</td>\n",
              "      <td>0</td>\n",
              "    </tr>\n",
              "    <tr>\n",
              "      <th>2</th>\n",
              "      <td>1</td>\n",
              "      <td>7</td>\n",
              "      <td>46</td>\n",
              "      <td>170</td>\n",
              "      <td>80</td>\n",
              "      <td>86.0</td>\n",
              "      <td>1.5</td>\n",
              "      <td>1.0</td>\n",
              "      <td>1</td>\n",
              "      <td>1</td>\n",
              "      <td>136.0</td>\n",
              "      <td>80.0</td>\n",
              "      <td>95.0</td>\n",
              "      <td>207.0</td>\n",
              "      <td>297.0</td>\n",
              "      <td>53.0</td>\n",
              "      <td>95.0</td>\n",
              "      <td>16.7</td>\n",
              "      <td>1.0</td>\n",
              "      <td>1.0</td>\n",
              "      <td>27.0</td>\n",
              "      <td>39.0</td>\n",
              "      <td>81.0</td>\n",
              "      <td>3</td>\n",
              "      <td>0</td>\n",
              "    </tr>\n",
              "    <tr>\n",
              "      <th>3</th>\n",
              "      <td>1</td>\n",
              "      <td>7</td>\n",
              "      <td>41</td>\n",
              "      <td>170</td>\n",
              "      <td>80</td>\n",
              "      <td>92.0</td>\n",
              "      <td>0.6</td>\n",
              "      <td>0.4</td>\n",
              "      <td>1</td>\n",
              "      <td>1</td>\n",
              "      <td>128.0</td>\n",
              "      <td>80.0</td>\n",
              "      <td>125.0</td>\n",
              "      <td>230.0</td>\n",
              "      <td>214.0</td>\n",
              "      <td>42.0</td>\n",
              "      <td>145.0</td>\n",
              "      <td>15.3</td>\n",
              "      <td>1.0</td>\n",
              "      <td>1.0</td>\n",
              "      <td>22.0</td>\n",
              "      <td>22.0</td>\n",
              "      <td>101.0</td>\n",
              "      <td>1</td>\n",
              "      <td>1</td>\n",
              "    </tr>\n",
              "    <tr>\n",
              "      <th>4</th>\n",
              "      <td>1</td>\n",
              "      <td>9</td>\n",
              "      <td>26</td>\n",
              "      <td>165</td>\n",
              "      <td>65</td>\n",
              "      <td>80.0</td>\n",
              "      <td>1.5</td>\n",
              "      <td>2.0</td>\n",
              "      <td>1</td>\n",
              "      <td>1</td>\n",
              "      <td>112.0</td>\n",
              "      <td>61.0</td>\n",
              "      <td>92.0</td>\n",
              "      <td>231.0</td>\n",
              "      <td>122.0</td>\n",
              "      <td>46.0</td>\n",
              "      <td>161.0</td>\n",
              "      <td>14.4</td>\n",
              "      <td>1.0</td>\n",
              "      <td>1.0</td>\n",
              "      <td>30.0</td>\n",
              "      <td>40.0</td>\n",
              "      <td>62.0</td>\n",
              "      <td>1</td>\n",
              "      <td>0</td>\n",
              "    </tr>\n",
              "  </tbody>\n",
              "</table>\n",
              "</div>"
            ],
            "text/plain": [
              "  성별코드 연령대코드5세단위 시도코드 신장5Cm단위 체중5Kg단위  ...  혈청지오티AST  혈청지오티ALT  감마지티피 흡연상태 치석\n",
              "0    1        12   48     175      70  ...      20.0      39.0   69.0    2  1\n",
              "1    1        10   31     175      70  ...      25.0      30.0   24.0    3  0\n",
              "2    1         7   46     170      80  ...      27.0      39.0   81.0    3  0\n",
              "3    1         7   41     170      80  ...      22.0      22.0  101.0    1  1\n",
              "4    1         9   26     165      65  ...      30.0      40.0   62.0    1  0\n",
              "\n",
              "[5 rows x 25 columns]"
            ]
          },
          "metadata": {
            "tags": []
          },
          "execution_count": 69
        }
      ]
    },
    {
      "cell_type": "code",
      "metadata": {
        "id": "8zIbvoZwLOC8",
        "colab_type": "code",
        "colab": {
          "base_uri": "https://localhost:8080/",
          "height": 239
        },
        "outputId": "3c9058aa-9c5a-4edb-c0b0-30ff3644f187"
      },
      "source": [
        "# 수치형 변수들에 log를 취한 값 산출\n",
        "\n",
        "# Feature Engineering의 일환으로 Log 값 취한 뒤 Normalization을 하여 변수명 + LN (lognorm)으로 열 추가 후 그래프 다시 그림\n",
        "num_ln_cols = list(map(lambda x: str(x)+\"_LN\", numeric_feature))\n",
        "\n",
        "num_pipeline = Pipeline([\n",
        "        ('log_scaler', FunctionTransformer(np.log1p, validate=True)), # pipeline 내 log transformation을 위해 Function Transfomer 사용\n",
        "        ('normalizer', MinMaxScaler()),\n",
        "    ])\n",
        "\n",
        "piped_np = num_pipeline.fit_transform(df_excl_na[numeric_feature])\n",
        "piped_df = pd.DataFrame(piped_np, columns=num_ln_cols)\n",
        "\n",
        "print(len(piped_df))\n",
        "piped_df.head()"
      ],
      "execution_count": 70,
      "outputs": [
        {
          "output_type": "stream",
          "text": [
            "751452\n"
          ],
          "name": "stdout"
        },
        {
          "output_type": "execute_result",
          "data": {
            "text/html": [
              "<div>\n",
              "<style scoped>\n",
              "    .dataframe tbody tr th:only-of-type {\n",
              "        vertical-align: middle;\n",
              "    }\n",
              "\n",
              "    .dataframe tbody tr th {\n",
              "        vertical-align: top;\n",
              "    }\n",
              "\n",
              "    .dataframe thead th {\n",
              "        text-align: right;\n",
              "    }\n",
              "</style>\n",
              "<table border=\"1\" class=\"dataframe\">\n",
              "  <thead>\n",
              "    <tr style=\"text-align: right;\">\n",
              "      <th></th>\n",
              "      <th>HDL콜레스테롤_LN</th>\n",
              "      <th>LDL콜레스테롤_LN</th>\n",
              "      <th>감마지티피_LN</th>\n",
              "      <th>수축기혈압_LN</th>\n",
              "      <th>시력우_LN</th>\n",
              "      <th>시력좌_LN</th>\n",
              "      <th>식전혈당공복혈당_LN</th>\n",
              "      <th>요단백_LN</th>\n",
              "      <th>이완기혈압_LN</th>\n",
              "      <th>총콜레스테롤_LN</th>\n",
              "      <th>트리글리세라이드_LN</th>\n",
              "      <th>허리둘레_LN</th>\n",
              "      <th>혈색소_LN</th>\n",
              "      <th>혈청지오티ALT_LN</th>\n",
              "      <th>혈청지오티AST_LN</th>\n",
              "      <th>혈청크레아티닌_LN</th>\n",
              "    </tr>\n",
              "  </thead>\n",
              "  <tbody>\n",
              "    <tr>\n",
              "      <th>0</th>\n",
              "      <td>0.478886</td>\n",
              "      <td>0.592667</td>\n",
              "      <td>0.572095</td>\n",
              "      <td>0.493545</td>\n",
              "      <td>0.302229</td>\n",
              "      <td>0.302229</td>\n",
              "      <td>0.445084</td>\n",
              "      <td>0.0</td>\n",
              "      <td>0.493420</td>\n",
              "      <td>0.527673</td>\n",
              "      <td>0.435003</td>\n",
              "      <td>0.577664</td>\n",
              "      <td>0.797576</td>\n",
              "      <td>0.380913</td>\n",
              "      <td>0.300052</td>\n",
              "      <td>0.132562</td>\n",
              "    </tr>\n",
              "    <tr>\n",
              "      <th>1</th>\n",
              "      <td>0.513490</td>\n",
              "      <td>0.609065</td>\n",
              "      <td>0.406418</td>\n",
              "      <td>0.436185</td>\n",
              "      <td>0.357967</td>\n",
              "      <td>0.357967</td>\n",
              "      <td>0.420324</td>\n",
              "      <td>0.0</td>\n",
              "      <td>0.493420</td>\n",
              "      <td>0.554969</td>\n",
              "      <td>0.456368</td>\n",
              "      <td>0.587393</td>\n",
              "      <td>0.702567</td>\n",
              "      <td>0.348503</td>\n",
              "      <td>0.327305</td>\n",
              "      <td>0.109200</td>\n",
              "    </tr>\n",
              "    <tr>\n",
              "      <th>2</th>\n",
              "      <td>0.522553</td>\n",
              "      <td>0.555914</td>\n",
              "      <td>0.597555</td>\n",
              "      <td>0.556605</td>\n",
              "      <td>0.260671</td>\n",
              "      <td>0.357967</td>\n",
              "      <td>0.450945</td>\n",
              "      <td>0.0</td>\n",
              "      <td>0.525113</td>\n",
              "      <td>0.554969</td>\n",
              "      <td>0.609229</td>\n",
              "      <td>0.579654</td>\n",
              "      <td>0.794566</td>\n",
              "      <td>0.380913</td>\n",
              "      <td>0.336762</td>\n",
              "      <td>0.132562</td>\n",
              "    </tr>\n",
              "    <tr>\n",
              "      <th>3</th>\n",
              "      <td>0.486438</td>\n",
              "      <td>0.616121</td>\n",
              "      <td>0.632675</td>\n",
              "      <td>0.515214</td>\n",
              "      <td>0.105152</td>\n",
              "      <td>0.163375</td>\n",
              "      <td>0.526645</td>\n",
              "      <td>0.0</td>\n",
              "      <td>0.525113</td>\n",
              "      <td>0.574769</td>\n",
              "      <td>0.565979</td>\n",
              "      <td>0.591135</td>\n",
              "      <td>0.750544</td>\n",
              "      <td>0.310549</td>\n",
              "      <td>0.311660</td>\n",
              "      <td>0.132562</td>\n",
              "    </tr>\n",
              "    <tr>\n",
              "      <th>4</th>\n",
              "      <td>0.500540</td>\n",
              "      <td>0.631054</td>\n",
              "      <td>0.555142</td>\n",
              "      <td>0.424115</td>\n",
              "      <td>0.437464</td>\n",
              "      <td>0.357967</td>\n",
              "      <td>0.442107</td>\n",
              "      <td>0.0</td>\n",
              "      <td>0.357826</td>\n",
              "      <td>0.575584</td>\n",
              "      <td>0.491992</td>\n",
              "      <td>0.567353</td>\n",
              "      <td>0.720201</td>\n",
              "      <td>0.384053</td>\n",
              "      <td>0.349750</td>\n",
              "      <td>0.132562</td>\n",
              "    </tr>\n",
              "  </tbody>\n",
              "</table>\n",
              "</div>"
            ],
            "text/plain": [
              "   HDL콜레스테롤_LN  LDL콜레스테롤_LN  감마지티피_LN  ...  혈청지오티ALT_LN  혈청지오티AST_LN  혈청크레아티닌_LN\n",
              "0     0.478886     0.592667  0.572095  ...     0.380913     0.300052    0.132562\n",
              "1     0.513490     0.609065  0.406418  ...     0.348503     0.327305    0.109200\n",
              "2     0.522553     0.555914  0.597555  ...     0.380913     0.336762    0.132562\n",
              "3     0.486438     0.616121  0.632675  ...     0.310549     0.311660    0.132562\n",
              "4     0.500540     0.631054  0.555142  ...     0.384053     0.349750    0.132562\n",
              "\n",
              "[5 rows x 16 columns]"
            ]
          },
          "metadata": {
            "tags": []
          },
          "execution_count": 70
        }
      ]
    },
    {
      "cell_type": "code",
      "metadata": {
        "id": "2EP2WNz-LN2m",
        "colab_type": "code",
        "colab": {
          "base_uri": "https://localhost:8080/",
          "height": 360
        },
        "outputId": "1ffe1912-63b3-4e91-e87e-7ded34ea75aa"
      },
      "source": [
        "# df_fe = df_excl_na.join(piped_df, how='inner')\n",
        "# print(len(df_fe))\n",
        "\n",
        "df_fe = pd.concat([df_excl_na, piped_df], axis=1)\n",
        "df_fe.head()"
      ],
      "execution_count": 71,
      "outputs": [
        {
          "output_type": "execute_result",
          "data": {
            "text/html": [
              "<div>\n",
              "<style scoped>\n",
              "    .dataframe tbody tr th:only-of-type {\n",
              "        vertical-align: middle;\n",
              "    }\n",
              "\n",
              "    .dataframe tbody tr th {\n",
              "        vertical-align: top;\n",
              "    }\n",
              "\n",
              "    .dataframe thead th {\n",
              "        text-align: right;\n",
              "    }\n",
              "</style>\n",
              "<table border=\"1\" class=\"dataframe\">\n",
              "  <thead>\n",
              "    <tr style=\"text-align: right;\">\n",
              "      <th></th>\n",
              "      <th>성별코드</th>\n",
              "      <th>연령대코드5세단위</th>\n",
              "      <th>시도코드</th>\n",
              "      <th>신장5Cm단위</th>\n",
              "      <th>체중5Kg단위</th>\n",
              "      <th>허리둘레</th>\n",
              "      <th>시력좌</th>\n",
              "      <th>시력우</th>\n",
              "      <th>청력좌</th>\n",
              "      <th>청력우</th>\n",
              "      <th>수축기혈압</th>\n",
              "      <th>이완기혈압</th>\n",
              "      <th>식전혈당공복혈당</th>\n",
              "      <th>총콜레스테롤</th>\n",
              "      <th>트리글리세라이드</th>\n",
              "      <th>HDL콜레스테롤</th>\n",
              "      <th>LDL콜레스테롤</th>\n",
              "      <th>혈색소</th>\n",
              "      <th>요단백</th>\n",
              "      <th>혈청크레아티닌</th>\n",
              "      <th>혈청지오티AST</th>\n",
              "      <th>혈청지오티ALT</th>\n",
              "      <th>감마지티피</th>\n",
              "      <th>흡연상태</th>\n",
              "      <th>치석</th>\n",
              "      <th>HDL콜레스테롤_LN</th>\n",
              "      <th>LDL콜레스테롤_LN</th>\n",
              "      <th>감마지티피_LN</th>\n",
              "      <th>수축기혈압_LN</th>\n",
              "      <th>시력우_LN</th>\n",
              "      <th>시력좌_LN</th>\n",
              "      <th>식전혈당공복혈당_LN</th>\n",
              "      <th>요단백_LN</th>\n",
              "      <th>이완기혈압_LN</th>\n",
              "      <th>총콜레스테롤_LN</th>\n",
              "      <th>트리글리세라이드_LN</th>\n",
              "      <th>허리둘레_LN</th>\n",
              "      <th>혈색소_LN</th>\n",
              "      <th>혈청지오티ALT_LN</th>\n",
              "      <th>혈청지오티AST_LN</th>\n",
              "      <th>혈청크레아티닌_LN</th>\n",
              "    </tr>\n",
              "  </thead>\n",
              "  <tbody>\n",
              "    <tr>\n",
              "      <th>0</th>\n",
              "      <td>1</td>\n",
              "      <td>12</td>\n",
              "      <td>48</td>\n",
              "      <td>175</td>\n",
              "      <td>70</td>\n",
              "      <td>85.0</td>\n",
              "      <td>1.2</td>\n",
              "      <td>1.2</td>\n",
              "      <td>1</td>\n",
              "      <td>1</td>\n",
              "      <td>124.0</td>\n",
              "      <td>76.0</td>\n",
              "      <td>93.0</td>\n",
              "      <td>179.0</td>\n",
              "      <td>79.0</td>\n",
              "      <td>40.0</td>\n",
              "      <td>123.0</td>\n",
              "      <td>16.8</td>\n",
              "      <td>1.0</td>\n",
              "      <td>1.0</td>\n",
              "      <td>20.0</td>\n",
              "      <td>39.0</td>\n",
              "      <td>69.0</td>\n",
              "      <td>2</td>\n",
              "      <td>1</td>\n",
              "      <td>0.478886</td>\n",
              "      <td>0.592667</td>\n",
              "      <td>0.572095</td>\n",
              "      <td>0.493545</td>\n",
              "      <td>0.302229</td>\n",
              "      <td>0.302229</td>\n",
              "      <td>0.445084</td>\n",
              "      <td>0.0</td>\n",
              "      <td>0.493420</td>\n",
              "      <td>0.527673</td>\n",
              "      <td>0.435003</td>\n",
              "      <td>0.577664</td>\n",
              "      <td>0.797576</td>\n",
              "      <td>0.380913</td>\n",
              "      <td>0.300052</td>\n",
              "      <td>0.132562</td>\n",
              "    </tr>\n",
              "    <tr>\n",
              "      <th>1</th>\n",
              "      <td>1</td>\n",
              "      <td>10</td>\n",
              "      <td>31</td>\n",
              "      <td>175</td>\n",
              "      <td>70</td>\n",
              "      <td>90.0</td>\n",
              "      <td>1.5</td>\n",
              "      <td>1.5</td>\n",
              "      <td>1</td>\n",
              "      <td>1</td>\n",
              "      <td>114.0</td>\n",
              "      <td>76.0</td>\n",
              "      <td>85.0</td>\n",
              "      <td>207.0</td>\n",
              "      <td>93.0</td>\n",
              "      <td>50.0</td>\n",
              "      <td>138.0</td>\n",
              "      <td>13.9</td>\n",
              "      <td>1.0</td>\n",
              "      <td>0.8</td>\n",
              "      <td>25.0</td>\n",
              "      <td>30.0</td>\n",
              "      <td>24.0</td>\n",
              "      <td>3</td>\n",
              "      <td>0</td>\n",
              "      <td>0.513490</td>\n",
              "      <td>0.609065</td>\n",
              "      <td>0.406418</td>\n",
              "      <td>0.436185</td>\n",
              "      <td>0.357967</td>\n",
              "      <td>0.357967</td>\n",
              "      <td>0.420324</td>\n",
              "      <td>0.0</td>\n",
              "      <td>0.493420</td>\n",
              "      <td>0.554969</td>\n",
              "      <td>0.456368</td>\n",
              "      <td>0.587393</td>\n",
              "      <td>0.702567</td>\n",
              "      <td>0.348503</td>\n",
              "      <td>0.327305</td>\n",
              "      <td>0.109200</td>\n",
              "    </tr>\n",
              "    <tr>\n",
              "      <th>2</th>\n",
              "      <td>1</td>\n",
              "      <td>7</td>\n",
              "      <td>46</td>\n",
              "      <td>170</td>\n",
              "      <td>80</td>\n",
              "      <td>86.0</td>\n",
              "      <td>1.5</td>\n",
              "      <td>1.0</td>\n",
              "      <td>1</td>\n",
              "      <td>1</td>\n",
              "      <td>136.0</td>\n",
              "      <td>80.0</td>\n",
              "      <td>95.0</td>\n",
              "      <td>207.0</td>\n",
              "      <td>297.0</td>\n",
              "      <td>53.0</td>\n",
              "      <td>95.0</td>\n",
              "      <td>16.7</td>\n",
              "      <td>1.0</td>\n",
              "      <td>1.0</td>\n",
              "      <td>27.0</td>\n",
              "      <td>39.0</td>\n",
              "      <td>81.0</td>\n",
              "      <td>3</td>\n",
              "      <td>0</td>\n",
              "      <td>0.522553</td>\n",
              "      <td>0.555914</td>\n",
              "      <td>0.597555</td>\n",
              "      <td>0.556605</td>\n",
              "      <td>0.260671</td>\n",
              "      <td>0.357967</td>\n",
              "      <td>0.450945</td>\n",
              "      <td>0.0</td>\n",
              "      <td>0.525113</td>\n",
              "      <td>0.554969</td>\n",
              "      <td>0.609229</td>\n",
              "      <td>0.579654</td>\n",
              "      <td>0.794566</td>\n",
              "      <td>0.380913</td>\n",
              "      <td>0.336762</td>\n",
              "      <td>0.132562</td>\n",
              "    </tr>\n",
              "    <tr>\n",
              "      <th>3</th>\n",
              "      <td>1</td>\n",
              "      <td>7</td>\n",
              "      <td>41</td>\n",
              "      <td>170</td>\n",
              "      <td>80</td>\n",
              "      <td>92.0</td>\n",
              "      <td>0.6</td>\n",
              "      <td>0.4</td>\n",
              "      <td>1</td>\n",
              "      <td>1</td>\n",
              "      <td>128.0</td>\n",
              "      <td>80.0</td>\n",
              "      <td>125.0</td>\n",
              "      <td>230.0</td>\n",
              "      <td>214.0</td>\n",
              "      <td>42.0</td>\n",
              "      <td>145.0</td>\n",
              "      <td>15.3</td>\n",
              "      <td>1.0</td>\n",
              "      <td>1.0</td>\n",
              "      <td>22.0</td>\n",
              "      <td>22.0</td>\n",
              "      <td>101.0</td>\n",
              "      <td>1</td>\n",
              "      <td>1</td>\n",
              "      <td>0.486438</td>\n",
              "      <td>0.616121</td>\n",
              "      <td>0.632675</td>\n",
              "      <td>0.515214</td>\n",
              "      <td>0.105152</td>\n",
              "      <td>0.163375</td>\n",
              "      <td>0.526645</td>\n",
              "      <td>0.0</td>\n",
              "      <td>0.525113</td>\n",
              "      <td>0.574769</td>\n",
              "      <td>0.565979</td>\n",
              "      <td>0.591135</td>\n",
              "      <td>0.750544</td>\n",
              "      <td>0.310549</td>\n",
              "      <td>0.311660</td>\n",
              "      <td>0.132562</td>\n",
              "    </tr>\n",
              "    <tr>\n",
              "      <th>4</th>\n",
              "      <td>1</td>\n",
              "      <td>9</td>\n",
              "      <td>26</td>\n",
              "      <td>165</td>\n",
              "      <td>65</td>\n",
              "      <td>80.0</td>\n",
              "      <td>1.5</td>\n",
              "      <td>2.0</td>\n",
              "      <td>1</td>\n",
              "      <td>1</td>\n",
              "      <td>112.0</td>\n",
              "      <td>61.0</td>\n",
              "      <td>92.0</td>\n",
              "      <td>231.0</td>\n",
              "      <td>122.0</td>\n",
              "      <td>46.0</td>\n",
              "      <td>161.0</td>\n",
              "      <td>14.4</td>\n",
              "      <td>1.0</td>\n",
              "      <td>1.0</td>\n",
              "      <td>30.0</td>\n",
              "      <td>40.0</td>\n",
              "      <td>62.0</td>\n",
              "      <td>1</td>\n",
              "      <td>0</td>\n",
              "      <td>0.500540</td>\n",
              "      <td>0.631054</td>\n",
              "      <td>0.555142</td>\n",
              "      <td>0.424115</td>\n",
              "      <td>0.437464</td>\n",
              "      <td>0.357967</td>\n",
              "      <td>0.442107</td>\n",
              "      <td>0.0</td>\n",
              "      <td>0.357826</td>\n",
              "      <td>0.575584</td>\n",
              "      <td>0.491992</td>\n",
              "      <td>0.567353</td>\n",
              "      <td>0.720201</td>\n",
              "      <td>0.384053</td>\n",
              "      <td>0.349750</td>\n",
              "      <td>0.132562</td>\n",
              "    </tr>\n",
              "  </tbody>\n",
              "</table>\n",
              "</div>"
            ],
            "text/plain": [
              "  성별코드 연령대코드5세단위 시도코드 신장5Cm단위  ...    혈색소_LN  혈청지오티ALT_LN  혈청지오티AST_LN  혈청크레아티닌_LN\n",
              "0    1        12   48     175  ...  0.797576     0.380913     0.300052    0.132562\n",
              "1    1        10   31     175  ...  0.702567     0.348503     0.327305    0.109200\n",
              "2    1         7   46     170  ...  0.794566     0.380913     0.336762    0.132562\n",
              "3    1         7   41     170  ...  0.750544     0.310549     0.311660    0.132562\n",
              "4    1         9   26     165  ...  0.720201     0.384053     0.349750    0.132562\n",
              "\n",
              "[5 rows x 41 columns]"
            ]
          },
          "metadata": {
            "tags": []
          },
          "execution_count": 71
        }
      ]
    },
    {
      "cell_type": "code",
      "metadata": {
        "id": "qhzW18Kd4kEw",
        "colab_type": "code",
        "outputId": "7799945b-7688-430a-ef93-4ad0806f1125",
        "colab": {
          "base_uri": "https://localhost:8080/",
          "height": 1000
        }
      },
      "source": [
        "# 단변수 탐색 with log 변형 변수\n",
        "# 수치형 변수만 골라냄\n",
        "fig, saxis = plt.subplots(8, 2, figsize=(25,28))\n",
        "plt.figure()\n",
        "\n",
        "# 변수별로 for문을 돌면서 distplot을 그립니다\n",
        "\n",
        "\n",
        "for idx, col in enumerate(num_ln_cols):\n",
        "    row_loc = idx // 2\n",
        "    col_loc = idx % 2\n",
        "#     print(idx, row_loc, col_loc)\n",
        "    sns.distplot(df_fe.loc[df_fe[col].notnull(), col], ax = saxis[row_loc,col_loc])\n",
        "\n",
        "plt.show()\n"
      ],
      "execution_count": 73,
      "outputs": [
        {
          "output_type": "display_data",
          "data": {
            "image/png": "[encoded data removed]",
            "text/plain": [
              "<Figure size 1800x2016 with 16 Axes>"
            ]
          },
          "metadata": {
            "tags": []
          }
        },
        {
          "output_type": "display_data",
          "data": {
            "text/plain": [
              "<Figure size 432x288 with 0 Axes>"
            ]
          },
          "metadata": {
            "tags": []
          }
        }
      ]
    },
    {
      "cell_type": "markdown",
      "metadata": {
        "id": "Fz-tC4mbRQvl",
        "colab_type": "text"
      },
      "source": [
        "### Feature Engineering 변수 추가"
      ]
    },
    {
      "cell_type": "code",
      "metadata": {
        "id": "xBkFy-MsSAyD",
        "colab_type": "code",
        "colab": {
          "base_uri": "https://localhost:8080/",
          "height": 238
        },
        "outputId": "730d6534-e79f-4661-aa7e-b3e553a50246"
      },
      "source": [
        "df_fe.head()"
      ],
      "execution_count": 76,
      "outputs": [
        {
          "output_type": "execute_result",
          "data": {
            "text/html": [
              "<div>\n",
              "<style scoped>\n",
              "    .dataframe tbody tr th:only-of-type {\n",
              "        vertical-align: middle;\n",
              "    }\n",
              "\n",
              "    .dataframe tbody tr th {\n",
              "        vertical-align: top;\n",
              "    }\n",
              "\n",
              "    .dataframe thead th {\n",
              "        text-align: right;\n",
              "    }\n",
              "</style>\n",
              "<table border=\"1\" class=\"dataframe\">\n",
              "  <thead>\n",
              "    <tr style=\"text-align: right;\">\n",
              "      <th></th>\n",
              "      <th>성별코드</th>\n",
              "      <th>연령대코드5세단위</th>\n",
              "      <th>시도코드</th>\n",
              "      <th>신장5Cm단위</th>\n",
              "      <th>체중5Kg단위</th>\n",
              "      <th>청력좌</th>\n",
              "      <th>청력우</th>\n",
              "      <th>흡연상태</th>\n",
              "      <th>치석</th>\n",
              "      <th>HDL콜레스테롤_LN</th>\n",
              "      <th>LDL콜레스테롤_LN</th>\n",
              "      <th>감마지티피_LN</th>\n",
              "      <th>수축기혈압_LN</th>\n",
              "      <th>시력우_LN</th>\n",
              "      <th>시력좌_LN</th>\n",
              "      <th>식전혈당공복혈당_LN</th>\n",
              "      <th>요단백_LN</th>\n",
              "      <th>이완기혈압_LN</th>\n",
              "      <th>총콜레스테롤_LN</th>\n",
              "      <th>트리글리세라이드_LN</th>\n",
              "      <th>허리둘레_LN</th>\n",
              "      <th>혈색소_LN</th>\n",
              "      <th>혈청지오티ALT_LN</th>\n",
              "      <th>혈청지오티AST_LN</th>\n",
              "      <th>혈청크레아티닌_LN</th>\n",
              "    </tr>\n",
              "  </thead>\n",
              "  <tbody>\n",
              "    <tr>\n",
              "      <th>0</th>\n",
              "      <td>1</td>\n",
              "      <td>12</td>\n",
              "      <td>48</td>\n",
              "      <td>175</td>\n",
              "      <td>70</td>\n",
              "      <td>1</td>\n",
              "      <td>1</td>\n",
              "      <td>2</td>\n",
              "      <td>1</td>\n",
              "      <td>0.478886</td>\n",
              "      <td>0.592667</td>\n",
              "      <td>0.572095</td>\n",
              "      <td>0.493545</td>\n",
              "      <td>0.302229</td>\n",
              "      <td>0.302229</td>\n",
              "      <td>0.445084</td>\n",
              "      <td>0.0</td>\n",
              "      <td>0.493420</td>\n",
              "      <td>0.527673</td>\n",
              "      <td>0.435003</td>\n",
              "      <td>0.577664</td>\n",
              "      <td>0.797576</td>\n",
              "      <td>0.380913</td>\n",
              "      <td>0.300052</td>\n",
              "      <td>0.132562</td>\n",
              "    </tr>\n",
              "    <tr>\n",
              "      <th>1</th>\n",
              "      <td>1</td>\n",
              "      <td>10</td>\n",
              "      <td>31</td>\n",
              "      <td>175</td>\n",
              "      <td>70</td>\n",
              "      <td>1</td>\n",
              "      <td>1</td>\n",
              "      <td>3</td>\n",
              "      <td>0</td>\n",
              "      <td>0.513490</td>\n",
              "      <td>0.609065</td>\n",
              "      <td>0.406418</td>\n",
              "      <td>0.436185</td>\n",
              "      <td>0.357967</td>\n",
              "      <td>0.357967</td>\n",
              "      <td>0.420324</td>\n",
              "      <td>0.0</td>\n",
              "      <td>0.493420</td>\n",
              "      <td>0.554969</td>\n",
              "      <td>0.456368</td>\n",
              "      <td>0.587393</td>\n",
              "      <td>0.702567</td>\n",
              "      <td>0.348503</td>\n",
              "      <td>0.327305</td>\n",
              "      <td>0.109200</td>\n",
              "    </tr>\n",
              "    <tr>\n",
              "      <th>2</th>\n",
              "      <td>1</td>\n",
              "      <td>7</td>\n",
              "      <td>46</td>\n",
              "      <td>170</td>\n",
              "      <td>80</td>\n",
              "      <td>1</td>\n",
              "      <td>1</td>\n",
              "      <td>3</td>\n",
              "      <td>0</td>\n",
              "      <td>0.522553</td>\n",
              "      <td>0.555914</td>\n",
              "      <td>0.597555</td>\n",
              "      <td>0.556605</td>\n",
              "      <td>0.260671</td>\n",
              "      <td>0.357967</td>\n",
              "      <td>0.450945</td>\n",
              "      <td>0.0</td>\n",
              "      <td>0.525113</td>\n",
              "      <td>0.554969</td>\n",
              "      <td>0.609229</td>\n",
              "      <td>0.579654</td>\n",
              "      <td>0.794566</td>\n",
              "      <td>0.380913</td>\n",
              "      <td>0.336762</td>\n",
              "      <td>0.132562</td>\n",
              "    </tr>\n",
              "    <tr>\n",
              "      <th>3</th>\n",
              "      <td>1</td>\n",
              "      <td>7</td>\n",
              "      <td>41</td>\n",
              "      <td>170</td>\n",
              "      <td>80</td>\n",
              "      <td>1</td>\n",
              "      <td>1</td>\n",
              "      <td>1</td>\n",
              "      <td>1</td>\n",
              "      <td>0.486438</td>\n",
              "      <td>0.616121</td>\n",
              "      <td>0.632675</td>\n",
              "      <td>0.515214</td>\n",
              "      <td>0.105152</td>\n",
              "      <td>0.163375</td>\n",
              "      <td>0.526645</td>\n",
              "      <td>0.0</td>\n",
              "      <td>0.525113</td>\n",
              "      <td>0.574769</td>\n",
              "      <td>0.565979</td>\n",
              "      <td>0.591135</td>\n",
              "      <td>0.750544</td>\n",
              "      <td>0.310549</td>\n",
              "      <td>0.311660</td>\n",
              "      <td>0.132562</td>\n",
              "    </tr>\n",
              "    <tr>\n",
              "      <th>4</th>\n",
              "      <td>1</td>\n",
              "      <td>9</td>\n",
              "      <td>26</td>\n",
              "      <td>165</td>\n",
              "      <td>65</td>\n",
              "      <td>1</td>\n",
              "      <td>1</td>\n",
              "      <td>1</td>\n",
              "      <td>0</td>\n",
              "      <td>0.500540</td>\n",
              "      <td>0.631054</td>\n",
              "      <td>0.555142</td>\n",
              "      <td>0.424115</td>\n",
              "      <td>0.437464</td>\n",
              "      <td>0.357967</td>\n",
              "      <td>0.442107</td>\n",
              "      <td>0.0</td>\n",
              "      <td>0.357826</td>\n",
              "      <td>0.575584</td>\n",
              "      <td>0.491992</td>\n",
              "      <td>0.567353</td>\n",
              "      <td>0.720201</td>\n",
              "      <td>0.384053</td>\n",
              "      <td>0.349750</td>\n",
              "      <td>0.132562</td>\n",
              "    </tr>\n",
              "  </tbody>\n",
              "</table>\n",
              "</div>"
            ],
            "text/plain": [
              "  성별코드 연령대코드5세단위 시도코드 신장5Cm단위  ...    혈색소_LN 혈청지오티ALT_LN 혈청지오티AST_LN 혈청크레아티닌_LN\n",
              "0    1        12   48     175  ...  0.797576    0.380913    0.300052   0.132562\n",
              "1    1        10   31     175  ...  0.702567    0.348503    0.327305   0.109200\n",
              "2    1         7   46     170  ...  0.794566    0.380913    0.336762   0.132562\n",
              "3    1         7   41     170  ...  0.750544    0.310549    0.311660   0.132562\n",
              "4    1         9   26     165  ...  0.720201    0.384053    0.349750   0.132562\n",
              "\n",
              "[5 rows x 25 columns]"
            ]
          },
          "metadata": {
            "tags": []
          },
          "execution_count": 76
        }
      ]
    },
    {
      "cell_type": "code",
      "metadata": {
        "id": "XDc5FTdbvs_V",
        "colab_type": "code",
        "colab": {}
      },
      "source": [
        "# 기존 수치형 변수들을 LN 변수들로 치환\n",
        "# df_fe.drop(columns=numeric_feature, axis=1, inplace=True)\n",
        "\n",
        "# BMI 변수 추가\n",
        "df_fe[\"BMI\"] = df_fe[\"체중5Kg단위\"]/(df_fe[\"신장5Cm단위\"]*df_fe[\"신장5Cm단위\"])"
      ],
      "execution_count": 0,
      "outputs": []
    },
    {
      "cell_type": "code",
      "metadata": {
        "id": "yBKM6_60SjkD",
        "colab_type": "code",
        "colab": {
          "base_uri": "https://localhost:8080/",
          "height": 125
        },
        "outputId": "8eb2ec8f-71bd-4c3c-f202-ffbb6bb4df09"
      },
      "source": [
        "df_fe.columns"
      ],
      "execution_count": 81,
      "outputs": [
        {
          "output_type": "execute_result",
          "data": {
            "text/plain": [
              "Index(['성별코드', '연령대코드5세단위', '시도코드', '신장5Cm단위', '체중5Kg단위', '청력좌', '청력우', '흡연상태',\n",
              "       '치석', 'HDL콜레스테롤_LN', 'LDL콜레스테롤_LN', '감마지티피_LN', '수축기혈압_LN', '시력우_LN',\n",
              "       '시력좌_LN', '식전혈당공복혈당_LN', '요단백_LN', '이완기혈압_LN', '총콜레스테롤_LN',\n",
              "       '트리글리세라이드_LN', '허리둘레_LN', '혈색소_LN', '혈청지오티ALT_LN', '혈청지오티AST_LN',\n",
              "       '혈청크레아티닌_LN', 'BMI'],\n",
              "      dtype='object')"
            ]
          },
          "metadata": {
            "tags": []
          },
          "execution_count": 81
        }
      ]
    },
    {
      "cell_type": "code",
      "metadata": {
        "id": "sEyptGg_Ta9j",
        "colab_type": "code",
        "colab": {
          "base_uri": "https://localhost:8080/",
          "height": 322
        },
        "outputId": "a0f2f66f-8b21-4cd5-f21a-a0741bb678bf"
      },
      "source": [
        "# df_fe['치석'].astype('float64').corr(df_fe['허리둘레_LN'])\n",
        "df_fe['치석'].astype('float64').corr(df_fe['성별코드'])"
      ],
      "execution_count": 87,
      "outputs": [
        {
          "output_type": "error",
          "ename": "AttributeError",
          "evalue": "ignored",
          "traceback": [
            "\u001b[0;31m---------------------------------------------------------------------------\u001b[0m",
            "\u001b[0;31mAttributeError\u001b[0m                            Traceback (most recent call last)",
            "\u001b[0;32m<ipython-input-87-c85e75caa9b0>\u001b[0m in \u001b[0;36m<module>\u001b[0;34m()\u001b[0m\n\u001b[0;32m----> 1\u001b[0;31m \u001b[0mdf_fe\u001b[0m\u001b[0;34m[\u001b[0m\u001b[0;34m'치석'\u001b[0m\u001b[0;34m]\u001b[0m\u001b[0;34m.\u001b[0m\u001b[0mastype\u001b[0m\u001b[0;34m(\u001b[0m\u001b[0;34m'float64'\u001b[0m\u001b[0;34m)\u001b[0m\u001b[0;34m.\u001b[0m\u001b[0mcorr\u001b[0m\u001b[0;34m(\u001b[0m\u001b[0mdf_fe\u001b[0m\u001b[0;34m[\u001b[0m\u001b[0;34m'성별코드'\u001b[0m\u001b[0;34m]\u001b[0m\u001b[0;34m)\u001b[0m\u001b[0;34m\u001b[0m\u001b[0;34m\u001b[0m\u001b[0m\n\u001b[0m",
            "\u001b[0;32m/usr/local/lib/python3.6/dist-packages/pandas/core/series.py\u001b[0m in \u001b[0;36mcorr\u001b[0;34m(self, other, method, min_periods)\u001b[0m\n\u001b[1;32m   2103\u001b[0m         \u001b[0;32mif\u001b[0m \u001b[0mmethod\u001b[0m \u001b[0;32min\u001b[0m \u001b[0;34m[\u001b[0m\u001b[0;34m'pearson'\u001b[0m\u001b[0;34m,\u001b[0m \u001b[0;34m'spearman'\u001b[0m\u001b[0;34m,\u001b[0m \u001b[0;34m'kendall'\u001b[0m\u001b[0;34m]\u001b[0m \u001b[0;32mor\u001b[0m \u001b[0mcallable\u001b[0m\u001b[0;34m(\u001b[0m\u001b[0mmethod\u001b[0m\u001b[0;34m)\u001b[0m\u001b[0;34m:\u001b[0m\u001b[0;34m\u001b[0m\u001b[0;34m\u001b[0m\u001b[0m\n\u001b[1;32m   2104\u001b[0m             return nanops.nancorr(this.values, other.values, method=method,\n\u001b[0;32m-> 2105\u001b[0;31m                                   min_periods=min_periods)\n\u001b[0m\u001b[1;32m   2106\u001b[0m \u001b[0;34m\u001b[0m\u001b[0m\n\u001b[1;32m   2107\u001b[0m         raise ValueError(\"method must be either 'pearson', \"\n",
            "\u001b[0;32m/usr/local/lib/python3.6/dist-packages/pandas/core/nanops.py\u001b[0m in \u001b[0;36m_f\u001b[0;34m(*args, **kwargs)\u001b[0m\n\u001b[1;32m     74\u001b[0m             \u001b[0;32mtry\u001b[0m\u001b[0;34m:\u001b[0m\u001b[0;34m\u001b[0m\u001b[0;34m\u001b[0m\u001b[0m\n\u001b[1;32m     75\u001b[0m                 \u001b[0;32mwith\u001b[0m \u001b[0mnp\u001b[0m\u001b[0;34m.\u001b[0m\u001b[0merrstate\u001b[0m\u001b[0;34m(\u001b[0m\u001b[0minvalid\u001b[0m\u001b[0;34m=\u001b[0m\u001b[0;34m'ignore'\u001b[0m\u001b[0;34m)\u001b[0m\u001b[0;34m:\u001b[0m\u001b[0;34m\u001b[0m\u001b[0;34m\u001b[0m\u001b[0m\n\u001b[0;32m---> 76\u001b[0;31m                     \u001b[0;32mreturn\u001b[0m \u001b[0mf\u001b[0m\u001b[0;34m(\u001b[0m\u001b[0;34m*\u001b[0m\u001b[0margs\u001b[0m\u001b[0;34m,\u001b[0m \u001b[0;34m**\u001b[0m\u001b[0mkwargs\u001b[0m\u001b[0;34m)\u001b[0m\u001b[0;34m\u001b[0m\u001b[0;34m\u001b[0m\u001b[0m\n\u001b[0m\u001b[1;32m     77\u001b[0m             \u001b[0;32mexcept\u001b[0m \u001b[0mValueError\u001b[0m \u001b[0;32mas\u001b[0m \u001b[0me\u001b[0m\u001b[0;34m:\u001b[0m\u001b[0;34m\u001b[0m\u001b[0;34m\u001b[0m\u001b[0m\n\u001b[1;32m     78\u001b[0m                 \u001b[0;31m# we want to transform an object array\u001b[0m\u001b[0;34m\u001b[0m\u001b[0;34m\u001b[0m\u001b[0;34m\u001b[0m\u001b[0m\n",
            "\u001b[0;32m/usr/local/lib/python3.6/dist-packages/pandas/core/nanops.py\u001b[0m in \u001b[0;36mnancorr\u001b[0;34m(a, b, method, min_periods)\u001b[0m\n\u001b[1;32m   1100\u001b[0m \u001b[0;34m\u001b[0m\u001b[0m\n\u001b[1;32m   1101\u001b[0m     \u001b[0mf\u001b[0m \u001b[0;34m=\u001b[0m \u001b[0mget_corr_func\u001b[0m\u001b[0;34m(\u001b[0m\u001b[0mmethod\u001b[0m\u001b[0;34m)\u001b[0m\u001b[0;34m\u001b[0m\u001b[0;34m\u001b[0m\u001b[0m\n\u001b[0;32m-> 1102\u001b[0;31m     \u001b[0;32mreturn\u001b[0m \u001b[0mf\u001b[0m\u001b[0;34m(\u001b[0m\u001b[0ma\u001b[0m\u001b[0;34m,\u001b[0m \u001b[0mb\u001b[0m\u001b[0;34m)\u001b[0m\u001b[0;34m\u001b[0m\u001b[0;34m\u001b[0m\u001b[0m\n\u001b[0m\u001b[1;32m   1103\u001b[0m \u001b[0;34m\u001b[0m\u001b[0m\n\u001b[1;32m   1104\u001b[0m \u001b[0;34m\u001b[0m\u001b[0m\n",
            "\u001b[0;32m/usr/local/lib/python3.6/dist-packages/pandas/core/nanops.py\u001b[0m in \u001b[0;36m_pearson\u001b[0;34m(a, b)\u001b[0m\n\u001b[1;32m   1110\u001b[0m \u001b[0;34m\u001b[0m\u001b[0m\n\u001b[1;32m   1111\u001b[0m     \u001b[0;32mdef\u001b[0m \u001b[0m_pearson\u001b[0m\u001b[0;34m(\u001b[0m\u001b[0ma\u001b[0m\u001b[0;34m,\u001b[0m \u001b[0mb\u001b[0m\u001b[0;34m)\u001b[0m\u001b[0;34m:\u001b[0m\u001b[0;34m\u001b[0m\u001b[0;34m\u001b[0m\u001b[0m\n\u001b[0;32m-> 1112\u001b[0;31m         \u001b[0;32mreturn\u001b[0m \u001b[0mnp\u001b[0m\u001b[0;34m.\u001b[0m\u001b[0mcorrcoef\u001b[0m\u001b[0;34m(\u001b[0m\u001b[0ma\u001b[0m\u001b[0;34m,\u001b[0m \u001b[0mb\u001b[0m\u001b[0;34m)\u001b[0m\u001b[0;34m[\u001b[0m\u001b[0;36m0\u001b[0m\u001b[0;34m,\u001b[0m \u001b[0;36m1\u001b[0m\u001b[0;34m]\u001b[0m\u001b[0;34m\u001b[0m\u001b[0;34m\u001b[0m\u001b[0m\n\u001b[0m\u001b[1;32m   1113\u001b[0m \u001b[0;34m\u001b[0m\u001b[0m\n\u001b[1;32m   1114\u001b[0m     \u001b[0;32mdef\u001b[0m \u001b[0m_kendall\u001b[0m\u001b[0;34m(\u001b[0m\u001b[0ma\u001b[0m\u001b[0;34m,\u001b[0m \u001b[0mb\u001b[0m\u001b[0;34m)\u001b[0m\u001b[0;34m:\u001b[0m\u001b[0;34m\u001b[0m\u001b[0;34m\u001b[0m\u001b[0m\n",
            "\u001b[0;32m/usr/local/lib/python3.6/dist-packages/numpy/lib/function_base.py\u001b[0m in \u001b[0;36mcorrcoef\u001b[0;34m(x, y, rowvar, bias, ddof)\u001b[0m\n\u001b[1;32m   2520\u001b[0m         warnings.warn('bias and ddof have no effect and are deprecated',\n\u001b[1;32m   2521\u001b[0m                       DeprecationWarning, stacklevel=2)\n\u001b[0;32m-> 2522\u001b[0;31m     \u001b[0mc\u001b[0m \u001b[0;34m=\u001b[0m \u001b[0mcov\u001b[0m\u001b[0;34m(\u001b[0m\u001b[0mx\u001b[0m\u001b[0;34m,\u001b[0m \u001b[0my\u001b[0m\u001b[0;34m,\u001b[0m \u001b[0mrowvar\u001b[0m\u001b[0;34m)\u001b[0m\u001b[0;34m\u001b[0m\u001b[0;34m\u001b[0m\u001b[0m\n\u001b[0m\u001b[1;32m   2523\u001b[0m     \u001b[0;32mtry\u001b[0m\u001b[0;34m:\u001b[0m\u001b[0;34m\u001b[0m\u001b[0;34m\u001b[0m\u001b[0m\n\u001b[1;32m   2524\u001b[0m         \u001b[0md\u001b[0m \u001b[0;34m=\u001b[0m \u001b[0mdiag\u001b[0m\u001b[0;34m(\u001b[0m\u001b[0mc\u001b[0m\u001b[0;34m)\u001b[0m\u001b[0;34m\u001b[0m\u001b[0;34m\u001b[0m\u001b[0m\n",
            "\u001b[0;32m/usr/local/lib/python3.6/dist-packages/numpy/lib/function_base.py\u001b[0m in \u001b[0;36mcov\u001b[0;34m(m, y, rowvar, bias, ddof, fweights, aweights)\u001b[0m\n\u001b[1;32m   2425\u001b[0m             \u001b[0mw\u001b[0m \u001b[0;34m*=\u001b[0m \u001b[0maweights\u001b[0m\u001b[0;34m\u001b[0m\u001b[0;34m\u001b[0m\u001b[0m\n\u001b[1;32m   2426\u001b[0m \u001b[0;34m\u001b[0m\u001b[0m\n\u001b[0;32m-> 2427\u001b[0;31m     \u001b[0mavg\u001b[0m\u001b[0;34m,\u001b[0m \u001b[0mw_sum\u001b[0m \u001b[0;34m=\u001b[0m \u001b[0maverage\u001b[0m\u001b[0;34m(\u001b[0m\u001b[0mX\u001b[0m\u001b[0;34m,\u001b[0m \u001b[0maxis\u001b[0m\u001b[0;34m=\u001b[0m\u001b[0;36m1\u001b[0m\u001b[0;34m,\u001b[0m \u001b[0mweights\u001b[0m\u001b[0;34m=\u001b[0m\u001b[0mw\u001b[0m\u001b[0;34m,\u001b[0m \u001b[0mreturned\u001b[0m\u001b[0;34m=\u001b[0m\u001b[0;32mTrue\u001b[0m\u001b[0;34m)\u001b[0m\u001b[0;34m\u001b[0m\u001b[0;34m\u001b[0m\u001b[0m\n\u001b[0m\u001b[1;32m   2428\u001b[0m     \u001b[0mw_sum\u001b[0m \u001b[0;34m=\u001b[0m \u001b[0mw_sum\u001b[0m\u001b[0;34m[\u001b[0m\u001b[0;36m0\u001b[0m\u001b[0;34m]\u001b[0m\u001b[0;34m\u001b[0m\u001b[0;34m\u001b[0m\u001b[0m\n\u001b[1;32m   2429\u001b[0m \u001b[0;34m\u001b[0m\u001b[0m\n",
            "\u001b[0;32m/usr/local/lib/python3.6/dist-packages/numpy/lib/function_base.py\u001b[0m in \u001b[0;36maverage\u001b[0;34m(a, axis, weights, returned)\u001b[0m\n\u001b[1;32m    425\u001b[0m \u001b[0;34m\u001b[0m\u001b[0m\n\u001b[1;32m    426\u001b[0m     \u001b[0;32mif\u001b[0m \u001b[0mreturned\u001b[0m\u001b[0;34m:\u001b[0m\u001b[0;34m\u001b[0m\u001b[0;34m\u001b[0m\u001b[0m\n\u001b[0;32m--> 427\u001b[0;31m         \u001b[0;32mif\u001b[0m \u001b[0mscl\u001b[0m\u001b[0;34m.\u001b[0m\u001b[0mshape\u001b[0m \u001b[0;34m!=\u001b[0m \u001b[0mavg\u001b[0m\u001b[0;34m.\u001b[0m\u001b[0mshape\u001b[0m\u001b[0;34m:\u001b[0m\u001b[0;34m\u001b[0m\u001b[0;34m\u001b[0m\u001b[0m\n\u001b[0m\u001b[1;32m    428\u001b[0m             \u001b[0mscl\u001b[0m \u001b[0;34m=\u001b[0m \u001b[0mnp\u001b[0m\u001b[0;34m.\u001b[0m\u001b[0mbroadcast_to\u001b[0m\u001b[0;34m(\u001b[0m\u001b[0mscl\u001b[0m\u001b[0;34m,\u001b[0m \u001b[0mavg\u001b[0m\u001b[0;34m.\u001b[0m\u001b[0mshape\u001b[0m\u001b[0;34m)\u001b[0m\u001b[0;34m.\u001b[0m\u001b[0mcopy\u001b[0m\u001b[0;34m(\u001b[0m\u001b[0;34m)\u001b[0m\u001b[0;34m\u001b[0m\u001b[0;34m\u001b[0m\u001b[0m\n\u001b[1;32m    429\u001b[0m         \u001b[0;32mreturn\u001b[0m \u001b[0mavg\u001b[0m\u001b[0;34m,\u001b[0m \u001b[0mscl\u001b[0m\u001b[0;34m\u001b[0m\u001b[0;34m\u001b[0m\u001b[0m\n",
            "\u001b[0;31mAttributeError\u001b[0m: 'float' object has no attribute 'shape'"
          ]
        }
      ]
    },
    {
      "cell_type": "code",
      "metadata": {
        "id": "rxBZzygA4kEz",
        "colab_type": "code",
        "outputId": "1b78ba73-2610-4fa4-c570-30472020f37b",
        "colab": {
          "base_uri": "https://localhost:8080/",
          "height": 305
        }
      },
      "source": [
        "from pprint import pprint as pp\n",
        "\n",
        "corr_dict = {}\n",
        "\n",
        "for i in num_ln_cols:\n",
        "    corr_dict[i] = df_fe['치석'].astype('float64').corr(df_fe[i])\n",
        "\n",
        "pp(corr_dict)"
      ],
      "execution_count": 88,
      "outputs": [
        {
          "output_type": "stream",
          "text": [
            "{'HDL콜레스테롤_LN': -0.03188401041584187,\n",
            " 'LDL콜레스테롤_LN': 0.010976084964917017,\n",
            " '감마지티피_LN': 0.06380484668873569,\n",
            " '수축기혈압_LN': 0.018331902656006822,\n",
            " '시력우_LN': 0.025156536733901346,\n",
            " '시력좌_LN': 0.023876994894187698,\n",
            " '식전혈당공복혈당_LN': 0.014037794427270496,\n",
            " '요단백_LN': 0.0008303075143204122,\n",
            " '이완기혈압_LN': 0.03081806742186287,\n",
            " '총콜레스테롤_LN': 0.019460912362254654,\n",
            " '트리글리세라이드_LN': 0.046461566538185804,\n",
            " '허리둘레_LN': 0.04751126293742135,\n",
            " '혈색소_LN': 0.061896747200687684,\n",
            " '혈청지오티ALT_LN': 0.04753343887291394,\n",
            " '혈청지오티AST_LN': 0.010889553170117779,\n",
            " '혈청크레아티닌_LN': 0.04040107473700529}\n"
          ],
          "name": "stdout"
        }
      ]
    },
    {
      "cell_type": "code",
      "metadata": {
        "scrolled": true,
        "id": "AuPhJVRK4kE1",
        "colab_type": "code",
        "outputId": "10dab51f-aabe-43ef-cf0b-4e785c55c81e",
        "colab": {
          "base_uri": "https://localhost:8080/",
          "height": 351
        }
      },
      "source": [
        "# 데이터 간의 상관관계 체크\n",
        "# 수치형변수들과 Survived 변수의 상관관계 Matrix 시각화\n",
        "g = sns.heatmap(df_fe.corr(),annot=True, fmt = \".2f\", cmap = \"coolwarm\")"
      ],
      "execution_count": 89,
      "outputs": [
        {
          "output_type": "display_data",
          "data": {
            "image/png": "[encoded data removed]",
            "text/plain": [
              "<Figure size 432x288 with 2 Axes>"
            ]
          },
          "metadata": {
            "tags": []
          }
        }
      ]
    },
    {
      "cell_type": "code",
      "metadata": {
        "id": "656qm5MYUJQz",
        "colab_type": "code",
        "colab": {
          "base_uri": "https://localhost:8080/",
          "height": 35
        },
        "outputId": "2781b6f1-7e67-4acb-fc58-dac22575a09d"
      },
      "source": [
        "category_features"
      ],
      "execution_count": 90,
      "outputs": [
        {
          "output_type": "execute_result",
          "data": {
            "text/plain": [
              "['청력우', '청력좌', '시도코드', '신장5Cm단위', '체중5Kg단위', '흡연상태', '연령대코드5세단위', '성별코드']"
            ]
          },
          "metadata": {
            "tags": []
          },
          "execution_count": 90
        }
      ]
    },
    {
      "cell_type": "code",
      "metadata": {
        "id": "C_CSSwvi4kE4",
        "colab_type": "code",
        "outputId": "b5b47423-03ae-4a75-f7ec-8f083a7501e9",
        "colab": {
          "base_uri": "https://localhost:8080/",
          "height": 406
        }
      },
      "source": [
        "df_onehot = pd.get_dummies(df_fe, columns=['청력우', '청력좌', '시도코드', '신장5Cm단위', '체중5Kg단위', '흡연상태', '연령대코드5세단위', '성별코드'])\n",
        "df_onehot.head()"
      ],
      "execution_count": 91,
      "outputs": [
        {
          "output_type": "execute_result",
          "data": {
            "text/html": [
              "<div>\n",
              "<style scoped>\n",
              "    .dataframe tbody tr th:only-of-type {\n",
              "        vertical-align: middle;\n",
              "    }\n",
              "\n",
              "    .dataframe tbody tr th {\n",
              "        vertical-align: top;\n",
              "    }\n",
              "\n",
              "    .dataframe thead th {\n",
              "        text-align: right;\n",
              "    }\n",
              "</style>\n",
              "<table border=\"1\" class=\"dataframe\">\n",
              "  <thead>\n",
              "    <tr style=\"text-align: right;\">\n",
              "      <th></th>\n",
              "      <th>치석</th>\n",
              "      <th>HDL콜레스테롤_LN</th>\n",
              "      <th>LDL콜레스테롤_LN</th>\n",
              "      <th>감마지티피_LN</th>\n",
              "      <th>수축기혈압_LN</th>\n",
              "      <th>시력우_LN</th>\n",
              "      <th>시력좌_LN</th>\n",
              "      <th>식전혈당공복혈당_LN</th>\n",
              "      <th>요단백_LN</th>\n",
              "      <th>이완기혈압_LN</th>\n",
              "      <th>총콜레스테롤_LN</th>\n",
              "      <th>트리글리세라이드_LN</th>\n",
              "      <th>허리둘레_LN</th>\n",
              "      <th>혈색소_LN</th>\n",
              "      <th>혈청지오티ALT_LN</th>\n",
              "      <th>혈청지오티AST_LN</th>\n",
              "      <th>혈청크레아티닌_LN</th>\n",
              "      <th>BMI</th>\n",
              "      <th>청력우_1.0</th>\n",
              "      <th>청력우_2.0</th>\n",
              "      <th>청력좌_1.0</th>\n",
              "      <th>청력좌_2.0</th>\n",
              "      <th>시도코드_11</th>\n",
              "      <th>시도코드_26</th>\n",
              "      <th>시도코드_27</th>\n",
              "      <th>시도코드_28</th>\n",
              "      <th>시도코드_29</th>\n",
              "      <th>시도코드_30</th>\n",
              "      <th>시도코드_31</th>\n",
              "      <th>시도코드_36</th>\n",
              "      <th>시도코드_41</th>\n",
              "      <th>시도코드_42</th>\n",
              "      <th>시도코드_43</th>\n",
              "      <th>시도코드_44</th>\n",
              "      <th>시도코드_45</th>\n",
              "      <th>시도코드_46</th>\n",
              "      <th>시도코드_47</th>\n",
              "      <th>시도코드_48</th>\n",
              "      <th>시도코드_49</th>\n",
              "      <th>시도코드_50</th>\n",
              "      <th>...</th>\n",
              "      <th>체중5Kg단위_75.0</th>\n",
              "      <th>체중5Kg단위_80.0</th>\n",
              "      <th>체중5Kg단위_85.0</th>\n",
              "      <th>체중5Kg단위_90.0</th>\n",
              "      <th>체중5Kg단위_95.0</th>\n",
              "      <th>체중5Kg단위_100.0</th>\n",
              "      <th>체중5Kg단위_105.0</th>\n",
              "      <th>체중5Kg단위_110.0</th>\n",
              "      <th>체중5Kg단위_115.0</th>\n",
              "      <th>체중5Kg단위_120.0</th>\n",
              "      <th>체중5Kg단위_125.0</th>\n",
              "      <th>체중5Kg단위_130.0</th>\n",
              "      <th>체중5Kg단위_135.0</th>\n",
              "      <th>체중5Kg단위_140.0</th>\n",
              "      <th>체중5Kg단위_145.0</th>\n",
              "      <th>체중5Kg단위_150.0</th>\n",
              "      <th>체중5Kg단위_155.0</th>\n",
              "      <th>체중5Kg단위_160.0</th>\n",
              "      <th>체중5Kg단위_165.0</th>\n",
              "      <th>체중5Kg단위_170.0</th>\n",
              "      <th>체중5Kg단위_180.0</th>\n",
              "      <th>흡연상태_1.0</th>\n",
              "      <th>흡연상태_2.0</th>\n",
              "      <th>흡연상태_3.0</th>\n",
              "      <th>연령대코드5세단위_5</th>\n",
              "      <th>연령대코드5세단위_6</th>\n",
              "      <th>연령대코드5세단위_7</th>\n",
              "      <th>연령대코드5세단위_8</th>\n",
              "      <th>연령대코드5세단위_9</th>\n",
              "      <th>연령대코드5세단위_10</th>\n",
              "      <th>연령대코드5세단위_11</th>\n",
              "      <th>연령대코드5세단위_12</th>\n",
              "      <th>연령대코드5세단위_13</th>\n",
              "      <th>연령대코드5세단위_14</th>\n",
              "      <th>연령대코드5세단위_15</th>\n",
              "      <th>연령대코드5세단위_16</th>\n",
              "      <th>연령대코드5세단위_17</th>\n",
              "      <th>연령대코드5세단위_18</th>\n",
              "      <th>성별코드_1</th>\n",
              "      <th>성별코드_2</th>\n",
              "    </tr>\n",
              "  </thead>\n",
              "  <tbody>\n",
              "    <tr>\n",
              "      <th>0</th>\n",
              "      <td>1</td>\n",
              "      <td>0.478886</td>\n",
              "      <td>0.592667</td>\n",
              "      <td>0.572095</td>\n",
              "      <td>0.493545</td>\n",
              "      <td>0.302229</td>\n",
              "      <td>0.302229</td>\n",
              "      <td>0.445084</td>\n",
              "      <td>0.0</td>\n",
              "      <td>0.493420</td>\n",
              "      <td>0.527673</td>\n",
              "      <td>0.435003</td>\n",
              "      <td>0.577664</td>\n",
              "      <td>0.797576</td>\n",
              "      <td>0.380913</td>\n",
              "      <td>0.300052</td>\n",
              "      <td>0.132562</td>\n",
              "      <td>0.00228571</td>\n",
              "      <td>1</td>\n",
              "      <td>0</td>\n",
              "      <td>1</td>\n",
              "      <td>0</td>\n",
              "      <td>0</td>\n",
              "      <td>0</td>\n",
              "      <td>0</td>\n",
              "      <td>0</td>\n",
              "      <td>0</td>\n",
              "      <td>0</td>\n",
              "      <td>0</td>\n",
              "      <td>0</td>\n",
              "      <td>0</td>\n",
              "      <td>0</td>\n",
              "      <td>0</td>\n",
              "      <td>0</td>\n",
              "      <td>0</td>\n",
              "      <td>0</td>\n",
              "      <td>0</td>\n",
              "      <td>1</td>\n",
              "      <td>0</td>\n",
              "      <td>0</td>\n",
              "      <td>...</td>\n",
              "      <td>0</td>\n",
              "      <td>0</td>\n",
              "      <td>0</td>\n",
              "      <td>0</td>\n",
              "      <td>0</td>\n",
              "      <td>0</td>\n",
              "      <td>0</td>\n",
              "      <td>0</td>\n",
              "      <td>0</td>\n",
              "      <td>0</td>\n",
              "      <td>0</td>\n",
              "      <td>0</td>\n",
              "      <td>0</td>\n",
              "      <td>0</td>\n",
              "      <td>0</td>\n",
              "      <td>0</td>\n",
              "      <td>0</td>\n",
              "      <td>0</td>\n",
              "      <td>0</td>\n",
              "      <td>0</td>\n",
              "      <td>0</td>\n",
              "      <td>0</td>\n",
              "      <td>1</td>\n",
              "      <td>0</td>\n",
              "      <td>0</td>\n",
              "      <td>0</td>\n",
              "      <td>0</td>\n",
              "      <td>0</td>\n",
              "      <td>0</td>\n",
              "      <td>0</td>\n",
              "      <td>0</td>\n",
              "      <td>1</td>\n",
              "      <td>0</td>\n",
              "      <td>0</td>\n",
              "      <td>0</td>\n",
              "      <td>0</td>\n",
              "      <td>0</td>\n",
              "      <td>0</td>\n",
              "      <td>1</td>\n",
              "      <td>0</td>\n",
              "    </tr>\n",
              "    <tr>\n",
              "      <th>1</th>\n",
              "      <td>0</td>\n",
              "      <td>0.513490</td>\n",
              "      <td>0.609065</td>\n",
              "      <td>0.406418</td>\n",
              "      <td>0.436185</td>\n",
              "      <td>0.357967</td>\n",
              "      <td>0.357967</td>\n",
              "      <td>0.420324</td>\n",
              "      <td>0.0</td>\n",
              "      <td>0.493420</td>\n",
              "      <td>0.554969</td>\n",
              "      <td>0.456368</td>\n",
              "      <td>0.587393</td>\n",
              "      <td>0.702567</td>\n",
              "      <td>0.348503</td>\n",
              "      <td>0.327305</td>\n",
              "      <td>0.109200</td>\n",
              "      <td>0.00228571</td>\n",
              "      <td>1</td>\n",
              "      <td>0</td>\n",
              "      <td>1</td>\n",
              "      <td>0</td>\n",
              "      <td>0</td>\n",
              "      <td>0</td>\n",
              "      <td>0</td>\n",
              "      <td>0</td>\n",
              "      <td>0</td>\n",
              "      <td>0</td>\n",
              "      <td>1</td>\n",
              "      <td>0</td>\n",
              "      <td>0</td>\n",
              "      <td>0</td>\n",
              "      <td>0</td>\n",
              "      <td>0</td>\n",
              "      <td>0</td>\n",
              "      <td>0</td>\n",
              "      <td>0</td>\n",
              "      <td>0</td>\n",
              "      <td>0</td>\n",
              "      <td>0</td>\n",
              "      <td>...</td>\n",
              "      <td>0</td>\n",
              "      <td>0</td>\n",
              "      <td>0</td>\n",
              "      <td>0</td>\n",
              "      <td>0</td>\n",
              "      <td>0</td>\n",
              "      <td>0</td>\n",
              "      <td>0</td>\n",
              "      <td>0</td>\n",
              "      <td>0</td>\n",
              "      <td>0</td>\n",
              "      <td>0</td>\n",
              "      <td>0</td>\n",
              "      <td>0</td>\n",
              "      <td>0</td>\n",
              "      <td>0</td>\n",
              "      <td>0</td>\n",
              "      <td>0</td>\n",
              "      <td>0</td>\n",
              "      <td>0</td>\n",
              "      <td>0</td>\n",
              "      <td>0</td>\n",
              "      <td>0</td>\n",
              "      <td>1</td>\n",
              "      <td>0</td>\n",
              "      <td>0</td>\n",
              "      <td>0</td>\n",
              "      <td>0</td>\n",
              "      <td>0</td>\n",
              "      <td>1</td>\n",
              "      <td>0</td>\n",
              "      <td>0</td>\n",
              "      <td>0</td>\n",
              "      <td>0</td>\n",
              "      <td>0</td>\n",
              "      <td>0</td>\n",
              "      <td>0</td>\n",
              "      <td>0</td>\n",
              "      <td>1</td>\n",
              "      <td>0</td>\n",
              "    </tr>\n",
              "    <tr>\n",
              "      <th>2</th>\n",
              "      <td>0</td>\n",
              "      <td>0.522553</td>\n",
              "      <td>0.555914</td>\n",
              "      <td>0.597555</td>\n",
              "      <td>0.556605</td>\n",
              "      <td>0.260671</td>\n",
              "      <td>0.357967</td>\n",
              "      <td>0.450945</td>\n",
              "      <td>0.0</td>\n",
              "      <td>0.525113</td>\n",
              "      <td>0.554969</td>\n",
              "      <td>0.609229</td>\n",
              "      <td>0.579654</td>\n",
              "      <td>0.794566</td>\n",
              "      <td>0.380913</td>\n",
              "      <td>0.336762</td>\n",
              "      <td>0.132562</td>\n",
              "      <td>0.00276817</td>\n",
              "      <td>1</td>\n",
              "      <td>0</td>\n",
              "      <td>1</td>\n",
              "      <td>0</td>\n",
              "      <td>0</td>\n",
              "      <td>0</td>\n",
              "      <td>0</td>\n",
              "      <td>0</td>\n",
              "      <td>0</td>\n",
              "      <td>0</td>\n",
              "      <td>0</td>\n",
              "      <td>0</td>\n",
              "      <td>0</td>\n",
              "      <td>0</td>\n",
              "      <td>0</td>\n",
              "      <td>0</td>\n",
              "      <td>0</td>\n",
              "      <td>1</td>\n",
              "      <td>0</td>\n",
              "      <td>0</td>\n",
              "      <td>0</td>\n",
              "      <td>0</td>\n",
              "      <td>...</td>\n",
              "      <td>0</td>\n",
              "      <td>1</td>\n",
              "      <td>0</td>\n",
              "      <td>0</td>\n",
              "      <td>0</td>\n",
              "      <td>0</td>\n",
              "      <td>0</td>\n",
              "      <td>0</td>\n",
              "      <td>0</td>\n",
              "      <td>0</td>\n",
              "      <td>0</td>\n",
              "      <td>0</td>\n",
              "      <td>0</td>\n",
              "      <td>0</td>\n",
              "      <td>0</td>\n",
              "      <td>0</td>\n",
              "      <td>0</td>\n",
              "      <td>0</td>\n",
              "      <td>0</td>\n",
              "      <td>0</td>\n",
              "      <td>0</td>\n",
              "      <td>0</td>\n",
              "      <td>0</td>\n",
              "      <td>1</td>\n",
              "      <td>0</td>\n",
              "      <td>0</td>\n",
              "      <td>1</td>\n",
              "      <td>0</td>\n",
              "      <td>0</td>\n",
              "      <td>0</td>\n",
              "      <td>0</td>\n",
              "      <td>0</td>\n",
              "      <td>0</td>\n",
              "      <td>0</td>\n",
              "      <td>0</td>\n",
              "      <td>0</td>\n",
              "      <td>0</td>\n",
              "      <td>0</td>\n",
              "      <td>1</td>\n",
              "      <td>0</td>\n",
              "    </tr>\n",
              "    <tr>\n",
              "      <th>3</th>\n",
              "      <td>1</td>\n",
              "      <td>0.486438</td>\n",
              "      <td>0.616121</td>\n",
              "      <td>0.632675</td>\n",
              "      <td>0.515214</td>\n",
              "      <td>0.105152</td>\n",
              "      <td>0.163375</td>\n",
              "      <td>0.526645</td>\n",
              "      <td>0.0</td>\n",
              "      <td>0.525113</td>\n",
              "      <td>0.574769</td>\n",
              "      <td>0.565979</td>\n",
              "      <td>0.591135</td>\n",
              "      <td>0.750544</td>\n",
              "      <td>0.310549</td>\n",
              "      <td>0.311660</td>\n",
              "      <td>0.132562</td>\n",
              "      <td>0.00276817</td>\n",
              "      <td>1</td>\n",
              "      <td>0</td>\n",
              "      <td>1</td>\n",
              "      <td>0</td>\n",
              "      <td>0</td>\n",
              "      <td>0</td>\n",
              "      <td>0</td>\n",
              "      <td>0</td>\n",
              "      <td>0</td>\n",
              "      <td>0</td>\n",
              "      <td>0</td>\n",
              "      <td>0</td>\n",
              "      <td>1</td>\n",
              "      <td>0</td>\n",
              "      <td>0</td>\n",
              "      <td>0</td>\n",
              "      <td>0</td>\n",
              "      <td>0</td>\n",
              "      <td>0</td>\n",
              "      <td>0</td>\n",
              "      <td>0</td>\n",
              "      <td>0</td>\n",
              "      <td>...</td>\n",
              "      <td>0</td>\n",
              "      <td>1</td>\n",
              "      <td>0</td>\n",
              "      <td>0</td>\n",
              "      <td>0</td>\n",
              "      <td>0</td>\n",
              "      <td>0</td>\n",
              "      <td>0</td>\n",
              "      <td>0</td>\n",
              "      <td>0</td>\n",
              "      <td>0</td>\n",
              "      <td>0</td>\n",
              "      <td>0</td>\n",
              "      <td>0</td>\n",
              "      <td>0</td>\n",
              "      <td>0</td>\n",
              "      <td>0</td>\n",
              "      <td>0</td>\n",
              "      <td>0</td>\n",
              "      <td>0</td>\n",
              "      <td>0</td>\n",
              "      <td>1</td>\n",
              "      <td>0</td>\n",
              "      <td>0</td>\n",
              "      <td>0</td>\n",
              "      <td>0</td>\n",
              "      <td>1</td>\n",
              "      <td>0</td>\n",
              "      <td>0</td>\n",
              "      <td>0</td>\n",
              "      <td>0</td>\n",
              "      <td>0</td>\n",
              "      <td>0</td>\n",
              "      <td>0</td>\n",
              "      <td>0</td>\n",
              "      <td>0</td>\n",
              "      <td>0</td>\n",
              "      <td>0</td>\n",
              "      <td>1</td>\n",
              "      <td>0</td>\n",
              "    </tr>\n",
              "    <tr>\n",
              "      <th>4</th>\n",
              "      <td>0</td>\n",
              "      <td>0.500540</td>\n",
              "      <td>0.631054</td>\n",
              "      <td>0.555142</td>\n",
              "      <td>0.424115</td>\n",
              "      <td>0.437464</td>\n",
              "      <td>0.357967</td>\n",
              "      <td>0.442107</td>\n",
              "      <td>0.0</td>\n",
              "      <td>0.357826</td>\n",
              "      <td>0.575584</td>\n",
              "      <td>0.491992</td>\n",
              "      <td>0.567353</td>\n",
              "      <td>0.720201</td>\n",
              "      <td>0.384053</td>\n",
              "      <td>0.349750</td>\n",
              "      <td>0.132562</td>\n",
              "      <td>0.00238751</td>\n",
              "      <td>1</td>\n",
              "      <td>0</td>\n",
              "      <td>1</td>\n",
              "      <td>0</td>\n",
              "      <td>0</td>\n",
              "      <td>1</td>\n",
              "      <td>0</td>\n",
              "      <td>0</td>\n",
              "      <td>0</td>\n",
              "      <td>0</td>\n",
              "      <td>0</td>\n",
              "      <td>0</td>\n",
              "      <td>0</td>\n",
              "      <td>0</td>\n",
              "      <td>0</td>\n",
              "      <td>0</td>\n",
              "      <td>0</td>\n",
              "      <td>0</td>\n",
              "      <td>0</td>\n",
              "      <td>0</td>\n",
              "      <td>0</td>\n",
              "      <td>0</td>\n",
              "      <td>...</td>\n",
              "      <td>0</td>\n",
              "      <td>0</td>\n",
              "      <td>0</td>\n",
              "      <td>0</td>\n",
              "      <td>0</td>\n",
              "      <td>0</td>\n",
              "      <td>0</td>\n",
              "      <td>0</td>\n",
              "      <td>0</td>\n",
              "      <td>0</td>\n",
              "      <td>0</td>\n",
              "      <td>0</td>\n",
              "      <td>0</td>\n",
              "      <td>0</td>\n",
              "      <td>0</td>\n",
              "      <td>0</td>\n",
              "      <td>0</td>\n",
              "      <td>0</td>\n",
              "      <td>0</td>\n",
              "      <td>0</td>\n",
              "      <td>0</td>\n",
              "      <td>1</td>\n",
              "      <td>0</td>\n",
              "      <td>0</td>\n",
              "      <td>0</td>\n",
              "      <td>0</td>\n",
              "      <td>0</td>\n",
              "      <td>0</td>\n",
              "      <td>1</td>\n",
              "      <td>0</td>\n",
              "      <td>0</td>\n",
              "      <td>0</td>\n",
              "      <td>0</td>\n",
              "      <td>0</td>\n",
              "      <td>0</td>\n",
              "      <td>0</td>\n",
              "      <td>0</td>\n",
              "      <td>0</td>\n",
              "      <td>1</td>\n",
              "      <td>0</td>\n",
              "    </tr>\n",
              "  </tbody>\n",
              "</table>\n",
              "<p>5 rows × 113 columns</p>\n",
              "</div>"
            ],
            "text/plain": [
              "  치석  HDL콜레스테롤_LN  LDL콜레스테롤_LN  ...  연령대코드5세단위_18  성별코드_1  성별코드_2\n",
              "0  1     0.478886     0.592667  ...             0       1       0\n",
              "1  0     0.513490     0.609065  ...             0       1       0\n",
              "2  0     0.522553     0.555914  ...             0       1       0\n",
              "3  1     0.486438     0.616121  ...             0       1       0\n",
              "4  0     0.500540     0.631054  ...             0       1       0\n",
              "\n",
              "[5 rows x 113 columns]"
            ]
          },
          "metadata": {
            "tags": []
          },
          "execution_count": 91
        }
      ]
    },
    {
      "cell_type": "code",
      "metadata": {
        "id": "LhLUKAxe4kE6",
        "colab_type": "code",
        "colab": {}
      },
      "source": [
        "# from pprint import pprint as pp\n",
        "\n",
        "# corr_oh_dict = {}\n",
        "\n",
        "# for i in df_onehot.columns:\n",
        "#     corr_oh_dict[i] = df_onehot['치석'].corr(df_onehot[i])\n",
        "\n",
        "# pp(corr_oh_dict)"
      ],
      "execution_count": 0,
      "outputs": []
    },
    {
      "cell_type": "code",
      "metadata": {
        "id": "Su5Fq9xy4kE9",
        "colab_type": "code",
        "colab": {}
      },
      "source": [
        "df_x = df_onehot[df_onehot.columns.difference(['치석'])]\n",
        "df_y = df_onehot['치석'].astype('float64')"
      ],
      "execution_count": 0,
      "outputs": []
    },
    {
      "cell_type": "code",
      "metadata": {
        "id": "p6msPPJG4kE_",
        "colab_type": "code",
        "outputId": "fc181aa6-cb35-4080-e484-cf7fec7e8771",
        "colab": {
          "base_uri": "https://localhost:8080/",
          "height": 323
        }
      },
      "source": [
        "np_x = df_x.values\n",
        "np_y = df_y.values\n",
        "\n",
        "print(np_x[:2])\n",
        "print(np_y[:2])"
      ],
      "execution_count": 108,
      "outputs": [
        {
          "output_type": "stream",
          "text": [
            "[[0.002285714285714286 0.4788861900229969 0.5926671692526801\n",
            "  0.5720952963055016 1 0 0.49354492432158104 0 0 0 0 0 0 0 0 0 0 0 0 0 0\n",
            "  0 1 0 0 0.30222869123595364 0.30222869123595364 0.445084456171858 0 0 0\n",
            "  0 0 0 0 0 0 0 0 0 0 0 1 0 0 0 0 0 0 0 0 0 1 0 0 0 0 0 0 0 0 0 0 0 0.0\n",
            "  0.49342003899216813 1 0 1 0 0 0 0 0 0 0 0 0 0 0 0 0 0 0 0 0 0 0 0 0 0 0\n",
            "  0 0 0 0 1 0 0 0 0 0 0.5276734915044308 0.4350028807631936\n",
            "  0.5776643840891227 0.797575787976358 0.3809129152194514\n",
            "  0.3000516896908335 0.13256220812528252 0 1 0]\n",
            " [0.002285714285714286 0.5134901357028642 0.6090654884973665\n",
            "  0.4064180080719016 1 0 0.43618461941664766 0 0 0 0 0 0 1 0 0 0 0 0 0 0\n",
            "  0 0 0 0 0.3579670880025704 0.3579670880025704 0.4203235344147743 0 0 0\n",
            "  0 0 0 0 0 0 0 0 0 0 0 1 0 0 0 0 0 0 0 1 0 0 0 0 0 0 0 0 0 0 0 0 0 0.0\n",
            "  0.49342003899216813 1 0 1 0 0 0 0 0 0 0 0 0 0 0 0 0 0 0 0 0 0 0 0 0 0 0\n",
            "  0 0 0 0 1 0 0 0 0 0 0.5549686618186539 0.45636847809177816\n",
            "  0.5873925333802607 0.7025672200084535 0.3485028928920017\n",
            "  0.32730521695042425 0.10919994953779655 0 0 1]]\n",
            "[1. 0.]\n"
          ],
          "name": "stdout"
        }
      ]
    },
    {
      "cell_type": "code",
      "metadata": {
        "id": "n5XgxjU74kFA",
        "colab_type": "code",
        "colab": {}
      },
      "source": [
        "from sklearn.model_selection import train_test_split\n",
        "x_train, x_test, y_train, y_test = train_test_split(np_x, np_y, test_size = 0.3, random_state = 42)"
      ],
      "execution_count": 0,
      "outputs": []
    },
    {
      "cell_type": "code",
      "metadata": {
        "id": "cTiql8rA4kFC",
        "colab_type": "code",
        "colab": {}
      },
      "source": [
        "# from sklearn.preprocessing import MinMaxScaler\n",
        "# from sklearn.pipeline import Pipeline\n",
        "# from sklearn.compose import ColumnTransformer\n",
        "\n",
        "# num_pipeline = Pipeline([\n",
        "#         ('mixmax_scaler', MinMaxScaler()),\n",
        "#     ])"
      ],
      "execution_count": 0,
      "outputs": []
    },
    {
      "cell_type": "code",
      "metadata": {
        "id": "9LFY2z3O4kFE",
        "colab_type": "code",
        "colab": {}
      },
      "source": [
        "# x_train = num_pipeline.fit_transform(x_train)\n",
        "# x_test = num_pipeline.fit_transform(x_test)"
      ],
      "execution_count": 0,
      "outputs": []
    },
    {
      "cell_type": "code",
      "metadata": {
        "id": "L1y54izU4kFH",
        "colab_type": "code",
        "outputId": "d42361e8-a6db-4d48-ea26-f49ac5b92eee",
        "colab": {
          "base_uri": "https://localhost:8080/",
          "height": 377
        }
      },
      "source": [
        "display(x_train[:2])"
      ],
      "execution_count": 111,
      "outputs": [
        {
          "output_type": "display_data",
          "data": {
            "text/plain": [
              "array([[0.0020761245674740486, 0.5005401427199455, 0.5660213393569773,\n",
              "        0.43575558719297985, 1, 0, 0.442140718431169, 0, 0, 0, 0, 1, 0,\n",
              "        0, 0, 0, 0, 0, 0, 0, 0, 0, 0, 0, 0, 0.30222869123595364,\n",
              "        0.26067118121267896, 0.42672328428391915, 0, 0, 0, 0, 0, 0, 0, 0,\n",
              "        0, 0, 0, 0, 0, 1, 0, 0, 0, 0, 0, 0, 0, 0, 0, 0, 0, 0, 0, 0, 0, 0,\n",
              "        0, 0, 0, 0, 0, 1, 0.0, 0.45140397180909986, 1, 0, 1, 0, 0, 0, 0,\n",
              "        0, 0, 0, 0, 0, 0, 0, 0, 0, 0, 0, 0, 0, 0, 0, 0, 0, 0, 0, 0, 0, 1,\n",
              "        0, 0, 0, 0, 0, 0, 0, 0.5077827128540986, 0.4054397256397798,\n",
              "        0.544670288482977, 0.7761419023422275, 0.2793811805325474,\n",
              "        0.28728035055275336, 0.13256220812528252, 0, 0, 1],\n",
              "       [0.0022892819979188346, 0.6104381289093194, 0.5780509111695489,\n",
              "        0.48602017026805105, 1, 0, 0.5257973216597089, 0, 0, 0, 0, 0, 0,\n",
              "        0, 0, 1, 0, 0, 0, 0, 0, 0, 0, 0, 0, 0.26067118121267896,\n",
              "        0.30222869123595364, 0.49385722012683664, 0, 0, 0, 0, 0, 0, 0, 0,\n",
              "        0, 0, 1, 0, 0, 0, 0, 0, 0, 0, 0, 0, 0, 0, 0, 0, 1, 0, 0, 0, 0, 0,\n",
              "        0, 0, 0, 0, 0, 0, 0.0, 0.5251131068463311, 1, 0, 1, 0, 0, 0, 0,\n",
              "        0, 0, 0, 0, 0, 0, 0, 0, 0, 0, 0, 0, 0, 0, 0, 0, 0, 0, 0, 0, 1, 0,\n",
              "        0, 0, 0, 0, 0, 0, 0, 0.5612175278513908, 0.35579849467287794,\n",
              "        0.5517944402265059, 0.77925703939183, 0.2561986564068706,\n",
              "        0.3116603156137481, 0.13256220812528252, 1, 0, 0]], dtype=object)"
            ]
          },
          "metadata": {
            "tags": []
          }
        }
      ]
    },
    {
      "cell_type": "code",
      "metadata": {
        "id": "zKjGKTPv4kFJ",
        "colab_type": "code",
        "outputId": "d75ac244-6eb4-46ef-a4a2-2198acf45f58",
        "colab": {
          "base_uri": "https://localhost:8080/",
          "height": 89
        }
      },
      "source": [
        "# display(x_train.head())\n",
        "# display(x_test.head())\n",
        "# display(y_train.head())\n",
        "# display(y_test.head())\n",
        "display(x_train.shape)\n",
        "display(y_train.shape)\n",
        "display(x_test.shape)\n",
        "display(y_test.shape)"
      ],
      "execution_count": 112,
      "outputs": [
        {
          "output_type": "display_data",
          "data": {
            "text/plain": [
              "(526016, 112)"
            ]
          },
          "metadata": {
            "tags": []
          }
        },
        {
          "output_type": "display_data",
          "data": {
            "text/plain": [
              "(526016,)"
            ]
          },
          "metadata": {
            "tags": []
          }
        },
        {
          "output_type": "display_data",
          "data": {
            "text/plain": [
              "(225436, 112)"
            ]
          },
          "metadata": {
            "tags": []
          }
        },
        {
          "output_type": "display_data",
          "data": {
            "text/plain": [
              "(225436,)"
            ]
          },
          "metadata": {
            "tags": []
          }
        }
      ]
    },
    {
      "cell_type": "code",
      "metadata": {
        "id": "IceMwYml4kFL",
        "colab_type": "code",
        "outputId": "882cd3eb-e1a2-40cd-eef2-bf362e3a2035",
        "colab": {
          "base_uri": "https://localhost:8080/",
          "height": 35
        }
      },
      "source": [
        "print(len(x_train), len(x_test), len(y_train), len(y_test))"
      ],
      "execution_count": 113,
      "outputs": [
        {
          "output_type": "stream",
          "text": [
            "526016 225436 526016 225436\n"
          ],
          "name": "stdout"
        }
      ]
    },
    {
      "cell_type": "code",
      "metadata": {
        "id": "eQJpDQVc4kFM",
        "colab_type": "code",
        "colab": {}
      },
      "source": [
        "from sklearn import tree, linear_model, naive_bayes, ensemble\n",
        "\n",
        "# evaluation package\n",
        "from sklearn.model_selection import cross_validate\n",
        "from sklearn.metrics import classification_report, confusion_matrix, accuracy_score, roc_auc_score, roc_curve, auc"
      ],
      "execution_count": 0,
      "outputs": []
    },
    {
      "cell_type": "code",
      "metadata": {
        "id": "DVZ9P9Xm4kFO",
        "colab_type": "code",
        "outputId": "bd67e4d2-329c-463d-8158-b989d205d43e",
        "colab": {
          "base_uri": "https://localhost:8080/",
          "height": 107
        }
      },
      "source": [
        "model_lr = linear_model.LogisticRegression()\n",
        "model_lr.fit(x_train, y_train)"
      ],
      "execution_count": 115,
      "outputs": [
        {
          "output_type": "execute_result",
          "data": {
            "text/plain": [
              "LogisticRegression(C=1.0, class_weight=None, dual=False, fit_intercept=True,\n",
              "                   intercept_scaling=1, l1_ratio=None, max_iter=100,\n",
              "                   multi_class='warn', n_jobs=None, penalty='l2',\n",
              "                   random_state=None, solver='warn', tol=0.0001, verbose=0,\n",
              "                   warm_start=False)"
            ]
          },
          "metadata": {
            "tags": []
          },
          "execution_count": 115
        }
      ]
    },
    {
      "cell_type": "code",
      "metadata": {
        "id": "FLsPRWIk4kFQ",
        "colab_type": "code",
        "outputId": "977b4d7d-d960-4af0-e85f-0bb1b4ee33f1",
        "colab": {
          "base_uri": "https://localhost:8080/",
          "height": 287
        }
      },
      "source": [
        "y_pred_lr = model_lr.predict(x_test)\n",
        "print(\"Accuracy: {:.5f}\".format(accuracy_score(y_test, y_pred_lr)))\n",
        "print(\"Confusion Matrix: \\n\", confusion_matrix(y_test, y_pred_lr))\n",
        "print(\"Classification Report Matrix: \\n\", classification_report(y_test, y_pred_lr))\n",
        "\n",
        "roc_auc_lr = roc_auc_score(y_test, y_pred_lr)\n",
        "print(roc_auc_lr)"
      ],
      "execution_count": 116,
      "outputs": [
        {
          "output_type": "stream",
          "text": [
            "Accuracy: 0.57277\n",
            "Confusion Matrix: \n",
            " [[46420 60607]\n",
            " [35706 82703]]\n",
            "Classification Report Matrix: \n",
            "               precision    recall  f1-score   support\n",
            "\n",
            "         0.0       0.57      0.43      0.49    107027\n",
            "         1.0       0.58      0.70      0.63    118409\n",
            "\n",
            "    accuracy                           0.57    225436\n",
            "   macro avg       0.57      0.57      0.56    225436\n",
            "weighted avg       0.57      0.57      0.56    225436\n",
            "\n",
            "0.566087153763466\n"
          ],
          "name": "stdout"
        }
      ]
    },
    {
      "cell_type": "code",
      "metadata": {
        "id": "TzDwGIMx4kFR",
        "colab_type": "code",
        "outputId": "172edf5a-b836-4139-cfbb-bbefd2738592",
        "colab": {
          "base_uri": "https://localhost:8080/",
          "height": 295
        }
      },
      "source": [
        "fpr, tpr, threshold = roc_curve(y_test, y_pred_lr)\n",
        "roc_auc = auc(fpr, tpr)\n",
        "\n",
        "plt.title('Receiver Operating Characteristic')\n",
        "plt.plot(fpr, tpr, 'b', label = 'AUC = %0.2f' % roc_auc)\n",
        "plt.legend(loc = 'lower right')\n",
        "plt.plot([0, 1], [0, 1],'r--')\n",
        "plt.xlim([0, 1])\n",
        "plt.ylim([0, 1])\n",
        "plt.ylabel('True Positive Rate')\n",
        "plt.xlabel('False Positive Rate')\n",
        "plt.show()"
      ],
      "execution_count": 117,
      "outputs": [
        {
          "output_type": "display_data",
          "data": {
            "image/png": "[encoded data removed]",
            "text/plain": [
              "<Figure size 432x288 with 1 Axes>"
            ]
          },
          "metadata": {
            "tags": []
          }
        }
      ]
    },
    {
      "cell_type": "code",
      "metadata": {
        "id": "1e6jTF8a4kFT",
        "colab_type": "code",
        "outputId": "4d2d6fcd-adab-473f-e530-dc6c59f1f836",
        "colab": {
          "base_uri": "https://localhost:8080/",
          "height": 143
        }
      },
      "source": [
        "model_rf = ensemble.RandomForestClassifier()\n",
        "model_rf.fit(x_train, y_train)"
      ],
      "execution_count": 118,
      "outputs": [
        {
          "output_type": "execute_result",
          "data": {
            "text/plain": [
              "RandomForestClassifier(bootstrap=True, class_weight=None, criterion='gini',\n",
              "                       max_depth=None, max_features='auto', max_leaf_nodes=None,\n",
              "                       min_impurity_decrease=0.0, min_impurity_split=None,\n",
              "                       min_samples_leaf=1, min_samples_split=2,\n",
              "                       min_weight_fraction_leaf=0.0, n_estimators=10,\n",
              "                       n_jobs=None, oob_score=False, random_state=None,\n",
              "                       verbose=0, warm_start=False)"
            ]
          },
          "metadata": {
            "tags": []
          },
          "execution_count": 118
        }
      ]
    },
    {
      "cell_type": "code",
      "metadata": {
        "id": "enzaIEcP4kFU",
        "colab_type": "code",
        "outputId": "30c68d0a-bf59-4dcb-fc2c-49262cbd65d5",
        "colab": {
          "base_uri": "https://localhost:8080/",
          "height": 269
        }
      },
      "source": [
        "y_pred_rf = model_rf.predict(x_test)\n",
        "print(\"Accuracy: {:.5f}\".format(accuracy_score(y_test, y_pred_rf)))\n",
        "print(\"Confusion Matrix: \\n\", confusion_matrix(y_test, y_pred_rf))\n",
        "print(\"Classification Report Matrix: \\n\", classification_report(y_test, y_pred_rf))"
      ],
      "execution_count": 119,
      "outputs": [
        {
          "output_type": "stream",
          "text": [
            "Accuracy: 0.53078\n",
            "Confusion Matrix: \n",
            " [[63584 43443]\n",
            " [62335 56074]]\n",
            "Classification Report Matrix: \n",
            "               precision    recall  f1-score   support\n",
            "\n",
            "         0.0       0.50      0.59      0.55    107027\n",
            "         1.0       0.56      0.47      0.51    118409\n",
            "\n",
            "    accuracy                           0.53    225436\n",
            "   macro avg       0.53      0.53      0.53    225436\n",
            "weighted avg       0.54      0.53      0.53    225436\n",
            "\n"
          ],
          "name": "stdout"
        }
      ]
    },
    {
      "cell_type": "code",
      "metadata": {
        "id": "AzOZ4oXO4kFW",
        "colab_type": "code",
        "outputId": "293baa62-e0c9-4ed1-9811-451bd2430bae",
        "colab": {
          "base_uri": "https://localhost:8080/",
          "height": 295
        }
      },
      "source": [
        "fpr, tpr, threshold = roc_curve(y_test, y_pred_rf)\n",
        "roc_auc = auc(fpr, tpr)\n",
        "\n",
        "plt.title('Receiver Operating Characteristic')\n",
        "plt.plot(fpr, tpr, 'b', label = 'AUC = %0.2f' % roc_auc)\n",
        "plt.legend(loc = 'lower right')\n",
        "plt.plot([0, 1], [0, 1],'r--')\n",
        "plt.xlim([0, 1])\n",
        "plt.ylim([0, 1])\n",
        "plt.ylabel('True Positive Rate')\n",
        "plt.xlabel('False Positive Rate')\n",
        "plt.show()"
      ],
      "execution_count": 120,
      "outputs": [
        {
          "output_type": "display_data",
          "data": {
            "image/png": "[encoded data removed]",
            "text/plain": [
              "<Figure size 432x288 with 1 Axes>"
            ]
          },
          "metadata": {
            "tags": []
          }
        }
      ]
    },
    {
      "cell_type": "code",
      "metadata": {
        "id": "MgpyJ8KUz1LL",
        "colab_type": "code",
        "outputId": "6e219e15-9c9c-46a0-ec46-d1617275628b",
        "colab": {
          "base_uri": "https://localhost:8080/",
          "height": 73
        }
      },
      "source": [
        "important_features_dict = {}\n",
        "for x,i in enumerate(model_rf.feature_importances_):\n",
        "    important_features_dict[x]=i\n",
        "\n",
        "\n",
        "important_features_list = sorted(important_features_dict,\n",
        "                                 key=important_features_dict.get,\n",
        "                                 reverse=True)\n",
        "\n",
        "print(sorted(model_rf.feature_importances_, reverse=True))\n",
        "print('Most important features: %s'%important_features_list)"
      ],
      "execution_count": 121,
      "outputs": [
        {
          "output_type": "stream",
          "text": [
            "[0.06044151471345145, 0.058150467203992376, 0.05777050034729085, 0.05518892836656124, 0.055138391375728624, 0.05451808825082113, 0.052892487794104256, 0.05281392719650503, 0.05168939324821022, 0.050471780711877336, 0.049971671591425876, 0.048701996190877464, 0.03795538802361885, 0.03517436890025556, 0.034604344124652485, 0.0325499324044367, 0.0068695920342801255, 0.006789938270902678, 0.006178003711423126, 0.006006974318469967, 0.005892714824540049, 0.005742217281462466, 0.005592612485605941, 0.005571915868730823, 0.00549742170314719, 0.005376955341452271, 0.005354543559521095, 0.005163437019736173, 0.005093875231364661, 0.004881267368008267, 0.0048739538089612715, 0.00483605882943445, 0.004777397990387077, 0.004745016172096475, 0.0046903137576178805, 0.004405155872286409, 0.0041564099154422305, 0.0040682352734415185, 0.0039071333137513636, 0.00390583955579109, 0.0038350704008639006, 0.0037614925023572005, 0.0037304241486587793, 0.00370407969454871, 0.003654618451652046, 0.00343318091303521, 0.0032252746026462083, 0.003158914859686105, 0.0031454041615859435, 0.003055426633175265, 0.0029762946592491167, 0.002796620428097615, 0.0025885198717394446, 0.002483008626512161, 0.0024191357045061377, 0.0023604259602296807, 0.0023127967340398283, 0.0023091437612653585, 0.0023007010569389436, 0.0023000096352497287, 0.0022918444830623743, 0.0022836058685551013, 0.0022186870137849285, 0.0022009821242569587, 0.001674709657266613, 0.001569115335680932, 0.001495979594326117, 0.001482789813305753, 0.0014322509287118478, 0.0013925294729245424, 0.0013667741469359164, 0.0010482823874187546, 0.0009538042461361224, 0.0008529704147297312, 0.0008473906052301836, 0.0008379681034915218, 0.0008194436668851161, 0.000753218503288809, 0.0005826491594194834, 0.0005382630912059411, 0.000247859846932225, 0.00019237889182589763, 0.0001889805190293273, 0.00017251391461089576, 0.0001540875959135127, 0.00011299989533601889, 0.00010382424237830466, 6.451368470903091e-05, 4.347142330682621e-05, 2.2823952101564806e-05, 2.052115582187604e-05, 1.855633364398671e-05, 1.2561413049225066e-05, 1.2447853307057566e-05, 9.822419212993427e-06, 4.661591406703795e-06, 3.445467098916502e-06, 2.9289635305493863e-06, 2.1177713640390492e-06, 1.6062252598314512e-06, 1.28843767896509e-06, 1.1114458891304723e-06, 7.42399612842114e-07, 4.079169678755293e-07, 2.3060746833630554e-07, 1.3065822590608732e-07, 0.0, 0.0, 0.0, 0.0, 0.0, 0.0]\n",
            "Most important features: [103, 102, 2, 1, 27, 105, 3, 6, 104, 106, 65, 107, 0, 26, 25, 108, 40, 39, 41, 94, 13, 95, 64, 50, 51, 96, 93, 7, 38, 111, 52, 62, 61, 15, 42, 97, 63, 109, 92, 60, 53, 10, 37, 110, 22, 98, 8, 18, 19, 9, 43, 17, 20, 5, 21, 4, 54, 16, 12, 11, 91, 99, 55, 59, 36, 69, 68, 100, 66, 67, 56, 44, 90, 14, 101, 57, 23, 24, 35, 70, 71, 89, 45, 72, 58, 73, 34, 74, 75, 76, 88, 33, 46, 77, 78, 79, 32, 80, 47, 81, 83, 84, 29, 48, 31, 30, 28, 49, 82, 85, 86, 87]\n"
          ],
          "name": "stdout"
        }
      ]
    },
    {
      "cell_type": "code",
      "metadata": {
        "id": "jFSZvp5z4kFX",
        "colab_type": "code",
        "outputId": "cab830ae-b2e8-4cba-cbba-5cbf2afb1d44",
        "colab": {
          "base_uri": "https://localhost:8080/",
          "height": 125
        }
      },
      "source": [
        "model_dt = tree.DecisionTreeClassifier()\n",
        "model_dt.fit(x_train, y_train)"
      ],
      "execution_count": 122,
      "outputs": [
        {
          "output_type": "execute_result",
          "data": {
            "text/plain": [
              "DecisionTreeClassifier(class_weight=None, criterion='gini', max_depth=None,\n",
              "                       max_features=None, max_leaf_nodes=None,\n",
              "                       min_impurity_decrease=0.0, min_impurity_split=None,\n",
              "                       min_samples_leaf=1, min_samples_split=2,\n",
              "                       min_weight_fraction_leaf=0.0, presort=False,\n",
              "                       random_state=None, splitter='best')"
            ]
          },
          "metadata": {
            "tags": []
          },
          "execution_count": 122
        }
      ]
    },
    {
      "cell_type": "code",
      "metadata": {
        "id": "WQHUDGMr4kFZ",
        "colab_type": "code",
        "outputId": "ac5db0b0-9dd7-46d9-858f-51c6f6396aa5",
        "colab": {
          "base_uri": "https://localhost:8080/",
          "height": 269
        }
      },
      "source": [
        "y_pred_dt = model_dt.predict(x_test)\n",
        "print(\"Accuracy: {:.5f}\".format(accuracy_score(y_test, y_pred_dt)))\n",
        "print(\"Confusion Matrix: \\n\", confusion_matrix(y_test, y_pred_dt))\n",
        "print(\"Classification Report Matrix: \\n\", classification_report(y_test, y_pred_dt))"
      ],
      "execution_count": 123,
      "outputs": [
        {
          "output_type": "stream",
          "text": [
            "Accuracy: 0.51757\n",
            "Confusion Matrix: \n",
            " [[53046 53981]\n",
            " [54777 63632]]\n",
            "Classification Report Matrix: \n",
            "               precision    recall  f1-score   support\n",
            "\n",
            "         0.0       0.49      0.50      0.49    107027\n",
            "         1.0       0.54      0.54      0.54    118409\n",
            "\n",
            "    accuracy                           0.52    225436\n",
            "   macro avg       0.52      0.52      0.52    225436\n",
            "weighted avg       0.52      0.52      0.52    225436\n",
            "\n"
          ],
          "name": "stdout"
        }
      ]
    },
    {
      "cell_type": "code",
      "metadata": {
        "id": "Z7Nr5_0l4kFa",
        "colab_type": "code",
        "colab": {}
      },
      "source": [
        "import keras\n",
        "# Deep Learning Model 로드\n",
        "from keras.models import Sequential\n",
        "from keras.layers import Dense, Dropout, Activation \n",
        "from keras.wrappers.scikit_learn import KerasClassifier"
      ],
      "execution_count": 0,
      "outputs": []
    },
    {
      "cell_type": "code",
      "metadata": {
        "id": "YC-iw7Mt4kFb",
        "colab_type": "code",
        "colab": {}
      },
      "source": [
        "# Deep Learning 평가를 위한 평가 함수 정의\n",
        "from keras import backend as K\n",
        "\n",
        "def recall(y_target, y_pred):\n",
        "    # clip(t, clip_value_min, clip_value_max) : clip_value_min~clip_value_max 이외 가장자리를 깎아 낸다\n",
        "    # round : 반올림한다\n",
        "    y_target_yn = K.round(K.clip(y_target, 0, 1)) # 실제값을 0(Negative) 또는 1(Positive)로 설정한다\n",
        "    y_pred_yn = K.round(K.clip(y_pred, 0, 1)) # 예측값을 0(Negative) 또는 1(Positive)로 설정한다\n",
        "\n",
        "    # True Positive는 실제 값과 예측 값이 모두 1(Positive)인 경우이다\n",
        "    count_true_positive = K.sum(y_target_yn * y_pred_yn) \n",
        "\n",
        "    # (True Positive + False Negative) = 실제 값이 1(Positive) 전체\n",
        "    count_true_positive_false_negative = K.sum(y_target_yn)\n",
        "\n",
        "    # Recall =  (True Positive) / (True Positive + False Negative)\n",
        "    # K.epsilon()는 'divide by zero error' 예방차원에서 작은 수를 더한다\n",
        "    recall = count_true_positive / (count_true_positive_false_negative + K.epsilon())\n",
        "\n",
        "    # return a single tensor value\n",
        "    return recall\n",
        "\n",
        "\n",
        "def precision(y_target, y_pred):\n",
        "    # clip(t, clip_value_min, clip_value_max) : clip_value_min~clip_value_max 이외 가장자리를 깎아 낸다\n",
        "    # round : 반올림한다\n",
        "    y_pred_yn = K.round(K.clip(y_pred, 0, 1)) # 예측값을 0(Negative) 또는 1(Positive)로 설정한다\n",
        "    y_target_yn = K.round(K.clip(y_target, 0, 1)) # 실제값을 0(Negative) 또는 1(Positive)로 설정한다\n",
        "\n",
        "    # True Positive는 실제 값과 예측 값이 모두 1(Positive)인 경우이다\n",
        "    count_true_positive = K.sum(y_target_yn * y_pred_yn) \n",
        "\n",
        "    # (True Positive + False Positive) = 예측 값이 1(Positive) 전체\n",
        "    count_true_positive_false_positive = K.sum(y_pred_yn)\n",
        "\n",
        "    # Precision = (True Positive) / (True Positive + False Positive)\n",
        "    # K.epsilon()는 'divide by zero error' 예방차원에서 작은 수를 더한다\n",
        "    precision = count_true_positive / (count_true_positive_false_positive + K.epsilon())\n",
        "\n",
        "    # return a single tensor value\n",
        "    return precision\n",
        "\n",
        "\n",
        "def f1score(y_target, y_pred):\n",
        "    _recall = recall(y_target, y_pred)\n",
        "    _precision = precision(y_target, y_pred)\n",
        "    # K.epsilon()는 'divide by zero error' 예방차원에서 작은 수를 더한다\n",
        "    _f1score = ( 2 * _recall * _precision) / (_recall + _precision+ K.epsilon())\n",
        "    \n",
        "    # return a single tensor value\n",
        "    return _f1score"
      ],
      "execution_count": 0,
      "outputs": []
    },
    {
      "cell_type": "code",
      "metadata": {
        "id": "yRY6GZa0qXyS",
        "colab_type": "code",
        "outputId": "2e5b1a49-774a-4cc0-c577-169844c01922",
        "colab": {
          "base_uri": "https://localhost:8080/",
          "height": 53
        }
      },
      "source": [
        "x_train.shape\n",
        "print(x_train.shape[0])\n",
        "print(x_train.shape[1])"
      ],
      "execution_count": 127,
      "outputs": [
        {
          "output_type": "stream",
          "text": [
            "526016\n",
            "112\n"
          ],
          "name": "stdout"
        }
      ]
    },
    {
      "cell_type": "code",
      "metadata": {
        "id": "sRj5tuEf4kFd",
        "colab_type": "code",
        "outputId": "634da973-8960-4187-8584-abe3a8add47b",
        "colab": {
          "base_uri": "https://localhost:8080/",
          "height": 377
        }
      },
      "source": [
        "lrelu = lambda x: tf.keras.activations.relu(x, alpha=0.1)\n",
        "activation = lrelu\n",
        "input_dim = x_train.shape[1]\n",
        "batch_size = 64\n",
        "epochs = 10\n",
        "\n",
        "ffn_model = Sequential()\n",
        "  \n",
        "# 첫 번째 Layer (Input layer)\n",
        "ffn_model.add(Dense(input_dim=input_dim, init='glorot_uniform', activation=activation, output_dim=128))\n",
        "# ffn_model.add(Dropout(0.3)) # 30% 정도를 Drop \n",
        "\n",
        "# 두 번째 Layer (Hidden layer 1)\n",
        "ffn_model.add(Dense(output_dim=128, init='glorot_uniform', activation=activation))\n",
        "# ffn_model.add(Dropout(0.3)) # 30% 정도를 Drop \n",
        "\n",
        "# 세 번째 Layer (Hidden layer 2)\n",
        "ffn_model.add(Dense(output_dim=256, init='glorot_uniform', activation=activation))\n",
        "# ffn_model.add(Dropout(0.3)) # 30% 정도를 Drop \n",
        "\n",
        "# 네 번째 Layer (Hidden layer 3)\n",
        "ffn_model.add(Dense(output_dim=512, init='glorot_uniform', activation=activation))\n",
        "# ffn_model.add(Dropout(0.3)) # 30% 정도를 Drop \n",
        "\n",
        "# 다섯 번째 Layer (Output layer)\n",
        "ffn_model.add(Dense(output_dim=1))\n",
        "ffn_model.add(Activation(\"sigmoid\"))\n",
        "\n",
        "# Cost function 및 Optimizer 설정 # binary class 분류이므로 binary_crossentropy 사용 # Adam optimizer 사용\n",
        "# ffn_model.compile(loss='binary_crossentropy', optimizer='adam', metrics=['accuracy', precision, recall, f1score])\n",
        "ffn_model.compile(loss='binary_crossentropy', optimizer='rmsprop', metrics=['accuracy', precision, recall, f1score])\n",
        "                      \n",
        "# model training\n",
        "hist = ffn_model.fit(x_train, y_train, epochs=epochs, batch_size=batch_size, verbose=1)"
      ],
      "execution_count": 132,
      "outputs": [
        {
          "output_type": "stream",
          "text": [
            "Epoch 1/10\n",
            "526016/526016 [==============================] - 68s 129us/step - loss: 0.6804 - acc: 0.5655 - precision: 0.5711 - recall: 0.6986 - f1score: 0.6215\n",
            "Epoch 2/10\n",
            "526016/526016 [==============================] - 68s 129us/step - loss: 0.6791 - acc: 0.5696 - precision: 0.5746 - recall: 0.6987 - f1score: 0.6245\n",
            "Epoch 3/10\n",
            "526016/526016 [==============================] - 66s 126us/step - loss: 0.6793 - acc: 0.5690 - precision: 0.5737 - recall: 0.7019 - f1score: 0.6249\n",
            "Epoch 4/10\n",
            "526016/526016 [==============================] - 68s 130us/step - loss: 0.6794 - acc: 0.5701 - precision: 0.5741 - recall: 0.7083 - f1score: 0.6277\n",
            "Epoch 5/10\n",
            "526016/526016 [==============================] - 67s 128us/step - loss: 0.6797 - acc: 0.5686 - precision: 0.5730 - recall: 0.7080 - f1score: 0.6268\n",
            "Epoch 6/10\n",
            "526016/526016 [==============================] - 70s 132us/step - loss: 0.6801 - acc: 0.5683 - precision: 0.5734 - recall: 0.7066 - f1score: 0.6261\n",
            "Epoch 7/10\n",
            "526016/526016 [==============================] - 65s 125us/step - loss: 0.6804 - acc: 0.5675 - precision: 0.5721 - recall: 0.7128 - f1score: 0.6273\n",
            "Epoch 8/10\n",
            "526016/526016 [==============================] - 60s 114us/step - loss: 0.6807 - acc: 0.5672 - precision: 0.5716 - recall: 0.7112 - f1score: 0.6267\n",
            "Epoch 9/10\n",
            "526016/526016 [==============================] - 61s 116us/step - loss: 0.6806 - acc: 0.5672 - precision: 0.5730 - recall: 0.7025 - f1score: 0.6229\n",
            "Epoch 10/10\n",
            "526016/526016 [==============================] - 60s 114us/step - loss: 0.6810 - acc: 0.5659 - precision: 0.5708 - recall: 0.7105 - f1score: 0.6251\n"
          ],
          "name": "stdout"
        }
      ]
    },
    {
      "cell_type": "code",
      "metadata": {
        "id": "t1rhtif84kFf",
        "colab_type": "code",
        "colab": {}
      },
      "source": [
        "y_pred_dl = ffn_model.predict(x_test)\n",
        "y_pred_dl = (y_pred_dl>0.5)"
      ],
      "execution_count": 0,
      "outputs": []
    },
    {
      "cell_type": "code",
      "metadata": {
        "scrolled": true,
        "id": "M1JcJKhr4kFh",
        "colab_type": "code",
        "outputId": "e7d2b36e-a36c-4934-90f0-eecf5d28004e",
        "colab": {
          "base_uri": "https://localhost:8080/",
          "height": 287
        }
      },
      "source": [
        "print(\"Accuracy: {:.5f}\".format(accuracy_score(y_test, y_pred_dl)))\n",
        "print(\"Confusion Matrix: \\n\", confusion_matrix(y_test, y_pred_dl))\n",
        "print(\"Classification Report Matrix: \\n\", classification_report(y_test, y_pred_dl))\n",
        "\n",
        "roc_auc_dl = roc_auc_score(y_test, y_pred_dl)\n",
        "print(roc_auc_dl)"
      ],
      "execution_count": 130,
      "outputs": [
        {
          "output_type": "stream",
          "text": [
            "Accuracy: 0.57267\n",
            "Confusion Matrix: \n",
            " [[45272 61755]\n",
            " [34580 83829]]\n",
            "Classification Report Matrix: \n",
            "               precision    recall  f1-score   support\n",
            "\n",
            "         0.0       0.57      0.42      0.48    107027\n",
            "         1.0       0.58      0.71      0.64    118409\n",
            "\n",
            "    accuracy                           0.57    225436\n",
            "   macro avg       0.57      0.57      0.56    225436\n",
            "weighted avg       0.57      0.57      0.56    225436\n",
            "\n",
            "0.5654787272416559\n"
          ],
          "name": "stdout"
        }
      ]
    },
    {
      "cell_type": "code",
      "metadata": {
        "id": "0nLNzhZC4kFj",
        "colab_type": "code",
        "outputId": "2ba6af16-f41a-4523-8f0c-b5b96ad6de4e",
        "colab": {
          "base_uri": "https://localhost:8080/",
          "height": 295
        }
      },
      "source": [
        "fpr, tpr, threshold = roc_curve(y_test, y_pred_dl)\n",
        "roc_auc = auc(fpr, tpr)\n",
        "\n",
        "plt.title('Receiver Operating Characteristic')\n",
        "plt.plot(fpr, tpr, 'b', label = 'AUC = %0.2f' % roc_auc)\n",
        "plt.legend(loc = 'lower right')\n",
        "plt.plot([0, 1], [0, 1],'r--')\n",
        "plt.xlim([0, 1])\n",
        "plt.ylim([0, 1])\n",
        "plt.ylabel('True Positive Rate')\n",
        "plt.xlabel('False Positive Rate')\n",
        "plt.show()"
      ],
      "execution_count": 131,
      "outputs": [
        {
          "output_type": "display_data",
          "data": {
            "image/png": "[encoded data removed]",
            "text/plain": [
              "<Figure size 432x288 with 1 Axes>"
            ]
          },
          "metadata": {
            "tags": []
          }
        }
      ]
    },
    {
      "cell_type": "code",
      "metadata": {
        "id": "pyKHVfww4kFl",
        "colab_type": "code",
        "colab": {}
      },
      "source": [
        ""
      ],
      "execution_count": 0,
      "outputs": []
    }
  ]
}