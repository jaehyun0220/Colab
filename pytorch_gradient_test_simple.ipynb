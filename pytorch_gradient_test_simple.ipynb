{
  "nbformat": 4,
  "nbformat_minor": 0,
  "metadata": {
    "colab": {
      "name": "pytorch_gradient_test_simple.ipynb",
      "version": "0.3.2",
      "provenance": [],
      "collapsed_sections": [],
      "include_colab_link": true
    },
    "kernelspec": {
      "name": "python3",
      "display_name": "Python 3"
    },
    "accelerator": "GPU"
  },
  "cells": [
    {
      "cell_type": "markdown",
      "metadata": {
        "id": "view-in-github",
        "colab_type": "text"
      },
      "source": [
        "<a href=\"https://colab.research.google.com/github/jaehyun0220/Colab/blob/master/pytorch_gradient_test_simple.ipynb\" target=\"_parent\"><img src=\"https://colab.research.google.com/assets/colab-badge.svg\" alt=\"Open In Colab\"/></a>"
      ]
    },
    {
      "cell_type": "code",
      "metadata": {
        "id": "YPe4dXkBszxx",
        "colab_type": "code",
        "colab": {
          "base_uri": "https://localhost:8080/",
          "height": 467
        },
        "outputId": "473731bb-49d8-4b5c-8144-ac2e942ba749"
      },
      "source": [
        "!sudo apt-get install nvidia-384"
      ],
      "execution_count": 1,
      "outputs": [
        {
          "output_type": "stream",
          "text": [
            "Reading package lists... Done\n",
            "Building dependency tree       \n",
            "Reading state information... Done\n",
            "The following package was automatically installed and is no longer required:\n",
            "  libnvidia-common-410\n",
            "Use 'sudo apt autoremove' to remove it.\n",
            "The following NEW packages will be installed:\n",
            "  nvidia-384\n",
            "0 upgraded, 1 newly installed, 0 to remove and 8 not upgraded.\n",
            "Need to get 6,852 B of archives.\n",
            "After this operation, 18.4 kB of additional disk space will be used.\n",
            "Get:1 https://developer.download.nvidia.com/compute/cuda/repos/ubuntu1804/x86_64  nvidia-384 418.67-0ubuntu1 [6,852 B]\n",
            "Fetched 6,852 B in 0s (67.0 kB/s)\n",
            "debconf: unable to initialize frontend: Dialog\n",
            "debconf: (No usable dialog-like program is installed, so the dialog based frontend cannot be used. at /usr/share/perl5/Debconf/FrontEnd/Dialog.pm line 76, <> line 1.)\n",
            "debconf: falling back to frontend: Readline\n",
            "debconf: unable to initialize frontend: Readline\n",
            "debconf: (This frontend requires a controlling tty.)\n",
            "debconf: falling back to frontend: Teletype\n",
            "dpkg-preconfigure: unable to re-open stdin: \n",
            "Selecting previously unselected package nvidia-384.\n",
            "(Reading database ... 130912 files and directories currently installed.)\n",
            "Preparing to unpack .../nvidia-384_418.67-0ubuntu1_amd64.deb ...\n",
            "Unpacking nvidia-384 (418.67-0ubuntu1) ...\n",
            "Setting up nvidia-384 (418.67-0ubuntu1) ...\n"
          ],
          "name": "stdout"
        }
      ]
    },
    {
      "cell_type": "code",
      "metadata": {
        "id": "McYmzxA0tOJg",
        "colab_type": "code",
        "colab": {
          "base_uri": "https://localhost:8080/",
          "height": 323
        },
        "outputId": "e4ab7c26-60b2-4aa9-e055-6667da9e7959"
      },
      "source": [
        "!nvidia-smi"
      ],
      "execution_count": 4,
      "outputs": [
        {
          "output_type": "stream",
          "text": [
            "Sat Jun  8 01:30:41 2019       \n",
            "+-----------------------------------------------------------------------------+\n",
            "| NVIDIA-SMI 418.67       Driver Version: 410.79       CUDA Version: 10.0     |\n",
            "|-------------------------------+----------------------+----------------------+\n",
            "| GPU  Name        Persistence-M| Bus-Id        Disp.A | Volatile Uncorr. ECC |\n",
            "| Fan  Temp  Perf  Pwr:Usage/Cap|         Memory-Usage | GPU-Util  Compute M. |\n",
            "|===============================+======================+======================|\n",
            "|   0  Tesla T4            Off  | 00000000:00:04.0 Off |                    0 |\n",
            "| N/A   57C    P8    16W /  70W |      0MiB / 15079MiB |      0%      Default |\n",
            "+-------------------------------+----------------------+----------------------+\n",
            "                                                                               \n",
            "+-----------------------------------------------------------------------------+\n",
            "| Processes:                                                       GPU Memory |\n",
            "|  GPU       PID   Type   Process name                             Usage      |\n",
            "|=============================================================================|\n",
            "|  No running processes found                                                 |\n",
            "+-----------------------------------------------------------------------------+\n"
          ],
          "name": "stdout"
        }
      ]
    },
    {
      "cell_type": "code",
      "metadata": {
        "id": "nD7asi7Lx7cR",
        "colab_type": "code",
        "colab": {}
      },
      "source": [
        "from IPython.core.interactiveshell import InteractiveShell # jupyter에서 마지막 값만 출력하는게 아니라 모든 출력값을 매번 연속적으로 출력\n",
        "InteractiveShell.ast_node_interactivity = \"all\" # all, last, last_expr, none (기본값은 'last_expr')"
      ],
      "execution_count": 0,
      "outputs": []
    },
    {
      "cell_type": "code",
      "metadata": {
        "id": "naHgL-L_tVm3",
        "colab_type": "code",
        "colab": {
          "base_uri": "https://localhost:8080/",
          "height": 53
        },
        "outputId": "fe31cc43-8bcb-4d17-bf50-a268f0226c5f"
      },
      "source": [
        "import numpy as np\n",
        "import torch\n",
        "\n",
        "NUM_ARR = 5\n",
        "NUM_EPOCH = 20\n",
        "\n",
        "#참의 계수\n",
        "w_true = torch.tensor([1,2,3.])\n",
        "print(type(w_true[0]), w_true[0])\n",
        "\n",
        "#X 데이터 준비, 절편을 회귀 계수에 포함하기 위해 X의 최소차원에 1을 추가\n",
        "X = torch. cat([torch.ones(NUM_ARR,1), torch.randn(NUM_ARR,2)],1)\n",
        "print(type(X[0][0]), X[0][0])"
      ],
      "execution_count": 140,
      "outputs": [
        {
          "output_type": "stream",
          "text": [
            "<class 'torch.Tensor'> tensor(1.)\n",
            "<class 'torch.Tensor'> tensor(1.)\n"
          ],
          "name": "stdout"
        }
      ]
    },
    {
      "cell_type": "markdown",
      "metadata": {
        "id": "HAyE1agD5VFD",
        "colab_type": "text"
      },
      "source": [
        ""
      ]
    },
    {
      "cell_type": "code",
      "metadata": {
        "id": "h4XbFFRC5VQ_",
        "colab_type": "code",
        "colab": {
          "base_uri": "https://localhost:8080/",
          "height": 4751
        },
        "outputId": "1f902116-1eaf-45db-ed96-fa0be9bbcec6"
      },
      "source": [
        "# 참의 계수와 각 X의 내적을 행렬과 벡터의 곱으로 모아서 계산\n",
        "y = torch.mv(X, w_true) + torch.randn(NUM_ARR) * 0.5\n",
        "print(\"y is \",y)\n",
        "\n",
        "# 기울기 하강으로 최적화 위해 파라미터 Tensor를 난수로 초기화 해서 생성\n",
        "w= torch.randn(3, requires_grad=True)\n",
        "print(\"w is \", w)\n",
        "print(\"*\"*200)\n",
        "\n",
        "# 학습률\n",
        "gamma = 0.1\n",
        "\n",
        "# 손실함수의 로그\n",
        "losses = []\n",
        "\n",
        "# NUM_ARR회 반복\n",
        "for epoch in range(NUM_EPOCH):\n",
        "  print(\"{} epoch info\".format(epoch))\n",
        "  print(\"start w val : \", w)\n",
        "  print(\"[[original]]: \\tw.data - {}, \\tw.grad - {} \".format(w.data, w.grad))\n",
        "  \n",
        "  # 전 회의 backward 메서드로 계산된 grad 경사값을 초기화\n",
        "  w.grad = None\n",
        "  print(\"*** Execute  w.grad = None ***\")\n",
        "  print(\"[grad to None]: w.data - {}, \\tw.grad - {} \".format(w.data, w.grad))\n",
        "  \n",
        "  # 선형 모델로 y 예측값을 계산\n",
        "  y_pred = torch.mv(X,w)\n",
        "  \n",
        "  # MSE losses와 w에 의한 미분을 계산으로 현재 Network의 output과 실제 y 값간의 오차, 즉, Error를 계산 (loss (error function) = (실제값 - 모델 예측값)**2/ n )\n",
        "  loss = torch.mean((y-y_pred)**2)\n",
        "  \n",
        "  # Loss(Error) 값을 기준으로 Back propagation 시행하여 각 weight의 비중 결정\n",
        "  loss.backward()\n",
        "  # 기존 w값(weight 값)에서 현재 오류에 weight가 얼마만큼의 영향을 끼치는지 계산\n",
        "  # = 오차에 대한 각 weight의 비중으로 weight가 0이 되면 즉, gradient의 극점에 가면 error와 연관이 없다는 뜻으로 최적화 된것임, 즉, gredient를 최소화 시키는 것이 목표\n",
        "  # = loss fuction에서(산출 된 Error값에 대해) 각 weight에 대해 미분 = loss.backward()\n",
        "\n",
        "  # 경사 갱신\n",
        "  \n",
        "  # learning rate을 곱한 것 만큼만 weight값을 깎아 오차를 줄여준다.\n",
        "  \n",
        "  # w를 그대로 대입해서 갱신하면 다른 텐서가 되어 계산 그래프가 망가진다\n",
        "  # 따라서 data만 갱신한다.\n",
        "  \n",
        "  print(\"optimizer is \\t{} = {} - {} * {}\".format(w.data, w.data, gamma, w.grad.data))\n",
        "  \n",
        "  w.data = w.data - gamma * w.grad.data\n",
        "  \n",
        "  # 수렴 확인을 위한 loss를 기록\n",
        "  losses.append(loss.item())\n",
        "  \n",
        "  print(\"[[after BP]]: \\tw.data - {}, \\tw.grad - {}\".format(w.data, w.grad))\n",
        "  print(\"\\ny_pred - {}, \\ty_pred.grad_fn  - {}, \\ny_real - {}\".format(y_pred.data, y_pred.grad_fn, y))\n",
        "  print(\"\\nloss   - {}, \\tloss.grad_fn   - {}\".format(loss, loss.grad_fn))\n",
        "  print(\"#\" * 200)\n",
        "  \n",
        "  # 다시 epoch 상단으로 감(수정 된 network에 대한 오류 계산하기 위해)\n",
        "  # -> ** 이전 epoch에서의 gradient가 누적 될 수 있으니, 다시 현재 network에서의 오류에 대한 weight 비중을 계산하기 위해 w.grade = None으로 초기화\n",
        "  # -> 현재 네트워크에서의 오류 계산 후 오류에 대한 weight의 비중 즉, gradient 계산(Back Propagation) \n",
        "  # -> 현재 weight - learning rate * gradient 적용하여 network update \n",
        "  # -> 다시 epoch 실행 반복"
      ],
      "execution_count": 141,
      "outputs": [
        {
          "output_type": "stream",
          "text": [
            "y is  tensor([-1.4648,  4.0837, -2.9829,  6.6205,  3.6826])\n",
            "w is  tensor([-1.6300,  1.0355,  0.8944], requires_grad=True)\n",
            "********************************************************************************************************************************************************************************************************\n",
            "0 epoch info\n",
            "start w val :  tensor([-1.6300,  1.0355,  0.8944], requires_grad=True)\n",
            "[[original]]: \tw.data - tensor([-1.6300,  1.0355,  0.8944]), \tw.grad - None \n",
            "*** Execute  w.grad = None ***\n",
            "[grad to None]: w.data - tensor([-1.6300,  1.0355,  0.8944]), \tw.grad - None \n",
            "optimizer is \ttensor([-1.6300,  1.0355,  0.8944]) = tensor([-1.6300,  1.0355,  0.8944]) - 0.1 * tensor([-6.4892, -4.9724, -3.5884])\n",
            "[[after BP]]: \tw.data - tensor([-0.9811,  1.5327,  1.2533]), \tw.grad - tensor([-6.4892, -4.9724, -3.5884])\n",
            "\n",
            "y_pred - tensor([-3.0391, -0.2135, -2.7369,  0.4504, -0.7449]), \ty_pred.grad_fn  - <MvBackward object at 0x7fb6bd2ecf98>, \n",
            "y_real - tensor([-1.4648,  4.0837, -2.9829,  6.6205,  3.6826])\n",
            "\n",
            "loss   - 15.735517501831055, \tloss.grad_fn   - <MeanBackward0 object at 0x7fb6bd2ecf98>\n",
            "########################################################################################################################################################################################################\n",
            "1 epoch info\n",
            "start w val :  tensor([-0.9811,  1.5327,  1.2533], requires_grad=True)\n",
            "[[original]]: \tw.data - tensor([-0.9811,  1.5327,  1.2533]), \tw.grad - tensor([-6.4892, -4.9724, -3.5884]) \n",
            "*** Execute  w.grad = None ***\n",
            "[grad to None]: w.data - tensor([-0.9811,  1.5327,  1.2533]), \tw.grad - None \n",
            "optimizer is \ttensor([-0.9811,  1.5327,  1.2533]) = tensor([-0.9811,  1.5327,  1.2533]) - 0.1 * tensor([-4.8346, -3.3606, -2.8332])\n",
            "[[after BP]]: \tw.data - tensor([-0.4976,  1.8688,  1.5366]), \tw.grad - tensor([-4.8346, -3.3606, -2.8332])\n",
            "\n",
            "y_pred - tensor([-3.0714,  1.0799, -2.5068,  2.0374,  0.3134]), \ty_pred.grad_fn  - <MvBackward object at 0x7fb6c5e8ce48>, \n",
            "y_real - tensor([-1.4648,  4.0837, -2.9829,  6.6205,  3.6826])\n",
            "\n",
            "loss   - 8.837430000305176, \tloss.grad_fn   - <MeanBackward0 object at 0x7fb6bd2ecf98>\n",
            "########################################################################################################################################################################################################\n",
            "2 epoch info\n",
            "start w val :  tensor([-0.4976,  1.8688,  1.5366], requires_grad=True)\n",
            "[[original]]: \tw.data - tensor([-0.4976,  1.8688,  1.5366]), \tw.grad - tensor([-4.8346, -3.3606, -2.8332]) \n",
            "*** Execute  w.grad = None ***\n",
            "[grad to None]: w.data - tensor([-0.4976,  1.8688,  1.5366]), \tw.grad - None \n",
            "optimizer is \ttensor([-0.4976,  1.8688,  1.5366]) = tensor([-0.4976,  1.8688,  1.5366]) - 0.1 * tensor([-3.6256, -2.2215, -2.2631])\n",
            "[[after BP]]: \tw.data - tensor([-0.1351,  2.0910,  1.7629]), \tw.grad - tensor([-3.6256, -2.2215, -2.2631])\n",
            "\n",
            "y_pred - tensor([-3.0457,  2.0195, -2.3715,  3.1900,  1.0826]), \ty_pred.grad_fn  - <MvBackward object at 0x7fb6c5e8c240>, \n",
            "y_real - tensor([-1.4648,  4.0837, -2.9829,  6.6205,  3.6826])\n",
            "\n",
            "loss   - 5.1324005126953125, \tloss.grad_fn   - <MeanBackward0 object at 0x7fb6c5e8ce48>\n",
            "########################################################################################################################################################################################################\n",
            "3 epoch info\n",
            "start w val :  tensor([-0.1351,  2.0910,  1.7629], requires_grad=True)\n",
            "[[original]]: \tw.data - tensor([-0.1351,  2.0910,  1.7629]), \tw.grad - tensor([-3.6256, -2.2215, -2.2631]) \n",
            "*** Execute  w.grad = None ***\n",
            "[grad to None]: w.data - tensor([-0.1351,  2.0910,  1.7629]), \tw.grad - None \n",
            "optimizer is \ttensor([-0.1351,  2.0910,  1.7629]) = tensor([-0.1351,  2.0910,  1.7629]) - 0.1 * tensor([-2.7396, -1.4209, -1.8290])\n",
            "[[after BP]]: \tw.data - tensor([0.1389, 2.2330, 1.9458]), \tw.grad - tensor([-2.7396, -1.4209, -1.8290])\n",
            "\n",
            "y_pred - tensor([-2.9831,  2.7034, -2.3013,  4.0286,  1.6426]), \ty_pred.grad_fn  - <MvBackward object at 0x7fb6c5e8c240>, \n",
            "y_real - tensor([-1.4648,  4.0837, -2.9829,  6.6205,  3.6826])\n",
            "\n",
            "loss   - 3.1108996868133545, \tloss.grad_fn   - <MeanBackward0 object at 0x7fb6bd2ecf98>\n",
            "########################################################################################################################################################################################################\n",
            "4 epoch info\n",
            "start w val :  tensor([0.1389, 2.2330, 1.9458], requires_grad=True)\n",
            "[[original]]: \tw.data - tensor([0.1389, 2.2330, 1.9458]), \tw.grad - tensor([-2.7396, -1.4209, -1.8290]) \n",
            "*** Execute  w.grad = None ***\n",
            "[grad to None]: w.data - tensor([0.1389, 2.2330, 1.9458]), \tw.grad - None \n",
            "optimizer is \ttensor([0.1389, 2.2330, 1.9458]) = tensor([0.1389, 2.2330, 1.9458]) - 0.1 * tensor([-2.0878, -0.8623, -1.4954])\n",
            "[[after BP]]: \tw.data - tensor([0.3477, 2.3193, 2.0953]), \tw.grad - tensor([-2.0878, -0.8623, -1.4954])\n",
            "\n",
            "y_pred - tensor([-2.8986,  3.2021, -2.2753,  4.6399,  2.0513]), \ty_pred.grad_fn  - <MvBackward object at 0x7fb6c5e8c240>, \n",
            "y_real - tensor([-1.4648,  4.0837, -2.9829,  6.6205,  3.6826])\n",
            "\n",
            "loss   - 1.9834423065185547, \tloss.grad_fn   - <MeanBackward0 object at 0x7fb6bd2ecf98>\n",
            "########################################################################################################################################################################################################\n",
            "5 epoch info\n",
            "start w val :  tensor([0.3477, 2.3193, 2.0953], requires_grad=True)\n",
            "[[original]]: \tw.data - tensor([0.3477, 2.3193, 2.0953]), \tw.grad - tensor([-2.0878, -0.8623, -1.4954]) \n",
            "*** Execute  w.grad = None ***\n",
            "[grad to None]: w.data - tensor([0.3477, 2.3193, 2.0953]), \tw.grad - None \n",
            "optimizer is \ttensor([0.3477, 2.3193, 2.0953]) = tensor([0.3477, 2.3193, 2.0953]) - 0.1 * tensor([-1.6063, -0.4762, -1.2364])\n",
            "[[after BP]]: \tw.data - tensor([0.5083, 2.3669, 2.2190]), \tw.grad - tensor([-1.6063, -0.4762, -1.2364])\n",
            "\n",
            "y_pred - tensor([-2.8022,  3.5668, -2.2784,  5.0867,  2.3504]), \ty_pred.grad_fn  - <MvBackward object at 0x7fb6c5e8c240>, \n",
            "y_real - tensor([-1.4648,  4.0837, -2.9829,  6.6205,  3.6826])\n",
            "\n",
            "loss   - 1.335854172706604, \tloss.grad_fn   - <MeanBackward0 object at 0x7fb6bd2ecf98>\n",
            "########################################################################################################################################################################################################\n",
            "6 epoch info\n",
            "start w val :  tensor([0.5083, 2.3669, 2.2190], requires_grad=True)\n",
            "[[original]]: \tw.data - tensor([0.5083, 2.3669, 2.2190]), \tw.grad - tensor([-1.6063, -0.4762, -1.2364]) \n",
            "*** Execute  w.grad = None ***\n",
            "[grad to None]: w.data - tensor([0.5083, 2.3669, 2.2190]), \tw.grad - None \n",
            "optimizer is \ttensor([0.5083, 2.3669, 2.2190]) = tensor([0.5083, 2.3669, 2.2190]) - 0.1 * tensor([-1.2488, -0.2128, -1.0332])\n",
            "[[after BP]]: \tw.data - tensor([0.6332, 2.3882, 2.3223]), \tw.grad - tensor([-1.2488, -0.2128, -1.0332])\n",
            "\n",
            "y_pred - tensor([-2.7010,  3.8343, -2.3004,  5.4142,  2.5700]), \ty_pred.grad_fn  - <MvBackward object at 0x7fb6c5e8ce48>, \n",
            "y_real - tensor([-1.4648,  4.0837, -2.9829,  6.6205,  3.6826])\n",
            "\n",
            "loss   - 0.9498285055160522, \tloss.grad_fn   - <MeanBackward0 object at 0x7fb6bd2ecf98>\n",
            "########################################################################################################################################################################################################\n",
            "7 epoch info\n",
            "start w val :  tensor([0.6332, 2.3882, 2.3223], requires_grad=True)\n",
            "[[original]]: \tw.data - tensor([0.6332, 2.3882, 2.3223]), \tw.grad - tensor([-1.2488, -0.2128, -1.0332]) \n",
            "*** Execute  w.grad = None ***\n",
            "[grad to None]: w.data - tensor([0.6332, 2.3882, 2.3223]), \tw.grad - None \n",
            "optimizer is \ttensor([0.6332, 2.3882, 2.3223]) = tensor([0.6332, 2.3882, 2.3223]) - 0.1 * tensor([-0.9817, -0.0363, -0.8719])\n",
            "[[after BP]]: \tw.data - tensor([0.7314, 2.3918, 2.4095]), \tw.grad - tensor([-0.9817, -0.0363, -0.8719])\n",
            "\n",
            "y_pred - tensor([-2.5995,  4.0312, -2.3338,  5.6551,  2.7319]), \ty_pred.grad_fn  - <MvBackward object at 0x7fb6c5e8c240>, \n",
            "y_real - tensor([-1.4648,  4.0837, -2.9829,  6.6205,  3.6826])\n",
            "\n",
            "loss   - 0.7094882130622864, \tloss.grad_fn   - <MeanBackward0 object at 0x7fb6bd2ecf98>\n",
            "########################################################################################################################################################################################################\n",
            "8 epoch info\n",
            "start w val :  tensor([0.7314, 2.3918, 2.4095], requires_grad=True)\n",
            "[[original]]: \tw.data - tensor([0.7314, 2.3918, 2.4095]), \tw.grad - tensor([-0.9817, -0.0363, -0.8719]) \n",
            "*** Execute  w.grad = None ***\n",
            "[grad to None]: w.data - tensor([0.7314, 2.3918, 2.4095]), \tw.grad - None \n",
            "optimizer is \ttensor([0.7314, 2.3918, 2.4095]) = tensor([0.7314, 2.3918, 2.4095]) - 0.1 * tensor([-0.7807,  0.0788, -0.7424])\n",
            "[[after BP]]: \tw.data - tensor([0.8094, 2.3839, 2.4837]), \tw.grad - tensor([-0.7807,  0.0788, -0.7424])\n",
            "\n",
            "y_pred - tensor([-2.5008,  4.1769, -2.3737,  5.8331,  2.8518]), \ty_pred.grad_fn  - <MvBackward object at 0x7fb6c5e8c240>, \n",
            "y_real - tensor([-1.4648,  4.0837, -2.9829,  6.6205,  3.6826])\n",
            "\n",
            "loss   - 0.5526780486106873, \tloss.grad_fn   - <MeanBackward0 object at 0x7fb6bd2ecf98>\n",
            "########################################################################################################################################################################################################\n",
            "9 epoch info\n",
            "start w val :  tensor([0.8094, 2.3839, 2.4837], requires_grad=True)\n",
            "[[original]]: \tw.data - tensor([0.8094, 2.3839, 2.4837]), \tw.grad - tensor([-0.7807,  0.0788, -0.7424]) \n",
            "*** Execute  w.grad = None ***\n",
            "[grad to None]: w.data - tensor([0.8094, 2.3839, 2.4837]), \tw.grad - None \n",
            "optimizer is \ttensor([0.8094, 2.3839, 2.4837]) = tensor([0.8094, 2.3839, 2.4837]) - 0.1 * tensor([-0.6284,  0.1510, -0.6372])\n",
            "[[after BP]]: \tw.data - tensor([0.8723, 2.3688, 2.5474]), \tw.grad - tensor([-0.6284,  0.1510, -0.6372])\n",
            "\n",
            "y_pred - tensor([-2.4067,  4.2851, -2.4165,  5.9653,  2.9410]), \ty_pred.grad_fn  - <MvBackward object at 0x7fb6c5e8c240>, \n",
            "y_real - tensor([-1.4648,  4.0837, -2.9829,  6.6205,  3.6826])\n",
            "\n",
            "loss   - 0.44555243849754333, \tloss.grad_fn   - <MeanBackward0 object at 0x7fb6bd2ecf98>\n",
            "########################################################################################################################################################################################################\n",
            "10 epoch info\n",
            "start w val :  tensor([0.8723, 2.3688, 2.5474], requires_grad=True)\n",
            "[[original]]: \tw.data - tensor([0.8723, 2.3688, 2.5474]), \tw.grad - tensor([-0.6284,  0.1510, -0.6372]) \n",
            "*** Execute  w.grad = None ***\n",
            "[grad to None]: w.data - tensor([0.8723, 2.3688, 2.5474]), \tw.grad - None \n",
            "optimizer is \ttensor([0.8723, 2.3688, 2.5474]) = tensor([0.8723, 2.3688, 2.5474]) - 0.1 * tensor([-0.5117,  0.1933, -0.5507])\n",
            "[[after BP]]: \tw.data - tensor([0.9234, 2.3495, 2.6025]), \tw.grad - tensor([-0.5117,  0.1933, -0.5507])\n",
            "\n",
            "y_pred - tensor([-2.3183,  4.3661, -2.4600,  6.0640,  3.0079]), \ty_pred.grad_fn  - <MvBackward object at 0x7fb6c5e8ce48>, \n",
            "y_real - tensor([-1.4648,  4.0837, -2.9829,  6.6205,  3.6826])\n",
            "\n",
            "loss   - 0.36928510665893555, \tloss.grad_fn   - <MeanBackward0 object at 0x7fb6c5e8c240>\n",
            "########################################################################################################################################################################################################\n",
            "11 epoch info\n",
            "start w val :  tensor([0.9234, 2.3495, 2.6025], requires_grad=True)\n",
            "[[original]]: \tw.data - tensor([0.9234, 2.3495, 2.6025]), \tw.grad - tensor([-0.5117,  0.1933, -0.5507]) \n",
            "*** Execute  w.grad = None ***\n",
            "[grad to None]: w.data - tensor([0.9234, 2.3495, 2.6025]), \tw.grad - None \n",
            "optimizer is \ttensor([0.9234, 2.3495, 2.6025]) = tensor([0.9234, 2.3495, 2.6025]) - 0.1 * tensor([-0.4216,  0.2151, -0.4789])\n",
            "[[after BP]]: \tw.data - tensor([0.9656, 2.3280, 2.6504]), \tw.grad - tensor([-0.4216,  0.2151, -0.4789])\n",
            "\n",
            "y_pred - tensor([-2.2361,  4.4271, -2.5027,  6.1382,  3.0585]), \ty_pred.grad_fn  - <MvBackward object at 0x7fb6c5e8c240>, \n",
            "y_real - tensor([-1.4648,  4.0837, -2.9829,  6.6205,  3.6826])\n",
            "\n",
            "loss   - 0.31310027837753296, \tloss.grad_fn   - <MeanBackward0 object at 0x7fb6bd2ecf98>\n",
            "########################################################################################################################################################################################################\n",
            "12 epoch info\n",
            "start w val :  tensor([0.9656, 2.3280, 2.6504], requires_grad=True)\n",
            "[[original]]: \tw.data - tensor([0.9656, 2.3280, 2.6504]), \tw.grad - tensor([-0.4216,  0.2151, -0.4789]) \n",
            "*** Execute  w.grad = None ***\n",
            "[grad to None]: w.data - tensor([0.9656, 2.3280, 2.6504]), \tw.grad - None \n",
            "optimizer is \ttensor([0.9656, 2.3280, 2.6504]) = tensor([0.9656, 2.3280, 2.6504]) - 0.1 * tensor([-0.3512,  0.2230, -0.4186])\n",
            "[[after BP]]: \tw.data - tensor([1.0007, 2.3057, 2.6923]), \tw.grad - tensor([-0.3512,  0.2230, -0.4186])\n",
            "\n",
            "y_pred - tensor([-2.1603,  4.4735, -2.5437,  6.1945,  3.0969]), \ty_pred.grad_fn  - <MvBackward object at 0x7fb6c5e8c240>, \n",
            "y_real - tensor([-1.4648,  4.0837, -2.9829,  6.6205,  3.6826])\n",
            "\n",
            "loss   - 0.2706025540828705, \tloss.grad_fn   - <MeanBackward0 object at 0x7fb6bd2ecf98>\n",
            "########################################################################################################################################################################################################\n",
            "13 epoch info\n",
            "start w val :  tensor([1.0007, 2.3057, 2.6923], requires_grad=True)\n",
            "[[original]]: \tw.data - tensor([1.0007, 2.3057, 2.6923]), \tw.grad - tensor([-0.3512,  0.2230, -0.4186]) \n",
            "*** Execute  w.grad = None ***\n",
            "[grad to None]: w.data - tensor([1.0007, 2.3057, 2.6923]), \tw.grad - None \n",
            "optimizer is \ttensor([1.0007, 2.3057, 2.6923]) = tensor([1.0007, 2.3057, 2.6923]) - 0.1 * tensor([-0.2956,  0.2217, -0.3675])\n",
            "[[after BP]]: \tw.data - tensor([1.0303, 2.2835, 2.7290]), \tw.grad - tensor([-0.2956,  0.2217, -0.3675])\n",
            "\n",
            "y_pred - tensor([-2.0909,  4.5090, -2.5822,  6.2376,  3.1265]), \ty_pred.grad_fn  - <MvBackward object at 0x7fb6c5e8ce48>, \n",
            "y_real - tensor([-1.4648,  4.0837, -2.9829,  6.6205,  3.6826])\n",
            "\n",
            "loss   - 0.2378295361995697, \tloss.grad_fn   - <MeanBackward0 object at 0x7fb6bd2ecf98>\n",
            "########################################################################################################################################################################################################\n",
            "14 epoch info\n",
            "start w val :  tensor([1.0303, 2.2835, 2.7290], requires_grad=True)\n",
            "[[original]]: \tw.data - tensor([1.0303, 2.2835, 2.7290]), \tw.grad - tensor([-0.2956,  0.2217, -0.3675]) \n",
            "*** Execute  w.grad = None ***\n",
            "[grad to None]: w.data - tensor([1.0303, 2.2835, 2.7290]), \tw.grad - None \n",
            "optimizer is \ttensor([1.0303, 2.2835, 2.7290]) = tensor([1.0303, 2.2835, 2.7290]) - 0.1 * tensor([-0.2512,  0.2145, -0.3238])\n",
            "[[after BP]]: \tw.data - tensor([1.0554, 2.2620, 2.7614]), \tw.grad - tensor([-0.2512,  0.2145, -0.3238])\n",
            "\n",
            "y_pred - tensor([-2.0275,  4.5365, -2.6182,  6.2708,  3.1495]), \ty_pred.grad_fn  - <MvBackward object at 0x7fb6c5e8c240>, \n",
            "y_real - tensor([-1.4648,  4.0837, -2.9829,  6.6205,  3.6826])\n",
            "\n",
            "loss   - 0.2122085988521576, \tloss.grad_fn   - <MeanBackward0 object at 0x7fb6bd2ecf98>\n",
            "########################################################################################################################################################################################################\n",
            "15 epoch info\n",
            "start w val :  tensor([1.0554, 2.2620, 2.7614], requires_grad=True)\n",
            "[[original]]: \tw.data - tensor([1.0554, 2.2620, 2.7614]), \tw.grad - tensor([-0.2512,  0.2145, -0.3238]) \n",
            "*** Execute  w.grad = None ***\n",
            "[grad to None]: w.data - tensor([1.0554, 2.2620, 2.7614]), \tw.grad - None \n",
            "optimizer is \ttensor([1.0554, 2.2620, 2.7614]) = tensor([1.0554, 2.2620, 2.7614]) - 0.1 * tensor([-0.2152,  0.2036, -0.2862])\n",
            "[[after BP]]: \tw.data - tensor([1.0769, 2.2417, 2.7900]), \tw.grad - tensor([-0.2152,  0.2036, -0.2862])\n",
            "\n",
            "y_pred - tensor([-1.9698,  4.5580, -2.6514,  6.2968,  3.1676]), \ty_pred.grad_fn  - <MvBackward object at 0x7fb6c5e8c240>, \n",
            "y_real - tensor([-1.4648,  4.0837, -2.9829,  6.6205,  3.6826])\n",
            "\n",
            "loss   - 0.19199100136756897, \tloss.grad_fn   - <MeanBackward0 object at 0x7fb6bd2ecf98>\n",
            "########################################################################################################################################################################################################\n",
            "16 epoch info\n",
            "start w val :  tensor([1.0769, 2.2417, 2.7900], requires_grad=True)\n",
            "[[original]]: \tw.data - tensor([1.0769, 2.2417, 2.7900]), \tw.grad - tensor([-0.2152,  0.2036, -0.2862]) \n",
            "*** Execute  w.grad = None ***\n",
            "[grad to None]: w.data - tensor([1.0769, 2.2417, 2.7900]), \tw.grad - None \n",
            "optimizer is \ttensor([1.0769, 2.2417, 2.7900]) = tensor([1.0769, 2.2417, 2.7900]) - 0.1 * tensor([-0.1857,  0.1907, -0.2536])\n",
            "[[after BP]]: \tw.data - tensor([1.0955, 2.2226, 2.8154]), \tw.grad - tensor([-0.1857,  0.1907, -0.2536])\n",
            "\n",
            "y_pred - tensor([-1.9176,  4.5750, -2.6819,  6.3172,  3.1819]), \ty_pred.grad_fn  - <MvBackward object at 0x7fb6c5e8ce48>, \n",
            "y_real - tensor([-1.4648,  4.0837, -2.9829,  6.6205,  3.6826])\n",
            "\n",
            "loss   - 0.17593666911125183, \tloss.grad_fn   - <MeanBackward0 object at 0x7fb6bd2ecf98>\n",
            "########################################################################################################################################################################################################\n",
            "17 epoch info\n",
            "start w val :  tensor([1.0955, 2.2226, 2.8154], requires_grad=True)\n",
            "[[original]]: \tw.data - tensor([1.0955, 2.2226, 2.8154]), \tw.grad - tensor([-0.1857,  0.1907, -0.2536]) \n",
            "*** Execute  w.grad = None ***\n",
            "[grad to None]: w.data - tensor([1.0955, 2.2226, 2.8154]), \tw.grad - None \n",
            "optimizer is \ttensor([1.0955, 2.2226, 2.8154]) = tensor([1.0955, 2.2226, 2.8154]) - 0.1 * tensor([-0.1613,  0.1769, -0.2252])\n",
            "[[after BP]]: \tw.data - tensor([1.1116, 2.2049, 2.8379]), \tw.grad - tensor([-0.1613,  0.1769, -0.2252])\n",
            "\n",
            "y_pred - tensor([-1.8703,  4.5887, -2.7097,  6.3336,  3.1934]), \ty_pred.grad_fn  - <MvBackward object at 0x7fb6c5e8ce48>, \n",
            "y_real - tensor([-1.4648,  4.0837, -2.9829,  6.6205,  3.6826])\n",
            "\n",
            "loss   - 0.16313475370407104, \tloss.grad_fn   - <MeanBackward0 object at 0x7fb6bd2ecf98>\n",
            "########################################################################################################################################################################################################\n",
            "18 epoch info\n",
            "start w val :  tensor([1.1116, 2.2049, 2.8379], requires_grad=True)\n",
            "[[original]]: \tw.data - tensor([1.1116, 2.2049, 2.8379]), \tw.grad - tensor([-0.1613,  0.1769, -0.2252]) \n",
            "*** Execute  w.grad = None ***\n",
            "[grad to None]: w.data - tensor([1.1116, 2.2049, 2.8379]), \tw.grad - None \n",
            "optimizer is \ttensor([1.1116, 2.2049, 2.8379]) = tensor([1.1116, 2.2049, 2.8379]) - 0.1 * tensor([-0.1409,  0.1629, -0.2003])\n",
            "[[after BP]]: \tw.data - tensor([1.1257, 2.1886, 2.8579]), \tw.grad - tensor([-0.1409,  0.1629, -0.2003])\n",
            "\n",
            "y_pred - tensor([-1.8276,  4.5997, -2.7349,  6.3468,  3.2028]), \ty_pred.grad_fn  - <MvBackward object at 0x7fb6c5e8c240>, \n",
            "y_real - tensor([-1.4648,  4.0837, -2.9829,  6.6205,  3.6826])\n",
            "\n",
            "loss   - 0.15289869904518127, \tloss.grad_fn   - <MeanBackward0 object at 0x7fb6bd2ecf98>\n",
            "########################################################################################################################################################################################################\n",
            "19 epoch info\n",
            "start w val :  tensor([1.1257, 2.1886, 2.8579], requires_grad=True)\n",
            "[[original]]: \tw.data - tensor([1.1257, 2.1886, 2.8579]), \tw.grad - tensor([-0.1409,  0.1629, -0.2003]) \n",
            "*** Execute  w.grad = None ***\n",
            "[grad to None]: w.data - tensor([1.1257, 2.1886, 2.8579]), \tw.grad - None \n",
            "optimizer is \ttensor([1.1257, 2.1886, 2.8579]) = tensor([1.1257, 2.1886, 2.8579]) - 0.1 * tensor([-0.1237,  0.1491, -0.1785])\n",
            "[[after BP]]: \tw.data - tensor([1.1381, 2.1737, 2.8758]), \tw.grad - tensor([-0.1237,  0.1491, -0.1785])\n",
            "\n",
            "y_pred - tensor([-1.7891,  4.6088, -2.7579,  6.3576,  3.2105]), \ty_pred.grad_fn  - <MvBackward object at 0x7fb6c5e8ce48>, \n",
            "y_real - tensor([-1.4648,  4.0837, -2.9829,  6.6205,  3.6826])\n",
            "\n",
            "loss   - 0.14469937980175018, \tloss.grad_fn   - <MeanBackward0 object at 0x7fb6bd2ecf98>\n",
            "########################################################################################################################################################################################################\n"
          ],
          "name": "stdout"
        }
      ]
    },
    {
      "cell_type": "code",
      "metadata": {
        "id": "3zimX99ktrqt",
        "colab_type": "code",
        "colab": {
          "base_uri": "https://localhost:8080/",
          "height": 287
        },
        "outputId": "1dfbadbc-774f-42af-bf9e-59b0d7ac7b01"
      },
      "source": [
        "%matplotlib inline\n",
        "from matplotlib import pyplot as plt\n",
        "plt.plot(losses)\n"
      ],
      "execution_count": 142,
      "outputs": [
        {
          "output_type": "execute_result",
          "data": {
            "text/plain": [
              "[<matplotlib.lines.Line2D at 0x7fb6b91602e8>]"
            ]
          },
          "metadata": {
            "tags": []
          },
          "execution_count": 142
        },
        {
          "output_type": "display_data",
          "data": {
            "image/png": "[encoded data removed]",
            "text/plain": [
              "<Figure size 432x288 with 1 Axes>"
            ]
          },
          "metadata": {
            "tags": []
          }
        }
      ]
    },
    {
      "cell_type": "code",
      "metadata": {
        "id": "lieWlykC56E_",
        "colab_type": "code",
        "colab": {}
      },
      "source": [
        ""
      ],
      "execution_count": 0,
      "outputs": []
    }
  ]
}