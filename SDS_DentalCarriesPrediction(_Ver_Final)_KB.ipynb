{
  "nbformat": 4,
  "nbformat_minor": 0,
  "metadata": {
    "kernelspec": {
      "name": "python3",
      "display_name": "Python 3"
    },
    "language_info": {
      "codemirror_mode": {
        "name": "ipython",
        "version": 3
      },
      "file_extension": ".py",
      "mimetype": "text/x-python",
      "name": "python",
      "nbconvert_exporter": "python",
      "pygments_lexer": "ipython3",
      "version": "3.6.8"
    },
    "colab": {
      "name": "SDS_DentalCarriesPrediction(#Ver-Final)_KB.ipynb",
      "provenance": [],
      "collapsed_sections": [],
      "include_colab_link": true
    },
    "accelerator": "TPU"
  },
  "cells": [
    {
      "cell_type": "markdown",
      "metadata": {
        "id": "view-in-github",
        "colab_type": "text"
      },
      "source": [
        "<a href=\"https://colab.research.google.com/github/jaehyun0220/Colab/blob/master/SDS_DentalCarriesPrediction(_Ver_Final)_KB.ipynb\" target=\"_parent\"><img src=\"https://colab.research.google.com/assets/colab-badge.svg\" alt=\"Open In Colab\"/></a>"
      ]
    },
    {
      "cell_type": "markdown",
      "metadata": {
        "id": "aTl6Kc03-QOM",
        "colab_type": "text"
      },
      "source": [
        "# 건강검진 데이터를 활용한 치아우식증 발생 예측"
      ]
    },
    {
      "cell_type": "markdown",
      "metadata": {
        "id": "rzRKjmfr-aLz",
        "colab_type": "text"
      },
      "source": [
        "## - Summary. 최종 작업본 (소스코드)\n"
      ]
    },
    {
      "cell_type": "markdown",
      "metadata": {
        "id": "n-PqtwTI-L37",
        "colab_type": "text"
      },
      "source": [
        "## #1. 환경 세팅"
      ]
    },
    {
      "cell_type": "code",
      "metadata": {
        "id": "oERZHfZ04v3N",
        "colab_type": "code",
        "outputId": "99cff141-db4e-4112-aca1-ff01d9eaf04d",
        "colab": {
          "base_uri": "https://localhost:8080/",
          "height": 127
        }
      },
      "source": [
        "# ********************* 제출 불필요 *****************************\n",
        "# Auth 인증 및 Google Drive 활용 Data load\n",
        "from google.colab import drive\n",
        "drive.mount('/gdrive', force_remount=True)"
      ],
      "execution_count": 1,
      "outputs": [
        {
          "output_type": "stream",
          "text": [
            "Go to this URL in a browser: https://accounts.google.com/o/oauth2/auth?client_id=947318989803-6bn6qk8qdgf4n4g3pfee6491hc0brc4i.apps.googleusercontent.com&redirect_uri=urn%3aietf%3awg%3aoauth%3a2.0%3aoob&response_type=code&scope=email%20https%3a%2f%2fwww.googleapis.com%2fauth%2fdocs.test%20https%3a%2f%2fwww.googleapis.com%2fauth%2fdrive%20https%3a%2f%2fwww.googleapis.com%2fauth%2fdrive.photos.readonly%20https%3a%2f%2fwww.googleapis.com%2fauth%2fpeopleapi.readonly\n",
            "\n",
            "Enter your authorization code:\n",
            "··········\n",
            "Mounted at /gdrive\n"
          ],
          "name": "stdout"
        }
      ]
    },
    {
      "cell_type": "code",
      "metadata": {
        "id": "sSbAKlmw4kEe",
        "colab_type": "code",
        "colab": {
          "base_uri": "https://localhost:8080/",
          "height": 35
        },
        "outputId": "e894b114-249e-4bb3-bc7f-9e1dfe9393cd"
      },
      "source": [
        "# 기본 라이브러리 로드\n",
        "import pandas as pd\n",
        "import numpy as np\n",
        "import os, sys\n",
        "\n",
        "from tqdm import tqdm_notebook\n",
        "\n",
        "import re\n",
        "import tensorflow as tf\n",
        "\n",
        "#데이터 전처리 관련 라이브러리 로드\n",
        "from sklearn import preprocessing\n",
        "from sklearn.preprocessing import MinMaxScaler\n",
        "from sklearn.preprocessing import FunctionTransformer\n",
        "from sklearn.compose import ColumnTransformer\n",
        "from sklearn.pipeline import Pipeline\n",
        "\n",
        "from sklearn.preprocessing import LabelEncoder\n",
        "from sklearn.preprocessing import OneHotEncoder\n",
        "from sklearn.model_selection import ShuffleSplit\n",
        "\n",
        "#모델 알고리즘 로드\n",
        "from sklearn import svm, tree, linear_model, neighbors, naive_bayes, ensemble, discriminant_analysis, gaussian_process\n",
        "from xgboost.sklearn import XGBClassifier\n",
        "import lightgbm as lgb\n",
        "from sklearn.ensemble import RandomForestClassifier, AdaBoostClassifier, GradientBoostingClassifier, ExtraTreesClassifier, VotingClassifier\n",
        "\n",
        "# Deep Learning Model 로드\n",
        "import keras\n",
        "from keras.models import Sequential\n",
        "from keras.layers import Dense, Dropout, Activation, BatchNormalization\n",
        "from keras.wrappers.scikit_learn import KerasClassifier\n",
        "\n",
        "#차원축소 알고리즘 로드\n",
        "from sklearn.decomposition import PCA\n",
        "\n",
        "#HyperParameter Tuning을 위한 라이브러리 로드\n",
        "from sklearn.model_selection import GridSearchCV\n",
        "from sklearn.model_selection import RandomizedSearchCV\n",
        "\n",
        "#모델 평가를 위한 라이브러리 로드\n",
        "from sklearn import metrics, model_selection\n",
        "from sklearn.model_selection import cross_validate\n",
        "from sklearn.metrics import classification_report, confusion_matrix, accuracy_score, roc_auc_score, roc_curve, auc\n",
        "\n",
        "#수학 & 통계 관련 라이브러리 로드\n",
        "import scipy.stats as st\n",
        "from collections import Counter\n",
        "import math\n",
        "\n",
        "#ignore warnings\n",
        "import warnings\n",
        "warnings.filterwarnings('ignore')\n",
        "\n",
        "#Visualization\n",
        "import seaborn as sns\n",
        "import matplotlib as mpl  # 기본 설정 만지는 용도\n",
        "import matplotlib.pyplot as plt  # 그래프 그리는 용도\n",
        "import matplotlib.font_manager as fm  # 폰트 관련 용도\n",
        "\n",
        "\n",
        "#Configure Visualization Defaults\n",
        "#%matplotlib inline = show plots in Jupyter Notebook browser\n",
        "%matplotlib inline\n",
        "mpl.style.use('ggplot')\n",
        "sns.set_style('white')"
      ],
      "execution_count": 2,
      "outputs": [
        {
          "output_type": "stream",
          "text": [
            "Using TensorFlow backend.\n"
          ],
          "name": "stderr"
        }
      ]
    },
    {
      "cell_type": "markdown",
      "metadata": {
        "id": "Gc4xxJHwDUw6",
        "colab_type": "text"
      },
      "source": [
        "### 1-1. 사용자 정의 함수"
      ]
    },
    {
      "cell_type": "code",
      "metadata": {
        "id": "ok8fBYYVDT3m",
        "colab_type": "code",
        "colab": {}
      },
      "source": [
        "# 1. AUC Graph 그리는 함수 선언\n",
        "\n",
        "def auc_graph(roc_auc, fpr, tpr):\n",
        "  plt.title('Receiver Operating Characteristic')\n",
        "  plt.plot(fpr, tpr, 'b', label = 'AUC = %0.2f' % roc_auc)\n",
        "  plt.legend(loc = 'lower right')\n",
        "  plt.plot([0, 1], [0, 1],'r--')\n",
        "  plt.xlim([0, 1])\n",
        "  plt.ylim([0, 1])\n",
        "  plt.ylabel('True Positive Rate')\n",
        "  plt.xlabel('False Positive Rate')\n",
        "  plt.show()\n",
        "\n",
        "# 2. Deep Learning 평가를 위한 평가 함수 정의\n",
        "from keras import backend as K\n",
        "\n",
        "def recall(y_target, y_pred):\n",
        "    y_target_yn = K.round(K.clip(y_target, 0, 1)) # 실제값을 0(Negative) 또는 1(Positive)로 설정\n",
        "    y_pred_yn = K.round(K.clip(y_pred, 0, 1)) # 예측값을 0(Negative) 또는 1(Positive)로 설정\n",
        "    count_true_positive = K.sum(y_target_yn * y_pred_yn) \n",
        "    count_true_positive_false_negative = K.sum(y_target_yn)\n",
        "    recall = count_true_positive / (count_true_positive_false_negative + K.epsilon()) # 'divide by zero error' 예방\n",
        "    return recall # return a single tensor value\n",
        "\n",
        "def precision(y_target, y_pred):\n",
        "    y_pred_yn = K.round(K.clip(y_pred, 0, 1)) # 예측값을 0(Negative) 또는 1(Positive)로 설정\n",
        "    y_target_yn = K.round(K.clip(y_target, 0, 1)) # 실제값을 0(Negative) 또는 1(Positive)로 설정\n",
        "    count_true_positive = K.sum(y_target_yn * y_pred_yn) \n",
        "    count_true_positive_false_positive = K.sum(y_pred_yn)\n",
        "    precision = count_true_positive / (count_true_positive_false_positive + K.epsilon()) \n",
        "    return precision\n",
        "\n",
        "def f1score(y_target, y_pred):\n",
        "    _recall = recall(y_target, y_pred)\n",
        "    _precision = precision(y_target, y_pred)\n",
        "    _f1score = ( 2 * _recall * _precision) / (_recall + _precision+ K.epsilon()) \n",
        "    return _f1score\n",
        "\n",
        "# 3. TEST SET 결과 출력 사용자 함수\n",
        "def result_summary(model, x, y):\n",
        "  pred_y = model.predict(x)\n",
        "  pred_y = (pred_y>0.5)\n",
        "  print(\"Accuracy: {:.4f}\".format(accuracy_score(y, pred_y)))\n",
        "  print(\"Confusion Matrix: \\n\", confusion_matrix(y, pred_y))\n",
        "  print(\"Classification Report Matrix: \\n\", classification_report(y, pred_y, digits=3))\n",
        "\n",
        "  roc_auc = roc_auc_score(y, pred_y)\n",
        "  print(\"roc_auc score is : {:.4f}\".format(roc_auc))\n",
        "\n",
        "  fpr, tpr, threshold = roc_curve(y, pred_y)\n",
        "  roc_auc = auc(fpr, tpr)\n",
        "\n",
        "  auc_graph(roc_auc, fpr, tpr)"
      ],
      "execution_count": 0,
      "outputs": []
    },
    {
      "cell_type": "markdown",
      "metadata": {
        "id": "kbVgUIo5nNxq",
        "colab_type": "text"
      },
      "source": [
        "## #2. 파일 Read 및 기초 탐색"
      ]
    },
    {
      "cell_type": "code",
      "metadata": {
        "id": "H5eXV_Q6AUZt",
        "colab_type": "code",
        "colab": {}
      },
      "source": [
        "set_random_seed = 2580 # Random Seed Setting"
      ],
      "execution_count": 0,
      "outputs": []
    },
    {
      "cell_type": "code",
      "metadata": {
        "id": "iF7GDYjb4kEi",
        "colab_type": "code",
        "outputId": "9ce0f5cf-53fb-4005-aed2-4d3f8a86ee91",
        "colab": {
          "base_uri": "https://localhost:8080/",
          "height": 665
        }
      },
      "source": [
        "set_random_seed = 2580 # seed 지정\n",
        "target_nm = 'dental_carries' # 타겟 변수 지정\n",
        "\n",
        "#### 2013년 기준 #########################################################################################################################################\n",
        "df_raw_2013 = pd.read_csv('../gdrive/My Drive/sds/data/NHIS_OPEN_GJ_2013_eng.csv', encoding = 'euc-kr')\n",
        "\n",
        "# 컬럼명 내 불필요한 공백 및 특수문자 제거\n",
        "df_raw_2013.rename(columns=lambda x: re.sub('[-=+,#/\\?:^$.@*\\\"※~&%ㆍ!』\\\\‘|\\(\\)\\[\\]\\<\\>`\\'…》 ]', '', x), inplace=True)\n",
        "\n",
        "# 구강검진 결과가 있는 데이터셋만 load\n",
        "df_data = df_raw_2013[df_raw_2013['examine_mouth']==1]\n",
        "\n",
        "# 분석과 관련 없는 변수 및 기타 점검이 어려운 치아 관련 변수 삭제 \n",
        "del_cols = ['baseyear', 'id', 'data_open_date','examine_mouth']\n",
        "df_data.drop(columns=del_cols, axis=1, inplace=True)\n",
        "\n",
        "# 치아우식증 결과가 있는 데이터만 끌고 옴\n",
        "df_data = df_data[~(df_data['dental_carries'].isnull()) & (df_data['dental_carries'] != 2)]\n",
        "\n",
        "# null 포함 데이터 모두 삭제 \n",
        "df_data.dropna(how='any', inplace=True)\n",
        "display(df_data.info())"
      ],
      "execution_count": 5,
      "outputs": [
        {
          "output_type": "stream",
          "text": [
            "<class 'pandas.core.frame.DataFrame'>\n",
            "Int64Index: 380657 entries, 3 to 999998\n",
            "Data columns (total 30 columns):\n",
            "sex                      380657 non-null int64\n",
            "ageband                  380657 non-null int64\n",
            "province                 380657 non-null int64\n",
            "height                   380657 non-null int64\n",
            "weight                   380657 non-null int64\n",
            "waist                    380657 non-null int64\n",
            "sight_l                  380657 non-null float64\n",
            "sight_r                  380657 non-null float64\n",
            "hearing_l                380657 non-null float64\n",
            "hearing_r                380657 non-null float64\n",
            "bp_systolic              380657 non-null int64\n",
            "bp_diastolic             380657 non-null int64\n",
            "bs_before                380657 non-null int64\n",
            "tot_cholesterol          380657 non-null int64\n",
            "triglycerides            380657 non-null int64\n",
            "HDL_cholesterol          380657 non-null int64\n",
            "LDL_cholesterol          380657 non-null float64\n",
            "hemoglobin               380657 non-null float64\n",
            "piu                      380657 non-null float64\n",
            "serum_creatinine         380657 non-null float64\n",
            "AST                      380657 non-null int64\n",
            "ALT                      380657 non-null int64\n",
            "GammaGTP                 380657 non-null int64\n",
            "smoking                  380657 non-null float64\n",
            "drinking                 380657 non-null float64\n",
            "dental_carries           380657 non-null float64\n",
            "missing_tooth            380657 non-null float64\n",
            "dental_abrasion          380657 non-null float64\n",
            "wisdom_teeth_abnormal    380657 non-null float64\n",
            "plaque                   380657 non-null float64\n",
            "dtypes: float64(15), int64(15)\n",
            "memory usage: 90.0 MB\n"
          ],
          "name": "stdout"
        },
        {
          "output_type": "display_data",
          "data": {
            "text/plain": [
              "None"
            ]
          },
          "metadata": {
            "tags": []
          }
        }
      ]
    },
    {
      "cell_type": "markdown",
      "metadata": {
        "id": "mJFp8kWCAeJL",
        "colab_type": "text"
      },
      "source": [
        "### #2-1. 데이터결합후 EDA(최종 결과에는 포함 안함 but 어떤 작업을 했다는 언급 시 필요할듯하여 적어놓음)\n",
        "1. 명목형 데이터의 분포 및 Target 변수와의 연관성\n",
        "2. 수치형 데이터의 분포\n",
        "3. 수치형 데이터 log 취한 이후의 분포\n",
        "\n",
        "\n",
        "- IV 산출 및 외부 변수 결합 이후\n",
        "4. 결합한 외부 변수들의 target 변수 정보 포함도\n",
        "5. 최종 모델 입력 전 변수끼리의 상관관계(다중 공선성 제거)"
      ]
    },
    {
      "cell_type": "markdown",
      "metadata": {
        "id": "U_MDmptRnZ6L",
        "colab_type": "text"
      },
      "source": [
        "## #3. 데이터샘플링 및 Wrangling"
      ]
    },
    {
      "cell_type": "code",
      "metadata": {
        "id": "0MZ5xdWHGf9H",
        "colab_type": "code",
        "outputId": "e6dd7412-cac5-4cc1-bf33-c70a692c81a9",
        "colab": {
          "base_uri": "https://localhost:8080/",
          "height": 71
        }
      },
      "source": [
        "# Data Wrangling을 위해 Dataframe 복사 생성\n",
        "df_sample = df_data.copy()\n",
        "print(df_sample[target_nm].value_counts())\n",
        "\n",
        "# 명목형 변수 변경\n",
        "category_features = ['sex', 'ageband', 'height', 'weight','province', 'hearing_l', 'hearing_r', 'smoking','drinking', 'piu', 'missing_tooth', 'dental_abrasion', 'wisdom_teeth_abnormal', 'plaque']\n",
        "\n",
        "for col in df_data.columns:\n",
        "  if col in category_features:\n",
        "    df_sample[col] = df_sample[col].astype(object)"
      ],
      "execution_count": 6,
      "outputs": [
        {
          "output_type": "stream",
          "text": [
            "0.0    288017\n",
            "1.0     92640\n",
            "Name: dental_carries, dtype: int64\n"
          ],
          "name": "stdout"
        }
      ]
    },
    {
      "cell_type": "markdown",
      "metadata": {
        "id": "goz6ZZALGr1E",
        "colab_type": "text"
      },
      "source": [
        "### 3-1. 내부 데이터 중 명목형 변수 범주화"
      ]
    },
    {
      "cell_type": "code",
      "metadata": {
        "id": "S6dYQMsQGf33",
        "colab_type": "code",
        "colab": {}
      },
      "source": [
        "# 명목형 변수의 범주화\n",
        "# 성별코드 변환\n",
        "df_sample[\"C_sex\"] = df_sample[\"sex\"].apply(lambda x:  'Male' if x == 1 else 'Female')\n",
        "\n",
        "# 연령대코드 5세 단위 변환\n",
        "min_age_code = df_sample[\"ageband\"].min()\n",
        "\n",
        "df_sample[\"C_ageband\"] = df_sample[\"ageband\"].apply(lambda x:  (x-1)*5 + 20 if min_age_code == 1 else (x-1)*5).astype(object)\n",
        "\n",
        "# 시도코드 변환\n",
        "df_sample[\"C_province\"] = np.where(df_sample['province'] == 11, 'Seoul', \n",
        "                            np.where(df_sample['province']== 26, 'Busan', \n",
        "                              np.where(df_sample['province'] == 27, 'Daegu', \n",
        "                                np.where(df_sample['province'] == 28, 'Incheon', \n",
        "                                  np.where(df_sample['province'] == 29, 'Kwangju', \n",
        "                                    np.where(df_sample['province'] == 30, 'Daejeon', \n",
        "                                      np.where(df_sample['province'] == 31, 'Ulsan', \n",
        "                                        np.where(df_sample['province'] == 36, 'Sejong', \n",
        "                                          np.where(df_sample['province'] == 41, 'Gyeonggi', \n",
        "                                            np.where(df_sample['province'] == 42, 'Gangwon', \n",
        "                                              np.where(df_sample['province'] == 43, 'Chungbuk', \n",
        "                                                np.where(df_sample['province'] == 44, 'Chungnam', \n",
        "                                                  np.where(df_sample['province'] == 45, 'Jeonbuk', \n",
        "                                                    np.where(df_sample['province'] == 46, 'Jeonnam', \n",
        "                                                      np.where(df_sample['province'] == 47, 'Gyungbuk', \n",
        "                                                        np.where(df_sample['province'] == 48, 'Gyungnam', \n",
        "                                                          np.where(df_sample['province'] == 49, 'Jeju', 'Err')\n",
        "                                      ))))))))))))))))\n",
        "\n",
        "# 청력좌  변환\n",
        "df_sample[\"C_hearing_l\"] = df_sample[\"hearing_l\"].apply(lambda x:  'Normal' if x == 1 else 'Abnormal')\n",
        "\n",
        "# 청력우  변환\n",
        "df_sample[\"C_hearing_r\"] = df_sample[\"hearing_r\"].apply(lambda x:  'Normal' if x == 1 else 'Abnormal')\n",
        "\n",
        "# 요단백  변환\n",
        "df_sample[\"C_piu\"] = df_sample[\"piu\"].apply(lambda x:  'Negative' if x == 1 else 'Positive')\n",
        "\n",
        "# 흡연상태  변환\n",
        "df_sample[\"C_smoking\"] = df_sample[\"smoking\"].apply(lambda x:  'NonSmoking' if x == 1 else ('StopSmoking' if x==2 else 'Smoking'))\n",
        "\n",
        "# 음주여부  변환\n",
        "df_sample[\"C_drinking\"] = df_sample[\"drinking\"].apply(lambda x:  'NonDrinking' if x == 0 else 'Drinking')\n",
        "\n",
        "# 결손치 여부  변환\n",
        "df_sample[\"C_missing_tooth\"] = df_sample[\"missing_tooth\"].apply(lambda x:  'Normal' if x == 0 else 'Abnormal')\n",
        "\n",
        "# 치석 여부  변환\n",
        "df_sample[\"C_dental_abrasion\"] = df_sample[\"dental_abrasion\"].apply(lambda x:  'Normal' if x == 0 else 'Abnormal')\n",
        "\n",
        "# 치석 여부  변환\n",
        "df_sample[\"C_wisdom_teeth_abnormal\"] = df_sample[\"wisdom_teeth_abnormal\"].apply(lambda x:  'Normal' if x == 0 else 'Abnormal')\n",
        "\n",
        "# 치석 여부  변환\n",
        "df_sample[\"C_plaque\"] = df_sample[\"plaque\"].apply(lambda x:  'Normal' if x == 0 else 'Abnormal')\n",
        "\n",
        "# 변환 명목형 원 컬럼 삭제\n",
        "del_obj_trans_cols = ['sex', 'ageband', 'province', 'hearing_l', 'hearing_r', 'piu', 'smoking', 'drinking', 'missing_tooth', 'dental_abrasion', 'wisdom_teeth_abnormal', 'plaque']\n",
        "df_sample.drop(columns=del_obj_trans_cols, axis=1, inplace=True)"
      ],
      "execution_count": 0,
      "outputs": []
    },
    {
      "cell_type": "code",
      "metadata": {
        "id": "ZvgxnBWjGf0V",
        "colab_type": "code",
        "colab": {}
      },
      "source": [
        "# # 내부 수치형 변수 구간화(작업 진행하였으나 실제 모델 성능에 좋은 Effect가 없어 삭제)\n",
        "# # BMI 변수 추가\n",
        "# df_sample[\"N_BMI\"] = (df_sample[\"weight\"]/(df_sample[\"height\"]*df_sample[\"height\"])).astype(float)\n",
        "\n",
        "# # 공복 혈당 \n",
        "# # 100 이하는 정상/ 100 ~ 125는 '공복혈당장애 - 당뇨 전단계'/ 125 이상은 당뇨\n",
        "# # 당뇨병의 중간인 100~125 mg/dL가 나오거나 \n",
        "\n",
        "# df_sample[\"N_diabetes\"] = np.where(df_sample['bs_before'].between(0, 100, inclusive=True), 'Normal', \n",
        "#                                np.where(df_sample['bs_before'].between(100, 124.9, inclusive=True), 'Prediabetes', \n",
        "#                                         'Diabetes')\n",
        "#                               )\n",
        "\n",
        "# # HDL 콜레스테롤\n",
        "# # HDL 콜레스테롤 수치가 남자에서 40 mg/dL (1.0 mmol/L) 이하 또는 여자에서 50 mg/dL (1.3 mmol/L) 이하일 경우에는 다른 위험인자와 독립적으로 심장 질환의 위험도가 증가\n",
        "# # HDL 콜레스테롤 수치가 남자에서 40-50 mg/dL (1.0-1.3 mmol/L) 그리고 여자에서 50-59 mg/dL (1.3-1.5 mmol/L)인 경우에는 심장 질환의 평균위험도와 연관\n",
        "# # 보통 HDL 콜레스테롤 수치가 60 mg/dL (1.55 mmol/L) 또는 그 이상일 경우에는 심장 질환 평균 위험도보다 낮음\n",
        "# # National Cholesterol Education Panel Adult Treatment Guidelines에 따르면 HDL 콜레스테롤 수치가 60 mg/dL 이상일 경우 심장 질환에서 보호되고 음성 위험 인자로서 치료되어야 함\n",
        "# df_sample[\"N_HDL\"] = np.where(\n",
        "#                     (df_sample['C_sex'] == \"Female\") & (df_sample['HDL_cholesterol']<= 50), 'HighRisk', \n",
        "#                        np.where(\n",
        "#                          (df_sample['C_sex']== \"Female\") & (df_sample['HDL_cholesterol'].between(50, 59.9, inclusive=True)), 'MediumRisk', \n",
        "#                            np.where(\n",
        "#                                (df_sample['C_sex']== \"Male\") & (df_sample['HDL_cholesterol']<= 40), 'HighRisk', \n",
        "#                                       np.where(\n",
        "#                                           (df_sample['C_sex']== \"Male\") & (df_sample['HDL_cholesterol'].between(40, 49.9, inclusive=True)), 'MediumRisk', 'Normal')\n",
        "#                           )))\n",
        "# # LDL 콜레스테롤(혈중 모든 콜레스테롤 중 LDL 콜레스테롤이 심장질환에 대한 위험도를 확인하는데 가장 중요한 지표)\n",
        "# # 대부분의 치료 결정이 LDL 수치를 토대로 이루어지기 때문에 이 검사를 통해 식이요법 또는 운동처방의 효과를 감시하거나 지질감소 약물을 처방하는 것이 유용한지에 대한 평가\n",
        "# # 100 mg/dL (2.59mmol/L) 미만 – 최적\n",
        "# # 100-129 mg/dL (2.59-3.34 mmol/L) – 최적에 인접\n",
        "# # 130-159 mg/dL (3.37-4.12 mmol/L) – 상한 경계성\n",
        "# # 160-189 mg/dL (4.15-4.90 mmol/L) – 높음\n",
        "# # 190 mg/dL (4.90 mmol) 이상 – 매우 높음\n",
        "# df_sample[\"N_LDL\"] = np.where(df_sample['LDL_cholesterol']<100, 'Good', \n",
        "#                     np.where(df_sample['LDL_cholesterol'].between(100, 122.9, inclusive=True), 'NearGood', \n",
        "#                              np.where(df_sample['LDL_cholesterol'].between(130, 159.9, inclusive=True), 'Upperbound', \n",
        "#                                       np.where(df_sample['LDL_cholesterol'].between(160, 189.9, inclusive=True), 'High', 'VeryHigh')\n",
        "#                               )))\n",
        "\n",
        "# # 트리글리세라이드\n",
        "# # 지방의 한 형태로서 몸의 주요 에너지원, 트리글리세라이드가 증가하는 것은, 이유가 분명하지 않으나 심혈관 질환으로 진행될 위험의 증가와 관련\n",
        "# # 일부 인자들 즉, 운동 부족, 과체중, 흡연, 과음 및 당뇨와 신질환 등의 질병 상태가 고트리글리세라이드혈증 및 심혈관 질환 위험도 증가에 기여할 수 있음\n",
        "# # 성인에서는 트리글리세라이드 결과가 아래와 같이 나뉘어진다.\n",
        "# # 150 mg/dL (1.7 mmol/L) 미만: 바람직\n",
        "# # 150-199 mg/dL (1.7-2.2 mmol/L): 경계성증가\n",
        "# # 200-499 mg/dL (2.3-5.6 mmol/L): 증가: \n",
        "# # 500 mg/dL (5.6 mmol/L) 이상: 매우 증가\n",
        "# # 이 수치는 공복시 트리글리세라이드 수치에 기준합니다.\n",
        "# df_sample[\"N_TRI\"] = np.where(df_sample['triglycerides']<150, 'Good', \n",
        "#                     np.where(df_sample['triglycerides'].between(150, 199.9, inclusive=True), 'Check', \n",
        "#                              np.where(df_sample['triglycerides'].between(200, 499.9, inclusive=True), 'Increased', 'VeryIncreased')\n",
        "#                               ))\n",
        "\n",
        "# # 혈색소\n",
        "# # 성인의 데시리터(100밀리리터) 당 12그램에서 18그램 정도: 정상치\n",
        "# # 18그램 이상: 폐질환 등 기타 이상\n",
        "# # 12그램 미만: 빈혈\n",
        "# df_sample[\"N_HEMO\"] = np.where(df_sample['hemoglobin'].between(12, 17.9, inclusive=True), 'Normal', \n",
        "#                     np.where(df_sample['hemoglobin']>=18, 'Abnormal', 'Anemia'))\n",
        "\n",
        "# # 요단백: 소변으로 빠져나가는 잉여의 단백질을 검출하기 위해, 신장 기증을 평가하고 모니터하는 것을 돕기 위해,  그리고 신장 손상을 검출하기 위해 검사\n",
        "# # 요단백은 보통 소변에서 검출 되지 않음\n",
        "\n",
        "# # 혈중 크레아티닌 농도의 \n",
        "# # 정상범위는 0.50~1.4 mg/dL 입니다\n",
        "# # 근육량에 비례하는 검사결과이므로 여성보다는 남성에게서 약간 높은 수치가 나타나고, 식사나 운동이 결과에 영향이 거의 미치지 않습니다. 지속적으로 많은 양의 육식을 섭취한 경우에는 크레아티닌 농도가 높게 측정됩니다.\n",
        "# df_sample[\"N_CRE\"] = np.where(df_sample['serum_creatinine'].between(0.5, 1.4, inclusive=True), 'Normal', 'Abnormal')\n",
        "\n",
        "# # 혈청지오티AST:\n",
        "# #  간기능을 평가하는 기초검사항목으로서 알코올성 간장애나 만성 간질환에서 주로 증가한다.\n",
        " \n",
        "\n",
        "# # 혈청지오티ALT:\n",
        "# # 간기능을 평가하는 기초검사항목으로서 급성 간염 시 주로 증가한다.\n",
        "# # 증가: 간질환, 심근경색, 지방간, 비만\n",
        "\n",
        "\n",
        "# # 감마지티피\n",
        "# # 간장세포나 담낭세포가 파괴되면 감마지티피가 혈액속으로 누출되어 수치가 높아짐\n",
        "# # 남자는 50IU 이하, 여자는 32IU이하가 정상\n",
        "# # 100이하면 음주 조절을 통해 조정 가능하나 100 이상이면 지방간이 진행되고 있을 가능성이 높음\n",
        "# # 200 이상이면 담석이나 담도암등으로 담도가 막혀있을 가능성이 높음\n",
        "# # 500 이상이면 황달\n",
        "# df_sample[\"N_GTP\"] = np.where((df_sample['GammaGTP'] >= 500), 'Jaundice', \n",
        "#                        np.where(df_sample['GammaGTP']>=200, 'Abnormal', \n",
        "#                            np.where(df_sample['GammaGTP']>= 100, 'PossibleAbnormal', \n",
        "#                              np.where((df_sample['C_sex']== \"Male\") & (df_sample['GammaGTP']<=50), 'Normal',\n",
        "#                               np.where((df_sample['C_sex']== \"Female\") & (df_sample['GammaGTP']<=32), 'Normal', 'Check')\n",
        "#                           ))))\n",
        "\n",
        "# # 변환 수치형 원 컬럼 삭제\n",
        "# del_num_trans_cols = ['bs_before', 'HDL_cholesterol', 'LDL_cholesterol', 'triglycerides', 'hemoglobin', 'serum_creatinine', 'GammaGTP']\n",
        "# df_sample.drop(columns=del_num_trans_cols, axis=1, inplace=True)"
      ],
      "execution_count": 0,
      "outputs": []
    },
    {
      "cell_type": "markdown",
      "metadata": {
        "id": "iUjJxG2RMxbf",
        "colab_type": "text"
      },
      "source": [
        "### 3-2. 내부 데이터 중 수치형 변수 Log화 (EDA 결과 좌측으로 분포가 쏠린 데이터 대상)"
      ]
    },
    {
      "cell_type": "code",
      "metadata": {
        "id": "tulaN0pQGfxz",
        "colab_type": "code",
        "colab": {}
      },
      "source": [
        "# 수치형 변수들 중 분포 이슈로 log 값을 취할 필요 있는 변수들 추출\n",
        "num_ln_target_features = ['sight_l', 'sight_r', 'AST','ALT', 'bs_before','serum_creatinine','GammaGTP','tot_cholesterol', 'triglycerides']\n",
        "\n",
        "# Feature Engineering의 일환으로 Log 값 취한 뒤 Normalization을 하여 변수명 + LN (lognorm)으로 열 추가 후 그래프 다시 그림\n",
        "num_ln_cols = list(map(lambda x: \"LN_\"+str(x), num_ln_target_features))\n",
        "\n",
        "num_pipeline = Pipeline([\n",
        "        ('log_scaler', FunctionTransformer(np.log1p, validate=True)), # pipeline 내 log transformation을 위해 Function Transfomer 사용\n",
        "        ('normalizer', MinMaxScaler()),\n",
        "    ])\n",
        "\n",
        "piped_np = num_pipeline.fit_transform(df_sample[num_ln_target_features])\n",
        "piped_df = pd.DataFrame(piped_np, columns=num_ln_cols)\n",
        "\n",
        "piped_df.head()\n",
        "\n",
        "df_sample.drop(columns=num_ln_target_features, axis=1, inplace=True)"
      ],
      "execution_count": 0,
      "outputs": []
    },
    {
      "cell_type": "code",
      "metadata": {
        "id": "KngWkam6Gfty",
        "colab_type": "code",
        "outputId": "3567e6ea-5b22-4906-df3b-921188d04dfa",
        "colab": {
          "base_uri": "https://localhost:8080/",
          "height": 260
        }
      },
      "source": [
        "# 기존 Dataframe과 Log 취한 변수들의 Dataframe을 합쳐줌\n",
        "print(\"Before Re-indexing: Data count is \", len(df_sample))\n",
        "df_sample.drop_duplicates()\n",
        "df_sample.reset_index(inplace=True, drop=True)\n",
        "print(\"After Re-indexing: Data count is \", len(df_sample))\n",
        "\n",
        "df_fe = pd.concat([df_sample, piped_df], axis=1)\n",
        "df_fe.head()"
      ],
      "execution_count": 10,
      "outputs": [
        {
          "output_type": "stream",
          "text": [
            "Before Re-indexing: Data count is  380657\n",
            "After Re-indexing: Data count is  380657\n"
          ],
          "name": "stdout"
        },
        {
          "output_type": "execute_result",
          "data": {
            "text/html": [
              "<div>\n",
              "<style scoped>\n",
              "    .dataframe tbody tr th:only-of-type {\n",
              "        vertical-align: middle;\n",
              "    }\n",
              "\n",
              "    .dataframe tbody tr th {\n",
              "        vertical-align: top;\n",
              "    }\n",
              "\n",
              "    .dataframe thead th {\n",
              "        text-align: right;\n",
              "    }\n",
              "</style>\n",
              "<table border=\"1\" class=\"dataframe\">\n",
              "  <thead>\n",
              "    <tr style=\"text-align: right;\">\n",
              "      <th></th>\n",
              "      <th>height</th>\n",
              "      <th>weight</th>\n",
              "      <th>waist</th>\n",
              "      <th>bp_systolic</th>\n",
              "      <th>bp_diastolic</th>\n",
              "      <th>HDL_cholesterol</th>\n",
              "      <th>LDL_cholesterol</th>\n",
              "      <th>hemoglobin</th>\n",
              "      <th>dental_carries</th>\n",
              "      <th>C_sex</th>\n",
              "      <th>C_ageband</th>\n",
              "      <th>C_province</th>\n",
              "      <th>C_hearing_l</th>\n",
              "      <th>C_hearing_r</th>\n",
              "      <th>C_piu</th>\n",
              "      <th>C_smoking</th>\n",
              "      <th>C_drinking</th>\n",
              "      <th>C_missing_tooth</th>\n",
              "      <th>C_dental_abrasion</th>\n",
              "      <th>C_wisdom_teeth_abnormal</th>\n",
              "      <th>C_plaque</th>\n",
              "      <th>LN_sight_l</th>\n",
              "      <th>LN_sight_r</th>\n",
              "      <th>LN_AST</th>\n",
              "      <th>LN_ALT</th>\n",
              "      <th>LN_bs_before</th>\n",
              "      <th>LN_serum_creatinine</th>\n",
              "      <th>LN_GammaGTP</th>\n",
              "      <th>LN_tot_cholesterol</th>\n",
              "      <th>LN_triglycerides</th>\n",
              "    </tr>\n",
              "  </thead>\n",
              "  <tbody>\n",
              "    <tr>\n",
              "      <th>0</th>\n",
              "      <td>145</td>\n",
              "      <td>40</td>\n",
              "      <td>62</td>\n",
              "      <td>110</td>\n",
              "      <td>70</td>\n",
              "      <td>87</td>\n",
              "      <td>110.0</td>\n",
              "      <td>12.4</td>\n",
              "      <td>1.0</td>\n",
              "      <td>Female</td>\n",
              "      <td>20</td>\n",
              "      <td>Chungbuk</td>\n",
              "      <td>Normal</td>\n",
              "      <td>Normal</td>\n",
              "      <td>Negative</td>\n",
              "      <td>NonSmoking</td>\n",
              "      <td>NonDrinking</td>\n",
              "      <td>Normal</td>\n",
              "      <td>Normal</td>\n",
              "      <td>Normal</td>\n",
              "      <td>Normal</td>\n",
              "      <td>0.260671</td>\n",
              "      <td>0.260671</td>\n",
              "      <td>0.324587</td>\n",
              "      <td>0.242257</td>\n",
              "      <td>0.273586</td>\n",
              "      <td>0.097408</td>\n",
              "      <td>0.393001</td>\n",
              "      <td>0.562271</td>\n",
              "      <td>0.524264</td>\n",
              "    </tr>\n",
              "    <tr>\n",
              "      <th>1</th>\n",
              "      <td>145</td>\n",
              "      <td>45</td>\n",
              "      <td>72</td>\n",
              "      <td>100</td>\n",
              "      <td>53</td>\n",
              "      <td>46</td>\n",
              "      <td>140.0</td>\n",
              "      <td>13.1</td>\n",
              "      <td>1.0</td>\n",
              "      <td>Female</td>\n",
              "      <td>20</td>\n",
              "      <td>Seoul</td>\n",
              "      <td>Normal</td>\n",
              "      <td>Normal</td>\n",
              "      <td>Negative</td>\n",
              "      <td>NonSmoking</td>\n",
              "      <td>Drinking</td>\n",
              "      <td>Normal</td>\n",
              "      <td>Normal</td>\n",
              "      <td>Normal</td>\n",
              "      <td>Abnormal</td>\n",
              "      <td>0.214731</td>\n",
              "      <td>0.037939</td>\n",
              "      <td>0.313473</td>\n",
              "      <td>0.301486</td>\n",
              "      <td>0.300466</td>\n",
              "      <td>0.110197</td>\n",
              "      <td>0.313119</td>\n",
              "      <td>0.560370</td>\n",
              "      <td>0.632675</td>\n",
              "    </tr>\n",
              "    <tr>\n",
              "      <th>2</th>\n",
              "      <td>145</td>\n",
              "      <td>60</td>\n",
              "      <td>81</td>\n",
              "      <td>119</td>\n",
              "      <td>79</td>\n",
              "      <td>55</td>\n",
              "      <td>1494.0</td>\n",
              "      <td>12.7</td>\n",
              "      <td>0.0</td>\n",
              "      <td>Female</td>\n",
              "      <td>20</td>\n",
              "      <td>Chungbuk</td>\n",
              "      <td>Normal</td>\n",
              "      <td>Normal</td>\n",
              "      <td>Negative</td>\n",
              "      <td>NonSmoking</td>\n",
              "      <td>NonDrinking</td>\n",
              "      <td>Normal</td>\n",
              "      <td>Normal</td>\n",
              "      <td>Normal</td>\n",
              "      <td>Normal</td>\n",
              "      <td>0.105152</td>\n",
              "      <td>0.214731</td>\n",
              "      <td>0.430787</td>\n",
              "      <td>0.469957</td>\n",
              "      <td>0.389152</td>\n",
              "      <td>0.083842</td>\n",
              "      <td>0.412729</td>\n",
              "      <td>0.578979</td>\n",
              "      <td>0.544586</td>\n",
              "    </tr>\n",
              "    <tr>\n",
              "      <th>3</th>\n",
              "      <td>150</td>\n",
              "      <td>40</td>\n",
              "      <td>61</td>\n",
              "      <td>132</td>\n",
              "      <td>88</td>\n",
              "      <td>83</td>\n",
              "      <td>33.0</td>\n",
              "      <td>13.7</td>\n",
              "      <td>0.0</td>\n",
              "      <td>Female</td>\n",
              "      <td>20</td>\n",
              "      <td>Gyungbuk</td>\n",
              "      <td>Normal</td>\n",
              "      <td>Normal</td>\n",
              "      <td>Negative</td>\n",
              "      <td>NonSmoking</td>\n",
              "      <td>NonDrinking</td>\n",
              "      <td>Normal</td>\n",
              "      <td>Normal</td>\n",
              "      <td>Normal</td>\n",
              "      <td>Abnormal</td>\n",
              "      <td>0.214731</td>\n",
              "      <td>0.214731</td>\n",
              "      <td>0.353958</td>\n",
              "      <td>0.301486</td>\n",
              "      <td>0.328540</td>\n",
              "      <td>0.122296</td>\n",
              "      <td>0.258977</td>\n",
              "      <td>0.364558</td>\n",
              "      <td>0.511384</td>\n",
              "    </tr>\n",
              "    <tr>\n",
              "      <th>4</th>\n",
              "      <td>150</td>\n",
              "      <td>40</td>\n",
              "      <td>61</td>\n",
              "      <td>95</td>\n",
              "      <td>65</td>\n",
              "      <td>56</td>\n",
              "      <td>83.0</td>\n",
              "      <td>12.4</td>\n",
              "      <td>0.0</td>\n",
              "      <td>Female</td>\n",
              "      <td>20</td>\n",
              "      <td>Gyeonggi</td>\n",
              "      <td>Normal</td>\n",
              "      <td>Normal</td>\n",
              "      <td>Negative</td>\n",
              "      <td>NonSmoking</td>\n",
              "      <td>NonDrinking</td>\n",
              "      <td>Normal</td>\n",
              "      <td>Normal</td>\n",
              "      <td>Normal</td>\n",
              "      <td>Abnormal</td>\n",
              "      <td>0.135235</td>\n",
              "      <td>0.135235</td>\n",
              "      <td>0.344750</td>\n",
              "      <td>0.362609</td>\n",
              "      <td>0.289235</td>\n",
              "      <td>0.083842</td>\n",
              "      <td>0.258977</td>\n",
              "      <td>0.438554</td>\n",
              "      <td>0.539037</td>\n",
              "    </tr>\n",
              "  </tbody>\n",
              "</table>\n",
              "</div>"
            ],
            "text/plain": [
              "  height weight  waist  ...  LN_GammaGTP  LN_tot_cholesterol  LN_triglycerides\n",
              "0    145     40     62  ...     0.393001            0.562271          0.524264\n",
              "1    145     45     72  ...     0.313119            0.560370          0.632675\n",
              "2    145     60     81  ...     0.412729            0.578979          0.544586\n",
              "3    150     40     61  ...     0.258977            0.364558          0.511384\n",
              "4    150     40     61  ...     0.258977            0.438554          0.539037\n",
              "\n",
              "[5 rows x 30 columns]"
            ]
          },
          "metadata": {
            "tags": []
          },
          "execution_count": 10
        }
      ]
    },
    {
      "cell_type": "markdown",
      "metadata": {
        "id": "0JISl_zApNFi",
        "colab_type": "text"
      },
      "source": [
        "## #4. 외부 데이터 결합"
      ]
    },
    {
      "cell_type": "code",
      "metadata": {
        "id": "38mpcw62dGqU",
        "colab_type": "code",
        "colab": {}
      },
      "source": [
        "df_add1 = pd.read_csv('../gdrive/My Drive/sds/data/DentalExamineResult_2014_PortionbyTotInspector.csv', encoding = 'euc-kr')\n",
        "df_add2 = pd.read_csv('../gdrive/My Drive/sds/data/KOSIS_AgeSex_AverageDentalVisitCnt_2012.csv', encoding = 'euc-kr')\n",
        "df_add3 = pd.read_csv('../gdrive/My Drive/sds/data/KOSIS_DentalPrevalenceTrend_2012.csv', encoding = 'euc-kr')\n",
        "df_add4 = pd.read_csv('../gdrive/My Drive/sds/data/chs_12_final_from_python.csv', encoding = 'euc-kr')\n",
        "\n",
        "# Multiple Key를 사용하여 Join\n",
        "# left_on=['column_name1','column_name2'], right_on = ['column_name3','column_name4']\n",
        "\n",
        "df_new = pd.merge(left=df_fe, right=df_add1, how='outer', left_on=['C_province','C_sex'], right_on = ['Province','Sex'], sort=False)\n",
        "df_new.drop(columns=['Province','Sex'], axis=1, inplace=True)\n",
        "\n",
        "df_new = pd.merge(left=df_new, right=df_add2, how='outer', left_on=['C_ageband','C_sex'], right_on = ['Ageband','Sex'], sort=False)\n",
        "df_new.drop(columns=['Ageband','Sex'], axis=1, inplace=True)\n",
        "\n",
        "df_new = pd.merge(left=df_new, right=df_add3, how='outer', left_on=['C_ageband','C_sex'], right_on = ['Ageband','Sex'], sort=False)\n",
        "df_new.drop(columns=['Ageband','Sex'], axis=1, inplace=True)\n",
        "\n",
        "df_new = pd.merge(left=df_new, right=df_add4, how='left', left_on=['C_ageband','C_sex','C_province', 'weight', 'height'], right_on = ['R_ageband','R_sex','R_province','R_weight','R_height'], sort=False)\n",
        "df_new.drop(columns=['R_ageband','R_sex','R_province','R_weight','R_height'], axis=1, inplace=True)\n",
        "\n",
        "# 외부변수와 매칭이 되지 않는 항목은 버림\n",
        "df_new.dropna(how='any', inplace=True)"
      ],
      "execution_count": 0,
      "outputs": []
    },
    {
      "cell_type": "markdown",
      "metadata": {
        "id": "sCTfk47DPQ6Z",
        "colab_type": "text"
      },
      "source": [
        "## #5. 모델 입력 데이터 Transform"
      ]
    },
    {
      "cell_type": "code",
      "metadata": {
        "id": "uTF8m28HGOeq",
        "colab_type": "code",
        "colab": {}
      },
      "source": [
        "# 치아우식 0과 1의 값을 5만건씩 총 10만건 추출\n",
        "df_new = df_new.groupby(target_nm).apply(lambda x: x.sample(n=50000, random_state=set_random_seed))\n",
        "df_new.reset_index(drop=True, inplace=True)"
      ],
      "execution_count": 0,
      "outputs": []
    },
    {
      "cell_type": "code",
      "metadata": {
        "id": "S0l5axLJQksv",
        "colab_type": "code",
        "colab": {}
      },
      "source": [
        "# # 변수 Selection을 위한 Information Value 값 산출(대부분의 변수가 Weak Predictor 보다 낮은 연결성을 갖고 있고 모델별로 Positive, Negative 효과가 섞여서 삭제)\n",
        "# # woe package install\n",
        "# ! pip install woe\n",
        "\n",
        "# # Define a binning function for continous independent variables\n",
        "# max_bin = 20\n",
        "# force_bin = 3\n",
        "\n",
        "# def mono_bin(Y, X, n = max_bin):\n",
        "#   df1 = pd.DataFrame({\"X\": X, \"Y\": Y})\n",
        "#   justmiss = df1[['X','Y']][df1.X.isnull()]\n",
        "#   notmiss = df1[['X','Y']][df1.X.notnull()]\n",
        "#   r = 0\n",
        "#   while np.abs(r) < 1:\n",
        "#     try:\n",
        "#       global d1\n",
        "#       global d2\n",
        "#       d1 = pd.DataFrame({\"X\": notmiss.X, \"Y\": notmiss.Y, \"Bucket\": pd.qcut(notmiss.X, n)})\n",
        "#       d2 = d1.groupby('Bucket', as_index=True)\n",
        "#       r, p = stats.spearmanr(d2.mean().X, d2.mean().Y)\n",
        "#       n = n - 1 \n",
        "#     except Exception as e:\n",
        "#       n = n - 1\n",
        "#       break\n",
        "      \n",
        "#   if len(d2) == 1:\n",
        "#     n = force_bin         \n",
        "#     bins = algos.quantile(notmiss.X, np.linspace(0, 1, n))\n",
        "#     if len(np.unique(bins)) == 2:\n",
        "#         bins = np.insert(bins, 0, 1)\n",
        "#         bins[1] = bins[1]-(bins[1]/2)\n",
        "#     d1 = pd.DataFrame({\"X\": notmiss.X, \"Y\": notmiss.Y, \"Bucket\": pd.cut(notmiss.X, np.unique(bins),include_lowest=True)}) \n",
        "#     d2 = d1.groupby('Bucket', as_index=True)\n",
        "\n",
        "#   d3 = pd.DataFrame({},index=[])\n",
        "#   d3[\"MIN_VALUE\"] = d2.min().X\n",
        "#   d3[\"MAX_VALUE\"] = d2.max().X\n",
        "#   d3[\"COUNT\"] = d2.count().Y\n",
        "#   d3[\"EVENT\"] = d2.sum().Y\n",
        "#   d3[\"NONEVENT\"] = d2.count().Y - d2.sum().Y\n",
        "#   d3=d3.reset_index(drop=True)\n",
        "\n",
        "#   if len(justmiss.index) > 0:\n",
        "#       d4 = pd.DataFrame({'MIN_VALUE':np.nan},index=[0])\n",
        "#       d4[\"MAX_VALUE\"] = np.nan\n",
        "#       d4[\"COUNT\"] = justmiss.count().Y\n",
        "#       d4[\"EVENT\"] = justmiss.sum().Y\n",
        "#       d4[\"NONEVENT\"] = justmiss.count().Y - justmiss.sum().Y\n",
        "#       d3 = d3.append(d4,ignore_index=True)\n",
        "\n",
        "#   d3[\"EVENT_RATE\"] = d3.EVENT/d3.COUNT\n",
        "#   d3[\"NON_EVENT_RATE\"] = d3.NONEVENT/d3.COUNT\n",
        "#   d3[\"DIST_EVENT\"] = d3.EVENT/d3.sum().EVENT\n",
        "#   d3[\"DIST_NON_EVENT\"] = d3.NONEVENT/d3.sum().NONEVENT\n",
        "#   d3[\"WOE\"] = np.log(d3.DIST_EVENT/d3.DIST_NON_EVENT)\n",
        "#   d3[\"IV\"] = (d3.DIST_EVENT-d3.DIST_NON_EVENT)*np.log(d3.DIST_EVENT/d3.DIST_NON_EVENT)\n",
        "#   d3[\"VAR_NAME\"] = \"VAR\"\n",
        "#   d3 = d3[['VAR_NAME','MIN_VALUE', 'MAX_VALUE', 'COUNT', 'EVENT', 'EVENT_RATE', 'NONEVENT', 'NON_EVENT_RATE', 'DIST_EVENT','DIST_NON_EVENT','WOE', 'IV']]       \n",
        "#   d3 = d3.replace([np.inf, -np.inf], 0)\n",
        "#   d3.IV = d3.IV.sum()\n",
        "\n",
        "#   return(d3)\n",
        "  \n",
        "# # Define a binning function for categorical independent variables\n",
        "# def char_bin(Y, X):\n",
        "#   df1 = pd.DataFrame({\"X\": X, \"Y\": Y})\n",
        "#   justmiss = df1[['X','Y']][df1.X.isnull()]\n",
        "#   notmiss = df1[['X','Y']][df1.X.notnull()]    \n",
        "#   df2 = notmiss.groupby('X',as_index=True)\n",
        "\n",
        "#   d3 = pd.DataFrame({},index=[])\n",
        "#   d3[\"COUNT\"] = df2.count().Y\n",
        "#   d3[\"MIN_VALUE\"] = df2.sum().Y.index\n",
        "#   d3[\"MAX_VALUE\"] = d3[\"MIN_VALUE\"]\n",
        "#   d3[\"EVENT\"] = df2.sum().Y\n",
        "#   d3[\"NONEVENT\"] = df2.count().Y - df2.sum().Y\n",
        "\n",
        "#   if len(justmiss.index) > 0:\n",
        "#     d4 = pd.DataFrame({'MIN_VALUE':np.nan},index=[0])\n",
        "#     d4[\"MAX_VALUE\"] = np.nan\n",
        "#     d4[\"COUNT\"] = justmiss.count().Y\n",
        "#     d4[\"EVENT\"] = justmiss.sum().Y\n",
        "#     d4[\"NONEVENT\"] = justmiss.count().Y - justmiss.sum().Y\n",
        "#     d3 = d3.append(d4,ignore_index=True)\n",
        "\n",
        "#   d3[\"EVENT_RATE\"] = d3.EVENT/d3.COUNT\n",
        "#   d3[\"NON_EVENT_RATE\"] = d3.NONEVENT/d3.COUNT\n",
        "#   d3[\"DIST_EVENT\"] = d3.EVENT/d3.sum().EVENT\n",
        "#   d3[\"DIST_NON_EVENT\"] = d3.NONEVENT/d3.sum().NONEVENT\n",
        "#   d3[\"WOE\"] = np.log(d3.DIST_EVENT/d3.DIST_NON_EVENT)\n",
        "#   d3[\"IV\"] = (d3.DIST_EVENT-d3.DIST_NON_EVENT)*np.log(d3.DIST_EVENT/d3.DIST_NON_EVENT)\n",
        "#   d3[\"VAR_NAME\"] = \"VAR\"\n",
        "#   d3 = d3[['VAR_NAME','MIN_VALUE', 'MAX_VALUE', 'COUNT', 'EVENT', 'EVENT_RATE', 'NONEVENT', 'NON_EVENT_RATE', 'DIST_EVENT','DIST_NON_EVENT','WOE', 'IV']]      \n",
        "#   d3 = d3.replace([np.inf, -np.inf], 0)\n",
        "#   d3.IV = d3.IV.sum()\n",
        "#   d3 = d3.reset_index(drop=True)\n",
        "\n",
        "#   return(d3)\n",
        "\n",
        "# # Calculate Information Values\n",
        "# def calc_iv_all(df1, target):\n",
        "    \n",
        "#   stack = traceback.extract_stack()\n",
        "#   filename, lineno, function_name, code = stack[-2]\n",
        "#   vars_name = re.compile(r'\\((.*?)\\).*$').search(code).groups()[0]\n",
        "#   final = (re.findall(r\"[\\w']+\", vars_name))[-1]\n",
        "\n",
        "#   x = df1.dtypes.index\n",
        "#   count = -1\n",
        "\n",
        "#   for i in tqdm_notebook(x):\n",
        "#     if i.upper() not in (final.upper()):\n",
        "#       if np.issubdtype(df1[i], np.number) and len(Series.unique(df1[i])) > 2:\n",
        "#         conv = mono_bin(target, df1[i])\n",
        "#         conv[\"VAR_NAME\"] = i\n",
        "#         count = count + 1\n",
        "#       else:\n",
        "#         conv = char_bin(target, df1[i])\n",
        "#         conv[\"VAR_NAME\"] = i            \n",
        "#         count = count + 1\n",
        "\n",
        "#       if count == 0:\n",
        "#         iv_df = conv\n",
        "#       else:\n",
        "#         iv_df = iv_df.append(conv,ignore_index=True)\n",
        "\n",
        "#   iv = pd.DataFrame({'IV':iv_df.groupby('VAR_NAME').IV.max()})\n",
        "#   iv = iv.reset_index()\n",
        "#   return(iv_df,iv)\n",
        "\n",
        "# # IV 산출\n",
        "# iv_df, IV_first = calc_iv_all(df_new,df_new[target_nm])\n",
        "\n",
        "# # IV 값 내림차순 정렬\n",
        "# IV_first.sort_values('IV',ascending=False)\n",
        "\n",
        "# IV_select_col = list(IV_first[IV_first['IV']>=0.015]['VAR_NAME'])\n",
        "\n",
        "# # 독립변수와 종속변수를 나눠 줌\n",
        "# # data_x = df_new[df_new.columns.difference([target_nm])]\n",
        "# data_x = df_new[IV_select_col]\n",
        "# data_y = df_new[target_nm].astype('float64')\n",
        "\n",
        "# # 데이터를 나눈 뒤 속성별로 컬럼을 분류\n",
        "# num_attribs = [col for col in data_x.columns if data_x[col].dtype in ['int64','float64']]\n",
        "# cat_attribs = [col for col in data_x.columns if data_x[col].dtype not in ['int64','float64']]\n",
        "\n",
        "# num_attribs = list(set(num_attribs) - set([target_nm]))"
      ],
      "execution_count": 0,
      "outputs": []
    },
    {
      "cell_type": "code",
      "metadata": {
        "id": "KlsFM5ipRZ-y",
        "colab_type": "code",
        "colab": {}
      },
      "source": [
        "# 독립변수와 종속변수를 나눠 줌\n",
        "data_x = df_new[df_new.columns.difference([target_nm])]\n",
        "data_y = df_new[target_nm].astype('float64')\n",
        "\n",
        "# 데이터를 나눈 뒤 속성별로 컬럼을 분류\n",
        "num_attribs = [col for col in data_x.columns if data_x[col].dtype in ['int64','float64']]\n",
        "cat_attribs = [col for col in data_x.columns if data_x[col].dtype not in ['int64','float64']]\n",
        "\n",
        "num_attribs = list(set(num_attribs) - set([target_nm]))"
      ],
      "execution_count": 0,
      "outputs": []
    },
    {
      "cell_type": "code",
      "metadata": {
        "id": "RASZ0Re11zdo",
        "colab_type": "code",
        "colab": {}
      },
      "source": [
        "# 명목형 변수들 LabelEncoding 실행\n",
        "# label = LabelEncoder()\n",
        "# for col in data_x[cat_attribs].columns:   \n",
        "#   data_x[col] = label.fit_transform(data_x[col])\n",
        "#   data_x = pd.get_dummies(data_x, columns =[col], prefix=col+\"_lb\")\n",
        "\n",
        "# 데이터를 나눈 뒤 속성별로 컬럼을 분류\n",
        "num_attribs = [col for col in data_x.columns if data_x[col].dtype in ['int64','float64']]\n",
        "cat_attribs = [col for col in data_x.columns if data_x[col].dtype not in ['int64','float64']]\n",
        "\n",
        "num_attribs = list(set(num_attribs) - set([target_nm]))\n",
        "\n",
        "# 수치형 변수 정규화 \n",
        "num_pipeline = Pipeline([\n",
        "        ('min_max_scaler', MinMaxScaler()),\n",
        "    ])\n",
        "\n",
        "# numpy 형식으로 전체 변경\n",
        "full_pipeline = ColumnTransformer([\n",
        "        (\"num_pipeline\", num_pipeline, num_attribs),\n",
        "        (\"cat_encoder\", OneHotEncoder(sparse=False), cat_attribs),\n",
        "    ])\n",
        "\n",
        "data_x_piped = full_pipeline.fit_transform(data_x)\n",
        "data_y_piped = data_y.values"
      ],
      "execution_count": 0,
      "outputs": []
    },
    {
      "cell_type": "code",
      "metadata": {
        "id": "xzzGCf_vP55l",
        "colab_type": "code",
        "colab": {}
      },
      "source": [
        "# 최종 Train & Test Set 분리\n",
        "from sklearn.model_selection import train_test_split\n",
        "train_x, test_x, train_y, test_y = train_test_split(data_x_piped, data_y_piped, test_size = 0.2, random_state = set_random_seed)"
      ],
      "execution_count": 0,
      "outputs": []
    },
    {
      "cell_type": "markdown",
      "metadata": {
        "id": "POnmMdC6Cr9m",
        "colab_type": "text"
      },
      "source": [
        "### #6. 모델 준비 및 결과 출력"
      ]
    },
    {
      "cell_type": "markdown",
      "metadata": {
        "id": "cOGpSK_LQIyh",
        "colab_type": "text"
      },
      "source": [
        "### 6-1. Deep Learning Model"
      ]
    },
    {
      "cell_type": "code",
      "metadata": {
        "id": "JAudw27Cuy-8",
        "colab_type": "code",
        "colab": {}
      },
      "source": [
        "# wrap the model using the function you created\n",
        "def create_model(modelnm='none', optimizer='sgd', activation = 'tanh', kernel_initializer='glorot_uniform', dropout=0.3, epochs=20, batch_size=128):\n",
        "    input_dim = train_x.shape[1]\n",
        "    model = Sequential()\n",
        "    # 첫 번째 Layer (Input layer)\n",
        "    model.add(Dense(input_dim=input_dim, kernel_initializer=kernel_initializer, output_dim=256))\n",
        "    model.add(BatchNormalization())\n",
        "    model.add(Activation(activation))\n",
        "    model.add(Dropout(dropout)) # 30% 정도를 Drop \n",
        "\n",
        "    # # 두 번째 Layer (Hidden layer 1)\n",
        "    model.add(Dense(output_dim=256, kernel_initializer=kernel_initializer))\n",
        "    model.add(BatchNormalization())\n",
        "    model.add(Activation(activation))\n",
        "    model.add(Dropout(dropout)) # 30% 정도를 Drop \n",
        "\n",
        "    # # 세 번째 Layer (Hidden layer 2)\n",
        "    model.add(Dense(output_dim=256, kernel_initializer=kernel_initializer))\n",
        "    model.add(BatchNormalization())\n",
        "    model.add(Activation(activation))\n",
        "    model.add(Dropout(dropout)) # 30% 정도를 Drop \n",
        "\n",
        "    # Dense Layer (Output layer)\n",
        "    model.add(Dense(output_dim=1))\n",
        "    model.add(Activation(\"sigmoid\"))\n",
        "\n",
        "    model.compile(loss='binary_crossentropy', optimizer=optimizer,  metrics=['accuracy', precision, recall, f1score])\n",
        "\n",
        "    return model"
      ],
      "execution_count": 0,
      "outputs": []
    },
    {
      "cell_type": "code",
      "metadata": {
        "id": "dXDFfiN54kEu",
        "colab_type": "code",
        "outputId": "0877f466-a419-45e1-b2d8-202b9771235d",
        "colab": {
          "base_uri": "https://localhost:8080/",
          "height": 1000
        }
      },
      "source": [
        "callbacks = [keras.callbacks.EarlyStopping(monitor='val_loss',\n",
        "                                            patience=20),\n",
        "              keras.callbacks.ModelCheckpoint(filepath='keras_classifier_1.h5',\n",
        "                                              monitor='val_loss',\n",
        "                                              save_best_only=True)]\n",
        "\n",
        "keras_clf1 = KerasClassifier(modelnm = 'kc1', build_fn = create_model, optimizer= 'sgd', activation = 'tanh', epochs=100, batch_size=128)\n",
        "keras_clf1.fit(train_x, train_y, validation_split=0.2, callbacks=callbacks)\n",
        "result_summary(keras_clf1, test_x, test_y)"
      ],
      "execution_count": 18,
      "outputs": [
        {
          "output_type": "stream",
          "text": [
            "WARNING:tensorflow:From /usr/local/lib/python3.6/dist-packages/keras/backend/tensorflow_backend.py:66: The name tf.get_default_graph is deprecated. Please use tf.compat.v1.get_default_graph instead.\n",
            "\n",
            "WARNING:tensorflow:From /usr/local/lib/python3.6/dist-packages/keras/backend/tensorflow_backend.py:541: The name tf.placeholder is deprecated. Please use tf.compat.v1.placeholder instead.\n",
            "\n",
            "WARNING:tensorflow:From /usr/local/lib/python3.6/dist-packages/keras/backend/tensorflow_backend.py:4432: The name tf.random_uniform is deprecated. Please use tf.random.uniform instead.\n",
            "\n",
            "WARNING:tensorflow:From /usr/local/lib/python3.6/dist-packages/keras/backend/tensorflow_backend.py:148: The name tf.placeholder_with_default is deprecated. Please use tf.compat.v1.placeholder_with_default instead.\n",
            "\n",
            "WARNING:tensorflow:From /usr/local/lib/python3.6/dist-packages/keras/backend/tensorflow_backend.py:3733: calling dropout (from tensorflow.python.ops.nn_ops) with keep_prob is deprecated and will be removed in a future version.\n",
            "Instructions for updating:\n",
            "Please use `rate` instead of `keep_prob`. Rate should be set to `rate = 1 - keep_prob`.\n",
            "WARNING:tensorflow:From /usr/local/lib/python3.6/dist-packages/keras/optimizers.py:793: The name tf.train.Optimizer is deprecated. Please use tf.compat.v1.train.Optimizer instead.\n",
            "\n",
            "WARNING:tensorflow:From /usr/local/lib/python3.6/dist-packages/keras/backend/tensorflow_backend.py:3657: The name tf.log is deprecated. Please use tf.math.log instead.\n",
            "\n",
            "WARNING:tensorflow:From /usr/local/lib/python3.6/dist-packages/tensorflow_core/python/ops/nn_impl.py:183: where (from tensorflow.python.ops.array_ops) is deprecated and will be removed in a future version.\n",
            "Instructions for updating:\n",
            "Use tf.where in 2.0, which has the same broadcast rule as np.where\n",
            "WARNING:tensorflow:From /usr/local/lib/python3.6/dist-packages/keras/backend/tensorflow_backend.py:1033: The name tf.assign_add is deprecated. Please use tf.compat.v1.assign_add instead.\n",
            "\n",
            "WARNING:tensorflow:From /usr/local/lib/python3.6/dist-packages/keras/backend/tensorflow_backend.py:1020: The name tf.assign is deprecated. Please use tf.compat.v1.assign instead.\n",
            "\n",
            "WARNING:tensorflow:From /usr/local/lib/python3.6/dist-packages/keras/backend/tensorflow_backend.py:3005: The name tf.Session is deprecated. Please use tf.compat.v1.Session instead.\n",
            "\n",
            "Train on 64000 samples, validate on 16000 samples\n",
            "Epoch 1/100\n",
            "WARNING:tensorflow:From /usr/local/lib/python3.6/dist-packages/keras/backend/tensorflow_backend.py:190: The name tf.get_default_session is deprecated. Please use tf.compat.v1.get_default_session instead.\n",
            "\n",
            "WARNING:tensorflow:From /usr/local/lib/python3.6/dist-packages/keras/backend/tensorflow_backend.py:197: The name tf.ConfigProto is deprecated. Please use tf.compat.v1.ConfigProto instead.\n",
            "\n",
            "WARNING:tensorflow:From /usr/local/lib/python3.6/dist-packages/keras/backend/tensorflow_backend.py:207: The name tf.global_variables is deprecated. Please use tf.compat.v1.global_variables instead.\n",
            "\n",
            "WARNING:tensorflow:From /usr/local/lib/python3.6/dist-packages/keras/backend/tensorflow_backend.py:216: The name tf.is_variable_initialized is deprecated. Please use tf.compat.v1.is_variable_initialized instead.\n",
            "\n",
            "WARNING:tensorflow:From /usr/local/lib/python3.6/dist-packages/keras/backend/tensorflow_backend.py:223: The name tf.variables_initializer is deprecated. Please use tf.compat.v1.variables_initializer instead.\n",
            "\n",
            "64000/64000 [==============================] - 8s 121us/step - loss: 0.6904 - acc: 0.5915 - precision: 0.5939 - recall: 0.5890 - f1score: 0.5896 - val_loss: 0.6414 - val_acc: 0.6406 - val_precision: 0.6488 - val_recall: 0.6150 - val_f1score: 0.6293\n",
            "Epoch 2/100\n",
            "64000/64000 [==============================] - 6s 98us/step - loss: 0.6644 - acc: 0.6084 - precision: 0.6105 - recall: 0.6084 - f1score: 0.6077 - val_loss: 0.6391 - val_acc: 0.6394 - val_precision: 0.6444 - val_recall: 0.6230 - val_f1score: 0.6315\n",
            "Epoch 3/100\n",
            "64000/64000 [==============================] - 6s 97us/step - loss: 0.6535 - acc: 0.6172 - precision: 0.6185 - recall: 0.6191 - f1score: 0.6172 - val_loss: 0.6384 - val_acc: 0.6421 - val_precision: 0.6466 - val_recall: 0.6273 - val_f1score: 0.6349\n",
            "Epoch 4/100\n",
            "64000/64000 [==============================] - 6s 96us/step - loss: 0.6489 - acc: 0.6230 - precision: 0.6250 - recall: 0.6239 - f1score: 0.6225 - val_loss: 0.6381 - val_acc: 0.6426 - val_precision: 0.6452 - val_recall: 0.6355 - val_f1score: 0.6384\n",
            "Epoch 5/100\n",
            "64000/64000 [==============================] - 6s 96us/step - loss: 0.6444 - acc: 0.6292 - precision: 0.6311 - recall: 0.6289 - f1score: 0.6284 - val_loss: 0.6386 - val_acc: 0.6419 - val_precision: 0.6477 - val_recall: 0.6232 - val_f1score: 0.6333\n",
            "Epoch 6/100\n",
            "64000/64000 [==============================] - 6s 97us/step - loss: 0.6439 - acc: 0.6287 - precision: 0.6312 - recall: 0.6268 - f1score: 0.6273 - val_loss: 0.6383 - val_acc: 0.6426 - val_precision: 0.6472 - val_recall: 0.6288 - val_f1score: 0.6359\n",
            "Epoch 7/100\n",
            "64000/64000 [==============================] - 6s 102us/step - loss: 0.6413 - acc: 0.6321 - precision: 0.6348 - recall: 0.6295 - f1score: 0.6305 - val_loss: 0.6370 - val_acc: 0.6432 - val_precision: 0.6476 - val_recall: 0.6298 - val_f1score: 0.6365\n",
            "Epoch 8/100\n",
            "64000/64000 [==============================] - 6s 98us/step - loss: 0.6397 - acc: 0.6333 - precision: 0.6355 - recall: 0.6323 - f1score: 0.6323 - val_loss: 0.6382 - val_acc: 0.6424 - val_precision: 0.6462 - val_recall: 0.6310 - val_f1score: 0.6367\n",
            "Epoch 9/100\n",
            "64000/64000 [==============================] - 6s 97us/step - loss: 0.6399 - acc: 0.6322 - precision: 0.6343 - recall: 0.6306 - f1score: 0.6308 - val_loss: 0.6374 - val_acc: 0.6436 - val_precision: 0.6482 - val_recall: 0.6298 - val_f1score: 0.6370\n",
            "Epoch 10/100\n",
            "64000/64000 [==============================] - 6s 98us/step - loss: 0.6400 - acc: 0.6326 - precision: 0.6362 - recall: 0.6263 - f1score: 0.6295 - val_loss: 0.6371 - val_acc: 0.6424 - val_precision: 0.6476 - val_recall: 0.6257 - val_f1score: 0.6346\n",
            "Epoch 11/100\n",
            "64000/64000 [==============================] - 6s 96us/step - loss: 0.6394 - acc: 0.6320 - precision: 0.6343 - recall: 0.6304 - f1score: 0.6308 - val_loss: 0.6374 - val_acc: 0.6452 - val_precision: 0.6494 - val_recall: 0.6327 - val_f1score: 0.6391\n",
            "Epoch 12/100\n",
            "64000/64000 [==============================] - 6s 96us/step - loss: 0.6392 - acc: 0.6344 - precision: 0.6379 - recall: 0.6295 - f1score: 0.6318 - val_loss: 0.6378 - val_acc: 0.6450 - val_precision: 0.6486 - val_recall: 0.6340 - val_f1score: 0.6394\n",
            "Epoch 13/100\n",
            "64000/64000 [==============================] - 6s 98us/step - loss: 0.6386 - acc: 0.6349 - precision: 0.6369 - recall: 0.6333 - f1score: 0.6336 - val_loss: 0.6365 - val_acc: 0.6441 - val_precision: 0.6477 - val_recall: 0.6334 - val_f1score: 0.6386\n",
            "Epoch 14/100\n",
            "64000/64000 [==============================] - 6s 96us/step - loss: 0.6390 - acc: 0.6347 - precision: 0.6376 - recall: 0.6314 - f1score: 0.6329 - val_loss: 0.6368 - val_acc: 0.6432 - val_precision: 0.6482 - val_recall: 0.6276 - val_f1score: 0.6359\n",
            "Epoch 15/100\n",
            "64000/64000 [==============================] - 6s 96us/step - loss: 0.6374 - acc: 0.6369 - precision: 0.6390 - recall: 0.6363 - f1score: 0.6358 - val_loss: 0.6376 - val_acc: 0.6448 - val_precision: 0.6500 - val_recall: 0.6287 - val_f1score: 0.6373\n",
            "Epoch 16/100\n",
            "64000/64000 [==============================] - 6s 95us/step - loss: 0.6378 - acc: 0.6352 - precision: 0.6373 - recall: 0.6339 - f1score: 0.6339 - val_loss: 0.6374 - val_acc: 0.6448 - val_precision: 0.6497 - val_recall: 0.6300 - val_f1score: 0.6378\n",
            "Epoch 17/100\n",
            "64000/64000 [==============================] - 6s 96us/step - loss: 0.6378 - acc: 0.6362 - precision: 0.6388 - recall: 0.6329 - f1score: 0.6342 - val_loss: 0.6375 - val_acc: 0.6434 - val_precision: 0.6492 - val_recall: 0.6251 - val_f1score: 0.6351\n",
            "Epoch 18/100\n",
            "64000/64000 [==============================] - 6s 95us/step - loss: 0.6375 - acc: 0.6376 - precision: 0.6398 - recall: 0.6359 - f1score: 0.6363 - val_loss: 0.6368 - val_acc: 0.6442 - val_precision: 0.6478 - val_recall: 0.6335 - val_f1score: 0.6388\n",
            "Epoch 19/100\n",
            "64000/64000 [==============================] - 6s 94us/step - loss: 0.6375 - acc: 0.6353 - precision: 0.6389 - recall: 0.6297 - f1score: 0.6326 - val_loss: 0.6369 - val_acc: 0.6452 - val_precision: 0.6489 - val_recall: 0.6336 - val_f1score: 0.6394\n",
            "Epoch 20/100\n",
            "64000/64000 [==============================] - 6s 97us/step - loss: 0.6370 - acc: 0.6369 - precision: 0.6395 - recall: 0.6339 - f1score: 0.6351 - val_loss: 0.6377 - val_acc: 0.6427 - val_precision: 0.6468 - val_recall: 0.6305 - val_f1score: 0.6367\n",
            "Epoch 21/100\n",
            "64000/64000 [==============================] - 6s 96us/step - loss: 0.6372 - acc: 0.6380 - precision: 0.6409 - recall: 0.6343 - f1score: 0.6358 - val_loss: 0.6371 - val_acc: 0.6448 - val_precision: 0.6479 - val_recall: 0.6354 - val_f1score: 0.6397\n",
            "Epoch 22/100\n",
            "64000/64000 [==============================] - 6s 98us/step - loss: 0.6365 - acc: 0.6372 - precision: 0.6395 - recall: 0.6354 - f1score: 0.6359 - val_loss: 0.6373 - val_acc: 0.6450 - val_precision: 0.6486 - val_recall: 0.6347 - val_f1score: 0.6397\n",
            "Epoch 23/100\n",
            "64000/64000 [==============================] - 6s 96us/step - loss: 0.6370 - acc: 0.6355 - precision: 0.6378 - recall: 0.6343 - f1score: 0.6342 - val_loss: 0.6382 - val_acc: 0.6450 - val_precision: 0.6505 - val_recall: 0.6281 - val_f1score: 0.6372\n",
            "Epoch 24/100\n",
            "64000/64000 [==============================] - 6s 98us/step - loss: 0.6378 - acc: 0.6360 - precision: 0.6398 - recall: 0.6294 - f1score: 0.6329 - val_loss: 0.6371 - val_acc: 0.6446 - val_precision: 0.6476 - val_recall: 0.6358 - val_f1score: 0.6398\n",
            "Epoch 25/100\n",
            "64000/64000 [==============================] - 6s 97us/step - loss: 0.6370 - acc: 0.6369 - precision: 0.6397 - recall: 0.6340 - f1score: 0.6352 - val_loss: 0.6380 - val_acc: 0.6436 - val_precision: 0.6494 - val_recall: 0.6256 - val_f1score: 0.6355\n",
            "Epoch 26/100\n",
            "64000/64000 [==============================] - 6s 96us/step - loss: 0.6364 - acc: 0.6362 - precision: 0.6394 - recall: 0.6312 - f1score: 0.6337 - val_loss: 0.6363 - val_acc: 0.6456 - val_precision: 0.6508 - val_recall: 0.6295 - val_f1score: 0.6381\n",
            "Epoch 27/100\n",
            "64000/64000 [==============================] - 6s 96us/step - loss: 0.6365 - acc: 0.6374 - precision: 0.6402 - recall: 0.6333 - f1score: 0.6351 - val_loss: 0.6371 - val_acc: 0.6461 - val_precision: 0.6491 - val_recall: 0.6379 - val_f1score: 0.6417\n",
            "Epoch 28/100\n",
            "64000/64000 [==============================] - 6s 95us/step - loss: 0.6362 - acc: 0.6372 - precision: 0.6401 - recall: 0.6327 - f1score: 0.6347 - val_loss: 0.6362 - val_acc: 0.6452 - val_precision: 0.6507 - val_recall: 0.6286 - val_f1score: 0.6376\n",
            "Epoch 29/100\n",
            "64000/64000 [==============================] - 6s 95us/step - loss: 0.6366 - acc: 0.6372 - precision: 0.6397 - recall: 0.6344 - f1score: 0.6354 - val_loss: 0.6360 - val_acc: 0.6442 - val_precision: 0.6483 - val_recall: 0.6319 - val_f1score: 0.6382\n",
            "Epoch 30/100\n",
            "64000/64000 [==============================] - 6s 97us/step - loss: 0.6357 - acc: 0.6377 - precision: 0.6407 - recall: 0.6329 - f1score: 0.6352 - val_loss: 0.6372 - val_acc: 0.6446 - val_precision: 0.6496 - val_recall: 0.6290 - val_f1score: 0.6374\n",
            "Epoch 31/100\n",
            "64000/64000 [==============================] - 6s 96us/step - loss: 0.6367 - acc: 0.6384 - precision: 0.6413 - recall: 0.6351 - f1score: 0.6366 - val_loss: 0.6374 - val_acc: 0.6444 - val_precision: 0.6481 - val_recall: 0.6334 - val_f1score: 0.6388\n",
            "Epoch 32/100\n",
            "64000/64000 [==============================] - 6s 97us/step - loss: 0.6356 - acc: 0.6387 - precision: 0.6419 - recall: 0.6334 - f1score: 0.6362 - val_loss: 0.6367 - val_acc: 0.6457 - val_precision: 0.6485 - val_recall: 0.6378 - val_f1score: 0.6412\n",
            "Epoch 33/100\n",
            "64000/64000 [==============================] - 6s 96us/step - loss: 0.6364 - acc: 0.6385 - precision: 0.6413 - recall: 0.6351 - f1score: 0.6366 - val_loss: 0.6376 - val_acc: 0.6457 - val_precision: 0.6493 - val_recall: 0.6357 - val_f1score: 0.6406\n",
            "Epoch 34/100\n",
            "64000/64000 [==============================] - 6s 96us/step - loss: 0.6359 - acc: 0.6381 - precision: 0.6410 - recall: 0.6343 - f1score: 0.6361 - val_loss: 0.6374 - val_acc: 0.6447 - val_precision: 0.6483 - val_recall: 0.6340 - val_f1score: 0.6393\n",
            "Epoch 35/100\n",
            "64000/64000 [==============================] - 6s 96us/step - loss: 0.6358 - acc: 0.6381 - precision: 0.6402 - recall: 0.6359 - f1score: 0.6365 - val_loss: 0.6355 - val_acc: 0.6436 - val_precision: 0.6474 - val_recall: 0.6319 - val_f1score: 0.6378\n",
            "Epoch 36/100\n",
            "64000/64000 [==============================] - 6s 96us/step - loss: 0.6348 - acc: 0.6407 - precision: 0.6440 - recall: 0.6359 - f1score: 0.6384 - val_loss: 0.6372 - val_acc: 0.6440 - val_precision: 0.6484 - val_recall: 0.6310 - val_f1score: 0.6378\n",
            "Epoch 37/100\n",
            "64000/64000 [==============================] - 6s 95us/step - loss: 0.6355 - acc: 0.6385 - precision: 0.6417 - recall: 0.6335 - f1score: 0.6360 - val_loss: 0.6373 - val_acc: 0.6443 - val_precision: 0.6477 - val_recall: 0.6340 - val_f1score: 0.6390\n",
            "Epoch 38/100\n",
            "64000/64000 [==============================] - 6s 97us/step - loss: 0.6353 - acc: 0.6393 - precision: 0.6429 - recall: 0.6340 - f1score: 0.6367 - val_loss: 0.6365 - val_acc: 0.6451 - val_precision: 0.6497 - val_recall: 0.6307 - val_f1score: 0.6382\n",
            "Epoch 39/100\n",
            "64000/64000 [==============================] - 6s 97us/step - loss: 0.6353 - acc: 0.6385 - precision: 0.6413 - recall: 0.6348 - f1score: 0.6365 - val_loss: 0.6363 - val_acc: 0.6454 - val_precision: 0.6488 - val_recall: 0.6355 - val_f1score: 0.6403\n",
            "Epoch 40/100\n",
            "64000/64000 [==============================] - 6s 96us/step - loss: 0.6352 - acc: 0.6378 - precision: 0.6403 - recall: 0.6353 - f1score: 0.6361 - val_loss: 0.6400 - val_acc: 0.6436 - val_precision: 0.6498 - val_recall: 0.6243 - val_f1score: 0.6350\n",
            "Epoch 41/100\n",
            "64000/64000 [==============================] - 6s 96us/step - loss: 0.6360 - acc: 0.6382 - precision: 0.6412 - recall: 0.6346 - f1score: 0.6362 - val_loss: 0.6369 - val_acc: 0.6440 - val_precision: 0.6488 - val_recall: 0.6295 - val_f1score: 0.6372\n",
            "Epoch 42/100\n",
            "64000/64000 [==============================] - 6s 97us/step - loss: 0.6353 - acc: 0.6385 - precision: 0.6408 - recall: 0.6359 - f1score: 0.6368 - val_loss: 0.6365 - val_acc: 0.6435 - val_precision: 0.6471 - val_recall: 0.6319 - val_f1score: 0.6375\n",
            "Epoch 43/100\n",
            "64000/64000 [==============================] - 6s 96us/step - loss: 0.6352 - acc: 0.6387 - precision: 0.6413 - recall: 0.6349 - f1score: 0.6367 - val_loss: 0.6361 - val_acc: 0.6454 - val_precision: 0.6503 - val_recall: 0.6307 - val_f1score: 0.6385\n",
            "Epoch 44/100\n",
            "64000/64000 [==============================] - 6s 94us/step - loss: 0.6352 - acc: 0.6385 - precision: 0.6418 - recall: 0.6342 - f1score: 0.6363 - val_loss: 0.6378 - val_acc: 0.6447 - val_precision: 0.6493 - val_recall: 0.6314 - val_f1score: 0.6383\n",
            "Epoch 45/100\n",
            "64000/64000 [==============================] - 6s 95us/step - loss: 0.6352 - acc: 0.6404 - precision: 0.6434 - recall: 0.6379 - f1score: 0.6391 - val_loss: 0.6377 - val_acc: 0.6448 - val_precision: 0.6511 - val_recall: 0.6259 - val_f1score: 0.6364\n",
            "Epoch 46/100\n",
            "64000/64000 [==============================] - 6s 97us/step - loss: 0.6351 - acc: 0.6378 - precision: 0.6403 - recall: 0.6358 - f1score: 0.6362 - val_loss: 0.6375 - val_acc: 0.6435 - val_precision: 0.6467 - val_recall: 0.6344 - val_f1score: 0.6386\n",
            "Epoch 47/100\n",
            "64000/64000 [==============================] - 6s 99us/step - loss: 0.6350 - acc: 0.6390 - precision: 0.6419 - recall: 0.6356 - f1score: 0.6370 - val_loss: 0.6373 - val_acc: 0.6434 - val_precision: 0.6467 - val_recall: 0.6339 - val_f1score: 0.6383\n",
            "Epoch 48/100\n",
            "64000/64000 [==============================] - 7s 103us/step - loss: 0.6348 - acc: 0.6386 - precision: 0.6409 - recall: 0.6370 - f1score: 0.6371 - val_loss: 0.6370 - val_acc: 0.6429 - val_precision: 0.6458 - val_recall: 0.6339 - val_f1score: 0.6380\n",
            "Epoch 49/100\n",
            "64000/64000 [==============================] - 6s 98us/step - loss: 0.6349 - acc: 0.6389 - precision: 0.6411 - recall: 0.6378 - f1score: 0.6378 - val_loss: 0.6377 - val_acc: 0.6426 - val_precision: 0.6463 - val_recall: 0.6305 - val_f1score: 0.6365\n",
            "Epoch 50/100\n",
            "64000/64000 [==============================] - 6s 98us/step - loss: 0.6350 - acc: 0.6392 - precision: 0.6420 - recall: 0.6353 - f1score: 0.6371 - val_loss: 0.6380 - val_acc: 0.6444 - val_precision: 0.6477 - val_recall: 0.6346 - val_f1score: 0.6393\n",
            "Epoch 51/100\n",
            "64000/64000 [==============================] - 6s 97us/step - loss: 0.6354 - acc: 0.6391 - precision: 0.6419 - recall: 0.6362 - f1score: 0.6372 - val_loss: 0.6367 - val_acc: 0.6447 - val_precision: 0.6487 - val_recall: 0.6323 - val_f1score: 0.6386\n",
            "Epoch 52/100\n",
            "64000/64000 [==============================] - 6s 97us/step - loss: 0.6347 - acc: 0.6394 - precision: 0.6426 - recall: 0.6346 - f1score: 0.6369 - val_loss: 0.6371 - val_acc: 0.6446 - val_precision: 0.6481 - val_recall: 0.6347 - val_f1score: 0.6395\n",
            "Epoch 53/100\n",
            "64000/64000 [==============================] - 6s 97us/step - loss: 0.6347 - acc: 0.6395 - precision: 0.6426 - recall: 0.6354 - f1score: 0.6373 - val_loss: 0.6363 - val_acc: 0.6439 - val_precision: 0.6479 - val_recall: 0.6315 - val_f1score: 0.6377\n",
            "Epoch 54/100\n",
            "64000/64000 [==============================] - 6s 97us/step - loss: 0.6350 - acc: 0.6399 - precision: 0.6428 - recall: 0.6365 - f1score: 0.6381 - val_loss: 0.6368 - val_acc: 0.6450 - val_precision: 0.6490 - val_recall: 0.6328 - val_f1score: 0.6390\n",
            "Epoch 55/100\n",
            "64000/64000 [==============================] - 6s 97us/step - loss: 0.6348 - acc: 0.6392 - precision: 0.6426 - recall: 0.6347 - f1score: 0.6370 - val_loss: 0.6361 - val_acc: 0.6453 - val_precision: 0.6478 - val_recall: 0.6387 - val_f1score: 0.6414\n",
            "Accuracy: 0.6446\n",
            "Confusion Matrix: \n",
            " [[6429 3651]\n",
            " [3456 6464]]\n",
            "Classification Report Matrix: \n",
            "               precision    recall  f1-score   support\n",
            "\n",
            "         0.0      0.650     0.638     0.644     10080\n",
            "         1.0      0.639     0.652     0.645      9920\n",
            "\n",
            "    accuracy                          0.645     20000\n",
            "   macro avg      0.645     0.645     0.645     20000\n",
            "weighted avg      0.645     0.645     0.645     20000\n",
            "\n",
            "roc_auc score is : 0.6447\n"
          ],
          "name": "stdout"
        },
        {
          "output_type": "display_data",
          "data": {
            "image/png": "[encoded data removed]",
            "text/plain": [
              "<Figure size 432x288 with 1 Axes>"
            ]
          },
          "metadata": {
            "tags": []
          }
        }
      ]
    },
    {
      "cell_type": "code",
      "metadata": {
        "id": "VHHLhUzucbIp",
        "colab_type": "code",
        "outputId": "d85fe337-ed84-48c9-d9d0-e7247279462b",
        "colab": {
          "base_uri": "https://localhost:8080/",
          "height": 569
        }
      },
      "source": [
        "kc1_best = keras.models.load_model('keras_classifier_1.h5', custom_objects={'precision': precision, 'recall':recall, 'f1score':f1score})\n",
        "result_summary(kc1_best, test_x, test_y)"
      ],
      "execution_count": 19,
      "outputs": [
        {
          "output_type": "stream",
          "text": [
            "Accuracy: 0.6458\n",
            "Confusion Matrix: \n",
            " [[6484 3596]\n",
            " [3489 6431]]\n",
            "Classification Report Matrix: \n",
            "               precision    recall  f1-score   support\n",
            "\n",
            "         0.0      0.650     0.643     0.647     10080\n",
            "         1.0      0.641     0.648     0.645      9920\n",
            "\n",
            "    accuracy                          0.646     20000\n",
            "   macro avg      0.646     0.646     0.646     20000\n",
            "weighted avg      0.646     0.646     0.646     20000\n",
            "\n",
            "roc_auc score is : 0.6458\n"
          ],
          "name": "stdout"
        },
        {
          "output_type": "display_data",
          "data": {
            "image/png": "[encoded data removed]",
            "text/plain": [
              "<Figure size 432x288 with 1 Axes>"
            ]
          },
          "metadata": {
            "tags": []
          }
        }
      ]
    },
    {
      "cell_type": "code",
      "metadata": {
        "id": "kshpVxc_pVml",
        "colab_type": "code",
        "outputId": "9b319842-9cf6-4d38-a09f-68dac4059054",
        "colab": {
          "base_uri": "https://localhost:8080/",
          "height": 1000
        }
      },
      "source": [
        "callbacks = [keras.callbacks.ModelCheckpoint(filepath='keras_classifier_2.h5',\n",
        "                                              monitor='val_loss',\n",
        "                                              save_best_only=True)]\n",
        "\n",
        "keras_clf2 = KerasClassifier(modelnm = 'kc2', build_fn = create_model, optimizer= 'sgd', activation = 'tanh', epochs=100, batch_size=128)\n",
        "keras_clf2.fit(train_x, train_y, validation_split=0.2, callbacks=callbacks)\n",
        "result_summary(keras_clf2, test_x, test_y)"
      ],
      "execution_count": 20,
      "outputs": [
        {
          "output_type": "stream",
          "text": [
            "Train on 64000 samples, validate on 16000 samples\n",
            "Epoch 1/100\n",
            "64000/64000 [==============================] - 8s 120us/step - loss: 0.6987 - acc: 0.5841 - precision: 0.5859 - recall: 0.5824 - f1score: 0.5826 - val_loss: 0.6430 - val_acc: 0.6356 - val_precision: 0.6398 - val_recall: 0.6234 - val_f1score: 0.6294\n",
            "Epoch 2/100\n",
            "64000/64000 [==============================] - 6s 100us/step - loss: 0.6619 - acc: 0.6113 - precision: 0.6127 - recall: 0.6129 - f1score: 0.6108 - val_loss: 0.6409 - val_acc: 0.6389 - val_precision: 0.6411 - val_recall: 0.6332 - val_f1score: 0.6351\n",
            "Epoch 3/100\n",
            "64000/64000 [==============================] - 6s 98us/step - loss: 0.6534 - acc: 0.6172 - precision: 0.6189 - recall: 0.6189 - f1score: 0.6171 - val_loss: 0.6397 - val_acc: 0.6406 - val_precision: 0.6455 - val_recall: 0.6256 - val_f1score: 0.6333\n",
            "Epoch 4/100\n",
            "64000/64000 [==============================] - 6s 101us/step - loss: 0.6489 - acc: 0.6234 - precision: 0.6251 - recall: 0.6226 - f1score: 0.6221 - val_loss: 0.6392 - val_acc: 0.6394 - val_precision: 0.6457 - val_recall: 0.6196 - val_f1score: 0.6303\n",
            "Epoch 5/100\n",
            "64000/64000 [==============================] - 6s 99us/step - loss: 0.6452 - acc: 0.6274 - precision: 0.6297 - recall: 0.6259 - f1score: 0.6261 - val_loss: 0.6389 - val_acc: 0.6407 - val_precision: 0.6452 - val_recall: 0.6275 - val_f1score: 0.6342\n",
            "Epoch 6/100\n",
            "64000/64000 [==============================] - 6s 98us/step - loss: 0.6429 - acc: 0.6299 - precision: 0.6312 - recall: 0.6323 - f1score: 0.6302 - val_loss: 0.6391 - val_acc: 0.6407 - val_precision: 0.6441 - val_recall: 0.6307 - val_f1score: 0.6354\n",
            "Epoch 7/100\n",
            "64000/64000 [==============================] - 6s 98us/step - loss: 0.6429 - acc: 0.6281 - precision: 0.6299 - recall: 0.6291 - f1score: 0.6278 - val_loss: 0.6384 - val_acc: 0.6414 - val_precision: 0.6447 - val_recall: 0.6314 - val_f1score: 0.6360\n",
            "Epoch 8/100\n",
            "64000/64000 [==============================] - 6s 99us/step - loss: 0.6411 - acc: 0.6311 - precision: 0.6334 - recall: 0.6293 - f1score: 0.6296 - val_loss: 0.6388 - val_acc: 0.6415 - val_precision: 0.6457 - val_recall: 0.6286 - val_f1score: 0.6351\n",
            "Epoch 9/100\n",
            "64000/64000 [==============================] - 6s 98us/step - loss: 0.6406 - acc: 0.6324 - precision: 0.6348 - recall: 0.6301 - f1score: 0.6309 - val_loss: 0.6381 - val_acc: 0.6423 - val_precision: 0.6454 - val_recall: 0.6328 - val_f1score: 0.6370\n",
            "Epoch 10/100\n",
            "64000/64000 [==============================] - 6s 97us/step - loss: 0.6407 - acc: 0.6320 - precision: 0.6331 - recall: 0.6355 - f1score: 0.6327 - val_loss: 0.6381 - val_acc: 0.6424 - val_precision: 0.6468 - val_recall: 0.6287 - val_f1score: 0.6357\n",
            "Epoch 11/100\n",
            "64000/64000 [==============================] - 6s 98us/step - loss: 0.6400 - acc: 0.6335 - precision: 0.6360 - recall: 0.6310 - f1score: 0.6318 - val_loss: 0.6388 - val_acc: 0.6428 - val_precision: 0.6458 - val_recall: 0.6339 - val_f1score: 0.6378\n",
            "Epoch 12/100\n",
            "64000/64000 [==============================] - 6s 97us/step - loss: 0.6384 - acc: 0.6346 - precision: 0.6370 - recall: 0.6331 - f1score: 0.6333 - val_loss: 0.6397 - val_acc: 0.6416 - val_precision: 0.6445 - val_recall: 0.6328 - val_f1score: 0.6367\n",
            "Epoch 13/100\n",
            "64000/64000 [==============================] - 6s 98us/step - loss: 0.6381 - acc: 0.6356 - precision: 0.6377 - recall: 0.6347 - f1score: 0.6344 - val_loss: 0.6388 - val_acc: 0.6429 - val_precision: 0.6472 - val_recall: 0.6295 - val_f1score: 0.6364\n",
            "Epoch 14/100\n",
            "64000/64000 [==============================] - 6s 96us/step - loss: 0.6385 - acc: 0.6365 - precision: 0.6382 - recall: 0.6365 - f1score: 0.6359 - val_loss: 0.6386 - val_acc: 0.6431 - val_precision: 0.6469 - val_recall: 0.6320 - val_f1score: 0.6373\n",
            "Epoch 15/100\n",
            "64000/64000 [==============================] - 6s 96us/step - loss: 0.6388 - acc: 0.6347 - precision: 0.6367 - recall: 0.6338 - f1score: 0.6336 - val_loss: 0.6397 - val_acc: 0.6434 - val_precision: 0.6489 - val_recall: 0.6263 - val_f1score: 0.6355\n",
            "Epoch 16/100\n",
            "64000/64000 [==============================] - 6s 97us/step - loss: 0.6383 - acc: 0.6362 - precision: 0.6391 - recall: 0.6321 - f1score: 0.6340 - val_loss: 0.6386 - val_acc: 0.6428 - val_precision: 0.6473 - val_recall: 0.6285 - val_f1score: 0.6359\n",
            "Epoch 17/100\n",
            "64000/64000 [==============================] - 6s 97us/step - loss: 0.6386 - acc: 0.6352 - precision: 0.6379 - recall: 0.6308 - f1score: 0.6328 - val_loss: 0.6380 - val_acc: 0.6422 - val_precision: 0.6473 - val_recall: 0.6259 - val_f1score: 0.6346\n",
            "Epoch 18/100\n",
            "64000/64000 [==============================] - 6s 98us/step - loss: 0.6376 - acc: 0.6370 - precision: 0.6403 - recall: 0.6319 - f1score: 0.6345 - val_loss: 0.6372 - val_acc: 0.6428 - val_precision: 0.6467 - val_recall: 0.6301 - val_f1score: 0.6364\n",
            "Epoch 19/100\n",
            "64000/64000 [==============================] - 6s 97us/step - loss: 0.6377 - acc: 0.6365 - precision: 0.6389 - recall: 0.6340 - f1score: 0.6349 - val_loss: 0.6380 - val_acc: 0.6433 - val_precision: 0.6454 - val_recall: 0.6363 - val_f1score: 0.6390\n",
            "Epoch 20/100\n",
            "64000/64000 [==============================] - 6s 98us/step - loss: 0.6373 - acc: 0.6373 - precision: 0.6389 - recall: 0.6378 - f1score: 0.6369 - val_loss: 0.6382 - val_acc: 0.6436 - val_precision: 0.6470 - val_recall: 0.6325 - val_f1score: 0.6379\n",
            "Epoch 21/100\n",
            "64000/64000 [==============================] - 6s 98us/step - loss: 0.6373 - acc: 0.6375 - precision: 0.6402 - recall: 0.6344 - f1score: 0.6356 - val_loss: 0.6377 - val_acc: 0.6441 - val_precision: 0.6473 - val_recall: 0.6348 - val_f1score: 0.6390\n",
            "Epoch 22/100\n",
            "64000/64000 [==============================] - 6s 99us/step - loss: 0.6371 - acc: 0.6370 - precision: 0.6400 - recall: 0.6322 - f1score: 0.6345 - val_loss: 0.6375 - val_acc: 0.6432 - val_precision: 0.6469 - val_recall: 0.6318 - val_f1score: 0.6374\n",
            "Epoch 23/100\n",
            "64000/64000 [==============================] - 6s 100us/step - loss: 0.6373 - acc: 0.6361 - precision: 0.6380 - recall: 0.6351 - f1score: 0.6350 - val_loss: 0.6380 - val_acc: 0.6445 - val_precision: 0.6473 - val_recall: 0.6359 - val_f1score: 0.6397\n",
            "Epoch 24/100\n",
            "64000/64000 [==============================] - 6s 94us/step - loss: 0.6366 - acc: 0.6382 - precision: 0.6417 - recall: 0.6335 - f1score: 0.6357 - val_loss: 0.6371 - val_acc: 0.6438 - val_precision: 0.6472 - val_recall: 0.6327 - val_f1score: 0.6381\n",
            "Epoch 25/100\n",
            "64000/64000 [==============================] - 6s 96us/step - loss: 0.6366 - acc: 0.6364 - precision: 0.6390 - recall: 0.6332 - f1score: 0.6346 - val_loss: 0.6381 - val_acc: 0.6436 - val_precision: 0.6480 - val_recall: 0.6283 - val_f1score: 0.6362\n",
            "Epoch 26/100\n",
            "64000/64000 [==============================] - 6s 95us/step - loss: 0.6370 - acc: 0.6352 - precision: 0.6376 - recall: 0.6343 - f1score: 0.6340 - val_loss: 0.6376 - val_acc: 0.6432 - val_precision: 0.6471 - val_recall: 0.6308 - val_f1score: 0.6371\n",
            "Epoch 27/100\n",
            "64000/64000 [==============================] - 6s 94us/step - loss: 0.6366 - acc: 0.6381 - precision: 0.6411 - recall: 0.6342 - f1score: 0.6361 - val_loss: 0.6374 - val_acc: 0.6438 - val_precision: 0.6477 - val_recall: 0.6310 - val_f1score: 0.6374\n",
            "Epoch 28/100\n",
            "64000/64000 [==============================] - 6s 93us/step - loss: 0.6359 - acc: 0.6372 - precision: 0.6395 - recall: 0.6357 - f1score: 0.6361 - val_loss: 0.6378 - val_acc: 0.6418 - val_precision: 0.6460 - val_recall: 0.6286 - val_f1score: 0.6354\n",
            "Epoch 29/100\n",
            "64000/64000 [==============================] - 6s 93us/step - loss: 0.6365 - acc: 0.6381 - precision: 0.6417 - recall: 0.6324 - f1score: 0.6354 - val_loss: 0.6383 - val_acc: 0.6453 - val_precision: 0.6490 - val_recall: 0.6338 - val_f1score: 0.6395\n",
            "Epoch 30/100\n",
            "64000/64000 [==============================] - 6s 94us/step - loss: 0.6364 - acc: 0.6374 - precision: 0.6401 - recall: 0.6355 - f1score: 0.6360 - val_loss: 0.6375 - val_acc: 0.6438 - val_precision: 0.6486 - val_recall: 0.6285 - val_f1score: 0.6365\n",
            "Epoch 31/100\n",
            "64000/64000 [==============================] - 6s 93us/step - loss: 0.6359 - acc: 0.6377 - precision: 0.6401 - recall: 0.6357 - f1score: 0.6363 - val_loss: 0.6378 - val_acc: 0.6430 - val_precision: 0.6471 - val_recall: 0.6302 - val_f1score: 0.6366\n",
            "Epoch 32/100\n",
            "64000/64000 [==============================] - 6s 93us/step - loss: 0.6362 - acc: 0.6380 - precision: 0.6402 - recall: 0.6368 - f1score: 0.6368 - val_loss: 0.6380 - val_acc: 0.6435 - val_precision: 0.6476 - val_recall: 0.6314 - val_f1score: 0.6376\n",
            "Epoch 33/100\n",
            "64000/64000 [==============================] - 6s 94us/step - loss: 0.6362 - acc: 0.6379 - precision: 0.6408 - recall: 0.6337 - f1score: 0.6356 - val_loss: 0.6392 - val_acc: 0.6429 - val_precision: 0.6475 - val_recall: 0.6282 - val_f1score: 0.6358\n",
            "Epoch 34/100\n",
            "64000/64000 [==============================] - 6s 93us/step - loss: 0.6358 - acc: 0.6387 - precision: 0.6410 - recall: 0.6372 - f1score: 0.6374 - val_loss: 0.6370 - val_acc: 0.6436 - val_precision: 0.6471 - val_recall: 0.6323 - val_f1score: 0.6378\n",
            "Epoch 35/100\n",
            "64000/64000 [==============================] - 6s 94us/step - loss: 0.6360 - acc: 0.6378 - precision: 0.6410 - recall: 0.6336 - f1score: 0.6355 - val_loss: 0.6377 - val_acc: 0.6446 - val_precision: 0.6473 - val_recall: 0.6358 - val_f1score: 0.6397\n",
            "Epoch 36/100\n",
            "64000/64000 [==============================] - 6s 94us/step - loss: 0.6360 - acc: 0.6382 - precision: 0.6408 - recall: 0.6360 - f1score: 0.6367 - val_loss: 0.6382 - val_acc: 0.6436 - val_precision: 0.6487 - val_recall: 0.6271 - val_f1score: 0.6359\n",
            "Epoch 37/100\n",
            "64000/64000 [==============================] - 6s 95us/step - loss: 0.6364 - acc: 0.6375 - precision: 0.6395 - recall: 0.6363 - f1score: 0.6362 - val_loss: 0.6378 - val_acc: 0.6447 - val_precision: 0.6488 - val_recall: 0.6321 - val_f1score: 0.6384\n",
            "Epoch 38/100\n",
            "64000/64000 [==============================] - 6s 94us/step - loss: 0.6359 - acc: 0.6387 - precision: 0.6407 - recall: 0.6386 - f1score: 0.6379 - val_loss: 0.6390 - val_acc: 0.6441 - val_precision: 0.6475 - val_recall: 0.6340 - val_f1score: 0.6388\n",
            "Epoch 39/100\n",
            "64000/64000 [==============================] - 6s 94us/step - loss: 0.6355 - acc: 0.6407 - precision: 0.6437 - recall: 0.6361 - f1score: 0.6382 - val_loss: 0.6377 - val_acc: 0.6420 - val_precision: 0.6464 - val_recall: 0.6280 - val_f1score: 0.6351\n",
            "Epoch 40/100\n",
            "64000/64000 [==============================] - 6s 95us/step - loss: 0.6363 - acc: 0.6383 - precision: 0.6406 - recall: 0.6371 - f1score: 0.6370 - val_loss: 0.6365 - val_acc: 0.6449 - val_precision: 0.6505 - val_recall: 0.6276 - val_f1score: 0.6370\n",
            "Epoch 41/100\n",
            "64000/64000 [==============================] - 6s 97us/step - loss: 0.6354 - acc: 0.6390 - precision: 0.6413 - recall: 0.6376 - f1score: 0.6378 - val_loss: 0.6376 - val_acc: 0.6445 - val_precision: 0.6483 - val_recall: 0.6322 - val_f1score: 0.6383\n",
            "Epoch 42/100\n",
            "64000/64000 [==============================] - 6s 102us/step - loss: 0.6356 - acc: 0.6386 - precision: 0.6412 - recall: 0.6363 - f1score: 0.6372 - val_loss: 0.6374 - val_acc: 0.6451 - val_precision: 0.6491 - val_recall: 0.6326 - val_f1score: 0.6389\n",
            "Epoch 43/100\n",
            "64000/64000 [==============================] - 6s 96us/step - loss: 0.6353 - acc: 0.6387 - precision: 0.6414 - recall: 0.6361 - f1score: 0.6371 - val_loss: 0.6377 - val_acc: 0.6446 - val_precision: 0.6483 - val_recall: 0.6332 - val_f1score: 0.6388\n",
            "Epoch 44/100\n",
            "64000/64000 [==============================] - 6s 93us/step - loss: 0.6355 - acc: 0.6387 - precision: 0.6411 - recall: 0.6367 - f1score: 0.6371 - val_loss: 0.6370 - val_acc: 0.6448 - val_precision: 0.6490 - val_recall: 0.6315 - val_f1score: 0.6383\n",
            "Epoch 45/100\n",
            "64000/64000 [==============================] - 6s 95us/step - loss: 0.6352 - acc: 0.6380 - precision: 0.6405 - recall: 0.6351 - f1score: 0.6363 - val_loss: 0.6371 - val_acc: 0.6437 - val_precision: 0.6485 - val_recall: 0.6280 - val_f1score: 0.6363\n",
            "Epoch 46/100\n",
            "64000/64000 [==============================] - 6s 96us/step - loss: 0.6349 - acc: 0.6401 - precision: 0.6433 - recall: 0.6354 - f1score: 0.6378 - val_loss: 0.6381 - val_acc: 0.6452 - val_precision: 0.6486 - val_recall: 0.6351 - val_f1score: 0.6399\n",
            "Epoch 47/100\n",
            "64000/64000 [==============================] - 6s 96us/step - loss: 0.6349 - acc: 0.6401 - precision: 0.6422 - recall: 0.6401 - f1score: 0.6394 - val_loss: 0.6368 - val_acc: 0.6459 - val_precision: 0.6505 - val_recall: 0.6315 - val_f1score: 0.6391\n",
            "Epoch 48/100\n",
            "64000/64000 [==============================] - 6s 99us/step - loss: 0.6343 - acc: 0.6401 - precision: 0.6425 - recall: 0.6375 - f1score: 0.6384 - val_loss: 0.6371 - val_acc: 0.6445 - val_precision: 0.6481 - val_recall: 0.6342 - val_f1score: 0.6391\n",
            "Epoch 49/100\n",
            "64000/64000 [==============================] - 6s 98us/step - loss: 0.6349 - acc: 0.6391 - precision: 0.6423 - recall: 0.6348 - f1score: 0.6369 - val_loss: 0.6393 - val_acc: 0.6442 - val_precision: 0.6484 - val_recall: 0.6314 - val_f1score: 0.6379\n",
            "Epoch 50/100\n",
            "64000/64000 [==============================] - 7s 103us/step - loss: 0.6349 - acc: 0.6400 - precision: 0.6429 - recall: 0.6362 - f1score: 0.6379 - val_loss: 0.6386 - val_acc: 0.6438 - val_precision: 0.6487 - val_recall: 0.6279 - val_f1score: 0.6363\n",
            "Epoch 51/100\n",
            "64000/64000 [==============================] - 6s 97us/step - loss: 0.6346 - acc: 0.6392 - precision: 0.6420 - recall: 0.6351 - f1score: 0.6370 - val_loss: 0.6388 - val_acc: 0.6451 - val_precision: 0.6492 - val_recall: 0.6324 - val_f1score: 0.6389\n",
            "Epoch 52/100\n",
            "64000/64000 [==============================] - 6s 97us/step - loss: 0.6349 - acc: 0.6390 - precision: 0.6416 - recall: 0.6358 - f1score: 0.6371 - val_loss: 0.6386 - val_acc: 0.6436 - val_precision: 0.6476 - val_recall: 0.6309 - val_f1score: 0.6372\n",
            "Epoch 53/100\n",
            "64000/64000 [==============================] - 6s 97us/step - loss: 0.6351 - acc: 0.6391 - precision: 0.6414 - recall: 0.6365 - f1score: 0.6374 - val_loss: 0.6374 - val_acc: 0.6449 - val_precision: 0.6495 - val_recall: 0.6310 - val_f1score: 0.6383\n",
            "Epoch 54/100\n",
            "64000/64000 [==============================] - 6s 98us/step - loss: 0.6347 - acc: 0.6392 - precision: 0.6428 - recall: 0.6337 - f1score: 0.6366 - val_loss: 0.6372 - val_acc: 0.6452 - val_precision: 0.6492 - val_recall: 0.6328 - val_f1score: 0.6390\n",
            "Epoch 55/100\n",
            "64000/64000 [==============================] - 6s 97us/step - loss: 0.6343 - acc: 0.6386 - precision: 0.6413 - recall: 0.6360 - f1score: 0.6371 - val_loss: 0.6391 - val_acc: 0.6438 - val_precision: 0.6489 - val_recall: 0.6274 - val_f1score: 0.6361\n",
            "Epoch 56/100\n",
            "64000/64000 [==============================] - 6s 96us/step - loss: 0.6347 - acc: 0.6394 - precision: 0.6418 - recall: 0.6367 - f1score: 0.6376 - val_loss: 0.6384 - val_acc: 0.6447 - val_precision: 0.6487 - val_recall: 0.6325 - val_f1score: 0.6386\n",
            "Epoch 57/100\n",
            "64000/64000 [==============================] - 6s 96us/step - loss: 0.6348 - acc: 0.6381 - precision: 0.6401 - recall: 0.6368 - f1score: 0.6369 - val_loss: 0.6366 - val_acc: 0.6445 - val_precision: 0.6490 - val_recall: 0.6303 - val_f1score: 0.6377\n",
            "Epoch 58/100\n",
            "64000/64000 [==============================] - 6s 96us/step - loss: 0.6351 - acc: 0.6396 - precision: 0.6423 - recall: 0.6360 - f1score: 0.6376 - val_loss: 0.6375 - val_acc: 0.6434 - val_precision: 0.6472 - val_recall: 0.6317 - val_f1score: 0.6374\n",
            "Epoch 59/100\n",
            "64000/64000 [==============================] - 6s 95us/step - loss: 0.6343 - acc: 0.6385 - precision: 0.6420 - recall: 0.6339 - f1score: 0.6363 - val_loss: 0.6379 - val_acc: 0.6440 - val_precision: 0.6468 - val_recall: 0.6364 - val_f1score: 0.6396\n",
            "Epoch 60/100\n",
            "64000/64000 [==============================] - 6s 94us/step - loss: 0.6343 - acc: 0.6388 - precision: 0.6411 - recall: 0.6381 - f1score: 0.6379 - val_loss: 0.6391 - val_acc: 0.6442 - val_precision: 0.6480 - val_recall: 0.6332 - val_f1score: 0.6386\n",
            "Epoch 61/100\n",
            "64000/64000 [==============================] - 6s 95us/step - loss: 0.6349 - acc: 0.6393 - precision: 0.6423 - recall: 0.6354 - f1score: 0.6373 - val_loss: 0.6372 - val_acc: 0.6444 - val_precision: 0.6494 - val_recall: 0.6294 - val_f1score: 0.6373\n",
            "Epoch 62/100\n",
            "64000/64000 [==============================] - 6s 93us/step - loss: 0.6342 - acc: 0.6418 - precision: 0.6444 - recall: 0.6394 - f1score: 0.6403 - val_loss: 0.6397 - val_acc: 0.6451 - val_precision: 0.6482 - val_recall: 0.6359 - val_f1score: 0.6401\n",
            "Epoch 63/100\n",
            "64000/64000 [==============================] - 6s 95us/step - loss: 0.6340 - acc: 0.6395 - precision: 0.6428 - recall: 0.6336 - f1score: 0.6366 - val_loss: 0.6374 - val_acc: 0.6434 - val_precision: 0.6476 - val_recall: 0.6297 - val_f1score: 0.6366\n",
            "Epoch 64/100\n",
            "64000/64000 [==============================] - 6s 95us/step - loss: 0.6343 - acc: 0.6403 - precision: 0.6428 - recall: 0.6382 - f1score: 0.6390 - val_loss: 0.6373 - val_acc: 0.6441 - val_precision: 0.6480 - val_recall: 0.6323 - val_f1score: 0.6382\n",
            "Epoch 65/100\n",
            "64000/64000 [==============================] - 6s 95us/step - loss: 0.6339 - acc: 0.6411 - precision: 0.6435 - recall: 0.6391 - f1score: 0.6396 - val_loss: 0.6376 - val_acc: 0.6442 - val_precision: 0.6488 - val_recall: 0.6304 - val_f1score: 0.6377\n",
            "Epoch 66/100\n",
            "64000/64000 [==============================] - 6s 95us/step - loss: 0.6339 - acc: 0.6403 - precision: 0.6431 - recall: 0.6372 - f1score: 0.6385 - val_loss: 0.6379 - val_acc: 0.6456 - val_precision: 0.6474 - val_recall: 0.6404 - val_f1score: 0.6420\n",
            "Epoch 67/100\n",
            "64000/64000 [==============================] - 6s 96us/step - loss: 0.6348 - acc: 0.6398 - precision: 0.6425 - recall: 0.6370 - f1score: 0.6381 - val_loss: 0.6375 - val_acc: 0.6446 - val_precision: 0.6477 - val_recall: 0.6351 - val_f1score: 0.6395\n",
            "Epoch 68/100\n",
            "64000/64000 [==============================] - 6s 94us/step - loss: 0.6336 - acc: 0.6412 - precision: 0.6437 - recall: 0.6388 - f1score: 0.6396 - val_loss: 0.6368 - val_acc: 0.6449 - val_precision: 0.6496 - val_recall: 0.6303 - val_f1score: 0.6379\n",
            "Epoch 69/100\n",
            "64000/64000 [==============================] - 6s 95us/step - loss: 0.6340 - acc: 0.6400 - precision: 0.6426 - recall: 0.6375 - f1score: 0.6384 - val_loss: 0.6369 - val_acc: 0.6448 - val_precision: 0.6493 - val_recall: 0.6309 - val_f1score: 0.6381\n",
            "Epoch 70/100\n",
            "64000/64000 [==============================] - 6s 93us/step - loss: 0.6336 - acc: 0.6403 - precision: 0.6432 - recall: 0.6375 - f1score: 0.6387 - val_loss: 0.6373 - val_acc: 0.6433 - val_precision: 0.6467 - val_recall: 0.6332 - val_f1score: 0.6379\n",
            "Epoch 71/100\n",
            "64000/64000 [==============================] - 6s 94us/step - loss: 0.6334 - acc: 0.6413 - precision: 0.6437 - recall: 0.6388 - f1score: 0.6399 - val_loss: 0.6374 - val_acc: 0.6452 - val_precision: 0.6492 - val_recall: 0.6328 - val_f1score: 0.6391\n",
            "Epoch 72/100\n",
            "64000/64000 [==============================] - 6s 94us/step - loss: 0.6345 - acc: 0.6402 - precision: 0.6427 - recall: 0.6386 - f1score: 0.6389 - val_loss: 0.6379 - val_acc: 0.6451 - val_precision: 0.6484 - val_recall: 0.6355 - val_f1score: 0.6400\n",
            "Epoch 73/100\n",
            "64000/64000 [==============================] - 6s 94us/step - loss: 0.6340 - acc: 0.6407 - precision: 0.6438 - recall: 0.6367 - f1score: 0.6385 - val_loss: 0.6368 - val_acc: 0.6455 - val_precision: 0.6490 - val_recall: 0.6345 - val_f1score: 0.6399\n",
            "Epoch 74/100\n",
            "64000/64000 [==============================] - 6s 96us/step - loss: 0.6336 - acc: 0.6400 - precision: 0.6423 - recall: 0.6389 - f1score: 0.6389 - val_loss: 0.6374 - val_acc: 0.6444 - val_precision: 0.6493 - val_recall: 0.6299 - val_f1score: 0.6375\n",
            "Epoch 75/100\n",
            "64000/64000 [==============================] - 6s 97us/step - loss: 0.6331 - acc: 0.6420 - precision: 0.6442 - recall: 0.6397 - f1score: 0.6403 - val_loss: 0.6387 - val_acc: 0.6441 - val_precision: 0.6485 - val_recall: 0.6310 - val_f1score: 0.6377\n",
            "Epoch 76/100\n",
            "64000/64000 [==============================] - 6s 95us/step - loss: 0.6340 - acc: 0.6392 - precision: 0.6422 - recall: 0.6358 - f1score: 0.6373 - val_loss: 0.6383 - val_acc: 0.6447 - val_precision: 0.6472 - val_recall: 0.6374 - val_f1score: 0.6404\n",
            "Epoch 77/100\n",
            "64000/64000 [==============================] - 6s 96us/step - loss: 0.6335 - acc: 0.6407 - precision: 0.6420 - recall: 0.6417 - f1score: 0.6403 - val_loss: 0.6380 - val_acc: 0.6454 - val_precision: 0.6498 - val_recall: 0.6311 - val_f1score: 0.6385\n",
            "Epoch 78/100\n",
            "64000/64000 [==============================] - 6s 95us/step - loss: 0.6340 - acc: 0.6393 - precision: 0.6423 - recall: 0.6360 - f1score: 0.6376 - val_loss: 0.6366 - val_acc: 0.6446 - val_precision: 0.6469 - val_recall: 0.6384 - val_f1score: 0.6408\n",
            "Epoch 79/100\n",
            "64000/64000 [==============================] - 6s 97us/step - loss: 0.6332 - acc: 0.6418 - precision: 0.6444 - recall: 0.6403 - f1score: 0.6406 - val_loss: 0.6378 - val_acc: 0.6434 - val_precision: 0.6476 - val_recall: 0.6304 - val_f1score: 0.6369\n",
            "Epoch 80/100\n",
            "64000/64000 [==============================] - 6s 97us/step - loss: 0.6329 - acc: 0.6402 - precision: 0.6432 - recall: 0.6356 - f1score: 0.6376 - val_loss: 0.6381 - val_acc: 0.6443 - val_precision: 0.6476 - val_recall: 0.6350 - val_f1score: 0.6394\n",
            "Epoch 81/100\n",
            "64000/64000 [==============================] - 6s 97us/step - loss: 0.6335 - acc: 0.6400 - precision: 0.6427 - recall: 0.6370 - f1score: 0.6382 - val_loss: 0.6371 - val_acc: 0.6443 - val_precision: 0.6477 - val_recall: 0.6338 - val_f1score: 0.6388\n",
            "Epoch 82/100\n",
            "64000/64000 [==============================] - 6s 97us/step - loss: 0.6333 - acc: 0.6410 - precision: 0.6433 - recall: 0.6394 - f1score: 0.6398 - val_loss: 0.6374 - val_acc: 0.6441 - val_precision: 0.6483 - val_recall: 0.6309 - val_f1score: 0.6376\n",
            "Epoch 83/100\n",
            "64000/64000 [==============================] - 6s 97us/step - loss: 0.6335 - acc: 0.6401 - precision: 0.6425 - recall: 0.6373 - f1score: 0.6385 - val_loss: 0.6372 - val_acc: 0.6450 - val_precision: 0.6491 - val_recall: 0.6332 - val_f1score: 0.6391\n",
            "Epoch 84/100\n",
            "64000/64000 [==============================] - 6s 98us/step - loss: 0.6333 - acc: 0.6413 - precision: 0.6438 - recall: 0.6387 - f1score: 0.6398 - val_loss: 0.6367 - val_acc: 0.6449 - val_precision: 0.6499 - val_recall: 0.6295 - val_f1score: 0.6377\n",
            "Epoch 85/100\n",
            "64000/64000 [==============================] - 6s 96us/step - loss: 0.6331 - acc: 0.6407 - precision: 0.6434 - recall: 0.6383 - f1score: 0.6392 - val_loss: 0.6379 - val_acc: 0.6435 - val_precision: 0.6474 - val_recall: 0.6313 - val_f1score: 0.6374\n",
            "Epoch 86/100\n",
            "64000/64000 [==============================] - 6s 97us/step - loss: 0.6329 - acc: 0.6404 - precision: 0.6434 - recall: 0.6367 - f1score: 0.6384 - val_loss: 0.6377 - val_acc: 0.6432 - val_precision: 0.6460 - val_recall: 0.6344 - val_f1score: 0.6384\n",
            "Epoch 87/100\n",
            "64000/64000 [==============================] - 6s 97us/step - loss: 0.6323 - acc: 0.6411 - precision: 0.6441 - recall: 0.6375 - f1score: 0.6392 - val_loss: 0.6373 - val_acc: 0.6438 - val_precision: 0.6464 - val_recall: 0.6357 - val_f1score: 0.6392\n",
            "Epoch 88/100\n",
            "64000/64000 [==============================] - 6s 98us/step - loss: 0.6326 - acc: 0.6413 - precision: 0.6442 - recall: 0.6378 - f1score: 0.6394 - val_loss: 0.6400 - val_acc: 0.6419 - val_precision: 0.6461 - val_recall: 0.6288 - val_f1score: 0.6354\n",
            "Epoch 89/100\n",
            "64000/64000 [==============================] - 6s 95us/step - loss: 0.6329 - acc: 0.6425 - precision: 0.6450 - recall: 0.6406 - f1score: 0.6412 - val_loss: 0.6360 - val_acc: 0.6424 - val_precision: 0.6468 - val_recall: 0.6281 - val_f1score: 0.6355\n",
            "Epoch 90/100\n",
            "64000/64000 [==============================] - 6s 96us/step - loss: 0.6333 - acc: 0.6411 - precision: 0.6432 - recall: 0.6404 - f1score: 0.6402 - val_loss: 0.6368 - val_acc: 0.6433 - val_precision: 0.6469 - val_recall: 0.6327 - val_f1score: 0.6378\n",
            "Epoch 91/100\n",
            "64000/64000 [==============================] - 6s 96us/step - loss: 0.6333 - acc: 0.6406 - precision: 0.6431 - recall: 0.6388 - f1score: 0.6394 - val_loss: 0.6363 - val_acc: 0.6449 - val_precision: 0.6480 - val_recall: 0.6355 - val_f1score: 0.6399\n",
            "Epoch 92/100\n",
            "64000/64000 [==============================] - 7s 103us/step - loss: 0.6328 - acc: 0.6410 - precision: 0.6433 - recall: 0.6390 - f1score: 0.6396 - val_loss: 0.6377 - val_acc: 0.6429 - val_precision: 0.6467 - val_recall: 0.6315 - val_f1score: 0.6371\n",
            "Epoch 93/100\n",
            "64000/64000 [==============================] - 6s 101us/step - loss: 0.6318 - acc: 0.6419 - precision: 0.6449 - recall: 0.6386 - f1score: 0.6400 - val_loss: 0.6403 - val_acc: 0.6419 - val_precision: 0.6448 - val_recall: 0.6330 - val_f1score: 0.6370\n",
            "Epoch 94/100\n",
            "64000/64000 [==============================] - 6s 96us/step - loss: 0.6329 - acc: 0.6416 - precision: 0.6443 - recall: 0.6398 - f1score: 0.6402 - val_loss: 0.6362 - val_acc: 0.6442 - val_precision: 0.6483 - val_recall: 0.6317 - val_f1score: 0.6380\n",
            "Epoch 95/100\n",
            "64000/64000 [==============================] - 6s 96us/step - loss: 0.6326 - acc: 0.6423 - precision: 0.6442 - recall: 0.6413 - f1score: 0.6412 - val_loss: 0.6371 - val_acc: 0.6432 - val_precision: 0.6459 - val_recall: 0.6348 - val_f1score: 0.6385\n",
            "Epoch 96/100\n",
            "64000/64000 [==============================] - 6s 96us/step - loss: 0.6330 - acc: 0.6415 - precision: 0.6441 - recall: 0.6390 - f1score: 0.6399 - val_loss: 0.6389 - val_acc: 0.6438 - val_precision: 0.6447 - val_recall: 0.6419 - val_f1score: 0.6415\n",
            "Epoch 97/100\n",
            "64000/64000 [==============================] - 6s 98us/step - loss: 0.6334 - acc: 0.6420 - precision: 0.6446 - recall: 0.6397 - f1score: 0.6404 - val_loss: 0.6366 - val_acc: 0.6415 - val_precision: 0.6453 - val_recall: 0.6300 - val_f1score: 0.6357\n",
            "Epoch 98/100\n",
            "64000/64000 [==============================] - 6s 97us/step - loss: 0.6328 - acc: 0.6416 - precision: 0.6445 - recall: 0.6379 - f1score: 0.6397 - val_loss: 0.6382 - val_acc: 0.6438 - val_precision: 0.6473 - val_recall: 0.6333 - val_f1score: 0.6383\n",
            "Epoch 99/100\n",
            "64000/64000 [==============================] - 6s 99us/step - loss: 0.6324 - acc: 0.6425 - precision: 0.6447 - recall: 0.6410 - f1score: 0.6413 - val_loss: 0.6364 - val_acc: 0.6426 - val_precision: 0.6459 - val_recall: 0.6315 - val_f1score: 0.6369\n",
            "Epoch 100/100\n",
            "64000/64000 [==============================] - 6s 98us/step - loss: 0.6323 - acc: 0.6418 - precision: 0.6448 - recall: 0.6386 - f1score: 0.6401 - val_loss: 0.6382 - val_acc: 0.6424 - val_precision: 0.6457 - val_recall: 0.6318 - val_f1score: 0.6369\n",
            "Accuracy: 0.6435\n",
            "Confusion Matrix: \n",
            " [[6436 3644]\n",
            " [3485 6435]]\n",
            "Classification Report Matrix: \n",
            "               precision    recall  f1-score   support\n",
            "\n",
            "         0.0      0.649     0.638     0.644     10080\n",
            "         1.0      0.638     0.649     0.644      9920\n",
            "\n",
            "    accuracy                          0.644     20000\n",
            "   macro avg      0.644     0.644     0.644     20000\n",
            "weighted avg      0.644     0.644     0.644     20000\n",
            "\n",
            "roc_auc score is : 0.6436\n"
          ],
          "name": "stdout"
        },
        {
          "output_type": "display_data",
          "data": {
            "image/png": "[encoded data removed]",
            "text/plain": [
              "<Figure size 432x288 with 1 Axes>"
            ]
          },
          "metadata": {
            "tags": []
          }
        }
      ]
    },
    {
      "cell_type": "code",
      "metadata": {
        "id": "YsxXB3CAgQPW",
        "colab_type": "code",
        "outputId": "271bb52c-1760-456c-831c-5fe03d7e0271",
        "colab": {
          "base_uri": "https://localhost:8080/",
          "height": 569
        }
      },
      "source": [
        "kc2_best = keras.models.load_model('keras_classifier_2.h5', custom_objects={'precision': precision, 'recall':recall, 'f1score':f1score})\n",
        "result_summary(kc2_best, test_x, test_y)"
      ],
      "execution_count": 21,
      "outputs": [
        {
          "output_type": "stream",
          "text": [
            "Accuracy: 0.6421\n",
            "Confusion Matrix: \n",
            " [[6486 3594]\n",
            " [3563 6357]]\n",
            "Classification Report Matrix: \n",
            "               precision    recall  f1-score   support\n",
            "\n",
            "         0.0      0.645     0.643     0.644     10080\n",
            "         1.0      0.639     0.641     0.640      9920\n",
            "\n",
            "    accuracy                          0.642     20000\n",
            "   macro avg      0.642     0.642     0.642     20000\n",
            "weighted avg      0.642     0.642     0.642     20000\n",
            "\n",
            "roc_auc score is : 0.6421\n"
          ],
          "name": "stdout"
        },
        {
          "output_type": "display_data",
          "data": {
            "image/png": "[encoded data removed]",
            "text/plain": [
              "<Figure size 432x288 with 1 Axes>"
            ]
          },
          "metadata": {
            "tags": []
          }
        }
      ]
    },
    {
      "cell_type": "code",
      "metadata": {
        "id": "pVnNG9cNFI4n",
        "colab_type": "code",
        "outputId": "7c4d0ccc-932c-480d-a74f-704c1294ae06",
        "colab": {
          "base_uri": "https://localhost:8080/",
          "height": 1000
        }
      },
      "source": [
        "callbacks = [keras.callbacks.EarlyStopping(monitor='val_loss',\n",
        "                                            patience=20),\n",
        "              keras.callbacks.ModelCheckpoint(filepath='keras_classifier_3.h5',\n",
        "                                              monitor='val_loss',\n",
        "                                              save_best_only=True)]\n",
        "\n",
        "keras_clf3 = KerasClassifier(modelnm = 'kc3', build_fn = create_model, optimizer= 'sgd', activation = 'elu' , epochs=100, batch_size=128)\n",
        "keras_clf3.fit(train_x, train_y, validation_split=0.2, callbacks=callbacks)\n",
        "result_summary(keras_clf3, test_x, test_y)"
      ],
      "execution_count": 22,
      "outputs": [
        {
          "output_type": "stream",
          "text": [
            "Train on 64000 samples, validate on 16000 samples\n",
            "Epoch 1/100\n",
            "64000/64000 [==============================] - 8s 130us/step - loss: 0.7097 - acc: 0.5889 - precision: 0.5909 - recall: 0.5919 - f1score: 0.5895 - val_loss: 0.6392 - val_acc: 0.6371 - val_precision: 0.6549 - val_recall: 0.5807 - val_f1score: 0.6137\n",
            "Epoch 2/100\n",
            "64000/64000 [==============================] - 7s 106us/step - loss: 0.6645 - acc: 0.6103 - precision: 0.6136 - recall: 0.6038 - f1score: 0.6069 - val_loss: 0.6372 - val_acc: 0.6408 - val_precision: 0.6561 - val_recall: 0.5929 - val_f1score: 0.6210\n",
            "Epoch 3/100\n",
            "64000/64000 [==============================] - 7s 104us/step - loss: 0.6511 - acc: 0.6206 - precision: 0.6237 - recall: 0.6149 - f1score: 0.6175 - val_loss: 0.6363 - val_acc: 0.6422 - val_precision: 0.6515 - val_recall: 0.6136 - val_f1score: 0.6301\n",
            "Epoch 4/100\n",
            "64000/64000 [==============================] - 7s 104us/step - loss: 0.6459 - acc: 0.6256 - precision: 0.6283 - recall: 0.6215 - f1score: 0.6232 - val_loss: 0.6362 - val_acc: 0.6402 - val_precision: 0.6508 - val_recall: 0.6071 - val_f1score: 0.6262\n",
            "Epoch 5/100\n",
            "64000/64000 [==============================] - 7s 103us/step - loss: 0.6437 - acc: 0.6299 - precision: 0.6335 - recall: 0.6227 - f1score: 0.6265 - val_loss: 0.6361 - val_acc: 0.6416 - val_precision: 0.6539 - val_recall: 0.6028 - val_f1score: 0.6253\n",
            "Epoch 6/100\n",
            "64000/64000 [==============================] - 7s 104us/step - loss: 0.6420 - acc: 0.6292 - precision: 0.6336 - recall: 0.6195 - f1score: 0.6245 - val_loss: 0.6359 - val_acc: 0.6411 - val_precision: 0.6506 - val_recall: 0.6112 - val_f1score: 0.6283\n",
            "Epoch 7/100\n",
            "64000/64000 [==============================] - 7s 104us/step - loss: 0.6402 - acc: 0.6317 - precision: 0.6358 - recall: 0.6240 - f1score: 0.6282 - val_loss: 0.6354 - val_acc: 0.6396 - val_precision: 0.6516 - val_recall: 0.6015 - val_f1score: 0.6235\n",
            "Epoch 8/100\n",
            "64000/64000 [==============================] - 7s 106us/step - loss: 0.6403 - acc: 0.6331 - precision: 0.6389 - recall: 0.6189 - f1score: 0.6271 - val_loss: 0.6354 - val_acc: 0.6432 - val_precision: 0.6525 - val_recall: 0.6149 - val_f1score: 0.6312\n",
            "Epoch 9/100\n",
            "64000/64000 [==============================] - 7s 104us/step - loss: 0.6396 - acc: 0.6328 - precision: 0.6371 - recall: 0.6239 - f1score: 0.6288 - val_loss: 0.6352 - val_acc: 0.6424 - val_precision: 0.6515 - val_recall: 0.6137 - val_f1score: 0.6301\n",
            "Epoch 10/100\n",
            "64000/64000 [==============================] - 7s 103us/step - loss: 0.6391 - acc: 0.6323 - precision: 0.6370 - recall: 0.6225 - f1score: 0.6278 - val_loss: 0.6355 - val_acc: 0.6419 - val_precision: 0.6550 - val_recall: 0.6012 - val_f1score: 0.6249\n",
            "Epoch 11/100\n",
            "64000/64000 [==============================] - 7s 102us/step - loss: 0.6391 - acc: 0.6334 - precision: 0.6391 - recall: 0.6210 - f1score: 0.6281 - val_loss: 0.6354 - val_acc: 0.6412 - val_precision: 0.6540 - val_recall: 0.6017 - val_f1score: 0.6248\n",
            "Epoch 12/100\n",
            "64000/64000 [==============================] - 7s 102us/step - loss: 0.6383 - acc: 0.6346 - precision: 0.6408 - recall: 0.6197 - f1score: 0.6284 - val_loss: 0.6358 - val_acc: 0.6421 - val_precision: 0.6510 - val_recall: 0.6139 - val_f1score: 0.6299\n",
            "Epoch 13/100\n",
            "64000/64000 [==============================] - 7s 103us/step - loss: 0.6380 - acc: 0.6341 - precision: 0.6393 - recall: 0.6219 - f1score: 0.6287 - val_loss: 0.6351 - val_acc: 0.6422 - val_precision: 0.6537 - val_recall: 0.6064 - val_f1score: 0.6273\n",
            "Epoch 14/100\n",
            "64000/64000 [==============================] - 7s 103us/step - loss: 0.6384 - acc: 0.6350 - precision: 0.6401 - recall: 0.6243 - f1score: 0.6302 - val_loss: 0.6352 - val_acc: 0.6426 - val_precision: 0.6549 - val_recall: 0.6045 - val_f1score: 0.6268\n",
            "Epoch 15/100\n",
            "64000/64000 [==============================] - 7s 103us/step - loss: 0.6373 - acc: 0.6351 - precision: 0.6412 - recall: 0.6208 - f1score: 0.6291 - val_loss: 0.6348 - val_acc: 0.6416 - val_precision: 0.6508 - val_recall: 0.6127 - val_f1score: 0.6292\n",
            "Epoch 16/100\n",
            "64000/64000 [==============================] - 6s 99us/step - loss: 0.6377 - acc: 0.6345 - precision: 0.6393 - recall: 0.6246 - f1score: 0.6300 - val_loss: 0.6348 - val_acc: 0.6422 - val_precision: 0.6534 - val_recall: 0.6072 - val_f1score: 0.6276\n",
            "Epoch 17/100\n",
            "64000/64000 [==============================] - 6s 101us/step - loss: 0.6376 - acc: 0.6373 - precision: 0.6425 - recall: 0.6257 - f1score: 0.6322 - val_loss: 0.6349 - val_acc: 0.6419 - val_precision: 0.6526 - val_recall: 0.6088 - val_f1score: 0.6280\n",
            "Epoch 18/100\n",
            "64000/64000 [==============================] - 7s 103us/step - loss: 0.6373 - acc: 0.6376 - precision: 0.6430 - recall: 0.6248 - f1score: 0.6323 - val_loss: 0.6350 - val_acc: 0.6408 - val_precision: 0.6519 - val_recall: 0.6054 - val_f1score: 0.6258\n",
            "Epoch 19/100\n",
            "64000/64000 [==============================] - 6s 100us/step - loss: 0.6375 - acc: 0.6357 - precision: 0.6418 - recall: 0.6212 - f1score: 0.6297 - val_loss: 0.6349 - val_acc: 0.6406 - val_precision: 0.6539 - val_recall: 0.5989 - val_f1score: 0.6232\n",
            "Epoch 20/100\n",
            "64000/64000 [==============================] - 6s 100us/step - loss: 0.6370 - acc: 0.6356 - precision: 0.6413 - recall: 0.6226 - f1score: 0.6300 - val_loss: 0.6347 - val_acc: 0.6423 - val_precision: 0.6540 - val_recall: 0.6060 - val_f1score: 0.6271\n",
            "Epoch 21/100\n",
            "64000/64000 [==============================] - 7s 103us/step - loss: 0.6370 - acc: 0.6370 - precision: 0.6415 - recall: 0.6271 - f1score: 0.6325 - val_loss: 0.6350 - val_acc: 0.6422 - val_precision: 0.6543 - val_recall: 0.6039 - val_f1score: 0.6262\n",
            "Epoch 22/100\n",
            "64000/64000 [==============================] - 7s 102us/step - loss: 0.6362 - acc: 0.6369 - precision: 0.6426 - recall: 0.6233 - f1score: 0.6311 - val_loss: 0.6348 - val_acc: 0.6411 - val_precision: 0.6527 - val_recall: 0.6048 - val_f1score: 0.6258\n",
            "Epoch 23/100\n",
            "64000/64000 [==============================] - 7s 103us/step - loss: 0.6372 - acc: 0.6356 - precision: 0.6422 - recall: 0.6195 - f1score: 0.6288 - val_loss: 0.6347 - val_acc: 0.6442 - val_precision: 0.6512 - val_recall: 0.6230 - val_f1score: 0.6349\n",
            "Epoch 24/100\n",
            "64000/64000 [==============================] - 7s 103us/step - loss: 0.6360 - acc: 0.6367 - precision: 0.6414 - recall: 0.6269 - f1score: 0.6323 - val_loss: 0.6354 - val_acc: 0.6429 - val_precision: 0.6542 - val_recall: 0.6079 - val_f1score: 0.6283\n",
            "Epoch 25/100\n",
            "64000/64000 [==============================] - 7s 103us/step - loss: 0.6366 - acc: 0.6374 - precision: 0.6424 - recall: 0.6264 - f1score: 0.6327 - val_loss: 0.6347 - val_acc: 0.6429 - val_precision: 0.6525 - val_recall: 0.6133 - val_f1score: 0.6303\n",
            "Epoch 26/100\n",
            "64000/64000 [==============================] - 7s 105us/step - loss: 0.6365 - acc: 0.6368 - precision: 0.6420 - recall: 0.6252 - f1score: 0.6315 - val_loss: 0.6347 - val_acc: 0.6431 - val_precision: 0.6540 - val_recall: 0.6091 - val_f1score: 0.6287\n",
            "Epoch 27/100\n",
            "64000/64000 [==============================] - 7s 105us/step - loss: 0.6368 - acc: 0.6372 - precision: 0.6419 - recall: 0.6268 - f1score: 0.6326 - val_loss: 0.6348 - val_acc: 0.6433 - val_precision: 0.6535 - val_recall: 0.6123 - val_f1score: 0.6302\n",
            "Epoch 28/100\n",
            "64000/64000 [==============================] - 7s 104us/step - loss: 0.6361 - acc: 0.6372 - precision: 0.6425 - recall: 0.6266 - f1score: 0.6328 - val_loss: 0.6346 - val_acc: 0.6416 - val_precision: 0.6520 - val_recall: 0.6098 - val_f1score: 0.6281\n",
            "Epoch 29/100\n",
            "64000/64000 [==============================] - 7s 106us/step - loss: 0.6359 - acc: 0.6377 - precision: 0.6435 - recall: 0.6240 - f1score: 0.6321 - val_loss: 0.6346 - val_acc: 0.6414 - val_precision: 0.6529 - val_recall: 0.6058 - val_f1score: 0.6265\n",
            "Epoch 30/100\n",
            "64000/64000 [==============================] - 7s 104us/step - loss: 0.6354 - acc: 0.6385 - precision: 0.6450 - recall: 0.6233 - f1score: 0.6324 - val_loss: 0.6353 - val_acc: 0.6419 - val_precision: 0.6504 - val_recall: 0.6152 - val_f1score: 0.6303\n",
            "Epoch 31/100\n",
            "64000/64000 [==============================] - 7s 104us/step - loss: 0.6358 - acc: 0.6369 - precision: 0.6421 - recall: 0.6241 - f1score: 0.6313 - val_loss: 0.6347 - val_acc: 0.6433 - val_precision: 0.6522 - val_recall: 0.6167 - val_f1score: 0.6320\n",
            "Epoch 32/100\n",
            "64000/64000 [==============================] - 7s 105us/step - loss: 0.6356 - acc: 0.6372 - precision: 0.6420 - recall: 0.6279 - f1score: 0.6331 - val_loss: 0.6346 - val_acc: 0.6418 - val_precision: 0.6535 - val_recall: 0.6062 - val_f1score: 0.6270\n",
            "Epoch 33/100\n",
            "64000/64000 [==============================] - 7s 103us/step - loss: 0.6357 - acc: 0.6374 - precision: 0.6424 - recall: 0.6271 - f1score: 0.6329 - val_loss: 0.6351 - val_acc: 0.6430 - val_precision: 0.6530 - val_recall: 0.6125 - val_f1score: 0.6302\n",
            "Epoch 34/100\n",
            "64000/64000 [==============================] - 7s 104us/step - loss: 0.6361 - acc: 0.6366 - precision: 0.6418 - recall: 0.6260 - f1score: 0.6321 - val_loss: 0.6345 - val_acc: 0.6423 - val_precision: 0.6536 - val_recall: 0.6070 - val_f1score: 0.6276\n",
            "Epoch 35/100\n",
            "64000/64000 [==============================] - 7s 103us/step - loss: 0.6352 - acc: 0.6392 - precision: 0.6441 - recall: 0.6285 - f1score: 0.6346 - val_loss: 0.6345 - val_acc: 0.6423 - val_precision: 0.6522 - val_recall: 0.6112 - val_f1score: 0.6291\n",
            "Epoch 36/100\n",
            "64000/64000 [==============================] - 7s 103us/step - loss: 0.6360 - acc: 0.6364 - precision: 0.6426 - recall: 0.6213 - f1score: 0.6302 - val_loss: 0.6349 - val_acc: 0.6429 - val_precision: 0.6511 - val_recall: 0.6187 - val_f1score: 0.6325\n",
            "Epoch 37/100\n",
            "64000/64000 [==============================] - 7s 104us/step - loss: 0.6359 - acc: 0.6365 - precision: 0.6419 - recall: 0.6236 - f1score: 0.6310 - val_loss: 0.6343 - val_acc: 0.6432 - val_precision: 0.6521 - val_recall: 0.6152 - val_f1score: 0.6312\n",
            "Epoch 38/100\n",
            "64000/64000 [==============================] - 7s 111us/step - loss: 0.6356 - acc: 0.6400 - precision: 0.6451 - recall: 0.6290 - f1score: 0.6353 - val_loss: 0.6342 - val_acc: 0.6436 - val_precision: 0.6535 - val_recall: 0.6132 - val_f1score: 0.6307\n",
            "Epoch 39/100\n",
            "64000/64000 [==============================] - 7s 111us/step - loss: 0.6356 - acc: 0.6393 - precision: 0.6440 - recall: 0.6298 - f1score: 0.6353 - val_loss: 0.6342 - val_acc: 0.6432 - val_precision: 0.6524 - val_recall: 0.6145 - val_f1score: 0.6310\n",
            "Epoch 40/100\n",
            "64000/64000 [==============================] - 7s 104us/step - loss: 0.6357 - acc: 0.6387 - precision: 0.6440 - recall: 0.6273 - f1score: 0.6340 - val_loss: 0.6344 - val_acc: 0.6424 - val_precision: 0.6515 - val_recall: 0.6142 - val_f1score: 0.6303\n",
            "Epoch 41/100\n",
            "64000/64000 [==============================] - 7s 104us/step - loss: 0.6352 - acc: 0.6371 - precision: 0.6427 - recall: 0.6243 - f1score: 0.6317 - val_loss: 0.6347 - val_acc: 0.6431 - val_precision: 0.6524 - val_recall: 0.6146 - val_f1score: 0.6310\n",
            "Epoch 42/100\n",
            "64000/64000 [==============================] - 6s 101us/step - loss: 0.6356 - acc: 0.6371 - precision: 0.6431 - recall: 0.6233 - f1score: 0.6312 - val_loss: 0.6342 - val_acc: 0.6418 - val_precision: 0.6508 - val_recall: 0.6134 - val_f1score: 0.6297\n",
            "Epoch 43/100\n",
            "64000/64000 [==============================] - 7s 102us/step - loss: 0.6356 - acc: 0.6386 - precision: 0.6436 - recall: 0.6294 - f1score: 0.6346 - val_loss: 0.6351 - val_acc: 0.6428 - val_precision: 0.6531 - val_recall: 0.6108 - val_f1score: 0.6294\n",
            "Epoch 44/100\n",
            "64000/64000 [==============================] - 7s 107us/step - loss: 0.6350 - acc: 0.6390 - precision: 0.6454 - recall: 0.6244 - f1score: 0.6328 - val_loss: 0.6346 - val_acc: 0.6442 - val_precision: 0.6530 - val_recall: 0.6177 - val_f1score: 0.6328\n",
            "Epoch 45/100\n",
            "64000/64000 [==============================] - 7s 103us/step - loss: 0.6351 - acc: 0.6383 - precision: 0.6440 - recall: 0.6259 - f1score: 0.6330 - val_loss: 0.6341 - val_acc: 0.6421 - val_precision: 0.6496 - val_recall: 0.6184 - val_f1score: 0.6318\n",
            "Epoch 46/100\n",
            "64000/64000 [==============================] - 7s 102us/step - loss: 0.6351 - acc: 0.6394 - precision: 0.6436 - recall: 0.6312 - f1score: 0.6356 - val_loss: 0.6353 - val_acc: 0.6434 - val_precision: 0.6531 - val_recall: 0.6132 - val_f1score: 0.6305\n",
            "Epoch 47/100\n",
            "64000/64000 [==============================] - 7s 102us/step - loss: 0.6351 - acc: 0.6378 - precision: 0.6433 - recall: 0.6256 - f1score: 0.6326 - val_loss: 0.6346 - val_acc: 0.6427 - val_precision: 0.6513 - val_recall: 0.6158 - val_f1score: 0.6312\n",
            "Epoch 48/100\n",
            "64000/64000 [==============================] - 7s 103us/step - loss: 0.6347 - acc: 0.6403 - precision: 0.6457 - recall: 0.6283 - f1score: 0.6353 - val_loss: 0.6349 - val_acc: 0.6431 - val_precision: 0.6515 - val_recall: 0.6173 - val_f1score: 0.6320\n",
            "Epoch 49/100\n",
            "64000/64000 [==============================] - 7s 103us/step - loss: 0.6348 - acc: 0.6393 - precision: 0.6446 - recall: 0.6286 - f1score: 0.6348 - val_loss: 0.6341 - val_acc: 0.6422 - val_precision: 0.6517 - val_recall: 0.6130 - val_f1score: 0.6298\n",
            "Epoch 50/100\n",
            "64000/64000 [==============================] - 7s 104us/step - loss: 0.6350 - acc: 0.6406 - precision: 0.6459 - recall: 0.6298 - f1score: 0.6360 - val_loss: 0.6344 - val_acc: 0.6434 - val_precision: 0.6521 - val_recall: 0.6171 - val_f1score: 0.6321\n",
            "Epoch 51/100\n",
            "64000/64000 [==============================] - 7s 106us/step - loss: 0.6344 - acc: 0.6380 - precision: 0.6426 - recall: 0.6281 - f1score: 0.6337 - val_loss: 0.6350 - val_acc: 0.6421 - val_precision: 0.6541 - val_recall: 0.6039 - val_f1score: 0.6261\n",
            "Epoch 52/100\n",
            "64000/64000 [==============================] - 7s 104us/step - loss: 0.6343 - acc: 0.6399 - precision: 0.6456 - recall: 0.6261 - f1score: 0.6341 - val_loss: 0.6347 - val_acc: 0.6431 - val_precision: 0.6513 - val_recall: 0.6182 - val_f1score: 0.6324\n",
            "Epoch 53/100\n",
            "64000/64000 [==============================] - 7s 104us/step - loss: 0.6345 - acc: 0.6412 - precision: 0.6468 - recall: 0.6282 - f1score: 0.6356 - val_loss: 0.6351 - val_acc: 0.6424 - val_precision: 0.6507 - val_recall: 0.6164 - val_f1score: 0.6311\n",
            "Epoch 54/100\n",
            "64000/64000 [==============================] - 7s 104us/step - loss: 0.6341 - acc: 0.6377 - precision: 0.6427 - recall: 0.6265 - f1score: 0.6327 - val_loss: 0.6340 - val_acc: 0.6404 - val_precision: 0.6529 - val_recall: 0.6013 - val_f1score: 0.6241\n",
            "Epoch 55/100\n",
            "64000/64000 [==============================] - 7s 102us/step - loss: 0.6351 - acc: 0.6377 - precision: 0.6431 - recall: 0.6252 - f1score: 0.6324 - val_loss: 0.6340 - val_acc: 0.6438 - val_precision: 0.6518 - val_recall: 0.6190 - val_f1score: 0.6331\n",
            "Epoch 56/100\n",
            "64000/64000 [==============================] - 7s 102us/step - loss: 0.6348 - acc: 0.6401 - precision: 0.6449 - recall: 0.6291 - f1score: 0.6354 - val_loss: 0.6340 - val_acc: 0.6438 - val_precision: 0.6500 - val_recall: 0.6253 - val_f1score: 0.6355\n",
            "Epoch 57/100\n",
            "64000/64000 [==============================] - 7s 102us/step - loss: 0.6347 - acc: 0.6400 - precision: 0.6445 - recall: 0.6304 - f1score: 0.6357 - val_loss: 0.6341 - val_acc: 0.6447 - val_precision: 0.6530 - val_recall: 0.6201 - val_f1score: 0.6342\n",
            "Epoch 58/100\n",
            "64000/64000 [==============================] - 7s 103us/step - loss: 0.6342 - acc: 0.6402 - precision: 0.6453 - recall: 0.6300 - f1score: 0.6359 - val_loss: 0.6344 - val_acc: 0.6428 - val_precision: 0.6532 - val_recall: 0.6103 - val_f1score: 0.6291\n",
            "Epoch 59/100\n",
            "64000/64000 [==============================] - 6s 101us/step - loss: 0.6347 - acc: 0.6396 - precision: 0.6448 - recall: 0.6281 - f1score: 0.6346 - val_loss: 0.6342 - val_acc: 0.6427 - val_precision: 0.6506 - val_recall: 0.6174 - val_f1score: 0.6317\n",
            "Epoch 60/100\n",
            "64000/64000 [==============================] - 6s 101us/step - loss: 0.6342 - acc: 0.6378 - precision: 0.6434 - recall: 0.6239 - f1score: 0.6319 - val_loss: 0.6339 - val_acc: 0.6444 - val_precision: 0.6521 - val_recall: 0.6203 - val_f1score: 0.6339\n",
            "Epoch 61/100\n",
            "64000/64000 [==============================] - 6s 101us/step - loss: 0.6339 - acc: 0.6405 - precision: 0.6451 - recall: 0.6315 - f1score: 0.6365 - val_loss: 0.6343 - val_acc: 0.6424 - val_precision: 0.6518 - val_recall: 0.6137 - val_f1score: 0.6303\n",
            "Epoch 62/100\n",
            "64000/64000 [==============================] - 7s 103us/step - loss: 0.6346 - acc: 0.6399 - precision: 0.6459 - recall: 0.6256 - f1score: 0.6339 - val_loss: 0.6339 - val_acc: 0.6418 - val_precision: 0.6511 - val_recall: 0.6126 - val_f1score: 0.6294\n",
            "Epoch 63/100\n",
            "64000/64000 [==============================] - 7s 102us/step - loss: 0.6338 - acc: 0.6397 - precision: 0.6452 - recall: 0.6279 - f1score: 0.6347 - val_loss: 0.6344 - val_acc: 0.6422 - val_precision: 0.6504 - val_recall: 0.6171 - val_f1score: 0.6314\n",
            "Epoch 64/100\n",
            "64000/64000 [==============================] - 7s 102us/step - loss: 0.6342 - acc: 0.6396 - precision: 0.6437 - recall: 0.6320 - f1score: 0.6360 - val_loss: 0.6342 - val_acc: 0.6429 - val_precision: 0.6540 - val_recall: 0.6091 - val_f1score: 0.6288\n",
            "Epoch 65/100\n",
            "64000/64000 [==============================] - 7s 102us/step - loss: 0.6343 - acc: 0.6415 - precision: 0.6470 - recall: 0.6291 - f1score: 0.6363 - val_loss: 0.6353 - val_acc: 0.6412 - val_precision: 0.6513 - val_recall: 0.6101 - val_f1score: 0.6281\n",
            "Epoch 66/100\n",
            "64000/64000 [==============================] - 6s 101us/step - loss: 0.6346 - acc: 0.6393 - precision: 0.6457 - recall: 0.6242 - f1score: 0.6330 - val_loss: 0.6339 - val_acc: 0.6425 - val_precision: 0.6501 - val_recall: 0.6188 - val_f1score: 0.6322\n",
            "Epoch 67/100\n",
            "64000/64000 [==============================] - 6s 101us/step - loss: 0.6341 - acc: 0.6390 - precision: 0.6448 - recall: 0.6260 - f1score: 0.6336 - val_loss: 0.6343 - val_acc: 0.6432 - val_precision: 0.6516 - val_recall: 0.6173 - val_f1score: 0.6320\n",
            "Epoch 68/100\n",
            "64000/64000 [==============================] - 7s 102us/step - loss: 0.6339 - acc: 0.6399 - precision: 0.6441 - recall: 0.6311 - f1score: 0.6359 - val_loss: 0.6343 - val_acc: 0.6428 - val_precision: 0.6515 - val_recall: 0.6158 - val_f1score: 0.6312\n",
            "Epoch 69/100\n",
            "64000/64000 [==============================] - 7s 102us/step - loss: 0.6335 - acc: 0.6400 - precision: 0.6446 - recall: 0.6314 - f1score: 0.6361 - val_loss: 0.6345 - val_acc: 0.6431 - val_precision: 0.6548 - val_recall: 0.6077 - val_f1score: 0.6284\n",
            "Epoch 70/100\n",
            "64000/64000 [==============================] - 7s 102us/step - loss: 0.6342 - acc: 0.6396 - precision: 0.6452 - recall: 0.6272 - f1score: 0.6344 - val_loss: 0.6348 - val_acc: 0.6444 - val_precision: 0.6513 - val_recall: 0.6233 - val_f1score: 0.6351\n",
            "Epoch 71/100\n",
            "64000/64000 [==============================] - 6s 101us/step - loss: 0.6337 - acc: 0.6419 - precision: 0.6473 - recall: 0.6304 - f1score: 0.6371 - val_loss: 0.6338 - val_acc: 0.6439 - val_precision: 0.6498 - val_recall: 0.6262 - val_f1score: 0.6359\n",
            "Epoch 72/100\n",
            "64000/64000 [==============================] - 7s 102us/step - loss: 0.6342 - acc: 0.6396 - precision: 0.6438 - recall: 0.6325 - f1score: 0.6363 - val_loss: 0.6358 - val_acc: 0.6443 - val_precision: 0.6528 - val_recall: 0.6183 - val_f1score: 0.6332\n",
            "Epoch 73/100\n",
            "64000/64000 [==============================] - 6s 101us/step - loss: 0.6342 - acc: 0.6390 - precision: 0.6440 - recall: 0.6294 - f1score: 0.6349 - val_loss: 0.6354 - val_acc: 0.6427 - val_precision: 0.6528 - val_recall: 0.6113 - val_f1score: 0.6294\n",
            "Epoch 74/100\n",
            "64000/64000 [==============================] - 7s 102us/step - loss: 0.6340 - acc: 0.6400 - precision: 0.6466 - recall: 0.6240 - f1score: 0.6335 - val_loss: 0.6341 - val_acc: 0.6439 - val_precision: 0.6516 - val_recall: 0.6209 - val_f1score: 0.6339\n",
            "Epoch 75/100\n",
            "64000/64000 [==============================] - 7s 104us/step - loss: 0.6336 - acc: 0.6385 - precision: 0.6444 - recall: 0.6249 - f1score: 0.6327 - val_loss: 0.6338 - val_acc: 0.6429 - val_precision: 0.6501 - val_recall: 0.6207 - val_f1score: 0.6332\n",
            "Epoch 76/100\n",
            "64000/64000 [==============================] - 7s 103us/step - loss: 0.6347 - acc: 0.6405 - precision: 0.6456 - recall: 0.6295 - f1score: 0.6359 - val_loss: 0.6341 - val_acc: 0.6443 - val_precision: 0.6532 - val_recall: 0.6176 - val_f1score: 0.6329\n",
            "Epoch 77/100\n",
            "64000/64000 [==============================] - 7s 103us/step - loss: 0.6340 - acc: 0.6398 - precision: 0.6447 - recall: 0.6287 - f1score: 0.6348 - val_loss: 0.6340 - val_acc: 0.6435 - val_precision: 0.6523 - val_recall: 0.6165 - val_f1score: 0.6321\n",
            "Epoch 78/100\n",
            "64000/64000 [==============================] - 7s 103us/step - loss: 0.6338 - acc: 0.6405 - precision: 0.6457 - recall: 0.6293 - f1score: 0.6358 - val_loss: 0.6344 - val_acc: 0.6431 - val_precision: 0.6534 - val_recall: 0.6112 - val_f1score: 0.6297\n",
            "Epoch 79/100\n",
            "64000/64000 [==============================] - 7s 103us/step - loss: 0.6338 - acc: 0.6401 - precision: 0.6451 - recall: 0.6287 - f1score: 0.6353 - val_loss: 0.6342 - val_acc: 0.6425 - val_precision: 0.6519 - val_recall: 0.6138 - val_f1score: 0.6303\n",
            "Epoch 80/100\n",
            "64000/64000 [==============================] - 6s 101us/step - loss: 0.6341 - acc: 0.6404 - precision: 0.6455 - recall: 0.6302 - f1score: 0.6359 - val_loss: 0.6348 - val_acc: 0.6429 - val_precision: 0.6517 - val_recall: 0.6154 - val_f1score: 0.6311\n",
            "Epoch 81/100\n",
            "64000/64000 [==============================] - 6s 101us/step - loss: 0.6335 - acc: 0.6392 - precision: 0.6448 - recall: 0.6271 - f1score: 0.6341 - val_loss: 0.6351 - val_acc: 0.6425 - val_precision: 0.6535 - val_recall: 0.6090 - val_f1score: 0.6285\n",
            "Epoch 82/100\n",
            "64000/64000 [==============================] - 6s 101us/step - loss: 0.6338 - acc: 0.6394 - precision: 0.6438 - recall: 0.6313 - f1score: 0.6357 - val_loss: 0.6342 - val_acc: 0.6425 - val_precision: 0.6530 - val_recall: 0.6100 - val_f1score: 0.6289\n",
            "Epoch 83/100\n",
            "64000/64000 [==============================] - 7s 103us/step - loss: 0.6337 - acc: 0.6398 - precision: 0.6456 - recall: 0.6261 - f1score: 0.6339 - val_loss: 0.6341 - val_acc: 0.6429 - val_precision: 0.6500 - val_recall: 0.6211 - val_f1score: 0.6333\n",
            "Epoch 84/100\n",
            "64000/64000 [==============================] - 6s 101us/step - loss: 0.6335 - acc: 0.6389 - precision: 0.6428 - recall: 0.6312 - f1score: 0.6353 - val_loss: 0.6343 - val_acc: 0.6441 - val_precision: 0.6512 - val_recall: 0.6223 - val_f1score: 0.6346\n",
            "Epoch 85/100\n",
            "64000/64000 [==============================] - 7s 107us/step - loss: 0.6337 - acc: 0.6400 - precision: 0.6443 - recall: 0.6321 - f1score: 0.6364 - val_loss: 0.6339 - val_acc: 0.6424 - val_precision: 0.6505 - val_recall: 0.6166 - val_f1score: 0.6313\n",
            "Epoch 86/100\n",
            "64000/64000 [==============================] - 7s 110us/step - loss: 0.6342 - acc: 0.6390 - precision: 0.6432 - recall: 0.6313 - f1score: 0.6355 - val_loss: 0.6340 - val_acc: 0.6419 - val_precision: 0.6524 - val_recall: 0.6098 - val_f1score: 0.6284\n",
            "Epoch 87/100\n",
            "64000/64000 [==============================] - 7s 102us/step - loss: 0.6328 - acc: 0.6414 - precision: 0.6463 - recall: 0.6312 - f1score: 0.6370 - val_loss: 0.6345 - val_acc: 0.6430 - val_precision: 0.6527 - val_recall: 0.6128 - val_f1score: 0.6303\n",
            "Epoch 88/100\n",
            "64000/64000 [==============================] - 7s 103us/step - loss: 0.6336 - acc: 0.6411 - precision: 0.6459 - recall: 0.6301 - f1score: 0.6364 - val_loss: 0.6338 - val_acc: 0.6445 - val_precision: 0.6540 - val_recall: 0.6149 - val_f1score: 0.6319\n",
            "Epoch 89/100\n",
            "64000/64000 [==============================] - 7s 103us/step - loss: 0.6330 - acc: 0.6402 - precision: 0.6457 - recall: 0.6277 - f1score: 0.6351 - val_loss: 0.6347 - val_acc: 0.6428 - val_precision: 0.6532 - val_recall: 0.6103 - val_f1score: 0.6291\n",
            "Epoch 90/100\n",
            "64000/64000 [==============================] - 7s 107us/step - loss: 0.6335 - acc: 0.6401 - precision: 0.6455 - recall: 0.6282 - f1score: 0.6349 - val_loss: 0.6340 - val_acc: 0.6429 - val_precision: 0.6518 - val_recall: 0.6155 - val_f1score: 0.6311\n",
            "Epoch 91/100\n",
            "64000/64000 [==============================] - 7s 108us/step - loss: 0.6336 - acc: 0.6391 - precision: 0.6451 - recall: 0.6243 - f1score: 0.6329 - val_loss: 0.6338 - val_acc: 0.6426 - val_precision: 0.6541 - val_recall: 0.6067 - val_f1score: 0.6276\n",
            "Accuracy: 0.6444\n",
            "Confusion Matrix: \n",
            " [[6750 3330]\n",
            " [3781 6139]]\n",
            "Classification Report Matrix: \n",
            "               precision    recall  f1-score   support\n",
            "\n",
            "         0.0      0.641     0.670     0.655     10080\n",
            "         1.0      0.648     0.619     0.633      9920\n",
            "\n",
            "    accuracy                          0.644     20000\n",
            "   macro avg      0.645     0.644     0.644     20000\n",
            "weighted avg      0.645     0.644     0.644     20000\n",
            "\n",
            "roc_auc score is : 0.6442\n"
          ],
          "name": "stdout"
        },
        {
          "output_type": "display_data",
          "data": {
            "image/png": "[encoded data removed]",
            "text/plain": [
              "<Figure size 432x288 with 1 Axes>"
            ]
          },
          "metadata": {
            "tags": []
          }
        }
      ]
    },
    {
      "cell_type": "code",
      "metadata": {
        "id": "AV5FB7nCguOe",
        "colab_type": "code",
        "outputId": "d7533f77-4d18-429c-ded3-64f00bc98e91",
        "colab": {
          "base_uri": "https://localhost:8080/",
          "height": 569
        }
      },
      "source": [
        "kc3_best = keras.models.load_model('keras_classifier_3.h5', custom_objects={'precision': precision, 'recall':recall, 'f1score':f1score})\n",
        "result_summary(kc3_best, test_x, test_y)"
      ],
      "execution_count": 23,
      "outputs": [
        {
          "output_type": "stream",
          "text": [
            "Accuracy: 0.6429\n",
            "Confusion Matrix: \n",
            " [[6542 3538]\n",
            " [3604 6316]]\n",
            "Classification Report Matrix: \n",
            "               precision    recall  f1-score   support\n",
            "\n",
            "         0.0      0.645     0.649     0.647     10080\n",
            "         1.0      0.641     0.637     0.639      9920\n",
            "\n",
            "    accuracy                          0.643     20000\n",
            "   macro avg      0.643     0.643     0.643     20000\n",
            "weighted avg      0.643     0.643     0.643     20000\n",
            "\n",
            "roc_auc score is : 0.6429\n"
          ],
          "name": "stdout"
        },
        {
          "output_type": "display_data",
          "data": {
            "image/png": "[encoded data removed]",
            "text/plain": [
              "<Figure size 432x288 with 1 Axes>"
            ]
          },
          "metadata": {
            "tags": []
          }
        }
      ]
    },
    {
      "cell_type": "markdown",
      "metadata": {
        "id": "4X3gVV0-Yi2z",
        "colab_type": "text"
      },
      "source": [
        "### 6-2. Machine Learning Model"
      ]
    },
    {
      "cell_type": "markdown",
      "metadata": {
        "id": "VRW7-BA5nXre",
        "colab_type": "text"
      },
      "source": [
        "#### 6-2-1. 가용자원 내 가능 모델 우선 테스트"
      ]
    },
    {
      "cell_type": "code",
      "metadata": {
        "id": "I7ofR4vfFqSC",
        "colab_type": "code",
        "colab": {}
      },
      "source": [
        "# #Machine Learning Algorithm (MLA) 선택 및 초기화\n",
        "# MLA = [ \n",
        "#     #GLM\n",
        "#     linear_model.LogisticRegressionCV(),\n",
        "#     linear_model.PassiveAggressiveClassifier(),\n",
        "#     linear_model.RidgeClassifierCV(),\n",
        "#     linear_model.SGDClassifier(),\n",
        "#     linear_model.Perceptron(),\n",
        "\n",
        "#     #Discriminant Analysis\n",
        "#     discriminant_analysis.LinearDiscriminantAnalysis(),\n",
        "#     discriminant_analysis.QuadraticDiscriminantAnalysis(),\n",
        "   \n",
        "#     #Navies Bayes\n",
        "#     naive_bayes.BernoulliNB(),\n",
        "#     naive_bayes.GaussianNB(),\n",
        "\n",
        "#     #Trees    \n",
        "#     tree.DecisionTreeClassifier(),\n",
        "#     tree.ExtraTreeClassifier(),\n",
        "\n",
        "#     #Ensemble Methods\n",
        "#     ensemble.AdaBoostClassifier(),\n",
        "#     ensemble.BaggingClassifier(),\n",
        "#     ensemble.ExtraTreesClassifier(),\n",
        "#     ensemble.GradientBoostingClassifier(),\n",
        "#     ensemble.RandomForestClassifier(),\n",
        "\n",
        "#     #xgboost\n",
        "#     XGBClassifier()\n",
        "#     ]"
      ],
      "execution_count": 0,
      "outputs": []
    },
    {
      "cell_type": "code",
      "metadata": {
        "id": "XDc5FTdbvs_V",
        "colab_type": "code",
        "colab": {}
      },
      "source": [
        "# # 모델평가를 위한 변수 세팅\n",
        "# score_pram = ['accuracy', 'precision','recall','f1']\n",
        "\n",
        "# #Create Table to Compare Canonical Models\n",
        "# MLA_Result_columns = ['ModelName','Dataset','Accuracy','Precision','Recall','F1']\n",
        "# MLA_compare = pd.DataFrame(columns = MLA_Result_columns)\n",
        "\n",
        "# #create table to compare MLA predictions\n",
        "# MLA_predict = pd.DataFrame(train_y)"
      ],
      "execution_count": 0,
      "outputs": []
    },
    {
      "cell_type": "code",
      "metadata": {
        "id": "iKIvUSBNm5Cm",
        "colab_type": "code",
        "colab": {}
      },
      "source": [
        "# # index through MLA and save performance to table\n",
        "# row_index = 0\n",
        "# cv = 2\n",
        "# # 알고리즘을 하나씩 꺼내면서 loop\n",
        "# for alg in tqdm_notebook(MLA):\n",
        "#     print(alg, \"algorithm modeling starts ... \")\n",
        "#     #알고리즘의 이름은 할당하고, [row_index, MLA Name]에 이름을 넣고, [row_index, MLA Parameters]에 알고리즘의 파라미터들을 할당\n",
        "#     Model_Name = alg.__class__.__name__\n",
        "    \n",
        "#     cv_results = cross_validate(alg, train_x, train_y, cv=cv, scoring=score_pram, return_train_score=True, n_jobs=-1, verbose=1)\n",
        "    \n",
        "#     train_cnt = 0\n",
        "#     test_cnt = 0\n",
        "    \n",
        "#     for i in cv_results.keys():\n",
        "#       if(\"train\" in i and train_cnt == 0):\n",
        "#         MLA_compare.loc[row_index, 'ModelName'] = Model_Name\n",
        "#         MLA_compare.loc[row_index, 'Dataset'] = \"TrainSet\"\n",
        "#         MLA_compare.loc[row_index, 'Accuracy'] = format(cv_results['train_accuracy'].mean(), \"10.4f\")\n",
        "#         MLA_compare.loc[row_index, 'Precision'] = format(cv_results['train_precision'].mean(), \"10.4f\")\n",
        "#         MLA_compare.loc[row_index, 'Recall'] = format(cv_results['train_recall'].mean(), \"10.4f\")\n",
        "#         MLA_compare.loc[row_index, 'F1'] = format(cv_results['train_f1'].mean(), \"10.4f\")\n",
        "#         row_index+=1\n",
        "#         train_cnt+=1\n",
        "#       elif(\"test\" in i and test_cnt ==0):\n",
        "#         MLA_compare.loc[row_index, 'ModelName'] = Model_Name\n",
        "#         MLA_compare.loc[row_index, 'Dataset'] = \"ValidSet\"\n",
        "#         MLA_compare.loc[row_index, 'Accuracy'] = format(cv_results['test_accuracy'].mean(), \"10.4f\")\n",
        "#         MLA_compare.loc[row_index, 'Precision'] = format(cv_results['test_precision'].mean(), \"10.4f\")\n",
        "#         MLA_compare.loc[row_index, 'Recall'] = format(cv_results['test_recall'].mean(), \"10.4f\")\n",
        "#         MLA_compare.loc[row_index, 'F1'] = format(cv_results['test_f1'].mean(), \"10.4f\")\n",
        "#         row_index+=1\n",
        "#         test_cnt+=1"
      ],
      "execution_count": 0,
      "outputs": []
    },
    {
      "cell_type": "code",
      "metadata": {
        "id": "cV5I3LEWn7Iq",
        "colab_type": "code",
        "colab": {}
      },
      "source": [
        "# MLA_compare.sort_values(by = ['Dataset','Accuracy'], ascending = False, inplace = True)\n",
        "# MLA_compare['Accuracy'] = MLA_compare['Accuracy'].astype(float)\n",
        "# MLA_compare.to_csv(\"../gdrive/My Drive/sds/data/MLA_compare_1.csv\")\n",
        "# display(MLA_compare)"
      ],
      "execution_count": 0,
      "outputs": []
    },
    {
      "cell_type": "markdown",
      "metadata": {
        "id": "8oMq3VJPneQ9",
        "colab_type": "text"
      },
      "source": [
        "#### 6-2-2. 자원 내 가능 어려운 모델은 차원 축소 후 테스트\n",
        "\n",
        "전체 모델 테스트에 대한 차원 축소는 테스트 결과 효율이 나빠져 차원축소 진행하지 않음"
      ]
    },
    {
      "cell_type": "code",
      "metadata": {
        "id": "oncCUBsDnLXv",
        "colab_type": "code",
        "colab": {}
      },
      "source": [
        "# MLA = [ \n",
        "#     #SVM\n",
        "#     svm.SVC(probability=True),\n",
        "#     svm.NuSVC(probability=True),\n",
        "#     svm.LinearSVC(),  \n",
        "    \n",
        "#     #Nearest Neighbor\n",
        "#     neighbors.KNeighborsClassifier(),\n",
        "\n",
        "#     #Gaussian Processes\n",
        "#     # gaussian_process.GaussianProcessClassifier()\n",
        "#     ]"
      ],
      "execution_count": 0,
      "outputs": []
    },
    {
      "cell_type": "code",
      "metadata": {
        "id": "HfW3qP7coIpT",
        "colab_type": "code",
        "colab": {}
      },
      "source": [
        "# pca = PCA(.90)\n",
        "\n",
        "# train_pca_x = pca.fit_transform(train_x)\n",
        "# test_pca_x = pca.fit_transform(test_x)"
      ],
      "execution_count": 0,
      "outputs": []
    },
    {
      "cell_type": "code",
      "metadata": {
        "id": "hRetHdPIoFOa",
        "colab_type": "code",
        "colab": {}
      },
      "source": [
        "# # index through MLA and save performance to table\n",
        "# cv = 2\n",
        "# # 알고리즘을 하나씩 꺼내면서 loop\n",
        "# for alg in tqdm_notebook(MLA):\n",
        "#     print(alg, \"algorithm modeling starts ... \")\n",
        "#     #알고리즘의 이름은 할당하고, [row_index, MLA Name]에 이름을 넣고, [row_index, MLA Parameters]에 알고리즘의 파라미터들을 할당\n",
        "#     Model_Name = alg.__class__.__name__\n",
        "    \n",
        "#     cv_results = cross_validate(alg, train_pca_x, train_y, cv=cv, scoring=score_pram, return_train_score=True, n_jobs=-1, verbose=1)\n",
        "    \n",
        "#     train_cnt = 0\n",
        "#     test_cnt = 0\n",
        "    \n",
        "#     for i in cv_results.keys():\n",
        "#       if(\"train\" in i and train_cnt == 0):\n",
        "#         MLA_compare.loc[row_index, 'ModelName'] = Model_Name\n",
        "#         MLA_compare.loc[row_index, 'Dataset'] = \"TrainSet\"\n",
        "#         MLA_compare.loc[row_index, 'Accuracy'] = format(cv_results['train_accuracy'].mean(), \"10.4f\")\n",
        "#         MLA_compare.loc[row_index, 'Precision'] = format(cv_results['train_precision'].mean(), \"10.4f\")\n",
        "#         MLA_compare.loc[row_index, 'Recall'] = format(cv_results['train_recall'].mean(), \"10.4f\")\n",
        "#         MLA_compare.loc[row_index, 'F1'] = format(cv_results['train_f1'].mean(), \"10.4f\")\n",
        "#         row_index+=1\n",
        "#         train_cnt+=1\n",
        "#       elif(\"test\" in i and test_cnt ==0):\n",
        "#         MLA_compare.loc[row_index, 'ModelName'] = Model_Name\n",
        "#         MLA_compare.loc[row_index, 'Dataset'] = \"ValidSet\"\n",
        "#         MLA_compare.loc[row_index, 'Accuracy'] = format(cv_results['test_accuracy'].mean(), \"10.4f\")\n",
        "#         MLA_compare.loc[row_index, 'Precision'] = format(cv_results['test_precision'].mean(), \"10.4f\")\n",
        "#         MLA_compare.loc[row_index, 'Recall'] = format(cv_results['test_recall'].mean(), \"10.4f\")\n",
        "#         MLA_compare.loc[row_index, 'F1'] = format(cv_results['test_f1'].mean(), \"10.4f\")\n",
        "#         row_index+=1\n",
        "#         test_cnt+=1"
      ],
      "execution_count": 0,
      "outputs": []
    },
    {
      "cell_type": "code",
      "metadata": {
        "id": "PhUfW9N2omQU",
        "colab_type": "code",
        "colab": {}
      },
      "source": [
        "# MLA_compare.sort_values(by = ['Dataset','Accuracy'], ascending = False, inplace = True)\n",
        "# MLA_compare['Accuracy'] = MLA_compare['Accuracy'].astype(float)\n",
        "# MLA_compare.to_csv(\"../gdrive/My Drive/sds/data/MLA_compare_2.csv\")\n",
        "# display(MLA_compare)"
      ],
      "execution_count": 0,
      "outputs": []
    },
    {
      "cell_type": "code",
      "metadata": {
        "id": "8hhCMu_mhgkF",
        "colab_type": "code",
        "colab": {}
      },
      "source": [
        "# #barplot using https://seaborn.pydata.org/generated/seaborn.barplot.html\n",
        "# plt.figure(figsize=(8,6))\n",
        "# sns.barplot(x='Accuracy', y = 'ModelName', data = MLA_compare[MLA_compare['Dataset']== 'ValidSet'], palette=sns.husl_palette(n_colors=20,l=.7))\n",
        "\n",
        "# #prettify using pyplot: https://matplotlib.org/api/pyplot_api.html\n",
        "# plt.title('Machine Learning Algorithm Accuracy Score \\n')\n",
        "# plt.xlabel('Accuracy Score (%)')\n",
        "# plt.ylabel('Algorithm')\n",
        "# plt.show()"
      ],
      "execution_count": 0,
      "outputs": []
    },
    {
      "cell_type": "markdown",
      "metadata": {
        "id": "vITa1FbtHlu0",
        "colab_type": "text"
      },
      "source": [
        "## #7.Model Selection"
      ]
    },
    {
      "cell_type": "code",
      "metadata": {
        "id": "HPbWb7ZmSqr-",
        "colab_type": "code",
        "colab": {}
      },
      "source": [
        "# top_models = MLA_compare[:4]['ModelName'].values # 상위 4개 모델 Tuninig\n",
        "# top_models"
      ],
      "execution_count": 0,
      "outputs": []
    },
    {
      "cell_type": "markdown",
      "metadata": {
        "id": "AN0EUWQzFJDE",
        "colab_type": "text"
      },
      "source": [
        "## #8. Hyper Parameter Tuning\n",
        ": GridSearch, RandomizedSearch, BaysianOptimization에 대한 이론적 배경 서술(Baysian은 적용안할 예정이라 굳이 안써도 무관할 듯)"
      ]
    },
    {
      "cell_type": "markdown",
      "metadata": {
        "id": "Yeg7urHlTKUs",
        "colab_type": "text"
      },
      "source": [
        "### #8-1. GridSearchCV"
      ]
    },
    {
      "cell_type": "code",
      "metadata": {
        "id": "35Z6yuNWDIKQ",
        "colab_type": "code",
        "colab": {}
      },
      "source": [
        "cv=2"
      ],
      "execution_count": 0,
      "outputs": []
    },
    {
      "cell_type": "markdown",
      "metadata": {
        "id": "FBbKXzkI4uwM",
        "colab_type": "text"
      },
      "source": [
        "#### 8-1-1. Logistic Regression"
      ]
    },
    {
      "cell_type": "code",
      "metadata": {
        "id": "fEHjG0XGx-KN",
        "colab_type": "code",
        "colab": {
          "base_uri": "https://localhost:8080/",
          "height": 1000
        },
        "outputId": "4b80d254-fb29-4ea0-9644-fece49d31ca2"
      },
      "source": [
        "lr_clf = linear_model.LogisticRegression()\n",
        "lr_clf.fit(train_x, train_y)\n",
        "print(lr_clf)\n",
        "\n",
        "# GridSearch 이전 기본 모델 출력\n",
        "result_summary(lr_clf, test_x, test_y)\n",
        "\n",
        "# GridSearch 시행\n",
        "\n",
        "param_grid = {}\n",
        "param_grid[\"C\"] =  [0.001, 0.01, 0.1, 10]\n",
        "param_grid[\"penalty\"] =  ['l1','l2']\n",
        "param_grid[\"max_iter\"] = [100,150]\n",
        "\n",
        "grid_lr_clf = GridSearchCV(lr_clf, param_grid, n_jobs=-1, cv=cv, verbose=1) \n",
        "grid_lr_clf.fit(train_x, train_y)\n",
        "print(grid_lr_clf.best_estimator_)\n",
        "\n",
        "# GridSearch 이후 결과 출력\n",
        "result_summary(grid_lr_clf.best_estimator_, test_x, test_y) "
      ],
      "execution_count": 35,
      "outputs": [
        {
          "output_type": "stream",
          "text": [
            "LogisticRegression(C=1.0, class_weight=None, dual=False, fit_intercept=True,\n",
            "                   intercept_scaling=1, l1_ratio=None, max_iter=100,\n",
            "                   multi_class='warn', n_jobs=None, penalty='l2',\n",
            "                   random_state=None, solver='warn', tol=0.0001, verbose=0,\n",
            "                   warm_start=False)\n",
            "Accuracy: 0.6433\n",
            "Confusion Matrix: \n",
            " [[6482 3598]\n",
            " [3535 6385]]\n",
            "Classification Report Matrix: \n",
            "               precision    recall  f1-score   support\n",
            "\n",
            "         0.0      0.647     0.643     0.645     10080\n",
            "         1.0      0.640     0.644     0.642      9920\n",
            "\n",
            "    accuracy                          0.643     20000\n",
            "   macro avg      0.643     0.643     0.643     20000\n",
            "weighted avg      0.643     0.643     0.643     20000\n",
            "\n",
            "roc_auc score is : 0.6434\n"
          ],
          "name": "stdout"
        },
        {
          "output_type": "display_data",
          "data": {
            "image/png": "[encoded data removed]",
            "text/plain": [
              "<Figure size 432x288 with 1 Axes>"
            ]
          },
          "metadata": {
            "tags": []
          }
        },
        {
          "output_type": "stream",
          "text": [
            "Fitting 2 folds for each of 16 candidates, totalling 32 fits\n"
          ],
          "name": "stdout"
        },
        {
          "output_type": "stream",
          "text": [
            "[Parallel(n_jobs=-1)]: Using backend LokyBackend with 2 concurrent workers.\n",
            "[Parallel(n_jobs=-1)]: Done  32 out of  32 | elapsed:  8.6min finished\n"
          ],
          "name": "stderr"
        },
        {
          "output_type": "stream",
          "text": [
            "LogisticRegression(C=10, class_weight=None, dual=False, fit_intercept=True,\n",
            "                   intercept_scaling=1, l1_ratio=None, max_iter=100,\n",
            "                   multi_class='warn', n_jobs=None, penalty='l2',\n",
            "                   random_state=None, solver='warn', tol=0.0001, verbose=0,\n",
            "                   warm_start=False)\n",
            "Accuracy: 0.6440\n",
            "Confusion Matrix: \n",
            " [[6487 3593]\n",
            " [3528 6392]]\n",
            "Classification Report Matrix: \n",
            "               precision    recall  f1-score   support\n",
            "\n",
            "         0.0      0.648     0.644     0.646     10080\n",
            "         1.0      0.640     0.644     0.642      9920\n",
            "\n",
            "    accuracy                          0.644     20000\n",
            "   macro avg      0.644     0.644     0.644     20000\n",
            "weighted avg      0.644     0.644     0.644     20000\n",
            "\n",
            "roc_auc score is : 0.6440\n"
          ],
          "name": "stdout"
        },
        {
          "output_type": "display_data",
          "data": {
            "image/png": "[encoded data removed]",
            "text/plain": [
              "<Figure size 432x288 with 1 Axes>"
            ]
          },
          "metadata": {
            "tags": []
          }
        }
      ]
    },
    {
      "cell_type": "markdown",
      "metadata": {
        "id": "BAHSyJcC488i",
        "colab_type": "text"
      },
      "source": [
        "#### 8-1-2. LinearDiscriminantAnalysis\n",
        "선형판별분석:데이터를 특정 한 축에 사영(projection)한 후에 두 범주를 잘 구분할 수 있는 직선을 찾는 걸 목표"
      ]
    },
    {
      "cell_type": "code",
      "metadata": {
        "colab_type": "code",
        "id": "oa7N2ulp4-eh",
        "colab": {
          "base_uri": "https://localhost:8080/",
          "height": 1000
        },
        "outputId": "8c5eaa44-7b66-4742-b5c8-ac9fec883c1a"
      },
      "source": [
        "lda_clf = discriminant_analysis.LinearDiscriminantAnalysis()\n",
        "lda_clf.fit(train_x,train_y)\n",
        "print(lda_clf)\n",
        "\n",
        "# GridSearch 이전 기본 모델 출력\n",
        "result_summary(lda_clf, test_x, test_y)\n",
        "\n",
        "param_grid = {'solver':('svd','lsqr')}\n",
        "\n",
        "grid_lda_clf = GridSearchCV(lda_clf, param_grid, n_jobs=-1, cv=cv, verbose=1)  \n",
        "grid_lda_clf.fit(train_x, train_y)\n",
        "print(grid_lda_clf.best_estimator_)\n",
        "\n",
        "# GridSearch 이후 결과 출력\n",
        "result_summary(grid_lda_clf.best_estimator_, test_x, test_y) "
      ],
      "execution_count": 37,
      "outputs": [
        {
          "output_type": "stream",
          "text": [
            "LinearDiscriminantAnalysis(n_components=None, priors=None, shrinkage=None,\n",
            "                           solver='svd', store_covariance=False, tol=0.0001)\n",
            "Accuracy: 0.6440\n",
            "Confusion Matrix: \n",
            " [[6518 3562]\n",
            " [3558 6362]]\n",
            "Classification Report Matrix: \n",
            "               precision    recall  f1-score   support\n",
            "\n",
            "         0.0      0.647     0.647     0.647     10080\n",
            "         1.0      0.641     0.641     0.641      9920\n",
            "\n",
            "    accuracy                          0.644     20000\n",
            "   macro avg      0.644     0.644     0.644     20000\n",
            "weighted avg      0.644     0.644     0.644     20000\n",
            "\n",
            "roc_auc score is : 0.6440\n"
          ],
          "name": "stdout"
        },
        {
          "output_type": "display_data",
          "data": {
            "image/png": "[encoded data removed]",
            "text/plain": [
              "<Figure size 432x288 with 1 Axes>"
            ]
          },
          "metadata": {
            "tags": []
          }
        },
        {
          "output_type": "stream",
          "text": [
            "Fitting 2 folds for each of 2 candidates, totalling 4 fits\n"
          ],
          "name": "stdout"
        },
        {
          "output_type": "stream",
          "text": [
            "[Parallel(n_jobs=-1)]: Using backend LokyBackend with 2 concurrent workers.\n",
            "[Parallel(n_jobs=-1)]: Done   4 out of   4 | elapsed:    6.2s finished\n"
          ],
          "name": "stderr"
        },
        {
          "output_type": "stream",
          "text": [
            "LinearDiscriminantAnalysis(n_components=None, priors=None, shrinkage=None,\n",
            "                           solver='svd', store_covariance=False, tol=0.0001)\n",
            "Accuracy: 0.6440\n",
            "Confusion Matrix: \n",
            " [[6518 3562]\n",
            " [3558 6362]]\n",
            "Classification Report Matrix: \n",
            "               precision    recall  f1-score   support\n",
            "\n",
            "         0.0      0.647     0.647     0.647     10080\n",
            "         1.0      0.641     0.641     0.641      9920\n",
            "\n",
            "    accuracy                          0.644     20000\n",
            "   macro avg      0.644     0.644     0.644     20000\n",
            "weighted avg      0.644     0.644     0.644     20000\n",
            "\n",
            "roc_auc score is : 0.6440\n"
          ],
          "name": "stdout"
        },
        {
          "output_type": "display_data",
          "data": {
            "image/png": "[encoded data removed]",
            "text/plain": [
              "<Figure size 432x288 with 1 Axes>"
            ]
          },
          "metadata": {
            "tags": []
          }
        }
      ]
    },
    {
      "cell_type": "markdown",
      "metadata": {
        "id": "ZfZmihfj6Bg2",
        "colab_type": "text"
      },
      "source": [
        "#### 8-1-3. XGBoost Classifier "
      ]
    },
    {
      "cell_type": "code",
      "metadata": {
        "id": "FwkdCfO548ZU",
        "colab_type": "code",
        "colab": {
          "base_uri": "https://localhost:8080/",
          "height": 767
        },
        "outputId": "d572a660-8e64-4fe5-ec8f-d0e5f2a76940"
      },
      "source": [
        "xgb_clf = XGBClassifier()\n",
        "\n",
        "# GridSearch 결과 결과값 향상 없음\n",
        "one_to_left = st.beta(100, 1) \n",
        "from_zero_positive = st.expon(0, 50)\n",
        "\n",
        "param_grid = {}\n",
        "param_grid[\"n_estimators\"] =  [3, 5, 10]\n",
        "param_grid[\"max_depth\"] =  [3, 5, 10]\n",
        "param_grid[\"learning_rate\"] = [0.05, 0.1, 0.5]\n",
        "\n",
        "grid_xgb_clf = GridSearchCV(xgb_clf, param_grid, n_jobs=-1, cv=cv, verbose=1)  \n",
        "grid_xgb_clf.fit(train_x, train_y) \n",
        "print(grid_xgb_clf.best_estimator_)\n",
        "\n",
        "# RandomizedSearch 이후 결과 출력\n",
        "result_summary(grid_xgb_clf.best_estimator_, test_x, test_y) "
      ],
      "execution_count": 40,
      "outputs": [
        {
          "output_type": "stream",
          "text": [
            "Fitting 2 folds for each of 27 candidates, totalling 54 fits\n"
          ],
          "name": "stdout"
        },
        {
          "output_type": "stream",
          "text": [
            "[Parallel(n_jobs=-1)]: Using backend LokyBackend with 2 concurrent workers.\n",
            "[Parallel(n_jobs=-1)]: Done  46 tasks      | elapsed:  1.4min\n",
            "[Parallel(n_jobs=-1)]: Done  54 out of  54 | elapsed:  1.7min finished\n"
          ],
          "name": "stderr"
        },
        {
          "output_type": "stream",
          "text": [
            "XGBClassifier(base_score=0.5, booster='gbtree', colsample_bylevel=1,\n",
            "              colsample_bynode=1, colsample_bytree=1, gamma=0,\n",
            "              learning_rate=0.5, max_delta_step=0, max_depth=3,\n",
            "              min_child_weight=1, missing=None, n_estimators=10, n_jobs=1,\n",
            "              nthread=None, objective='binary:logistic', random_state=0,\n",
            "              reg_alpha=0, reg_lambda=1, scale_pos_weight=1, seed=None,\n",
            "              silent=None, subsample=1, verbosity=1)\n",
            "Accuracy: 0.6411\n",
            "Confusion Matrix: \n",
            " [[6440 3640]\n",
            " [3539 6381]]\n",
            "Classification Report Matrix: \n",
            "               precision    recall  f1-score   support\n",
            "\n",
            "         0.0      0.645     0.639     0.642     10080\n",
            "         1.0      0.637     0.643     0.640      9920\n",
            "\n",
            "    accuracy                          0.641     20000\n",
            "   macro avg      0.641     0.641     0.641     20000\n",
            "weighted avg      0.641     0.641     0.641     20000\n",
            "\n",
            "roc_auc score is : 0.6411\n"
          ],
          "name": "stdout"
        },
        {
          "output_type": "display_data",
          "data": {
            "image/png": "[encoded data removed]",
            "text/plain": [
              "<Figure size 432x288 with 1 Axes>"
            ]
          },
          "metadata": {
            "tags": []
          }
        }
      ]
    },
    {
      "cell_type": "markdown",
      "metadata": {
        "id": "gNGcIPj16SYb",
        "colab_type": "text"
      },
      "source": [
        "#### 8-1-4. Gradient Boosting Classifier "
      ]
    },
    {
      "cell_type": "code",
      "metadata": {
        "id": "uZv5HSco48Mn",
        "colab_type": "code",
        "colab": {
          "base_uri": "https://localhost:8080/",
          "height": 821
        },
        "outputId": "de23f9eb-0b72-4fb1-9df2-5733cedfd4f2"
      },
      "source": [
        "gb_clf = GradientBoostingClassifier()\n",
        "# GridSearch 결과 결과값 향상 없음\n",
        "one_to_left = st.beta(100, 1) \n",
        "from_zero_positive = st.expon(0, 50)\n",
        "\n",
        "param_grid = {}\n",
        "param_grid[\"n_estimators\"] =  [3, 5, 10]\n",
        "param_grid[\"max_depth\"] =  [3, 5, 10]\n",
        "param_grid[\"learning_rate\"] = [0.05, 0.1, 0.5]\n",
        "\n",
        "grid_gb_clf = GridSearchCV(gb_clf, param_grid, n_jobs=-1, cv=cv, verbose=1)  \n",
        "grid_gb_clf.fit(train_x, train_y) \n",
        "print(grid_gb_clf.best_estimator_)\n",
        "\n",
        "# RandomizedSearch 이후 결과 출력\n",
        "result_summary(grid_gb_clf.best_estimator_, test_x, test_y) "
      ],
      "execution_count": 41,
      "outputs": [
        {
          "output_type": "stream",
          "text": [
            "Fitting 2 folds for each of 27 candidates, totalling 54 fits\n"
          ],
          "name": "stdout"
        },
        {
          "output_type": "stream",
          "text": [
            "[Parallel(n_jobs=-1)]: Using backend LokyBackend with 2 concurrent workers.\n",
            "[Parallel(n_jobs=-1)]: Done  46 tasks      | elapsed:  6.9min\n",
            "[Parallel(n_jobs=-1)]: Done  54 out of  54 | elapsed:  9.4min finished\n"
          ],
          "name": "stderr"
        },
        {
          "output_type": "stream",
          "text": [
            "GradientBoostingClassifier(criterion='friedman_mse', init=None,\n",
            "                           learning_rate=0.5, loss='deviance', max_depth=3,\n",
            "                           max_features=None, max_leaf_nodes=None,\n",
            "                           min_impurity_decrease=0.0, min_impurity_split=None,\n",
            "                           min_samples_leaf=1, min_samples_split=2,\n",
            "                           min_weight_fraction_leaf=0.0, n_estimators=10,\n",
            "                           n_iter_no_change=None, presort='auto',\n",
            "                           random_state=None, subsample=1.0, tol=0.0001,\n",
            "                           validation_fraction=0.1, verbose=0,\n",
            "                           warm_start=False)\n",
            "Accuracy: 0.6409\n",
            "Confusion Matrix: \n",
            " [[6415 3665]\n",
            " [3518 6402]]\n",
            "Classification Report Matrix: \n",
            "               precision    recall  f1-score   support\n",
            "\n",
            "         0.0      0.646     0.636     0.641     10080\n",
            "         1.0      0.636     0.645     0.641      9920\n",
            "\n",
            "    accuracy                          0.641     20000\n",
            "   macro avg      0.641     0.641     0.641     20000\n",
            "weighted avg      0.641     0.641     0.641     20000\n",
            "\n",
            "roc_auc score is : 0.6409\n"
          ],
          "name": "stdout"
        },
        {
          "output_type": "display_data",
          "data": {
            "image/png": "[encoded data removed]",
            "text/plain": [
              "<Figure size 432x288 with 1 Axes>"
            ]
          },
          "metadata": {
            "tags": []
          }
        }
      ]
    },
    {
      "cell_type": "markdown",
      "metadata": {
        "colab_type": "text",
        "id": "8htzg6UDI0lr"
      },
      "source": [
        "### 8-2. RandomizedSearchCV\n",
        "###### GridSearch 최적값을 기본으로 앞뒤 쪽 RandomizedSearch로 최적값 산출"
      ]
    },
    {
      "cell_type": "code",
      "metadata": {
        "id": "qHzWB45oCFu9",
        "colab_type": "code",
        "colab": {}
      },
      "source": [
        "cv=5"
      ],
      "execution_count": 0,
      "outputs": []
    },
    {
      "cell_type": "markdown",
      "metadata": {
        "id": "kB6t-vBa6eSR",
        "colab_type": "text"
      },
      "source": [
        "#### 8-2-1. Logistic Regression"
      ]
    },
    {
      "cell_type": "code",
      "metadata": {
        "id": "y9Y6i4FPf8ZS",
        "colab_type": "code",
        "colab": {
          "base_uri": "https://localhost:8080/",
          "height": 35
        },
        "outputId": "2b1da47e-f8c6-4aca-eb6b-ec9fee7f1a46"
      },
      "source": [
        "print(st.uniform(10, 1))"
      ],
      "execution_count": 43,
      "outputs": [
        {
          "output_type": "stream",
          "text": [
            "<scipy.stats._distn_infrastructure.rv_frozen object at 0x7ff0594abc18>\n"
          ],
          "name": "stdout"
        }
      ]
    },
    {
      "cell_type": "code",
      "metadata": {
        "id": "4ppVBL4f6sXO",
        "colab_type": "code",
        "colab": {
          "base_uri": "https://localhost:8080/",
          "height": 731
        },
        "outputId": "ee4c3238-f01b-40ac-fdac-f26ffa3448a6"
      },
      "source": [
        "# GridSearch 결과: 0.6440\n",
        "# LogisticRegression(C=10, class_weight=None, dual=False, fit_intercept=True,\n",
        "#                    intercept_scaling=1, l1_ratio=None, max_iter=100,\n",
        "#                    multi_class='warn', n_jobs=None, penalty='l2',\n",
        "#                    random_state=None, solver='warn', tol=0.0001, verbose=0,\n",
        "#                    warm_start=False)\n",
        "\n",
        "params = {\n",
        "          \"C\": st.uniform(5, 10),\n",
        "          \"penalty\":  ['l2'],\n",
        "          \"max_iter\": st.randint(80, 100),\n",
        "          }\n",
        "\n",
        "rs_lr_clf = RandomizedSearchCV(lr_clf, params, n_jobs=-1, cv=cv, verbose=1) \n",
        "rs_lr_clf.fit(train_x, train_y)\n",
        "print(rs_lr_clf.best_estimator_)\n",
        "\n",
        "result_summary(rs_lr_clf.best_estimator_, test_x, test_y) \n",
        "\n",
        "# RandomizedSearchCV의 Logistic Regression Tuning 결과 : 0.6440에서 0.6441으로 성능 향상\n",
        "# lr_clf_best = LogisticRegression(C=12.707438034845635, class_weight=None, dual=False,\n",
        "#                    fit_intercept=True, intercept_scaling=1, l1_ratio=None,\n",
        "#                    max_iter=87, multi_class='warn', n_jobs=None, penalty='l2',\n",
        "#                    random_state=None, solver='warn', tol=0.0001, verbose=0,\n",
        "#                    warm_start=False)"
      ],
      "execution_count": 51,
      "outputs": [
        {
          "output_type": "stream",
          "text": [
            "Fitting 5 folds for each of 10 candidates, totalling 50 fits\n"
          ],
          "name": "stdout"
        },
        {
          "output_type": "stream",
          "text": [
            "[Parallel(n_jobs=-1)]: Using backend LokyBackend with 2 concurrent workers.\n",
            "[Parallel(n_jobs=-1)]: Done  46 tasks      | elapsed:  9.3min\n",
            "[Parallel(n_jobs=-1)]: Done  50 out of  50 | elapsed:  9.9min finished\n"
          ],
          "name": "stderr"
        },
        {
          "output_type": "stream",
          "text": [
            "LogisticRegression(C=12.707438034845635, class_weight=None, dual=False,\n",
            "                   fit_intercept=True, intercept_scaling=1, l1_ratio=None,\n",
            "                   max_iter=87, multi_class='warn', n_jobs=None, penalty='l2',\n",
            "                   random_state=None, solver='warn', tol=0.0001, verbose=0,\n",
            "                   warm_start=False)\n",
            "Accuracy: 0.6441\n",
            "Confusion Matrix: \n",
            " [[6489 3591]\n",
            " [3528 6392]]\n",
            "Classification Report Matrix: \n",
            "               precision    recall  f1-score   support\n",
            "\n",
            "         0.0      0.648     0.644     0.646     10080\n",
            "         1.0      0.640     0.644     0.642      9920\n",
            "\n",
            "    accuracy                          0.644     20000\n",
            "   macro avg      0.644     0.644     0.644     20000\n",
            "weighted avg      0.644     0.644     0.644     20000\n",
            "\n",
            "roc_auc score is : 0.6441\n"
          ],
          "name": "stdout"
        },
        {
          "output_type": "display_data",
          "data": {
            "image/png": "[encoded data removed]",
            "text/plain": [
              "<Figure size 432x288 with 1 Axes>"
            ]
          },
          "metadata": {
            "tags": []
          }
        }
      ]
    },
    {
      "cell_type": "markdown",
      "metadata": {
        "id": "-9Xkv0gj6eEf",
        "colab_type": "text"
      },
      "source": [
        "#### 8-2-2. LinearDiscriminantAnalysis"
      ]
    },
    {
      "cell_type": "code",
      "metadata": {
        "id": "KxWwl2eB6s6c",
        "colab_type": "code",
        "colab": {}
      },
      "source": [
        "# RandomizedSearchCV 결과 Accuracy: 0.6435로 동일하여 아래 코드 수행 안함\n",
        "params = {\n",
        "           \"solver\":['svd', 'lsqr'],\n",
        "           \"tol\": st.uniform(1.0e-5, 1.0e-3),\n",
        "        }\n",
        "rs_lad_clf = RandomizedSearchCV(lda_clf, params, n_jobs=-1, cv=cv, verbose=1)  \n",
        "rs_lad_clf.fit(train_x, train_y)\n",
        "print(rs_lad_clf.best_estimator_)\n",
        "\n",
        "# RandomizedSearch 이후 결과 출력\n",
        "result_summary(rs_lad_clf.best_estimator_, test_x, test_y)\n",
        "\n",
        "lda_clf_best = LinearDiscriminantAnalysis(n_components=None, priors=None, shrinkage=None,\n",
        "                           solver='svd', store_covariance=False, tol=0.0001)"
      ],
      "execution_count": 0,
      "outputs": []
    },
    {
      "cell_type": "markdown",
      "metadata": {
        "id": "WUdZEEQ-6d6b",
        "colab_type": "text"
      },
      "source": [
        "#### 8-2-3. XGBoost Classifier "
      ]
    },
    {
      "cell_type": "code",
      "metadata": {
        "id": "IVz5b1V56tZO",
        "colab_type": "code",
        "colab": {}
      },
      "source": [
        "# RandomizedSearchCV 결과 Accuracy: 0.6436에서 0.6446으로 성능 향상\n",
        "one_to_left = st.beta(100, 1) \n",
        "from_zero_positive = st.expon(0, 50)\n",
        "\n",
        "params = {  \n",
        "    \"n_estimators\": st.randint(3, 100),\n",
        "    \"max_depth\": st.randint(3, 40),\n",
        "    \"learning_rate\": st.uniform(0.05, 0.9),\n",
        "    \"colsample_bytree\": one_to_left,\n",
        "    \"subsample\": one_to_left,\n",
        "    \"gamma\": st.uniform(0, 10),\n",
        "    'reg_alpha': from_zero_positive,\n",
        "    \"min_child_weight\": from_zero_positive,\n",
        "}\n",
        "\n",
        "rand_xgb_clf = RandomizedSearchCV(xgb_clf, params, n_jobs=-1, cv=cv, verbose=1)  \n",
        "rand_xgb_clf.fit(train_x, train_y) \n",
        "print(rand_xgb_clf.best_estimator_)\n",
        "\n",
        "# RandomizedSearch 이후 결과 출력\n",
        "result_summary(rand_xgb_clf.best_estimator_, test_x, test_y) \n",
        "\n",
        "# XGBoost Test\n",
        "xgb_clf_best = XGBClassifier(base_score=0.5, booster='gbtree', colsample_bylevel=1,\n",
        "              colsample_bynode=1, colsample_bytree=0.9954227711332254,\n",
        "              gamma=4.4387091415399835, learning_rate=0.5931116776605618,\n",
        "              max_delta_step=0, max_depth=31,\n",
        "              min_child_weight=50.14224905929251, missing=None, n_estimators=20,\n",
        "              n_jobs=1, nthread=None, nthreads=-1, objective='binary:logistic',\n",
        "              random_state=0, reg_alpha=88.099034189603, reg_lambda=1,\n",
        "              scale_pos_weight=1, seed=None, silent=None,\n",
        "              subsample=0.9978691522916254, verbosity=1)"
      ],
      "execution_count": 0,
      "outputs": []
    },
    {
      "cell_type": "markdown",
      "metadata": {
        "id": "BB3IALtv6dsM",
        "colab_type": "text"
      },
      "source": [
        "#### 8-2-4. Gradient Boosting Classifier "
      ]
    },
    {
      "cell_type": "code",
      "metadata": {
        "id": "455foY8w6uFt",
        "colab_type": "code",
        "colab": {}
      },
      "source": [
        "# 성능 동일\n",
        "one_to_left = st.beta(100, 1)  \n",
        "from_zero_positive = st.expon(0, 50)\n",
        "\n",
        "params = {\n",
        "    \"loss\":[\"deviance\"],\n",
        "    \"learning_rate\": st.uniform(0.01, 0.2),\n",
        "    \"min_samples_split\": np.linspace(0.1, 0.5, 12),\n",
        "    \"min_samples_leaf\": np.linspace(0.1, 0.5, 12),\n",
        "    \"max_depth\":st.randint(3, 8),\n",
        "    \"max_features\":[\"log2\",\"sqrt\"],\n",
        "    \"criterion\": [\"friedman_mse\",  \"mae\"],\n",
        "    \"subsample\":st.uniform(0.5, 0.5),\n",
        "    }\n",
        "\n",
        "rs_gb_clf = RandomizedSearchCV(gb_clf, params, n_jobs=-1, cv=cv, verbose=1)  \n",
        "rs_gb_clf.fit(train_x, train_y) \n",
        "print(rs_gb_clf.best_estimator_)\n",
        "\n",
        "# GridSearch 이후 결과 출력\n",
        "result_summary(rs_gb_clf.best_estimator_, test_x, test_y) \n",
        "\n",
        "gb_clf_best = GradientBoostingClassifier(criterion='friedman_mse', init=None,\n",
        "                           learning_rate=0.1, loss='deviance', max_depth=3,\n",
        "                           max_features=None, max_leaf_nodes=None,\n",
        "                           min_impurity_decrease=0.0, min_impurity_split=None,\n",
        "                           min_samples_leaf=1, min_samples_split=2,\n",
        "                           min_weight_fraction_leaf=0.0, n_estimators=100,\n",
        "                           n_iter_no_change=None, presort='auto',\n",
        "                           random_state=None, subsample=1.0, tol=0.0001,\n",
        "                           validation_fraction=0.1, verbose=0,\n",
        "                           warm_start=False)"
      ],
      "execution_count": 0,
      "outputs": []
    },
    {
      "cell_type": "markdown",
      "metadata": {
        "id": "DbjLT6hg-vpq",
        "colab_type": "text"
      },
      "source": [
        "## #9. Ensemble Models"
      ]
    },
    {
      "cell_type": "code",
      "metadata": {
        "id": "YHXKFHwA-ysG",
        "colab_type": "code",
        "colab": {}
      },
      "source": [
        "# 앙상블을 위한 기능 구현\n",
        "proba_lr = lr_clf_best.predict_proba(test_x)\n",
        "proba_lda = lda_clf_best.predict_proba(test_x)\n",
        "proba_xgb = xgb_clf_best.predict_proba(test_x)\n",
        "proba_gb = gb_clf_best.predict_proba(test_x)"
      ],
      "execution_count": 0,
      "outputs": []
    },
    {
      "cell_type": "code",
      "metadata": {
        "id": "itwbzJ2U-6YF",
        "colab_type": "code",
        "colab": {}
      },
      "source": [
        "proba_results = pd.DataFrame(columns=['LR', 'LDA', 'XGB', 'GB', 'MLP', 'RealY'])\n",
        "proba_results['LR'] = proba_lr[:,1]\n",
        "proba_results['LDA'] = proba_lda[:,1]\n",
        "proba_results['XGB'] = proba_xgb[:,1]\n",
        "proba_results['MLP'] = proba_gb[:,1]\n",
        "proba_results['RealY'] = test_y\n",
        "proba_results"
      ],
      "execution_count": 0,
      "outputs": []
    },
    {
      "cell_type": "markdown",
      "metadata": {
        "id": "pZhzVYi8--vj",
        "colab_type": "text"
      },
      "source": [
        "## #10. 확률(스코어) 모델 변환"
      ]
    },
    {
      "cell_type": "code",
      "metadata": {
        "id": "V2qWRnI5_G-f",
        "colab_type": "code",
        "colab": {}
      },
      "source": [
        "# 확률 출력하는 함수 정의\n",
        "def score_calc(model, real_x, real_y):\n",
        "  prob_y = model.predict_proba(real_x)\n",
        "  score_df = pd.DataFrame(columns=['prob_y', 'real_y'])\n",
        "  # print(len(pred_y_xg[:,1]), len(test_y))\n",
        "\n",
        "  score_df['prob_y'] = prob_y[:,1]\n",
        "  score_df['real_y'] = test_y\n",
        "\n",
        "  score_df = score_df.sort_values(by=\"prob_y\", ascending=False)\n",
        "\n",
        "  score_df[\"prob_bin\"] = score_df['prob_y'].apply(lambda x: str(x)[:3])\n",
        "\n",
        "  f={'prob_y':['count'], 'real_y':['sum']}\n",
        "  score_final = score_df.groupby([\"prob_bin\"]).agg(f)\n",
        "  score_final['accuracy'] = score_final['real_y'].values/score_final['prob_y'].values\n",
        "  score_final['portion'] = score_final['real_y'].values/sum(score_final['real_y'].values)\n",
        "  print(score_final)\n",
        "\n",
        "  return score_final"
      ],
      "execution_count": 0,
      "outputs": []
    },
    {
      "cell_type": "code",
      "metadata": {
        "id": "DSJdPc2l_J0U",
        "colab_type": "code",
        "colab": {}
      },
      "source": [
        "print(\"Voting Classifier \\n\")\n",
        "vc_score_df = score_calc(votingS,test_x, test_y)\n",
        "\n",
        "print(\"-\"*50)\n",
        "\n",
        "print(\"Logistic Regression Classifier \\n\")\n",
        "lr_score_df = score_calc(lr_clf,test_x, test_y)\n",
        "\n",
        "print(\"-\"*50)\n",
        "\n",
        "print(\"LinearDiscriminantAnalysis Classifier \\n\")\n",
        "lda_score_df = score_calc(lda_clf,test_x, test_y)\n",
        "\n",
        "print(\"-\"*50)\n",
        "\n",
        "print(\"XGBClassifier Classifier \\n\")\n",
        "xgb_score_df = score_calc(xgb_clf,test_x, test_y)\n",
        "\n",
        "print(\"-\"*50)\n",
        "\n",
        "print(\"GradientBoostingClassifier \\n\")\n",
        "gb_score_df = score_calc(gb_clf,test_x, test_y)"
      ],
      "execution_count": 0,
      "outputs": []
    },
    {
      "cell_type": "code",
      "metadata": {
        "id": "JxBY4_fI_NYM",
        "colab_type": "code",
        "colab": {}
      },
      "source": [
        "vc_score_df.plot.hist(x=vc_score_df.index.values, y=vc_score_df[\"prob_y\",\"count\"])"
      ],
      "execution_count": 0,
      "outputs": []
    },
    {
      "cell_type": "code",
      "metadata": {
        "id": "58-JDkVXLq9o",
        "colab_type": "code",
        "colab": {}
      },
      "source": [
        ""
      ],
      "execution_count": 0,
      "outputs": []
    }
  ]
}