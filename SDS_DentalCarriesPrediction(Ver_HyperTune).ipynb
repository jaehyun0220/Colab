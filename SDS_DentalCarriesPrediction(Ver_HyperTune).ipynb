{
  "nbformat": 4,
  "nbformat_minor": 0,
  "metadata": {
    "kernelspec": {
      "name": "python3",
      "display_name": "Python 3"
    },
    "language_info": {
      "codemirror_mode": {
        "name": "ipython",
        "version": 3
      },
      "file_extension": ".py",
      "mimetype": "text/x-python",
      "name": "python",
      "nbconvert_exporter": "python",
      "pygments_lexer": "ipython3",
      "version": "3.6.8"
    },
    "colab": {
      "name": "SDS_DentalCarriesPrediction(#Ver-HyperTune).ipynb",
      "provenance": [],
      "collapsed_sections": [],
      "include_colab_link": true
    },
    "accelerator": "GPU"
  },
  "cells": [
    {
      "cell_type": "markdown",
      "metadata": {
        "id": "view-in-github",
        "colab_type": "text"
      },
      "source": [
        "<a href=\"https://colab.research.google.com/github/jaehyun0220/Colab/blob/master/SDS_DentalCarriesPrediction(Ver_HyperTune).ipynb\" target=\"_parent\"><img src=\"https://colab.research.google.com/assets/colab-badge.svg\" alt=\"Open In Colab\"/></a>"
      ]
    },
    {
      "cell_type": "markdown",
      "metadata": {
        "id": "aTl6Kc03-QOM",
        "colab_type": "text"
      },
      "source": [
        "# 건강검진 데이터를 활용한 치아우식증 발생 예측"
      ]
    },
    {
      "cell_type": "markdown",
      "metadata": {
        "id": "rzRKjmfr-aLz",
        "colab_type": "text"
      },
      "source": [
        "## - Summary. 최종 작업본 (소스코드)\n"
      ]
    },
    {
      "cell_type": "markdown",
      "metadata": {
        "id": "n-PqtwTI-L37",
        "colab_type": "text"
      },
      "source": [
        "## #1. 환경 세팅"
      ]
    },
    {
      "cell_type": "code",
      "metadata": {
        "id": "oERZHfZ04v3N",
        "colab_type": "code",
        "outputId": "79d82f3f-e7a3-48ed-fe03-65f08a26cdc4",
        "colab": {
          "base_uri": "https://localhost:8080/",
          "height": 125
        }
      },
      "source": [
        "# ********************* 제출 불필요 *****************************\n",
        "# Auth 인증 및 Google Drive 활용 Data load\n",
        "from google.colab import drive\n",
        "drive.mount('/gdrive', force_remount=True)"
      ],
      "execution_count": 1,
      "outputs": [
        {
          "output_type": "stream",
          "text": [
            "Go to this URL in a browser: https://accounts.google.com/o/oauth2/auth?client_id=947318989803-6bn6qk8qdgf4n4g3pfee6491hc0brc4i.apps.googleusercontent.com&redirect_uri=urn%3aietf%3awg%3aoauth%3a2.0%3aoob&response_type=code&scope=email%20https%3a%2f%2fwww.googleapis.com%2fauth%2fdocs.test%20https%3a%2f%2fwww.googleapis.com%2fauth%2fdrive%20https%3a%2f%2fwww.googleapis.com%2fauth%2fdrive.photos.readonly%20https%3a%2f%2fwww.googleapis.com%2fauth%2fpeopleapi.readonly\n",
            "\n",
            "Enter your authorization code:\n",
            "··········\n",
            "Mounted at /gdrive\n"
          ],
          "name": "stdout"
        }
      ]
    },
    {
      "cell_type": "code",
      "metadata": {
        "id": "sSbAKlmw4kEe",
        "colab_type": "code",
        "outputId": "69099469-528a-436f-b670-61e092bfd434",
        "colab": {
          "base_uri": "https://localhost:8080/",
          "height": 81
        }
      },
      "source": [
        "# 기본 라이브러리 로드\n",
        "import pandas as pd\n",
        "import numpy as np\n",
        "import os, sys\n",
        "\n",
        "from tqdm import tqdm_notebook\n",
        "\n",
        "import re\n",
        "import tensorflow as tf\n",
        "\n",
        "#데이터 전처리 관련 라이브러리 로드\n",
        "from sklearn import preprocessing\n",
        "from sklearn.preprocessing import MinMaxScaler\n",
        "from sklearn.preprocessing import FunctionTransformer\n",
        "from sklearn.compose import ColumnTransformer\n",
        "from sklearn.pipeline import Pipeline\n",
        "\n",
        "from sklearn.preprocessing import LabelEncoder\n",
        "from sklearn.preprocessing import OneHotEncoder\n",
        "from sklearn.model_selection import ShuffleSplit\n",
        "\n",
        "#모델 알고리즘 로드\n",
        "from sklearn import svm, tree, linear_model, neighbors, naive_bayes, ensemble, discriminant_analysis, gaussian_process\n",
        "from xgboost.sklearn import XGBClassifier\n",
        "import lightgbm as lgb\n",
        "from sklearn.ensemble import RandomForestClassifier, AdaBoostClassifier, GradientBoostingClassifier, ExtraTreesClassifier, VotingClassifier\n",
        "\n",
        "# Deep Learning Model 로드\n",
        "import keras\n",
        "from keras.models import Sequential\n",
        "from keras.layers import Dense, Dropout, Activation, BatchNormalization\n",
        "from keras.wrappers.scikit_learn import KerasClassifier\n",
        "\n",
        "#차원축소 알고리즘 로드\n",
        "from sklearn.decomposition import PCA\n",
        "\n",
        "#HyperParameter Tuning을 위한 라이브러리 로드\n",
        "from sklearn.model_selection import GridSearchCV\n",
        "from sklearn.model_selection import RandomizedSearchCV\n",
        "\n",
        "#모델 평가를 위한 라이브러리 로드\n",
        "from sklearn import metrics, model_selection\n",
        "from sklearn.model_selection import cross_validate\n",
        "from sklearn.metrics import classification_report, confusion_matrix, accuracy_score, roc_auc_score, roc_curve, auc\n",
        "\n",
        "#수학 & 통계 관련 라이브러리 로드\n",
        "import scipy.stats as st\n",
        "from collections import Counter\n",
        "import math\n",
        "\n",
        "#ignore warnings\n",
        "import warnings\n",
        "warnings.filterwarnings('ignore')\n",
        "\n",
        "#Visualization\n",
        "import seaborn as sns\n",
        "import matplotlib as mpl  # 기본 설정 만지는 용도\n",
        "import matplotlib.pyplot as plt  # 그래프 그리는 용도\n",
        "import matplotlib.font_manager as fm  # 폰트 관련 용도\n",
        "\n",
        "\n",
        "#Configure Visualization Defaults\n",
        "#%matplotlib inline = show plots in Jupyter Notebook browser\n",
        "%matplotlib inline\n",
        "mpl.style.use('ggplot')\n",
        "sns.set_style('white')"
      ],
      "execution_count": 2,
      "outputs": [
        {
          "output_type": "display_data",
          "data": {
            "text/html": [
              "<p style=\"color: red;\">\n",
              "The default version of TensorFlow in Colab will soon switch to TensorFlow 2.x.<br>\n",
              "We recommend you <a href=\"https://www.tensorflow.org/guide/migrate\" target=\"_blank\">upgrade</a> now \n",
              "or ensure your notebook will continue to use TensorFlow 1.x via the <code>%tensorflow_version 1.x</code> magic:\n",
              "<a href=\"https://colab.research.google.com/notebooks/tensorflow_version.ipynb\" target=\"_blank\">more info</a>.</p>\n"
            ],
            "text/plain": [
              "<IPython.core.display.HTML object>"
            ]
          },
          "metadata": {
            "tags": []
          }
        },
        {
          "output_type": "stream",
          "text": [
            "Using TensorFlow backend.\n"
          ],
          "name": "stderr"
        }
      ]
    },
    {
      "cell_type": "markdown",
      "metadata": {
        "id": "Gc4xxJHwDUw6",
        "colab_type": "text"
      },
      "source": [
        "### 1-1. 사용자 정의 함수"
      ]
    },
    {
      "cell_type": "code",
      "metadata": {
        "id": "ok8fBYYVDT3m",
        "colab_type": "code",
        "colab": {}
      },
      "source": [
        "# 1. AUC Graph 그리는 함수 선언\n",
        "\n",
        "def auc_graph(roc_auc, fpr, tpr):\n",
        "  plt.title('Receiver Operating Characteristic')\n",
        "  plt.plot(fpr, tpr, 'b', label = 'AUC = %0.2f' % roc_auc)\n",
        "  plt.legend(loc = 'lower right')\n",
        "  plt.plot([0, 1], [0, 1],'r--')\n",
        "  plt.xlim([0, 1])\n",
        "  plt.ylim([0, 1])\n",
        "  plt.ylabel('True Positive Rate')\n",
        "  plt.xlabel('False Positive Rate')\n",
        "  plt.show()\n",
        "\n",
        "# 2. Deep Learning 평가를 위한 평가 함수 정의\n",
        "from keras import backend as K\n",
        "\n",
        "def recall(y_target, y_pred):\n",
        "    y_target_yn = K.round(K.clip(y_target, 0, 1)) # 실제값을 0(Negative) 또는 1(Positive)로 설정\n",
        "    y_pred_yn = K.round(K.clip(y_pred, 0, 1)) # 예측값을 0(Negative) 또는 1(Positive)로 설정\n",
        "    count_true_positive = K.sum(y_target_yn * y_pred_yn) \n",
        "    count_true_positive_false_negative = K.sum(y_target_yn)\n",
        "    recall = count_true_positive / (count_true_positive_false_negative + K.epsilon()) # 'divide by zero error' 예방\n",
        "    return recall # return a single tensor value\n",
        "\n",
        "def precision(y_target, y_pred):\n",
        "    y_pred_yn = K.round(K.clip(y_pred, 0, 1)) # 예측값을 0(Negative) 또는 1(Positive)로 설정\n",
        "    y_target_yn = K.round(K.clip(y_target, 0, 1)) # 실제값을 0(Negative) 또는 1(Positive)로 설정\n",
        "    count_true_positive = K.sum(y_target_yn * y_pred_yn) \n",
        "    count_true_positive_false_positive = K.sum(y_pred_yn)\n",
        "    precision = count_true_positive / (count_true_positive_false_positive + K.epsilon()) \n",
        "    return precision\n",
        "\n",
        "def f1score(y_target, y_pred):\n",
        "    _recall = recall(y_target, y_pred)\n",
        "    _precision = precision(y_target, y_pred)\n",
        "    _f1score = ( 2 * _recall * _precision) / (_recall + _precision+ K.epsilon()) \n",
        "    return _f1score\n",
        "\n",
        "# 3. TEST SET 결과 출력 사용자 함수\n",
        "def result_summary(model, x, y):\n",
        "  pred_y = model.predict(x)\n",
        "  pred_y = (pred_y>0.5)\n",
        "  print(\"Accuracy: {:.4f}\".format(accuracy_score(y, pred_y)))\n",
        "  print(\"Confusion Matrix: \\n\", confusion_matrix(y, pred_y))\n",
        "  print(\"Classification Report Matrix: \\n\", classification_report(y, pred_y, digits=3))\n",
        "\n",
        "  roc_auc = roc_auc_score(y, pred_y)\n",
        "  print(\"roc_auc score is : {:.4f}\".format(roc_auc))\n",
        "\n",
        "  fpr, tpr, threshold = roc_curve(y, pred_y)\n",
        "  roc_auc = auc(fpr, tpr)\n",
        "\n",
        "  auc_graph(roc_auc, fpr, tpr)"
      ],
      "execution_count": 0,
      "outputs": []
    },
    {
      "cell_type": "markdown",
      "metadata": {
        "id": "kbVgUIo5nNxq",
        "colab_type": "text"
      },
      "source": [
        "## #2. 파일 Read 및 기초 탐색"
      ]
    },
    {
      "cell_type": "code",
      "metadata": {
        "id": "H5eXV_Q6AUZt",
        "colab_type": "code",
        "colab": {}
      },
      "source": [
        "set_random_seed = 2580 # Random Seed Setting"
      ],
      "execution_count": 0,
      "outputs": []
    },
    {
      "cell_type": "code",
      "metadata": {
        "id": "iF7GDYjb4kEi",
        "colab_type": "code",
        "outputId": "9bf5dc8e-759d-4f5c-99e7-a12702bfc959",
        "colab": {
          "base_uri": "https://localhost:8080/",
          "height": 650
        }
      },
      "source": [
        "set_random_seed = 2580 # seed 지정\n",
        "target_nm = 'dental_carries' # 타겟 변수 지정\n",
        "\n",
        "#### 2013년 기준 #########################################################################################################################################\n",
        "df_raw_2013 = pd.read_csv('../gdrive/My Drive/sds/data/NHIS_OPEN_GJ_2013_eng.csv', encoding = 'euc-kr')\n",
        "\n",
        "# 컬럼명 내 불필요한 공백 및 특수문자 제거\n",
        "df_raw_2013.rename(columns=lambda x: re.sub('[-=+,#/\\?:^$.@*\\\"※~&%ㆍ!』\\\\‘|\\(\\)\\[\\]\\<\\>`\\'…》 ]', '', x), inplace=True)\n",
        "\n",
        "# 구강검진 결과가 있는 데이터셋만 load\n",
        "df_data = df_raw_2013[df_raw_2013['examine_mouth']==1]\n",
        "\n",
        "# 분석과 관련 없는 변수 및 기타 점검이 어려운 치아 관련 변수 삭제 \n",
        "del_cols = ['baseyear', 'id', 'data_open_date','examine_mouth']\n",
        "df_data.drop(columns=del_cols, axis=1, inplace=True)\n",
        "\n",
        "# 치아우식증 결과가 있는 데이터만 끌고 옴\n",
        "df_data = df_data[~(df_data['dental_carries'].isnull()) & (df_data['dental_carries'] != 2)]\n",
        "\n",
        "# null 포함 데이터 모두 삭제 \n",
        "df_data.dropna(how='any', inplace=True)\n",
        "display(df_data.info())"
      ],
      "execution_count": 5,
      "outputs": [
        {
          "output_type": "stream",
          "text": [
            "<class 'pandas.core.frame.DataFrame'>\n",
            "Int64Index: 380657 entries, 3 to 999998\n",
            "Data columns (total 30 columns):\n",
            "sex                      380657 non-null int64\n",
            "ageband                  380657 non-null int64\n",
            "province                 380657 non-null int64\n",
            "height                   380657 non-null int64\n",
            "weight                   380657 non-null int64\n",
            "waist                    380657 non-null int64\n",
            "sight_l                  380657 non-null float64\n",
            "sight_r                  380657 non-null float64\n",
            "hearing_l                380657 non-null float64\n",
            "hearing_r                380657 non-null float64\n",
            "bp_systolic              380657 non-null int64\n",
            "bp_diastolic             380657 non-null int64\n",
            "bs_before                380657 non-null int64\n",
            "tot_cholesterol          380657 non-null int64\n",
            "triglycerides            380657 non-null int64\n",
            "HDL_cholesterol          380657 non-null int64\n",
            "LDL_cholesterol          380657 non-null float64\n",
            "hemoglobin               380657 non-null float64\n",
            "piu                      380657 non-null float64\n",
            "serum_creatinine         380657 non-null float64\n",
            "AST                      380657 non-null int64\n",
            "ALT                      380657 non-null int64\n",
            "GammaGTP                 380657 non-null int64\n",
            "smoking                  380657 non-null float64\n",
            "drinking                 380657 non-null float64\n",
            "dental_carries           380657 non-null float64\n",
            "missing_tooth            380657 non-null float64\n",
            "dental_abrasion          380657 non-null float64\n",
            "wisdom_teeth_abnormal    380657 non-null float64\n",
            "plaque                   380657 non-null float64\n",
            "dtypes: float64(15), int64(15)\n",
            "memory usage: 90.0 MB\n"
          ],
          "name": "stdout"
        },
        {
          "output_type": "display_data",
          "data": {
            "text/plain": [
              "None"
            ]
          },
          "metadata": {
            "tags": []
          }
        }
      ]
    },
    {
      "cell_type": "markdown",
      "metadata": {
        "id": "mJFp8kWCAeJL",
        "colab_type": "text"
      },
      "source": [
        "### #2-1. 데이터결합후 EDA(최종 결과에는 포함 안함 but 어떤 작업을 했다는 언급 시 필요할듯하여 적어놓음)\n",
        "1. 명목형 데이터의 분포 및 Target 변수와의 연관성\n",
        "2. 수치형 데이터의 분포\n",
        "3. 수치형 데이터 log 취한 이후의 분포\n",
        "\n",
        "\n",
        "- IV 산출 및 외부 변수 결합 이후\n",
        "4. 결합한 외부 변수들의 target 변수 정보 포함도\n",
        "5. 최종 모델 입력 전 변수끼리의 상관관계(다중 공선성 제거)"
      ]
    },
    {
      "cell_type": "markdown",
      "metadata": {
        "id": "U_MDmptRnZ6L",
        "colab_type": "text"
      },
      "source": [
        "## #3. 데이터샘플링 및 Wrangling"
      ]
    },
    {
      "cell_type": "code",
      "metadata": {
        "id": "0MZ5xdWHGf9H",
        "colab_type": "code",
        "outputId": "00a42ab5-f992-4f46-864a-56e78db8e999",
        "colab": {
          "base_uri": "https://localhost:8080/",
          "height": 70
        }
      },
      "source": [
        "# Data Wrangling을 위해 Dataframe 복사 생성\n",
        "df_sample = df_data.copy()\n",
        "print(df_sample[target_nm].value_counts())\n",
        "\n",
        "# 명목형 변수 변경\n",
        "category_features = ['sex', 'ageband', 'height', 'weight','province', 'hearing_l', 'hearing_r', 'smoking','drinking', 'piu', 'missing_tooth', 'dental_abrasion', 'wisdom_teeth_abnormal', 'plaque']\n",
        "\n",
        "for col in df_data.columns:\n",
        "  if col in category_features:\n",
        "    df_sample[col] = df_sample[col].astype(object)"
      ],
      "execution_count": 6,
      "outputs": [
        {
          "output_type": "stream",
          "text": [
            "0.0    288017\n",
            "1.0     92640\n",
            "Name: dental_carries, dtype: int64\n"
          ],
          "name": "stdout"
        }
      ]
    },
    {
      "cell_type": "markdown",
      "metadata": {
        "id": "goz6ZZALGr1E",
        "colab_type": "text"
      },
      "source": [
        "### 3-1. 내부 데이터 중 명목형 변수 범주화"
      ]
    },
    {
      "cell_type": "code",
      "metadata": {
        "id": "S6dYQMsQGf33",
        "colab_type": "code",
        "colab": {}
      },
      "source": [
        "# 명목형 변수의 범주화\n",
        "# 성별코드 변환\n",
        "df_sample[\"C_sex\"] = df_sample[\"sex\"].apply(lambda x:  'Male' if x == 1 else 'Female')\n",
        "\n",
        "# 연령대코드 5세 단위 변환\n",
        "min_age_code = df_sample[\"ageband\"].min()\n",
        "\n",
        "df_sample[\"C_ageband\"] = df_sample[\"ageband\"].apply(lambda x:  (x-1)*5 + 20 if min_age_code == 1 else (x-1)*5).astype(object)\n",
        "\n",
        "# 시도코드 변환\n",
        "df_sample[\"C_province\"] = np.where(df_sample['province'] == 11, 'Seoul', \n",
        "                            np.where(df_sample['province']== 26, 'Busan', \n",
        "                              np.where(df_sample['province'] == 27, 'Daegu', \n",
        "                                np.where(df_sample['province'] == 28, 'Incheon', \n",
        "                                  np.where(df_sample['province'] == 29, 'Kwangju', \n",
        "                                    np.where(df_sample['province'] == 30, 'Daejeon', \n",
        "                                      np.where(df_sample['province'] == 31, 'Ulsan', \n",
        "                                        np.where(df_sample['province'] == 36, 'Sejong', \n",
        "                                          np.where(df_sample['province'] == 41, 'Gyeonggi', \n",
        "                                            np.where(df_sample['province'] == 42, 'Gangwon', \n",
        "                                              np.where(df_sample['province'] == 43, 'Chungbuk', \n",
        "                                                np.where(df_sample['province'] == 44, 'Chungnam', \n",
        "                                                  np.where(df_sample['province'] == 45, 'Jeonbuk', \n",
        "                                                    np.where(df_sample['province'] == 46, 'Jeonnam', \n",
        "                                                      np.where(df_sample['province'] == 47, 'Gyungbuk', \n",
        "                                                        np.where(df_sample['province'] == 48, 'Gyungnam', \n",
        "                                                          np.where(df_sample['province'] == 49, 'Jeju', 'Err')\n",
        "                                      ))))))))))))))))\n",
        "\n",
        "# 청력좌  변환\n",
        "df_sample[\"C_hearing_l\"] = df_sample[\"hearing_l\"].apply(lambda x:  'Normal' if x == 1 else 'Abnormal')\n",
        "\n",
        "# 청력우  변환\n",
        "df_sample[\"C_hearing_r\"] = df_sample[\"hearing_r\"].apply(lambda x:  'Normal' if x == 1 else 'Abnormal')\n",
        "\n",
        "# 요단백  변환\n",
        "df_sample[\"C_piu\"] = df_sample[\"piu\"].apply(lambda x:  'Negative' if x == 1 else 'Positive')\n",
        "\n",
        "# 흡연상태  변환\n",
        "df_sample[\"C_smoking\"] = df_sample[\"smoking\"].apply(lambda x:  'NonSmoking' if x == 1 else ('StopSmoking' if x==2 else 'Smoking'))\n",
        "\n",
        "# 음주여부  변환\n",
        "df_sample[\"C_drinking\"] = df_sample[\"drinking\"].apply(lambda x:  'NonDrinking' if x == 0 else 'Drinking')\n",
        "\n",
        "# 결손치 여부  변환\n",
        "df_sample[\"C_missing_tooth\"] = df_sample[\"missing_tooth\"].apply(lambda x:  'Normal' if x == 0 else 'Abnormal')\n",
        "\n",
        "# 치석 여부  변환\n",
        "df_sample[\"C_dental_abrasion\"] = df_sample[\"dental_abrasion\"].apply(lambda x:  'Normal' if x == 0 else 'Abnormal')\n",
        "\n",
        "# 치석 여부  변환\n",
        "df_sample[\"C_wisdom_teeth_abnormal\"] = df_sample[\"wisdom_teeth_abnormal\"].apply(lambda x:  'Normal' if x == 0 else 'Abnormal')\n",
        "\n",
        "# 치석 여부  변환\n",
        "df_sample[\"C_plaque\"] = df_sample[\"plaque\"].apply(lambda x:  'Normal' if x == 0 else 'Abnormal')\n",
        "\n",
        "# 변환 명목형 원 컬럼 삭제\n",
        "del_obj_trans_cols = ['sex', 'ageband', 'province', 'hearing_l', 'hearing_r', 'piu', 'smoking', 'drinking', 'missing_tooth', 'dental_abrasion', 'wisdom_teeth_abnormal', 'plaque']\n",
        "df_sample.drop(columns=del_obj_trans_cols, axis=1, inplace=True)"
      ],
      "execution_count": 0,
      "outputs": []
    },
    {
      "cell_type": "markdown",
      "metadata": {
        "id": "iUjJxG2RMxbf",
        "colab_type": "text"
      },
      "source": [
        "### 3-2. 내부 데이터 중 수치형 변수 Log화 (EDA 결과 좌측으로 분포가 쏠린 데이터 대상)"
      ]
    },
    {
      "cell_type": "code",
      "metadata": {
        "id": "tulaN0pQGfxz",
        "colab_type": "code",
        "colab": {}
      },
      "source": [
        "# 수치형 변수들 중 분포 이슈로 log 값을 취할 필요 있는 변수들 추출\n",
        "num_ln_target_features = ['sight_l', 'sight_r', 'AST','ALT', 'bs_before','serum_creatinine','GammaGTP','tot_cholesterol', 'triglycerides']\n",
        "\n",
        "# Feature Engineering의 일환으로 Log 값 취한 뒤 Normalization을 하여 변수명 + LN (lognorm)으로 열 추가 후 그래프 다시 그림\n",
        "num_ln_cols = list(map(lambda x: \"LN_\"+str(x), num_ln_target_features))\n",
        "\n",
        "num_pipeline = Pipeline([\n",
        "        ('log_scaler', FunctionTransformer(np.log1p, validate=True)), # pipeline 내 log transformation을 위해 Function Transfomer 사용\n",
        "        ('normalizer', MinMaxScaler()),\n",
        "    ])\n",
        "\n",
        "piped_np = num_pipeline.fit_transform(df_sample[num_ln_target_features])\n",
        "piped_df = pd.DataFrame(piped_np, columns=num_ln_cols)\n",
        "\n",
        "piped_df.head()\n",
        "\n",
        "df_sample.drop(columns=num_ln_target_features, axis=1, inplace=True)"
      ],
      "execution_count": 0,
      "outputs": []
    },
    {
      "cell_type": "code",
      "metadata": {
        "id": "KngWkam6Gfty",
        "colab_type": "code",
        "outputId": "aa6ce9ee-1fd3-4613-edb4-68ea97420bbc",
        "colab": {
          "base_uri": "https://localhost:8080/",
          "height": 250
        }
      },
      "source": [
        "# 기존 Dataframe과 Log 취한 변수들의 Dataframe을 합쳐줌\n",
        "print(\"Before Re-indexing: Data count is \", len(df_sample))\n",
        "df_sample.drop_duplicates()\n",
        "df_sample.reset_index(inplace=True, drop=True)\n",
        "print(\"After Re-indexing: Data count is \", len(df_sample))\n",
        "\n",
        "df_fe = pd.concat([df_sample, piped_df], axis=1)\n",
        "df_fe.head()"
      ],
      "execution_count": 9,
      "outputs": [
        {
          "output_type": "stream",
          "text": [
            "Before Re-indexing: Data count is  380657\n",
            "After Re-indexing: Data count is  380657\n"
          ],
          "name": "stdout"
        },
        {
          "output_type": "execute_result",
          "data": {
            "text/html": [
              "<div>\n",
              "<style scoped>\n",
              "    .dataframe tbody tr th:only-of-type {\n",
              "        vertical-align: middle;\n",
              "    }\n",
              "\n",
              "    .dataframe tbody tr th {\n",
              "        vertical-align: top;\n",
              "    }\n",
              "\n",
              "    .dataframe thead th {\n",
              "        text-align: right;\n",
              "    }\n",
              "</style>\n",
              "<table border=\"1\" class=\"dataframe\">\n",
              "  <thead>\n",
              "    <tr style=\"text-align: right;\">\n",
              "      <th></th>\n",
              "      <th>height</th>\n",
              "      <th>weight</th>\n",
              "      <th>waist</th>\n",
              "      <th>bp_systolic</th>\n",
              "      <th>bp_diastolic</th>\n",
              "      <th>HDL_cholesterol</th>\n",
              "      <th>LDL_cholesterol</th>\n",
              "      <th>hemoglobin</th>\n",
              "      <th>dental_carries</th>\n",
              "      <th>C_sex</th>\n",
              "      <th>C_ageband</th>\n",
              "      <th>C_province</th>\n",
              "      <th>C_hearing_l</th>\n",
              "      <th>C_hearing_r</th>\n",
              "      <th>C_piu</th>\n",
              "      <th>C_smoking</th>\n",
              "      <th>C_drinking</th>\n",
              "      <th>C_missing_tooth</th>\n",
              "      <th>C_dental_abrasion</th>\n",
              "      <th>C_wisdom_teeth_abnormal</th>\n",
              "      <th>C_plaque</th>\n",
              "      <th>LN_sight_l</th>\n",
              "      <th>LN_sight_r</th>\n",
              "      <th>LN_AST</th>\n",
              "      <th>LN_ALT</th>\n",
              "      <th>LN_bs_before</th>\n",
              "      <th>LN_serum_creatinine</th>\n",
              "      <th>LN_GammaGTP</th>\n",
              "      <th>LN_tot_cholesterol</th>\n",
              "      <th>LN_triglycerides</th>\n",
              "    </tr>\n",
              "  </thead>\n",
              "  <tbody>\n",
              "    <tr>\n",
              "      <th>0</th>\n",
              "      <td>145</td>\n",
              "      <td>40</td>\n",
              "      <td>62</td>\n",
              "      <td>110</td>\n",
              "      <td>70</td>\n",
              "      <td>87</td>\n",
              "      <td>110.0</td>\n",
              "      <td>12.4</td>\n",
              "      <td>1.0</td>\n",
              "      <td>Female</td>\n",
              "      <td>20</td>\n",
              "      <td>Chungbuk</td>\n",
              "      <td>Normal</td>\n",
              "      <td>Normal</td>\n",
              "      <td>Negative</td>\n",
              "      <td>NonSmoking</td>\n",
              "      <td>NonDrinking</td>\n",
              "      <td>Normal</td>\n",
              "      <td>Normal</td>\n",
              "      <td>Normal</td>\n",
              "      <td>Normal</td>\n",
              "      <td>0.260671</td>\n",
              "      <td>0.260671</td>\n",
              "      <td>0.324587</td>\n",
              "      <td>0.242257</td>\n",
              "      <td>0.273586</td>\n",
              "      <td>0.097408</td>\n",
              "      <td>0.393001</td>\n",
              "      <td>0.562271</td>\n",
              "      <td>0.524264</td>\n",
              "    </tr>\n",
              "    <tr>\n",
              "      <th>1</th>\n",
              "      <td>145</td>\n",
              "      <td>45</td>\n",
              "      <td>72</td>\n",
              "      <td>100</td>\n",
              "      <td>53</td>\n",
              "      <td>46</td>\n",
              "      <td>140.0</td>\n",
              "      <td>13.1</td>\n",
              "      <td>1.0</td>\n",
              "      <td>Female</td>\n",
              "      <td>20</td>\n",
              "      <td>Seoul</td>\n",
              "      <td>Normal</td>\n",
              "      <td>Normal</td>\n",
              "      <td>Negative</td>\n",
              "      <td>NonSmoking</td>\n",
              "      <td>Drinking</td>\n",
              "      <td>Normal</td>\n",
              "      <td>Normal</td>\n",
              "      <td>Normal</td>\n",
              "      <td>Abnormal</td>\n",
              "      <td>0.214731</td>\n",
              "      <td>0.037939</td>\n",
              "      <td>0.313473</td>\n",
              "      <td>0.301486</td>\n",
              "      <td>0.300466</td>\n",
              "      <td>0.110197</td>\n",
              "      <td>0.313119</td>\n",
              "      <td>0.560370</td>\n",
              "      <td>0.632675</td>\n",
              "    </tr>\n",
              "    <tr>\n",
              "      <th>2</th>\n",
              "      <td>145</td>\n",
              "      <td>60</td>\n",
              "      <td>81</td>\n",
              "      <td>119</td>\n",
              "      <td>79</td>\n",
              "      <td>55</td>\n",
              "      <td>1494.0</td>\n",
              "      <td>12.7</td>\n",
              "      <td>0.0</td>\n",
              "      <td>Female</td>\n",
              "      <td>20</td>\n",
              "      <td>Chungbuk</td>\n",
              "      <td>Normal</td>\n",
              "      <td>Normal</td>\n",
              "      <td>Negative</td>\n",
              "      <td>NonSmoking</td>\n",
              "      <td>NonDrinking</td>\n",
              "      <td>Normal</td>\n",
              "      <td>Normal</td>\n",
              "      <td>Normal</td>\n",
              "      <td>Normal</td>\n",
              "      <td>0.105152</td>\n",
              "      <td>0.214731</td>\n",
              "      <td>0.430787</td>\n",
              "      <td>0.469957</td>\n",
              "      <td>0.389152</td>\n",
              "      <td>0.083842</td>\n",
              "      <td>0.412729</td>\n",
              "      <td>0.578979</td>\n",
              "      <td>0.544586</td>\n",
              "    </tr>\n",
              "    <tr>\n",
              "      <th>3</th>\n",
              "      <td>150</td>\n",
              "      <td>40</td>\n",
              "      <td>61</td>\n",
              "      <td>132</td>\n",
              "      <td>88</td>\n",
              "      <td>83</td>\n",
              "      <td>33.0</td>\n",
              "      <td>13.7</td>\n",
              "      <td>0.0</td>\n",
              "      <td>Female</td>\n",
              "      <td>20</td>\n",
              "      <td>Gyungbuk</td>\n",
              "      <td>Normal</td>\n",
              "      <td>Normal</td>\n",
              "      <td>Negative</td>\n",
              "      <td>NonSmoking</td>\n",
              "      <td>NonDrinking</td>\n",
              "      <td>Normal</td>\n",
              "      <td>Normal</td>\n",
              "      <td>Normal</td>\n",
              "      <td>Abnormal</td>\n",
              "      <td>0.214731</td>\n",
              "      <td>0.214731</td>\n",
              "      <td>0.353958</td>\n",
              "      <td>0.301486</td>\n",
              "      <td>0.328540</td>\n",
              "      <td>0.122296</td>\n",
              "      <td>0.258977</td>\n",
              "      <td>0.364558</td>\n",
              "      <td>0.511384</td>\n",
              "    </tr>\n",
              "    <tr>\n",
              "      <th>4</th>\n",
              "      <td>150</td>\n",
              "      <td>40</td>\n",
              "      <td>61</td>\n",
              "      <td>95</td>\n",
              "      <td>65</td>\n",
              "      <td>56</td>\n",
              "      <td>83.0</td>\n",
              "      <td>12.4</td>\n",
              "      <td>0.0</td>\n",
              "      <td>Female</td>\n",
              "      <td>20</td>\n",
              "      <td>Gyeonggi</td>\n",
              "      <td>Normal</td>\n",
              "      <td>Normal</td>\n",
              "      <td>Negative</td>\n",
              "      <td>NonSmoking</td>\n",
              "      <td>NonDrinking</td>\n",
              "      <td>Normal</td>\n",
              "      <td>Normal</td>\n",
              "      <td>Normal</td>\n",
              "      <td>Abnormal</td>\n",
              "      <td>0.135235</td>\n",
              "      <td>0.135235</td>\n",
              "      <td>0.344750</td>\n",
              "      <td>0.362609</td>\n",
              "      <td>0.289235</td>\n",
              "      <td>0.083842</td>\n",
              "      <td>0.258977</td>\n",
              "      <td>0.438554</td>\n",
              "      <td>0.539037</td>\n",
              "    </tr>\n",
              "  </tbody>\n",
              "</table>\n",
              "</div>"
            ],
            "text/plain": [
              "  height weight  waist  ...  LN_GammaGTP  LN_tot_cholesterol  LN_triglycerides\n",
              "0    145     40     62  ...     0.393001            0.562271          0.524264\n",
              "1    145     45     72  ...     0.313119            0.560370          0.632675\n",
              "2    145     60     81  ...     0.412729            0.578979          0.544586\n",
              "3    150     40     61  ...     0.258977            0.364558          0.511384\n",
              "4    150     40     61  ...     0.258977            0.438554          0.539037\n",
              "\n",
              "[5 rows x 30 columns]"
            ]
          },
          "metadata": {
            "tags": []
          },
          "execution_count": 9
        }
      ]
    },
    {
      "cell_type": "markdown",
      "metadata": {
        "id": "0JISl_zApNFi",
        "colab_type": "text"
      },
      "source": [
        "## #4. 외부 데이터 결합"
      ]
    },
    {
      "cell_type": "code",
      "metadata": {
        "id": "38mpcw62dGqU",
        "colab_type": "code",
        "colab": {}
      },
      "source": [
        "df_add1 = pd.read_csv('../gdrive/My Drive/sds/data/DentalExamineResult_2014_PortionbyTotInspector.csv', encoding = 'euc-kr')\n",
        "df_add2 = pd.read_csv('../gdrive/My Drive/sds/data/KOSIS_AgeSex_AverageDentalVisitCnt_2012.csv', encoding = 'euc-kr')\n",
        "df_add3 = pd.read_csv('../gdrive/My Drive/sds/data/KOSIS_DentalPrevalenceTrend_2012.csv', encoding = 'euc-kr')\n",
        "df_add4 = pd.read_csv('../gdrive/My Drive/sds/data/chs_12_final_from_python.csv', encoding = 'euc-kr')\n",
        "\n",
        "# Multiple Key를 사용하여 Join\n",
        "# left_on=['column_name1','column_name2'], right_on = ['column_name3','column_name4']\n",
        "\n",
        "df_new = pd.merge(left=df_fe, right=df_add1, how='outer', left_on=['C_province','C_sex'], right_on = ['Province','Sex'], sort=False)\n",
        "df_new.drop(columns=['Province','Sex'], axis=1, inplace=True)\n",
        "\n",
        "df_new = pd.merge(left=df_new, right=df_add2, how='outer', left_on=['C_ageband','C_sex'], right_on = ['Ageband','Sex'], sort=False)\n",
        "df_new.drop(columns=['Ageband','Sex'], axis=1, inplace=True)\n",
        "\n",
        "df_new = pd.merge(left=df_new, right=df_add3, how='outer', left_on=['C_ageband','C_sex'], right_on = ['Ageband','Sex'], sort=False)\n",
        "df_new.drop(columns=['Ageband','Sex'], axis=1, inplace=True)\n",
        "\n",
        "df_new = pd.merge(left=df_new, right=df_add4, how='left', left_on=['C_ageband','C_sex','C_province', 'weight', 'height'], right_on = ['R_ageband','R_sex','R_province','R_weight','R_height'], sort=False)\n",
        "df_new.drop(columns=['R_ageband','R_sex','R_province','R_weight','R_height'], axis=1, inplace=True)\n",
        "\n",
        "# 외부변수와 매칭이 되지 않는 항목은 버림\n",
        "df_new.dropna(how='any', inplace=True)"
      ],
      "execution_count": 0,
      "outputs": []
    },
    {
      "cell_type": "markdown",
      "metadata": {
        "id": "sCTfk47DPQ6Z",
        "colab_type": "text"
      },
      "source": [
        "## #5. 모델 입력 데이터 Transform"
      ]
    },
    {
      "cell_type": "code",
      "metadata": {
        "id": "uTF8m28HGOeq",
        "colab_type": "code",
        "colab": {}
      },
      "source": [
        "# 치아우식 0과 1의 값을 5만건씩 총 10만건 추출\n",
        "df_new = df_new.groupby(target_nm).apply(lambda x: x.sample(n=50000, random_state=set_random_seed))\n",
        "df_new.reset_index(drop=True, inplace=True)"
      ],
      "execution_count": 0,
      "outputs": []
    },
    {
      "cell_type": "code",
      "metadata": {
        "id": "KlsFM5ipRZ-y",
        "colab_type": "code",
        "colab": {}
      },
      "source": [
        "# 독립변수와 종속변수를 나눠 줌\n",
        "data_x = df_new[df_new.columns.difference([target_nm])]\n",
        "data_y = df_new[target_nm].astype('float64')\n",
        "\n",
        "# 데이터를 나눈 뒤 속성별로 컬럼을 분류\n",
        "num_attribs = [col for col in data_x.columns if data_x[col].dtype in ['int64','float64']]\n",
        "cat_attribs = [col for col in data_x.columns if data_x[col].dtype not in ['int64','float64']]\n",
        "\n",
        "num_attribs = list(set(num_attribs) - set([target_nm]))"
      ],
      "execution_count": 0,
      "outputs": []
    },
    {
      "cell_type": "code",
      "metadata": {
        "id": "RASZ0Re11zdo",
        "colab_type": "code",
        "colab": {}
      },
      "source": [
        "# 데이터를 나눈 뒤 속성별로 컬럼을 분류\n",
        "num_attribs = [col for col in data_x.columns if data_x[col].dtype in ['int64','float64']]\n",
        "cat_attribs = [col for col in data_x.columns if data_x[col].dtype not in ['int64','float64']]\n",
        "\n",
        "num_attribs = list(set(num_attribs) - set([target_nm]))\n",
        "\n",
        "# 수치형 변수 정규화 \n",
        "num_pipeline = Pipeline([\n",
        "        ('min_max_scaler', MinMaxScaler()),\n",
        "    ])\n",
        "\n",
        "# numpy 형식으로 전체 변경\n",
        "full_pipeline = ColumnTransformer([\n",
        "        (\"num_pipeline\", num_pipeline, num_attribs),\n",
        "        (\"cat_encoder\", OneHotEncoder(sparse=False), cat_attribs),\n",
        "    ])\n",
        "\n",
        "data_x_piped = full_pipeline.fit_transform(data_x)\n",
        "data_y_piped = data_y.values"
      ],
      "execution_count": 0,
      "outputs": []
    },
    {
      "cell_type": "code",
      "metadata": {
        "id": "xzzGCf_vP55l",
        "colab_type": "code",
        "colab": {}
      },
      "source": [
        "# 최종 Train & Test Set 분리\n",
        "from sklearn.model_selection import train_test_split\n",
        "train_x, test_x, train_y, test_y = train_test_split(data_x_piped, data_y_piped, test_size = 0.2, random_state = set_random_seed)"
      ],
      "execution_count": 0,
      "outputs": []
    },
    {
      "cell_type": "code",
      "metadata": {
        "id": "aA7nAN1z5sVO",
        "colab_type": "code",
        "outputId": "569e1ac8-27b4-46a9-8ad2-780a938cbcd9",
        "colab": {
          "base_uri": "https://localhost:8080/",
          "height": 34
        }
      },
      "source": [
        "train_x.shape"
      ],
      "execution_count": 15,
      "outputs": [
        {
          "output_type": "execute_result",
          "data": {
            "text/plain": [
              "(80000, 152)"
            ]
          },
          "metadata": {
            "tags": []
          },
          "execution_count": 15
        }
      ]
    },
    {
      "cell_type": "markdown",
      "metadata": {
        "id": "AN0EUWQzFJDE",
        "colab_type": "text"
      },
      "source": [
        "## #8. Hyper Parameter Tuning\n",
        ": GridSearch, RandomizedSearch, BaysianOptimization에 대한 이론적 배경 서술(Baysian은 적용안할 예정이라 굳이 안써도 무관할 듯)"
      ]
    },
    {
      "cell_type": "markdown",
      "metadata": {
        "id": "Yeg7urHlTKUs",
        "colab_type": "text"
      },
      "source": [
        "### #8-1. GridSearchCV"
      ]
    },
    {
      "cell_type": "code",
      "metadata": {
        "id": "35Z6yuNWDIKQ",
        "colab_type": "code",
        "colab": {}
      },
      "source": [
        "cv = 5"
      ],
      "execution_count": 0,
      "outputs": []
    },
    {
      "cell_type": "markdown",
      "metadata": {
        "id": "FBbKXzkI4uwM",
        "colab_type": "text"
      },
      "source": [
        "#### 8-1-1. Logistic Regression"
      ]
    },
    {
      "cell_type": "code",
      "metadata": {
        "id": "fEHjG0XGx-KN",
        "colab_type": "code",
        "colab": {
          "base_uri": "https://localhost:8080/",
          "height": 1000
        },
        "outputId": "ad324b92-c4b3-4ce9-bb9d-dd953a9feaf9"
      },
      "source": [
        "lr_clf = linear_model.LogisticRegression()\n",
        "lr_clf.fit(train_x, train_y)\n",
        "print(lr_clf)\n",
        "\n",
        "# GridSearch 이전 기본 모델 출력\n",
        "result_summary(lr_clf, test_x, test_y)\n",
        "\n",
        "# GridSearch 시행\n",
        "\n",
        "param_grid = {}\n",
        "param_grid[\"C\"] =  [0.001, 0.01, 0.1, 10]\n",
        "param_grid[\"penalty\"] =  ['l1','l2']\n",
        "param_grid[\"max_iter\"] = [100,150]\n",
        "\n",
        "grid_lr_clf = GridSearchCV(lr_clf, param_grid, n_jobs=-1, cv=cv, verbose=1) \n",
        "grid_lr_clf.fit(train_x, train_y)\n",
        "print(grid_lr_clf.best_estimator_)\n",
        "\n",
        "# GridSearch 이후 결과 출력\n",
        "result_summary(grid_lr_clf.best_estimator_, test_x, test_y) "
      ],
      "execution_count": 17,
      "outputs": [
        {
          "output_type": "stream",
          "text": [
            "LogisticRegression(C=1.0, class_weight=None, dual=False, fit_intercept=True,\n",
            "                   intercept_scaling=1, l1_ratio=None, max_iter=100,\n",
            "                   multi_class='warn', n_jobs=None, penalty='l2',\n",
            "                   random_state=None, solver='warn', tol=0.0001, verbose=0,\n",
            "                   warm_start=False)\n",
            "Accuracy: 0.6433\n",
            "Confusion Matrix: \n",
            " [[6482 3598]\n",
            " [3535 6385]]\n",
            "Classification Report Matrix: \n",
            "               precision    recall  f1-score   support\n",
            "\n",
            "         0.0      0.647     0.643     0.645     10080\n",
            "         1.0      0.640     0.644     0.642      9920\n",
            "\n",
            "    accuracy                          0.643     20000\n",
            "   macro avg      0.643     0.643     0.643     20000\n",
            "weighted avg      0.643     0.643     0.643     20000\n",
            "\n",
            "roc_auc score is : 0.6434\n"
          ],
          "name": "stdout"
        },
        {
          "output_type": "display_data",
          "data": {
            "image/png": "[encoded data removed]",
            "text/plain": [
              "<Figure size 432x288 with 1 Axes>"
            ]
          },
          "metadata": {
            "tags": []
          }
        },
        {
          "output_type": "stream",
          "text": [
            "Fitting 5 folds for each of 16 candidates, totalling 80 fits\n"
          ],
          "name": "stdout"
        },
        {
          "output_type": "stream",
          "text": [
            "[Parallel(n_jobs=-1)]: Using backend LokyBackend with 2 concurrent workers.\n",
            "[Parallel(n_jobs=-1)]: Done  46 tasks      | elapsed:  1.2min\n",
            "[Parallel(n_jobs=-1)]: Done  80 out of  80 | elapsed: 25.3min finished\n"
          ],
          "name": "stderr"
        },
        {
          "output_type": "stream",
          "text": [
            "LogisticRegression(C=0.1, class_weight=None, dual=False, fit_intercept=True,\n",
            "                   intercept_scaling=1, l1_ratio=None, max_iter=100,\n",
            "                   multi_class='warn', n_jobs=None, penalty='l2',\n",
            "                   random_state=None, solver='warn', tol=0.0001, verbose=0,\n",
            "                   warm_start=False)\n",
            "Accuracy: 0.6439\n",
            "Confusion Matrix: \n",
            " [[6492 3588]\n",
            " [3535 6385]]\n",
            "Classification Report Matrix: \n",
            "               precision    recall  f1-score   support\n",
            "\n",
            "         0.0      0.647     0.644     0.646     10080\n",
            "         1.0      0.640     0.644     0.642      9920\n",
            "\n",
            "    accuracy                          0.644     20000\n",
            "   macro avg      0.644     0.644     0.644     20000\n",
            "weighted avg      0.644     0.644     0.644     20000\n",
            "\n",
            "roc_auc score is : 0.6438\n"
          ],
          "name": "stdout"
        },
        {
          "output_type": "display_data",
          "data": {
            "image/png": "[encoded data removed]",
            "text/plain": [
              "<Figure size 432x288 with 1 Axes>"
            ]
          },
          "metadata": {
            "tags": []
          }
        }
      ]
    },
    {
      "cell_type": "markdown",
      "metadata": {
        "id": "BAHSyJcC488i",
        "colab_type": "text"
      },
      "source": [
        "#### 8-1-2. LinearDiscriminantAnalysis\n",
        "선형판별분석:데이터를 특정 한 축에 사영(projection)한 후에 두 범주를 잘 구분할 수 있는 직선을 찾는 걸 목표"
      ]
    },
    {
      "cell_type": "code",
      "metadata": {
        "colab_type": "code",
        "id": "oa7N2ulp4-eh",
        "colab": {
          "base_uri": "https://localhost:8080/",
          "height": 1000
        },
        "outputId": "9543a533-3157-4ddd-cecf-1085e692bc29"
      },
      "source": [
        "lda_clf = discriminant_analysis.LinearDiscriminantAnalysis()\n",
        "lda_clf.fit(train_x,train_y)\n",
        "print(lda_clf)\n",
        "\n",
        "# GridSearch 이전 기본 모델 출력\n",
        "result_summary(lda_clf, test_x, test_y)\n",
        "\n",
        "param_grid = {'solver':('svd','lsqr')}\n",
        "\n",
        "grid_lda_clf = GridSearchCV(lda_clf, param_grid, n_jobs=-1, cv=cv, verbose=1)  \n",
        "grid_lda_clf.fit(train_x, train_y)\n",
        "print(grid_lda_clf.best_estimator_)\n",
        "\n",
        "# GridSearch 이후 결과 출력\n",
        "result_summary(grid_lda_clf.best_estimator_, test_x, test_y) "
      ],
      "execution_count": 18,
      "outputs": [
        {
          "output_type": "stream",
          "text": [
            "LinearDiscriminantAnalysis(n_components=None, priors=None, shrinkage=None,\n",
            "                           solver='svd', store_covariance=False, tol=0.0001)\n",
            "Accuracy: 0.6440\n",
            "Confusion Matrix: \n",
            " [[6518 3562]\n",
            " [3558 6362]]\n",
            "Classification Report Matrix: \n",
            "               precision    recall  f1-score   support\n",
            "\n",
            "         0.0      0.647     0.647     0.647     10080\n",
            "         1.0      0.641     0.641     0.641      9920\n",
            "\n",
            "    accuracy                          0.644     20000\n",
            "   macro avg      0.644     0.644     0.644     20000\n",
            "weighted avg      0.644     0.644     0.644     20000\n",
            "\n",
            "roc_auc score is : 0.6440\n"
          ],
          "name": "stdout"
        },
        {
          "output_type": "display_data",
          "data": {
            "image/png": "[encoded data removed]",
            "text/plain": [
              "<Figure size 432x288 with 1 Axes>"
            ]
          },
          "metadata": {
            "tags": []
          }
        },
        {
          "output_type": "stream",
          "text": [
            "Fitting 5 folds for each of 2 candidates, totalling 10 fits\n"
          ],
          "name": "stdout"
        },
        {
          "output_type": "stream",
          "text": [
            "[Parallel(n_jobs=-1)]: Using backend LokyBackend with 2 concurrent workers.\n",
            "[Parallel(n_jobs=-1)]: Done  10 out of  10 | elapsed:   17.3s finished\n"
          ],
          "name": "stderr"
        },
        {
          "output_type": "stream",
          "text": [
            "LinearDiscriminantAnalysis(n_components=None, priors=None, shrinkage=None,\n",
            "                           solver='svd', store_covariance=False, tol=0.0001)\n",
            "Accuracy: 0.6440\n",
            "Confusion Matrix: \n",
            " [[6518 3562]\n",
            " [3558 6362]]\n",
            "Classification Report Matrix: \n",
            "               precision    recall  f1-score   support\n",
            "\n",
            "         0.0      0.647     0.647     0.647     10080\n",
            "         1.0      0.641     0.641     0.641      9920\n",
            "\n",
            "    accuracy                          0.644     20000\n",
            "   macro avg      0.644     0.644     0.644     20000\n",
            "weighted avg      0.644     0.644     0.644     20000\n",
            "\n",
            "roc_auc score is : 0.6440\n"
          ],
          "name": "stdout"
        },
        {
          "output_type": "display_data",
          "data": {
            "image/png": "[encoded data removed]",
            "text/plain": [
              "<Figure size 432x288 with 1 Axes>"
            ]
          },
          "metadata": {
            "tags": []
          }
        }
      ]
    },
    {
      "cell_type": "markdown",
      "metadata": {
        "id": "ZfZmihfj6Bg2",
        "colab_type": "text"
      },
      "source": [
        "#### 8-1-3. XGBoost Classifier "
      ]
    },
    {
      "cell_type": "code",
      "metadata": {
        "id": "FwkdCfO548ZU",
        "colab_type": "code",
        "colab": {
          "base_uri": "https://localhost:8080/",
          "height": 1000
        },
        "outputId": "2eb4e0c1-a0f1-4d43-9e91-f8f5ab355d5f"
      },
      "source": [
        "xgb_clf = XGBClassifier()\n",
        "xgb_clf.fit(train_x,train_y)\n",
        "print(xgb_clf)\n",
        "\n",
        "# GridSearch 이전 기본 모델 출력\n",
        "result_summary(xgb_clf, test_x, test_y)\n",
        "\n",
        "param_grid = {}\n",
        "param_grid[\"n_estimators\"] =  [80, 100, 120]\n",
        "param_grid[\"max_depth\"] =  [3, 5]\n",
        "param_grid[\"learning_rate\"] = [0.01 ,0.1]\n",
        "\n",
        "grid_xgb_clf = GridSearchCV(xgb_clf, param_grid, n_jobs=-1, cv=cv, verbose=10)  \n",
        "grid_xgb_clf.fit(train_x, train_y) \n",
        "print(grid_xgb_clf.best_estimator_)\n",
        "\n",
        "# RandomizedSearch 이후 결과 출력\n",
        "result_summary(grid_xgb_clf.best_estimator_, test_x, test_y) "
      ],
      "execution_count": 23,
      "outputs": [
        {
          "output_type": "stream",
          "text": [
            "XGBClassifier(base_score=0.5, booster='gbtree', colsample_bylevel=1,\n",
            "              colsample_bynode=1, colsample_bytree=1, gamma=0,\n",
            "              learning_rate=0.1, max_delta_step=0, max_depth=3,\n",
            "              min_child_weight=1, missing=None, n_estimators=100, n_jobs=1,\n",
            "              nthread=None, objective='binary:logistic', random_state=0,\n",
            "              reg_alpha=0, reg_lambda=1, scale_pos_weight=1, seed=None,\n",
            "              silent=None, subsample=1, verbosity=1)\n",
            "Accuracy: 0.6455\n",
            "Confusion Matrix: \n",
            " [[6423 3657]\n",
            " [3432 6488]]\n",
            "Classification Report Matrix: \n",
            "               precision    recall  f1-score   support\n",
            "\n",
            "         0.0      0.652     0.637     0.644     10080\n",
            "         1.0      0.640     0.654     0.647      9920\n",
            "\n",
            "    accuracy                          0.646     20000\n",
            "   macro avg      0.646     0.646     0.646     20000\n",
            "weighted avg      0.646     0.646     0.646     20000\n",
            "\n",
            "roc_auc score is : 0.6456\n"
          ],
          "name": "stdout"
        },
        {
          "output_type": "display_data",
          "data": {
            "image/png": "[encoded data removed]",
            "text/plain": [
              "<Figure size 432x288 with 1 Axes>"
            ]
          },
          "metadata": {
            "tags": []
          }
        },
        {
          "output_type": "stream",
          "text": [
            "Fitting 5 folds for each of 8 candidates, totalling 40 fits\n"
          ],
          "name": "stdout"
        },
        {
          "output_type": "stream",
          "text": [
            "[Parallel(n_jobs=-1)]: Using backend LokyBackend with 2 concurrent workers.\n",
            "[Parallel(n_jobs=-1)]: Done   1 tasks      | elapsed:   28.8s\n",
            "[Parallel(n_jobs=-1)]: Done   4 tasks      | elapsed:   55.7s\n",
            "[Parallel(n_jobs=-1)]: Done   9 tasks      | elapsed:  2.7min\n",
            "[Parallel(n_jobs=-1)]: Done  14 tasks      | elapsed:  4.4min\n",
            "[Parallel(n_jobs=-1)]: Done  21 tasks      | elapsed:  7.7min\n",
            "[Parallel(n_jobs=-1)]: Done  28 tasks      | elapsed:  9.7min\n",
            "[Parallel(n_jobs=-1)]: Done  37 tasks      | elapsed: 13.1min\n",
            "[Parallel(n_jobs=-1)]: Done  40 out of  40 | elapsed: 14.7min finished\n"
          ],
          "name": "stderr"
        },
        {
          "output_type": "stream",
          "text": [
            "XGBClassifier(base_score=0.5, booster='gbtree', colsample_bylevel=1,\n",
            "              colsample_bynode=1, colsample_bytree=1, gamma=0,\n",
            "              learning_rate=0.1, max_delta_step=0, max_depth=3,\n",
            "              min_child_weight=1, missing=None, n_estimators=120, n_jobs=1,\n",
            "              nthread=None, objective='binary:logistic', random_state=0,\n",
            "              reg_alpha=0, reg_lambda=1, scale_pos_weight=1, seed=None,\n",
            "              silent=None, subsample=1, verbosity=1)\n",
            "Accuracy: 0.6450\n",
            "Confusion Matrix: \n",
            " [[6428 3652]\n",
            " [3448 6472]]\n",
            "Classification Report Matrix: \n",
            "               precision    recall  f1-score   support\n",
            "\n",
            "         0.0      0.651     0.638     0.644     10080\n",
            "         1.0      0.639     0.652     0.646      9920\n",
            "\n",
            "    accuracy                          0.645     20000\n",
            "   macro avg      0.645     0.645     0.645     20000\n",
            "weighted avg      0.645     0.645     0.645     20000\n",
            "\n",
            "roc_auc score is : 0.6451\n"
          ],
          "name": "stdout"
        },
        {
          "output_type": "display_data",
          "data": {
            "image/png": "[encoded data removed]",
            "text/plain": [
              "<Figure size 432x288 with 1 Axes>"
            ]
          },
          "metadata": {
            "tags": []
          }
        }
      ]
    },
    {
      "cell_type": "markdown",
      "metadata": {
        "id": "gNGcIPj16SYb",
        "colab_type": "text"
      },
      "source": [
        "#### 8-1-4. Gradient Boosting Classifier "
      ]
    },
    {
      "cell_type": "code",
      "metadata": {
        "id": "uZv5HSco48Mn",
        "colab_type": "code",
        "colab": {
          "base_uri": "https://localhost:8080/",
          "height": 1000
        },
        "outputId": "b3e4e089-885b-4a61-cf5d-45c7de7ecd49"
      },
      "source": [
        "gb_clf = ensemble.GradientBoostingClassifier()\n",
        "gb_clf.fit(train_x,train_y)\n",
        "print(gb_clf)\n",
        "result_summary(gb_clf, test_x, test_y)\n",
        "\n",
        "# GridSearch 결과 결과값 향상 없음\n",
        "param_grid = {}\n",
        "param_grid[\"n_estimators\"] =  [80, 100, 120]\n",
        "param_grid[\"max_depth\"] =  [3, 5]\n",
        "param_grid[\"learning_rate\"] = [0.01 ,0.1, 0.5]\n",
        "\n",
        "grid_gb_clf = GridSearchCV(gb_clf, param_grid, n_jobs=-1, cv=cv, verbose=10)  \n",
        "grid_gb_clf.fit(train_x, train_y) \n",
        "print(grid_gb_clf.best_estimator_)\n",
        "\n",
        "# RandomizedSearch 이후 결과 출력\n",
        "result_summary(grid_gb_clf.best_estimator_, test_x, test_y)"
      ],
      "execution_count": 25,
      "outputs": [
        {
          "output_type": "stream",
          "text": [
            "GradientBoostingClassifier(criterion='friedman_mse', init=None,\n",
            "                           learning_rate=0.1, loss='deviance', max_depth=3,\n",
            "                           max_features=None, max_leaf_nodes=None,\n",
            "                           min_impurity_decrease=0.0, min_impurity_split=None,\n",
            "                           min_samples_leaf=1, min_samples_split=2,\n",
            "                           min_weight_fraction_leaf=0.0, n_estimators=100,\n",
            "                           n_iter_no_change=None, presort='auto',\n",
            "                           random_state=None, subsample=1.0, tol=0.0001,\n",
            "                           validation_fraction=0.1, verbose=0,\n",
            "                           warm_start=False)\n",
            "Fitting 5 folds for each of 18 candidates, totalling 90 fits\n"
          ],
          "name": "stdout"
        },
        {
          "output_type": "stream",
          "text": [
            "[Parallel(n_jobs=-1)]: Using backend LokyBackend with 2 concurrent workers.\n",
            "[Parallel(n_jobs=-1)]: Done   1 tasks      | elapsed:  1.5min\n",
            "[Parallel(n_jobs=-1)]: Done   4 tasks      | elapsed:  3.0min\n",
            "[Parallel(n_jobs=-1)]: Done   9 tasks      | elapsed:  8.2min\n",
            "[Parallel(n_jobs=-1)]: Done  14 tasks      | elapsed: 12.9min\n",
            "[Parallel(n_jobs=-1)]: Done  21 tasks      | elapsed: 24.1min\n",
            "[Parallel(n_jobs=-1)]: Done  28 tasks      | elapsed: 36.9min\n",
            "[Parallel(n_jobs=-1)]: Done  37 tasks      | elapsed: 45.9min\n",
            "[Parallel(n_jobs=-1)]: Done  46 tasks      | elapsed: 56.1min\n",
            "[Parallel(n_jobs=-1)]: Done  57 tasks      | elapsed: 73.3min\n",
            "[Parallel(n_jobs=-1)]: Done  68 tasks      | elapsed: 85.3min\n",
            "[Parallel(n_jobs=-1)]: Done  81 tasks      | elapsed: 100.9min\n",
            "[Parallel(n_jobs=-1)]: Done  90 out of  90 | elapsed: 116.1min finished\n"
          ],
          "name": "stderr"
        },
        {
          "output_type": "stream",
          "text": [
            "GradientBoostingClassifier(criterion='friedman_mse', init=None,\n",
            "                           learning_rate=0.1, loss='deviance', max_depth=3,\n",
            "                           max_features=None, max_leaf_nodes=None,\n",
            "                           min_impurity_decrease=0.0, min_impurity_split=None,\n",
            "                           min_samples_leaf=1, min_samples_split=2,\n",
            "                           min_weight_fraction_leaf=0.0, n_estimators=120,\n",
            "                           n_iter_no_change=None, presort='auto',\n",
            "                           random_state=None, subsample=1.0, tol=0.0001,\n",
            "                           validation_fraction=0.1, verbose=0,\n",
            "                           warm_start=False)\n",
            "Accuracy: 0.6439\n",
            "Confusion Matrix: \n",
            " [[6444 3636]\n",
            " [3486 6434]]\n",
            "Classification Report Matrix: \n",
            "               precision    recall  f1-score   support\n",
            "\n",
            "         0.0      0.649     0.639     0.644     10080\n",
            "         1.0      0.639     0.649     0.644      9920\n",
            "\n",
            "    accuracy                          0.644     20000\n",
            "   macro avg      0.644     0.644     0.644     20000\n",
            "weighted avg      0.644     0.644     0.644     20000\n",
            "\n",
            "roc_auc score is : 0.6439\n"
          ],
          "name": "stdout"
        },
        {
          "output_type": "display_data",
          "data": {
            "image/png": "[encoded data removed]",
            "text/plain": [
              "<Figure size 432x288 with 1 Axes>"
            ]
          },
          "metadata": {
            "tags": []
          }
        }
      ]
    },
    {
      "cell_type": "code",
      "metadata": {
        "id": "KzMxzNmQCRgI",
        "colab_type": "code",
        "colab": {
          "base_uri": "https://localhost:8080/",
          "height": 563
        },
        "outputId": "9778d834-b649-4cbf-cd69-de49fa127fdd"
      },
      "source": [
        ""
      ],
      "execution_count": 26,
      "outputs": [
        {
          "output_type": "stream",
          "text": [
            "Accuracy: 0.6439\n",
            "Confusion Matrix: \n",
            " [[6438 3642]\n",
            " [3481 6439]]\n",
            "Classification Report Matrix: \n",
            "               precision    recall  f1-score   support\n",
            "\n",
            "         0.0      0.649     0.639     0.644     10080\n",
            "         1.0      0.639     0.649     0.644      9920\n",
            "\n",
            "    accuracy                          0.644     20000\n",
            "   macro avg      0.644     0.644     0.644     20000\n",
            "weighted avg      0.644     0.644     0.644     20000\n",
            "\n",
            "roc_auc score is : 0.6439\n"
          ],
          "name": "stdout"
        },
        {
          "output_type": "display_data",
          "data": {
            "image/png": "[encoded data removed]",
            "text/plain": [
              "<Figure size 432x288 with 1 Axes>"
            ]
          },
          "metadata": {
            "tags": []
          }
        }
      ]
    },
    {
      "cell_type": "markdown",
      "metadata": {
        "colab_type": "text",
        "id": "8htzg6UDI0lr"
      },
      "source": [
        "### 8-2. RandomizedSearchCV\n",
        "###### GridSearch 최적값을 기본으로 앞뒤 쪽 RandomizedSearch로 최적값 산출"
      ]
    },
    {
      "cell_type": "code",
      "metadata": {
        "id": "qHzWB45oCFu9",
        "colab_type": "code",
        "colab": {}
      },
      "source": [
        "cv=5"
      ],
      "execution_count": 0,
      "outputs": []
    },
    {
      "cell_type": "markdown",
      "metadata": {
        "id": "kB6t-vBa6eSR",
        "colab_type": "text"
      },
      "source": [
        "#### 8-2-1. Logistic Regression"
      ]
    },
    {
      "cell_type": "code",
      "metadata": {
        "id": "4ppVBL4f6sXO",
        "colab_type": "code",
        "colab": {}
      },
      "source": [
        "arams = {\n",
        "          \"C\": st.uniform(8, 4.),\n",
        "          \"penalty\" :  ['l2'],\n",
        "          \"max_iter\" : st.randint(100, 150)\n",
        "}\n",
        "\n",
        "rs_lr_clf = RandomizedSearchCV(lr_clf, params, n_jobs=-1, cv=cv, verbose=1) \n",
        "rs_lr_clf.fit(train_x, train_y)\n",
        "print(rs_lr_clf.best_estimator_)\n",
        "\n",
        "# RandomizedSearch 이후 결과 출력\n",
        "result_summary(rs_lr_clf.best_estimator_, test_x, test_y)\n",
        "\n",
        "# RandomizedSearchCV의 Logistic Regression Tuning 결과 : 0.6431에서 0.6436으로 성능 향상\n",
        "lr_clf_best = linear_model.LogisticRegression(C=10, class_weight=None, dual=False, fit_intercept=True,\n",
        "                   intercept_scaling=1, l1_ratio=None, max_iter=100,\n",
        "                   multi_class='warn', n_jobs=None, penalty='l1',\n",
        "                   random_state=None, solver='warn', tol=0.0001, verbose=0,\n",
        "                   warm_start=False)"
      ],
      "execution_count": 0,
      "outputs": []
    },
    {
      "cell_type": "markdown",
      "metadata": {
        "id": "-9Xkv0gj6eEf",
        "colab_type": "text"
      },
      "source": [
        "#### 8-2-2. LinearDiscriminantAnalysis"
      ]
    },
    {
      "cell_type": "code",
      "metadata": {
        "id": "KxWwl2eB6s6c",
        "colab_type": "code",
        "colab": {}
      },
      "source": [
        "# RandomizedSearchCV 결과 Accuracy: 0.6435로 동일하여 아래 코드 수행 안함\n",
        "params = {\n",
        "           \"solver\":['svd', 'lsqr'],\n",
        "           \"tol\": st.uniform(1.0e-5, 1.0e-3),\n",
        "        }\n",
        "rs_lad_clf = RandomizedSearchCV(lda_clf, params, n_jobs=-1, cv=cv, verbose=1)  \n",
        "rs_lad_clf.fit(train_x, train_y)\n",
        "print(rs_lad_clf.best_estimator_)\n",
        "\n",
        "# RandomizedSearch 이후 결과 출력\n",
        "result_summary(rs_lad_clf.best_estimator_, test_x, test_y)\n",
        "\n",
        "lda_clf_best = discriminant_analysis.LinearDiscriminantAnalysis(n_components=None, priors=None, shrinkage=None,\n",
        "                           solver='svd', store_covariance=False, tol=0.0001)"
      ],
      "execution_count": 0,
      "outputs": []
    },
    {
      "cell_type": "markdown",
      "metadata": {
        "id": "WUdZEEQ-6d6b",
        "colab_type": "text"
      },
      "source": [
        "#### 8-2-3. XGBoost Classifier "
      ]
    },
    {
      "cell_type": "code",
      "metadata": {
        "id": "IVz5b1V56tZO",
        "colab_type": "code",
        "colab": {}
      },
      "source": [
        "# RandomizedSearchCV 결과 Accuracy: 0.6436에서 0.6446으로 성능 향상\n",
        "one_to_left = st.beta(100, 1) \n",
        "from_zero_positive = st.expon(0, 50)\n",
        "\n",
        "params = {  \n",
        "    \"n_estimators\": st.randint(3, 100),\n",
        "    \"max_depth\": st.randint(3, 40),\n",
        "    \"learning_rate\": st.uniform(0.05, 0.9),\n",
        "    \"colsample_bytree\": one_to_left,\n",
        "    \"subsample\": one_to_left,\n",
        "    \"gamma\": st.uniform(0, 10),\n",
        "    'reg_alpha': from_zero_positive,\n",
        "    \"min_child_weight\": from_zero_positive,\n",
        "}\n",
        "\n",
        "rand_xgb_clf = RandomizedSearchCV(XGBClassifier(), params, n_jobs=-1, cv=cv, verbose=1)  \n",
        "rand_xgb_clf.fit(train_x, train_y) \n",
        "print(rand_xgb_clf.best_estimator_)\n",
        "\n",
        "# RandomizedSearch 이후 결과 출력\n",
        "result_summary(rand_xgb_clf.best_estimator_, test_x, test_y) \n",
        "\n",
        "# XGBoost Test\n",
        "xgb_clf_best = XGBClassifier(base_score=0.5, booster='gbtree', colsample_bylevel=1,\n",
        "              colsample_bynode=1, colsample_bytree=0.9954227711332254,\n",
        "              gamma=4.4387091415399835, learning_rate=0.5931116776605618,\n",
        "              max_delta_step=0, max_depth=31,\n",
        "              min_child_weight=50.14224905929251, missing=None, n_estimators=20,\n",
        "              n_jobs=1, nthread=None, nthreads=-1, objective='binary:logistic',\n",
        "              random_state=0, reg_alpha=88.099034189603, reg_lambda=1,\n",
        "              scale_pos_weight=1, seed=None, silent=None,\n",
        "              subsample=0.9978691522916254, verbosity=1)"
      ],
      "execution_count": 0,
      "outputs": []
    },
    {
      "cell_type": "markdown",
      "metadata": {
        "id": "BB3IALtv6dsM",
        "colab_type": "text"
      },
      "source": [
        "#### 8-2-4. Gradient Boosting Classifier "
      ]
    },
    {
      "cell_type": "code",
      "metadata": {
        "id": "455foY8w6uFt",
        "colab_type": "code",
        "colab": {}
      },
      "source": [
        "# 성능 동일\n",
        "one_to_left = st.beta(100, 1)  \n",
        "from_zero_positive = st.expon(0, 50)\n",
        "\n",
        "params = {\n",
        "    \"loss\":[\"deviance\"],\n",
        "    \"learning_rate\": st.uniform(0.01, 0.2),\n",
        "    \"min_samples_split\": np.linspace(0.1, 0.5, 12),\n",
        "    \"min_samples_leaf\": np.linspace(0.1, 0.5, 12),\n",
        "    \"max_depth\":st.randint(3, 8),\n",
        "    \"max_features\":[\"log2\",\"sqrt\"],\n",
        "    \"criterion\": [\"friedman_mse\",  \"mae\"],\n",
        "    \"subsample\":st.uniform(0.5, 0.5),\n",
        "    }\n",
        "\n",
        "rs_gb_clf = RandomizedSearchCV(gb_clf, params, n_jobs=-1, cv=cv, verbose=1)  \n",
        "rs_gb_clf.fit(train_x, train_y) \n",
        "print(rs_gb_clf.best_estimator_)\n",
        "\n",
        "# GridSearch 이후 결과 출력\n",
        "result_summary(rs_gb_clf.best_estimator_, test_x, test_y) \n",
        "\n",
        "gb_clf_best = ensemble.GradientBoostingClassifier(criterion='friedman_mse', init=None,\n",
        "                           learning_rate=0.1, loss='deviance', max_depth=3,\n",
        "                           max_features=None, max_leaf_nodes=None,\n",
        "                           min_impurity_decrease=0.0, min_impurity_split=None,\n",
        "                           min_samples_leaf=1, min_samples_split=2,\n",
        "                           min_weight_fraction_leaf=0.0, n_estimators=100,\n",
        "                           n_iter_no_change=None, presort='auto',\n",
        "                           random_state=None, subsample=1.0, tol=0.0001,\n",
        "                           validation_fraction=0.1, verbose=0,\n",
        "                           warm_start=False)"
      ],
      "execution_count": 0,
      "outputs": []
    },
    {
      "cell_type": "markdown",
      "metadata": {
        "id": "DbjLT6hg-vpq",
        "colab_type": "text"
      },
      "source": [
        "## #9. Ensemble Models"
      ]
    },
    {
      "cell_type": "code",
      "metadata": {
        "id": "YHXKFHwA-ysG",
        "colab_type": "code",
        "colab": {}
      },
      "source": [
        "# 앙상블을 위한 기능 구현\n",
        "proba_lr = lr_clf_best.predict_proba(test_x)\n",
        "proba_lda = lda_clf_best.predict_proba(test_x)\n",
        "proba_xgb = xgb_clf_best.predict_proba(test_x)\n",
        "proba_gb = gb_clf_best.predict_proba(test_x)"
      ],
      "execution_count": 0,
      "outputs": []
    },
    {
      "cell_type": "code",
      "metadata": {
        "id": "itwbzJ2U-6YF",
        "colab_type": "code",
        "colab": {}
      },
      "source": [
        "proba_results = pd.DataFrame(columns=['LR', 'LDA', 'XGB', 'GB', 'MLP', 'RealY'])\n",
        "proba_results['LR'] = proba_lr[:,1]\n",
        "proba_results['LDA'] = proba_lda[:,1]\n",
        "proba_results['XGB'] = proba_xgb[:,1]\n",
        "proba_results['MLP'] = proba_gb[:,1]\n",
        "proba_results['RealY'] = test_y\n",
        "proba_results"
      ],
      "execution_count": 0,
      "outputs": []
    },
    {
      "cell_type": "markdown",
      "metadata": {
        "id": "pZhzVYi8--vj",
        "colab_type": "text"
      },
      "source": [
        "## #10. 확률(스코어) 모델 변환"
      ]
    },
    {
      "cell_type": "code",
      "metadata": {
        "id": "V2qWRnI5_G-f",
        "colab_type": "code",
        "colab": {}
      },
      "source": [
        "# 확률 출력하는 함수 정의\n",
        "def score_calc(model, real_x, real_y):\n",
        "  prob_y = model.predict_proba(real_x)\n",
        "  score_df = pd.DataFrame(columns=['prob_y', 'real_y'])\n",
        "  # print(len(pred_y_xg[:,1]), len(test_y))\n",
        "\n",
        "  score_df['prob_y'] = prob_y[:,1]\n",
        "  score_df['real_y'] = test_y\n",
        "\n",
        "  score_df = score_df.sort_values(by=\"prob_y\", ascending=False)\n",
        "\n",
        "  score_df[\"prob_bin\"] = score_df['prob_y'].apply(lambda x: str(x)[:3])\n",
        "\n",
        "  f={'prob_y':['count'], 'real_y':['sum']}\n",
        "  score_final = score_df.groupby([\"prob_bin\"]).agg(f)\n",
        "  score_final['accuracy'] = score_final['real_y'].values/score_final['prob_y'].values\n",
        "  score_final['portion'] = score_final['real_y'].values/sum(score_final['real_y'].values)\n",
        "  print(score_final)\n",
        "\n",
        "  return score_final"
      ],
      "execution_count": 0,
      "outputs": []
    },
    {
      "cell_type": "code",
      "metadata": {
        "id": "DSJdPc2l_J0U",
        "colab_type": "code",
        "colab": {}
      },
      "source": [
        "print(\"Voting Classifier \\n\")\n",
        "vc_score_df = score_calc(votingS,test_x, test_y)\n",
        "\n",
        "print(\"-\"*50)\n",
        "\n",
        "print(\"Logistic Regression Classifier \\n\")\n",
        "lr_score_df = score_calc(lr_clf,test_x, test_y)\n",
        "\n",
        "print(\"-\"*50)\n",
        "\n",
        "print(\"LinearDiscriminantAnalysis Classifier \\n\")\n",
        "lda_score_df = score_calc(lda_clf,test_x, test_y)\n",
        "\n",
        "print(\"-\"*50)\n",
        "\n",
        "print(\"XGBClassifier Classifier \\n\")\n",
        "xgb_score_df = score_calc(xgb_clf,test_x, test_y)\n",
        "\n",
        "print(\"-\"*50)\n",
        "\n",
        "print(\"GradientBoostingClassifier \\n\")\n",
        "gb_score_df = score_calc(gb_clf,test_x, test_y)"
      ],
      "execution_count": 0,
      "outputs": []
    },
    {
      "cell_type": "code",
      "metadata": {
        "id": "JxBY4_fI_NYM",
        "colab_type": "code",
        "colab": {}
      },
      "source": [
        "vc_score_df.plot.hist(x=vc_score_df.index.values, y=vc_score_df[\"prob_y\",\"count\"])"
      ],
      "execution_count": 0,
      "outputs": []
    },
    {
      "cell_type": "code",
      "metadata": {
        "id": "58-JDkVXLq9o",
        "colab_type": "code",
        "colab": {}
      },
      "source": [
        ""
      ],
      "execution_count": 0,
      "outputs": []
    }
  ]
}