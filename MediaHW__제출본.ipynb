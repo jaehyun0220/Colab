{
  "nbformat": 4,
  "nbformat_minor": 0,
  "metadata": {
    "colab": {
      "name": "MediaHW._제출본.ipynb",
      "provenance": [],
      "collapsed_sections": [],
      "include_colab_link": true
    },
    "kernelspec": {
      "name": "python3",
      "display_name": "Python 3"
    }
  },
  "cells": [
    {
      "cell_type": "markdown",
      "metadata": {
        "id": "view-in-github",
        "colab_type": "text"
      },
      "source": [
        "<a href=\"https://colab.research.google.com/github/jaehyun0220/Colab/blob/master/MediaHW__%EC%A0%9C%EC%B6%9C%EB%B3%B8.ipynb\" target=\"_parent\"><img src=\"https://colab.research.google.com/assets/colab-badge.svg\" alt=\"Open In Colab\"/></a>"
      ]
    },
    {
      "cell_type": "markdown",
      "metadata": {
        "id": "CYMDldJhG_3b",
        "colab_type": "text"
      },
      "source": [
        "### 1주차 HW - 데이터로 보는 나(15개 이상)"
      ]
    },
    {
      "cell_type": "code",
      "metadata": {
        "id": "0nChOwj3oVac",
        "colab_type": "code",
        "colab": {}
      },
      "source": [
        "import pandas as pd\n",
        "import numpy as np\n",
        "import os, sys"
      ],
      "execution_count": 0,
      "outputs": []
    },
    {
      "cell_type": "code",
      "metadata": {
        "id": "JD607PPWG_i8",
        "colab_type": "code",
        "outputId": "3ef3ce7e-b033-412e-9c08-3a97677d30c0",
        "colab": {
          "base_uri": "https://localhost:8080/",
          "height": 514
        }
      },
      "source": [
        "data_i = {'나': ['박재현', '1981.02.20', '남', '성대', '이성적', '177cm', '78kg', '와이프,나,주은,주아', '2녀', 'KB카드', '보통', '1억 초반','B형','골프, 헬스, 보드','정리안된것, 멍한것']}\n",
        "intro_i = pd.DataFrame(data=data_i, \n",
        "                        index=['이름', '생년월일', '성별', '학교', '성격유형', '키', '몸무게', '가족', '자녀', '직장', '건강', '연수입','혈액형','좋아하는운동','싫어하는것'])\n",
        "intro_i"
      ],
      "execution_count": 0,
      "outputs": [
        {
          "output_type": "execute_result",
          "data": {
            "text/html": [
              "<div>\n",
              "<style scoped>\n",
              "    .dataframe tbody tr th:only-of-type {\n",
              "        vertical-align: middle;\n",
              "    }\n",
              "\n",
              "    .dataframe tbody tr th {\n",
              "        vertical-align: top;\n",
              "    }\n",
              "\n",
              "    .dataframe thead th {\n",
              "        text-align: right;\n",
              "    }\n",
              "</style>\n",
              "<table border=\"1\" class=\"dataframe\">\n",
              "  <thead>\n",
              "    <tr style=\"text-align: right;\">\n",
              "      <th></th>\n",
              "      <th>나</th>\n",
              "    </tr>\n",
              "  </thead>\n",
              "  <tbody>\n",
              "    <tr>\n",
              "      <th>이름</th>\n",
              "      <td>박재현</td>\n",
              "    </tr>\n",
              "    <tr>\n",
              "      <th>생년월일</th>\n",
              "      <td>1981.02.20</td>\n",
              "    </tr>\n",
              "    <tr>\n",
              "      <th>성별</th>\n",
              "      <td>남</td>\n",
              "    </tr>\n",
              "    <tr>\n",
              "      <th>학교</th>\n",
              "      <td>성대</td>\n",
              "    </tr>\n",
              "    <tr>\n",
              "      <th>성격유형</th>\n",
              "      <td>이성적</td>\n",
              "    </tr>\n",
              "    <tr>\n",
              "      <th>키</th>\n",
              "      <td>177cm</td>\n",
              "    </tr>\n",
              "    <tr>\n",
              "      <th>몸무게</th>\n",
              "      <td>78kg</td>\n",
              "    </tr>\n",
              "    <tr>\n",
              "      <th>가족</th>\n",
              "      <td>와이프,나,주은,주아</td>\n",
              "    </tr>\n",
              "    <tr>\n",
              "      <th>자녀</th>\n",
              "      <td>2녀</td>\n",
              "    </tr>\n",
              "    <tr>\n",
              "      <th>직장</th>\n",
              "      <td>KB카드</td>\n",
              "    </tr>\n",
              "    <tr>\n",
              "      <th>건강</th>\n",
              "      <td>보통</td>\n",
              "    </tr>\n",
              "    <tr>\n",
              "      <th>연수입</th>\n",
              "      <td>1억 초반</td>\n",
              "    </tr>\n",
              "    <tr>\n",
              "      <th>혈액형</th>\n",
              "      <td>B형</td>\n",
              "    </tr>\n",
              "    <tr>\n",
              "      <th>좋아하는운동</th>\n",
              "      <td>골프, 헬스, 보드</td>\n",
              "    </tr>\n",
              "    <tr>\n",
              "      <th>싫어하는것</th>\n",
              "      <td>정리안된것, 멍한것</td>\n",
              "    </tr>\n",
              "  </tbody>\n",
              "</table>\n",
              "</div>"
            ],
            "text/plain": [
              "                  나\n",
              "이름              박재현\n",
              "생년월일     1981.02.20\n",
              "성별                남\n",
              "학교               성대\n",
              "성격유형            이성적\n",
              "키             177cm\n",
              "몸무게            78kg\n",
              "가족      와이프,나,주은,주아\n",
              "자녀               2녀\n",
              "직장             KB카드\n",
              "건강               보통\n",
              "연수입           1억 초반\n",
              "혈액형              B형\n",
              "좋아하는운동   골프, 헬스, 보드\n",
              "싫어하는것    정리안된것, 멍한것"
            ]
          },
          "metadata": {
            "tags": []
          },
          "execution_count": 23
        }
      ]
    },
    {
      "cell_type": "markdown",
      "metadata": {
        "id": "PeYMVg943970",
        "colab_type": "text"
      },
      "source": [
        "### 1주차 HW - 나와 닮고 싶은 사람 비교 (코딩)"
      ]
    },
    {
      "cell_type": "code",
      "metadata": {
        "id": "Eykv1xBCoZkh",
        "colab_type": "code",
        "outputId": "bbcb29f0-a545-4406-b448-891992eb5a10",
        "colab": {
          "base_uri": "https://localhost:8080/",
          "height": 545
        }
      },
      "source": [
        "data_compare = {'나': ['박재현', '1981.02.20', '남', '한국', '경기', '석사', '성균관대', '전산, 데이터사이언스', '냉철, 계획적', '천주교', 'Make Better World', '없음', '소수', '좁음', '중', '1억 초반'], \n",
        "        '닮고싶은사람': ['Warren Edward Buffett', '1930.08.30', '네브래스카주 오마하', '남', '미국', '석사', '펜실베이니아 대학교 와튼 스쿨 ', '경영학, 경제학','냉철, 유쾌, 계획적', '기독교', '가치투자', '다수', '다수', '넓음', '상', '수백억']}\n",
        "intro_compare = pd.DataFrame(data=data_compare, \n",
        "                        index=['이름', '생년월일', '국적', '출생지', '성별', '최종학력', '학교', '전공','성격유형', '종교', '삶의 지향점', '본인 출간 책', '봉사이력', '대인관계', '영어구사능력', '연수입'])\n",
        "intro_compare"
      ],
      "execution_count": 0,
      "outputs": [
        {
          "output_type": "execute_result",
          "data": {
            "text/html": [
              "<div>\n",
              "<style scoped>\n",
              "    .dataframe tbody tr th:only-of-type {\n",
              "        vertical-align: middle;\n",
              "    }\n",
              "\n",
              "    .dataframe tbody tr th {\n",
              "        vertical-align: top;\n",
              "    }\n",
              "\n",
              "    .dataframe thead th {\n",
              "        text-align: right;\n",
              "    }\n",
              "</style>\n",
              "<table border=\"1\" class=\"dataframe\">\n",
              "  <thead>\n",
              "    <tr style=\"text-align: right;\">\n",
              "      <th></th>\n",
              "      <th>나</th>\n",
              "      <th>닮고싶은사람</th>\n",
              "    </tr>\n",
              "  </thead>\n",
              "  <tbody>\n",
              "    <tr>\n",
              "      <th>이름</th>\n",
              "      <td>박재현</td>\n",
              "      <td>Warren Edward Buffett</td>\n",
              "    </tr>\n",
              "    <tr>\n",
              "      <th>생년월일</th>\n",
              "      <td>1981.02.20</td>\n",
              "      <td>1930.08.30</td>\n",
              "    </tr>\n",
              "    <tr>\n",
              "      <th>국적</th>\n",
              "      <td>남</td>\n",
              "      <td>네브래스카주 오마하</td>\n",
              "    </tr>\n",
              "    <tr>\n",
              "      <th>출생지</th>\n",
              "      <td>한국</td>\n",
              "      <td>남</td>\n",
              "    </tr>\n",
              "    <tr>\n",
              "      <th>성별</th>\n",
              "      <td>경기</td>\n",
              "      <td>미국</td>\n",
              "    </tr>\n",
              "    <tr>\n",
              "      <th>최종학력</th>\n",
              "      <td>석사</td>\n",
              "      <td>석사</td>\n",
              "    </tr>\n",
              "    <tr>\n",
              "      <th>학교</th>\n",
              "      <td>성균관대</td>\n",
              "      <td>펜실베이니아 대학교 와튼 스쿨</td>\n",
              "    </tr>\n",
              "    <tr>\n",
              "      <th>전공</th>\n",
              "      <td>전산, 데이터사이언스</td>\n",
              "      <td>경영학, 경제학</td>\n",
              "    </tr>\n",
              "    <tr>\n",
              "      <th>성격유형</th>\n",
              "      <td>냉철, 계획적</td>\n",
              "      <td>냉철, 유쾌, 계획적</td>\n",
              "    </tr>\n",
              "    <tr>\n",
              "      <th>종교</th>\n",
              "      <td>천주교</td>\n",
              "      <td>기독교</td>\n",
              "    </tr>\n",
              "    <tr>\n",
              "      <th>삶의 지향점</th>\n",
              "      <td>Make Better World</td>\n",
              "      <td>가치투자</td>\n",
              "    </tr>\n",
              "    <tr>\n",
              "      <th>본인 출간 책</th>\n",
              "      <td>없음</td>\n",
              "      <td>다수</td>\n",
              "    </tr>\n",
              "    <tr>\n",
              "      <th>봉사이력</th>\n",
              "      <td>소수</td>\n",
              "      <td>다수</td>\n",
              "    </tr>\n",
              "    <tr>\n",
              "      <th>대인관계</th>\n",
              "      <td>좁음</td>\n",
              "      <td>넓음</td>\n",
              "    </tr>\n",
              "    <tr>\n",
              "      <th>영어구사능력</th>\n",
              "      <td>중</td>\n",
              "      <td>상</td>\n",
              "    </tr>\n",
              "    <tr>\n",
              "      <th>연수입</th>\n",
              "      <td>1억 초반</td>\n",
              "      <td>수백억</td>\n",
              "    </tr>\n",
              "  </tbody>\n",
              "</table>\n",
              "</div>"
            ],
            "text/plain": [
              "                         나                 닮고싶은사람\n",
              "이름                     박재현  Warren Edward Buffett\n",
              "생년월일            1981.02.20             1930.08.30\n",
              "국적                       남             네브래스카주 오마하\n",
              "출생지                     한국                      남\n",
              "성별                      경기                     미국\n",
              "최종학력                    석사                     석사\n",
              "학교                    성균관대      펜실베이니아 대학교 와튼 스쿨 \n",
              "전공             전산, 데이터사이언스               경영학, 경제학\n",
              "성격유형               냉철, 계획적            냉철, 유쾌, 계획적\n",
              "종교                     천주교                    기독교\n",
              "삶의 지향점   Make Better World                   가치투자\n",
              "본인 출간 책                 없음                     다수\n",
              "봉사이력                    소수                     다수\n",
              "대인관계                    좁음                     넓음\n",
              "영어구사능력                   중                      상\n",
              "연수입                  1억 초반                    수백억"
            ]
          },
          "metadata": {
            "tags": []
          },
          "execution_count": 24
        }
      ]
    },
    {
      "cell_type": "markdown",
      "metadata": {
        "id": "64SLDOad4GHE",
        "colab_type": "text"
      },
      "source": [
        "### 2주차 HW - Kahoot 문제 중 틀린 부분 정리(오답노트)"
      ]
    },
    {
      "cell_type": "code",
      "metadata": {
        "id": "bdRmv8sBrYzd",
        "colab_type": "code",
        "outputId": "075a0c2b-19f0-4442-faa8-8c7322cc0605",
        "colab": {
          "base_uri": "https://localhost:8080/",
          "height": 53
        }
      },
      "source": [
        "# 이건 Kahoot 문제가 틀렸음- 정답은 반, 터 이나 퀴즈에서는 반-발표로 나옴\n",
        "# 뒤의 문장을 b[8:10]으로 해도 반-날부 가 됨\n",
        "a = \"안녕하세요 데이터 사이언스 학과 여러분 반갑습니다\"\n",
        "print(a[-5])\n",
        "b = \"오늘 수업 첫 날부터 발표하게 되어 떨리네요\"\n",
        "print(a[8:10])"
      ],
      "execution_count": 0,
      "outputs": [
        {
          "output_type": "stream",
          "text": [
            "반\n",
            "터 \n"
          ],
          "name": "stdout"
        }
      ]
    },
    {
      "cell_type": "code",
      "metadata": {
        "id": "TH5_Zugj4681",
        "colab_type": "code",
        "outputId": "499ab284-b452-4898-daad-bc4aee38d9d1",
        "colab": {
          "base_uri": "https://localhost:8080/",
          "height": 35
        }
      },
      "source": [
        "str = \"hello world\"\n",
        "print(str.capitalize())"
      ],
      "execution_count": 0,
      "outputs": [
        {
          "output_type": "stream",
          "text": [
            "Hello world\n"
          ],
          "name": "stdout"
        }
      ]
    },
    {
      "cell_type": "code",
      "metadata": {
        "id": "7qKXRPnx5gR1",
        "colab_type": "code",
        "outputId": "d3a75ce9-a4b4-4991-beba-83f85818f3fd",
        "colab": {
          "base_uri": "https://localhost:8080/",
          "height": 35
        }
      },
      "source": [
        "str = \"we are the world\"\n",
        "str.replace(\"we\", \" \").replace(\"are\", \" \").lstrip()"
      ],
      "execution_count": 0,
      "outputs": [
        {
          "output_type": "execute_result",
          "data": {
            "text/plain": [
              "'the world'"
            ]
          },
          "metadata": {
            "tags": []
          },
          "execution_count": 6
        }
      ]
    },
    {
      "cell_type": "code",
      "metadata": {
        "id": "u9XeoEzw5xYW",
        "colab_type": "code",
        "outputId": "350fc70a-40a8-4204-aedf-1f3415dd9994",
        "colab": {
          "base_uri": "https://localhost:8080/",
          "height": 35
        }
      },
      "source": [
        "L1 = [1,2,3,4]\n",
        "L2 = [4,5,6,7]\n",
        "print(L1+L2)"
      ],
      "execution_count": 0,
      "outputs": [
        {
          "output_type": "stream",
          "text": [
            "[1, 2, 3, 4, 4, 5, 6, 7]\n"
          ],
          "name": "stdout"
        }
      ]
    },
    {
      "cell_type": "code",
      "metadata": {
        "id": "-R9SNq7R5-J0",
        "colab_type": "code",
        "outputId": "3e92b293-0f72-402a-e51e-8c45b8c998d6",
        "colab": {
          "base_uri": "https://localhost:8080/",
          "height": 35
        }
      },
      "source": [
        "# Kahoot이 틀림 - del list[1]을 하면 [1, 3, 4, 5, 6, 7, 8, 9] 이 됨\n",
        "# 정답없음 del list[2]가 되어야 함\n",
        "\n",
        "list = [1,2,3,4,5,6,7,8,9]\n",
        "del list[1]\n",
        "print(list)"
      ],
      "execution_count": 0,
      "outputs": [
        {
          "output_type": "stream",
          "text": [
            "[1, 3, 4, 5, 6, 7, 8, 9]\n"
          ],
          "name": "stdout"
        }
      ]
    },
    {
      "cell_type": "code",
      "metadata": {
        "id": "0uZb1Fyz6Ib3",
        "colab_type": "code",
        "outputId": "6a9cbc97-24a9-4bb6-f297-a17d9cfbe6e8",
        "colab": {
          "base_uri": "https://localhost:8080/",
          "height": 280
        }
      },
      "source": [
        "lot1 = [('a','b'),('c','d'),('e','f')]\n",
        "print(dict(lot1))\n",
        "lot2 = (['a','b'],['c','d'],['e','f'])\n",
        "print(dict(lot2))\n",
        "lot3 = ['ab','cd','ef']\n",
        "print(dict(lot3))\n",
        "lot4 = {{'a','b'},{'c','d'},{'e','f'}}\n",
        "print(dict(lot4))"
      ],
      "execution_count": 0,
      "outputs": [
        {
          "output_type": "stream",
          "text": [
            "{'a': 'b', 'c': 'd', 'e': 'f'}\n",
            "{'a': 'b', 'c': 'd', 'e': 'f'}\n",
            "{'a': 'b', 'c': 'd', 'e': 'f'}\n"
          ],
          "name": "stdout"
        },
        {
          "output_type": "error",
          "ename": "TypeError",
          "evalue": "ignored",
          "traceback": [
            "\u001b[0;31m---------------------------------------------------------------------------\u001b[0m",
            "\u001b[0;31mTypeError\u001b[0m                                 Traceback (most recent call last)",
            "\u001b[0;32m<ipython-input-9-b8f267c61587>\u001b[0m in \u001b[0;36m<module>\u001b[0;34m()\u001b[0m\n\u001b[1;32m      5\u001b[0m \u001b[0mlot3\u001b[0m \u001b[0;34m=\u001b[0m \u001b[0;34m[\u001b[0m\u001b[0;34m'ab'\u001b[0m\u001b[0;34m,\u001b[0m\u001b[0;34m'cd'\u001b[0m\u001b[0;34m,\u001b[0m\u001b[0;34m'ef'\u001b[0m\u001b[0;34m]\u001b[0m\u001b[0;34m\u001b[0m\u001b[0;34m\u001b[0m\u001b[0m\n\u001b[1;32m      6\u001b[0m \u001b[0mprint\u001b[0m\u001b[0;34m(\u001b[0m\u001b[0mdict\u001b[0m\u001b[0;34m(\u001b[0m\u001b[0mlot3\u001b[0m\u001b[0;34m)\u001b[0m\u001b[0;34m)\u001b[0m\u001b[0;34m\u001b[0m\u001b[0;34m\u001b[0m\u001b[0m\n\u001b[0;32m----> 7\u001b[0;31m \u001b[0mlot4\u001b[0m \u001b[0;34m=\u001b[0m \u001b[0;34m{\u001b[0m\u001b[0;34m{\u001b[0m\u001b[0;34m'a'\u001b[0m\u001b[0;34m,\u001b[0m\u001b[0;34m'b'\u001b[0m\u001b[0;34m}\u001b[0m\u001b[0;34m,\u001b[0m\u001b[0;34m{\u001b[0m\u001b[0;34m'c'\u001b[0m\u001b[0;34m,\u001b[0m\u001b[0;34m'd'\u001b[0m\u001b[0;34m}\u001b[0m\u001b[0;34m,\u001b[0m\u001b[0;34m{\u001b[0m\u001b[0;34m'e'\u001b[0m\u001b[0;34m,\u001b[0m\u001b[0;34m'f'\u001b[0m\u001b[0;34m}\u001b[0m\u001b[0;34m}\u001b[0m\u001b[0;34m\u001b[0m\u001b[0;34m\u001b[0m\u001b[0m\n\u001b[0m\u001b[1;32m      8\u001b[0m \u001b[0mprint\u001b[0m\u001b[0;34m(\u001b[0m\u001b[0mdict\u001b[0m\u001b[0;34m(\u001b[0m\u001b[0mlot4\u001b[0m\u001b[0;34m)\u001b[0m\u001b[0;34m)\u001b[0m\u001b[0;34m\u001b[0m\u001b[0;34m\u001b[0m\u001b[0m\n",
            "\u001b[0;31mTypeError\u001b[0m: unhashable type: 'set'"
          ]
        }
      ]
    },
    {
      "cell_type": "markdown",
      "metadata": {
        "id": "lrr08GI08cmL",
        "colab_type": "text"
      },
      "source": [
        "### 4주차 HW - 기술통계 설명 (정의, 예제, 파이썬 코드)"
      ]
    },
    {
      "cell_type": "code",
      "metadata": {
        "id": "D0fCZFCx9E1Z",
        "colab_type": "code",
        "outputId": "5f474914-9b4c-4c2f-c05c-48edd15a1b1d",
        "colab": {
          "base_uri": "https://localhost:8080/",
          "height": 35
        }
      },
      "source": [
        "# 기술통계 예제를 위한 numpy 배열 생성\n",
        "np.random.seed(seed=0)\n",
        "x = np.random.randint(1, 10, size=20)\n",
        "x = x.astype(float)\n",
        "print(x)"
      ],
      "execution_count": 0,
      "outputs": [
        {
          "output_type": "stream",
          "text": [
            "[6. 1. 4. 4. 8. 4. 6. 3. 5. 8. 7. 9. 9. 2. 7. 8. 8. 9. 2. 6.]\n"
          ],
          "name": "stdout"
        }
      ]
    },
    {
      "cell_type": "code",
      "metadata": {
        "id": "EYGcTiGR7lO-",
        "colab_type": "code",
        "outputId": "54088be8-cb1e-4147-ceb9-22ba753dd498",
        "colab": {
          "base_uri": "https://localhost:8080/",
          "height": 71
        }
      },
      "source": [
        "import statistics as stat\n",
        "from scipy.stats.mstats import gmean\n",
        "import scipy as sp\n",
        "import math\n",
        "\n",
        "###############   평균    ####################\n",
        "\n",
        "# 산술(arithmetic mean) \n",
        "#  - 일상에서 평균이라고 부르는 것으로 표본평균이라고도 함.\n",
        "#  - 주어진 수의 합을 수의 개수로 나눈 값이다.\n",
        "\n",
        "arithmetic_m = stat.mean(x)\n",
        "print(arithmetic_m)\n",
        "  \n",
        "# 기하(geometric mean) \n",
        "#  - 합이 아닌 곱이 쓰이는 경우에 평균으로 이용.\n",
        "#  - n개의 양수 값을 모두 곱한 것의 n제곱근이다.\n",
        "\n",
        "geometric_m = gmean(x)\n",
        "print(geometric_m)\n",
        "\n",
        "# 조화(harmonic mean) \n",
        "#  - 역수의 산술 평균의 역수로 정의.\n",
        "#  - 속력처럼 상대적인 비를 갖는 단위의 평균을 계산하는 데 유용.\n",
        "#  - 평균적인 변화율을 구할 때에 주로 사용.\n",
        "\n",
        "harmonic_m = stat.harmonic_mean(x)\n",
        "print(harmonic_m)"
      ],
      "execution_count": 0,
      "outputs": [
        {
          "output_type": "stream",
          "text": [
            "5.8\n",
            "5.060616493334303\n",
            "4.079650315687227\n"
          ],
          "name": "stdout"
        }
      ]
    },
    {
      "cell_type": "code",
      "metadata": {
        "id": "NIKLcJgS8v2z",
        "colab_type": "code",
        "outputId": "7b5b7b5b-cac6-42a9-d7f7-f9189bc1cb42",
        "colab": {
          "base_uri": "https://localhost:8080/",
          "height": 35
        }
      },
      "source": [
        "# 최빈 값\n",
        "from collections import Counter\n",
        "cnt = Counter(x)\n",
        "cnt.most_common(1) # 8이 4번 출현함"
      ],
      "execution_count": 0,
      "outputs": [
        {
          "output_type": "execute_result",
          "data": {
            "text/plain": [
              "[(8.0, 4)]"
            ]
          },
          "metadata": {
            "tags": []
          },
          "execution_count": 12
        }
      ]
    },
    {
      "cell_type": "code",
      "metadata": {
        "id": "I1mgoRNj8v0e",
        "colab_type": "code",
        "outputId": "8004d00b-0e0e-4580-b537-a497e6865a72",
        "colab": {
          "base_uri": "https://localhost:8080/",
          "height": 35
        }
      },
      "source": [
        "# 중앙값\n",
        "np.median(x)"
      ],
      "execution_count": 0,
      "outputs": [
        {
          "output_type": "execute_result",
          "data": {
            "text/plain": [
              "6.0"
            ]
          },
          "metadata": {
            "tags": []
          },
          "execution_count": 13
        }
      ]
    },
    {
      "cell_type": "code",
      "metadata": {
        "id": "zA-fuZik8vvM",
        "colab_type": "code",
        "outputId": "4a5fc4d7-4855-4496-f9b9-8287754d9fab",
        "colab": {
          "base_uri": "https://localhost:8080/",
          "height": 89
        }
      },
      "source": [
        "# 편차(Deviation) : 관측값과 평균의 차이(관측값에서 평균 또는 중앙값을 뺀것)\n",
        "\n",
        "print(arithmetic_m)\n",
        "print(x-arithmetic_m)\n",
        "print(round(sum(x-arithmetic_m),2))"
      ],
      "execution_count": 0,
      "outputs": [
        {
          "output_type": "stream",
          "text": [
            "5.8\n",
            "[ 0.2 -4.8 -1.8 -1.8  2.2 -1.8  0.2 -2.8 -0.8  2.2  1.2  3.2  3.2 -3.8\n",
            "  1.2  2.2  2.2  3.2 -3.8  0.2]\n",
            "0.0\n"
          ],
          "name": "stdout"
        }
      ]
    },
    {
      "cell_type": "code",
      "metadata": {
        "id": "2awqOEbt8vzb",
        "colab_type": "code",
        "outputId": "8163d802-95ea-4b02-a2c8-b84760416bec",
        "colab": {
          "base_uri": "https://localhost:8080/",
          "height": 35
        }
      },
      "source": [
        "# 분산(Variance): \n",
        "#  - 데이터의 퍼짐 정도(관측값에서 평균을 뺀 값을 제곱하고, 그것을 모두 더한 후 전체 개수로 나눔)\n",
        "#  - 평균에서 거리가 얼마나 떨어졌는지\n",
        "#  - 차이값을 제곱의 평균 (관측값에서 평균을 뺀 값인 편차를 모두 더하면 0이 되기 때문에 제곱하여 더함)\n",
        "np.var(x)"
      ],
      "execution_count": 0,
      "outputs": [
        {
          "output_type": "execute_result",
          "data": {
            "text/plain": [
              "6.16"
            ]
          },
          "metadata": {
            "tags": []
          },
          "execution_count": 15
        }
      ]
    },
    {
      "cell_type": "code",
      "metadata": {
        "id": "hh2_9lC38vxu",
        "colab_type": "code",
        "outputId": "9c09635b-c053-4348-96c6-a50383ecc187",
        "colab": {
          "base_uri": "https://localhost:8080/",
          "height": 35
        }
      },
      "source": [
        "# 표준편차: \n",
        "#  - 평균에 대한 오차(분산을 제곱근 한 것으로, 제곱 해서 뻥튀기 된 분산 값을 제곱근하여 다시 원래 크기로 복원)\n",
        "np.std(x)"
      ],
      "execution_count": 0,
      "outputs": [
        {
          "output_type": "execute_result",
          "data": {
            "text/plain": [
              "2.4819347291981715"
            ]
          },
          "metadata": {
            "tags": []
          },
          "execution_count": 16
        }
      ]
    },
    {
      "cell_type": "code",
      "metadata": {
        "id": "nJOARM-e8vsT",
        "colab_type": "code",
        "outputId": "77ddb68e-8028-4f58-9405-3f55f361f333",
        "colab": {
          "base_uri": "https://localhost:8080/",
          "height": 35
        }
      },
      "source": [
        "# 범위(range): 가장 큰 측정값에서 가장 작은 측정값을 뺀 값\n",
        "np.max(x) - np.min(x)"
      ],
      "execution_count": 0,
      "outputs": [
        {
          "output_type": "execute_result",
          "data": {
            "text/plain": [
              "8.0"
            ]
          },
          "metadata": {
            "tags": []
          },
          "execution_count": 17
        }
      ]
    },
    {
      "cell_type": "code",
      "metadata": {
        "id": "tXPYrNvL8vky",
        "colab_type": "code",
        "outputId": "51af4a03-ccc2-415e-eebd-d96fbe44a6f0",
        "colab": {
          "base_uri": "https://localhost:8080/",
          "height": 53
        }
      },
      "source": [
        "# 4분위(Quartile): 데이터를 4등분 한것\n",
        "print(np.quantile(x,0.25), np.quantile(x,0.5), np.quantile(x,0.75))\n",
        "print(np.percentile(x,25), np.percentile(x,50), np.percentile(x,75))"
      ],
      "execution_count": 0,
      "outputs": [
        {
          "output_type": "stream",
          "text": [
            "4.0 6.0 8.0\n",
            "4.0 6.0 8.0\n"
          ],
          "name": "stdout"
        }
      ]
    },
    {
      "cell_type": "code",
      "metadata": {
        "id": "8deUytw-81f-",
        "colab_type": "code",
        "outputId": "aad3642f-406d-4571-9390-ed758c3b375e",
        "colab": {
          "base_uri": "https://localhost:8080/",
          "height": 35
        }
      },
      "source": [
        "# 왜도(Skewness): 분포의 비댕칭도를 나타내는 통계랑으로 정규분포, T분포와 같이 대칭인 분포는 왜도가 0임\n",
        "#  - 카이제곱분포와 같이 오른쪽으로 긴 꼬리를 가진 경우 왜도는 양수이며, 왼쪽으로 긴 꼬리를 가지면 왜도는 음수임\n",
        "#  - 한 쪽 꼬리 부분에 보다 많은 확률값이 분포할 수록, 다시 말해 비대칭도가 커질 수록 왜도의 절대값은 증가한다.\n",
        "sp.stats.skew(x)"
      ],
      "execution_count": 0,
      "outputs": [
        {
          "output_type": "execute_result",
          "data": {
            "text/plain": [
              "-0.37910307625739464"
            ]
          },
          "metadata": {
            "tags": []
          },
          "execution_count": 19
        }
      ]
    },
    {
      "cell_type": "code",
      "metadata": {
        "id": "OqtPQT0H81Xz",
        "colab_type": "code",
        "outputId": "f12989cb-48bc-47fc-98c7-6c9db2abb1c9",
        "colab": {
          "base_uri": "https://localhost:8080/",
          "height": 35
        }
      },
      "source": [
        "# 첨도(Kurtosis): 분포의 꼬리부분의 길이와 중앙부분의 뾰족함에 대한 정보를 제공\n",
        "#  - 정규분포의 경우 첨도는 0이며\n",
        "#  - 첨도가 0보다 크면 정규분포보다 꼬리가 길고, 분포가 중앙부분에 덜 집중되어 중앙 부분이 뾰족한 모양을 가지게 됨\n",
        "#  - T분포는 정규분포보다 더 긴꼬리를 가지므로 첨도가 0보다 크다.\n",
        "sp.stats.kurtosis(x)"
      ],
      "execution_count": 0,
      "outputs": [
        {
          "output_type": "execute_result",
          "data": {
            "text/plain": [
              "-1.0845420812953277"
            ]
          },
          "metadata": {
            "tags": []
          },
          "execution_count": 20
        }
      ]
    },
    {
      "cell_type": "markdown",
      "metadata": {
        "id": "2Qn4XjnD8umI",
        "colab_type": "text"
      },
      "source": [
        "### 네이버 상품 목록 추출 웹크롤링(주제는 자가 선정)"
      ]
    },
    {
      "cell_type": "markdown",
      "metadata": {
        "id": "oWYqS2IxQd1k",
        "colab_type": "text"
      },
      "source": [
        "네이버 API를 통해 제품 클릭 시 상세 페이지 링크 와 이미지 링크를 가져온다\n",
        "\n",
        "주의 사항 : client_id와 client_secret은 네이버 오픈 API 에서 신청을 통해 발급 받아야함\n",
        "\n",
        "9번 라인 url의 display 옵션을 조정하면 반환할 상품의 갯수를 지정 할 수 있다."
      ]
    },
    {
      "cell_type": "code",
      "metadata": {
        "id": "KXYSzJS0NSK8",
        "colab_type": "code",
        "colab": {
          "base_uri": "https://localhost:8080/",
          "height": 395
        },
        "outputId": "7fd473fb-7d3d-4f8c-fed4-091ac550948a"
      },
      "source": [
        "#https://developers.naver.com/docs/search/shopping/ 개발자가이드\n",
        "import os\n",
        "import sys\n",
        "import urllib.request\n",
        "import json\n",
        "from bs4 import BeautifulSoup\n",
        "\n",
        "client_id = \"LHSoskEsfRtsqsUY6EGh\"\n",
        "client_secret = \"fb0Rlwo7wr\"\n",
        "encText = urllib.parse.quote(\"RTX2080TI\") # NVIDIA RTX2080TI 그래픽 카드 검색 시도!\n",
        "url = \"https://openapi.naver.com/v1/search/shop.json?display=1&query=\" + encText # json 결과\n",
        "# url = \"https://openapi.naver.com/v1/search/blog.xml?query=\" + encText # xml 결과\n",
        "request = urllib.request.Request(url)\n",
        "request.add_header(\"X-Naver-Client-Id\",client_id)\n",
        "request.add_header(\"X-Naver-Client-Secret\",client_secret)\n",
        "response = urllib.request.urlopen(request)\n",
        "rescode = response.getcode()\n",
        "\n",
        "if(rescode==200):\n",
        "    response_body = response.read()\n",
        "    print(response_body.decode('utf-8'))\n",
        "    \n",
        "    ### 네이버 공개 코드가 아닌 부분 ###\n",
        "    json_data = json.loads(response_body)\n",
        "    link = json_data.get(\"items\")[0].get(\"link\")\n",
        "    print(link)\n",
        "    ###\n",
        "else:\n",
        "    print(\"Error Code:\" + rescode)"
      ],
      "execution_count": 5,
      "outputs": [
        {
          "output_type": "stream",
          "text": [
            "{\n",
            "\"lastBuildDate\": \"Fri, 13 Dec 2019 17:52:16 +0900\",\n",
            "\"total\": 7603,\n",
            "\"start\": 1,\n",
            "\"display\": 1,\n",
            "\"items\": [\n",
            "{\n",
            "\"title\": \"I9 9900K 라이젠 3700X 고사양 컴퓨터 <b>RTX</b> 2060 2070 SUPER <b>2080ti</b>\",\n",
            "\"link\": \"https://search.shopping.naver.com/gate.nhn?id=13101925787\",\n",
            "\"image\": \"https://shopping-phinf.pstatic.net/main_1310192/13101925787.2.jpg\",\n",
            "\"lprice\": \"990000\",\n",
            "\"hprice\": \"0\",\n",
            "\"mallName\": \"컴군\",\n",
            "\"productId\": \"13101925787\",\n",
            "\"productType\": \"2\"\n",
            "\n",
            "}\n",
            "]\n",
            "}\n",
            "\n",
            "https://search.shopping.naver.com/gate.nhn?id=13101925787\n"
          ],
          "name": "stdout"
        }
      ]
    },
    {
      "cell_type": "markdown",
      "metadata": {
        "id": "-5NmuHK8NTRS",
        "colab_type": "text"
      },
      "source": [
        "### 유투브 분석(워크맨, 펭수 등 채널 자가 선정"
      ]
    },
    {
      "cell_type": "code",
      "metadata": {
        "id": "G-ZGCpH8NW4_",
        "colab_type": "code",
        "colab": {}
      },
      "source": [
        ""
      ],
      "execution_count": 0,
      "outputs": []
    },
    {
      "cell_type": "markdown",
      "metadata": {
        "id": "JhD3wjo9NX0x",
        "colab_type": "text"
      },
      "source": [
        "### 인스타그램 분석"
      ]
    },
    {
      "cell_type": "code",
      "metadata": {
        "id": "DBtCc40PNZuW",
        "colab_type": "code",
        "colab": {}
      },
      "source": [
        ""
      ],
      "execution_count": 0,
      "outputs": []
    }
  ]
}