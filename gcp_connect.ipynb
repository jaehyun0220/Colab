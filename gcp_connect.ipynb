{
  "nbformat": 4,
  "nbformat_minor": 0,
  "metadata": {
    "colab": {
      "name": "GCP_Connect.ipynb",
      "version": "0.3.2",
      "provenance": [],
      "collapsed_sections": [],
      "include_colab_link": true
    },
    "kernelspec": {
      "name": "python3",
      "display_name": "Python 3"
    },
    "accelerator": "TPU"
  },
  "cells": [
    {
      "cell_type": "markdown",
      "metadata": {
        "id": "view-in-github",
        "colab_type": "text"
      },
      "source": [
        "<a href=\"https://colab.research.google.com/gist/jaehyun0220/890cb26b7073ae6731aab6beead6a6c4/spark_test.ipynb\" target=\"_parent\"><img src=\"https://colab.research.google.com/assets/colab-badge.svg\" alt=\"Open In Colab\"/></a>"
      ]
    },
    {
      "metadata": {
        "id": "_ztdYjUqsY5b",
        "colab_type": "code",
        "outputId": "5a691a11-4a9c-44fc-ef79-8b171dac7e4b",
        "colab": {
          "base_uri": "https://localhost:8080/",
          "height": 89
        }
      },
      "cell_type": "code",
      "source": [
        "from google.colab import auth\n",
        "auth.authenticate_user()\n",
        "print('Authenticated')"
      ],
      "execution_count": 0,
      "outputs": [
        {
          "output_type": "stream",
          "text": [
            "pandas version: 0.24.2\n",
            "scikit-learn version: 0.20.3\n",
            "NumPy version: 1.16.3\n",
            "tensorflow version: 1.13.1\n"
          ],
          "name": "stdout"
        }
      ]
    },
    {
      "metadata": {
        "id": "0VbOBDI5NcC4",
        "colab_type": "code",
        "outputId": "98c84ad0-9cfe-42fb-e814-f67e761d1fc2",
        "colab": {
          "base_uri": "https://localhost:8080/",
          "height": 127
        }
      },
      "cell_type": "code",
      "source": [
        "%%bigquery --project 929256669593 df\n",
        "\n",
        "with \n",
        "  Table1 as\n",
        "  (select hits.appInfo.screenName, fullVisitorId\n",
        "   from `kbcard-bigquery.163643707.ga_sessions_201808*`,\n",
        "         unnest(hits) as hits,\n",
        "         unnest(hits.customDimensions) as cd\n",
        "    where cd.index = 4 and\n",
        "          cd.value like '%APP'\n",
        "    group by hits.appInfo.screenName, fullVisitorId),\n",
        "          \n",
        "   Table2 as\n",
        "   (select fullVisitorId, \n",
        "           count(case when hits.appInfo.screenName = '바로출금결제(PCXHIAJ017f)' then 'Y' end) as goal1,\n",
        "           count(case when hits.appInfo.screenName = '즉시이체 단기카드대출(현금서비스)신청(PCXHIAJ01c6)' then 'Y' end) as goal2,\n",
        "           count(case when hits.appInfo.screenName = '회원가입(PCXHIAJ02bd)' then 'Y' end) as goal3,\n",
        "           count(case when hits.appInfo.screenName = '일시불할부전환(PCXHIAJ01d4)' then 'Y' end) as goal4,  \n",
        "          count(case when hits.appInfo.screenName = '한도증액신청(PCXHIAJ00e7)' then 'Y' end) as goal5,  \n",
        "          count(case when hits.appInfo.screenName = '포인트리로 대금결제(PCXHIAJ018f)' then 'Y' end) as goal6,  \n",
        "          count(case when hits.appInfo.screenName = '결제일변경(PCXHIAJ0174)' then 'Y' end) as goal7,  \n",
        "         count(case when hits.appInfo.screenName = '장기카드대출(카드론) 신청(PCXHIAJ0134)' then 'Y' end) as goal8,  \n",
        "         count(case when hits.appInfo.screenName = '장기카드대출(일사천리론) 신청(PCXHIAJ0331)' then 'Y' end) as goal9,  \n",
        "         count(case when hits.appInfo.screenName = '가상계좌결제(PCXHIAJ0199)' then 'Y' end) as goal10,  \n",
        "          count(case when hits.appInfo.screenName = '카드사용등록(PCXHIAJ00bd)' then 'Y' end) as goal11,  \n",
        "          count(case when hits.appInfo.screenName = '카드발급신청(PCXHIAJ03ea)' then 'Y' end) as goal12,  \n",
        "          count(case when hits.appInfo.screenName = '고객정보변경(PCXHIAJ013a)' then 'Y' end) as goal13,  \n",
        "          count(case when hits.appInfo.screenName = '모바일명세서 신청(PCXHIAJ0156)' then 'Y' end) as goal14,  \n",
        "          count(case when hits.appInfo.screenName = '분실신고 신청(PCXHIAJ007c)' then 'Y' end) as goal15,  \n",
        "          count(case when hits.appInfo.screenName = '분실신고 해제(PCXHIAJ008f)' then 'Y' end) as goal16,  \n",
        "          count(case when hits.appInfo.screenName = '아파트관리비 자동납부 신청(PCXHIAJ001a)' then 'Y' end) as goal17,  \n",
        "          count(case when hits.appInfo.screenName = '단기카드대출(현금서비스)로 결제(PCXHIAJ0186)' then 'Y' end) as goal18,  \n",
        "          count(case when hits.appInfo.screenName = '일부결제금액이월약정(리볼빙) 신청(PCXHIAJ00f1)' then 'Y' end) as goal19,  \n",
        "          count(case when hits.appInfo.screenName = '분실신고 해제(PCXHIAJ008f)' then 'Y' end) as goal20,  \n",
        "          count(case when hits.appInfo.screenName = '대학등록금 납부 신청(PCXHIAJ0255)' then 'Y' end) as goal21\n",
        "from `kbcard-bigquery.163643707.ga_sessions_201808*`,\n",
        "unnest(hits) as hits,\n",
        "unnest(hits.customDimensions) as cd\n",
        "where cd.index = 4 and\n",
        "      cd.value like '%APP'\n",
        "group by fullVisitorId) \n",
        "\n",
        "\n",
        "SELECT screenName,\n",
        "       count(fullVisitorId) as users,\n",
        "       count(case when (goal1 > 0 ) then 1 end) as g1,\n",
        "       count(case when (goal2 > 0 ) then 1 end) as g2,\n",
        "       count(case when (goal3 > 0 ) then 1 end) as g3,\n",
        "       count(case when (goal4 > 0 ) then 1 end) as g4,\n",
        "       count(case when (goal5 > 0 ) then 1 end)  as g5,\n",
        "       count(case when (goal6 > 0 ) then 1 end)  as g6,\n",
        "       count(case when (goal7 > 0 ) then 1 end)  as g7,\n",
        "       count(case when (goal8 > 0 ) then 1 end)  as g8,\n",
        "       count(case when (goal9 > 0 ) then 1 end)  as g9,\n",
        "       count(case when (goal10 > 0 ) then 1 end) as g10,\n",
        "       count(case when (goal11 > 0 ) then 1 end) as g11,\n",
        "       count(case when (goal12 > 0 ) then 1 end) as g12,\n",
        "       count(case when (goal13 > 0 ) then 1 end) as g13,\n",
        "       count(case when (goal14 > 0 ) then 1 end) as g14,\n",
        "       count(case when (goal15 > 0 ) then 1 end) as g15,\n",
        "       count(case when (goal16 > 0 ) then 1 end) as g16,\n",
        "       count(case when (goal17 > 0 ) then 1 end) as g17,\n",
        "       count(case when (goal18 > 0 ) then 1 end) as g18,\n",
        "       count(case when (goal19 > 0 ) then 1 end) as g19,\n",
        "       count(case when (goal20 > 0 ) then 1 end) as g20,\n",
        "       count(case when (goal21 > 0 ) then 1 end) as g21\n",
        "       \n",
        "From (\n",
        "  select Table1.*, \n",
        "         Table2.goal1, Table2.goal2, Table2.goal3, Table2.goal4, Table2.goal5, Table2.goal6, Table2.goal7, Table2.goal8, Table2.goal9, Table2.goal10,\n",
        "         Table2.goal11, Table2.goal12, Table2.goal13, Table2.goal14, Table2.goal15, Table2.goal16, Table2.goal17, Table2.goal18, Table2.goal19, Table2.goal20, Table2.goal21\n",
        "  from Table1 \n",
        "  left outer join Table2\n",
        "  On Table1.fullVisitorId = Table2.fullVisitorId)\n",
        "  \n",
        "where screenName is not null\n",
        "--       and fullVisitorId IN ('1547540565135785575', '7813984892276159829')\n",
        "group by screenName\n",
        "order by screenName\n",
        "\n",
        "\n",
        "\n",
        "\n",
        "-- select count(distinct fullVisitorId) as users\n",
        "-- from Table2\n",
        "\n",
        "\n",
        "--검증용\n",
        "-- select count(distinct fullVisitorId) as users\n",
        "-- from Table2\n",
        "-- where fullVisitorId = '8906973861716769085'\n"
      ],
      "execution_count": 0,
      "outputs": [
        {
          "output_type": "stream",
          "text": [
            "Go to this URL in a browser: https://accounts.google.com/o/oauth2/auth?client_id=947318989803-6bn6qk8qdgf4n4g3pfee6491hc0brc4i.apps.googleusercontent.com&redirect_uri=urn%3Aietf%3Awg%3Aoauth%3A2.0%3Aoob&scope=email%20https%3A%2F%2Fwww.googleapis.com%2Fauth%2Fdocs.test%20https%3A%2F%2Fwww.googleapis.com%2Fauth%2Fdrive%20https%3A%2F%2Fwww.googleapis.com%2Fauth%2Fdrive.photos.readonly%20https%3A%2F%2Fwww.googleapis.com%2Fauth%2Fpeopleapi.readonly&response_type=code\n",
            "\n",
            "Enter your authorization code:\n",
            "··········\n",
            "Mounted at /gdrive\n"
          ],
          "name": "stdout"
        }
      ]
    }
  ]
}