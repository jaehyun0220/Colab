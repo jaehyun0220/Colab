{
  "nbformat": 4,
  "nbformat_minor": 0,
  "metadata": {
    "colab": {
      "name": "Library Update.ipynb",
      "version": "0.3.2",
      "provenance": [],
      "collapsed_sections": [],
      "include_colab_link": true
    },
    "kernelspec": {
      "name": "python3",
      "display_name": "Python 3"
    },
    "accelerator": "GPU"
  },
  "cells": [
    {
      "cell_type": "markdown",
      "metadata": {
        "id": "view-in-github",
        "colab_type": "text"
      },
      "source": [
        "<a href=\"https://colab.research.google.com/github/jaehyun0220/Colab/blob/master/Library_Update.ipynb\" target=\"_parent\"><img src=\"https://colab.research.google.com/assets/colab-badge.svg\" alt=\"Open In Colab\"/></a>"
      ]
    },
    {
      "cell_type": "markdown",
      "metadata": {
        "id": "JUAi913emSUO",
        "colab_type": "text"
      },
      "source": [
        "# **Library Update**"
      ]
    },
    {
      "cell_type": "code",
      "metadata": {
        "id": "ANIle6-3h0Tz",
        "colab_type": "code",
        "outputId": "4f22960c-84ea-4f46-cf00-a9f29bbfb2fa",
        "colab": {
          "base_uri": "https://localhost:8080/",
          "height": 71
        }
      },
      "source": [
        "!pip uninstall scikit-learn -y"
      ],
      "execution_count": 0,
      "outputs": [
        {
          "output_type": "stream",
          "text": [
            "Uninstalling scikit-learn-0.19.2:\n",
            "  Successfully uninstalled scikit-learn-0.19.2\n"
          ],
          "name": "stdout"
        }
      ]
    },
    {
      "cell_type": "code",
      "metadata": {
        "id": "2jeEmp4nh3D1",
        "colab_type": "code",
        "outputId": "c8313075-683c-407f-c927-d0cb37cb5620",
        "colab": {
          "base_uri": "https://localhost:8080/",
          "height": 122
        }
      },
      "source": [
        "!pip install Cython"
      ],
      "execution_count": 0,
      "outputs": [
        {
          "output_type": "stream",
          "text": [
            "Collecting Cython\n",
            "\u001b[?25l  Downloading https://files.pythonhosted.org/packages/a2/e0/0592be5b851c8013aa253592606ca265862d27444d908e029fd75d563c9c/Cython-0.29.1-cp36-cp36m-manylinux1_x86_64.whl (2.1MB)\n",
            "\u001b[K    100% |████████████████████████████████| 2.1MB 14.0MB/s \n",
            "\u001b[?25hInstalling collected packages: Cython\n",
            "Successfully installed Cython-0.29.1\n"
          ],
          "name": "stdout"
        }
      ]
    },
    {
      "cell_type": "code",
      "metadata": {
        "id": "wxg0QUzih3GJ",
        "colab_type": "code",
        "outputId": "babd05ae-7106-4339-c724-c189e72c01fd",
        "colab": {
          "base_uri": "https://localhost:8080/",
          "height": 156
        }
      },
      "source": [
        "# !pip install git+git://github.com/scikit-learn/scikit-learn.git\n",
        "!pip install -U scikit-learn"
      ],
      "execution_count": 0,
      "outputs": [
        {
          "output_type": "stream",
          "text": [
            "Collecting scikit-learn\n",
            "\u001b[?25l  Downloading https://files.pythonhosted.org/packages/10/26/d04320c3edf2d59b1fcd0720b46753d4d603a76e68d8ad10a9b92ab06db2/scikit_learn-0.20.1-cp36-cp36m-manylinux1_x86_64.whl (5.4MB)\n",
            "\u001b[K    100% |████████████████████████████████| 5.4MB 7.7MB/s \n",
            "\u001b[?25hRequirement already satisfied, skipping upgrade: scipy>=0.13.3 in /usr/local/lib/python3.6/dist-packages (from scikit-learn) (1.1.0)\n",
            "Requirement already satisfied, skipping upgrade: numpy>=1.8.2 in /usr/local/lib/python3.6/dist-packages (from scikit-learn) (1.14.6)\n",
            "Installing collected packages: scikit-learn\n",
            "Successfully installed scikit-learn-0.20.1\n"
          ],
          "name": "stdout"
        }
      ]
    },
    {
      "cell_type": "code",
      "metadata": {
        "id": "09zjic-qh3In",
        "colab_type": "code",
        "outputId": "e48cd5fd-ba4c-47a9-c8d1-bd8bb64cecd6",
        "colab": {
          "base_uri": "https://localhost:8080/",
          "height": 51
        }
      },
      "source": [
        "!pip freeze | grep scikit"
      ],
      "execution_count": 0,
      "outputs": [
        {
          "output_type": "stream",
          "text": [
            "scikit-image==0.13.1\n",
            "scikit-learn==0.20.1\n"
          ],
          "name": "stdout"
        }
      ]
    },
    {
      "cell_type": "markdown",
      "metadata": {
        "id": "3OYleij_iBVi",
        "colab_type": "text"
      },
      "source": [
        "**Library Update 후 Run Time 재설정하여 신규 Version 적용 및 Version Print**"
      ]
    },
    {
      "cell_type": "code",
      "metadata": {
        "id": "7R8K4Ls-h6qi",
        "colab_type": "code",
        "outputId": "aed40b34-b4bd-42ac-adde-438058e86442",
        "colab": {
          "base_uri": "https://localhost:8080/",
          "height": 34
        }
      },
      "source": [
        "import sklearn #collection of machine learning algorithms\n",
        "print(\"scikit-learn version: {}\". format(sklearn.__version__))"
      ],
      "execution_count": 0,
      "outputs": [
        {
          "output_type": "stream",
          "text": [
            "scikit-learn version: 0.20.1\n"
          ],
          "name": "stdout"
        }
      ]
    },
    {
      "cell_type": "markdown",
      "metadata": {
        "id": "G4UeF3kZiZyU",
        "colab_type": "text"
      },
      "source": [
        "# **Down Grade Sample**"
      ]
    },
    {
      "cell_type": "code",
      "metadata": {
        "id": "bQw6UPORiZ-3",
        "colab_type": "code",
        "colab": {}
      },
      "source": [
        "# !pip uninstall networkx -y\n",
        "\n",
        "# !pip install networkx==1.11\n",
        "\n",
        "# import networkx\n",
        "# networkx.__version__"
      ],
      "execution_count": 0,
      "outputs": []
    },
    {
      "cell_type": "markdown",
      "metadata": {
        "id": "1G3n_mTV7ms3",
        "colab_type": "text"
      },
      "source": [
        "# **Google Drive Mount**"
      ]
    },
    {
      "cell_type": "code",
      "metadata": {
        "id": "hiDBKNFj7O__",
        "colab_type": "code",
        "outputId": "c4ff95bb-d833-485a-ae65-299cd825ef80",
        "colab": {
          "base_uri": "https://localhost:8080/",
          "height": 127
        }
      },
      "source": [
        "# Load the Drive helper and mount\n",
        "from google.colab import drive\n",
        "\n",
        "# This will prompt for authorization.\n",
        "drive.mount('/gdrive')"
      ],
      "execution_count": 0,
      "outputs": [
        {
          "output_type": "stream",
          "text": [
            "Go to this URL in a browser: https://accounts.google.com/o/oauth2/auth?client_id=947318989803-6bn6qk8qdgf4n4g3pfee6491hc0brc4i.apps.googleusercontent.com&redirect_uri=urn%3Aietf%3Awg%3Aoauth%3A2.0%3Aoob&scope=email%20https%3A%2F%2Fwww.googleapis.com%2Fauth%2Fdocs.test%20https%3A%2F%2Fwww.googleapis.com%2Fauth%2Fdrive%20https%3A%2F%2Fwww.googleapis.com%2Fauth%2Fdrive.photos.readonly%20https%3A%2F%2Fwww.googleapis.com%2Fauth%2Fpeopleapi.readonly&response_type=code\n",
            "\n",
            "Enter your authorization code:\n",
            "··········\n",
            "Mounted at /gdrive\n"
          ],
          "name": "stdout"
        }
      ]
    },
    {
      "cell_type": "code",
      "metadata": {
        "id": "SrFFqbnB7aga",
        "colab_type": "code",
        "outputId": "f5c43a62-7b69-41d5-b00c-5b83aba2821e",
        "colab": {
          "base_uri": "https://localhost:8080/",
          "height": 89
        }
      },
      "source": [
        "# After executing the cell above, Drive\n",
        "# files will be present in \"/content/drive/My Drive\".\n",
        "!ls \"/content/drive/My Drive\""
      ],
      "execution_count": 0,
      "outputs": [
        {
          "output_type": "stream",
          "text": [
            "'11월 cplj.pdf'\t\t      'Head First Statistics (1).pdf'   SKeeperBackup\n",
            "'709동 1407호 입금 현황.xls'  'Head First Statistics.pdf'       Study\n",
            "'Colab Notebooks'\t       linearalgebra\n",
            " datamodeling\t\t       Notability\n"
          ],
          "name": "stdout"
        }
      ]
    },
    {
      "cell_type": "markdown",
      "metadata": {
        "id": "Ek-cvC2emmk-",
        "colab_type": "text"
      },
      "source": [
        "# ** 기타 시스템 환경 체크**"
      ]
    },
    {
      "cell_type": "code",
      "metadata": {
        "id": "PK9tIn3Ommss",
        "colab_type": "code",
        "outputId": "aabe3250-9ddc-4b82-e0c1-9e7e8e43cbdf",
        "colab": {
          "base_uri": "https://localhost:8080/",
          "height": 35
        }
      },
      "source": [
        "# 플랫폼 확인\n",
        "import platform\n",
        "platform.platform()"
      ],
      "execution_count": 0,
      "outputs": [
        {
          "output_type": "execute_result",
          "data": {
            "text/plain": [
              "'Linux-4.14.65+-x86_64-with-Ubuntu-18.04-bionic'"
            ]
          },
          "metadata": {
            "tags": []
          },
          "execution_count": 1
        }
      ]
    },
    {
      "cell_type": "code",
      "metadata": {
        "id": "fN3sJXdXm6aj",
        "colab_type": "code",
        "outputId": "91b40cdb-2efc-4956-89a7-a9546aabae5c",
        "colab": {
          "base_uri": "https://localhost:8080/",
          "height": 2537
        }
      },
      "source": [
        "# 설치된 파이썬 패키지\n",
        "import pkg_resources\n",
        "# dists = [str(d) for d in pkg_resources.working_set]\n",
        "for d in pkg_resources.working_set:\n",
        "  print(str(d))"
      ],
      "execution_count": 0,
      "outputs": [
        {
          "output_type": "stream",
          "text": [
            "xgboost 0.7.post4\n",
            "wrapt 1.10.11\n",
            "wheel 0.32.3\n",
            "Werkzeug 0.14.1\n",
            "webencodings 0.5.1\n",
            "wcwidth 0.1.7\n",
            "vega-datasets 0.5.0\n",
            "urllib3 1.22\n",
            "uritemplate 3.0.0\n",
            "ujson 1.35\n",
            "typing 3.6.6\n",
            "traitlets 4.3.2\n",
            "tqdm 4.28.1\n",
            "tornado 4.5.3\n",
            "toolz 0.9.0\n",
            "thinc 6.12.1\n",
            "Theano 1.0.3\n",
            "testpath 0.4.2\n",
            "terminado 0.8.1\n",
            "termcolor 1.1.0\n",
            "tensorflow 1.12.0\n",
            "tensorflow-probability 0.5.0\n",
            "tensorflow-hub 0.1.1\n",
            "tensorboard 1.12.0\n",
            "sympy 1.1.1\n",
            "statsmodels 0.8.0\n",
            "spacy 2.0.18\n",
            "six 1.11.0\n",
            "simplegeneric 0.8.1\n",
            "setuptools 40.6.2\n",
            "seaborn 0.7.1\n",
            "scipy 1.1.0\n",
            "scikit-learn 0.19.2\n",
            "scikit-image 0.13.1\n",
            "rsa 4.0\n",
            "requests 2.18.4\n",
            "requests-oauthlib 1.0.0\n",
            "regex 2018.1.10\n",
            "pyzmq 17.0.0\n",
            "PyYAML 3.13\n",
            "PyWavelets 1.0.1\n",
            "pytz 2018.7\n",
            "python-dateutil 2.5.3\n",
            "pytest 3.10.1\n",
            "pystache 0.5.4\n",
            "pyparsing 2.3.0\n",
            "pymc3 3.5\n",
            "Pygments 2.1.3\n",
            "pyasn1 0.4.4\n",
            "pyasn1-modules 0.2.2\n",
            "py 1.7.0\n",
            "ptyprocess 0.6.0\n",
            "psutil 5.4.8\n",
            "protobuf 3.6.1\n",
            "prompt-toolkit 1.0.15\n",
            "preshed 2.0.1\n",
            "portpicker 1.2.0\n",
            "pluggy 0.8.0\n",
            "plotly 1.12.12\n",
            "plac 0.9.6\n",
            "pip 18.1\n",
            "Pillow 4.0.0\n",
            "pickleshare 0.7.5\n",
            "pexpect 4.6.0\n",
            "patsy 0.5.1\n",
            "pandocfilters 1.4.2\n",
            "pandas 0.22.0\n",
            "pandas-gbq 0.4.1\n",
            "opencv-python 3.4.4.19\n",
            "olefile 0.46\n",
            "oauthlib 2.1.0\n",
            "oauth2client 4.1.3\n",
            "numpy 1.14.6\n",
            "notebook 5.2.2\n",
            "nltk 3.2.5\n",
            "networkx 2.2\n",
            "nbformat 4.4.0\n",
            "nbconvert 5.4.0\n",
            "murmurhash 1.0.1\n",
            "msgpack 0.5.6\n",
            "msgpack-numpy 0.4.3.2\n",
            "mpmath 1.0.0\n",
            "more-itertools 4.3.0\n",
            "mkl 2019.0\n",
            "mistune 0.8.4\n",
            "matplotlib 2.1.2\n",
            "MarkupSafe 1.1.0\n",
            "Markdown 3.0.1\n",
            "Keras 2.2.4\n",
            "Keras-Preprocessing 1.0.5\n",
            "Keras-Applications 1.0.6\n",
            "jupyter-core 4.4.0\n",
            "jupyter-client 5.2.3\n",
            "jsonschema 2.6.0\n",
            "joblib 0.13.0\n",
            "Jinja2 2.10\n",
            "ipython 5.5.0\n",
            "ipython-genutils 0.2.0\n",
            "ipykernel 4.6.1\n",
            "intel-openmp 2019.0\n",
            "idna 2.6\n",
            "ideep4py 2.0.0.post3\n",
            "httplib2 0.11.3\n",
            "h5py 2.8.0\n",
            "grpcio 1.15.0\n",
            "googleapis-common-protos 1.5.5\n",
            "google-resumable-media 0.3.1\n",
            "google-colab 0.0.1a1\n",
            "google-cloud-translate 1.3.1\n",
            "google-cloud-storage 1.8.0\n",
            "google-cloud-language 1.0.2\n",
            "google-cloud-core 0.28.1\n",
            "google-cloud-bigquery 1.1.0\n",
            "google-auth 1.4.2\n",
            "google-auth-oauthlib 0.2.0\n",
            "google-auth-httplib2 0.0.3\n",
            "google-api-python-client 1.6.7\n",
            "google-api-core 1.6.0\n",
            "gast 0.2.0\n",
            "future 0.16.0\n",
            "entrypoints 0.2.3\n",
            "dill 0.2.8.2\n",
            "defusedxml 0.5.0\n",
            "decorator 4.3.0\n",
            "cytoolz 0.9.0.1\n",
            "cymem 2.0.2\n",
            "cycler 0.10.0\n",
            "crcmod 1.7\n",
            "chardet 3.0.4\n",
            "certifi 2018.11.29\n",
            "cachetools 3.0.0\n",
            "bleach 3.0.2\n",
            "beautifulsoup4 4.6.3\n",
            "attrs 18.2.0\n",
            "atomicwrites 1.2.1\n",
            "astor 0.7.1\n",
            "altair 2.2.2\n",
            "absl-py 0.6.1\n",
            "python-apt 1.6.3\n",
            "pygobject 3.26.1\n"
          ],
          "name": "stdout"
        }
      ]
    },
    {
      "cell_type": "markdown",
      "metadata": {
        "id": "JRTAP0n12We4",
        "colab_type": "text"
      },
      "source": [
        "# **Kaggle 설치 및 환경 설정**"
      ]
    },
    {
      "cell_type": "code",
      "metadata": {
        "id": "-164b5fP1q1R",
        "colab_type": "code",
        "outputId": "a243b6e7-05a6-48b3-a0ee-588c14315706",
        "colab": {
          "base_uri": "https://localhost:8080/",
          "height": 449
        }
      },
      "source": [
        "!pip install kaggle"
      ],
      "execution_count": 0,
      "outputs": [
        {
          "output_type": "stream",
          "text": [
            "Collecting kaggle\n",
            "\u001b[?25l  Downloading https://files.pythonhosted.org/packages/9e/94/5370052b9cbc63a927bda08c4f7473a35d3bb27cc071baa1a83b7f783352/kaggle-1.5.1.1.tar.gz (53kB)\n",
            "\u001b[K    100% |████████████████████████████████| 61kB 2.9MB/s \n",
            "\u001b[?25hRequirement already satisfied: urllib3<1.23.0,>=1.15 in /usr/local/lib/python3.6/dist-packages (from kaggle) (1.22)\n",
            "Requirement already satisfied: six>=1.10 in /usr/local/lib/python3.6/dist-packages (from kaggle) (1.11.0)\n",
            "Requirement already satisfied: certifi in /usr/local/lib/python3.6/dist-packages (from kaggle) (2018.11.29)\n",
            "Requirement already satisfied: python-dateutil in /usr/local/lib/python3.6/dist-packages (from kaggle) (2.5.3)\n",
            "Requirement already satisfied: requests in /usr/local/lib/python3.6/dist-packages (from kaggle) (2.18.4)\n",
            "Requirement already satisfied: tqdm in /usr/local/lib/python3.6/dist-packages (from kaggle) (4.28.1)\n",
            "Collecting python-slugify (from kaggle)\n",
            "  Downloading https://files.pythonhosted.org/packages/00/ad/c778a6df614b6217c30fe80045b365bfa08b5dd3cb02e8b37a6d25126781/python-slugify-1.2.6.tar.gz\n",
            "Requirement already satisfied: chardet<3.1.0,>=3.0.2 in /usr/local/lib/python3.6/dist-packages (from requests->kaggle) (3.0.4)\n",
            "Requirement already satisfied: idna<2.7,>=2.5 in /usr/local/lib/python3.6/dist-packages (from requests->kaggle) (2.6)\n",
            "Collecting Unidecode>=0.04.16 (from python-slugify->kaggle)\n",
            "\u001b[?25l  Downloading https://files.pythonhosted.org/packages/31/39/53096f9217b057cb049fe872b7fc7ce799a1a89b76cf917d9639e7a558b5/Unidecode-1.0.23-py2.py3-none-any.whl (237kB)\n",
            "\u001b[K    100% |████████████████████████████████| 245kB 8.6MB/s \n",
            "\u001b[?25hBuilding wheels for collected packages: kaggle, python-slugify\n",
            "  Running setup.py bdist_wheel for kaggle ... \u001b[?25l-\b \b\\\b \bdone\n",
            "\u001b[?25h  Stored in directory: /root/.cache/pip/wheels/5a/2d/0c/9fc539e558586b9ed9127916a7f4e620163c24cc97460b1188\n",
            "  Running setup.py bdist_wheel for python-slugify ... \u001b[?25l-\b \bdone\n",
            "\u001b[?25h  Stored in directory: /root/.cache/pip/wheels/e3/65/da/2045deea3098ed7471eca0e2460cfbd3fdfe8c1d6fa6fcac92\n",
            "Successfully built kaggle python-slugify\n",
            "Installing collected packages: Unidecode, python-slugify, kaggle\n",
            "Successfully installed Unidecode-1.0.23 kaggle-1.5.1.1 python-slugify-1.2.6\n"
          ],
          "name": "stdout"
        }
      ]
    },
    {
      "cell_type": "markdown",
      "metadata": {
        "id": "fBXuk4wI31Jk",
        "colab_type": "text"
      },
      "source": [
        "kaggle.json 인증서 연동"
      ]
    },
    {
      "cell_type": "code",
      "metadata": {
        "id": "aGuyDv7G1ryZ",
        "colab_type": "code",
        "outputId": "71e23b9b-82d3-43b3-ece7-22580f5b3165",
        "colab": {
          "base_uri": "https://localhost:8080/",
          "height": 34
        }
      },
      "source": [
        "from googleapiclient.discovery import build\n",
        "import io, os\n",
        "from googleapiclient.http import MediaIoBaseDownload\n",
        "from google.colab import auth\n",
        "\n",
        "auth.authenticate_user()\n",
        "\n",
        "drive_service = build('drive', 'v3')\n",
        "results = drive_service.files().list(\n",
        "        q=\"name = 'kaggle.json'\", fields=\"files(id)\").execute()\n",
        "kaggle_api_key = results.get('files', [])\n",
        "\n",
        "filename = \"/content/.kaggle/kaggle.json\"\n",
        "os.makedirs(os.path.dirname(filename), exist_ok=True)\n",
        "\n",
        "request = drive_service.files().get_media(fileId=kaggle_api_key[0]['id'])\n",
        "fh = io.FileIO(filename, 'wb')\n",
        "downloader = MediaIoBaseDownload(fh, request)\n",
        "done = False\n",
        "while done is False:\n",
        "    status, done = downloader.next_chunk()\n",
        "    print(\"Download %d%%.\" % int(status.progress() * 100))\n",
        "os.chmod(filename, 600)"
      ],
      "execution_count": 0,
      "outputs": [
        {
          "output_type": "stream",
          "text": [
            "Download 100%.\n"
          ],
          "name": "stdout"
        }
      ]
    },
    {
      "cell_type": "markdown",
      "metadata": {
        "id": "1nY6jjyY3x6d",
        "colab_type": "text"
      },
      "source": [
        "검증: kaggle 명령어 테스트"
      ]
    },
    {
      "cell_type": "code",
      "metadata": {
        "id": "Zugk36TN3z9d",
        "colab_type": "code",
        "outputId": "7eccae99-7f72-4055-c986-91e55c9ad4c8",
        "colab": {
          "base_uri": "https://localhost:8080/",
          "height": 173
        }
      },
      "source": [
        "!kaggle competitions list"
      ],
      "execution_count": 0,
      "outputs": [
        {
          "output_type": "stream",
          "text": [
            "Traceback (most recent call last):\n",
            "  File \"/usr/local/bin/kaggle\", line 7, in <module>\n",
            "    from kaggle.cli import main\n",
            "  File \"/usr/local/lib/python3.6/dist-packages/kaggle/__init__.py\", line 23, in <module>\n",
            "    api.authenticate()\n",
            "  File \"/usr/local/lib/python3.6/dist-packages/kaggle/api/kaggle_api_extended.py\", line 116, in authenticate\n",
            "    self.config_file, self.config_dir))\n",
            "OSError: Could not find kaggle.json. Make sure it's located in /root/.kaggle. Or use the environment method.\n"
          ],
          "name": "stdout"
        }
      ]
    },
    {
      "cell_type": "markdown",
      "metadata": {
        "id": "ABdsaqGiShJY",
        "colab_type": "text"
      },
      "source": [
        "# **LightGbm Install**"
      ]
    },
    {
      "cell_type": "code",
      "metadata": {
        "id": "knJDirbA42-D",
        "colab_type": "code",
        "outputId": "f34e5085-4569-44c9-b850-45ea08c91163",
        "colab": {
          "base_uri": "https://localhost:8080/",
          "height": 107
        }
      },
      "source": [
        "!pip install CMake"
      ],
      "execution_count": 0,
      "outputs": [
        {
          "output_type": "stream",
          "text": [
            "Collecting CMake\n",
            "\u001b[?25l  Downloading https://files.pythonhosted.org/packages/6a/46/f03c3c42bc0e162027f50a3e218b2707a988a63d8d45d96a714064ffa511/cmake-3.13.1-cp36-cp36m-manylinux1_x86_64.whl (15.9MB)\n",
            "\u001b[K    100% |████████████████████████████████| 15.9MB 2.3MB/s \n",
            "\u001b[?25hInstalling collected packages: CMake\n",
            "Successfully installed CMake-3.13.1\n"
          ],
          "name": "stdout"
        }
      ]
    },
    {
      "cell_type": "code",
      "metadata": {
        "id": "AEsuSgL-AICe",
        "colab_type": "code",
        "outputId": "87c4842b-8b20-4d86-c6fe-d25494d324fb",
        "colab": {
          "base_uri": "https://localhost:8080/",
          "height": 34
        }
      },
      "source": [
        "import os\n",
        "os.getcwd()"
      ],
      "execution_count": 0,
      "outputs": [
        {
          "output_type": "execute_result",
          "data": {
            "text/plain": [
              "'/content/LightGBM'"
            ]
          },
          "metadata": {
            "tags": []
          },
          "execution_count": 72
        }
      ]
    },
    {
      "cell_type": "code",
      "metadata": {
        "id": "4Y7qhUiqAID7",
        "colab_type": "code",
        "outputId": "fab5933a-edba-4417-8b89-aa31225ff192",
        "colab": {
          "base_uri": "https://localhost:8080/",
          "height": 34
        }
      },
      "source": [
        "%cd .."
      ],
      "execution_count": 0,
      "outputs": [
        {
          "output_type": "stream",
          "text": [
            "/content\n"
          ],
          "name": "stdout"
        }
      ]
    },
    {
      "cell_type": "code",
      "metadata": {
        "id": "_B0ms1An-mvE",
        "colab_type": "code",
        "outputId": "e3c996f6-3876-4ac1-b09b-e5af58584fc2",
        "colab": {
          "base_uri": "https://localhost:8080/",
          "height": 71
        }
      },
      "source": [
        "%cd content/"
      ],
      "execution_count": 0,
      "outputs": [
        {
          "output_type": "stream",
          "text": [
            "[Errno 2] No such file or directory: 'content/'\n",
            "/content/LightGBM\n"
          ],
          "name": "stdout"
        }
      ]
    },
    {
      "cell_type": "code",
      "metadata": {
        "id": "hvp60bWV-uIP",
        "colab_type": "code",
        "outputId": "cd7c78b0-681a-4b0e-91c3-d4b13f3b87e8",
        "colab": {
          "base_uri": "https://localhost:8080/",
          "height": 105
        }
      },
      "source": [
        "%ls"
      ],
      "execution_count": 0,
      "outputs": [
        {
          "output_type": "stream",
          "text": [
            "\u001b[0m\u001b[01;34mbuild\u001b[0m/              \u001b[01;34mcompute\u001b[0m/   \u001b[01;34mhelpers\u001b[0m/  \u001b[01;34mpython-package\u001b[0m/  \u001b[01;34mswig\u001b[0m/\n",
            "build_r.R           \u001b[01;34mdocker\u001b[0m/    \u001b[01;34minclude\u001b[0m/  README.md        \u001b[01;34mtests\u001b[0m/\n",
            "CMakeLists.txt      \u001b[01;34mdocs\u001b[0m/      LICENSE   \u001b[01;34mR-package\u001b[0m/       VERSION.txt\n",
            "CODE_OF_CONDUCT.md  \u001b[01;34mexamples\u001b[0m/  \u001b[01;34mpmml\u001b[0m/     \u001b[01;34msrc\u001b[0m/             \u001b[01;34mwindows\u001b[0m/\n"
          ],
          "name": "stdout"
        }
      ]
    },
    {
      "cell_type": "code",
      "metadata": {
        "id": "5ryDwwAV9k2w",
        "colab_type": "code",
        "colab": {}
      },
      "source": [
        "%rm -r -f LightGBM"
      ],
      "execution_count": 0,
      "outputs": []
    },
    {
      "cell_type": "code",
      "metadata": {
        "id": "6OIY0YSt44jB",
        "colab_type": "code",
        "outputId": "f885657d-f73e-4407-b3d8-0aec263a5900",
        "colab": {
          "base_uri": "https://localhost:8080/",
          "height": 1805
        }
      },
      "source": [
        "!git clone --recursive https://github.com/Microsoft/LightGBM\n",
        "%cd LightGBM\n",
        "!mkdir build\n",
        "!cd build\n",
        "!cmake ./\n",
        "!make -j4"
      ],
      "execution_count": 0,
      "outputs": [
        {
          "output_type": "stream",
          "text": [
            "Cloning into 'LightGBM'...\n",
            "remote: Enumerating objects: 92, done.\u001b[K\n",
            "remote: Counting objects:   1% (1/92)   \u001b[K\rremote: Counting objects:   2% (2/92)   \u001b[K\rremote: Counting objects:   3% (3/92)   \u001b[K\rremote: Counting objects:   4% (4/92)   \u001b[K\rremote: Counting objects:   5% (5/92)   \u001b[K\rremote: Counting objects:   6% (6/92)   \u001b[K\rremote: Counting objects:   7% (7/92)   \u001b[K\rremote: Counting objects:   8% (8/92)   \u001b[K\rremote: Counting objects:   9% (9/92)   \u001b[K\rremote: Counting objects:  10% (10/92)   \u001b[K\rremote: Counting objects:  11% (11/92)   \u001b[K\rremote: Counting objects:  13% (12/92)   \u001b[K\rremote: Counting objects:  14% (13/92)   \u001b[K\rremote: Counting objects:  15% (14/92)   \u001b[K\rremote: Counting objects:  16% (15/92)   \u001b[K\rremote: Counting objects:  17% (16/92)   \u001b[K\rremote: Counting objects:  18% (17/92)   \u001b[K\rremote: Counting objects:  19% (18/92)   \u001b[K\rremote: Counting objects:  20% (19/92)   \u001b[K\rremote: Counting objects:  21% (20/92)   \u001b[K\rremote: Counting objects:  22% (21/92)   \u001b[K\rremote: Counting objects:  23% (22/92)   \u001b[K\rremote: Counting objects:  25% (23/92)   \u001b[K\rremote: Counting objects:  26% (24/92)   \u001b[K\rremote: Counting objects:  27% (25/92)   \u001b[K\rremote: Counting objects:  28% (26/92)   \u001b[K\rremote: Counting objects:  29% (27/92)   \u001b[K\rremote: Counting objects:  30% (28/92)   \u001b[K\rremote: Counting objects:  31% (29/92)   \u001b[K\rremote: Counting objects:  32% (30/92)   \u001b[K\rremote: Counting objects:  33% (31/92)   \u001b[K\rremote: Counting objects:  34% (32/92)   \u001b[K\rremote: Counting objects:  35% (33/92)   \u001b[K\rremote: Counting objects:  36% (34/92)   \u001b[K\rremote: Counting objects:  38% (35/92)   \u001b[K\rremote: Counting objects:  39% (36/92)   \u001b[K\rremote: Counting objects:  40% (37/92)   \u001b[K\rremote: Counting objects:  41% (38/92)   \u001b[K\rremote: Counting objects:  42% (39/92)   \u001b[K\rremote: Counting objects:  43% (40/92)   \u001b[K\rremote: Counting objects:  44% (41/92)   \u001b[K\rremote: Counting objects:  45% (42/92)   \u001b[K\rremote: Counting objects:  46% (43/92)   \u001b[K\rremote: Counting objects:  47% (44/92)   \u001b[K\rremote: Counting objects:  48% (45/92)   \u001b[K\rremote: Counting objects:  50% (46/92)   \u001b[K\rremote: Counting objects:  51% (47/92)   \u001b[K\rremote: Counting objects:  52% (48/92)   \u001b[K\rremote: Counting objects:  53% (49/92)   \u001b[K\rremote: Counting objects:  54% (50/92)   \u001b[K\rremote: Counting objects:  55% (51/92)   \u001b[K\rremote: Counting objects:  56% (52/92)   \u001b[K\rremote: Counting objects:  57% (53/92)   \u001b[K\rremote: Counting objects:  58% (54/92)   \u001b[K\rremote: Counting objects:  59% (55/92)   \u001b[K\rremote: Counting objects:  60% (56/92)   \u001b[K\rremote: Counting objects:  61% (57/92)   \u001b[K\rremote: Counting objects:  63% (58/92)   \u001b[K\rremote: Counting objects:  64% (59/92)   \u001b[K\rremote: Counting objects:  65% (60/92)   \u001b[K\rremote: Counting objects:  66% (61/92)   \u001b[K\rremote: Counting objects:  67% (62/92)   \u001b[K\rremote: Counting objects:  68% (63/92)   \u001b[K\rremote: Counting objects:  69% (64/92)   \u001b[K\rremote: Counting objects:  70% (65/92)   \u001b[K\rremote: Counting objects:  71% (66/92)   \u001b[K\rremote: Counting objects:  72% (67/92)   \u001b[K\rremote: Counting objects:  73% (68/92)   \u001b[K\rremote: Counting objects:  75% (69/92)   \u001b[K\rremote: Counting objects:  76% (70/92)   \u001b[K\rremote: Counting objects:  77% (71/92)   \u001b[K\rremote: Counting objects:  78% (72/92)   \u001b[K\rremote: Counting objects:  79% (73/92)   \u001b[K\rremote: Counting objects:  80% (74/92)   \u001b[K\rremote: Counting objects:  81% (75/92)   \u001b[K\rremote: Counting objects:  82% (76/92)   \u001b[K\rremote: Counting objects:  83% (77/92)   \u001b[K\rremote: Counting objects:  84% (78/92)   \u001b[K\rremote: Counting objects:  85% (79/92)   \u001b[K\rremote: Counting objects:  86% (80/92)   \u001b[K\rremote: Counting objects:  88% (81/92)   \u001b[K\rremote: Counting objects:  89% (82/92)   \u001b[K\rremote: Counting objects:  90% (83/92)   \u001b[K\rremote: Counting objects:  91% (84/92)   \u001b[K\rremote: Counting objects:  92% (85/92)   \u001b[K\rremote: Counting objects:  93% (86/92)   \u001b[K\rremote: Counting objects:  94% (87/92)   \u001b[K\rremote: Counting objects:  95% (88/92)   \u001b[K\rremote: Counting objects:  96% (89/92)   \u001b[K\rremote: Counting objects:  97% (90/92)   \u001b[K\rremote: Counting objects:  98% (91/92)   \u001b[K\rremote: Counting objects: 100% (92/92)   \u001b[K\rremote: Counting objects: 100% (92/92), done.\u001b[K\n",
            "remote: Compressing objects: 100% (74/74), done.\u001b[K\n",
            "remote: Total 12169 (delta 38), reused 29 (delta 17), pack-reused 12077\u001b[K\n",
            "Receiving objects: 100% (12169/12169), 9.01 MiB | 20.23 MiB/s, done.\n",
            "Resolving deltas: 100% (8547/8547), done.\n",
            "Submodule 'include/boost/compute' (https://github.com/boostorg/compute) registered for path 'compute'\n",
            "Cloning into '/content/LightGBM/LightGBM/compute'...\n",
            "remote: Enumerating objects: 5, done.        \n",
            "remote: Counting objects: 100% (5/5), done.        \n",
            "remote: Compressing objects: 100% (5/5), done.        \n",
            "remote: Total 21469 (delta 0), reused 2 (delta 0), pack-reused 21464        \n",
            "Receiving objects: 100% (21469/21469), 8.45 MiB | 18.34 MiB/s, done.\n",
            "Resolving deltas: 100% (17406/17406), done.\n",
            "Submodule path 'compute': checked out '509ebe4a9282eec8a92c65ce3bbc1925f1fdbe07'\n",
            "/content/LightGBM/LightGBM\n",
            "-- The C compiler identification is GNU 7.3.0\n",
            "-- The CXX compiler identification is GNU 7.3.0\n",
            "-- Check for working C compiler: /usr/bin/cc\n",
            "-- Check for working C compiler: /usr/bin/cc -- works\n",
            "-- Detecting C compiler ABI info\n",
            "-- Detecting C compiler ABI info - done\n",
            "-- Detecting C compile features\n",
            "-- Detecting C compile features - done\n",
            "-- Check for working CXX compiler: /usr/bin/c++\n",
            "-- Check for working CXX compiler: /usr/bin/c++ -- works\n",
            "-- Detecting CXX compiler ABI info\n",
            "-- Detecting CXX compiler ABI info - done\n",
            "-- Detecting CXX compile features\n",
            "-- Detecting CXX compile features - done\n",
            "-- Found OpenMP_C: -fopenmp (found version \"4.5\") \n",
            "-- Found OpenMP_CXX: -fopenmp (found version \"4.5\") \n",
            "-- Found OpenMP: TRUE (found version \"4.5\")  \n",
            "-- Configuring done\n",
            "-- Generating done\n",
            "-- Build files have been written to: /content/LightGBM/LightGBM\n",
            "\u001b[35m\u001b[1mScanning dependencies of target lightgbm\u001b[0m\n",
            "\u001b[35m\u001b[1mScanning dependencies of target _lightgbm\u001b[0m\n",
            "[  1%] \u001b[32mBuilding CXX object CMakeFiles/lightgbm.dir/src/boosting/boosting.cpp.o\u001b[0m\n",
            "[  3%] \u001b[32mBuilding CXX object CMakeFiles/lightgbm.dir/src/application/application.cpp.o\u001b[0m\n",
            "[  4%] \u001b[32mBuilding CXX object CMakeFiles/_lightgbm.dir/src/c_api.cpp.o\u001b[0m\n",
            "[  6%] \u001b[32mBuilding CXX object CMakeFiles/lightgbm.dir/src/main.cpp.o\u001b[0m\n",
            "[  7%] \u001b[32mBuilding CXX object CMakeFiles/_lightgbm.dir/src/lightgbm_R.cpp.o\u001b[0m\n",
            "[  9%] \u001b[32mBuilding CXX object CMakeFiles/_lightgbm.dir/src/application/application.cpp.o\u001b[0m\n",
            "[ 11%] \u001b[32mBuilding CXX object CMakeFiles/lightgbm.dir/src/boosting/gbdt.cpp.o\u001b[0m\n",
            "[ 12%] \u001b[32mBuilding CXX object CMakeFiles/lightgbm.dir/src/boosting/gbdt_model_text.cpp.o\u001b[0m\n",
            "[ 14%] \u001b[32mBuilding CXX object CMakeFiles/_lightgbm.dir/src/boosting/boosting.cpp.o\u001b[0m\n",
            "[ 15%] \u001b[32mBuilding CXX object CMakeFiles/_lightgbm.dir/src/boosting/gbdt.cpp.o\u001b[0m\n",
            "[ 17%] \u001b[32mBuilding CXX object CMakeFiles/lightgbm.dir/src/boosting/gbdt_prediction.cpp.o\u001b[0m\n",
            "[ 19%] \u001b[32mBuilding CXX object CMakeFiles/lightgbm.dir/src/boosting/prediction_early_stop.cpp.o\u001b[0m\n",
            "[ 20%] \u001b[32mBuilding CXX object CMakeFiles/lightgbm.dir/src/io/bin.cpp.o\u001b[0m\n",
            "[ 22%] \u001b[32mBuilding CXX object CMakeFiles/lightgbm.dir/src/io/config.cpp.o\u001b[0m\n",
            "[ 23%] \u001b[32mBuilding CXX object CMakeFiles/_lightgbm.dir/src/boosting/gbdt_model_text.cpp.o\u001b[0m\n",
            "[ 25%] \u001b[32mBuilding CXX object CMakeFiles/_lightgbm.dir/src/boosting/gbdt_prediction.cpp.o\u001b[0m\n",
            "[ 26%] \u001b[32mBuilding CXX object CMakeFiles/lightgbm.dir/src/io/config_auto.cpp.o\u001b[0m\n",
            "[ 28%] \u001b[32mBuilding CXX object CMakeFiles/_lightgbm.dir/src/boosting/prediction_early_stop.cpp.o\u001b[0m\n",
            "[ 30%] \u001b[32mBuilding CXX object CMakeFiles/_lightgbm.dir/src/io/bin.cpp.o\u001b[0m\n",
            "[ 31%] \u001b[32mBuilding CXX object CMakeFiles/_lightgbm.dir/src/io/config.cpp.o\u001b[0m\n",
            "[ 33%] \u001b[32mBuilding CXX object CMakeFiles/lightgbm.dir/src/io/dataset.cpp.o\u001b[0m\n",
            "[ 34%] \u001b[32mBuilding CXX object CMakeFiles/lightgbm.dir/src/io/dataset_loader.cpp.o\u001b[0m\n",
            "[ 36%] \u001b[32mBuilding CXX object CMakeFiles/_lightgbm.dir/src/io/config_auto.cpp.o\u001b[0m\n",
            "[ 38%] \u001b[32mBuilding CXX object CMakeFiles/lightgbm.dir/src/io/file_io.cpp.o\u001b[0m\n",
            "[ 39%] \u001b[32mBuilding CXX object CMakeFiles/_lightgbm.dir/src/io/dataset.cpp.o\u001b[0m\n",
            "[ 41%] \u001b[32mBuilding CXX object CMakeFiles/lightgbm.dir/src/io/json11.cpp.o\u001b[0m\n",
            "[ 42%] \u001b[32mBuilding CXX object CMakeFiles/_lightgbm.dir/src/io/dataset_loader.cpp.o\u001b[0m\n",
            "[ 44%] \u001b[32mBuilding CXX object CMakeFiles/lightgbm.dir/src/io/metadata.cpp.o\u001b[0m\n",
            "[ 46%] \u001b[32mBuilding CXX object CMakeFiles/lightgbm.dir/src/io/parser.cpp.o\u001b[0m\n",
            "[ 47%] \u001b[32mBuilding CXX object CMakeFiles/lightgbm.dir/src/io/tree.cpp.o\u001b[0m\n",
            "[ 49%] \u001b[32mBuilding CXX object CMakeFiles/lightgbm.dir/src/metric/dcg_calculator.cpp.o\u001b[0m\n",
            "[ 50%] \u001b[32mBuilding CXX object CMakeFiles/_lightgbm.dir/src/io/file_io.cpp.o\u001b[0m\n",
            "[ 52%] \u001b[32mBuilding CXX object CMakeFiles/_lightgbm.dir/src/io/json11.cpp.o\u001b[0m\n",
            "[ 53%] \u001b[32mBuilding CXX object CMakeFiles/_lightgbm.dir/src/io/metadata.cpp.o\u001b[0m\n",
            "[ 55%] \u001b[32mBuilding CXX object CMakeFiles/lightgbm.dir/src/metric/metric.cpp.o\u001b[0m\n",
            "[ 57%] \u001b[32mBuilding CXX object CMakeFiles/lightgbm.dir/src/network/linker_topo.cpp.o\u001b[0m\n",
            "[ 58%] \u001b[32mBuilding CXX object CMakeFiles/_lightgbm.dir/src/io/parser.cpp.o\u001b[0m\n",
            "[ 60%] \u001b[32mBuilding CXX object CMakeFiles/lightgbm.dir/src/network/linkers_mpi.cpp.o\u001b[0m\n",
            "[ 61%] \u001b[32mBuilding CXX object CMakeFiles/lightgbm.dir/src/network/linkers_socket.cpp.o\u001b[0m\n",
            "[ 63%] \u001b[32mBuilding CXX object CMakeFiles/_lightgbm.dir/src/io/tree.cpp.o\u001b[0m\n",
            "[ 65%] \u001b[32mBuilding CXX object CMakeFiles/_lightgbm.dir/src/metric/dcg_calculator.cpp.o\u001b[0m\n",
            "[ 66%] \u001b[32mBuilding CXX object CMakeFiles/lightgbm.dir/src/network/network.cpp.o\u001b[0m\n",
            "[ 68%] \u001b[32mBuilding CXX object CMakeFiles/lightgbm.dir/src/objective/objective_function.cpp.o\u001b[0m\n",
            "[ 69%] \u001b[32mBuilding CXX object CMakeFiles/_lightgbm.dir/src/metric/metric.cpp.o\u001b[0m\n",
            "[ 71%] \u001b[32mBuilding CXX object CMakeFiles/_lightgbm.dir/src/network/linker_topo.cpp.o\u001b[0m\n",
            "[ 73%] \u001b[32mBuilding CXX object CMakeFiles/lightgbm.dir/src/treelearner/data_parallel_tree_learner.cpp.o\u001b[0m\n",
            "[ 74%] \u001b[32mBuilding CXX object CMakeFiles/_lightgbm.dir/src/network/linkers_mpi.cpp.o\u001b[0m\n",
            "[ 76%] \u001b[32mBuilding CXX object CMakeFiles/_lightgbm.dir/src/network/linkers_socket.cpp.o\u001b[0m\n",
            "[ 77%] \u001b[32mBuilding CXX object CMakeFiles/_lightgbm.dir/src/network/network.cpp.o\u001b[0m\n",
            "[ 79%] \u001b[32mBuilding CXX object CMakeFiles/lightgbm.dir/src/treelearner/feature_parallel_tree_learner.cpp.o\u001b[0m\n",
            "[ 80%] \u001b[32mBuilding CXX object CMakeFiles/_lightgbm.dir/src/objective/objective_function.cpp.o\u001b[0m\n",
            "[ 82%] \u001b[32mBuilding CXX object CMakeFiles/_lightgbm.dir/src/treelearner/data_parallel_tree_learner.cpp.o\u001b[0m\n",
            "[ 84%] \u001b[32mBuilding CXX object CMakeFiles/lightgbm.dir/src/treelearner/gpu_tree_learner.cpp.o\u001b[0m\n",
            "[ 85%] \u001b[32mBuilding CXX object CMakeFiles/lightgbm.dir/src/treelearner/serial_tree_learner.cpp.o\u001b[0m\n",
            "[ 87%] \u001b[32mBuilding CXX object CMakeFiles/lightgbm.dir/src/treelearner/tree_learner.cpp.o\u001b[0m\n",
            "[ 88%] \u001b[32mBuilding CXX object CMakeFiles/lightgbm.dir/src/treelearner/voting_parallel_tree_learner.cpp.o\u001b[0m\n",
            "[ 90%] \u001b[32mBuilding CXX object CMakeFiles/_lightgbm.dir/src/treelearner/feature_parallel_tree_learner.cpp.o\u001b[0m\n",
            "[ 92%] \u001b[32mBuilding CXX object CMakeFiles/_lightgbm.dir/src/treelearner/gpu_tree_learner.cpp.o\u001b[0m\n",
            "[ 93%] \u001b[32mBuilding CXX object CMakeFiles/_lightgbm.dir/src/treelearner/serial_tree_learner.cpp.o\u001b[0m\n",
            "[ 95%] \u001b[32mBuilding CXX object CMakeFiles/_lightgbm.dir/src/treelearner/tree_learner.cpp.o\u001b[0m\n",
            "[ 96%] \u001b[32mBuilding CXX object CMakeFiles/_lightgbm.dir/src/treelearner/voting_parallel_tree_learner.cpp.o\u001b[0m\n",
            "[ 98%] \u001b[32m\u001b[1mLinking CXX executable lightgbm\u001b[0m\n",
            "[ 98%] Built target lightgbm\n",
            "[100%] \u001b[32m\u001b[1mLinking CXX shared library lib_lightgbm.so\u001b[0m\n",
            "[100%] Built target _lightgbm\n"
          ],
          "name": "stdout"
        }
      ]
    },
    {
      "cell_type": "markdown",
      "metadata": {
        "id": "4qRHzMRSzUXk",
        "colab_type": "text"
      },
      "source": [
        "# **NLTK Download**"
      ]
    },
    {
      "cell_type": "code",
      "metadata": {
        "id": "a7YoCnbRzTKy",
        "colab_type": "code",
        "outputId": "143543d6-7ebf-4c89-cd0b-14c3b8c9483a",
        "colab": {
          "base_uri": "https://localhost:8080/",
          "height": 125
        }
      },
      "source": [
        "!pip uninstall nltk"
      ],
      "execution_count": 0,
      "outputs": [
        {
          "output_type": "stream",
          "text": [
            "Uninstalling nltk-3.4:\n",
            "  Would remove:\n",
            "    /usr/local/lib/python3.6/dist-packages/nltk-3.4.dist-info/*\n",
            "    /usr/local/lib/python3.6/dist-packages/nltk/*\n",
            "Proceed (y/n)? y\n",
            "  Successfully uninstalled nltk-3.4\n"
          ],
          "name": "stdout"
        }
      ]
    },
    {
      "cell_type": "code",
      "metadata": {
        "id": "sVcPBMXm9NRF",
        "colab_type": "code",
        "outputId": "f95cabfd-1db4-480d-ab58-75a306991477",
        "colab": {
          "base_uri": "https://localhost:8080/",
          "height": 91
        }
      },
      "source": [
        "!pip install -U nltk"
      ],
      "execution_count": 0,
      "outputs": [
        {
          "output_type": "stream",
          "text": [
            "Requirement already up-to-date: nltk in /usr/local/lib/python3.6/dist-packages (3.4)\n",
            "Requirement already satisfied, skipping upgrade: singledispatch in /usr/local/lib/python3.6/dist-packages (from nltk) (3.4.0.3)\n",
            "Requirement already satisfied, skipping upgrade: six in /usr/local/lib/python3.6/dist-packages (from nltk) (1.11.0)\n"
          ],
          "name": "stdout"
        }
      ]
    },
    {
      "cell_type": "code",
      "metadata": {
        "id": "YEI8Hsy-zb2J",
        "colab_type": "code",
        "outputId": "8bac3920-8069-405c-c304-03277ba27612",
        "colab": {
          "base_uri": "https://localhost:8080/",
          "height": 53
        }
      },
      "source": [
        "!ls /content/drive/My\\ Drive/CustomClasses"
      ],
      "execution_count": 0,
      "outputs": [
        {
          "output_type": "stream",
          "text": [
            "chunkers  DataFrameSelector.py\tMostFrequentImputer.py\tstemmers  tokenizers\n",
            "corpora   hello.py\t\t__pycache__\t\ttaggers\n"
          ],
          "name": "stdout"
        }
      ]
    },
    {
      "cell_type": "code",
      "metadata": {
        "id": "Y2_EC1Q8zb_u",
        "colab_type": "code",
        "colab": {}
      },
      "source": [
        "import nltk"
      ],
      "execution_count": 0,
      "outputs": []
    },
    {
      "cell_type": "code",
      "metadata": {
        "id": "zLMrJjTwzjnR",
        "colab_type": "code",
        "outputId": "fb54b068-66c3-437f-99e0-be2c47cba0c3",
        "colab": {
          "base_uri": "https://localhost:8080/",
          "height": 1151
        }
      },
      "source": [
        "nltk.download(\"popular\", download_dir=\"/content/drive/My Drive/CustomClasses\")"
      ],
      "execution_count": 0,
      "outputs": [
        {
          "output_type": "stream",
          "text": [
            "[nltk_data] Downloading collection 'popular'\n",
            "[nltk_data]    | \n",
            "[nltk_data]    | Downloading package cmudict to /content/drive/My\n",
            "[nltk_data]    |     Drive/CustomClasses...\n",
            "[nltk_data]    |   Package cmudict is already up-to-date!\n",
            "[nltk_data]    | Downloading package gazetteers to /content/drive/My\n",
            "[nltk_data]    |     Drive/CustomClasses...\n",
            "[nltk_data]    |   Package gazetteers is already up-to-date!\n",
            "[nltk_data]    | Downloading package genesis to /content/drive/My\n",
            "[nltk_data]    |     Drive/CustomClasses...\n",
            "[nltk_data]    |   Package genesis is already up-to-date!\n",
            "[nltk_data]    | Downloading package gutenberg to /content/drive/My\n",
            "[nltk_data]    |     Drive/CustomClasses...\n",
            "[nltk_data]    |   Package gutenberg is already up-to-date!\n",
            "[nltk_data]    | Downloading package inaugural to /content/drive/My\n",
            "[nltk_data]    |     Drive/CustomClasses...\n",
            "[nltk_data]    |   Package inaugural is already up-to-date!\n",
            "[nltk_data]    | Downloading package movie_reviews to\n",
            "[nltk_data]    |     /content/drive/My Drive/CustomClasses...\n",
            "[nltk_data]    |   Package movie_reviews is already up-to-date!\n",
            "[nltk_data]    | Downloading package names to /content/drive/My\n",
            "[nltk_data]    |     Drive/CustomClasses...\n",
            "[nltk_data]    |   Package names is already up-to-date!\n",
            "[nltk_data]    | Downloading package shakespeare to /content/drive/My\n",
            "[nltk_data]    |     Drive/CustomClasses...\n",
            "[nltk_data]    |   Package shakespeare is already up-to-date!\n",
            "[nltk_data]    | Downloading package stopwords to /content/drive/My\n",
            "[nltk_data]    |     Drive/CustomClasses...\n",
            "[nltk_data]    |   Package stopwords is already up-to-date!\n",
            "[nltk_data]    | Downloading package treebank to /content/drive/My\n",
            "[nltk_data]    |     Drive/CustomClasses...\n",
            "[nltk_data]    |   Package treebank is already up-to-date!\n",
            "[nltk_data]    | Downloading package twitter_samples to\n",
            "[nltk_data]    |     /content/drive/My Drive/CustomClasses...\n",
            "[nltk_data]    |   Package twitter_samples is already up-to-date!\n",
            "[nltk_data]    | Downloading package omw to /content/drive/My\n",
            "[nltk_data]    |     Drive/CustomClasses...\n",
            "[nltk_data]    |   Package omw is already up-to-date!\n",
            "[nltk_data]    | Downloading package wordnet to /content/drive/My\n",
            "[nltk_data]    |     Drive/CustomClasses...\n",
            "[nltk_data]    |   Package wordnet is already up-to-date!\n",
            "[nltk_data]    | Downloading package wordnet_ic to /content/drive/My\n",
            "[nltk_data]    |     Drive/CustomClasses...\n",
            "[nltk_data]    |   Package wordnet_ic is already up-to-date!\n",
            "[nltk_data]    | Downloading package words to /content/drive/My\n",
            "[nltk_data]    |     Drive/CustomClasses...\n",
            "[nltk_data]    |   Package words is already up-to-date!\n",
            "[nltk_data]    | Downloading package maxent_ne_chunker to\n",
            "[nltk_data]    |     /content/drive/My Drive/CustomClasses...\n",
            "[nltk_data]    |   Package maxent_ne_chunker is already up-to-date!\n",
            "[nltk_data]    | Downloading package punkt to /content/drive/My\n",
            "[nltk_data]    |     Drive/CustomClasses...\n",
            "[nltk_data]    |   Package punkt is already up-to-date!\n",
            "[nltk_data]    | Downloading package snowball_data to\n",
            "[nltk_data]    |     /content/drive/My Drive/CustomClasses...\n",
            "[nltk_data]    |   Package snowball_data is already up-to-date!\n",
            "[nltk_data]    | Downloading package averaged_perceptron_tagger to\n",
            "[nltk_data]    |     /content/drive/My Drive/CustomClasses...\n",
            "[nltk_data]    |   Package averaged_perceptron_tagger is already up-\n",
            "[nltk_data]    |       to-date!\n",
            "[nltk_data]    | \n",
            "[nltk_data]  Done downloading collection popular\n"
          ],
          "name": "stderr"
        },
        {
          "output_type": "execute_result",
          "data": {
            "text/plain": [
              "True"
            ]
          },
          "metadata": {
            "tags": []
          },
          "execution_count": 6
        }
      ]
    },
    {
      "cell_type": "code",
      "metadata": {
        "id": "V1Ngz8WuH0J4",
        "colab_type": "code",
        "outputId": "13003c14-2d8d-454d-a638-c872ba0786d9",
        "colab": {
          "base_uri": "https://localhost:8080/",
          "height": 2195
        }
      },
      "source": [
        "nltk.download('book', download_dir=\"/content/drive/My Drive/CustomClasses\")"
      ],
      "execution_count": 0,
      "outputs": [
        {
          "output_type": "stream",
          "text": [
            "[nltk_data] Downloading collection 'book'\n",
            "[nltk_data]    | \n",
            "[nltk_data]    | Downloading package abc to /content/drive/My\n",
            "[nltk_data]    |     Drive/CustomClasses...\n",
            "[nltk_data]    |   Unzipping corpora/abc.zip.\n",
            "[nltk_data]    | Downloading package brown to /content/drive/My\n",
            "[nltk_data]    |     Drive/CustomClasses...\n",
            "[nltk_data]    |   Unzipping corpora/brown.zip.\n",
            "[nltk_data]    | Downloading package chat80 to /content/drive/My\n",
            "[nltk_data]    |     Drive/CustomClasses...\n",
            "[nltk_data]    |   Unzipping corpora/chat80.zip.\n",
            "[nltk_data]    | Downloading package cmudict to /content/drive/My\n",
            "[nltk_data]    |     Drive/CustomClasses...\n",
            "[nltk_data]    |   Package cmudict is already up-to-date!\n",
            "[nltk_data]    | Downloading package conll2000 to /content/drive/My\n",
            "[nltk_data]    |     Drive/CustomClasses...\n",
            "[nltk_data]    |   Unzipping corpora/conll2000.zip.\n",
            "[nltk_data]    | Downloading package conll2002 to /content/drive/My\n",
            "[nltk_data]    |     Drive/CustomClasses...\n",
            "[nltk_data]    |   Unzipping corpora/conll2002.zip.\n",
            "[nltk_data]    | Downloading package dependency_treebank to\n",
            "[nltk_data]    |     /content/drive/My Drive/CustomClasses...\n",
            "[nltk_data]    |   Unzipping corpora/dependency_treebank.zip.\n",
            "[nltk_data]    | Downloading package genesis to /content/drive/My\n",
            "[nltk_data]    |     Drive/CustomClasses...\n",
            "[nltk_data]    |   Package genesis is already up-to-date!\n",
            "[nltk_data]    | Downloading package gutenberg to /content/drive/My\n",
            "[nltk_data]    |     Drive/CustomClasses...\n",
            "[nltk_data]    |   Package gutenberg is already up-to-date!\n",
            "[nltk_data]    | Downloading package ieer to /content/drive/My\n",
            "[nltk_data]    |     Drive/CustomClasses...\n",
            "[nltk_data]    |   Unzipping corpora/ieer.zip.\n",
            "[nltk_data]    | Downloading package inaugural to /content/drive/My\n",
            "[nltk_data]    |     Drive/CustomClasses...\n",
            "[nltk_data]    |   Package inaugural is already up-to-date!\n",
            "[nltk_data]    | Downloading package movie_reviews to\n",
            "[nltk_data]    |     /content/drive/My Drive/CustomClasses...\n",
            "[nltk_data]    |   Package movie_reviews is already up-to-date!\n",
            "[nltk_data]    | Downloading package nps_chat to /content/drive/My\n",
            "[nltk_data]    |     Drive/CustomClasses...\n",
            "[nltk_data]    |   Package nps_chat is already up-to-date!\n",
            "[nltk_data]    | Downloading package names to /content/drive/My\n",
            "[nltk_data]    |     Drive/CustomClasses...\n",
            "[nltk_data]    |   Package names is already up-to-date!\n",
            "[nltk_data]    | Downloading package ppattach to /content/drive/My\n",
            "[nltk_data]    |     Drive/CustomClasses...\n",
            "[nltk_data]    |   Unzipping corpora/ppattach.zip.\n",
            "[nltk_data]    | Downloading package reuters to /content/drive/My\n",
            "[nltk_data]    |     Drive/CustomClasses...\n",
            "[nltk_data]    | Downloading package senseval to /content/drive/My\n",
            "[nltk_data]    |     Drive/CustomClasses...\n",
            "[nltk_data]    |   Unzipping corpora/senseval.zip.\n",
            "[nltk_data]    | Downloading package state_union to /content/drive/My\n",
            "[nltk_data]    |     Drive/CustomClasses...\n",
            "[nltk_data]    |   Unzipping corpora/state_union.zip.\n",
            "[nltk_data]    | Downloading package stopwords to /content/drive/My\n",
            "[nltk_data]    |     Drive/CustomClasses...\n",
            "[nltk_data]    |   Package stopwords is already up-to-date!\n",
            "[nltk_data]    | Downloading package swadesh to /content/drive/My\n",
            "[nltk_data]    |     Drive/CustomClasses...\n",
            "[nltk_data]    |   Unzipping corpora/swadesh.zip.\n",
            "[nltk_data]    | Downloading package timit to /content/drive/My\n",
            "[nltk_data]    |     Drive/CustomClasses...\n",
            "[nltk_data]    |   Unzipping corpora/timit.zip.\n",
            "[nltk_data]    | Downloading package treebank to /content/drive/My\n",
            "[nltk_data]    |     Drive/CustomClasses...\n",
            "[nltk_data]    |   Package treebank is already up-to-date!\n",
            "[nltk_data]    | Downloading package toolbox to /content/drive/My\n",
            "[nltk_data]    |     Drive/CustomClasses...\n",
            "[nltk_data]    |   Unzipping corpora/toolbox.zip.\n",
            "[nltk_data]    | Downloading package udhr to /content/drive/My\n",
            "[nltk_data]    |     Drive/CustomClasses...\n",
            "[nltk_data]    |   Unzipping corpora/udhr.zip.\n",
            "[nltk_data]    | Downloading package udhr2 to /content/drive/My\n",
            "[nltk_data]    |     Drive/CustomClasses...\n",
            "[nltk_data]    |   Unzipping corpora/udhr2.zip.\n",
            "[nltk_data]    | Downloading package unicode_samples to\n",
            "[nltk_data]    |     /content/drive/My Drive/CustomClasses...\n",
            "[nltk_data]    |   Unzipping corpora/unicode_samples.zip.\n",
            "[nltk_data]    | Downloading package webtext to /content/drive/My\n",
            "[nltk_data]    |     Drive/CustomClasses...\n",
            "[nltk_data]    |   Unzipping corpora/webtext.zip.\n",
            "[nltk_data]    | Downloading package wordnet to /content/drive/My\n",
            "[nltk_data]    |     Drive/CustomClasses...\n",
            "[nltk_data]    |   Package wordnet is already up-to-date!\n",
            "[nltk_data]    | Downloading package wordnet_ic to /content/drive/My\n",
            "[nltk_data]    |     Drive/CustomClasses...\n",
            "[nltk_data]    |   Package wordnet_ic is already up-to-date!\n",
            "[nltk_data]    | Downloading package words to /content/drive/My\n",
            "[nltk_data]    |     Drive/CustomClasses...\n",
            "[nltk_data]    |   Package words is already up-to-date!\n",
            "[nltk_data]    | Downloading package maxent_treebank_pos_tagger to\n",
            "[nltk_data]    |     /content/drive/My Drive/CustomClasses...\n",
            "[nltk_data]    |   Unzipping taggers/maxent_treebank_pos_tagger.zip.\n",
            "[nltk_data]    | Downloading package maxent_ne_chunker to\n",
            "[nltk_data]    |     /content/drive/My Drive/CustomClasses...\n",
            "[nltk_data]    |   Package maxent_ne_chunker is already up-to-date!\n",
            "[nltk_data]    | Downloading package universal_tagset to\n",
            "[nltk_data]    |     /content/drive/My Drive/CustomClasses...\n",
            "[nltk_data]    |   Unzipping taggers/universal_tagset.zip.\n",
            "[nltk_data]    | Downloading package punkt to /content/drive/My\n",
            "[nltk_data]    |     Drive/CustomClasses...\n",
            "[nltk_data]    |   Package punkt is already up-to-date!\n",
            "[nltk_data]    | Downloading package book_grammars to\n",
            "[nltk_data]    |     /content/drive/My Drive/CustomClasses...\n",
            "[nltk_data]    |   Unzipping grammars/book_grammars.zip.\n",
            "[nltk_data]    | Downloading package city_database to\n",
            "[nltk_data]    |     /content/drive/My Drive/CustomClasses...\n",
            "[nltk_data]    |   Unzipping corpora/city_database.zip.\n",
            "[nltk_data]    | Downloading package tagsets to /content/drive/My\n",
            "[nltk_data]    |     Drive/CustomClasses...\n",
            "[nltk_data]    |   Unzipping help/tagsets.zip.\n",
            "[nltk_data]    | Downloading package panlex_swadesh to\n",
            "[nltk_data]    |     /content/drive/My Drive/CustomClasses...\n",
            "[nltk_data]    | Downloading package averaged_perceptron_tagger to\n",
            "[nltk_data]    |     /content/drive/My Drive/CustomClasses...\n",
            "[nltk_data]    |   Package averaged_perceptron_tagger is already up-\n",
            "[nltk_data]    |       to-date!\n",
            "[nltk_data]    | \n",
            "[nltk_data]  Done downloading collection book\n"
          ],
          "name": "stderr"
        },
        {
          "output_type": "execute_result",
          "data": {
            "text/plain": [
              "True"
            ]
          },
          "metadata": {
            "tags": []
          },
          "execution_count": 9
        }
      ]
    },
    {
      "cell_type": "code",
      "metadata": {
        "id": "dCNMlS1V9Udh",
        "colab_type": "code",
        "outputId": "d2ad4fcd-f1dd-42c7-de2c-19fd2b8f38b4",
        "colab": {
          "base_uri": "https://localhost:8080/",
          "height": 35
        }
      },
      "source": [
        "!ls \"/gdrive/\""
      ],
      "execution_count": 0,
      "outputs": [
        {
          "output_type": "stream",
          "text": [
            "'My Drive'\n"
          ],
          "name": "stdout"
        }
      ]
    },
    {
      "cell_type": "code",
      "metadata": {
        "id": "iR--mONbISd-",
        "colab_type": "code",
        "outputId": "d66ef738-2e14-4b91-da30-bebe73c13580",
        "colab": {
          "base_uri": "https://localhost:8080/",
          "height": 127
        }
      },
      "source": [
        "!pip install -U konlpy -t /gdrive/My\\ Drive/CustomClasses"
      ],
      "execution_count": 0,
      "outputs": [
        {
          "output_type": "stream",
          "text": [
            "Collecting konlpy\n",
            "  Using cached https://files.pythonhosted.org/packages/e5/3d/4e983cd98d87b50b2ab0387d73fa946f745aa8164e8888a714d5129f9765/konlpy-0.5.1-py2.py3-none-any.whl\n",
            "Collecting JPype1>=0.5.7 (from konlpy)\n",
            "Installing collected packages: JPype1, konlpy\n",
            "Successfully installed JPype1-0.6.3 konlpy-0.5.1\n"
          ],
          "name": "stdout"
        }
      ]
    },
    {
      "cell_type": "code",
      "metadata": {
        "id": "2OD5nN4AfWv-",
        "colab_type": "code",
        "outputId": "a8fe45eb-1629-4d0f-bed0-c5e8891990de",
        "colab": {
          "base_uri": "https://localhost:8080/",
          "height": 179
        }
      },
      "source": [
        "%ls \"/gdrive/My Drive/CustomClasses\""
      ],
      "execution_count": 0,
      "outputs": [
        {
          "output_type": "stream",
          "text": [
            "\u001b[0m\u001b[01;34mchunkers\u001b[0m/                                \u001b[01;34mjpypex\u001b[0m/\n",
            "\u001b[01;34mcorpora\u001b[0m/                                 \u001b[01;34mkonlpy\u001b[0m/\n",
            "DataFrameSelector.py                     \u001b[01;34mkonlpy-0.5.1.dist-info\u001b[0m/\n",
            "\u001b[01;34mgrammars\u001b[0m/                                MostFrequentImputer.py\n",
            "hello.py                                 \u001b[01;34m__pycache__\u001b[0m/\n",
            "\u001b[01;34mhelp\u001b[0m/                                    \u001b[01;34mstemmers\u001b[0m/\n",
            "\u001b[01;34mjpype\u001b[0m/                                   \u001b[01;34mtaggers\u001b[0m/\n",
            "\u001b[01;34mJPype1-0.6.3.dist-info\u001b[0m/                  \u001b[01;34mtest\u001b[0m/\n",
            "\u001b[01;32m_jpype.cpython-36m-x86_64-linux-gnu.so\u001b[0m*  \u001b[01;34mtokenizers\u001b[0m/\n"
          ],
          "name": "stdout"
        }
      ]
    },
    {
      "cell_type": "code",
      "metadata": {
        "id": "D5jXDAI_kxcw",
        "colab_type": "code",
        "colab": {}
      },
      "source": [
        ""
      ],
      "execution_count": 0,
      "outputs": []
    }
  ]
}