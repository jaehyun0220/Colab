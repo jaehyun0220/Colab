{
  "nbformat": 4,
  "nbformat_minor": 0,
  "metadata": {
    "colab": {
      "name": "jigsaw_v1.ipynb",
      "version": "0.3.2",
      "provenance": []
    },
    "language_info": {
      "codemirror_mode": {
        "name": "ipython",
        "version": 3
      },
      "file_extension": ".py",
      "mimetype": "text/x-python",
      "name": "python",
      "nbconvert_exporter": "python",
      "pygments_lexer": "ipython3",
      "version": "3.5.4"
    },
    "kernelspec": {
      "display_name": "Python 3",
      "language": "python",
      "name": "python3"
    }
  },
  "cells": [
    {
      "cell_type": "code",
      "metadata": {
        "id": "EwSigEpsgSCR",
        "colab_type": "code",
        "colab": {},
        "outputId": "99cd64c5-f6a5-435d-c240-8dd7df151eaa"
      },
      "source": [
        "# 데이터 활용에 필요한 기본 패키지 로딩\n",
        "\n",
        "import sys #access to system parameters \n",
        "print(\"Python version: {}\". format(sys.version))\n",
        "\n",
        "import pandas as pd\n",
        "print(\"pandas version: {}\". format(pd.__version__))\n",
        "\n",
        "import sklearn #collection of machine learning algorithms\n",
        "print(\"scikit-learn version: {}\". format(sklearn.__version__))\n",
        "\n",
        "import numpy as np #foundational package for scientific computing\n",
        "print(\"NumPy version: {}\". format(np.__version__))\n",
        "\n",
        "import tensorflow as tf\n",
        "print(\"tensorflow version: {}\".format(tf.__version__))\n",
        "\n",
        "import keras\n",
        "print(\"keras version: {}\".format(keras.__version__))\n",
        "\n",
        "import os\n",
        "#import io"
      ],
      "execution_count": 0,
      "outputs": [
        {
          "output_type": "stream",
          "text": [
            "Python version: 3.5.4 |Anaconda custom (64-bit)| (default, Nov  8 2017, 14:34:30) [MSC v.1900 64 bit (AMD64)]\n",
            "pandas version: 0.22.0\n",
            "scikit-learn version: 0.20.0\n",
            "NumPy version: 1.14.2\n"
          ],
          "name": "stdout"
        },
        {
          "output_type": "stream",
          "text": [
            "D:\\Anaconda3\\envs\\tensorflow\\lib\\site-packages\\h5py\\__init__.py:36: FutureWarning: Conversion of the second argument of issubdtype from `float` to `np.floating` is deprecated. In future, it will be treated as `np.float64 == np.dtype(float).type`.\n",
            "  from ._conv import register_converters as _register_converters\n"
          ],
          "name": "stderr"
        },
        {
          "output_type": "stream",
          "text": [
            "tensorflow version: 1.7.0\n",
            "keras version: 2.1.6\n"
          ],
          "name": "stdout"
        },
        {
          "output_type": "stream",
          "text": [
            "Using TensorFlow backend.\n"
          ],
          "name": "stderr"
        }
      ]
    },
    {
      "cell_type": "code",
      "metadata": {
        "id": "55XLlqJ1gSCW",
        "colab_type": "code",
        "colab": {}
      },
      "source": [
        "#데이터 전처리 관련 라이브러리 로드\n",
        "from sklearn import preprocessing\n",
        "from sklearn.preprocessing import MinMaxScaler\n",
        "from sklearn.preprocessing import FunctionTransformer\n",
        "from sklearn.compose import ColumnTransformer\n",
        "from sklearn.pipeline import Pipeline\n",
        "\n",
        "from sklearn.preprocessing import LabelEncoder\n",
        "from sklearn.preprocessing import OneHotEncoder\n",
        "from sklearn.model_selection import ShuffleSplit\n",
        "\n",
        "#모델 알고리즘 로드\n",
        "from sklearn import svm, tree\n",
        "from xgboost.sklearn import XGBClassifier\n",
        "from sklearn.ensemble import RandomForestClassifier, GradientBoostingClassifier\n",
        "\n",
        "# Deep Learning Model 로드\n",
        "from keras.models import Sequential\n",
        "from keras.layers import Dense, Dropout, Activation \n",
        "from keras.wrappers.scikit_learn import KerasClassifier\n",
        "\n",
        "#Visualization\n",
        "import matplotlib as mpl\n",
        "import matplotlib.pyplot as plt\n",
        "import seaborn as sns\n",
        "\n",
        "#HyperParameter Tuning을 위한 라이브러리 로드\n",
        "from sklearn.model_selection import GridSearchCV\n",
        "from sklearn.model_selection import RandomizedSearchCV\n",
        "\n",
        "#모델 평가를 위한 라이브러리 로드\n",
        "from sklearn import metrics\n",
        "from sklearn.model_selection import cross_validate\n",
        "from sklearn import model_selection\n",
        "\n",
        "#수학 & 통계 관련 라이브러리 로드\n",
        "import scipy.stats as st\n",
        "from collections import Counter\n",
        "\n",
        "#Configure Visualization Defaults\n",
        "#%matplotlib inline = show plots in Jupyter Notebook browser\n",
        "%matplotlib inline\n",
        "mpl.style.use('ggplot')\n",
        "sns.set_style('white')\n",
        "\n",
        "#ignore warnings\n",
        "import warnings\n",
        "warnings.filterwarnings('ignore')"
      ],
      "execution_count": 0,
      "outputs": []
    },
    {
      "cell_type": "code",
      "metadata": {
        "id": "7McmiFmqgSCZ",
        "colab_type": "code",
        "colab": {},
        "outputId": "06774eb8-bcb8-4e66-f6f8-9e5d9400cf3d"
      },
      "source": [
        "# File Read from CSV\n",
        "col_names = list(map(lambda x: \"A\"+str(x), [i for i in range(16)]))\n",
        "dataset = pd.read_csv('./crx.data.txt', names = col_names, header = None)\n",
        "\n",
        "#데이터 load\n",
        "print(\"type is: \", type(dataset), \"shape is : \",dataset.shape)\n",
        "dataset.head()"
      ],
      "execution_count": 0,
      "outputs": [
        {
          "output_type": "stream",
          "text": [
            "type is:  <class 'pandas.core.frame.DataFrame'> shape is :  (690, 16)\n"
          ],
          "name": "stdout"
        },
        {
          "output_type": "execute_result",
          "data": {
            "text/html": [
              "<div>\n",
              "<style scoped>\n",
              "    .dataframe tbody tr th:only-of-type {\n",
              "        vertical-align: middle;\n",
              "    }\n",
              "\n",
              "    .dataframe tbody tr th {\n",
              "        vertical-align: top;\n",
              "    }\n",
              "\n",
              "    .dataframe thead th {\n",
              "        text-align: right;\n",
              "    }\n",
              "</style>\n",
              "<table border=\"1\" class=\"dataframe\">\n",
              "  <thead>\n",
              "    <tr style=\"text-align: right;\">\n",
              "      <th></th>\n",
              "      <th>A0</th>\n",
              "      <th>A1</th>\n",
              "      <th>A2</th>\n",
              "      <th>A3</th>\n",
              "      <th>A4</th>\n",
              "      <th>A5</th>\n",
              "      <th>A6</th>\n",
              "      <th>A7</th>\n",
              "      <th>A8</th>\n",
              "      <th>A9</th>\n",
              "      <th>A10</th>\n",
              "      <th>A11</th>\n",
              "      <th>A12</th>\n",
              "      <th>A13</th>\n",
              "      <th>A14</th>\n",
              "      <th>A15</th>\n",
              "    </tr>\n",
              "  </thead>\n",
              "  <tbody>\n",
              "    <tr>\n",
              "      <th>0</th>\n",
              "      <td>b</td>\n",
              "      <td>30.83</td>\n",
              "      <td>0.000</td>\n",
              "      <td>u</td>\n",
              "      <td>g</td>\n",
              "      <td>w</td>\n",
              "      <td>v</td>\n",
              "      <td>1.25</td>\n",
              "      <td>t</td>\n",
              "      <td>t</td>\n",
              "      <td>1</td>\n",
              "      <td>f</td>\n",
              "      <td>g</td>\n",
              "      <td>00202</td>\n",
              "      <td>0</td>\n",
              "      <td>+</td>\n",
              "    </tr>\n",
              "    <tr>\n",
              "      <th>1</th>\n",
              "      <td>a</td>\n",
              "      <td>58.67</td>\n",
              "      <td>4.460</td>\n",
              "      <td>u</td>\n",
              "      <td>g</td>\n",
              "      <td>q</td>\n",
              "      <td>h</td>\n",
              "      <td>3.04</td>\n",
              "      <td>t</td>\n",
              "      <td>t</td>\n",
              "      <td>6</td>\n",
              "      <td>f</td>\n",
              "      <td>g</td>\n",
              "      <td>00043</td>\n",
              "      <td>560</td>\n",
              "      <td>+</td>\n",
              "    </tr>\n",
              "    <tr>\n",
              "      <th>2</th>\n",
              "      <td>a</td>\n",
              "      <td>24.50</td>\n",
              "      <td>0.500</td>\n",
              "      <td>u</td>\n",
              "      <td>g</td>\n",
              "      <td>q</td>\n",
              "      <td>h</td>\n",
              "      <td>1.50</td>\n",
              "      <td>t</td>\n",
              "      <td>f</td>\n",
              "      <td>0</td>\n",
              "      <td>f</td>\n",
              "      <td>g</td>\n",
              "      <td>00280</td>\n",
              "      <td>824</td>\n",
              "      <td>+</td>\n",
              "    </tr>\n",
              "    <tr>\n",
              "      <th>3</th>\n",
              "      <td>b</td>\n",
              "      <td>27.83</td>\n",
              "      <td>1.540</td>\n",
              "      <td>u</td>\n",
              "      <td>g</td>\n",
              "      <td>w</td>\n",
              "      <td>v</td>\n",
              "      <td>3.75</td>\n",
              "      <td>t</td>\n",
              "      <td>t</td>\n",
              "      <td>5</td>\n",
              "      <td>t</td>\n",
              "      <td>g</td>\n",
              "      <td>00100</td>\n",
              "      <td>3</td>\n",
              "      <td>+</td>\n",
              "    </tr>\n",
              "    <tr>\n",
              "      <th>4</th>\n",
              "      <td>b</td>\n",
              "      <td>20.17</td>\n",
              "      <td>5.625</td>\n",
              "      <td>u</td>\n",
              "      <td>g</td>\n",
              "      <td>w</td>\n",
              "      <td>v</td>\n",
              "      <td>1.71</td>\n",
              "      <td>t</td>\n",
              "      <td>f</td>\n",
              "      <td>0</td>\n",
              "      <td>f</td>\n",
              "      <td>s</td>\n",
              "      <td>00120</td>\n",
              "      <td>0</td>\n",
              "      <td>+</td>\n",
              "    </tr>\n",
              "  </tbody>\n",
              "</table>\n",
              "</div>"
            ],
            "text/plain": [
              "  A0     A1     A2 A3 A4 A5 A6    A7 A8 A9  A10 A11 A12    A13  A14 A15\n",
              "0  b  30.83  0.000  u  g  w  v  1.25  t  t    1   f   g  00202    0   +\n",
              "1  a  58.67  4.460  u  g  q  h  3.04  t  t    6   f   g  00043  560   +\n",
              "2  a  24.50  0.500  u  g  q  h  1.50  t  f    0   f   g  00280  824   +\n",
              "3  b  27.83  1.540  u  g  w  v  3.75  t  t    5   t   g  00100    3   +\n",
              "4  b  20.17  5.625  u  g  w  v  1.71  t  f    0   f   s  00120    0   +"
            ]
          },
          "metadata": {
            "tags": []
          },
          "execution_count": 3
        }
      ]
    },
    {
      "cell_type": "code",
      "metadata": {
        "id": "wv05sZLFgSCd",
        "colab_type": "code",
        "colab": {},
        "outputId": "3ae56a22-ba8c-4faa-b5ed-ae1793740fbe"
      },
      "source": [
        "# 컬럼명 변경\n",
        "dataset.rename(columns={'A0':'Male','A1':'Age','A2':'Debt','A3':'Married','A4':'BankCustomer','A5':'EducationLevel','A6':'Ethnicity','A7':'YearsEmployed','A8':'PriorDefault',\n",
        "               'A9':'Employed','A10':'CreditScore','A11':'DriversLicense','A12':'Citizen','A13':'ZipCode','A14':'Income','A15':'Approved'}, inplace=True)\n",
        "dataset.sample(5)"
      ],
      "execution_count": 0,
      "outputs": [
        {
          "output_type": "execute_result",
          "data": {
            "text/html": [
              "<div>\n",
              "<style scoped>\n",
              "    .dataframe tbody tr th:only-of-type {\n",
              "        vertical-align: middle;\n",
              "    }\n",
              "\n",
              "    .dataframe tbody tr th {\n",
              "        vertical-align: top;\n",
              "    }\n",
              "\n",
              "    .dataframe thead th {\n",
              "        text-align: right;\n",
              "    }\n",
              "</style>\n",
              "<table border=\"1\" class=\"dataframe\">\n",
              "  <thead>\n",
              "    <tr style=\"text-align: right;\">\n",
              "      <th></th>\n",
              "      <th>Male</th>\n",
              "      <th>Age</th>\n",
              "      <th>Debt</th>\n",
              "      <th>Married</th>\n",
              "      <th>BankCustomer</th>\n",
              "      <th>EducationLevel</th>\n",
              "      <th>Ethnicity</th>\n",
              "      <th>YearsEmployed</th>\n",
              "      <th>PriorDefault</th>\n",
              "      <th>Employed</th>\n",
              "      <th>CreditScore</th>\n",
              "      <th>DriversLicense</th>\n",
              "      <th>Citizen</th>\n",
              "      <th>ZipCode</th>\n",
              "      <th>Income</th>\n",
              "      <th>Approved</th>\n",
              "    </tr>\n",
              "  </thead>\n",
              "  <tbody>\n",
              "    <tr>\n",
              "      <th>410</th>\n",
              "      <td>b</td>\n",
              "      <td>31.25</td>\n",
              "      <td>2.835</td>\n",
              "      <td>u</td>\n",
              "      <td>g</td>\n",
              "      <td>ff</td>\n",
              "      <td>ff</td>\n",
              "      <td>0.000</td>\n",
              "      <td>f</td>\n",
              "      <td>t</td>\n",
              "      <td>5</td>\n",
              "      <td>f</td>\n",
              "      <td>g</td>\n",
              "      <td>00176</td>\n",
              "      <td>146</td>\n",
              "      <td>-</td>\n",
              "    </tr>\n",
              "    <tr>\n",
              "      <th>488</th>\n",
              "      <td>b</td>\n",
              "      <td>18.83</td>\n",
              "      <td>3.540</td>\n",
              "      <td>y</td>\n",
              "      <td>p</td>\n",
              "      <td>ff</td>\n",
              "      <td>ff</td>\n",
              "      <td>0.000</td>\n",
              "      <td>f</td>\n",
              "      <td>f</td>\n",
              "      <td>0</td>\n",
              "      <td>t</td>\n",
              "      <td>g</td>\n",
              "      <td>00180</td>\n",
              "      <td>1</td>\n",
              "      <td>-</td>\n",
              "    </tr>\n",
              "    <tr>\n",
              "      <th>594</th>\n",
              "      <td>b</td>\n",
              "      <td>38.67</td>\n",
              "      <td>0.210</td>\n",
              "      <td>u</td>\n",
              "      <td>g</td>\n",
              "      <td>k</td>\n",
              "      <td>v</td>\n",
              "      <td>0.085</td>\n",
              "      <td>t</td>\n",
              "      <td>f</td>\n",
              "      <td>0</td>\n",
              "      <td>t</td>\n",
              "      <td>g</td>\n",
              "      <td>00280</td>\n",
              "      <td>0</td>\n",
              "      <td>+</td>\n",
              "    </tr>\n",
              "    <tr>\n",
              "      <th>201</th>\n",
              "      <td>a</td>\n",
              "      <td>41.33</td>\n",
              "      <td>1.000</td>\n",
              "      <td>u</td>\n",
              "      <td>g</td>\n",
              "      <td>i</td>\n",
              "      <td>bb</td>\n",
              "      <td>2.250</td>\n",
              "      <td>t</td>\n",
              "      <td>f</td>\n",
              "      <td>0</td>\n",
              "      <td>t</td>\n",
              "      <td>g</td>\n",
              "      <td>00000</td>\n",
              "      <td>300</td>\n",
              "      <td>+</td>\n",
              "    </tr>\n",
              "    <tr>\n",
              "      <th>555</th>\n",
              "      <td>b</td>\n",
              "      <td>41.92</td>\n",
              "      <td>0.420</td>\n",
              "      <td>u</td>\n",
              "      <td>g</td>\n",
              "      <td>c</td>\n",
              "      <td>h</td>\n",
              "      <td>0.210</td>\n",
              "      <td>t</td>\n",
              "      <td>t</td>\n",
              "      <td>6</td>\n",
              "      <td>f</td>\n",
              "      <td>g</td>\n",
              "      <td>00220</td>\n",
              "      <td>948</td>\n",
              "      <td>+</td>\n",
              "    </tr>\n",
              "  </tbody>\n",
              "</table>\n",
              "</div>"
            ],
            "text/plain": [
              "    Male    Age   Debt Married BankCustomer EducationLevel Ethnicity  \\\n",
              "410    b  31.25  2.835       u            g             ff        ff   \n",
              "488    b  18.83  3.540       y            p             ff        ff   \n",
              "594    b  38.67  0.210       u            g              k         v   \n",
              "201    a  41.33  1.000       u            g              i        bb   \n",
              "555    b  41.92  0.420       u            g              c         h   \n",
              "\n",
              "     YearsEmployed PriorDefault Employed  CreditScore DriversLicense Citizen  \\\n",
              "410          0.000            f        t            5              f       g   \n",
              "488          0.000            f        f            0              t       g   \n",
              "594          0.085            t        f            0              t       g   \n",
              "201          2.250            t        f            0              t       g   \n",
              "555          0.210            t        t            6              f       g   \n",
              "\n",
              "    ZipCode  Income Approved  \n",
              "410   00176     146        -  \n",
              "488   00180       1        -  \n",
              "594   00280       0        +  \n",
              "201   00000     300        +  \n",
              "555   00220     948        +  "
            ]
          },
          "metadata": {
            "tags": []
          },
          "execution_count": 4
        }
      ]
    },
    {
      "cell_type": "code",
      "metadata": {
        "id": "5yBFlO7TgSCh",
        "colab_type": "code",
        "colab": {},
        "outputId": "c0f93cc8-f16e-446c-8553-d4d659ed380b"
      },
      "source": [
        "# 변수 고유값 출력 - 군데군데 ? 마크가 들어가 있음\n",
        "for col in dataset.columns: \n",
        "    # Find the unique elements of an array. Returns the sorted unique elements of an array\n",
        "    uniq = np.unique(dataset[col].astype(str)) # data cast to string type\n",
        "    print('-' * 50)\n",
        "    print('# col {}, n_uniq {}, uniq {}, dtype {}'.format(col, len(dataset[col].unique()), dataset[col].unique(), dataset[col].dtype))"
      ],
      "execution_count": 0,
      "outputs": [
        {
          "output_type": "stream",
          "text": [
            "--------------------------------------------------\n",
            "# col Male, n_uniq 3, uniq ['b' 'a' '?'], dtype object\n",
            "--------------------------------------------------\n",
            "# col Age, n_uniq 350, uniq ['30.83' '58.67' '24.50' '27.83' '20.17' '32.08' '33.17' '22.92' '54.42'\n",
            " '42.50' '22.08' '29.92' '38.25' '48.08' '45.83' '36.67' '28.25' '23.25'\n",
            " '21.83' '19.17' '25.00' '47.75' '27.42' '41.17' '15.83' '47.00' '56.58'\n",
            " '57.42' '42.08' '29.25' '42.00' '49.50' '36.75' '22.58' '27.25' '23.00'\n",
            " '27.75' '54.58' '34.17' '28.92' '29.67' '39.58' '56.42' '54.33' '41.00'\n",
            " '31.92' '41.50' '23.92' '25.75' '26.00' '37.42' '34.92' '34.25' '23.33'\n",
            " '23.17' '44.33' '35.17' '43.25' '56.75' '31.67' '23.42' '20.42' '26.67'\n",
            " '36.00' '25.50' '19.42' '32.33' '34.83' '38.58' '44.25' '44.83' '20.67'\n",
            " '34.08' '21.67' '21.50' '49.58' '27.67' '39.83' '?' '37.17' '25.67'\n",
            " '34.00' '49.00' '62.50' '31.42' '52.33' '28.75' '28.58' '22.50' '28.50'\n",
            " '37.50' '35.25' '18.67' '54.83' '40.92' '19.75' '29.17' '24.58' '33.75'\n",
            " '25.42' '37.75' '52.50' '57.83' '20.75' '39.92' '24.75' '44.17' '23.50'\n",
            " '47.67' '22.75' '34.42' '28.42' '67.75' '47.42' '36.25' '32.67' '48.58'\n",
            " '33.58' '18.83' '26.92' '31.25' '56.50' '43.00' '22.33' '32.83' '40.33'\n",
            " '30.50' '52.83' '46.67' '58.33' '37.33' '23.08' '32.75' '68.67' '28.00'\n",
            " '44.00' '25.08' '32.00' '60.58' '40.83' '19.33' '41.33' '56.00' '49.83'\n",
            " '22.67' '27.00' '26.08' '18.42' '21.25' '57.08' '22.42' '48.75' '40.00'\n",
            " '40.58' '28.67' '33.08' '21.33' '41.75' '34.50' '48.17' '27.58' '24.08'\n",
            " '24.83' '36.33' '35.42' '71.58' '39.50' '39.33' '24.33' '60.08' '55.92'\n",
            " '53.92' '18.92' '50.08' '65.42' '17.58' '18.08' '19.67' '25.17' '33.50'\n",
            " '58.42' '26.17' '42.83' '38.17' '20.50' '48.25' '28.33' '18.75' '18.50'\n",
            " '45.00' '40.25' '41.42' '17.83' '18.17' '20.00' '52.17' '50.75' '17.08'\n",
            " '18.33' '59.67' '18.00' '37.58' '30.67' '18.58' '16.25' '21.17' '17.67'\n",
            " '16.50' '29.50' '21.75' '18.25' '35.75' '16.08' '69.17' '32.92' '16.33'\n",
            " '22.17' '57.58' '15.92' '31.75' '19.00' '17.50' '33.67' '30.17' '33.25'\n",
            " '25.25' '34.75' '47.33' '39.08' '42.75' '38.92' '62.75' '32.25' '26.75'\n",
            " '63.33' '30.75' '16.00' '19.50' '32.42' '30.25' '26.83' '16.92' '24.42'\n",
            " '39.42' '23.58' '21.42' '33.00' '26.33' '26.25' '28.17' '20.83' '43.17'\n",
            " '56.83' '15.17' '29.83' '31.00' '51.92' '69.50' '19.58' '22.25' '38.42'\n",
            " '26.58' '35.00' '29.42' '49.17' '51.83' '58.58' '53.33' '27.17' '25.92'\n",
            " '30.58' '17.25' '27.33' '36.50' '29.75' '52.42' '36.17' '34.58' '21.92'\n",
            " '36.58' '31.08' '30.42' '21.08' '17.42' '39.17' '26.50' '17.33' '23.75'\n",
            " '34.67' '74.83' '45.33' '47.25' '24.17' '39.25' '39.00' '64.08' '31.33'\n",
            " '21.00' '13.75' '46.00' '20.25' '60.92' '30.00' '22.83' '45.17' '41.58'\n",
            " '55.75' '25.33' '31.83' '33.92' '24.92' '80.25' '30.08' '48.33' '76.75'\n",
            " '51.33' '41.92' '29.58' '32.17' '51.42' '42.17' '43.08' '59.50' '65.17'\n",
            " '20.33' '48.50' '28.08' '73.42' '51.58' '38.67' '46.08' '20.08' '42.25'\n",
            " '16.17' '47.83' '22.00' '38.33' '25.58' '21.58' '36.08' '38.75' '35.58'\n",
            " '31.58' '15.75' '17.92' '30.33' '47.17' '25.83' '50.25' '36.42'], dtype object\n",
            "--------------------------------------------------\n",
            "# col Debt, n_uniq 215, uniq [ 0.     4.46   0.5    1.54   5.625  4.     1.04  11.585  4.915  0.83\n",
            "  1.835  6.     6.04  10.5    4.415  0.875  5.875  0.25   8.585 11.25\n",
            "  1.     8.    14.5    6.5    0.585 13.    18.5    8.5   14.79   9.79\n",
            "  7.585  5.125 10.75   1.5    1.585 11.75   9.415  9.17  15.     1.415\n",
            " 13.915 28.     6.75   2.04   0.665  2.5    3.    11.625  4.5   12.25\n",
            " 16.165  0.79   0.835  4.25   0.375 25.125  7.5    5.     7.     5.29\n",
            "  1.165  9.75  19.     3.5    0.625  2.21  12.75  15.5    1.375  3.54\n",
            " 11.     1.75  16.5   12.     2.25   0.75  12.5    1.25   1.125  7.04\n",
            " 10.335  6.21   6.665  9.     5.5    0.54   2.75   9.5   13.5    3.75\n",
            " 16.     0.29   1.665  7.54   0.46  10.    11.5    3.04   2.     0.08\n",
            "  1.71   3.25   2.54  13.585  8.665  9.25   8.17   2.335 19.5    5.665\n",
            "  4.625  0.205  0.96   4.04   5.04   3.165  7.625 10.04  10.25   2.125\n",
            "  9.335  6.625  2.71   9.625 12.54   9.54   8.46  13.75  21.    10.125\n",
            " 25.085  0.21  21.5   11.125 11.045  1.335  0.085  1.21   0.165  5.71\n",
            "  5.415 12.625  0.58   0.415  2.415  0.335  3.125 12.125  2.875 13.665\n",
            " 26.335 10.29   1.29  22.     0.125  1.085  4.085  4.71   6.165  4.585\n",
            " 11.46  14.585  0.17   1.625  2.085  5.085  8.125  2.835  1.79   0.705\n",
            "  2.165  2.29  18.125  3.085 11.665  4.125  1.08  13.335 11.835  4.79\n",
            "  9.96   7.08  25.21   0.67   3.79  22.29   3.335  0.42   1.46   0.04\n",
            " 12.33  12.335  0.915 14.    17.75  20.     5.25   4.165 10.915  4.75\n",
            " 10.415  7.835  0.71   2.46   9.585  3.625  2.665  5.835 12.835 10.665\n",
            "  7.25  10.21   3.29  10.085  3.375], dtype float64\n",
            "--------------------------------------------------\n",
            "# col Married, n_uniq 4, uniq ['u' 'y' '?' 'l'], dtype object\n",
            "--------------------------------------------------\n",
            "# col BankCustomer, n_uniq 4, uniq ['g' 'p' '?' 'gg'], dtype object\n",
            "--------------------------------------------------\n",
            "# col EducationLevel, n_uniq 15, uniq ['w' 'q' 'm' 'r' 'cc' 'k' 'c' 'd' 'x' 'i' 'e' 'aa' 'ff' 'j' '?'], dtype object\n",
            "--------------------------------------------------\n",
            "# col Ethnicity, n_uniq 10, uniq ['v' 'h' 'bb' 'ff' 'j' 'z' '?' 'o' 'dd' 'n'], dtype object\n",
            "--------------------------------------------------\n",
            "# col YearsEmployed, n_uniq 132, uniq [ 1.25   3.04   1.5    3.75   1.71   2.5    6.5    0.04   3.96   3.165\n",
            "  2.165  4.335  1.     5.     0.25   0.96   3.17   0.665  0.75   0.835\n",
            "  7.875  3.085  0.5    5.165 15.     7.     5.04   7.96   7.585  0.415\n",
            "  2.     1.835 14.415  4.5    5.335  8.625 28.5    2.625  0.125  6.04\n",
            "  3.5    0.165  0.875  1.75   0.     7.415  0.085  5.75   6.     3.\n",
            "  1.585  4.29   1.54   1.46   1.625 12.5   13.5   10.75   0.375  0.585\n",
            "  0.455  4.     8.5    9.46   2.25  10.     0.795  1.375  1.29  11.5\n",
            "  6.29  14.     0.335  1.21   7.375  7.5    3.25  13.     5.5    4.25\n",
            "  0.625  5.085  2.75   2.375  8.     1.085  2.54   4.165  1.665 11.\n",
            "  9.     1.335  1.415  1.96   2.585  5.125 15.5    0.71   5.665 18.\n",
            "  5.25   8.665  2.29  20.     2.46  13.875  2.085  4.58   2.71   2.04\n",
            "  0.29   4.75   0.46   0.21   0.54   3.335  2.335  1.165  2.415  2.79\n",
            "  4.625  1.04   6.75   1.875 16.    12.75   5.375  2.125 17.5    3.125\n",
            "  0.79   8.29 ], dtype float64\n",
            "--------------------------------------------------\n",
            "# col PriorDefault, n_uniq 2, uniq ['t' 'f'], dtype object\n",
            "--------------------------------------------------\n",
            "# col Employed, n_uniq 2, uniq ['t' 'f'], dtype object\n",
            "--------------------------------------------------\n",
            "# col CreditScore, n_uniq 23, uniq [ 1  6  0  5  7 10  3 17  2  9  8 15 11 12 40 23  4 20 67 14 16 13 19], dtype int64\n",
            "--------------------------------------------------\n",
            "# col DriversLicense, n_uniq 2, uniq ['f' 't'], dtype object\n",
            "--------------------------------------------------\n",
            "# col Citizen, n_uniq 3, uniq ['g' 's' 'p'], dtype object\n",
            "--------------------------------------------------\n",
            "# col ZipCode, n_uniq 171, uniq ['00202' '00043' '00280' '00100' '00120' '00360' '00164' '00080' '00180'\n",
            " '00052' '00128' '00260' '00000' '00320' '00396' '00096' '00200' '00300'\n",
            " '00145' '00500' '00168' '00434' '00583' '00030' '00240' '00070' '00455'\n",
            " '00311' '00216' '00491' '00400' '00239' '00160' '00711' '00250' '00520'\n",
            " '00515' '00420' '?' '00980' '00443' '00140' '00094' '00368' '00288'\n",
            " '00928' '00188' '00112' '00171' '00268' '00167' '00075' '00152' '00176'\n",
            " '00329' '00212' '00410' '00274' '00375' '00408' '00350' '00204' '00040'\n",
            " '00181' '00399' '00440' '00093' '00060' '00395' '00393' '00021' '00029'\n",
            " '00102' '00431' '00370' '00024' '00020' '00129' '00510' '00195' '00144'\n",
            " '00380' '00049' '00050' '00381' '00150' '00117' '00056' '00211' '00230'\n",
            " '00156' '00022' '00228' '00519' '00253' '00487' '00220' '00088' '00073'\n",
            " '00121' '00470' '00136' '00132' '00292' '00154' '00272' '00340' '00108'\n",
            " '00720' '00450' '00232' '00170' '01160' '00411' '00460' '00348' '00480'\n",
            " '00640' '00372' '00276' '00221' '00352' '00141' '00178' '00600' '00550'\n",
            " '02000' '00225' '00210' '00110' '00356' '00045' '00062' '00092' '00174'\n",
            " '00017' '00086' '00454' '00254' '00028' '00263' '00333' '00312' '00290'\n",
            " '00371' '00099' '00252' '00760' '00560' '00130' '00523' '00680' '00163'\n",
            " '00208' '00383' '00330' '00422' '00840' '00432' '00032' '00186' '00303'\n",
            " '00349' '00224' '00369' '00076' '00231' '00309' '00416' '00465' '00256'], dtype object\n",
            "--------------------------------------------------\n",
            "# col Income, n_uniq 240, uniq [     0    560    824      3  31285   1349    314   1442    200   2690\n",
            "    245   1208   1260     11  10000   5000   4000     35    713    551\n",
            "    500    300    221   2283    100     15    284   1236   5800    730\n",
            "    400  50000    456  15108   2954      2     20     27    225      1\n",
            "     38      5    130    147    210  11202   1332     50    258    567\n",
            "   1000   2510    809    610    150  51100    367    600    247    375\n",
            "    278    827   2072    582   2300   3065   2200      6   1602   2184\n",
            "   3376   2000   7544  10561    837  11177    639   2028   1065    540\n",
            "    158  15000   3000   3257   1655   1430      7    790    396    678\n",
            "   1187   6590    168   1270   1210    742   8851   7059   1704    857\n",
            "   6700   2503   9800    196     14  26726  18027     99    444   1200\n",
            "   2010     13    120     32    722     40    484    204     98   5552\n",
            "    105   2803    126      4     21    173     10     25     42 100000\n",
            "    113      8     44   2732    179     16   1062    251    228     67\n",
            "     12    122   4208   1300    112   1110   1004    286   4500   1212\n",
            "    195     87     17    184    140     18    146     22     55     70\n",
            "     60   1058    769   5200     19    316    350   3552    687   1950\n",
            "     53     41     33     80    351   2100    475    892   4607   2206\n",
            "   5860     28   1391   2279    591    960    690    234    800    990\n",
            "   2197     90    340    347    327   4071    109   1249    134   1344\n",
            "    321    948   2079   2384    458   5298    162   1583     58     59\n",
            "   1400   1465   8000   4700   1097   3290  13212   5777   5124     23\n",
            "   4159    918    768    283    108      9     68    587    141    501\n",
            "    160    390    154    117    246    237    364    537    394    750], dtype int64\n",
            "--------------------------------------------------\n",
            "# col Approved, n_uniq 2, uniq ['+' '-'], dtype object\n"
          ],
          "name": "stdout"
        }
      ]
    },
    {
      "cell_type": "code",
      "metadata": {
        "id": "J_UMiXcdgSCl",
        "colab_type": "code",
        "colab": {},
        "outputId": "a73a8be7-89fd-41c3-c38d-e8bb0a1a397f"
      },
      "source": [
        "# Replace Question Marks with NAN in Dataframe values\n",
        "dataset.replace('?',np.nan,inplace=True)\n",
        "dataset['Approved'].replace({'+': 1, '-': 0},inplace=True)\n",
        "print(dataset['Approved'].unique())"
      ],
      "execution_count": 0,
      "outputs": [
        {
          "output_type": "stream",
          "text": [
            "[1 0]\n"
          ],
          "name": "stdout"
        }
      ]
    },
    {
      "cell_type": "code",
      "metadata": {
        "id": "STMSR4fmgSCo",
        "colab_type": "code",
        "colab": {},
        "outputId": "0db0b994-5d33-4c05-baa1-49a28882cd06"
      },
      "source": [
        "# 연속형 변수로 변경\n",
        "change_col = ['Age', 'Debt', 'YearsEmployed', 'Income']\n",
        "\n",
        "for i in change_col:\n",
        "  dataset[i] = pd.to_numeric(dataset[i], errors='coerce')\n",
        "\n",
        "dataset.tail()"
      ],
      "execution_count": 0,
      "outputs": [
        {
          "output_type": "execute_result",
          "data": {
            "text/html": [
              "<div>\n",
              "<style scoped>\n",
              "    .dataframe tbody tr th:only-of-type {\n",
              "        vertical-align: middle;\n",
              "    }\n",
              "\n",
              "    .dataframe tbody tr th {\n",
              "        vertical-align: top;\n",
              "    }\n",
              "\n",
              "    .dataframe thead th {\n",
              "        text-align: right;\n",
              "    }\n",
              "</style>\n",
              "<table border=\"1\" class=\"dataframe\">\n",
              "  <thead>\n",
              "    <tr style=\"text-align: right;\">\n",
              "      <th></th>\n",
              "      <th>Male</th>\n",
              "      <th>Age</th>\n",
              "      <th>Debt</th>\n",
              "      <th>Married</th>\n",
              "      <th>BankCustomer</th>\n",
              "      <th>EducationLevel</th>\n",
              "      <th>Ethnicity</th>\n",
              "      <th>YearsEmployed</th>\n",
              "      <th>PriorDefault</th>\n",
              "      <th>Employed</th>\n",
              "      <th>CreditScore</th>\n",
              "      <th>DriversLicense</th>\n",
              "      <th>Citizen</th>\n",
              "      <th>ZipCode</th>\n",
              "      <th>Income</th>\n",
              "      <th>Approved</th>\n",
              "    </tr>\n",
              "  </thead>\n",
              "  <tbody>\n",
              "    <tr>\n",
              "      <th>685</th>\n",
              "      <td>b</td>\n",
              "      <td>21.08</td>\n",
              "      <td>10.085</td>\n",
              "      <td>y</td>\n",
              "      <td>p</td>\n",
              "      <td>e</td>\n",
              "      <td>h</td>\n",
              "      <td>1.25</td>\n",
              "      <td>f</td>\n",
              "      <td>f</td>\n",
              "      <td>0</td>\n",
              "      <td>f</td>\n",
              "      <td>g</td>\n",
              "      <td>00260</td>\n",
              "      <td>0</td>\n",
              "      <td>0</td>\n",
              "    </tr>\n",
              "    <tr>\n",
              "      <th>686</th>\n",
              "      <td>a</td>\n",
              "      <td>22.67</td>\n",
              "      <td>0.750</td>\n",
              "      <td>u</td>\n",
              "      <td>g</td>\n",
              "      <td>c</td>\n",
              "      <td>v</td>\n",
              "      <td>2.00</td>\n",
              "      <td>f</td>\n",
              "      <td>t</td>\n",
              "      <td>2</td>\n",
              "      <td>t</td>\n",
              "      <td>g</td>\n",
              "      <td>00200</td>\n",
              "      <td>394</td>\n",
              "      <td>0</td>\n",
              "    </tr>\n",
              "    <tr>\n",
              "      <th>687</th>\n",
              "      <td>a</td>\n",
              "      <td>25.25</td>\n",
              "      <td>13.500</td>\n",
              "      <td>y</td>\n",
              "      <td>p</td>\n",
              "      <td>ff</td>\n",
              "      <td>ff</td>\n",
              "      <td>2.00</td>\n",
              "      <td>f</td>\n",
              "      <td>t</td>\n",
              "      <td>1</td>\n",
              "      <td>t</td>\n",
              "      <td>g</td>\n",
              "      <td>00200</td>\n",
              "      <td>1</td>\n",
              "      <td>0</td>\n",
              "    </tr>\n",
              "    <tr>\n",
              "      <th>688</th>\n",
              "      <td>b</td>\n",
              "      <td>17.92</td>\n",
              "      <td>0.205</td>\n",
              "      <td>u</td>\n",
              "      <td>g</td>\n",
              "      <td>aa</td>\n",
              "      <td>v</td>\n",
              "      <td>0.04</td>\n",
              "      <td>f</td>\n",
              "      <td>f</td>\n",
              "      <td>0</td>\n",
              "      <td>f</td>\n",
              "      <td>g</td>\n",
              "      <td>00280</td>\n",
              "      <td>750</td>\n",
              "      <td>0</td>\n",
              "    </tr>\n",
              "    <tr>\n",
              "      <th>689</th>\n",
              "      <td>b</td>\n",
              "      <td>35.00</td>\n",
              "      <td>3.375</td>\n",
              "      <td>u</td>\n",
              "      <td>g</td>\n",
              "      <td>c</td>\n",
              "      <td>h</td>\n",
              "      <td>8.29</td>\n",
              "      <td>f</td>\n",
              "      <td>f</td>\n",
              "      <td>0</td>\n",
              "      <td>t</td>\n",
              "      <td>g</td>\n",
              "      <td>00000</td>\n",
              "      <td>0</td>\n",
              "      <td>0</td>\n",
              "    </tr>\n",
              "  </tbody>\n",
              "</table>\n",
              "</div>"
            ],
            "text/plain": [
              "    Male    Age    Debt Married BankCustomer EducationLevel Ethnicity  \\\n",
              "685    b  21.08  10.085       y            p              e         h   \n",
              "686    a  22.67   0.750       u            g              c         v   \n",
              "687    a  25.25  13.500       y            p             ff        ff   \n",
              "688    b  17.92   0.205       u            g             aa         v   \n",
              "689    b  35.00   3.375       u            g              c         h   \n",
              "\n",
              "     YearsEmployed PriorDefault Employed  CreditScore DriversLicense Citizen  \\\n",
              "685           1.25            f        f            0              f       g   \n",
              "686           2.00            f        t            2              t       g   \n",
              "687           2.00            f        t            1              t       g   \n",
              "688           0.04            f        f            0              f       g   \n",
              "689           8.29            f        f            0              t       g   \n",
              "\n",
              "    ZipCode  Income  Approved  \n",
              "685   00260       0         0  \n",
              "686   00200     394         0  \n",
              "687   00200       1         0  \n",
              "688   00280     750         0  \n",
              "689   00000       0         0  "
            ]
          },
          "metadata": {
            "tags": []
          },
          "execution_count": 7
        }
      ]
    },
    {
      "cell_type": "code",
      "metadata": {
        "id": "EQrYLfFWgSCs",
        "colab_type": "code",
        "colab": {},
        "outputId": "3e076ec4-59eb-4a66-c0bd-6d1a1dd66667"
      },
      "source": [
        "# Null값이 있는 컬럼 체크 후 Null 개수 출력\n",
        "for col in dataset:\n",
        "   if dataset[col].isnull().sum() > 0:\n",
        "      print(\"column: {:20} \\t # of null value {:3} \\t dtype {}\".format(col, dataset[col].isnull().sum(), dataset[col].dtype))"
      ],
      "execution_count": 0,
      "outputs": [
        {
          "output_type": "stream",
          "text": [
            "column: Male                 \t # of null value  12 \t dtype object\n",
            "column: Age                  \t # of null value  12 \t dtype float64\n",
            "column: Married              \t # of null value   6 \t dtype object\n",
            "column: BankCustomer         \t # of null value   6 \t dtype object\n",
            "column: EducationLevel       \t # of null value   9 \t dtype object\n",
            "column: Ethnicity            \t # of null value   9 \t dtype object\n",
            "column: ZipCode              \t # of null value  13 \t dtype object\n"
          ],
          "name": "stdout"
        }
      ]
    },
    {
      "cell_type": "code",
      "metadata": {
        "id": "w6CL6tDBgSCw",
        "colab_type": "code",
        "colab": {}
      },
      "source": [
        "# Missing Value 채우기 - 연속형 변수(중앙값)\n",
        "dataset[\"Age\"] = dataset[\"Age\"].fillna(dataset[\"Age\"].median())\n",
        "\n",
        "# Missing Value 채우기 - 범주형 변수(최빈값)\n",
        "null_cat_cols = ['Male', 'Married', 'BankCustomer', 'EducationLevel', 'Ethnicity', 'ZipCode']\n",
        "for col in null_cat_cols:\n",
        "  dataset[col].fillna(dataset[col].mode()[0], inplace = True)"
      ],
      "execution_count": 0,
      "outputs": []
    },
    {
      "cell_type": "code",
      "metadata": {
        "id": "MXLVxCQVgSCz",
        "colab_type": "code",
        "colab": {},
        "outputId": "790edaa2-3170-47b2-9c3c-d9ba64d2155f"
      },
      "source": [
        "# Double Check in Fill Null Values\n",
        "for col in dataset:\n",
        "  print(\"column: {:18} \\t # of null value {:3} \\t dtype {}\".format(col, dataset[col].isnull().sum(), dataset[col].dtype))"
      ],
      "execution_count": 0,
      "outputs": [
        {
          "output_type": "stream",
          "text": [
            "column: Male               \t # of null value   0 \t dtype object\n",
            "column: Age                \t # of null value   0 \t dtype float64\n",
            "column: Debt               \t # of null value   0 \t dtype float64\n",
            "column: Married            \t # of null value   0 \t dtype object\n",
            "column: BankCustomer       \t # of null value   0 \t dtype object\n",
            "column: EducationLevel     \t # of null value   0 \t dtype object\n",
            "column: Ethnicity          \t # of null value   0 \t dtype object\n",
            "column: YearsEmployed      \t # of null value   0 \t dtype float64\n",
            "column: PriorDefault       \t # of null value   0 \t dtype object\n",
            "column: Employed           \t # of null value   0 \t dtype object\n",
            "column: CreditScore        \t # of null value   0 \t dtype int64\n",
            "column: DriversLicense     \t # of null value   0 \t dtype object\n",
            "column: Citizen            \t # of null value   0 \t dtype object\n",
            "column: ZipCode            \t # of null value   0 \t dtype object\n",
            "column: Income             \t # of null value   0 \t dtype int64\n",
            "column: Approved           \t # of null value   0 \t dtype int64\n"
          ],
          "name": "stdout"
        }
      ]
    },
    {
      "cell_type": "code",
      "metadata": {
        "id": "Uah1-QyvgSC3",
        "colab_type": "code",
        "colab": {},
        "outputId": "9b266d79-cea8-4fbb-f54d-34f6ad93cd6b"
      },
      "source": [
        "# 수치형변수들과 Survived 변수의 상관관계 Matrix 시각화\n",
        "g = sns.heatmap(dataset.corr(),annot=True, fmt = \".2f\", cmap = \"coolwarm\")"
      ],
      "execution_count": 0,
      "outputs": [
        {
          "output_type": "display_data",
          "data": {
            "image/png": "[encoded data removed]",
            "text/plain": [
              "<matplotlib.figure.Figure at 0x1d6cf45cef0>"
            ]
          },
          "metadata": {
            "tags": []
          }
        }
      ]
    },
    {
      "cell_type": "code",
      "metadata": {
        "id": "v76AfgIhgSC_",
        "colab_type": "code",
        "colab": {},
        "outputId": "b2ea68c9-f634-4b17-f042-9564747b1bc4"
      },
      "source": [
        "# 변수별 변수 분포 그래프(left) & Box Plot(right)\n",
        "# Numeric value들을 가진 columns들 List로 만들고 1행당 그래프를 그린다\n",
        "# Plot distributions of Approval or Not Approval\n",
        "num_cols = ['Age', 'Debt', 'YearsEmployed', 'CreditScore', 'Income']\n",
        "\n",
        "for i in num_cols:\n",
        "  plt.figure(figsize = (12,4))\n",
        "  grid_size = (1,3)\n",
        "  \n",
        "  ax1 = plt.subplot2grid(grid_size, (0, 0), colspan=2)\n",
        "  ax2 = plt.subplot2grid(grid_size, (0, 2))\n",
        "  \n",
        "  g = sns.distplot(dataset[i][(dataset[\"Approved\"] == 0) & (dataset[i].notnull())], ax=ax1, kde=False, color=\"Red\")\n",
        "  g = sns.distplot(dataset[i][(dataset[\"Approved\"] == 1) & (dataset[i].notnull())], ax=g, kde=False, color=\"Blue\")\n",
        "  \n",
        "  g.set_title(i)\n",
        "  g = g.legend([\"Not Approved\",\"Approved\"])\n",
        " \n",
        "  sns.boxplot(y=dataset[i], x=dataset[\"Approved\"], showmeans = True, meanline = True, ax = ax2)\n",
        "\n",
        "  plt.show() "
      ],
      "execution_count": 0,
      "outputs": [
        {
          "output_type": "display_data",
          "data": {
            "image/png": "[encoded data removed]",
            "text/plain": [
              "<matplotlib.figure.Figure at 0x1d6cf92a6d8>"
            ]
          },
          "metadata": {
            "tags": []
          }
        },
        {
          "output_type": "display_data",
          "data": {
            "image/png": "[encoded data removed]",
            "text/plain": [
              "<matplotlib.figure.Figure at 0x1d6cf932c88>"
            ]
          },
          "metadata": {
            "tags": []
          }
        },
        {
          "output_type": "display_data",
          "data": {
            "image/png": "[encoded data removed]",
            "text/plain": [
              "<matplotlib.figure.Figure at 0x1d6cf95a080>"
            ]
          },
          "metadata": {
            "tags": []
          }
        },
        {
          "output_type": "display_data",
          "data": {
            "image/png": "[encoded data removed]",
            "text/plain": [
              "<matplotlib.figure.Figure at 0x1d6cfa490b8>"
            ]
          },
          "metadata": {
            "tags": []
          }
        },
        {
          "output_type": "display_data",
          "data": {
            "image/png": "[encoded data removed]",
            "text/plain": [
              "<matplotlib.figure.Figure at 0x1d6cfa69048>"
            ]
          },
          "metadata": {
            "tags": []
          }
        }
      ]
    },
    {
      "cell_type": "code",
      "metadata": {
        "id": "pzXqtYC-gSDE",
        "colab_type": "code",
        "colab": {},
        "outputId": "c4f8edb6-8e44-48cc-9123-6e58fddef5a0"
      },
      "source": [
        "# Feature Engineering의 일환으로 Log 값 취한 뒤 Normalization을 하여 변수명 + LN (lognorm)으로 열 추가 후 그래프 다시 그림\n",
        "num_cols = ['Age', 'Debt', 'YearsEmployed', 'CreditScore', 'Income']\n",
        "num_ln_cols = list(map(lambda x: str(x)+\"_LN\", num_cols))\n",
        "\n",
        "num_pipeline = Pipeline([\n",
        "        ('log_scaler', FunctionTransformer(np.log1p, validate=True)), # pipeline 내 log transformation을 위해 Function Transfomer 사용\n",
        "        ('normalizer', MinMaxScaler()),\n",
        "    ])\n",
        "\n",
        "piped_np = num_pipeline.fit_transform(dataset[num_cols])\n",
        "piped_df = pd.DataFrame(piped_np, columns=num_ln_cols)\n",
        "\n",
        "dataset_fe = pd.concat([dataset, piped_df], axis=1)\n",
        "dataset_fe.head()"
      ],
      "execution_count": 0,
      "outputs": [
        {
          "output_type": "execute_result",
          "data": {
            "text/html": [
              "<div>\n",
              "<style scoped>\n",
              "    .dataframe tbody tr th:only-of-type {\n",
              "        vertical-align: middle;\n",
              "    }\n",
              "\n",
              "    .dataframe tbody tr th {\n",
              "        vertical-align: top;\n",
              "    }\n",
              "\n",
              "    .dataframe thead th {\n",
              "        text-align: right;\n",
              "    }\n",
              "</style>\n",
              "<table border=\"1\" class=\"dataframe\">\n",
              "  <thead>\n",
              "    <tr style=\"text-align: right;\">\n",
              "      <th></th>\n",
              "      <th>Male</th>\n",
              "      <th>Age</th>\n",
              "      <th>Debt</th>\n",
              "      <th>Married</th>\n",
              "      <th>BankCustomer</th>\n",
              "      <th>EducationLevel</th>\n",
              "      <th>Ethnicity</th>\n",
              "      <th>YearsEmployed</th>\n",
              "      <th>PriorDefault</th>\n",
              "      <th>Employed</th>\n",
              "      <th>...</th>\n",
              "      <th>DriversLicense</th>\n",
              "      <th>Citizen</th>\n",
              "      <th>ZipCode</th>\n",
              "      <th>Income</th>\n",
              "      <th>Approved</th>\n",
              "      <th>Age_LN</th>\n",
              "      <th>Debt_LN</th>\n",
              "      <th>YearsEmployed_LN</th>\n",
              "      <th>CreditScore_LN</th>\n",
              "      <th>Income_LN</th>\n",
              "    </tr>\n",
              "  </thead>\n",
              "  <tbody>\n",
              "    <tr>\n",
              "      <th>0</th>\n",
              "      <td>b</td>\n",
              "      <td>30.83</td>\n",
              "      <td>0.000</td>\n",
              "      <td>u</td>\n",
              "      <td>g</td>\n",
              "      <td>w</td>\n",
              "      <td>v</td>\n",
              "      <td>1.25</td>\n",
              "      <td>t</td>\n",
              "      <td>t</td>\n",
              "      <td>...</td>\n",
              "      <td>f</td>\n",
              "      <td>g</td>\n",
              "      <td>00202</td>\n",
              "      <td>0</td>\n",
              "      <td>1</td>\n",
              "      <td>0.450783</td>\n",
              "      <td>0.000000</td>\n",
              "      <td>0.239609</td>\n",
              "      <td>0.164272</td>\n",
              "      <td>0.000000</td>\n",
              "    </tr>\n",
              "    <tr>\n",
              "      <th>1</th>\n",
              "      <td>a</td>\n",
              "      <td>58.67</td>\n",
              "      <td>4.460</td>\n",
              "      <td>u</td>\n",
              "      <td>g</td>\n",
              "      <td>q</td>\n",
              "      <td>h</td>\n",
              "      <td>3.04</td>\n",
              "      <td>t</td>\n",
              "      <td>t</td>\n",
              "      <td>...</td>\n",
              "      <td>f</td>\n",
              "      <td>g</td>\n",
              "      <td>00043</td>\n",
              "      <td>560</td>\n",
              "      <td>1</td>\n",
              "      <td>0.819080</td>\n",
              "      <td>0.504099</td>\n",
              "      <td>0.412554</td>\n",
              "      <td>0.461170</td>\n",
              "      <td>0.549792</td>\n",
              "    </tr>\n",
              "    <tr>\n",
              "      <th>2</th>\n",
              "      <td>a</td>\n",
              "      <td>24.50</td>\n",
              "      <td>0.500</td>\n",
              "      <td>u</td>\n",
              "      <td>g</td>\n",
              "      <td>q</td>\n",
              "      <td>h</td>\n",
              "      <td>1.50</td>\n",
              "      <td>t</td>\n",
              "      <td>f</td>\n",
              "      <td>...</td>\n",
              "      <td>f</td>\n",
              "      <td>g</td>\n",
              "      <td>00280</td>\n",
              "      <td>824</td>\n",
              "      <td>1</td>\n",
              "      <td>0.320834</td>\n",
              "      <td>0.120413</td>\n",
              "      <td>0.270740</td>\n",
              "      <td>0.000000</td>\n",
              "      <td>0.583290</td>\n",
              "    </tr>\n",
              "    <tr>\n",
              "      <th>3</th>\n",
              "      <td>b</td>\n",
              "      <td>27.83</td>\n",
              "      <td>1.540</td>\n",
              "      <td>u</td>\n",
              "      <td>g</td>\n",
              "      <td>w</td>\n",
              "      <td>v</td>\n",
              "      <td>3.75</td>\n",
              "      <td>t</td>\n",
              "      <td>t</td>\n",
              "      <td>...</td>\n",
              "      <td>t</td>\n",
              "      <td>g</td>\n",
              "      <td>00100</td>\n",
              "      <td>3</td>\n",
              "      <td>1</td>\n",
              "      <td>0.392767</td>\n",
              "      <td>0.276829</td>\n",
              "      <td>0.460392</td>\n",
              "      <td>0.424637</td>\n",
              "      <td>0.120412</td>\n",
              "    </tr>\n",
              "    <tr>\n",
              "      <th>4</th>\n",
              "      <td>b</td>\n",
              "      <td>20.17</td>\n",
              "      <td>5.625</td>\n",
              "      <td>u</td>\n",
              "      <td>g</td>\n",
              "      <td>w</td>\n",
              "      <td>v</td>\n",
              "      <td>1.71</td>\n",
              "      <td>t</td>\n",
              "      <td>f</td>\n",
              "      <td>...</td>\n",
              "      <td>f</td>\n",
              "      <td>s</td>\n",
              "      <td>00120</td>\n",
              "      <td>0</td>\n",
              "      <td>1</td>\n",
              "      <td>0.211771</td>\n",
              "      <td>0.561534</td>\n",
              "      <td>0.294573</td>\n",
              "      <td>0.000000</td>\n",
              "      <td>0.000000</td>\n",
              "    </tr>\n",
              "  </tbody>\n",
              "</table>\n",
              "<p>5 rows × 21 columns</p>\n",
              "</div>"
            ],
            "text/plain": [
              "  Male    Age   Debt Married BankCustomer EducationLevel Ethnicity  \\\n",
              "0    b  30.83  0.000       u            g              w         v   \n",
              "1    a  58.67  4.460       u            g              q         h   \n",
              "2    a  24.50  0.500       u            g              q         h   \n",
              "3    b  27.83  1.540       u            g              w         v   \n",
              "4    b  20.17  5.625       u            g              w         v   \n",
              "\n",
              "   YearsEmployed PriorDefault Employed    ...      DriversLicense Citizen  \\\n",
              "0           1.25            t        t    ...                   f       g   \n",
              "1           3.04            t        t    ...                   f       g   \n",
              "2           1.50            t        f    ...                   f       g   \n",
              "3           3.75            t        t    ...                   t       g   \n",
              "4           1.71            t        f    ...                   f       s   \n",
              "\n",
              "  ZipCode Income  Approved    Age_LN   Debt_LN  YearsEmployed_LN  \\\n",
              "0   00202      0         1  0.450783  0.000000          0.239609   \n",
              "1   00043    560         1  0.819080  0.504099          0.412554   \n",
              "2   00280    824         1  0.320834  0.120413          0.270740   \n",
              "3   00100      3         1  0.392767  0.276829          0.460392   \n",
              "4   00120      0         1  0.211771  0.561534          0.294573   \n",
              "\n",
              "   CreditScore_LN  Income_LN  \n",
              "0        0.164272   0.000000  \n",
              "1        0.461170   0.549792  \n",
              "2        0.000000   0.583290  \n",
              "3        0.424637   0.120412  \n",
              "4        0.000000   0.000000  \n",
              "\n",
              "[5 rows x 21 columns]"
            ]
          },
          "metadata": {
            "tags": []
          },
          "execution_count": 13
        }
      ]
    },
    {
      "cell_type": "code",
      "metadata": {
        "id": "CmabCKIkgSDH",
        "colab_type": "code",
        "colab": {},
        "outputId": "d92c1adb-f155-49a8-dec3-d9db71381326"
      },
      "source": [
        "num_ln_cols = ['Age_LN', 'Debt_LN', 'YearsEmployed_LN', 'CreditScore_LN', 'Income_LN']\n",
        "\n",
        "for i in num_ln_cols:\n",
        "  plt.figure(figsize = (12,4))\n",
        "  grid_size = (1,3)\n",
        "  \n",
        "  ax1 = plt.subplot2grid(grid_size, (0, 0), colspan=2)\n",
        "  ax2 = plt.subplot2grid(grid_size, (0, 2))\n",
        "  \n",
        "  g = sns.distplot(dataset_fe[i][(dataset_fe[\"Approved\"] == 0) & (dataset_fe[i].notnull())], ax=ax1, color=\"Red\", kde = False)\n",
        "  g = sns.distplot(dataset_fe[i][(dataset_fe[\"Approved\"] == 1) & (dataset_fe[i].notnull())], ax=g, color=\"Blue\", kde = False)\n",
        "  g.set_title(i)\n",
        "  g = g.legend([\"Not Approved\",\"Approved\"])\n",
        "  sns.boxplot(y=dataset_fe[i], x=dataset_fe[\"Approved\"], showmeans = True, meanline = True, ax = ax2)\n",
        "\n",
        "  plt.show()"
      ],
      "execution_count": 0,
      "outputs": [
        {
          "output_type": "display_data",
          "data": {
            "image/png": "[encoded data removed]",
            "text/plain": [
              "<matplotlib.figure.Figure at 0x1d6d0c28ac8>"
            ]
          },
          "metadata": {
            "tags": []
          }
        },
        {
          "output_type": "display_data",
          "data": {
            "image/png": "[encoded data removed]",
            "text/plain": [
              "<matplotlib.figure.Figure at 0x1d6d0d0fef0>"
            ]
          },
          "metadata": {
            "tags": []
          }
        },
        {
          "output_type": "display_data",
          "data": {
            "image/png": "[encoded data removed]",
            "text/plain": [
              "<matplotlib.figure.Figure at 0x1d6d0e34f98>"
            ]
          },
          "metadata": {
            "tags": []
          }
        },
        {
          "output_type": "display_data",
          "data": {
            "image/png": "[encoded data removed]",
            "text/plain": [
              "<matplotlib.figure.Figure at 0x1d6d0d8ff28>"
            ]
          },
          "metadata": {
            "tags": []
          }
        },
        {
          "output_type": "display_data",
          "data": {
            "image/png": "[encoded data removed]",
            "text/plain": [
              "<matplotlib.figure.Figure at 0x1d6cf873c50>"
            ]
          },
          "metadata": {
            "tags": []
          }
        }
      ]
    },
    {
      "cell_type": "code",
      "metadata": {
        "id": "4X12s6LCgSDM",
        "colab_type": "code",
        "colab": {},
        "outputId": "d08aaeef-fa1d-4990-e0a4-6f24988219ce"
      },
      "source": [
        "# 변수별 변수 분포 그래프\n",
        "# Categorical value들을 가진 columns들 List로 만들고 1행당 그래프를 그린다\n",
        "cat_cols = ['Male','Married','BankCustomer','EducationLevel','Ethnicity','PriorDefault','Employed','DriversLicense','Citizen','ZipCode']\n",
        "\n",
        "fig, saxis = plt.subplots(5,2,figsize=(16,16))\n",
        "\n",
        "for idx, col in enumerate(cat_cols):\n",
        "  g = sns.barplot(x=col, y='Approved', data=dataset_fe, ax = saxis[int(idx/2), idx%2])\n",
        "  g = g.legend([\"Not Approved\",\"Approved\"])\n",
        "\n",
        "plt.show()"
      ],
      "execution_count": 0,
      "outputs": [
        {
          "output_type": "display_data",
          "data": {
            "image/png": "[encoded data removed]",
            "text/plain": [
              "<matplotlib.figure.Figure at 0x1d6d0cc12b0>"
            ]
          },
          "metadata": {
            "tags": []
          }
        }
      ]
    },
    {
      "cell_type": "code",
      "metadata": {
        "id": "AyUpYnDrgSDQ",
        "colab_type": "code",
        "colab": {},
        "outputId": "aba95b72-cea9-4c74-c34a-7997ea32b16c"
      },
      "source": [
        "# Feature Engineering의 일환으로 ZipCode를 앞의 세자리로 나누어 하여 변수명 + group으로 열 추가 후 그래프 다시 그림\n",
        "dataset_fe['ZipCodeGroup'] = dataset_fe['ZipCode'].str[:3].astype('str',copy=False)\n",
        "\n",
        "plt.figure()\n",
        "g = sns.barplot(x=dataset_fe['ZipCodeGroup'], y='Approved', data=dataset_fe)\n",
        "g = g.legend([\"Not Approved\",\"Approved\"])\n",
        "plt.show()"
      ],
      "execution_count": 0,
      "outputs": [
        {
          "output_type": "display_data",
          "data": {
            "image/png": "[encoded data removed]",
            "text/plain": [
              "<matplotlib.figure.Figure at 0x1d6d0c20518>"
            ]
          },
          "metadata": {
            "tags": []
          }
        }
      ]
    },
    {
      "cell_type": "code",
      "metadata": {
        "id": "AskvHe-8gSDT",
        "colab_type": "code",
        "colab": {}
      },
      "source": [
        "# Select Drop Columns and Drop them\n",
        "drop_column = ['Age','Debt','YearsEmployed', 'CreditScore','Income', 'ZipCode']\n",
        "dataset_fe.drop(drop_column, axis=1, inplace = True)"
      ],
      "execution_count": 0,
      "outputs": []
    },
    {
      "cell_type": "code",
      "metadata": {
        "id": "h-B4XvXhgSDW",
        "colab_type": "code",
        "colab": {}
      },
      "source": [
        "# ZipCodeGroup을 범주형으로 변환\n",
        "dataset_fe['ZipCodeGroup'] = dataset_fe['ZipCodeGroup'].astype('str')"
      ],
      "execution_count": 0,
      "outputs": []
    },
    {
      "cell_type": "code",
      "metadata": {
        "id": "xg-MA9AygSDZ",
        "colab_type": "code",
        "colab": {},
        "outputId": "be1d2a31-a848-4b2c-8c8e-ca87f52607ec"
      },
      "source": [
        "# 컬럼 순서 변경\n",
        "cols = dataset_fe.columns.tolist()\n",
        "print(cols)\n",
        "cols = [col for col in dataset_fe if col != 'Approved']+['Approved']\n",
        "print(cols)\n",
        "dataset_fe = dataset_fe[cols]"
      ],
      "execution_count": 0,
      "outputs": [
        {
          "output_type": "stream",
          "text": [
            "['Male', 'Married', 'BankCustomer', 'EducationLevel', 'Ethnicity', 'PriorDefault', 'Employed', 'DriversLicense', 'Citizen', 'Approved', 'Age_LN', 'Debt_LN', 'YearsEmployed_LN', 'CreditScore_LN', 'Income_LN', 'ZipCodeGroup']\n",
            "['Male', 'Married', 'BankCustomer', 'EducationLevel', 'Ethnicity', 'PriorDefault', 'Employed', 'DriversLicense', 'Citizen', 'Age_LN', 'Debt_LN', 'YearsEmployed_LN', 'CreditScore_LN', 'Income_LN', 'ZipCodeGroup', 'Approved']\n"
          ],
          "name": "stdout"
        }
      ]
    },
    {
      "cell_type": "code",
      "metadata": {
        "id": "ZQ2rmu_mgSDd",
        "colab_type": "code",
        "colab": {}
      },
      "source": [
        "# 독립변수와 종속변수 분할\n",
        "X_train = dataset_fe.iloc[:, :-1]\n",
        "y_train = dataset_fe.iloc[:,-1:]\n",
        "\n",
        "# cross validation 10 회 시행 준비\n",
        "cv_split = ShuffleSplit(n_splits=10, test_size=.3, train_size =.6, random_state=42) # run model 10x with 60/30 split intentionally leaving out 10%"
      ],
      "execution_count": 0,
      "outputs": []
    },
    {
      "cell_type": "code",
      "metadata": {
        "id": "6WytWku3gSDh",
        "colab_type": "code",
        "colab": {},
        "outputId": "01c7e27f-9c8d-4223-993e-a23fe91737df"
      },
      "source": [
        "# Machine Learning 입력을 위한 변수 분리\n",
        "num_attribs = [col for col in X_train.columns if X_train[col].dtype in ['int64','float64']]\n",
        "cat_attribs = [col for col in X_train.columns if X_train[col].dtype not in ['int64','float64']]\n",
        "\n",
        "print(num_attribs,'\\n', cat_attribs)"
      ],
      "execution_count": 0,
      "outputs": [
        {
          "output_type": "stream",
          "text": [
            "['Age_LN', 'Debt_LN', 'YearsEmployed_LN', 'CreditScore_LN', 'Income_LN'] \n",
            " ['Male', 'Married', 'BankCustomer', 'EducationLevel', 'Ethnicity', 'PriorDefault', 'Employed', 'DriversLicense', 'Citizen', 'ZipCodeGroup']\n"
          ],
          "name": "stdout"
        }
      ]
    },
    {
      "cell_type": "code",
      "metadata": {
        "id": "z2RSGkD6gSDp",
        "colab_type": "code",
        "colab": {}
      },
      "source": [
        "# 범주형 변수 encoding\n",
        "label = LabelEncoder()\n",
        "for col in X_train[cat_attribs].columns:   \n",
        "  X_train[col] = label.fit_transform(X_train[col])\n",
        "  X_train = pd.get_dummies(X_train, columns =[col], prefix=col+\"_lb\")"
      ],
      "execution_count": 0,
      "outputs": []
    },
    {
      "cell_type": "code",
      "metadata": {
        "id": "X0RQ2A3ZgSDt",
        "colab_type": "code",
        "colab": {}
      },
      "source": [
        "verboseNo = 0"
      ],
      "execution_count": 0,
      "outputs": []
    },
    {
      "cell_type": "code",
      "metadata": {
        "id": "XYMwCWWSgSDv",
        "colab_type": "code",
        "colab": {},
        "outputId": "22488339-aca4-4577-bffe-48721c3a4779"
      },
      "source": [
        "# Hyperparameter Tunning - SVC Model\n",
        "svm_clf = svm.SVC(probability=True)\n",
        "param_grid = {'kernel':['linear','rbf'], 'gamma': [1,2,3,'auto'],'decision_function_shape':['ovo','ovr']\n",
        "              ,'shrinking':[True,False], 'random_state': [42]}\n",
        "grid_svm = GridSearchCV(svm_clf, param_grid = param_grid, cv=cv_split, scoring=\"f1\", n_jobs= -1, verbose = verboseNo)\n",
        "\n",
        "grid_svm.fit(X_train, y_train)\n",
        "grid_svm_best = grid_svm.best_estimator_\n",
        "print(grid_svm_best)"
      ],
      "execution_count": 0,
      "outputs": [
        {
          "output_type": "stream",
          "text": [
            "SVC(C=1.0, cache_size=200, class_weight=None, coef0=0.0,\n",
            "  decision_function_shape='ovo', degree=3, gamma='auto', kernel='rbf',\n",
            "  max_iter=-1, probability=True, random_state=42, shrinking=True,\n",
            "  tol=0.001, verbose=False)\n"
          ],
          "name": "stdout"
        }
      ]
    },
    {
      "cell_type": "code",
      "metadata": {
        "id": "zWPdSUUMgSDy",
        "colab_type": "code",
        "colab": {},
        "outputId": "86fcff53-2e3b-4e05-ddd8-c1cddb128efa"
      },
      "source": [
        "# Hyperparameter Tunning - Decision Tree Model\n",
        "dt_clf = tree.DecisionTreeClassifier(random_state=0)\n",
        "param_grid = [\n",
        "    {\"max_depth\": [None], \"max_features\": [10, 25, 50], \"min_samples_split\": [2, 3, 10], \n",
        "     \"min_samples_leaf\": [5, 10, 50, 100], \"criterion\": [\"gini\", \"entropy\"], 'random_state': [42]}\n",
        "]\n",
        "grid_dt = GridSearchCV(dt_clf, param_grid = param_grid, cv=cv_split, scoring=\"f1\", n_jobs= -1, verbose = verboseNo)\n",
        "grid_dt.fit(X_train, y_train)\n",
        "grid_dt_best = grid_dt.best_estimator_\n",
        "print(grid_dt_best)"
      ],
      "execution_count": 0,
      "outputs": [
        {
          "output_type": "stream",
          "text": [
            "DecisionTreeClassifier(class_weight=None, criterion='gini', max_depth=None,\n",
            "            max_features=50, max_leaf_nodes=None,\n",
            "            min_impurity_decrease=0.0, min_impurity_split=None,\n",
            "            min_samples_leaf=50, min_samples_split=2,\n",
            "            min_weight_fraction_leaf=0.0, presort=False, random_state=42,\n",
            "            splitter='best')\n"
          ],
          "name": "stdout"
        }
      ]
    },
    {
      "cell_type": "code",
      "metadata": {
        "id": "KaG6dfxhgSD1",
        "colab_type": "code",
        "colab": {},
        "outputId": "31ccef0f-b957-4955-e8a8-6abf823392ee"
      },
      "source": [
        "# Hyperparameter Tunning - Gradient boosting\n",
        "\n",
        "# Cross validate model with Kfold stratified cross val\n",
        "GB_clf = GradientBoostingClassifier()\n",
        "param_grid = {'loss' : [\"deviance\"],'n_estimators' : [50, 100, 200],'learning_rate': [0.25, 0.1, 0.05],\n",
        "              'max_depth': [2,4,6], 'min_samples_leaf': [2, 5, 10], 'max_features': [1, 0.5, 0.25, 0.1],\n",
        "             'random_state': [42]}\n",
        "\n",
        "grid_GBC = GridSearchCV(GB_clf,param_grid = param_grid, cv=cv_split, scoring=\"f1\", n_jobs= -1, verbose = verboseNo)\n",
        "grid_GBC.fit(X_train,y_train)\n",
        "grid_GBC_best = grid_GBC.best_estimator_\n",
        "print(grid_GBC_best)"
      ],
      "execution_count": 0,
      "outputs": [
        {
          "output_type": "stream",
          "text": [
            "GradientBoostingClassifier(criterion='friedman_mse', init=None,\n",
            "              learning_rate=0.05, loss='deviance', max_depth=2,\n",
            "              max_features=0.25, max_leaf_nodes=None,\n",
            "              min_impurity_decrease=0.0, min_impurity_split=None,\n",
            "              min_samples_leaf=2, min_samples_split=2,\n",
            "              min_weight_fraction_leaf=0.0, n_estimators=50,\n",
            "              n_iter_no_change=None, presort='auto', random_state=42,\n",
            "              subsample=1.0, tol=0.0001, validation_fraction=0.1,\n",
            "              verbose=0, warm_start=False)\n"
          ],
          "name": "stdout"
        }
      ]
    },
    {
      "cell_type": "code",
      "metadata": {
        "id": "SGJBHllwgSD5",
        "colab_type": "code",
        "colab": {},
        "outputId": "dbaef02e-fd4d-43bd-e4f0-db3dc277f76e"
      },
      "source": [
        "# Random Forest Test\n",
        "rf_clf = RandomForestClassifier(random_state=42)\n",
        "\n",
        "param_grid = [\n",
        "    {\"max_depth\": [None], \"max_features\": [1, 3, 10], \"min_samples_split\": [2, 3, 10], \"min_samples_leaf\": [1, 3, 10],\n",
        "     \"bootstrap\": [False, True], \"n_estimators\" :[200,300,400], \"criterion\": [\"gini\", \"entropy\"], 'random_state': [42]}\n",
        "]\n",
        "\n",
        "grid_forest = GridSearchCV(rf_clf, param_grid, verbose = verboseNo)\n",
        "grid_forest.fit(X_train, y_train)\n",
        "\n",
        "grid_rf_clf_best = grid_forest.best_estimator_\n",
        "print(grid_rf_clf_best)"
      ],
      "execution_count": 0,
      "outputs": [
        {
          "output_type": "stream",
          "text": [
            "RandomForestClassifier(bootstrap=False, class_weight=None,\n",
            "            criterion='entropy', max_depth=None, max_features=1,\n",
            "            max_leaf_nodes=None, min_impurity_decrease=0.0,\n",
            "            min_impurity_split=None, min_samples_leaf=3,\n",
            "            min_samples_split=2, min_weight_fraction_leaf=0.0,\n",
            "            n_estimators=400, n_jobs=None, oob_score=False,\n",
            "            random_state=42, verbose=0, warm_start=False)\n"
          ],
          "name": "stdout"
        }
      ]
    },
    {
      "cell_type": "code",
      "metadata": {
        "id": "FSqhh-S_gSD-",
        "colab_type": "code",
        "colab": {},
        "outputId": "c424368a-73d3-4743-94b0-4dce5e1da42e"
      },
      "source": [
        "# Hyperparameter Tunning - MLP(FeedForwardNetwork)\n",
        "\n",
        "def create_model(optimizer='adam'):\n",
        "  model = Sequential()\n",
        "  \n",
        "  # 첫 번째 Layer (Input layer)\n",
        "  model.add(Dense(input_dim=57, init='glorot_uniform', activation='relu', output_dim=256))\n",
        "  model.add(Dropout(0.3)) # 30% 정도를 Drop \n",
        "  \n",
        "  # 두 번째 Layer (Hidden layer 1)\n",
        "  model.add(Dense(output_dim=256, init='glorot_uniform', activation='relu'))\n",
        "  model.add(Dropout(0.3)) # 30% 정도를 Drop \n",
        "  \n",
        "  # 세 번째 Layer (Hidden layer 2)\n",
        "  model.add(Dense(output_dim=256, init='glorot_uniform', activation='relu'))\n",
        "  model.add(Dropout(0.3)) # 30% 정도를 Drop \n",
        "                      \n",
        "  # 네 번째 Layer (Hidden layer 3)\n",
        "  model.add(Dense(output_dim=256, init='glorot_uniform', activation='relu'))\n",
        "  model.add(Dropout(0.3)) # 30% 정도를 Drop \n",
        "  \n",
        "  # 다섯 번째 Layer (Output layer)\n",
        "  model.add(Dense(output_dim=1))\n",
        "  model.add(Activation(\"sigmoid\"))\n",
        "                      \n",
        "  # Cost function 및 Optimizer 설정 # binary class 분류이므로 binary_crossentropy 사용 # Adam optimizer 사용\n",
        "  model.compile(loss='binary_crossentropy', optimizer='adam', metrics=['accuracy'])\n",
        "  return model\n",
        "\n",
        "ffn_model = KerasClassifier(build_fn=create_model, epochs=10, batch_size=5, verbose=0)\n",
        "\n",
        "batch_size = [10, 20, 40, 60, 80, 100]\n",
        "epochs = [10, 50, 100]\n",
        "optimizer = ['rmsprop','adam']\n",
        "\n",
        "param_grid = dict(batch_size=batch_size, epochs=epochs, optimizer=optimizer)\n",
        "\n",
        "grid_mlp = GridSearchCV(estimator=ffn_model, param_grid=param_grid, scoring = 'accuracy')\n",
        "grid_mlp.fit(X_train,y_train)\n",
        "\n",
        "grid_mlp_best = grid_mlp.best_estimator_\n",
        "print(grid_mlp.best_params_)"
      ],
      "execution_count": 0,
      "outputs": [
        {
          "output_type": "stream",
          "text": [
            "{'optimizer': 'rmsprop', 'batch_size': 80, 'epochs': 10}\n"
          ],
          "name": "stdout"
        }
      ]
    },
    {
      "cell_type": "code",
      "metadata": {
        "id": "tdq2WR6VgSED",
        "colab_type": "code",
        "colab": {}
      },
      "source": [
        "# 모델평가를 위한 변수 세팅\n",
        "score_pram = ['accuracy', 'precision','recall','f1']\n",
        "\n",
        "#Create Table to Compare Canonical Models\n",
        "MA_Result_columns = ['ModelName','Dataset','Accuracy','Precision','Recall','F1']\n",
        "MA_compare = pd.DataFrame(columns = MA_Result_columns)\n",
        "\n",
        "#create table to compare Model predictions\n",
        "MA_predict = pd.DataFrame(dataset[\"Approved\"].values.reshape(-1,1))"
      ],
      "execution_count": 0,
      "outputs": []
    },
    {
      "cell_type": "code",
      "metadata": {
        "id": "T6QSegRVgSEG",
        "colab_type": "code",
        "colab": {}
      },
      "source": [
        "Canonical_Models = [svm.SVC(C=1.0, cache_size=200, class_weight=None, coef0=0.0,\n",
        "                            decision_function_shape='ovo', degree=3, gamma='auto', kernel='rbf',\n",
        "                            max_iter=-1, probability=True, random_state=42, shrinking=True, tol=0.001), \n",
        "                    tree.DecisionTreeClassifier(class_weight=None, criterion='gini', max_depth=None,\n",
        "                                                max_features=50, max_leaf_nodes=None, min_impurity_decrease=0.0, \n",
        "                                                min_impurity_split=None, min_samples_leaf=50, min_samples_split=2,\n",
        "                                                min_weight_fraction_leaf=0.0, presort=False, random_state=42, \n",
        "                                                splitter='best'),]"
      ],
      "execution_count": 0,
      "outputs": []
    },
    {
      "cell_type": "code",
      "metadata": {
        "id": "TMs7gtXvgSEI",
        "colab_type": "code",
        "colab": {}
      },
      "source": [
        "#index through MLA and save performance to table\n",
        "row_index = 0\n",
        "# 알고리즘을 하나씩 꺼내면서 loop\n",
        "for alg in Canonical_Models:\n",
        "    #알고리즘의 이름은 할당하고, [row_index, MLA Name]에 이름을 넣고, [row_index, MLA Parameters]에 알고리즘의 파라미터들을 할당\n",
        "    Model_Name = alg.__class__.__name__\n",
        "    \n",
        "    cv_results = cross_validate(alg, X_train, y_train, cv=10, scoring=score_pram, return_train_score=True)\n",
        "    \n",
        "    train_cnt = 0\n",
        "    test_cnt = 0\n",
        "    \n",
        "    for i in list(cv_results.keys()):\n",
        "      if(\"train\" in i and train_cnt == 0):\n",
        "        MA_compare.loc[row_index, 'ModelName'] = Model_Name\n",
        "        MA_compare.loc[row_index, 'Dataset'] = \"TrainSet\"\n",
        "        MA_compare.loc[row_index, 'Accuracy'] = format(cv_results['train_accuracy'].mean(), \"10.4f\")\n",
        "        MA_compare.loc[row_index, 'Precision'] = format(cv_results['train_precision'].mean(), \"10.4f\")\n",
        "        MA_compare.loc[row_index, 'Recall'] = format(cv_results['train_recall'].mean(), \"10.4f\")\n",
        "        MA_compare.loc[row_index, 'F1'] = format(cv_results['train_f1'].mean(), \"10.4f\")\n",
        "        row_index+=1\n",
        "        train_cnt+=1\n",
        "      elif(\"test\" in i and test_cnt ==0):\n",
        "        MA_compare.loc[row_index, 'ModelName'] = Model_Name\n",
        "        MA_compare.loc[row_index, 'Dataset'] = \"TestSet\"\n",
        "        MA_compare.loc[row_index, 'Accuracy'] = format(cv_results['test_accuracy'].mean(), \"10.4f\")\n",
        "        MA_compare.loc[row_index, 'Precision'] = format(cv_results['test_precision'].mean(), \"10.4f\")\n",
        "        MA_compare.loc[row_index, 'Recall'] = format(cv_results['test_recall'].mean(), \"10.4f\")\n",
        "        MA_compare.loc[row_index, 'F1'] = format(cv_results['test_f1'].mean(), \"10.4f\")\n",
        "        row_index+=1\n",
        "        test_cnt+=1\n",
        "    \n",
        "    alg.fit(X_train, y_train)\n",
        "    MA_predict[Model_Name] = alg.predict(X_train)"
      ],
      "execution_count": 0,
      "outputs": []
    },
    {
      "cell_type": "code",
      "metadata": {
        "id": "JQ7N39RcgSEL",
        "colab_type": "code",
        "colab": {}
      },
      "source": [
        "Committee_Models = [GradientBoostingClassifier(criterion='friedman_mse', init=None,learning_rate=0.05, loss='deviance', \n",
        "                                               max_depth=2,max_features=0.25, max_leaf_nodes=None, min_impurity_decrease=0.0,\n",
        "                                               min_impurity_split=None, min_samples_leaf=2, min_samples_split=2,\n",
        "                                               min_weight_fraction_leaf=0.0, n_estimators=50, n_iter_no_change=None, \n",
        "                                               presort='auto', random_state=42, subsample=1.0, tol=0.0001, \n",
        "                                               validation_fraction=0.1, verbose=0, warm_start=False),\n",
        "                    RandomForestClassifier(bootstrap=False, class_weight=None,criterion='entropy', max_depth=None, \n",
        "                                           max_features=1,max_leaf_nodes=None, min_impurity_decrease=0.0,\n",
        "                                           min_impurity_split=None, min_samples_leaf=3, min_samples_split=2, \n",
        "                                           min_weight_fraction_leaf=0.0, n_estimators=400, n_jobs=None, oob_score=False,\n",
        "                                           random_state=42, verbose=0, warm_start=False),]"
      ],
      "execution_count": 0,
      "outputs": []
    },
    {
      "cell_type": "code",
      "metadata": {
        "id": "-zrT4M_VgSEP",
        "colab_type": "code",
        "colab": {}
      },
      "source": [
        "for alg in Committee_Models:\n",
        "\n",
        "    #set name and parameters\n",
        "    #알고리즘의 이름은 할당하고, [row_index, MLA Name]에 이름을 넣고, [row_index, MLA Parameters]에 알고리즘의 파라미터들을 할당\n",
        "    Model_Name = alg.__class__.__name__\n",
        "    \n",
        "    cv_results = cross_validate(alg, X_train, y_train, cv=10, scoring=score_pram, return_train_score=True)\n",
        "    \n",
        "    train_cnt = 0\n",
        "    test_cnt = 0\n",
        "    \n",
        "    for i in list(cv_results.keys()):\n",
        "      if(\"train\" in i and train_cnt == 0):\n",
        "        MA_compare.loc[row_index, 'ModelName'] = Model_Name\n",
        "        MA_compare.loc[row_index, 'Dataset'] = \"TrainSet\"\n",
        "        MA_compare.loc[row_index, 'Accuracy'] = format(cv_results['train_accuracy'].mean(), \"10.4f\")\n",
        "        MA_compare.loc[row_index, 'Precision'] = format(cv_results['train_precision'].mean(), \"10.4f\")\n",
        "        MA_compare.loc[row_index, 'Recall'] = format(cv_results['train_recall'].mean(), \"10.4f\")\n",
        "        MA_compare.loc[row_index, 'F1'] = format(cv_results['train_f1'].mean(), \"10.4f\")\n",
        "        row_index+=1\n",
        "        train_cnt+=1\n",
        "      elif(\"test\" in i and test_cnt ==0):\n",
        "        MA_compare.loc[row_index, 'ModelName'] = Model_Name\n",
        "        MA_compare.loc[row_index, 'Dataset'] = \"TestSet\"\n",
        "        MA_compare.loc[row_index, 'Accuracy'] = format(cv_results['test_accuracy'].mean(), \"10.4f\")\n",
        "        MA_compare.loc[row_index, 'Precision'] = format(cv_results['test_precision'].mean(), \"10.4f\")\n",
        "        MA_compare.loc[row_index, 'Recall'] = format(cv_results['test_recall'].mean(), \"10.4f\")\n",
        "        MA_compare.loc[row_index, 'F1'] = format(cv_results['test_f1'].mean(), \"10.4f\")\n",
        "        row_index+=1\n",
        "        test_cnt+=1\n",
        "\n",
        "    alg.fit(X_train, y_train)\n",
        "    MA_predict[Model_Name] = alg.predict(X_train)"
      ],
      "execution_count": 0,
      "outputs": []
    },
    {
      "cell_type": "code",
      "metadata": {
        "id": "TgR17vcJgSER",
        "colab_type": "code",
        "colab": {}
      },
      "source": [
        "# Deep Learning 평가를 위한 평가 함수 정의\n",
        "from keras import backend as K\n",
        "\n",
        "def recall(y_target, y_pred):\n",
        "    # clip(t, clip_value_min, clip_value_max) : clip_value_min~clip_value_max 이외 가장자리를 깎아 낸다\n",
        "    # round : 반올림한다\n",
        "    y_target_yn = K.round(K.clip(y_target, 0, 1)) # 실제값을 0(Negative) 또는 1(Positive)로 설정한다\n",
        "    y_pred_yn = K.round(K.clip(y_pred, 0, 1)) # 예측값을 0(Negative) 또는 1(Positive)로 설정한다\n",
        "\n",
        "    # True Positive는 실제 값과 예측 값이 모두 1(Positive)인 경우이다\n",
        "    count_true_positive = K.sum(y_target_yn * y_pred_yn) \n",
        "\n",
        "    # (True Positive + False Negative) = 실제 값이 1(Positive) 전체\n",
        "    count_true_positive_false_negative = K.sum(y_target_yn)\n",
        "\n",
        "    # Recall =  (True Positive) / (True Positive + False Negative)\n",
        "    # K.epsilon()는 'divide by zero error' 예방차원에서 작은 수를 더한다\n",
        "    recall = count_true_positive / (count_true_positive_false_negative + K.epsilon())\n",
        "\n",
        "    # return a single tensor value\n",
        "    return recall\n",
        "\n",
        "\n",
        "def precision(y_target, y_pred):\n",
        "    # clip(t, clip_value_min, clip_value_max) : clip_value_min~clip_value_max 이외 가장자리를 깎아 낸다\n",
        "    # round : 반올림한다\n",
        "    y_pred_yn = K.round(K.clip(y_pred, 0, 1)) # 예측값을 0(Negative) 또는 1(Positive)로 설정한다\n",
        "    y_target_yn = K.round(K.clip(y_target, 0, 1)) # 실제값을 0(Negative) 또는 1(Positive)로 설정한다\n",
        "\n",
        "    # True Positive는 실제 값과 예측 값이 모두 1(Positive)인 경우이다\n",
        "    count_true_positive = K.sum(y_target_yn * y_pred_yn) \n",
        "\n",
        "    # (True Positive + False Positive) = 예측 값이 1(Positive) 전체\n",
        "    count_true_positive_false_positive = K.sum(y_pred_yn)\n",
        "\n",
        "    # Precision = (True Positive) / (True Positive + False Positive)\n",
        "    # K.epsilon()는 'divide by zero error' 예방차원에서 작은 수를 더한다\n",
        "    precision = count_true_positive / (count_true_positive_false_positive + K.epsilon())\n",
        "\n",
        "    # return a single tensor value\n",
        "    return precision\n",
        "\n",
        "\n",
        "def f1score(y_target, y_pred):\n",
        "    _recall = recall(y_target, y_pred)\n",
        "    _precision = precision(y_target, y_pred)\n",
        "    # K.epsilon()는 'divide by zero error' 예방차원에서 작은 수를 더한다\n",
        "    _f1score = ( 2 * _recall * _precision) / (_recall + _precision+ K.epsilon())\n",
        "    \n",
        "    # return a single tensor value\n",
        "    return _f1score"
      ],
      "execution_count": 0,
      "outputs": []
    },
    {
      "cell_type": "code",
      "metadata": {
        "scrolled": true,
        "id": "pZAnniHngSEV",
        "colab_type": "code",
        "colab": {}
      },
      "source": [
        "# MLP 시행\n",
        "train_cvscores = []\n",
        "test_cvscores = []\n",
        "\n",
        "fold_no = 0\n",
        "training_epochs = 10\n",
        "batch_size = 60\n",
        "optimizer = 'rmsprop'\n",
        "\n",
        "kfold = ShuffleSplit(n_splits=10, test_size = 0.3, train_size = 0.6, random_state =42)\n",
        "\n",
        "# glorot_uniform == Xavier Initialization, keras에서는 내부적으로 이미 제공\n",
        "\n",
        "for train, test in kfold.split(X_train, y_train):\n",
        "#   print(\"# No of Fold : \", fold_no)\n",
        "  ffn_model = Sequential()\n",
        "  \n",
        "  # 첫 번째 Layer (Input layer)\n",
        "  ffn_model.add(Dense(input_dim=57, init='glorot_uniform', activation='relu', output_dim=256))\n",
        "  ffn_model.add(Dropout(0.3)) # 30% 정도를 Drop \n",
        "  \n",
        "  # 두 번째 Layer (Hidden layer 1)\n",
        "  ffn_model.add(Dense(output_dim=256, init='glorot_uniform', activation='relu'))\n",
        "  ffn_model.add(Dropout(0.3)) # 30% 정도를 Drop \n",
        "  \n",
        "  # 세 번째 Layer (Hidden layer 2)\n",
        "  ffn_model.add(Dense(output_dim=256, init='glorot_uniform', activation='relu'))\n",
        "  ffn_model.add(Dropout(0.3)) # 30% 정도를 Drop \n",
        "                      \n",
        "  # 네 번째 Layer (Hidden layer 3)\n",
        "  ffn_model.add(Dense(output_dim=256, init='glorot_uniform', activation='relu'))\n",
        "  ffn_model.add(Dropout(0.3)) # 30% 정도를 Drop \n",
        "  \n",
        "  # 다섯 번째 Layer (Output layer)\n",
        "  ffn_model.add(Dense(output_dim=1))\n",
        "  ffn_model.add(Activation(\"sigmoid\"))\n",
        "                      \n",
        "  # Cost function 및 Optimizer 설정 # binary class 분류이므로 binary_crossentropy 사용 # Adam optimizer 사용\n",
        "  ffn_model.compile(loss='binary_crossentropy', optimizer=optimizer, metrics=['accuracy', precision, recall, f1score])\n",
        "                      \n",
        "  # model training\n",
        "  hist = ffn_model.fit(X_train.iloc[train], y_train.iloc[train], epochs=training_epochs, batch_size=batch_size, verbose=verboseNo)\n",
        "  train_scores = ffn_model.evaluate(X_train.iloc[train],y_train.iloc[train], verbose=verboseNo)\n",
        "  train_cvscores.append(train_scores)\n",
        "\n",
        "  test_scores = ffn_model.evaluate(X_train.iloc[test],y_train.iloc[test], verbose=verboseNo)  \n",
        "  test_cvscores.append(test_scores)\n",
        "  \n",
        "  fold_no += 1\n",
        "\n",
        "print(\"\\n ############## Summary Print ############### \\n\")\n",
        "print(\"train_cvscores : \", train_cvscores)\n",
        "# train_cvscores = np.array(train_cvscores)\n",
        "print(\"test_cvscores : \", test_cvscores)\n"
      ],
      "execution_count": 0,
      "outputs": []
    },
    {
      "cell_type": "code",
      "metadata": {
        "id": "56jrgftOgSEZ",
        "colab_type": "code",
        "colab": {}
      },
      "source": [
        "MA_compare.loc[row_index, 'ModelName'] = 'MLP(FFN)'\n",
        "MA_compare.loc[row_index, 'Dataset'] = \"TestSet\"\n",
        "MA_compare.loc[row_index, 'Accuracy'] = format(np.mean(test_cvscores, axis=0)[1], \"10.4f\")\n",
        "MA_compare.loc[row_index, 'Precision'] = format(np.mean(test_cvscores, axis=0)[2], \"10.4f\")\n",
        "MA_compare.loc[row_index, 'Recall'] = format(np.mean(test_cvscores, axis=0)[3], \"10.4f\")\n",
        "MA_compare.loc[row_index, 'F1'] = format(np.mean(test_cvscores, axis=0)[1], \"10.4f\")\n",
        "row_index+=1\n",
        "\n",
        "MA_compare.loc[row_index, 'ModelName'] = 'MLP(FFN)'\n",
        "MA_compare.loc[row_index, 'Dataset'] = \"TrainSet\"\n",
        "MA_compare.loc[row_index, 'Accuracy'] = format(np.mean(train_cvscores, axis=0)[1], \"10.4f\")\n",
        "MA_compare.loc[row_index, 'Precision'] = format(np.mean(train_cvscores, axis=0)[2], \"10.4f\")\n",
        "MA_compare.loc[row_index, 'Recall'] = format(np.mean(train_cvscores, axis=0)[3], \"10.4f\")\n",
        "MA_compare.loc[row_index, 'F1'] = format(np.mean(train_cvscores, axis=0)[4], \"10.4f\")\n",
        "row_index+=1"
      ],
      "execution_count": 0,
      "outputs": []
    },
    {
      "cell_type": "code",
      "metadata": {
        "scrolled": true,
        "id": "vfkLMLRxgSEh",
        "colab_type": "code",
        "colab": {},
        "outputId": "f408e3b1-75ca-4239-dc68-a51819cdf372"
      },
      "source": [
        "MA_compare"
      ],
      "execution_count": 0,
      "outputs": [
        {
          "output_type": "execute_result",
          "data": {
            "text/html": [
              "<div>\n",
              "<style scoped>\n",
              "    .dataframe tbody tr th:only-of-type {\n",
              "        vertical-align: middle;\n",
              "    }\n",
              "\n",
              "    .dataframe tbody tr th {\n",
              "        vertical-align: top;\n",
              "    }\n",
              "\n",
              "    .dataframe thead th {\n",
              "        text-align: right;\n",
              "    }\n",
              "</style>\n",
              "<table border=\"1\" class=\"dataframe\">\n",
              "  <thead>\n",
              "    <tr style=\"text-align: right;\">\n",
              "      <th></th>\n",
              "      <th>ModelName</th>\n",
              "      <th>Dataset</th>\n",
              "      <th>Accuracy</th>\n",
              "      <th>Precision</th>\n",
              "      <th>Recall</th>\n",
              "      <th>F1</th>\n",
              "    </tr>\n",
              "  </thead>\n",
              "  <tbody>\n",
              "    <tr>\n",
              "      <th>0</th>\n",
              "      <td>SVC</td>\n",
              "      <td>TestSet</td>\n",
              "      <td>0.8555</td>\n",
              "      <td>0.8568</td>\n",
              "      <td>0.9251</td>\n",
              "      <td>0.8712</td>\n",
              "    </tr>\n",
              "    <tr>\n",
              "      <th>1</th>\n",
              "      <td>SVC</td>\n",
              "      <td>TrainSet</td>\n",
              "      <td>0.8551</td>\n",
              "      <td>0.7880</td>\n",
              "      <td>0.9251</td>\n",
              "      <td>0.8506</td>\n",
              "    </tr>\n",
              "    <tr>\n",
              "      <th>2</th>\n",
              "      <td>DecisionTreeClassifier</td>\n",
              "      <td>TestSet</td>\n",
              "      <td>0.8090</td>\n",
              "      <td>0.8537</td>\n",
              "      <td>0.8176</td>\n",
              "      <td>0.8101</td>\n",
              "    </tr>\n",
              "    <tr>\n",
              "      <th>3</th>\n",
              "      <td>DecisionTreeClassifier</td>\n",
              "      <td>TrainSet</td>\n",
              "      <td>0.8609</td>\n",
              "      <td>0.8480</td>\n",
              "      <td>0.8378</td>\n",
              "      <td>0.8422</td>\n",
              "    </tr>\n",
              "    <tr>\n",
              "      <th>4</th>\n",
              "      <td>GradientBoostingClassifier</td>\n",
              "      <td>TestSet</td>\n",
              "      <td>0.8408</td>\n",
              "      <td>0.8649</td>\n",
              "      <td>0.8826</td>\n",
              "      <td>0.8500</td>\n",
              "    </tr>\n",
              "    <tr>\n",
              "      <th>5</th>\n",
              "      <td>GradientBoostingClassifier</td>\n",
              "      <td>TrainSet</td>\n",
              "      <td>0.8781</td>\n",
              "      <td>0.8390</td>\n",
              "      <td>0.8990</td>\n",
              "      <td>0.8678</td>\n",
              "    </tr>\n",
              "    <tr>\n",
              "      <th>6</th>\n",
              "      <td>RandomForestClassifier</td>\n",
              "      <td>TestSet</td>\n",
              "      <td>0.8565</td>\n",
              "      <td>0.9227</td>\n",
              "      <td>0.7556</td>\n",
              "      <td>0.8216</td>\n",
              "    </tr>\n",
              "    <tr>\n",
              "      <th>7</th>\n",
              "      <td>RandomForestClassifier</td>\n",
              "      <td>TrainSet</td>\n",
              "      <td>0.8934</td>\n",
              "      <td>0.9476</td>\n",
              "      <td>0.8049</td>\n",
              "      <td>0.8703</td>\n",
              "    </tr>\n",
              "    <tr>\n",
              "      <th>8</th>\n",
              "      <td>MLP(FFN)</td>\n",
              "      <td>TestSet</td>\n",
              "      <td>0.8628</td>\n",
              "      <td>0.8554</td>\n",
              "      <td>0.8440</td>\n",
              "      <td>0.8628</td>\n",
              "    </tr>\n",
              "    <tr>\n",
              "      <th>9</th>\n",
              "      <td>MLP(FFN)</td>\n",
              "      <td>TrainSet</td>\n",
              "      <td>0.9133</td>\n",
              "      <td>0.8919</td>\n",
              "      <td>0.9102</td>\n",
              "      <td>0.8969</td>\n",
              "    </tr>\n",
              "  </tbody>\n",
              "</table>\n",
              "</div>"
            ],
            "text/plain": [
              "                    ModelName   Dataset    Accuracy   Precision      Recall  \\\n",
              "0                         SVC   TestSet      0.8555      0.8568      0.9251   \n",
              "1                         SVC  TrainSet      0.8551      0.7880      0.9251   \n",
              "2      DecisionTreeClassifier   TestSet      0.8090      0.8537      0.8176   \n",
              "3      DecisionTreeClassifier  TrainSet      0.8609      0.8480      0.8378   \n",
              "4  GradientBoostingClassifier   TestSet      0.8408      0.8649      0.8826   \n",
              "5  GradientBoostingClassifier  TrainSet      0.8781      0.8390      0.8990   \n",
              "6      RandomForestClassifier   TestSet      0.8565      0.9227      0.7556   \n",
              "7      RandomForestClassifier  TrainSet      0.8934      0.9476      0.8049   \n",
              "8                    MLP(FFN)   TestSet      0.8628      0.8554      0.8440   \n",
              "9                    MLP(FFN)  TrainSet      0.9133      0.8919      0.9102   \n",
              "\n",
              "           F1  \n",
              "0      0.8712  \n",
              "1      0.8506  \n",
              "2      0.8101  \n",
              "3      0.8422  \n",
              "4      0.8500  \n",
              "5      0.8678  \n",
              "6      0.8216  \n",
              "7      0.8703  \n",
              "8      0.8628  \n",
              "9      0.8969  "
            ]
          },
          "metadata": {
            "tags": []
          },
          "execution_count": 39
        }
      ]
    }
  ]
}
